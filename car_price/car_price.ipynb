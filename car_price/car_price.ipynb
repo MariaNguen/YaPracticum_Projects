{
 "cells": [
  {
   "cell_type": "markdown",
   "metadata": {},
   "source": [
    "# Определение стоимости автомобилей"
   ]
  },
  {
   "cell_type": "markdown",
   "metadata": {},
   "source": [
    "Сервис по продаже автомобилей с пробегом «Не бит, не крашен» разрабатывает приложение для привлечения новых клиентов. В нём можно быстро узнать рыночную стоимость своего автомобиля. В вашем распоряжении исторические данные: технические характеристики, комплектации и цены автомобилей. Вам нужно построить модель для определения стоимости. \n",
    "\n",
    "Заказчику важны:\n",
    "\n",
    "- качество предсказания;\n",
    "- скорость предсказания;\n",
    "- время обучения."
   ]
  },
  {
   "cell_type": "markdown",
   "metadata": {},
   "source": [
    "## Подготовка данных"
   ]
  },
  {
   "cell_type": "markdown",
   "metadata": {},
   "source": [
    "### Загрузка и предварительное изучение данных"
   ]
  },
  {
   "cell_type": "code",
   "execution_count": 1,
   "metadata": {},
   "outputs": [],
   "source": [
    "import pandas as pd\n",
    "import matplotlib.pyplot as plt\n",
    "import seaborn as sns\n",
    "from sklearn.model_selection import train_test_split, GridSearchCV\n",
    "from sklearn.preprocessing import OneHotEncoder, OrdinalEncoder, StandardScaler\n",
    "from sklearn.linear_model import LinearRegression\n",
    "from sklearn.metrics import mean_squared_error\n",
    "from sklearn.preprocessing import StandardScaler\n",
    "import lightgbm as lgb\n",
    "from lightgbm import LGBMRegressor\n",
    "from sklearn.ensemble import RandomForestRegressor\n",
    "import numpy as np\n",
    "from sklearn.dummy import DummyRegressor"
   ]
  },
  {
   "cell_type": "code",
   "execution_count": 2,
   "metadata": {},
   "outputs": [],
   "source": [
    "def basic_data_info(data):\n",
    "    print('Первые пять строк:')\n",
    "    display(data.head())\n",
    "    print('\\nИнформация:')\n",
    "    print(data.info())\n",
    "    print('\\nНаличие пропусков:')\n",
    "    print(data.isna().sum())\n",
    "    print('\\nНаличие дубликатов:')\n",
    "    print(data.duplicated().sum())\n",
    "    print('\\nСтатистическое описание данных:')\n",
    "    print(data.describe())"
   ]
  },
  {
   "cell_type": "code",
   "execution_count": 3,
   "metadata": {},
   "outputs": [],
   "source": [
    "autos = pd.read_csv('/datasets/autos.csv')"
   ]
  },
  {
   "cell_type": "code",
   "execution_count": 4,
   "metadata": {},
   "outputs": [
    {
     "name": "stdout",
     "output_type": "stream",
     "text": [
      "Первые пять строк:\n"
     ]
    },
    {
     "data": {
      "text/html": [
       "<div>\n",
       "<style scoped>\n",
       "    .dataframe tbody tr th:only-of-type {\n",
       "        vertical-align: middle;\n",
       "    }\n",
       "\n",
       "    .dataframe tbody tr th {\n",
       "        vertical-align: top;\n",
       "    }\n",
       "\n",
       "    .dataframe thead th {\n",
       "        text-align: right;\n",
       "    }\n",
       "</style>\n",
       "<table border=\"1\" class=\"dataframe\">\n",
       "  <thead>\n",
       "    <tr style=\"text-align: right;\">\n",
       "      <th></th>\n",
       "      <th>DateCrawled</th>\n",
       "      <th>Price</th>\n",
       "      <th>VehicleType</th>\n",
       "      <th>RegistrationYear</th>\n",
       "      <th>Gearbox</th>\n",
       "      <th>Power</th>\n",
       "      <th>Model</th>\n",
       "      <th>Kilometer</th>\n",
       "      <th>RegistrationMonth</th>\n",
       "      <th>FuelType</th>\n",
       "      <th>Brand</th>\n",
       "      <th>Repaired</th>\n",
       "      <th>DateCreated</th>\n",
       "      <th>NumberOfPictures</th>\n",
       "      <th>PostalCode</th>\n",
       "      <th>LastSeen</th>\n",
       "    </tr>\n",
       "  </thead>\n",
       "  <tbody>\n",
       "    <tr>\n",
       "      <th>0</th>\n",
       "      <td>2016-03-24 11:52:17</td>\n",
       "      <td>480</td>\n",
       "      <td>NaN</td>\n",
       "      <td>1993</td>\n",
       "      <td>manual</td>\n",
       "      <td>0</td>\n",
       "      <td>golf</td>\n",
       "      <td>150000</td>\n",
       "      <td>0</td>\n",
       "      <td>petrol</td>\n",
       "      <td>volkswagen</td>\n",
       "      <td>NaN</td>\n",
       "      <td>2016-03-24 00:00:00</td>\n",
       "      <td>0</td>\n",
       "      <td>70435</td>\n",
       "      <td>2016-04-07 03:16:57</td>\n",
       "    </tr>\n",
       "    <tr>\n",
       "      <th>1</th>\n",
       "      <td>2016-03-24 10:58:45</td>\n",
       "      <td>18300</td>\n",
       "      <td>coupe</td>\n",
       "      <td>2011</td>\n",
       "      <td>manual</td>\n",
       "      <td>190</td>\n",
       "      <td>NaN</td>\n",
       "      <td>125000</td>\n",
       "      <td>5</td>\n",
       "      <td>gasoline</td>\n",
       "      <td>audi</td>\n",
       "      <td>yes</td>\n",
       "      <td>2016-03-24 00:00:00</td>\n",
       "      <td>0</td>\n",
       "      <td>66954</td>\n",
       "      <td>2016-04-07 01:46:50</td>\n",
       "    </tr>\n",
       "    <tr>\n",
       "      <th>2</th>\n",
       "      <td>2016-03-14 12:52:21</td>\n",
       "      <td>9800</td>\n",
       "      <td>suv</td>\n",
       "      <td>2004</td>\n",
       "      <td>auto</td>\n",
       "      <td>163</td>\n",
       "      <td>grand</td>\n",
       "      <td>125000</td>\n",
       "      <td>8</td>\n",
       "      <td>gasoline</td>\n",
       "      <td>jeep</td>\n",
       "      <td>NaN</td>\n",
       "      <td>2016-03-14 00:00:00</td>\n",
       "      <td>0</td>\n",
       "      <td>90480</td>\n",
       "      <td>2016-04-05 12:47:46</td>\n",
       "    </tr>\n",
       "    <tr>\n",
       "      <th>3</th>\n",
       "      <td>2016-03-17 16:54:04</td>\n",
       "      <td>1500</td>\n",
       "      <td>small</td>\n",
       "      <td>2001</td>\n",
       "      <td>manual</td>\n",
       "      <td>75</td>\n",
       "      <td>golf</td>\n",
       "      <td>150000</td>\n",
       "      <td>6</td>\n",
       "      <td>petrol</td>\n",
       "      <td>volkswagen</td>\n",
       "      <td>no</td>\n",
       "      <td>2016-03-17 00:00:00</td>\n",
       "      <td>0</td>\n",
       "      <td>91074</td>\n",
       "      <td>2016-03-17 17:40:17</td>\n",
       "    </tr>\n",
       "    <tr>\n",
       "      <th>4</th>\n",
       "      <td>2016-03-31 17:25:20</td>\n",
       "      <td>3600</td>\n",
       "      <td>small</td>\n",
       "      <td>2008</td>\n",
       "      <td>manual</td>\n",
       "      <td>69</td>\n",
       "      <td>fabia</td>\n",
       "      <td>90000</td>\n",
       "      <td>7</td>\n",
       "      <td>gasoline</td>\n",
       "      <td>skoda</td>\n",
       "      <td>no</td>\n",
       "      <td>2016-03-31 00:00:00</td>\n",
       "      <td>0</td>\n",
       "      <td>60437</td>\n",
       "      <td>2016-04-06 10:17:21</td>\n",
       "    </tr>\n",
       "  </tbody>\n",
       "</table>\n",
       "</div>"
      ],
      "text/plain": [
       "           DateCrawled  Price VehicleType  RegistrationYear Gearbox  Power  \\\n",
       "0  2016-03-24 11:52:17    480         NaN              1993  manual      0   \n",
       "1  2016-03-24 10:58:45  18300       coupe              2011  manual    190   \n",
       "2  2016-03-14 12:52:21   9800         suv              2004    auto    163   \n",
       "3  2016-03-17 16:54:04   1500       small              2001  manual     75   \n",
       "4  2016-03-31 17:25:20   3600       small              2008  manual     69   \n",
       "\n",
       "   Model  Kilometer  RegistrationMonth  FuelType       Brand Repaired  \\\n",
       "0   golf     150000                  0    petrol  volkswagen      NaN   \n",
       "1    NaN     125000                  5  gasoline        audi      yes   \n",
       "2  grand     125000                  8  gasoline        jeep      NaN   \n",
       "3   golf     150000                  6    petrol  volkswagen       no   \n",
       "4  fabia      90000                  7  gasoline       skoda       no   \n",
       "\n",
       "           DateCreated  NumberOfPictures  PostalCode             LastSeen  \n",
       "0  2016-03-24 00:00:00                 0       70435  2016-04-07 03:16:57  \n",
       "1  2016-03-24 00:00:00                 0       66954  2016-04-07 01:46:50  \n",
       "2  2016-03-14 00:00:00                 0       90480  2016-04-05 12:47:46  \n",
       "3  2016-03-17 00:00:00                 0       91074  2016-03-17 17:40:17  \n",
       "4  2016-03-31 00:00:00                 0       60437  2016-04-06 10:17:21  "
      ]
     },
     "metadata": {},
     "output_type": "display_data"
    },
    {
     "name": "stdout",
     "output_type": "stream",
     "text": [
      "\n",
      "Информация:\n",
      "<class 'pandas.core.frame.DataFrame'>\n",
      "RangeIndex: 354369 entries, 0 to 354368\n",
      "Data columns (total 16 columns):\n",
      " #   Column             Non-Null Count   Dtype \n",
      "---  ------             --------------   ----- \n",
      " 0   DateCrawled        354369 non-null  object\n",
      " 1   Price              354369 non-null  int64 \n",
      " 2   VehicleType        316879 non-null  object\n",
      " 3   RegistrationYear   354369 non-null  int64 \n",
      " 4   Gearbox            334536 non-null  object\n",
      " 5   Power              354369 non-null  int64 \n",
      " 6   Model              334664 non-null  object\n",
      " 7   Kilometer          354369 non-null  int64 \n",
      " 8   RegistrationMonth  354369 non-null  int64 \n",
      " 9   FuelType           321474 non-null  object\n",
      " 10  Brand              354369 non-null  object\n",
      " 11  Repaired           283215 non-null  object\n",
      " 12  DateCreated        354369 non-null  object\n",
      " 13  NumberOfPictures   354369 non-null  int64 \n",
      " 14  PostalCode         354369 non-null  int64 \n",
      " 15  LastSeen           354369 non-null  object\n",
      "dtypes: int64(7), object(9)\n",
      "memory usage: 43.3+ MB\n",
      "None\n",
      "\n",
      "Наличие пропусков:\n",
      "DateCrawled              0\n",
      "Price                    0\n",
      "VehicleType          37490\n",
      "RegistrationYear         0\n",
      "Gearbox              19833\n",
      "Power                    0\n",
      "Model                19705\n",
      "Kilometer                0\n",
      "RegistrationMonth        0\n",
      "FuelType             32895\n",
      "Brand                    0\n",
      "Repaired             71154\n",
      "DateCreated              0\n",
      "NumberOfPictures         0\n",
      "PostalCode               0\n",
      "LastSeen                 0\n",
      "dtype: int64\n",
      "\n",
      "Наличие дубликатов:\n",
      "4\n",
      "\n",
      "Статистическое описание данных:\n",
      "               Price  RegistrationYear          Power      Kilometer  \\\n",
      "count  354369.000000     354369.000000  354369.000000  354369.000000   \n",
      "mean     4416.656776       2004.234448     110.094337  128211.172535   \n",
      "std      4514.158514         90.227958     189.850405   37905.341530   \n",
      "min         0.000000       1000.000000       0.000000    5000.000000   \n",
      "25%      1050.000000       1999.000000      69.000000  125000.000000   \n",
      "50%      2700.000000       2003.000000     105.000000  150000.000000   \n",
      "75%      6400.000000       2008.000000     143.000000  150000.000000   \n",
      "max     20000.000000       9999.000000   20000.000000  150000.000000   \n",
      "\n",
      "       RegistrationMonth  NumberOfPictures     PostalCode  \n",
      "count      354369.000000          354369.0  354369.000000  \n",
      "mean            5.714645               0.0   50508.689087  \n",
      "std             3.726421               0.0   25783.096248  \n",
      "min             0.000000               0.0    1067.000000  \n",
      "25%             3.000000               0.0   30165.000000  \n",
      "50%             6.000000               0.0   49413.000000  \n",
      "75%             9.000000               0.0   71083.000000  \n",
      "max            12.000000               0.0   99998.000000  \n"
     ]
    }
   ],
   "source": [
    "basic_data_info(autos)"
   ]
  },
  {
   "cell_type": "markdown",
   "metadata": {},
   "source": [
    "Мы загрузили данные в датафрейм `autos`. Датафрейм содержит 354369 строк-наблюдений. В данных 16 колонок:\n",
    "\n",
    "- `DateCrawled`: строковые данные, пропусков нет.\n",
    "- `Price`: целочисленные данные типа `int64`, пропусков нет. \n",
    "- `VehicleType`: строковые данные, 37490 пропусков.\n",
    "- `RegistrationYear`: целочисленные данные типа `int64`, пропусков нет. \n",
    "- `Gearbox`: строковые данные, 19833 пропусков.\n",
    "- `Power`: целочисленные данные типа `int64`, пропусков нет. \n",
    "- `Model`:  строковые даннеы, 19705 пропусков.\n",
    "- `Kilometer`: целочисленные данные типа `int64`, пропусков нет. \n",
    "- `RegistrationMonth`: целочисленные данные типа `int64`, пропусков нет. \n",
    "- `FuelType`: строковые данные, 32895 пропусков.\n",
    "- `Brand`: строковые данные, пропусков нет.\n",
    "- `Repaired`: строковые данные, 71154 пропусков.\n",
    "- `DateCreated`: строковые данные, пропусков нет.\n",
    "- `NumberOfPictures`: целочисленные данные типа `int64`, пропусков нет. \n",
    "- `PostalCode`: целочисленные данные типа `int64`, пропусков нет.\n",
    "\n",
    "В данных имеется 4 строки-дубликата."
   ]
  },
  {
   "cell_type": "markdown",
   "metadata": {},
   "source": [
    "### Предобработка данных"
   ]
  },
  {
   "cell_type": "markdown",
   "metadata": {},
   "source": [
    "#### Обработка дубликатов\n",
    "Было обнаружено, что в данных имеется 4 строки-дубликата. Предлагается удалить эти строки."
   ]
  },
  {
   "cell_type": "code",
   "execution_count": 5,
   "metadata": {},
   "outputs": [],
   "source": [
    "autos = autos.drop_duplicates(ignore_index=True)"
   ]
  },
  {
   "cell_type": "code",
   "execution_count": 6,
   "metadata": {
    "scrolled": true
   },
   "outputs": [
    {
     "data": {
      "text/plain": [
       "(354365, 16)"
      ]
     },
     "execution_count": 6,
     "metadata": {},
     "output_type": "execute_result"
    }
   ],
   "source": [
    "autos.shape"
   ]
  },
  {
   "cell_type": "markdown",
   "metadata": {},
   "source": [
    "#### Обработка пропусков"
   ]
  },
  {
   "cell_type": "code",
   "execution_count": 7,
   "metadata": {},
   "outputs": [
    {
     "name": "stdout",
     "output_type": "stream",
     "text": [
      "Относительная частота пропусков в каждом столбце:\n"
     ]
    },
    {
     "data": {
      "text/plain": [
       "Repaired             20.079297\n",
       "VehicleType          10.579487\n",
       "FuelType              9.282802\n",
       "Gearbox               5.596772\n",
       "Model                 5.560651\n",
       "DateCrawled           0.000000\n",
       "Price                 0.000000\n",
       "RegistrationYear      0.000000\n",
       "Power                 0.000000\n",
       "Kilometer             0.000000\n",
       "RegistrationMonth     0.000000\n",
       "Brand                 0.000000\n",
       "DateCreated           0.000000\n",
       "NumberOfPictures      0.000000\n",
       "PostalCode            0.000000\n",
       "LastSeen              0.000000\n",
       "dtype: float64"
      ]
     },
     "execution_count": 7,
     "metadata": {},
     "output_type": "execute_result"
    }
   ],
   "source": [
    "print('Относительная частота пропусков в каждом столбце:')\n",
    "(autos.isna().mean() * 100).sort_values(ascending=False)"
   ]
  },
  {
   "cell_type": "markdown",
   "metadata": {},
   "source": [
    "##### Признак `Repaired`\n",
    "В колонке `Repaired` пропущено 20% данных. Признак является категориальным, машина либо была в ремонте, либо не была."
   ]
  },
  {
   "cell_type": "code",
   "execution_count": 8,
   "metadata": {},
   "outputs": [
    {
     "data": {
      "text/plain": [
       "no     247158\n",
       "yes     36053\n",
       "Name: Repaired, dtype: int64"
      ]
     },
     "execution_count": 8,
     "metadata": {},
     "output_type": "execute_result"
    }
   ],
   "source": [
    "autos['Repaired'].value_counts()"
   ]
  },
  {
   "cell_type": "markdown",
   "metadata": {},
   "source": [
    "Если информация о машинах заполнялась вручную, но причиной пропуска может быть человеческий фактор: если машина не была в ремонте, то люди могли ничего не отмечать в соответствующей колонке, т.е. тогда пропуск можно приравнять к значению `no`."
   ]
  },
  {
   "cell_type": "code",
   "execution_count": 9,
   "metadata": {},
   "outputs": [
    {
     "data": {
      "image/png": "[encoded data removed]",
      "text/plain": [
       "<Figure size 1080x576 with 1 Axes>"
      ]
     },
     "metadata": {
      "needs_background": "light"
     },
     "output_type": "display_data"
    }
   ],
   "source": [
    "fig, ax = plt.subplots(figsize=(15, 8))\n",
    "autos[autos['Repaired'].isna()]['Price'].hist()\n",
    "autos[autos['Repaired'] == 'no']['Price'].hist(alpha=0.5)\n",
    "autos[autos['Repaired'] == 'yes']['Price'].hist(alpha=0.5)\n",
    "plt.title('Распределение цен автомобилей в зависимости от значения признака Repaired')\n",
    "plt.xlabel('Цена автомобиля')\n",
    "plt.ylabel('Количество автомобилей')\n",
    "plt.show()"
   ]
  },
  {
   "cell_type": "code",
   "execution_count": 10,
   "metadata": {},
   "outputs": [
    {
     "data": {
      "text/plain": [
       "2626.4192455800094"
      ]
     },
     "execution_count": 10,
     "metadata": {},
     "output_type": "execute_result"
    }
   ],
   "source": [
    "autos[autos['Repaired'].isna()]['Price'].mean()"
   ]
  },
  {
   "cell_type": "code",
   "execution_count": 11,
   "metadata": {},
   "outputs": [
    {
     "data": {
      "text/plain": [
       "5296.856015180573"
      ]
     },
     "execution_count": 11,
     "metadata": {},
     "output_type": "execute_result"
    }
   ],
   "source": [
    "autos[autos['Repaired'] == 'no']['Price'].mean()"
   ]
  },
  {
   "cell_type": "code",
   "execution_count": 12,
   "metadata": {},
   "outputs": [
    {
     "data": {
      "text/plain": [
       "1915.961889440546"
      ]
     },
     "execution_count": 12,
     "metadata": {},
     "output_type": "execute_result"
    }
   ],
   "source": [
    "autos[autos['Repaired'] == 'yes']['Price'].mean()"
   ]
  },
  {
   "cell_type": "markdown",
   "metadata": {},
   "source": [
    "Однако, если мы сравним средние значения целеового признака `Price` у этих категорий, мы увидим, что среднее значение цен подвыборки машин, которые были в ремонте, ниже среднего значения цены машин, у которых в этой колонке пропуск. Я прелагаю заполнить пропуск значением-заглушкой `unknown`."
   ]
  },
  {
   "cell_type": "code",
   "execution_count": 13,
   "metadata": {},
   "outputs": [],
   "source": [
    "autos['Repaired'] = autos['Repaired'].fillna('unknown')"
   ]
  },
  {
   "cell_type": "code",
   "execution_count": 14,
   "metadata": {},
   "outputs": [
    {
     "data": {
      "text/plain": [
       "0"
      ]
     },
     "execution_count": 14,
     "metadata": {},
     "output_type": "execute_result"
    }
   ],
   "source": [
    "autos['Repaired'].isna().sum()"
   ]
  },
  {
   "cell_type": "markdown",
   "metadata": {},
   "source": [
    "##### Признак `VehicleType`"
   ]
  },
  {
   "cell_type": "code",
   "execution_count": 15,
   "metadata": {},
   "outputs": [
    {
     "data": {
      "text/plain": [
       "array([nan, 'coupe', 'suv', 'small', 'sedan', 'convertible', 'bus',\n",
       "       'wagon', 'other'], dtype=object)"
      ]
     },
     "execution_count": 15,
     "metadata": {},
     "output_type": "execute_result"
    }
   ],
   "source": [
    "autos['VehicleType'].unique()"
   ]
  },
  {
   "cell_type": "code",
   "execution_count": 16,
   "metadata": {},
   "outputs": [
    {
     "data": {
      "text/plain": [
       "sedan          91457\n",
       "small          79830\n",
       "wagon          65165\n",
       "bus            28775\n",
       "convertible    20203\n",
       "coupe          16161\n",
       "suv            11996\n",
       "other           3288\n",
       "Name: VehicleType, dtype: int64"
      ]
     },
     "execution_count": 16,
     "metadata": {},
     "output_type": "execute_result"
    }
   ],
   "source": [
    "autos['VehicleType'].value_counts()"
   ]
  },
  {
   "cell_type": "markdown",
   "metadata": {},
   "source": [
    "Предлагаю снова заменить пропуски заглушкой `unknown`."
   ]
  },
  {
   "cell_type": "code",
   "execution_count": 17,
   "metadata": {},
   "outputs": [],
   "source": [
    "autos['VehicleType'] = autos['VehicleType'].fillna('unknown')"
   ]
  },
  {
   "cell_type": "code",
   "execution_count": 18,
   "metadata": {},
   "outputs": [
    {
     "data": {
      "text/plain": [
       "0"
      ]
     },
     "execution_count": 18,
     "metadata": {},
     "output_type": "execute_result"
    }
   ],
   "source": [
    "autos['VehicleType'].isna().sum()"
   ]
  },
  {
   "cell_type": "markdown",
   "metadata": {},
   "source": [
    "##### Признак `FuelType`"
   ]
  },
  {
   "cell_type": "code",
   "execution_count": 19,
   "metadata": {},
   "outputs": [
    {
     "data": {
      "text/plain": [
       "array(['petrol', 'gasoline', nan, 'lpg', 'other', 'hybrid', 'cng',\n",
       "       'electric'], dtype=object)"
      ]
     },
     "execution_count": 19,
     "metadata": {},
     "output_type": "execute_result"
    }
   ],
   "source": [
    "autos['FuelType'].unique()"
   ]
  },
  {
   "cell_type": "code",
   "execution_count": 20,
   "metadata": {},
   "outputs": [
    {
     "data": {
      "text/plain": [
       "petrol      216349\n",
       "gasoline     98719\n",
       "lpg           5310\n",
       "cng            565\n",
       "hybrid         233\n",
       "other          204\n",
       "electric        90\n",
       "Name: FuelType, dtype: int64"
      ]
     },
     "execution_count": 20,
     "metadata": {},
     "output_type": "execute_result"
    }
   ],
   "source": [
    "autos['FuelType'].value_counts()"
   ]
  },
  {
   "cell_type": "markdown",
   "metadata": {},
   "source": [
    "Снова используем заглушку `unknown`."
   ]
  },
  {
   "cell_type": "code",
   "execution_count": 21,
   "metadata": {},
   "outputs": [],
   "source": [
    "autos['FuelType'] = autos['FuelType'].fillna('unknown')"
   ]
  },
  {
   "cell_type": "code",
   "execution_count": 22,
   "metadata": {},
   "outputs": [
    {
     "data": {
      "text/plain": [
       "0"
      ]
     },
     "execution_count": 22,
     "metadata": {},
     "output_type": "execute_result"
    }
   ],
   "source": [
    "autos['FuelType'].isna().sum()"
   ]
  },
  {
   "cell_type": "markdown",
   "metadata": {},
   "source": [
    "##### Признаки `Gearbox` и `Model`\n",
    "Пропуски в этих колонках осставляют по 5%, можно удалить пропсуки из данных."
   ]
  },
  {
   "cell_type": "code",
   "execution_count": 23,
   "metadata": {},
   "outputs": [],
   "source": [
    "autos = autos.dropna(subset = ['Gearbox', 'Model']).reset_index().drop('index', axis=1)"
   ]
  },
  {
   "cell_type": "code",
   "execution_count": 24,
   "metadata": {},
   "outputs": [
    {
     "data": {
      "text/plain": [
       "DateCrawled          0\n",
       "Price                0\n",
       "VehicleType          0\n",
       "RegistrationYear     0\n",
       "Gearbox              0\n",
       "Power                0\n",
       "Model                0\n",
       "Kilometer            0\n",
       "RegistrationMonth    0\n",
       "FuelType             0\n",
       "Brand                0\n",
       "Repaired             0\n",
       "DateCreated          0\n",
       "NumberOfPictures     0\n",
       "PostalCode           0\n",
       "LastSeen             0\n",
       "dtype: int64"
      ]
     },
     "execution_count": 24,
     "metadata": {},
     "output_type": "execute_result"
    }
   ],
   "source": [
    "autos.isna().sum()"
   ]
  },
  {
   "cell_type": "markdown",
   "metadata": {},
   "source": [
    "Мы обработали все пропуски."
   ]
  },
  {
   "cell_type": "markdown",
   "metadata": {},
   "source": [
    "#### Преобразование типов данных\n",
    "В колонках `DateCrawled`, `DateCreated`, и `LastSeen` хранится информация о датах, но тип данных не соответствует типу информации. Предлагаю преобразовать данные в тип `datetime`. "
   ]
  },
  {
   "cell_type": "code",
   "execution_count": 25,
   "metadata": {},
   "outputs": [
    {
     "data": {
      "text/html": [
       "<div>\n",
       "<style scoped>\n",
       "    .dataframe tbody tr th:only-of-type {\n",
       "        vertical-align: middle;\n",
       "    }\n",
       "\n",
       "    .dataframe tbody tr th {\n",
       "        vertical-align: top;\n",
       "    }\n",
       "\n",
       "    .dataframe thead th {\n",
       "        text-align: right;\n",
       "    }\n",
       "</style>\n",
       "<table border=\"1\" class=\"dataframe\">\n",
       "  <thead>\n",
       "    <tr style=\"text-align: right;\">\n",
       "      <th></th>\n",
       "      <th>DateCrawled</th>\n",
       "      <th>Price</th>\n",
       "      <th>VehicleType</th>\n",
       "      <th>RegistrationYear</th>\n",
       "      <th>Gearbox</th>\n",
       "      <th>Power</th>\n",
       "      <th>Model</th>\n",
       "      <th>Kilometer</th>\n",
       "      <th>RegistrationMonth</th>\n",
       "      <th>FuelType</th>\n",
       "      <th>Brand</th>\n",
       "      <th>Repaired</th>\n",
       "      <th>DateCreated</th>\n",
       "      <th>NumberOfPictures</th>\n",
       "      <th>PostalCode</th>\n",
       "      <th>LastSeen</th>\n",
       "    </tr>\n",
       "  </thead>\n",
       "  <tbody>\n",
       "    <tr>\n",
       "      <th>0</th>\n",
       "      <td>2016-03-24 11:52:17</td>\n",
       "      <td>480</td>\n",
       "      <td>unknown</td>\n",
       "      <td>1993</td>\n",
       "      <td>manual</td>\n",
       "      <td>0</td>\n",
       "      <td>golf</td>\n",
       "      <td>150000</td>\n",
       "      <td>0</td>\n",
       "      <td>petrol</td>\n",
       "      <td>volkswagen</td>\n",
       "      <td>unknown</td>\n",
       "      <td>2016-03-24 00:00:00</td>\n",
       "      <td>0</td>\n",
       "      <td>70435</td>\n",
       "      <td>2016-04-07 03:16:57</td>\n",
       "    </tr>\n",
       "    <tr>\n",
       "      <th>1</th>\n",
       "      <td>2016-03-14 12:52:21</td>\n",
       "      <td>9800</td>\n",
       "      <td>suv</td>\n",
       "      <td>2004</td>\n",
       "      <td>auto</td>\n",
       "      <td>163</td>\n",
       "      <td>grand</td>\n",
       "      <td>125000</td>\n",
       "      <td>8</td>\n",
       "      <td>gasoline</td>\n",
       "      <td>jeep</td>\n",
       "      <td>unknown</td>\n",
       "      <td>2016-03-14 00:00:00</td>\n",
       "      <td>0</td>\n",
       "      <td>90480</td>\n",
       "      <td>2016-04-05 12:47:46</td>\n",
       "    </tr>\n",
       "    <tr>\n",
       "      <th>2</th>\n",
       "      <td>2016-03-17 16:54:04</td>\n",
       "      <td>1500</td>\n",
       "      <td>small</td>\n",
       "      <td>2001</td>\n",
       "      <td>manual</td>\n",
       "      <td>75</td>\n",
       "      <td>golf</td>\n",
       "      <td>150000</td>\n",
       "      <td>6</td>\n",
       "      <td>petrol</td>\n",
       "      <td>volkswagen</td>\n",
       "      <td>no</td>\n",
       "      <td>2016-03-17 00:00:00</td>\n",
       "      <td>0</td>\n",
       "      <td>91074</td>\n",
       "      <td>2016-03-17 17:40:17</td>\n",
       "    </tr>\n",
       "    <tr>\n",
       "      <th>3</th>\n",
       "      <td>2016-03-31 17:25:20</td>\n",
       "      <td>3600</td>\n",
       "      <td>small</td>\n",
       "      <td>2008</td>\n",
       "      <td>manual</td>\n",
       "      <td>69</td>\n",
       "      <td>fabia</td>\n",
       "      <td>90000</td>\n",
       "      <td>7</td>\n",
       "      <td>gasoline</td>\n",
       "      <td>skoda</td>\n",
       "      <td>no</td>\n",
       "      <td>2016-03-31 00:00:00</td>\n",
       "      <td>0</td>\n",
       "      <td>60437</td>\n",
       "      <td>2016-04-06 10:17:21</td>\n",
       "    </tr>\n",
       "    <tr>\n",
       "      <th>4</th>\n",
       "      <td>2016-04-04 17:36:23</td>\n",
       "      <td>650</td>\n",
       "      <td>sedan</td>\n",
       "      <td>1995</td>\n",
       "      <td>manual</td>\n",
       "      <td>102</td>\n",
       "      <td>3er</td>\n",
       "      <td>150000</td>\n",
       "      <td>10</td>\n",
       "      <td>petrol</td>\n",
       "      <td>bmw</td>\n",
       "      <td>yes</td>\n",
       "      <td>2016-04-04 00:00:00</td>\n",
       "      <td>0</td>\n",
       "      <td>33775</td>\n",
       "      <td>2016-04-06 19:17:07</td>\n",
       "    </tr>\n",
       "  </tbody>\n",
       "</table>\n",
       "</div>"
      ],
      "text/plain": [
       "           DateCrawled  Price VehicleType  RegistrationYear Gearbox  Power  \\\n",
       "0  2016-03-24 11:52:17    480     unknown              1993  manual      0   \n",
       "1  2016-03-14 12:52:21   9800         suv              2004    auto    163   \n",
       "2  2016-03-17 16:54:04   1500       small              2001  manual     75   \n",
       "3  2016-03-31 17:25:20   3600       small              2008  manual     69   \n",
       "4  2016-04-04 17:36:23    650       sedan              1995  manual    102   \n",
       "\n",
       "   Model  Kilometer  RegistrationMonth  FuelType       Brand Repaired  \\\n",
       "0   golf     150000                  0    petrol  volkswagen  unknown   \n",
       "1  grand     125000                  8  gasoline        jeep  unknown   \n",
       "2   golf     150000                  6    petrol  volkswagen       no   \n",
       "3  fabia      90000                  7  gasoline       skoda       no   \n",
       "4    3er     150000                 10    petrol         bmw      yes   \n",
       "\n",
       "           DateCreated  NumberOfPictures  PostalCode             LastSeen  \n",
       "0  2016-03-24 00:00:00                 0       70435  2016-04-07 03:16:57  \n",
       "1  2016-03-14 00:00:00                 0       90480  2016-04-05 12:47:46  \n",
       "2  2016-03-17 00:00:00                 0       91074  2016-03-17 17:40:17  \n",
       "3  2016-03-31 00:00:00                 0       60437  2016-04-06 10:17:21  \n",
       "4  2016-04-04 00:00:00                 0       33775  2016-04-06 19:17:07  "
      ]
     },
     "execution_count": 25,
     "metadata": {},
     "output_type": "execute_result"
    }
   ],
   "source": [
    "autos.head()"
   ]
  },
  {
   "cell_type": "code",
   "execution_count": 26,
   "metadata": {},
   "outputs": [],
   "source": [
    "autos['DateCrawled'] = pd.to_datetime(autos['DateCrawled'], format='%Y-%m-%d %H:%M:%S')"
   ]
  },
  {
   "cell_type": "code",
   "execution_count": 27,
   "metadata": {},
   "outputs": [],
   "source": [
    "autos['DateCreated'] = pd.to_datetime(autos['DateCreated'], format='%Y-%m-%d %H:%M:%S')"
   ]
  },
  {
   "cell_type": "code",
   "execution_count": 28,
   "metadata": {},
   "outputs": [],
   "source": [
    "autos['LastSeen'] = pd.to_datetime(autos['LastSeen'], format='%Y-%m-%d %H:%M:%S')"
   ]
  },
  {
   "cell_type": "code",
   "execution_count": 29,
   "metadata": {},
   "outputs": [
    {
     "name": "stdout",
     "output_type": "stream",
     "text": [
      "<class 'pandas.core.frame.DataFrame'>\n",
      "RangeIndex: 318958 entries, 0 to 318957\n",
      "Data columns (total 16 columns):\n",
      " #   Column             Non-Null Count   Dtype         \n",
      "---  ------             --------------   -----         \n",
      " 0   DateCrawled        318958 non-null  datetime64[ns]\n",
      " 1   Price              318958 non-null  int64         \n",
      " 2   VehicleType        318958 non-null  object        \n",
      " 3   RegistrationYear   318958 non-null  int64         \n",
      " 4   Gearbox            318958 non-null  object        \n",
      " 5   Power              318958 non-null  int64         \n",
      " 6   Model              318958 non-null  object        \n",
      " 7   Kilometer          318958 non-null  int64         \n",
      " 8   RegistrationMonth  318958 non-null  int64         \n",
      " 9   FuelType           318958 non-null  object        \n",
      " 10  Brand              318958 non-null  object        \n",
      " 11  Repaired           318958 non-null  object        \n",
      " 12  DateCreated        318958 non-null  datetime64[ns]\n",
      " 13  NumberOfPictures   318958 non-null  int64         \n",
      " 14  PostalCode         318958 non-null  int64         \n",
      " 15  LastSeen           318958 non-null  datetime64[ns]\n",
      "dtypes: datetime64[ns](3), int64(7), object(6)\n",
      "memory usage: 38.9+ MB\n"
     ]
    }
   ],
   "source": [
    "autos.info()"
   ]
  },
  {
   "cell_type": "markdown",
   "metadata": {},
   "source": [
    "#### Обработка аномалий"
   ]
  },
  {
   "cell_type": "markdown",
   "metadata": {},
   "source": [
    "Сначала еще раз применим метод `describe` к нашему датафрейму."
   ]
  },
  {
   "cell_type": "code",
   "execution_count": 30,
   "metadata": {},
   "outputs": [
    {
     "data": {
      "text/html": [
       "<div>\n",
       "<style scoped>\n",
       "    .dataframe tbody tr th:only-of-type {\n",
       "        vertical-align: middle;\n",
       "    }\n",
       "\n",
       "    .dataframe tbody tr th {\n",
       "        vertical-align: top;\n",
       "    }\n",
       "\n",
       "    .dataframe thead th {\n",
       "        text-align: right;\n",
       "    }\n",
       "</style>\n",
       "<table border=\"1\" class=\"dataframe\">\n",
       "  <thead>\n",
       "    <tr style=\"text-align: right;\">\n",
       "      <th></th>\n",
       "      <th>Price</th>\n",
       "      <th>RegistrationYear</th>\n",
       "      <th>Power</th>\n",
       "      <th>Kilometer</th>\n",
       "      <th>RegistrationMonth</th>\n",
       "      <th>NumberOfPictures</th>\n",
       "      <th>PostalCode</th>\n",
       "    </tr>\n",
       "  </thead>\n",
       "  <tbody>\n",
       "    <tr>\n",
       "      <th>count</th>\n",
       "      <td>318958.000000</td>\n",
       "      <td>318958.000000</td>\n",
       "      <td>318958.000000</td>\n",
       "      <td>318958.000000</td>\n",
       "      <td>318958.000000</td>\n",
       "      <td>318958.0</td>\n",
       "      <td>318958.000000</td>\n",
       "    </tr>\n",
       "    <tr>\n",
       "      <th>mean</th>\n",
       "      <td>4608.905502</td>\n",
       "      <td>2003.427031</td>\n",
       "      <td>114.965265</td>\n",
       "      <td>128844.738179</td>\n",
       "      <td>5.908107</td>\n",
       "      <td>0.0</td>\n",
       "      <td>50766.394149</td>\n",
       "    </tr>\n",
       "    <tr>\n",
       "      <th>std</th>\n",
       "      <td>4564.241216</td>\n",
       "      <td>30.517461</td>\n",
       "      <td>185.627579</td>\n",
       "      <td>36620.680186</td>\n",
       "      <td>3.634281</td>\n",
       "      <td>0.0</td>\n",
       "      <td>25780.246706</td>\n",
       "    </tr>\n",
       "    <tr>\n",
       "      <th>min</th>\n",
       "      <td>0.000000</td>\n",
       "      <td>1000.000000</td>\n",
       "      <td>0.000000</td>\n",
       "      <td>5000.000000</td>\n",
       "      <td>0.000000</td>\n",
       "      <td>0.0</td>\n",
       "      <td>1067.000000</td>\n",
       "    </tr>\n",
       "    <tr>\n",
       "      <th>25%</th>\n",
       "      <td>1200.000000</td>\n",
       "      <td>1999.000000</td>\n",
       "      <td>75.000000</td>\n",
       "      <td>125000.000000</td>\n",
       "      <td>3.000000</td>\n",
       "      <td>0.0</td>\n",
       "      <td>30455.000000</td>\n",
       "    </tr>\n",
       "    <tr>\n",
       "      <th>50%</th>\n",
       "      <td>2900.000000</td>\n",
       "      <td>2003.000000</td>\n",
       "      <td>105.000000</td>\n",
       "      <td>150000.000000</td>\n",
       "      <td>6.000000</td>\n",
       "      <td>0.0</td>\n",
       "      <td>49610.000000</td>\n",
       "    </tr>\n",
       "    <tr>\n",
       "      <th>75%</th>\n",
       "      <td>6700.000000</td>\n",
       "      <td>2008.000000</td>\n",
       "      <td>143.000000</td>\n",
       "      <td>150000.000000</td>\n",
       "      <td>9.000000</td>\n",
       "      <td>0.0</td>\n",
       "      <td>71357.000000</td>\n",
       "    </tr>\n",
       "    <tr>\n",
       "      <th>max</th>\n",
       "      <td>20000.000000</td>\n",
       "      <td>9000.000000</td>\n",
       "      <td>20000.000000</td>\n",
       "      <td>150000.000000</td>\n",
       "      <td>12.000000</td>\n",
       "      <td>0.0</td>\n",
       "      <td>99998.000000</td>\n",
       "    </tr>\n",
       "  </tbody>\n",
       "</table>\n",
       "</div>"
      ],
      "text/plain": [
       "               Price  RegistrationYear          Power      Kilometer  \\\n",
       "count  318958.000000     318958.000000  318958.000000  318958.000000   \n",
       "mean     4608.905502       2003.427031     114.965265  128844.738179   \n",
       "std      4564.241216         30.517461     185.627579   36620.680186   \n",
       "min         0.000000       1000.000000       0.000000    5000.000000   \n",
       "25%      1200.000000       1999.000000      75.000000  125000.000000   \n",
       "50%      2900.000000       2003.000000     105.000000  150000.000000   \n",
       "75%      6700.000000       2008.000000     143.000000  150000.000000   \n",
       "max     20000.000000       9000.000000   20000.000000  150000.000000   \n",
       "\n",
       "       RegistrationMonth  NumberOfPictures     PostalCode  \n",
       "count      318958.000000          318958.0  318958.000000  \n",
       "mean            5.908107               0.0   50766.394149  \n",
       "std             3.634281               0.0   25780.246706  \n",
       "min             0.000000               0.0    1067.000000  \n",
       "25%             3.000000               0.0   30455.000000  \n",
       "50%             6.000000               0.0   49610.000000  \n",
       "75%             9.000000               0.0   71357.000000  \n",
       "max            12.000000               0.0   99998.000000  "
      ]
     },
     "execution_count": 30,
     "metadata": {},
     "output_type": "execute_result"
    }
   ],
   "source": [
    "autos.describe()"
   ]
  },
  {
   "cell_type": "markdown",
   "metadata": {},
   "source": [
    "Видим аномальные значения в колонках `Price`, `RegistratonYear`, `Power`, `RegistrationMonth`. Рассмотрим эти признаки подробнее."
   ]
  },
  {
   "cell_type": "markdown",
   "metadata": {},
   "source": [
    "##### Признак `Price`"
   ]
  },
  {
   "cell_type": "code",
   "execution_count": 31,
   "metadata": {},
   "outputs": [
    {
     "data": {
      "text/html": [
       "<div>\n",
       "<style scoped>\n",
       "    .dataframe tbody tr th:only-of-type {\n",
       "        vertical-align: middle;\n",
       "    }\n",
       "\n",
       "    .dataframe tbody tr th {\n",
       "        vertical-align: top;\n",
       "    }\n",
       "\n",
       "    .dataframe thead th {\n",
       "        text-align: right;\n",
       "    }\n",
       "</style>\n",
       "<table border=\"1\" class=\"dataframe\">\n",
       "  <thead>\n",
       "    <tr style=\"text-align: right;\">\n",
       "      <th></th>\n",
       "      <th>DateCrawled</th>\n",
       "      <th>Price</th>\n",
       "      <th>VehicleType</th>\n",
       "      <th>RegistrationYear</th>\n",
       "      <th>Gearbox</th>\n",
       "      <th>Power</th>\n",
       "      <th>Model</th>\n",
       "      <th>Kilometer</th>\n",
       "      <th>RegistrationMonth</th>\n",
       "      <th>FuelType</th>\n",
       "      <th>Brand</th>\n",
       "      <th>Repaired</th>\n",
       "      <th>DateCreated</th>\n",
       "      <th>NumberOfPictures</th>\n",
       "      <th>PostalCode</th>\n",
       "      <th>LastSeen</th>\n",
       "    </tr>\n",
       "  </thead>\n",
       "  <tbody>\n",
       "    <tr>\n",
       "      <th>6</th>\n",
       "      <td>2016-03-21 18:54:38</td>\n",
       "      <td>0</td>\n",
       "      <td>sedan</td>\n",
       "      <td>1980</td>\n",
       "      <td>manual</td>\n",
       "      <td>50</td>\n",
       "      <td>other</td>\n",
       "      <td>40000</td>\n",
       "      <td>7</td>\n",
       "      <td>petrol</td>\n",
       "      <td>volkswagen</td>\n",
       "      <td>no</td>\n",
       "      <td>2016-03-21</td>\n",
       "      <td>0</td>\n",
       "      <td>19348</td>\n",
       "      <td>2016-03-25 16:47:58</td>\n",
       "    </tr>\n",
       "    <tr>\n",
       "      <th>99</th>\n",
       "      <td>2016-03-19 18:40:12</td>\n",
       "      <td>0</td>\n",
       "      <td>unknown</td>\n",
       "      <td>2017</td>\n",
       "      <td>manual</td>\n",
       "      <td>0</td>\n",
       "      <td>golf</td>\n",
       "      <td>5000</td>\n",
       "      <td>12</td>\n",
       "      <td>petrol</td>\n",
       "      <td>volkswagen</td>\n",
       "      <td>unknown</td>\n",
       "      <td>2016-03-19</td>\n",
       "      <td>0</td>\n",
       "      <td>21698</td>\n",
       "      <td>2016-04-01 08:47:05</td>\n",
       "    </tr>\n",
       "    <tr>\n",
       "      <th>135</th>\n",
       "      <td>2016-03-11 18:55:53</td>\n",
       "      <td>0</td>\n",
       "      <td>bus</td>\n",
       "      <td>2004</td>\n",
       "      <td>manual</td>\n",
       "      <td>101</td>\n",
       "      <td>meriva</td>\n",
       "      <td>150000</td>\n",
       "      <td>10</td>\n",
       "      <td>lpg</td>\n",
       "      <td>opel</td>\n",
       "      <td>yes</td>\n",
       "      <td>2016-03-11</td>\n",
       "      <td>0</td>\n",
       "      <td>27432</td>\n",
       "      <td>2016-03-12 23:47:10</td>\n",
       "    </tr>\n",
       "    <tr>\n",
       "      <th>207</th>\n",
       "      <td>2016-03-16 22:06:24</td>\n",
       "      <td>0</td>\n",
       "      <td>wagon</td>\n",
       "      <td>2001</td>\n",
       "      <td>manual</td>\n",
       "      <td>115</td>\n",
       "      <td>mondeo</td>\n",
       "      <td>150000</td>\n",
       "      <td>0</td>\n",
       "      <td>unknown</td>\n",
       "      <td>ford</td>\n",
       "      <td>unknown</td>\n",
       "      <td>2016-03-16</td>\n",
       "      <td>0</td>\n",
       "      <td>57627</td>\n",
       "      <td>2016-03-26 11:17:50</td>\n",
       "    </tr>\n",
       "    <tr>\n",
       "      <th>414</th>\n",
       "      <td>2016-03-24 10:58:40</td>\n",
       "      <td>0</td>\n",
       "      <td>unknown</td>\n",
       "      <td>2016</td>\n",
       "      <td>auto</td>\n",
       "      <td>197</td>\n",
       "      <td>3er</td>\n",
       "      <td>150000</td>\n",
       "      <td>12</td>\n",
       "      <td>gasoline</td>\n",
       "      <td>bmw</td>\n",
       "      <td>no</td>\n",
       "      <td>2016-03-24</td>\n",
       "      <td>0</td>\n",
       "      <td>99867</td>\n",
       "      <td>2016-03-25 19:46:09</td>\n",
       "    </tr>\n",
       "    <tr>\n",
       "      <th>...</th>\n",
       "      <td>...</td>\n",
       "      <td>...</td>\n",
       "      <td>...</td>\n",
       "      <td>...</td>\n",
       "      <td>...</td>\n",
       "      <td>...</td>\n",
       "      <td>...</td>\n",
       "      <td>...</td>\n",
       "      <td>...</td>\n",
       "      <td>...</td>\n",
       "      <td>...</td>\n",
       "      <td>...</td>\n",
       "      <td>...</td>\n",
       "      <td>...</td>\n",
       "      <td>...</td>\n",
       "      <td>...</td>\n",
       "    </tr>\n",
       "    <tr>\n",
       "      <th>318809</th>\n",
       "      <td>2016-03-09 15:56:30</td>\n",
       "      <td>0</td>\n",
       "      <td>unknown</td>\n",
       "      <td>2000</td>\n",
       "      <td>manual</td>\n",
       "      <td>65</td>\n",
       "      <td>corsa</td>\n",
       "      <td>150000</td>\n",
       "      <td>0</td>\n",
       "      <td>unknown</td>\n",
       "      <td>opel</td>\n",
       "      <td>yes</td>\n",
       "      <td>2016-03-09</td>\n",
       "      <td>0</td>\n",
       "      <td>23758</td>\n",
       "      <td>2016-03-30 11:16:08</td>\n",
       "    </tr>\n",
       "    <tr>\n",
       "      <th>318838</th>\n",
       "      <td>2016-03-20 14:55:07</td>\n",
       "      <td>0</td>\n",
       "      <td>small</td>\n",
       "      <td>2002</td>\n",
       "      <td>manual</td>\n",
       "      <td>60</td>\n",
       "      <td>fiesta</td>\n",
       "      <td>150000</td>\n",
       "      <td>3</td>\n",
       "      <td>petrol</td>\n",
       "      <td>ford</td>\n",
       "      <td>unknown</td>\n",
       "      <td>2016-03-20</td>\n",
       "      <td>0</td>\n",
       "      <td>33659</td>\n",
       "      <td>2016-04-06 18:45:23</td>\n",
       "    </tr>\n",
       "    <tr>\n",
       "      <th>318847</th>\n",
       "      <td>2016-03-24 13:48:05</td>\n",
       "      <td>0</td>\n",
       "      <td>small</td>\n",
       "      <td>1999</td>\n",
       "      <td>manual</td>\n",
       "      <td>53</td>\n",
       "      <td>swift</td>\n",
       "      <td>150000</td>\n",
       "      <td>3</td>\n",
       "      <td>petrol</td>\n",
       "      <td>suzuki</td>\n",
       "      <td>unknown</td>\n",
       "      <td>2016-03-24</td>\n",
       "      <td>0</td>\n",
       "      <td>42329</td>\n",
       "      <td>2016-04-07 05:17:24</td>\n",
       "    </tr>\n",
       "    <tr>\n",
       "      <th>318874</th>\n",
       "      <td>2016-03-10 22:55:50</td>\n",
       "      <td>0</td>\n",
       "      <td>small</td>\n",
       "      <td>1999</td>\n",
       "      <td>manual</td>\n",
       "      <td>37</td>\n",
       "      <td>arosa</td>\n",
       "      <td>150000</td>\n",
       "      <td>7</td>\n",
       "      <td>petrol</td>\n",
       "      <td>seat</td>\n",
       "      <td>yes</td>\n",
       "      <td>2016-03-10</td>\n",
       "      <td>0</td>\n",
       "      <td>22559</td>\n",
       "      <td>2016-03-12 23:46:32</td>\n",
       "    </tr>\n",
       "    <tr>\n",
       "      <th>318954</th>\n",
       "      <td>2016-03-21 09:50:58</td>\n",
       "      <td>0</td>\n",
       "      <td>unknown</td>\n",
       "      <td>2005</td>\n",
       "      <td>manual</td>\n",
       "      <td>0</td>\n",
       "      <td>colt</td>\n",
       "      <td>150000</td>\n",
       "      <td>7</td>\n",
       "      <td>petrol</td>\n",
       "      <td>mitsubishi</td>\n",
       "      <td>yes</td>\n",
       "      <td>2016-03-21</td>\n",
       "      <td>0</td>\n",
       "      <td>2694</td>\n",
       "      <td>2016-03-21 10:42:49</td>\n",
       "    </tr>\n",
       "  </tbody>\n",
       "</table>\n",
       "<p>7156 rows × 16 columns</p>\n",
       "</div>"
      ],
      "text/plain": [
       "               DateCrawled  Price VehicleType  RegistrationYear Gearbox  \\\n",
       "6      2016-03-21 18:54:38      0       sedan              1980  manual   \n",
       "99     2016-03-19 18:40:12      0     unknown              2017  manual   \n",
       "135    2016-03-11 18:55:53      0         bus              2004  manual   \n",
       "207    2016-03-16 22:06:24      0       wagon              2001  manual   \n",
       "414    2016-03-24 10:58:40      0     unknown              2016    auto   \n",
       "...                    ...    ...         ...               ...     ...   \n",
       "318809 2016-03-09 15:56:30      0     unknown              2000  manual   \n",
       "318838 2016-03-20 14:55:07      0       small              2002  manual   \n",
       "318847 2016-03-24 13:48:05      0       small              1999  manual   \n",
       "318874 2016-03-10 22:55:50      0       small              1999  manual   \n",
       "318954 2016-03-21 09:50:58      0     unknown              2005  manual   \n",
       "\n",
       "        Power   Model  Kilometer  RegistrationMonth  FuelType       Brand  \\\n",
       "6          50   other      40000                  7    petrol  volkswagen   \n",
       "99          0    golf       5000                 12    petrol  volkswagen   \n",
       "135       101  meriva     150000                 10       lpg        opel   \n",
       "207       115  mondeo     150000                  0   unknown        ford   \n",
       "414       197     3er     150000                 12  gasoline         bmw   \n",
       "...       ...     ...        ...                ...       ...         ...   \n",
       "318809     65   corsa     150000                  0   unknown        opel   \n",
       "318838     60  fiesta     150000                  3    petrol        ford   \n",
       "318847     53   swift     150000                  3    petrol      suzuki   \n",
       "318874     37   arosa     150000                  7    petrol        seat   \n",
       "318954      0    colt     150000                  7    petrol  mitsubishi   \n",
       "\n",
       "       Repaired DateCreated  NumberOfPictures  PostalCode            LastSeen  \n",
       "6            no  2016-03-21                 0       19348 2016-03-25 16:47:58  \n",
       "99      unknown  2016-03-19                 0       21698 2016-04-01 08:47:05  \n",
       "135         yes  2016-03-11                 0       27432 2016-03-12 23:47:10  \n",
       "207     unknown  2016-03-16                 0       57627 2016-03-26 11:17:50  \n",
       "414          no  2016-03-24                 0       99867 2016-03-25 19:46:09  \n",
       "...         ...         ...               ...         ...                 ...  \n",
       "318809      yes  2016-03-09                 0       23758 2016-03-30 11:16:08  \n",
       "318838  unknown  2016-03-20                 0       33659 2016-04-06 18:45:23  \n",
       "318847  unknown  2016-03-24                 0       42329 2016-04-07 05:17:24  \n",
       "318874      yes  2016-03-10                 0       22559 2016-03-12 23:46:32  \n",
       "318954      yes  2016-03-21                 0        2694 2016-03-21 10:42:49  \n",
       "\n",
       "[7156 rows x 16 columns]"
      ]
     },
     "execution_count": 31,
     "metadata": {},
     "output_type": "execute_result"
    }
   ],
   "source": [
    "autos[autos.Price == 0]"
   ]
  },
  {
   "cell_type": "markdown",
   "metadata": {},
   "source": [
    "Видим, что в данных есть 7156 строк, где цена равна 0. Это странное значение, предлагаю удалить из данных эти строки."
   ]
  },
  {
   "cell_type": "code",
   "execution_count": 32,
   "metadata": {},
   "outputs": [],
   "source": [
    "autos = autos[autos.Price != 0]"
   ]
  },
  {
   "cell_type": "code",
   "execution_count": 33,
   "metadata": {},
   "outputs": [
    {
     "data": {
      "image/png": "[encoded data removed]",
      "text/plain": [
       "<Figure size 576x1440 with 1 Axes>"
      ]
     },
     "metadata": {
      "needs_background": "light"
     },
     "output_type": "display_data"
    }
   ],
   "source": [
    "fig, ax = plt.subplots(figsize=(8, 20))\n",
    "plt.boxplot(autos['Price'])\n",
    "plt.title('Распределение цен на машины')\n",
    "plt.ylabel('Цена (евро)')\n",
    "plt.show()"
   ]
  },
  {
   "cell_type": "code",
   "execution_count": 34,
   "metadata": {},
   "outputs": [
    {
     "data": {
      "text/html": [
       "<div>\n",
       "<style scoped>\n",
       "    .dataframe tbody tr th:only-of-type {\n",
       "        vertical-align: middle;\n",
       "    }\n",
       "\n",
       "    .dataframe tbody tr th {\n",
       "        vertical-align: top;\n",
       "    }\n",
       "\n",
       "    .dataframe thead th {\n",
       "        text-align: right;\n",
       "    }\n",
       "</style>\n",
       "<table border=\"1\" class=\"dataframe\">\n",
       "  <thead>\n",
       "    <tr style=\"text-align: right;\">\n",
       "      <th></th>\n",
       "      <th>DateCrawled</th>\n",
       "      <th>Price</th>\n",
       "      <th>VehicleType</th>\n",
       "      <th>RegistrationYear</th>\n",
       "      <th>Gearbox</th>\n",
       "      <th>Power</th>\n",
       "      <th>Model</th>\n",
       "      <th>Kilometer</th>\n",
       "      <th>RegistrationMonth</th>\n",
       "      <th>FuelType</th>\n",
       "      <th>Brand</th>\n",
       "      <th>Repaired</th>\n",
       "      <th>DateCreated</th>\n",
       "      <th>NumberOfPictures</th>\n",
       "      <th>PostalCode</th>\n",
       "      <th>LastSeen</th>\n",
       "    </tr>\n",
       "  </thead>\n",
       "  <tbody>\n",
       "    <tr>\n",
       "      <th>80</th>\n",
       "      <td>2016-03-28 09:37:01</td>\n",
       "      <td>1</td>\n",
       "      <td>sedan</td>\n",
       "      <td>1995</td>\n",
       "      <td>manual</td>\n",
       "      <td>113</td>\n",
       "      <td>e_klasse</td>\n",
       "      <td>150000</td>\n",
       "      <td>4</td>\n",
       "      <td>gasoline</td>\n",
       "      <td>mercedes_benz</td>\n",
       "      <td>no</td>\n",
       "      <td>2016-03-28</td>\n",
       "      <td>0</td>\n",
       "      <td>40589</td>\n",
       "      <td>2016-04-06 12:15:54</td>\n",
       "    </tr>\n",
       "    <tr>\n",
       "      <th>241</th>\n",
       "      <td>2016-03-12 07:26:49</td>\n",
       "      <td>1</td>\n",
       "      <td>sedan</td>\n",
       "      <td>1990</td>\n",
       "      <td>manual</td>\n",
       "      <td>90</td>\n",
       "      <td>80</td>\n",
       "      <td>70000</td>\n",
       "      <td>6</td>\n",
       "      <td>petrol</td>\n",
       "      <td>audi</td>\n",
       "      <td>no</td>\n",
       "      <td>2016-03-11</td>\n",
       "      <td>0</td>\n",
       "      <td>55122</td>\n",
       "      <td>2016-03-26 23:15:49</td>\n",
       "    </tr>\n",
       "    <tr>\n",
       "      <th>807</th>\n",
       "      <td>2016-03-06 00:25:25</td>\n",
       "      <td>1</td>\n",
       "      <td>unknown</td>\n",
       "      <td>1990</td>\n",
       "      <td>manual</td>\n",
       "      <td>0</td>\n",
       "      <td>other</td>\n",
       "      <td>150000</td>\n",
       "      <td>0</td>\n",
       "      <td>unknown</td>\n",
       "      <td>porsche</td>\n",
       "      <td>unknown</td>\n",
       "      <td>2016-03-05</td>\n",
       "      <td>0</td>\n",
       "      <td>65843</td>\n",
       "      <td>2016-04-06 20:19:08</td>\n",
       "    </tr>\n",
       "    <tr>\n",
       "      <th>865</th>\n",
       "      <td>2016-03-23 08:21:11</td>\n",
       "      <td>1</td>\n",
       "      <td>wagon</td>\n",
       "      <td>1998</td>\n",
       "      <td>manual</td>\n",
       "      <td>136</td>\n",
       "      <td>omega</td>\n",
       "      <td>150000</td>\n",
       "      <td>0</td>\n",
       "      <td>petrol</td>\n",
       "      <td>opel</td>\n",
       "      <td>no</td>\n",
       "      <td>2016-03-22</td>\n",
       "      <td>0</td>\n",
       "      <td>57614</td>\n",
       "      <td>2016-03-27 08:45:52</td>\n",
       "    </tr>\n",
       "    <tr>\n",
       "      <th>913</th>\n",
       "      <td>2016-03-15 18:57:12</td>\n",
       "      <td>3</td>\n",
       "      <td>convertible</td>\n",
       "      <td>1998</td>\n",
       "      <td>manual</td>\n",
       "      <td>110</td>\n",
       "      <td>mx_reihe</td>\n",
       "      <td>150000</td>\n",
       "      <td>11</td>\n",
       "      <td>unknown</td>\n",
       "      <td>mazda</td>\n",
       "      <td>yes</td>\n",
       "      <td>2016-03-15</td>\n",
       "      <td>0</td>\n",
       "      <td>89312</td>\n",
       "      <td>2016-04-06 21:16:58</td>\n",
       "    </tr>\n",
       "    <tr>\n",
       "      <th>...</th>\n",
       "      <td>...</td>\n",
       "      <td>...</td>\n",
       "      <td>...</td>\n",
       "      <td>...</td>\n",
       "      <td>...</td>\n",
       "      <td>...</td>\n",
       "      <td>...</td>\n",
       "      <td>...</td>\n",
       "      <td>...</td>\n",
       "      <td>...</td>\n",
       "      <td>...</td>\n",
       "      <td>...</td>\n",
       "      <td>...</td>\n",
       "      <td>...</td>\n",
       "      <td>...</td>\n",
       "      <td>...</td>\n",
       "    </tr>\n",
       "    <tr>\n",
       "      <th>317793</th>\n",
       "      <td>2016-03-22 19:43:53</td>\n",
       "      <td>1</td>\n",
       "      <td>small</td>\n",
       "      <td>2000</td>\n",
       "      <td>manual</td>\n",
       "      <td>100</td>\n",
       "      <td>corsa</td>\n",
       "      <td>150000</td>\n",
       "      <td>6</td>\n",
       "      <td>gasoline</td>\n",
       "      <td>opel</td>\n",
       "      <td>unknown</td>\n",
       "      <td>2016-03-22</td>\n",
       "      <td>0</td>\n",
       "      <td>4654</td>\n",
       "      <td>2016-04-06 12:16:06</td>\n",
       "    </tr>\n",
       "    <tr>\n",
       "      <th>317849</th>\n",
       "      <td>2016-03-10 17:47:24</td>\n",
       "      <td>1</td>\n",
       "      <td>wagon</td>\n",
       "      <td>2007</td>\n",
       "      <td>auto</td>\n",
       "      <td>200</td>\n",
       "      <td>3er</td>\n",
       "      <td>150000</td>\n",
       "      <td>6</td>\n",
       "      <td>gasoline</td>\n",
       "      <td>bmw</td>\n",
       "      <td>no</td>\n",
       "      <td>2016-03-10</td>\n",
       "      <td>0</td>\n",
       "      <td>90574</td>\n",
       "      <td>2016-03-12 23:15:59</td>\n",
       "    </tr>\n",
       "    <tr>\n",
       "      <th>317941</th>\n",
       "      <td>2016-03-09 13:48:39</td>\n",
       "      <td>1</td>\n",
       "      <td>coupe</td>\n",
       "      <td>1990</td>\n",
       "      <td>manual</td>\n",
       "      <td>45</td>\n",
       "      <td>polo</td>\n",
       "      <td>150000</td>\n",
       "      <td>0</td>\n",
       "      <td>petrol</td>\n",
       "      <td>volkswagen</td>\n",
       "      <td>no</td>\n",
       "      <td>2016-03-09</td>\n",
       "      <td>0</td>\n",
       "      <td>26160</td>\n",
       "      <td>2016-03-25 07:18:43</td>\n",
       "    </tr>\n",
       "    <tr>\n",
       "      <th>318326</th>\n",
       "      <td>2016-03-07 13:53:17</td>\n",
       "      <td>1</td>\n",
       "      <td>bus</td>\n",
       "      <td>1999</td>\n",
       "      <td>manual</td>\n",
       "      <td>0</td>\n",
       "      <td>espace</td>\n",
       "      <td>150000</td>\n",
       "      <td>0</td>\n",
       "      <td>petrol</td>\n",
       "      <td>renault</td>\n",
       "      <td>unknown</td>\n",
       "      <td>2016-03-07</td>\n",
       "      <td>0</td>\n",
       "      <td>57439</td>\n",
       "      <td>2016-03-08 16:51:26</td>\n",
       "    </tr>\n",
       "    <tr>\n",
       "      <th>318725</th>\n",
       "      <td>2016-03-28 14:38:14</td>\n",
       "      <td>1</td>\n",
       "      <td>wagon</td>\n",
       "      <td>1993</td>\n",
       "      <td>auto</td>\n",
       "      <td>217</td>\n",
       "      <td>5er</td>\n",
       "      <td>150000</td>\n",
       "      <td>12</td>\n",
       "      <td>petrol</td>\n",
       "      <td>bmw</td>\n",
       "      <td>unknown</td>\n",
       "      <td>2016-03-28</td>\n",
       "      <td>0</td>\n",
       "      <td>22941</td>\n",
       "      <td>2016-04-06 18:19:15</td>\n",
       "    </tr>\n",
       "  </tbody>\n",
       "</table>\n",
       "<p>782 rows × 16 columns</p>\n",
       "</div>"
      ],
      "text/plain": [
       "               DateCrawled  Price  VehicleType  RegistrationYear Gearbox  \\\n",
       "80     2016-03-28 09:37:01      1        sedan              1995  manual   \n",
       "241    2016-03-12 07:26:49      1        sedan              1990  manual   \n",
       "807    2016-03-06 00:25:25      1      unknown              1990  manual   \n",
       "865    2016-03-23 08:21:11      1        wagon              1998  manual   \n",
       "913    2016-03-15 18:57:12      3  convertible              1998  manual   \n",
       "...                    ...    ...          ...               ...     ...   \n",
       "317793 2016-03-22 19:43:53      1        small              2000  manual   \n",
       "317849 2016-03-10 17:47:24      1        wagon              2007    auto   \n",
       "317941 2016-03-09 13:48:39      1        coupe              1990  manual   \n",
       "318326 2016-03-07 13:53:17      1          bus              1999  manual   \n",
       "318725 2016-03-28 14:38:14      1        wagon              1993    auto   \n",
       "\n",
       "        Power     Model  Kilometer  RegistrationMonth  FuelType  \\\n",
       "80        113  e_klasse     150000                  4  gasoline   \n",
       "241        90        80      70000                  6    petrol   \n",
       "807         0     other     150000                  0   unknown   \n",
       "865       136     omega     150000                  0    petrol   \n",
       "913       110  mx_reihe     150000                 11   unknown   \n",
       "...       ...       ...        ...                ...       ...   \n",
       "317793    100     corsa     150000                  6  gasoline   \n",
       "317849    200       3er     150000                  6  gasoline   \n",
       "317941     45      polo     150000                  0    petrol   \n",
       "318326      0    espace     150000                  0    petrol   \n",
       "318725    217       5er     150000                 12    petrol   \n",
       "\n",
       "                Brand Repaired DateCreated  NumberOfPictures  PostalCode  \\\n",
       "80      mercedes_benz       no  2016-03-28                 0       40589   \n",
       "241              audi       no  2016-03-11                 0       55122   \n",
       "807           porsche  unknown  2016-03-05                 0       65843   \n",
       "865              opel       no  2016-03-22                 0       57614   \n",
       "913             mazda      yes  2016-03-15                 0       89312   \n",
       "...               ...      ...         ...               ...         ...   \n",
       "317793           opel  unknown  2016-03-22                 0        4654   \n",
       "317849            bmw       no  2016-03-10                 0       90574   \n",
       "317941     volkswagen       no  2016-03-09                 0       26160   \n",
       "318326        renault  unknown  2016-03-07                 0       57439   \n",
       "318725            bmw  unknown  2016-03-28                 0       22941   \n",
       "\n",
       "                  LastSeen  \n",
       "80     2016-04-06 12:15:54  \n",
       "241    2016-03-26 23:15:49  \n",
       "807    2016-04-06 20:19:08  \n",
       "865    2016-03-27 08:45:52  \n",
       "913    2016-04-06 21:16:58  \n",
       "...                    ...  \n",
       "317793 2016-04-06 12:16:06  \n",
       "317849 2016-03-12 23:15:59  \n",
       "317941 2016-03-25 07:18:43  \n",
       "318326 2016-03-08 16:51:26  \n",
       "318725 2016-04-06 18:19:15  \n",
       "\n",
       "[782 rows x 16 columns]"
      ]
     },
     "execution_count": 34,
     "metadata": {},
     "output_type": "execute_result"
    }
   ],
   "source": [
    "autos[autos.Price <= 10]"
   ]
  },
  {
   "cell_type": "markdown",
   "metadata": {},
   "source": [
    "На диаграмме с усами нет выбросов в нижей части графика, однако есть выбросы в верхней части. Однако, дорогие машины выглядят менее аномальными, чем машины, цена которых ниже 10 евро, а таких машин в данных 782. Предлагаю их тоже удалить из данных."
   ]
  },
  {
   "cell_type": "code",
   "execution_count": 35,
   "metadata": {},
   "outputs": [],
   "source": [
    "autos = autos[autos.Price > 10]"
   ]
  },
  {
   "cell_type": "markdown",
   "metadata": {},
   "source": [
    "Нижний порог для цены можно было бы повышать и дальше, но предлагаю пока предположить, что 11 евро - это уже не такая аномальная цена."
   ]
  },
  {
   "cell_type": "markdown",
   "metadata": {},
   "source": [
    "##### Признак `RegistratonYear`"
   ]
  },
  {
   "cell_type": "code",
   "execution_count": 36,
   "metadata": {},
   "outputs": [
    {
     "data": {
      "text/plain": [
       "[1000,\n",
       " 1400,\n",
       " 1500,\n",
       " 1600,\n",
       " 1602,\n",
       " 1910,\n",
       " 1923,\n",
       " 1927,\n",
       " 1928,\n",
       " 1929,\n",
       " 1930,\n",
       " 1931,\n",
       " 1932,\n",
       " 1933,\n",
       " 1934,\n",
       " 1935,\n",
       " 1936,\n",
       " 1937,\n",
       " 1938,\n",
       " 1942,\n",
       " 1943,\n",
       " 1945,\n",
       " 1947,\n",
       " 1950,\n",
       " 1951,\n",
       " 1952,\n",
       " 1953,\n",
       " 1954,\n",
       " 1955,\n",
       " 1956,\n",
       " 1957,\n",
       " 1958,\n",
       " 1959,\n",
       " 1960,\n",
       " 1961,\n",
       " 1962,\n",
       " 1963,\n",
       " 1964,\n",
       " 1965,\n",
       " 1966,\n",
       " 1967,\n",
       " 1968,\n",
       " 1969,\n",
       " 1970,\n",
       " 1971,\n",
       " 1972,\n",
       " 1973,\n",
       " 1974,\n",
       " 1975,\n",
       " 1976,\n",
       " 1977,\n",
       " 1978,\n",
       " 1979,\n",
       " 1980,\n",
       " 1981,\n",
       " 1982,\n",
       " 1983,\n",
       " 1984,\n",
       " 1985,\n",
       " 1986,\n",
       " 1987,\n",
       " 1988,\n",
       " 1989,\n",
       " 1990,\n",
       " 1991,\n",
       " 1992,\n",
       " 1993,\n",
       " 1994,\n",
       " 1995,\n",
       " 1996,\n",
       " 1997,\n",
       " 1998,\n",
       " 1999,\n",
       " 2000,\n",
       " 2001,\n",
       " 2002,\n",
       " 2003,\n",
       " 2004,\n",
       " 2005,\n",
       " 2006,\n",
       " 2007,\n",
       " 2008,\n",
       " 2009,\n",
       " 2010,\n",
       " 2011,\n",
       " 2012,\n",
       " 2013,\n",
       " 2014,\n",
       " 2015,\n",
       " 2016,\n",
       " 2017,\n",
       " 2018,\n",
       " 2019,\n",
       " 2900,\n",
       " 3700,\n",
       " 4000,\n",
       " 4500,\n",
       " 5000,\n",
       " 5911,\n",
       " 6000,\n",
       " 7100,\n",
       " 8200]"
      ]
     },
     "execution_count": 36,
     "metadata": {},
     "output_type": "execute_result"
    }
   ],
   "source": [
    "sorted(autos['RegistrationYear'].unique())"
   ]
  },
  {
   "cell_type": "markdown",
   "metadata": {},
   "source": [
    "Аномальными выглядят все значения, меньше 1910. Также проверим дату выгрузки данных из базы, чтобы определить верхнюю допустимую границу."
   ]
  },
  {
   "cell_type": "code",
   "execution_count": 37,
   "metadata": {},
   "outputs": [
    {
     "data": {
      "text/plain": [
       "Timestamp('2016-04-07 14:36:58')"
      ]
     },
     "execution_count": 37,
     "metadata": {},
     "output_type": "execute_result"
    }
   ],
   "source": [
    "autos['DateCrawled'].max()"
   ]
  },
  {
   "cell_type": "markdown",
   "metadata": {},
   "source": [
    "Таким образом, верхняя граница - это 2016 год. Удалим данные, выходящие за наши границы."
   ]
  },
  {
   "cell_type": "code",
   "execution_count": 38,
   "metadata": {},
   "outputs": [],
   "source": [
    "autos = autos[(autos['RegistrationYear'] >= 1910) & (autos['RegistrationYear'] <= 2016)]"
   ]
  },
  {
   "cell_type": "markdown",
   "metadata": {},
   "source": [
    "##### Признак `Power`"
   ]
  },
  {
   "cell_type": "code",
   "execution_count": 39,
   "metadata": {},
   "outputs": [
    {
     "data": {
      "image/png": "[encoded data removed]",
      "text/plain": [
       "<Figure size 576x1440 with 1 Axes>"
      ]
     },
     "metadata": {
      "needs_background": "light"
     },
     "output_type": "display_data"
    }
   ],
   "source": [
    "fig, ax = plt.subplots(figsize=(8, 20))\n",
    "plt.boxplot(autos['Power'])\n",
    "plt.ylabel('Мощность (л.с.)')\n",
    "plt.show()"
   ]
  },
  {
   "cell_type": "markdown",
   "metadata": {},
   "source": [
    "Видим много выбросов в верхней части графика. Я не очень хорошо разбираюсь в мощности автомобилей, но предлагаю выбрать для значений верхнюю границу, равную 500 л.с."
   ]
  },
  {
   "cell_type": "code",
   "execution_count": 40,
   "metadata": {},
   "outputs": [],
   "source": [
    "autos = autos[autos['Power'] < 500]"
   ]
  },
  {
   "cell_type": "code",
   "execution_count": 41,
   "metadata": {},
   "outputs": [
    {
     "data": {
      "image/png": "[encoded data removed]",
      "text/plain": [
       "<Figure size 576x1440 with 1 Axes>"
      ]
     },
     "metadata": {
      "needs_background": "light"
     },
     "output_type": "display_data"
    }
   ],
   "source": [
    "fig, ax = plt.subplots(figsize=(8, 20))\n",
    "plt.boxplot(autos['Power'])\n",
    "plt.ylabel('Мощность (л.с.)')\n",
    "plt.show()"
   ]
  },
  {
   "cell_type": "markdown",
   "metadata": {},
   "source": [
    "Также в данных есть строки со значением `0` в колонке `Power`. Такие значения также выглядят странно. На графике не видно выбросов в нижней части графика, но предлагаю все-таки удалить значения, меньше 10."
   ]
  },
  {
   "cell_type": "code",
   "execution_count": 42,
   "metadata": {},
   "outputs": [],
   "source": [
    "autos = autos[autos['Power'] > 10 ]"
   ]
  },
  {
   "cell_type": "markdown",
   "metadata": {},
   "source": [
    "##### Признак `RegistrationMonth`"
   ]
  },
  {
   "cell_type": "code",
   "execution_count": 43,
   "metadata": {},
   "outputs": [
    {
     "data": {
      "text/plain": [
       "3     29176\n",
       "6     26204\n",
       "4     24551\n",
       "5     24394\n",
       "7     22651\n",
       "10    21968\n",
       "12    20234\n",
       "11    20200\n",
       "9     20103\n",
       "1     19239\n",
       "8     18823\n",
       "2     17980\n",
       "0     14420\n",
       "Name: RegistrationMonth, dtype: int64"
      ]
     },
     "execution_count": 43,
     "metadata": {},
     "output_type": "execute_result"
    }
   ],
   "source": [
    "autos['RegistrationMonth'].value_counts().sort_values(ascending=False)"
   ]
  },
  {
   "cell_type": "markdown",
   "metadata": {},
   "source": [
    "Значения, равные 0, являются аномальными. Удалим их."
   ]
  },
  {
   "cell_type": "code",
   "execution_count": 44,
   "metadata": {},
   "outputs": [],
   "source": [
    "autos = autos[autos['RegistrationMonth'] != 0]"
   ]
  },
  {
   "cell_type": "code",
   "execution_count": 45,
   "metadata": {},
   "outputs": [],
   "source": [
    "autos = autos.reset_index().drop('index', axis=1)"
   ]
  },
  {
   "cell_type": "code",
   "execution_count": 46,
   "metadata": {},
   "outputs": [
    {
     "data": {
      "text/plain": [
       "(265523, 16)"
      ]
     },
     "execution_count": 46,
     "metadata": {},
     "output_type": "execute_result"
    }
   ],
   "source": [
    "autos.shape"
   ]
  },
  {
   "cell_type": "markdown",
   "metadata": {},
   "source": [
    "Мы выполнили обработку аномалий в данных: столбцы `Price`, `RegistrationYear`, `RegistrationMonth` и `Power`."
   ]
  },
  {
   "cell_type": "markdown",
   "metadata": {},
   "source": [
    "### Изучение корреляции признаков"
   ]
  },
  {
   "cell_type": "code",
   "execution_count": 47,
   "metadata": {},
   "outputs": [
    {
     "data": {
      "image/png": "[encoded data removed]",
      "text/plain": [
       "<Figure size 576x576 with 2 Axes>"
      ]
     },
     "metadata": {
      "needs_background": "light"
     },
     "output_type": "display_data"
    }
   ],
   "source": [
    "fig, ax = plt.subplots(figsize=(8,8))  \n",
    "sns.heatmap(autos.corr(), annot=True)\n",
    "plt.show()"
   ]
  },
  {
   "cell_type": "markdown",
   "metadata": {},
   "source": [
    "Видим, что с целевыми признаков `Price` больше всего коррелируют следующие (числовые) признаки:\n",
    "- `RegstrationYear`: $corr = 0.52$\n",
    "- `Power`: $corr = 0.51$\n",
    "- `Kilometer`: $corr = -0.4$"
   ]
  },
  {
   "cell_type": "markdown",
   "metadata": {},
   "source": [
    "В признаках не наблюдается мультиколлинеарность."
   ]
  },
  {
   "cell_type": "markdown",
   "metadata": {},
   "source": [
    "### Отбор признаков\n",
    "Не все признаки будут одинаково полезны для обучения. Предлагаю оставить следующие признаки:\n",
    "- `VehicleType`: категориальный признак.\n",
    "- `RegistrationYear`: категориальный признак.\n",
    "- `Gearbox`: категориальный признак.\n",
    "- `Power`.\n",
    "- `Model`: категориальный признак.\n",
    "- `Kilometer`.\n",
    "- `FuelType`: категориальный признак.\n",
    "- `Brand`: категориальный признак.\n",
    "- `Repaired`: категориальный признак."
   ]
  },
  {
   "cell_type": "code",
   "execution_count": 48,
   "metadata": {},
   "outputs": [],
   "source": [
    "features = autos[['VehicleType', 'RegistrationYear', 'Gearbox', 'Power', 'Model', 'Kilometer', 'FuelType', 'Brand', 'Repaired']]"
   ]
  },
  {
   "cell_type": "code",
   "execution_count": 49,
   "metadata": {},
   "outputs": [],
   "source": [
    "target = autos['Price']"
   ]
  },
  {
   "cell_type": "markdown",
   "metadata": {},
   "source": [
    "### Выводы по этапу подготовки данных"
   ]
  },
  {
   "cell_type": "markdown",
   "metadata": {},
   "source": [
    "Нами был выполнен этап подготовки данных. Данные были зыгружены в датафрейм `autos`. Датафрейм содержал 354369 строк-наблюдений. В данных 16 колонок:\n",
    "\n",
    "- `DateCrawled`: строковые данные, пропусков нет. Данные были преобразованы в тип `datetime`.\n",
    "- `Price`: целочисленные данные типа `int64`, пропусков нет. Из данных были удалены аномальные значения меньше 11.\n",
    "- `VehicleType`: строковые данные, 37490 пропусков. Пропуски были заменены на заглушку `unknown`.\n",
    "- `RegistrationYear`: целочисленные данные типа `int64`, пропусков нет. Из данных были удалены аномальные значения, меньше 1910 и больше 2019.\n",
    "- `Gearbox`: строковые данные, 19833 пропусков. Пропуски были удалены.\n",
    "- `Power`: целочисленные данные типа `int64`, пропусков нет. Были удалены аномальные значения, большие 500 л.с. и меньше 10 л.с.\n",
    "- `Model`:  строковые данные, 19705 пропусков. Пропуски были удалены.\n",
    "- `Kilometer`: целочисленные данные типа `int64`, пропусков нет. \n",
    "- `RegistrationMonth`: целочисленные данные типа `int64`, пропусков нет. Были удалены аномальные значения, равные 0.\n",
    "- `FuelType`: строковые данные, 32895 пропусков. Пропуски были заменены на заглушку `unknown`.\n",
    "- `Brand`: строковые данные, пропусков нет.\n",
    "- `Repaired`: строковые данные, 71154 пропусков. Пропуски были заменены на заглушку `unknown`.\n",
    "- `DateCreated`: строковые данные, пропусков нет. Данные были преобразованы в тип `datetime`.\n",
    "- `NumberOfPictures`: целочисленные данные типа `int64`, пропусков нет. \n",
    "- `PostalCode`: целочисленные данные типа `int64`, пропусков нет.\n",
    "\n",
    "Из данных были удалены 4 строки-дубликата.\n",
    "\n",
    "Была изучена корреляция признаков с целевым признаком. С целевыми признаков `Price` больше всего коррелируют следующие (числовые) признаки:\n",
    "- `RegstrationYear`: $corr = 0.52$\n",
    "- `Power`: $corr = 0.51$\n",
    "- `Kilometer`: $corr = -0.4$\n",
    "\n",
    "Для обучения были отобраны следующие признаки:\n",
    "- `VehicleType`: категориальный признак.\n",
    "- `RegistrationYear`: категориальный признак.\n",
    "- `Gearbox`: категориальный признак.\n",
    "- `Power`.\n",
    "- `Model`: категориальный признак.\n",
    "- `Kilometer`.\n",
    "- `FuelType`: категориальный признак.\n",
    "- `Brand`: категориальный признак.\n",
    "- `Repaired`: категориальный признак."
   ]
  },
  {
   "cell_type": "markdown",
   "metadata": {},
   "source": [
    "## Обучение моделей"
   ]
  },
  {
   "cell_type": "markdown",
   "metadata": {},
   "source": [
    "### Разделение на train/valid/test\n",
    "Разделим наши данные на train/valid/test в отношении 3:1:1."
   ]
  },
  {
   "cell_type": "code",
   "execution_count": 50,
   "metadata": {},
   "outputs": [],
   "source": [
    "features_train, features_validtest, target_train, target_validtest = train_test_split(\n",
    "    features, target, test_size=0.4, random_state=1)"
   ]
  },
  {
   "cell_type": "code",
   "execution_count": 51,
   "metadata": {},
   "outputs": [],
   "source": [
    "features_valid, features_test, target_valid, target_test = train_test_split(\n",
    "    features_validtest, target_validtest, test_size=0.5, random_state=1)"
   ]
  },
  {
   "cell_type": "code",
   "execution_count": 52,
   "metadata": {},
   "outputs": [
    {
     "name": "stdout",
     "output_type": "stream",
     "text": [
      "(159313, 9)\n",
      "(159313,)\n",
      "(53105, 9)\n",
      "(53105,)\n",
      "(53105, 9)\n",
      "(53105,)\n"
     ]
    }
   ],
   "source": [
    "for df in [features_train, target_train, features_valid, target_valid, features_test, target_test]:\n",
    "    print(df.shape)"
   ]
  },
  {
   "cell_type": "markdown",
   "metadata": {},
   "source": [
    "### Обработка категориальных признаков\n",
    "Библиотека `LightGBM` умеет работать с категориальными признаками, но мы будем использовать не только ее, поэтому предлагаю закодировать категориальные признаки."
   ]
  },
  {
   "cell_type": "markdown",
   "metadata": {},
   "source": [
    "Отберем признаки для кодирования."
   ]
  },
  {
   "cell_type": "code",
   "execution_count": 53,
   "metadata": {},
   "outputs": [],
   "source": [
    "encoded_features = ['VehicleType', 'Gearbox', 'Model', 'FuelType', 'Brand', 'Repaired']"
   ]
  },
  {
   "cell_type": "markdown",
   "metadata": {},
   "source": [
    "Воспользуемся OrdinalEncoder для деревьев."
   ]
  },
  {
   "cell_type": "code",
   "execution_count": 54,
   "metadata": {},
   "outputs": [],
   "source": [
    "oe = OrdinalEncoder(handle_unknown='ignore')"
   ]
  },
  {
   "cell_type": "code",
   "execution_count": 55,
   "metadata": {},
   "outputs": [],
   "source": [
    "features_oe_train = oe.fit_transform(features_train)"
   ]
  },
  {
   "cell_type": "code",
   "execution_count": 56,
   "metadata": {},
   "outputs": [],
   "source": [
    "features_oe_valid = oe.transform(features_valid)\n",
    "features_oe_test = oe.transform(features_test)"
   ]
  },
  {
   "cell_type": "markdown",
   "metadata": {},
   "source": [
    "Воспользуемся OneHotEncoder для линейной модели."
   ]
  },
  {
   "cell_type": "code",
   "execution_count": 57,
   "metadata": {},
   "outputs": [],
   "source": [
    "#ohe = OneHotEncoder(drop='first', handle_unknown='ignore', sparse=False)\n",
    "ohe = OneHotEncoder(handle_unknown='ignore', sparse=False)"
   ]
  },
  {
   "cell_type": "code",
   "execution_count": 58,
   "metadata": {},
   "outputs": [
    {
     "data": {
      "text/plain": [
       "OneHotEncoder(handle_unknown='ignore', sparse=False)"
      ]
     },
     "execution_count": 58,
     "metadata": {},
     "output_type": "execute_result"
    }
   ],
   "source": [
    "ohe.fit(features_train[encoded_features])"
   ]
  },
  {
   "cell_type": "code",
   "execution_count": 59,
   "metadata": {},
   "outputs": [],
   "source": [
    "features_ohe_train = features_train.copy()\n",
    "features_ohe_valid = features_valid.copy()\n",
    "features_ohe_test = features_test.copy()"
   ]
  },
  {
   "cell_type": "code",
   "execution_count": 60,
   "metadata": {},
   "outputs": [],
   "source": [
    "features_ohe_train[ohe.get_feature_names()] = ohe.transform(features_train[encoded_features])"
   ]
  },
  {
   "cell_type": "code",
   "execution_count": 61,
   "metadata": {},
   "outputs": [],
   "source": [
    "features_ohe_valid[ohe.get_feature_names()] = ohe.transform(features_valid[encoded_features])\n",
    "features_ohe_test[ohe.get_feature_names()] = ohe.transform(features_test[encoded_features])"
   ]
  },
  {
   "cell_type": "code",
   "execution_count": 62,
   "metadata": {},
   "outputs": [],
   "source": [
    "features_ohe_train = features_ohe_train.drop(encoded_features, axis=1)\n",
    "features_ohe_valid = features_ohe_valid.drop(encoded_features, axis=1)\n",
    "features_ohe_test = features_ohe_test.drop(encoded_features, axis=1)"
   ]
  },
  {
   "cell_type": "markdown",
   "metadata": {},
   "source": [
    "### Масштабирование признаков\n",
    "Для линейной регрессии стоит выполнить масштабирование линейных переменных."
   ]
  },
  {
   "cell_type": "code",
   "execution_count": 63,
   "metadata": {
    "scrolled": true
   },
   "outputs": [
    {
     "name": "stdout",
     "output_type": "stream",
     "text": [
      "<class 'pandas.core.frame.DataFrame'>\n",
      "Int64Index: 159313 entries, 218466 to 128037\n",
      "Data columns (total 9 columns):\n",
      " #   Column            Non-Null Count   Dtype \n",
      "---  ------            --------------   ----- \n",
      " 0   VehicleType       159313 non-null  object\n",
      " 1   RegistrationYear  159313 non-null  int64 \n",
      " 2   Gearbox           159313 non-null  object\n",
      " 3   Power             159313 non-null  int64 \n",
      " 4   Model             159313 non-null  object\n",
      " 5   Kilometer         159313 non-null  int64 \n",
      " 6   FuelType          159313 non-null  object\n",
      " 7   Brand             159313 non-null  object\n",
      " 8   Repaired          159313 non-null  object\n",
      "dtypes: int64(3), object(6)\n",
      "memory usage: 12.2+ MB\n"
     ]
    }
   ],
   "source": [
    "features_train.info()"
   ]
  },
  {
   "cell_type": "code",
   "execution_count": 64,
   "metadata": {},
   "outputs": [],
   "source": [
    "num_features = ['RegistrationYear', 'Power', 'Kilometer']"
   ]
  },
  {
   "cell_type": "code",
   "execution_count": 65,
   "metadata": {},
   "outputs": [],
   "source": [
    "scaler = StandardScaler()"
   ]
  },
  {
   "cell_type": "code",
   "execution_count": 66,
   "metadata": {},
   "outputs": [],
   "source": [
    "features_ohe_train[num_features] = scaler.fit_transform(features_ohe_train[num_features])"
   ]
  },
  {
   "cell_type": "code",
   "execution_count": 67,
   "metadata": {},
   "outputs": [],
   "source": [
    "features_ohe_valid[num_features] = scaler.transform(features_ohe_valid[num_features])\n",
    "features_ohe_test[num_features] = scaler.transform(features_ohe_test[num_features])"
   ]
  },
  {
   "cell_type": "markdown",
   "metadata": {},
   "source": [
    "### Модель линейной регрессии\n",
    "Сначала обучим модель линейной регрессии."
   ]
  },
  {
   "cell_type": "code",
   "execution_count": 68,
   "metadata": {},
   "outputs": [],
   "source": [
    "model = LinearRegression()"
   ]
  },
  {
   "cell_type": "code",
   "execution_count": 69,
   "metadata": {},
   "outputs": [
    {
     "name": "stdout",
     "output_type": "stream",
     "text": [
      "CPU times: user 13.9 s, sys: 19.1 s, total: 33 s\n",
      "Wall time: 33 s\n"
     ]
    },
    {
     "data": {
      "text/plain": [
       "LinearRegression()"
      ]
     },
     "execution_count": 69,
     "metadata": {},
     "output_type": "execute_result"
    }
   ],
   "source": [
    "%%time\n",
    "model.fit(features_ohe_train, target_train)"
   ]
  },
  {
   "cell_type": "code",
   "execution_count": 70,
   "metadata": {},
   "outputs": [
    {
     "name": "stdout",
     "output_type": "stream",
     "text": [
      "CPU times: user 94.2 ms, sys: 134 ms, total: 229 ms\n",
      "Wall time: 213 ms\n"
     ]
    }
   ],
   "source": [
    "%%time\n",
    "predict_valid = model.predict(features_ohe_valid)"
   ]
  },
  {
   "cell_type": "code",
   "execution_count": 71,
   "metadata": {},
   "outputs": [
    {
     "name": "stdout",
     "output_type": "stream",
     "text": [
      "RMSE = 2522.878531086929\n"
     ]
    }
   ],
   "source": [
    "rmse = mean_squared_error(target_valid, predict_valid, squared=False)\n",
    "print('RMSE =', rmse)"
   ]
  },
  {
   "cell_type": "markdown",
   "metadata": {},
   "source": [
    "Полученное значение RMSE ниже значения, заявленного в задаче, модель линейной регресси не подходит."
   ]
  },
  {
   "cell_type": "markdown",
   "metadata": {},
   "source": [
    "### Модель LightGBM"
   ]
  },
  {
   "cell_type": "code",
   "execution_count": 72,
   "metadata": {},
   "outputs": [
    {
     "name": "stdout",
     "output_type": "stream",
     "text": [
      "Learning rate = 0.05\n",
      "Number of estimators = 50\n",
      "Training until validation scores don't improve for 5 rounds\n",
      "Did not meet early stopping. Best iteration is:\n",
      "[50]\tvalid_0's rmse: 1979.49\tvalid_0's l2: 3.91839e+06\n",
      "Number of estimators = 100\n",
      "Training until validation scores don't improve for 5 rounds\n",
      "Did not meet early stopping. Best iteration is:\n",
      "[100]\tvalid_0's rmse: 1766.92\tvalid_0's l2: 3.12199e+06\n",
      "Learning rate = 0.01\n",
      "Number of estimators = 50\n",
      "Training until validation scores don't improve for 5 rounds\n",
      "Did not meet early stopping. Best iteration is:\n",
      "[50]\tvalid_0's rmse: 3378.29\tvalid_0's l2: 1.14129e+07\n",
      "Number of estimators = 100\n",
      "Training until validation scores don't improve for 5 rounds\n",
      "Did not meet early stopping. Best iteration is:\n",
      "[100]\tvalid_0's rmse: 2689.05\tvalid_0's l2: 7.23099e+06\n",
      "CPU times: user 3min 41s, sys: 1.51 s, total: 3min 43s\n",
      "Wall time: 3min 45s\n"
     ]
    }
   ],
   "source": [
    "%%time\n",
    "rmse_best = 2522\n",
    "best_gbm = model\n",
    "for lr in [0.05, 0.01 ]:\n",
    "    print(f'Learning rate = {lr}')\n",
    "    for n_est in [50, 100]:\n",
    "        print(f'Number of estimators = {n_est}')\n",
    "        gbm = lgb.LGBMRegressor(objective='regression',\n",
    "                        num_leaves=31,\n",
    "                        n_estimators=n_est,\n",
    "                        learning_rate=lr)\n",
    "        gbm.fit(features_oe_train, target_train,\n",
    "                eval_set=[(features_oe_valid, target_valid)],\n",
    "                eval_metric='rmse',\n",
    "                callbacks=[lgb.early_stopping(5)])\n",
    "        predict_valid = gbm.predict(features_oe_valid, num_iteration=gbm.best_iteration_)\n",
    "        rmse = mean_squared_error(target_valid, predict_valid, squared=False)\n",
    "        if rmse_best > rmse:\n",
    "            rmse_best = rmse\n",
    "            best_gbm = gbm"
   ]
  },
  {
   "cell_type": "code",
   "execution_count": 73,
   "metadata": {},
   "outputs": [
    {
     "data": {
      "text/plain": [
       "LGBMRegressor(learning_rate=0.05, objective='regression')"
      ]
     },
     "execution_count": 73,
     "metadata": {},
     "output_type": "execute_result"
    }
   ],
   "source": [
    "best_gbm"
   ]
  },
  {
   "cell_type": "code",
   "execution_count": 74,
   "metadata": {},
   "outputs": [
    {
     "name": "stdout",
     "output_type": "stream",
     "text": [
      "CPU times: user 446 ms, sys: 0 ns, total: 446 ms\n",
      "Wall time: 394 ms\n"
     ]
    }
   ],
   "source": [
    "%%time\n",
    "predict_valid = best_gbm.predict(features_oe_valid, num_iteration=best_gbm.best_iteration_)"
   ]
  },
  {
   "cell_type": "code",
   "execution_count": 75,
   "metadata": {},
   "outputs": [
    {
     "name": "stdout",
     "output_type": "stream",
     "text": [
      "RMSE = 1766.916073991353\n"
     ]
    }
   ],
   "source": [
    "rmse = mean_squared_error(target_valid, predict_valid, squared=False)\n",
    "print('RMSE =', rmse)"
   ]
  },
  {
   "cell_type": "markdown",
   "metadata": {},
   "source": [
    "Модель бустинга продемонстрировала RMSE = 1767 с гиперпараметрами learning_rate=0.05, n_estimators=100."
   ]
  },
  {
   "cell_type": "markdown",
   "metadata": {},
   "source": [
    "### Модель RandomForestClassifier"
   ]
  },
  {
   "cell_type": "code",
   "execution_count": 76,
   "metadata": {},
   "outputs": [],
   "source": [
    "rfr = RandomForestRegressor(random_state=1, n_estimators=200, max_features='sqrt')"
   ]
  },
  {
   "cell_type": "code",
   "execution_count": 77,
   "metadata": {},
   "outputs": [
    {
     "name": "stdout",
     "output_type": "stream",
     "text": [
      "CPU times: user 34.3 s, sys: 964 ms, total: 35.3 s\n",
      "Wall time: 35.3 s\n"
     ]
    },
    {
     "data": {
      "text/plain": [
       "RandomForestRegressor(max_features='sqrt', n_estimators=200, random_state=1)"
      ]
     },
     "execution_count": 77,
     "metadata": {},
     "output_type": "execute_result"
    }
   ],
   "source": [
    "%%time\n",
    "rfr.fit(features_oe_train, target_train)"
   ]
  },
  {
   "cell_type": "code",
   "execution_count": 78,
   "metadata": {},
   "outputs": [
    {
     "name": "stdout",
     "output_type": "stream",
     "text": [
      "CPU times: user 4.19 s, sys: 28.3 ms, total: 4.21 s\n",
      "Wall time: 4.22 s\n"
     ]
    }
   ],
   "source": [
    "%%time\n",
    "predict_valid = rfr.predict(features_oe_valid)"
   ]
  },
  {
   "cell_type": "code",
   "execution_count": 79,
   "metadata": {},
   "outputs": [
    {
     "name": "stdout",
     "output_type": "stream",
     "text": [
      "RMSE = 1553.1837613838707\n"
     ]
    }
   ],
   "source": [
    "rmse = mean_squared_error(target_valid, predict_valid, squared=False)\n",
    "print('RMSE =', rmse)"
   ]
  },
  {
   "cell_type": "markdown",
   "metadata": {},
   "source": [
    "Мы получили значение RMSE = 1553 при использовании RandomForestRegressor с гиперпараметрами `max_features`=`sqrt`, `n_estimators`=200. Это лучший результат."
   ]
  },
  {
   "cell_type": "markdown",
   "metadata": {},
   "source": [
    "## Анализ моделей"
   ]
  },
  {
   "cell_type": "markdown",
   "metadata": {},
   "source": [
    "Сначала измерим время обучения для LGBMRegressor c лучшими параметрами."
   ]
  },
  {
   "cell_type": "code",
   "execution_count": 80,
   "metadata": {},
   "outputs": [],
   "source": [
    "lgbm = LGBMRegressor(learning_rate=0.05, objective='regression')"
   ]
  },
  {
   "cell_type": "code",
   "execution_count": 81,
   "metadata": {},
   "outputs": [
    {
     "name": "stdout",
     "output_type": "stream",
     "text": [
      "CPU times: user 39.5 s, sys: 282 ms, total: 39.7 s\n",
      "Wall time: 40.2 s\n"
     ]
    },
    {
     "data": {
      "text/plain": [
       "LGBMRegressor(learning_rate=0.05, objective='regression')"
      ]
     },
     "execution_count": 81,
     "metadata": {},
     "output_type": "execute_result"
    }
   ],
   "source": [
    "%%time\n",
    "lgbm.fit(features_oe_train, target_train)"
   ]
  },
  {
   "cell_type": "code",
   "execution_count": 82,
   "metadata": {},
   "outputs": [
    {
     "name": "stdout",
     "output_type": "stream",
     "text": [
      "CPU times: user 451 ms, sys: 0 ns, total: 451 ms\n",
      "Wall time: 485 ms\n"
     ]
    }
   ],
   "source": [
    "%%time\n",
    "predict_valid = lgbm.predict(features_oe_valid)"
   ]
  },
  {
   "cell_type": "code",
   "execution_count": 83,
   "metadata": {},
   "outputs": [
    {
     "name": "stdout",
     "output_type": "stream",
     "text": [
      "RMSE = 1766.916073991353\n"
     ]
    }
   ],
   "source": [
    "rmse = mean_squared_error(target_valid, predict_valid, squared=False)\n",
    "print('RMSE =', rmse)"
   ]
  },
  {
   "cell_type": "markdown",
   "metadata": {},
   "source": [
    "Мы обучили три модели регрессии и измерили качество этих моделей на валидационных выборках. Для оценки качества была использовала метрика RMSE. Результаты представлены в таблице ниже.\n",
    "\n",
    "|Модель|RMSE|Время обучения|Время предсказания|\n",
    "|------|---:|-------------------|------------------|\n",
    "|Линейная регрессия|2523|33 s|213 ms|\n",
    "|LightGBM|1767|40.2 s|485 ms|\n",
    "|Случайный лес|1553|35.3 s|4.22 s|\n",
    "\n",
    "Наилучший результат продемонстрировала модель RandomForestRegressor с гиперпараметрами `max_features`=`sqrt`, `n_estimators`=200. Она также продемострировала среднюю скорость, т.е. обучается быстрее грандиентного бустинга, но медленнее линейной регрессии. Таким образом, оптимальной моделью является модель случайного леса.\n",
    "\n",
    "Протестируем ее на тестовых данных."
   ]
  },
  {
   "cell_type": "code",
   "execution_count": 84,
   "metadata": {},
   "outputs": [
    {
     "name": "stdout",
     "output_type": "stream",
     "text": [
      "CPU times: user 4.13 s, sys: 20.2 ms, total: 4.15 s\n",
      "Wall time: 4.19 s\n"
     ]
    }
   ],
   "source": [
    "%%time\n",
    "predict_test = rfr.predict(features_oe_test)"
   ]
  },
  {
   "cell_type": "code",
   "execution_count": 85,
   "metadata": {},
   "outputs": [
    {
     "name": "stdout",
     "output_type": "stream",
     "text": [
      "RMSE = 1533.1644968151231\n"
     ]
    }
   ],
   "source": [
    "rmse = mean_squared_error(target_test, predict_test, squared=False)\n",
    "print('RMSE =', rmse)"
   ]
  },
  {
   "cell_type": "markdown",
   "metadata": {},
   "source": [
    "На тестовой выборке модель продемонстировала RMSE = 1533."
   ]
  },
  {
   "cell_type": "markdown",
   "metadata": {},
   "source": [
    "## Проверка на адекватность"
   ]
  },
  {
   "cell_type": "code",
   "execution_count": 86,
   "metadata": {},
   "outputs": [],
   "source": [
    "dummy_regressor = DummyRegressor()"
   ]
  },
  {
   "cell_type": "code",
   "execution_count": 87,
   "metadata": {},
   "outputs": [
    {
     "name": "stdout",
     "output_type": "stream",
     "text": [
      "CPU times: user 0 ns, sys: 1.17 ms, total: 1.17 ms\n",
      "Wall time: 868 µs\n"
     ]
    },
    {
     "data": {
      "text/plain": [
       "DummyRegressor()"
      ]
     },
     "execution_count": 87,
     "metadata": {},
     "output_type": "execute_result"
    }
   ],
   "source": [
    "%%time\n",
    "dummy_regressor.fit(features_oe_train, target_train)"
   ]
  },
  {
   "cell_type": "code",
   "execution_count": 88,
   "metadata": {},
   "outputs": [
    {
     "name": "stdout",
     "output_type": "stream",
     "text": [
      "CPU times: user 204 µs, sys: 89 µs, total: 293 µs\n",
      "Wall time: 313 µs\n"
     ]
    }
   ],
   "source": [
    "%%time\n",
    "dummy_predict = dummy_regressor.predict(features_oe_test)"
   ]
  },
  {
   "cell_type": "code",
   "execution_count": 89,
   "metadata": {},
   "outputs": [
    {
     "name": "stdout",
     "output_type": "stream",
     "text": [
      "RMSE = 4638.707981393021\n"
     ]
    }
   ],
   "source": [
    "rmse = mean_squared_error(target_test, dummy_predict, squared=False)\n",
    "print('RMSE =', rmse)"
   ]
  },
  {
   "cell_type": "markdown",
   "metadata": {},
   "source": [
    "Выбранная нами модель проходит проверку на адекватность."
   ]
  },
  {
   "cell_type": "markdown",
   "metadata": {},
   "source": [
    "## Выводы"
   ]
  },
  {
   "cell_type": "markdown",
   "metadata": {},
   "source": [
    "Была обучена и протестирована модель для определения стоимости автомобилей. Работа выполнялась в несколько этапов.\n",
    "1. На первом этапе была проведена подготовка данных. Данные были зыгружены в датафрейм `autos`. Датафрейм содержал 354369 строк-наблюдений. В данных 16 колонок:\n",
    "\n",
    "    - `DateCrawled`: строковые данные, пропусков нет. Данные были преобразованы в тип `datetime`.\n",
    "    - `Price`: целочисленные данные типа `int64`, пропусков нет. Из данных были удалены аномальные значения меньше 11.\n",
    "    - `VehicleType`: строковые данные, 37490 пропусков. Пропуски были заменены на заглушку `unknown`.\n",
    "    - `RegistrationYear`: целочисленные данные типа `int64`, пропусков нет. Из данных были удалены аномальные значения, меньше 1910 и больше 2019.\n",
    "    - `Gearbox`: строковые данные, 19833 пропусков. Пропуски были удалены.\n",
    "    - `Power`: целочисленные данные типа `int64`, пропусков нет. Были удалены аномальные значения, большие 500 л.с. и меньше 10 л.с.\n",
    "    - `Model`:  строковые данные, 19705 пропусков. Пропуски были удалены.\n",
    "    - `Kilometer`: целочисленные данные типа `int64`, пропусков нет. \n",
    "    - `RegistrationMonth`: целочисленные данные типа `int64`, пропусков нет. Были удалены аномальные значения, равные 0.\n",
    "    - `FuelType`: строковые данные, 32895 пропусков. Пропуски были заменены на заглушку `unknown`.\n",
    "    - `Brand`: строковые данные, пропусков нет.\n",
    "    - `Repaired`: строковые данные, 71154 пропусков. Пропуски были заменены на заглушку `unknown`.\n",
    "    - `DateCreated`: строковые данные, пропусков нет. Данные были преобразованы в тип `datetime`.\n",
    "    - `NumberOfPictures`: целочисленные данные типа `int64`, пропусков нет. \n",
    "    - `PostalCode`: целочисленные данные типа `int64`, пропусков нет.\n",
    "\n",
    "    Из данных были удалены 4 строки-дубликата.\n",
    "\n",
    "    Была изучена корреляция признаков с целевым признаком. С целевыми признаков `Price` больше всего коррелируют следующие (числовые) признаки:\n",
    "    - `RegstrationYear`: $corr = 0.52$\n",
    "    - `Power`: $corr = 0.51$\n",
    "    - `Kilometer`: $corr = -0.4$\n",
    "\n",
    "    Для обучения были отобраны следующие признаки:\n",
    "    - `VehicleType`: категориальный признак.\n",
    "    - `RegistrationYear`: категориальный признак.\n",
    "    - `Gearbox`: категориальный признак.\n",
    "    - `Power`.\n",
    "    - `Model`: категориальный признак.\n",
    "    - `Kilometer`.\n",
    "    - `FuelType`: категориальный признак.\n",
    "    - `Brand`: категориальный признак.\n",
    "    - `Repaired`: категориальный признак.\n",
    "    \n",
    "    \n",
    "2. Вторым этапом стало обучение моделей. Были обработаны категориальные признаки: признаки `Gearbox`, `Repaired` были преобразованы с помощью one hot encoding, признаки `VehicleType`, `Model`, `Brand`, `FuelType` были закодированы label encoder-ом. Данные были разделены на обучающую, валидационную и тестовую выборки в отношении 3:1:1. Затем были обучены три модели. Результаты представлены в таблице ниже.\n",
    "\n",
    "\n",
    "3. Мы проанализировали полученны нами результаты, представленные в таблице ниже.\n",
    "\n",
    "    |Модель|RMSE|Время обучения|Время предсказания|\n",
    "    |------|---:|-------------------|------------------|\n",
    "    |Линейная регрессия|2523|33 s|213 ms|\n",
    "    |LightGBM|1767|40.2 s|485 ms|\n",
    "    |Случайный лес|1553|35.3 s|4.22 s|\n",
    "\n",
    "    Наилучший результат продемонстрировала модель RandomForestRegressor с гиперпараметрами `max_features`=`sqrt`, `n_estimators`=200. Она также продемострировала среднюю скорость, т.е. обучается быстрее грандиентного бустинга, но медленнее линейной регрессии. Таким образом, оптимальной моделью является модель случайного леса.\n",
    "    \n",
    "    Модель была протестирована на тестовых данных. Было получено значение метрики RMSE = 1533.\n"
   ]
  }
 ],
 "metadata": {
  "ExecuteTimeLog": [
   {
    "duration": 454,
    "start_time": "2023-08-12T08:09:40.821Z"
   },
   {
    "duration": 3,
    "start_time": "2023-08-12T08:10:11.475Z"
   },
   {
    "duration": 1307,
    "start_time": "2023-08-12T08:11:02.282Z"
   },
   {
    "duration": 878,
    "start_time": "2023-08-12T08:11:22.123Z"
   },
   {
    "duration": 65,
    "start_time": "2023-08-12T08:35:29.745Z"
   },
   {
    "duration": 409,
    "start_time": "2023-08-12T08:35:54.059Z"
   },
   {
    "duration": 5,
    "start_time": "2023-08-12T08:36:02.477Z"
   },
   {
    "duration": 104,
    "start_time": "2023-08-12T08:37:26.434Z"
   },
   {
    "duration": 100,
    "start_time": "2023-08-12T08:37:55.433Z"
   },
   {
    "duration": 98,
    "start_time": "2023-08-12T08:38:22.921Z"
   },
   {
    "duration": 98,
    "start_time": "2023-08-12T08:39:11.592Z"
   },
   {
    "duration": 6,
    "start_time": "2023-08-12T08:41:18.768Z"
   },
   {
    "duration": 6,
    "start_time": "2023-08-12T08:41:23.783Z"
   },
   {
    "duration": 7,
    "start_time": "2023-08-12T08:41:28.825Z"
   },
   {
    "duration": 8,
    "start_time": "2023-08-12T08:41:32.659Z"
   },
   {
    "duration": 17,
    "start_time": "2023-08-12T08:41:38.133Z"
   },
   {
    "duration": 30,
    "start_time": "2023-08-12T08:42:00.503Z"
   },
   {
    "duration": 49,
    "start_time": "2023-08-12T08:45:50.670Z"
   },
   {
    "duration": 32,
    "start_time": "2023-08-12T08:49:16.950Z"
   },
   {
    "duration": 534,
    "start_time": "2023-08-12T08:49:21.130Z"
   },
   {
    "duration": 244,
    "start_time": "2023-08-12T08:49:45.350Z"
   },
   {
    "duration": 214,
    "start_time": "2023-08-12T08:49:54.213Z"
   },
   {
    "duration": 240,
    "start_time": "2023-08-12T08:50:08.267Z"
   },
   {
    "duration": 29,
    "start_time": "2023-08-12T08:51:03.508Z"
   },
   {
    "duration": 49,
    "start_time": "2023-08-12T08:51:17.279Z"
   },
   {
    "duration": 28,
    "start_time": "2023-08-12T08:51:25.545Z"
   },
   {
    "duration": 21,
    "start_time": "2023-08-12T08:55:33.923Z"
   },
   {
    "duration": 16,
    "start_time": "2023-08-12T08:55:43.578Z"
   },
   {
    "duration": 14,
    "start_time": "2023-08-12T08:55:46.853Z"
   },
   {
    "duration": 31,
    "start_time": "2023-08-12T08:56:18.248Z"
   },
   {
    "duration": 29,
    "start_time": "2023-08-12T08:56:37.048Z"
   },
   {
    "duration": 16,
    "start_time": "2023-08-12T08:56:52.108Z"
   },
   {
    "duration": 19,
    "start_time": "2023-08-12T08:56:56.419Z"
   },
   {
    "duration": 24,
    "start_time": "2023-08-12T08:57:31.201Z"
   },
   {
    "duration": 24,
    "start_time": "2023-08-12T08:57:44.794Z"
   },
   {
    "duration": 101,
    "start_time": "2023-08-12T08:58:18.199Z"
   },
   {
    "duration": 18,
    "start_time": "2023-08-12T09:25:45.085Z"
   },
   {
    "duration": 14,
    "start_time": "2023-08-12T09:25:53.686Z"
   },
   {
    "duration": 34,
    "start_time": "2023-08-12T09:26:47.974Z"
   },
   {
    "duration": 30,
    "start_time": "2023-08-12T09:27:07.336Z"
   },
   {
    "duration": 17,
    "start_time": "2023-08-12T09:27:58.880Z"
   },
   {
    "duration": 15,
    "start_time": "2023-08-12T09:28:06.354Z"
   },
   {
    "duration": 15,
    "start_time": "2023-08-12T09:28:10.293Z"
   },
   {
    "duration": 12,
    "start_time": "2023-08-12T09:35:58.133Z"
   },
   {
    "duration": 7,
    "start_time": "2023-08-12T09:36:47.259Z"
   },
   {
    "duration": 111,
    "start_time": "2023-08-12T09:37:22.363Z"
   },
   {
    "duration": 92,
    "start_time": "2023-08-12T09:37:36.074Z"
   },
   {
    "duration": 12,
    "start_time": "2023-08-12T09:53:05.612Z"
   },
   {
    "duration": 100,
    "start_time": "2023-08-12T09:55:56.340Z"
   },
   {
    "duration": 60,
    "start_time": "2023-08-12T09:55:56.965Z"
   },
   {
    "duration": 63,
    "start_time": "2023-08-12T09:55:57.525Z"
   },
   {
    "duration": 69,
    "start_time": "2023-08-12T09:56:02.178Z"
   },
   {
    "duration": 3,
    "start_time": "2023-08-12T09:56:54.276Z"
   },
   {
    "duration": 420,
    "start_time": "2023-08-12T09:57:02.864Z"
   },
   {
    "duration": 13,
    "start_time": "2023-08-12T09:58:31.116Z"
   },
   {
    "duration": 46,
    "start_time": "2023-08-12T09:59:54.631Z"
   },
   {
    "duration": 1190,
    "start_time": "2023-08-12T10:00:04.820Z"
   },
   {
    "duration": 3,
    "start_time": "2023-08-12T10:00:06.012Z"
   },
   {
    "duration": 750,
    "start_time": "2023-08-12T10:00:06.016Z"
   },
   {
    "duration": 686,
    "start_time": "2023-08-12T10:00:06.767Z"
   },
   {
    "duration": 430,
    "start_time": "2023-08-12T10:00:07.455Z"
   },
   {
    "duration": 3,
    "start_time": "2023-08-12T10:00:07.887Z"
   },
   {
    "duration": 183,
    "start_time": "2023-08-12T10:00:07.892Z"
   },
   {
    "duration": 27,
    "start_time": "2023-08-12T10:00:08.077Z"
   },
   {
    "duration": 273,
    "start_time": "2023-08-12T10:00:08.106Z"
   },
   {
    "duration": 31,
    "start_time": "2023-08-12T10:00:08.381Z"
   },
   {
    "duration": 65,
    "start_time": "2023-08-12T10:00:08.414Z"
   },
   {
    "duration": 31,
    "start_time": "2023-08-12T10:00:08.481Z"
   },
   {
    "duration": 35,
    "start_time": "2023-08-12T10:00:08.514Z"
   },
   {
    "duration": 16,
    "start_time": "2023-08-12T10:00:08.552Z"
   },
   {
    "duration": 22,
    "start_time": "2023-08-12T10:00:08.569Z"
   },
   {
    "duration": 47,
    "start_time": "2023-08-12T10:00:08.592Z"
   },
   {
    "duration": 25,
    "start_time": "2023-08-12T10:00:08.640Z"
   },
   {
    "duration": 32,
    "start_time": "2023-08-12T10:00:08.666Z"
   },
   {
    "duration": 19,
    "start_time": "2023-08-12T10:00:08.699Z"
   },
   {
    "duration": 36,
    "start_time": "2023-08-12T10:00:08.720Z"
   },
   {
    "duration": 23,
    "start_time": "2023-08-12T10:00:08.757Z"
   },
   {
    "duration": 13,
    "start_time": "2023-08-12T10:00:08.781Z"
   },
   {
    "duration": 232,
    "start_time": "2023-08-12T10:00:08.796Z"
   },
   {
    "duration": 0,
    "start_time": "2023-08-12T10:00:09.029Z"
   },
   {
    "duration": 0,
    "start_time": "2023-08-12T10:00:09.030Z"
   },
   {
    "duration": 0,
    "start_time": "2023-08-12T10:00:09.031Z"
   },
   {
    "duration": 0,
    "start_time": "2023-08-12T10:00:09.037Z"
   },
   {
    "duration": 0,
    "start_time": "2023-08-12T10:00:09.039Z"
   },
   {
    "duration": 0,
    "start_time": "2023-08-12T10:00:09.040Z"
   },
   {
    "duration": 0,
    "start_time": "2023-08-12T10:00:09.040Z"
   },
   {
    "duration": 154,
    "start_time": "2023-08-12T10:00:20.538Z"
   },
   {
    "duration": 105,
    "start_time": "2023-08-12T10:00:21.793Z"
   },
   {
    "duration": 12,
    "start_time": "2023-08-12T10:00:23.383Z"
   },
   {
    "duration": 61,
    "start_time": "2023-08-12T10:00:23.723Z"
   },
   {
    "duration": 53,
    "start_time": "2023-08-12T10:00:24.145Z"
   },
   {
    "duration": 76,
    "start_time": "2023-08-12T10:00:24.543Z"
   },
   {
    "duration": 68,
    "start_time": "2023-08-12T10:00:25.262Z"
   },
   {
    "duration": 12,
    "start_time": "2023-08-12T10:00:26.673Z"
   },
   {
    "duration": 67,
    "start_time": "2023-08-12T10:02:23.703Z"
   },
   {
    "duration": 78,
    "start_time": "2023-08-12T10:02:44.901Z"
   },
   {
    "duration": 9,
    "start_time": "2023-08-12T10:13:28.092Z"
   },
   {
    "duration": 7,
    "start_time": "2023-08-12T10:13:35.283Z"
   },
   {
    "duration": 9,
    "start_time": "2023-08-12T10:13:39.066Z"
   },
   {
    "duration": 1612,
    "start_time": "2023-08-12T10:14:12.675Z"
   },
   {
    "duration": 332,
    "start_time": "2023-08-12T10:14:33.571Z"
   },
   {
    "duration": 341,
    "start_time": "2023-08-12T10:16:44.091Z"
   },
   {
    "duration": 5,
    "start_time": "2023-08-12T10:17:23.962Z"
   },
   {
    "duration": 4,
    "start_time": "2023-08-12T10:17:28.493Z"
   },
   {
    "duration": 25,
    "start_time": "2023-08-12T10:17:42.103Z"
   },
   {
    "duration": 23,
    "start_time": "2023-08-12T10:18:18.972Z"
   },
   {
    "duration": 40,
    "start_time": "2023-08-12T10:22:57.090Z"
   },
   {
    "duration": 125,
    "start_time": "2023-08-12T10:23:05.094Z"
   },
   {
    "duration": 135,
    "start_time": "2023-08-12T10:23:41.596Z"
   },
   {
    "duration": 21,
    "start_time": "2023-08-12T10:24:03.119Z"
   },
   {
    "duration": 14,
    "start_time": "2023-08-12T10:24:08.530Z"
   },
   {
    "duration": 14,
    "start_time": "2023-08-12T10:49:38.849Z"
   },
   {
    "duration": 23,
    "start_time": "2023-08-12T10:49:48.482Z"
   },
   {
    "duration": 149,
    "start_time": "2023-08-12T10:50:12.694Z"
   },
   {
    "duration": 163,
    "start_time": "2023-08-12T10:50:31.904Z"
   },
   {
    "duration": 285,
    "start_time": "2023-08-12T10:50:42.013Z"
   },
   {
    "duration": 25,
    "start_time": "2023-08-12T10:51:05.145Z"
   },
   {
    "duration": 20,
    "start_time": "2023-08-12T10:51:58.888Z"
   },
   {
    "duration": 23,
    "start_time": "2023-08-12T10:52:04.414Z"
   },
   {
    "duration": 26,
    "start_time": "2023-08-12T10:52:13.969Z"
   },
   {
    "duration": 20,
    "start_time": "2023-08-12T10:52:33.545Z"
   },
   {
    "duration": 355,
    "start_time": "2023-08-12T10:53:21.615Z"
   },
   {
    "duration": 337,
    "start_time": "2023-08-12T10:53:32.014Z"
   },
   {
    "duration": 374,
    "start_time": "2023-08-12T10:53:42.644Z"
   },
   {
    "duration": 83,
    "start_time": "2023-08-12T10:54:01.554Z"
   },
   {
    "duration": 9,
    "start_time": "2023-08-12T10:54:35.629Z"
   },
   {
    "duration": 4,
    "start_time": "2023-08-12T10:54:38.454Z"
   },
   {
    "duration": 25,
    "start_time": "2023-08-12T10:56:11.688Z"
   },
   {
    "duration": 181,
    "start_time": "2023-08-12T10:58:04.289Z"
   },
   {
    "duration": 115,
    "start_time": "2023-08-12T10:58:57.920Z"
   },
   {
    "duration": 108,
    "start_time": "2023-08-12T10:59:22.894Z"
   },
   {
    "duration": 119,
    "start_time": "2023-08-12T10:59:31.293Z"
   },
   {
    "duration": 140,
    "start_time": "2023-08-12T10:59:36.890Z"
   },
   {
    "duration": 165,
    "start_time": "2023-08-12T11:01:14.710Z"
   },
   {
    "duration": 25,
    "start_time": "2023-08-12T11:03:11.370Z"
   },
   {
    "duration": 9,
    "start_time": "2023-08-12T11:04:27.368Z"
   },
   {
    "duration": 21,
    "start_time": "2023-08-12T11:04:47.286Z"
   },
   {
    "duration": 20,
    "start_time": "2023-08-12T11:04:59.485Z"
   },
   {
    "duration": 33,
    "start_time": "2023-08-12T11:06:11.160Z"
   },
   {
    "duration": 251,
    "start_time": "2023-08-12T11:06:22.099Z"
   },
   {
    "duration": 4,
    "start_time": "2023-08-12T11:07:06.353Z"
   },
   {
    "duration": 2849,
    "start_time": "2023-08-12T11:07:54.513Z"
   },
   {
    "duration": 38,
    "start_time": "2023-08-12T11:08:15.751Z"
   },
   {
    "duration": 1567,
    "start_time": "2023-08-12T11:08:20.610Z"
   },
   {
    "duration": 170,
    "start_time": "2023-08-12T11:08:40.451Z"
   },
   {
    "duration": 159,
    "start_time": "2023-08-12T11:08:53.561Z"
   },
   {
    "duration": 155,
    "start_time": "2023-08-12T11:09:15.253Z"
   },
   {
    "duration": 1386,
    "start_time": "2023-08-12T11:10:37.106Z"
   },
   {
    "duration": 5,
    "start_time": "2023-08-12T11:10:45.484Z"
   },
   {
    "duration": 8,
    "start_time": "2023-08-12T11:10:57.004Z"
   },
   {
    "duration": 1117,
    "start_time": "2023-08-12T11:11:14.471Z"
   },
   {
    "duration": 6,
    "start_time": "2023-08-12T11:11:28.432Z"
   },
   {
    "duration": 9,
    "start_time": "2023-08-12T11:12:02.364Z"
   },
   {
    "duration": 82,
    "start_time": "2023-08-12T11:13:03.357Z"
   },
   {
    "duration": 4,
    "start_time": "2023-08-12T11:14:21.082Z"
   },
   {
    "duration": 122,
    "start_time": "2023-08-12T11:15:17.173Z"
   },
   {
    "duration": 112,
    "start_time": "2023-08-12T11:16:02.632Z"
   },
   {
    "duration": 92,
    "start_time": "2023-08-12T11:16:09.530Z"
   },
   {
    "duration": 4,
    "start_time": "2023-08-12T11:16:14.202Z"
   },
   {
    "duration": 8,
    "start_time": "2023-08-12T11:16:25.552Z"
   },
   {
    "duration": 1123,
    "start_time": "2023-08-12T11:16:43.117Z"
   },
   {
    "duration": 4,
    "start_time": "2023-08-12T11:16:44.242Z"
   },
   {
    "duration": 785,
    "start_time": "2023-08-12T11:16:44.248Z"
   },
   {
    "duration": 704,
    "start_time": "2023-08-12T11:16:45.034Z"
   },
   {
    "duration": 427,
    "start_time": "2023-08-12T11:16:45.740Z"
   },
   {
    "duration": 4,
    "start_time": "2023-08-12T11:16:46.169Z"
   },
   {
    "duration": 130,
    "start_time": "2023-08-12T11:16:46.174Z"
   },
   {
    "duration": 26,
    "start_time": "2023-08-12T11:16:46.305Z"
   },
   {
    "duration": 286,
    "start_time": "2023-08-12T11:16:46.338Z"
   },
   {
    "duration": 33,
    "start_time": "2023-08-12T11:16:46.625Z"
   },
   {
    "duration": 68,
    "start_time": "2023-08-12T11:16:46.660Z"
   },
   {
    "duration": 28,
    "start_time": "2023-08-12T11:16:46.729Z"
   },
   {
    "duration": 32,
    "start_time": "2023-08-12T11:16:46.758Z"
   },
   {
    "duration": 20,
    "start_time": "2023-08-12T11:16:46.793Z"
   },
   {
    "duration": 30,
    "start_time": "2023-08-12T11:16:46.815Z"
   },
   {
    "duration": 40,
    "start_time": "2023-08-12T11:16:46.846Z"
   },
   {
    "duration": 33,
    "start_time": "2023-08-12T11:16:46.887Z"
   },
   {
    "duration": 25,
    "start_time": "2023-08-12T11:16:46.921Z"
   },
   {
    "duration": 27,
    "start_time": "2023-08-12T11:16:46.947Z"
   },
   {
    "duration": 52,
    "start_time": "2023-08-12T11:16:46.975Z"
   },
   {
    "duration": 19,
    "start_time": "2023-08-12T11:16:47.028Z"
   },
   {
    "duration": 25,
    "start_time": "2023-08-12T11:16:47.049Z"
   },
   {
    "duration": 192,
    "start_time": "2023-08-12T11:16:47.076Z"
   },
   {
    "duration": 89,
    "start_time": "2023-08-12T11:16:47.269Z"
   },
   {
    "duration": 12,
    "start_time": "2023-08-12T11:16:47.361Z"
   },
   {
    "duration": 79,
    "start_time": "2023-08-12T11:16:47.375Z"
   },
   {
    "duration": 59,
    "start_time": "2023-08-12T11:16:47.455Z"
   },
   {
    "duration": 71,
    "start_time": "2023-08-12T11:16:47.515Z"
   },
   {
    "duration": 78,
    "start_time": "2023-08-12T11:16:47.587Z"
   },
   {
    "duration": 93,
    "start_time": "2023-08-12T11:16:47.667Z"
   },
   {
    "duration": 22,
    "start_time": "2023-08-12T11:16:47.761Z"
   },
   {
    "duration": 25,
    "start_time": "2023-08-12T11:16:47.785Z"
   },
   {
    "duration": 182,
    "start_time": "2023-08-12T11:16:47.811Z"
   },
   {
    "duration": 22,
    "start_time": "2023-08-12T11:16:47.995Z"
   },
   {
    "duration": 41,
    "start_time": "2023-08-12T11:16:48.019Z"
   },
   {
    "duration": 7,
    "start_time": "2023-08-12T11:16:48.061Z"
   },
   {
    "duration": 2,
    "start_time": "2023-08-12T11:16:48.070Z"
   },
   {
    "duration": 26,
    "start_time": "2023-08-12T11:16:48.073Z"
   },
   {
    "duration": 179,
    "start_time": "2023-08-12T11:16:48.101Z"
   },
   {
    "duration": 21,
    "start_time": "2023-08-12T11:17:22.411Z"
   },
   {
    "duration": 157,
    "start_time": "2023-08-12T11:17:28.072Z"
   },
   {
    "duration": 79,
    "start_time": "2023-08-12T11:19:10.875Z"
   },
   {
    "duration": 1090,
    "start_time": "2023-08-12T11:19:26.322Z"
   },
   {
    "duration": 3,
    "start_time": "2023-08-12T11:19:27.414Z"
   },
   {
    "duration": 715,
    "start_time": "2023-08-12T11:19:27.419Z"
   },
   {
    "duration": 749,
    "start_time": "2023-08-12T11:19:28.135Z"
   },
   {
    "duration": 456,
    "start_time": "2023-08-12T11:19:28.886Z"
   },
   {
    "duration": 5,
    "start_time": "2023-08-12T11:19:29.344Z"
   },
   {
    "duration": 116,
    "start_time": "2023-08-12T11:19:29.351Z"
   },
   {
    "duration": 27,
    "start_time": "2023-08-12T11:19:29.468Z"
   },
   {
    "duration": 288,
    "start_time": "2023-08-12T11:19:29.497Z"
   },
   {
    "duration": 29,
    "start_time": "2023-08-12T11:19:29.787Z"
   },
   {
    "duration": 63,
    "start_time": "2023-08-12T11:19:29.818Z"
   },
   {
    "duration": 28,
    "start_time": "2023-08-12T11:19:29.882Z"
   },
   {
    "duration": 48,
    "start_time": "2023-08-12T11:19:29.912Z"
   },
   {
    "duration": 14,
    "start_time": "2023-08-12T11:19:29.964Z"
   },
   {
    "duration": 20,
    "start_time": "2023-08-12T11:19:29.980Z"
   },
   {
    "duration": 88,
    "start_time": "2023-08-12T11:19:30.001Z"
   },
   {
    "duration": 58,
    "start_time": "2023-08-12T11:19:30.090Z"
   },
   {
    "duration": 52,
    "start_time": "2023-08-12T11:19:30.150Z"
   },
   {
    "duration": 64,
    "start_time": "2023-08-12T11:19:30.204Z"
   },
   {
    "duration": 69,
    "start_time": "2023-08-12T11:19:30.270Z"
   },
   {
    "duration": 56,
    "start_time": "2023-08-12T11:19:30.342Z"
   },
   {
    "duration": 33,
    "start_time": "2023-08-12T11:19:30.399Z"
   },
   {
    "duration": 180,
    "start_time": "2023-08-12T11:19:30.434Z"
   },
   {
    "duration": 92,
    "start_time": "2023-08-12T11:19:30.615Z"
   },
   {
    "duration": 50,
    "start_time": "2023-08-12T11:19:30.709Z"
   },
   {
    "duration": 110,
    "start_time": "2023-08-12T11:19:30.761Z"
   },
   {
    "duration": 126,
    "start_time": "2023-08-12T11:19:30.872Z"
   },
   {
    "duration": 66,
    "start_time": "2023-08-12T11:19:31.000Z"
   },
   {
    "duration": 114,
    "start_time": "2023-08-12T11:19:31.068Z"
   },
   {
    "duration": 100,
    "start_time": "2023-08-12T11:19:31.184Z"
   },
   {
    "duration": 24,
    "start_time": "2023-08-12T11:19:31.286Z"
   },
   {
    "duration": 51,
    "start_time": "2023-08-12T11:19:31.312Z"
   },
   {
    "duration": 178,
    "start_time": "2023-08-12T11:19:31.365Z"
   },
   {
    "duration": 31,
    "start_time": "2023-08-12T11:19:31.545Z"
   },
   {
    "duration": 30,
    "start_time": "2023-08-12T11:19:31.578Z"
   },
   {
    "duration": 47,
    "start_time": "2023-08-12T11:19:31.610Z"
   },
   {
    "duration": 38,
    "start_time": "2023-08-12T11:19:31.658Z"
   },
   {
    "duration": 88,
    "start_time": "2023-08-12T11:19:31.697Z"
   },
   {
    "duration": 182,
    "start_time": "2023-08-12T11:19:31.787Z"
   },
   {
    "duration": 1205,
    "start_time": "2023-08-12T11:20:03.023Z"
   },
   {
    "duration": 4,
    "start_time": "2023-08-12T11:20:04.230Z"
   },
   {
    "duration": 819,
    "start_time": "2023-08-12T11:20:04.238Z"
   },
   {
    "duration": 699,
    "start_time": "2023-08-12T11:20:05.059Z"
   },
   {
    "duration": 439,
    "start_time": "2023-08-12T11:20:05.759Z"
   },
   {
    "duration": 4,
    "start_time": "2023-08-12T11:20:06.199Z"
   },
   {
    "duration": 130,
    "start_time": "2023-08-12T11:20:06.205Z"
   },
   {
    "duration": 52,
    "start_time": "2023-08-12T11:20:06.348Z"
   },
   {
    "duration": 322,
    "start_time": "2023-08-12T11:20:06.402Z"
   },
   {
    "duration": 47,
    "start_time": "2023-08-12T11:20:06.726Z"
   },
   {
    "duration": 100,
    "start_time": "2023-08-12T11:20:06.775Z"
   },
   {
    "duration": 29,
    "start_time": "2023-08-12T11:20:06.877Z"
   },
   {
    "duration": 48,
    "start_time": "2023-08-12T11:20:06.908Z"
   },
   {
    "duration": 33,
    "start_time": "2023-08-12T11:20:06.959Z"
   },
   {
    "duration": 64,
    "start_time": "2023-08-12T11:20:06.994Z"
   },
   {
    "duration": 60,
    "start_time": "2023-08-12T11:20:07.060Z"
   },
   {
    "duration": 52,
    "start_time": "2023-08-12T11:20:07.121Z"
   },
   {
    "duration": 59,
    "start_time": "2023-08-12T11:20:07.175Z"
   },
   {
    "duration": 70,
    "start_time": "2023-08-12T11:20:07.235Z"
   },
   {
    "duration": 38,
    "start_time": "2023-08-12T11:20:07.307Z"
   },
   {
    "duration": 40,
    "start_time": "2023-08-12T11:20:07.346Z"
   },
   {
    "duration": 19,
    "start_time": "2023-08-12T11:20:07.388Z"
   },
   {
    "duration": 181,
    "start_time": "2023-08-12T11:20:07.409Z"
   },
   {
    "duration": 98,
    "start_time": "2023-08-12T11:20:07.591Z"
   },
   {
    "duration": 14,
    "start_time": "2023-08-12T11:20:07.690Z"
   },
   {
    "duration": 93,
    "start_time": "2023-08-12T11:20:07.705Z"
   },
   {
    "duration": 74,
    "start_time": "2023-08-12T11:20:07.800Z"
   },
   {
    "duration": 101,
    "start_time": "2023-08-12T11:20:07.876Z"
   },
   {
    "duration": 106,
    "start_time": "2023-08-12T11:20:07.978Z"
   },
   {
    "duration": 118,
    "start_time": "2023-08-12T11:20:08.085Z"
   },
   {
    "duration": 23,
    "start_time": "2023-08-12T11:20:08.205Z"
   },
   {
    "duration": 37,
    "start_time": "2023-08-12T11:20:08.229Z"
   },
   {
    "duration": 186,
    "start_time": "2023-08-12T11:20:08.268Z"
   },
   {
    "duration": 23,
    "start_time": "2023-08-12T11:20:08.457Z"
   },
   {
    "duration": 34,
    "start_time": "2023-08-12T11:20:08.482Z"
   },
   {
    "duration": 37,
    "start_time": "2023-08-12T11:20:08.518Z"
   },
   {
    "duration": 90,
    "start_time": "2023-08-12T11:20:08.557Z"
   },
   {
    "duration": 92,
    "start_time": "2023-08-12T11:20:08.650Z"
   },
   {
    "duration": 189,
    "start_time": "2023-08-12T11:20:08.745Z"
   },
   {
    "duration": 172,
    "start_time": "2023-08-12T11:22:37.509Z"
   },
   {
    "duration": 160,
    "start_time": "2023-08-12T11:23:25.871Z"
   },
   {
    "duration": 22,
    "start_time": "2023-08-12T11:24:13.394Z"
   },
   {
    "duration": 20,
    "start_time": "2023-08-12T11:24:22.719Z"
   },
   {
    "duration": 5,
    "start_time": "2023-08-12T11:24:40.857Z"
   },
   {
    "duration": 6,
    "start_time": "2023-08-12T11:26:09.842Z"
   },
   {
    "duration": 5,
    "start_time": "2023-08-12T11:26:13.018Z"
   },
   {
    "duration": 7,
    "start_time": "2023-08-12T11:26:25.876Z"
   },
   {
    "duration": 131,
    "start_time": "2023-08-12T11:26:29.948Z"
   },
   {
    "duration": 1067,
    "start_time": "2023-08-12T11:27:13.690Z"
   },
   {
    "duration": 4,
    "start_time": "2023-08-12T11:27:14.758Z"
   },
   {
    "duration": 698,
    "start_time": "2023-08-12T11:27:14.763Z"
   },
   {
    "duration": 664,
    "start_time": "2023-08-12T11:27:15.463Z"
   },
   {
    "duration": 403,
    "start_time": "2023-08-12T11:27:16.129Z"
   },
   {
    "duration": 6,
    "start_time": "2023-08-12T11:27:16.534Z"
   },
   {
    "duration": 111,
    "start_time": "2023-08-12T11:27:16.541Z"
   },
   {
    "duration": 26,
    "start_time": "2023-08-12T11:27:16.653Z"
   },
   {
    "duration": 278,
    "start_time": "2023-08-12T11:27:16.681Z"
   },
   {
    "duration": 28,
    "start_time": "2023-08-12T11:27:16.960Z"
   },
   {
    "duration": 60,
    "start_time": "2023-08-12T11:27:16.989Z"
   },
   {
    "duration": 27,
    "start_time": "2023-08-12T11:27:17.050Z"
   },
   {
    "duration": 19,
    "start_time": "2023-08-12T11:27:17.079Z"
   },
   {
    "duration": 13,
    "start_time": "2023-08-12T11:27:17.101Z"
   },
   {
    "duration": 42,
    "start_time": "2023-08-12T11:27:17.116Z"
   },
   {
    "duration": 39,
    "start_time": "2023-08-12T11:27:17.160Z"
   },
   {
    "duration": 23,
    "start_time": "2023-08-12T11:27:17.201Z"
   },
   {
    "duration": 14,
    "start_time": "2023-08-12T11:27:17.225Z"
   },
   {
    "duration": 20,
    "start_time": "2023-08-12T11:27:17.241Z"
   },
   {
    "duration": 33,
    "start_time": "2023-08-12T11:27:17.262Z"
   },
   {
    "duration": 46,
    "start_time": "2023-08-12T11:27:17.297Z"
   },
   {
    "duration": 14,
    "start_time": "2023-08-12T11:27:17.345Z"
   },
   {
    "duration": 158,
    "start_time": "2023-08-12T11:27:17.361Z"
   },
   {
    "duration": 93,
    "start_time": "2023-08-12T11:27:17.520Z"
   },
   {
    "duration": 11,
    "start_time": "2023-08-12T11:27:17.614Z"
   },
   {
    "duration": 67,
    "start_time": "2023-08-12T11:27:17.627Z"
   },
   {
    "duration": 69,
    "start_time": "2023-08-12T11:27:17.696Z"
   },
   {
    "duration": 61,
    "start_time": "2023-08-12T11:27:17.766Z"
   },
   {
    "duration": 79,
    "start_time": "2023-08-12T11:27:17.828Z"
   },
   {
    "duration": 89,
    "start_time": "2023-08-12T11:27:17.908Z"
   },
   {
    "duration": 21,
    "start_time": "2023-08-12T11:27:17.999Z"
   },
   {
    "duration": 32,
    "start_time": "2023-08-12T11:27:18.021Z"
   },
   {
    "duration": 169,
    "start_time": "2023-08-12T11:27:18.055Z"
   },
   {
    "duration": 27,
    "start_time": "2023-08-12T11:27:18.225Z"
   },
   {
    "duration": 23,
    "start_time": "2023-08-12T11:27:18.253Z"
   },
   {
    "duration": 6,
    "start_time": "2023-08-12T11:27:18.277Z"
   },
   {
    "duration": 26,
    "start_time": "2023-08-12T11:27:18.284Z"
   },
   {
    "duration": 175,
    "start_time": "2023-08-12T11:27:18.312Z"
   },
   {
    "duration": 27,
    "start_time": "2023-08-12T11:27:18.488Z"
   },
   {
    "duration": 157,
    "start_time": "2023-08-12T11:27:18.517Z"
   },
   {
    "duration": 28,
    "start_time": "2023-08-12T11:28:04.899Z"
   },
   {
    "duration": 4,
    "start_time": "2023-08-12T11:28:23.387Z"
   },
   {
    "duration": 25,
    "start_time": "2023-08-12T11:28:56.908Z"
   },
   {
    "duration": 18,
    "start_time": "2023-08-12T11:30:00.635Z"
   },
   {
    "duration": 22,
    "start_time": "2023-08-12T11:30:25.749Z"
   },
   {
    "duration": 17,
    "start_time": "2023-08-12T11:30:40.779Z"
   },
   {
    "duration": 12,
    "start_time": "2023-08-12T11:32:02.895Z"
   },
   {
    "duration": 12,
    "start_time": "2023-08-12T11:32:05.951Z"
   },
   {
    "duration": 16,
    "start_time": "2023-08-12T11:32:08.684Z"
   },
   {
    "duration": 28,
    "start_time": "2023-08-12T11:35:15.036Z"
   },
   {
    "duration": 22,
    "start_time": "2023-08-12T11:35:19.548Z"
   },
   {
    "duration": 24,
    "start_time": "2023-08-12T11:35:24.283Z"
   },
   {
    "duration": 22,
    "start_time": "2023-08-12T11:36:23.238Z"
   },
   {
    "duration": 7,
    "start_time": "2023-08-12T11:39:02.245Z"
   },
   {
    "duration": 102,
    "start_time": "2023-08-12T11:39:25.039Z"
   },
   {
    "duration": 7,
    "start_time": "2023-08-12T11:39:52.322Z"
   },
   {
    "duration": 1148,
    "start_time": "2023-08-12T11:41:09.234Z"
   },
   {
    "duration": 4,
    "start_time": "2023-08-12T11:41:10.384Z"
   },
   {
    "duration": 735,
    "start_time": "2023-08-12T11:41:10.390Z"
   },
   {
    "duration": 695,
    "start_time": "2023-08-12T11:41:11.127Z"
   },
   {
    "duration": 421,
    "start_time": "2023-08-12T11:41:11.824Z"
   },
   {
    "duration": 4,
    "start_time": "2023-08-12T11:41:12.246Z"
   },
   {
    "duration": 110,
    "start_time": "2023-08-12T11:41:12.252Z"
   },
   {
    "duration": 30,
    "start_time": "2023-08-12T11:41:12.598Z"
   },
   {
    "duration": 275,
    "start_time": "2023-08-12T11:41:13.077Z"
   },
   {
    "duration": 28,
    "start_time": "2023-08-12T11:41:13.372Z"
   },
   {
    "duration": 49,
    "start_time": "2023-08-12T11:41:13.660Z"
   },
   {
    "duration": 28,
    "start_time": "2023-08-12T11:41:14.011Z"
   },
   {
    "duration": 22,
    "start_time": "2023-08-12T11:41:14.687Z"
   },
   {
    "duration": 16,
    "start_time": "2023-08-12T11:41:15.024Z"
   },
   {
    "duration": 20,
    "start_time": "2023-08-12T11:41:15.789Z"
   },
   {
    "duration": 31,
    "start_time": "2023-08-12T11:41:16.110Z"
   },
   {
    "duration": 18,
    "start_time": "2023-08-12T11:41:16.869Z"
   },
   {
    "duration": 15,
    "start_time": "2023-08-12T11:41:17.229Z"
   },
   {
    "duration": 20,
    "start_time": "2023-08-12T11:41:17.897Z"
   },
   {
    "duration": 29,
    "start_time": "2023-08-12T11:41:18.230Z"
   },
   {
    "duration": 19,
    "start_time": "2023-08-12T11:41:19.137Z"
   },
   {
    "duration": 14,
    "start_time": "2023-08-12T11:41:19.468Z"
   },
   {
    "duration": 143,
    "start_time": "2023-08-12T11:41:20.101Z"
   },
   {
    "duration": 89,
    "start_time": "2023-08-12T11:41:20.561Z"
   },
   {
    "duration": 12,
    "start_time": "2023-08-12T11:41:22.039Z"
   },
   {
    "duration": 59,
    "start_time": "2023-08-12T11:41:23.031Z"
   },
   {
    "duration": 61,
    "start_time": "2023-08-12T11:41:24.387Z"
   },
   {
    "duration": 64,
    "start_time": "2023-08-12T11:41:25.797Z"
   },
   {
    "duration": 67,
    "start_time": "2023-08-12T11:41:29.586Z"
   },
   {
    "duration": 85,
    "start_time": "2023-08-12T11:41:32.262Z"
   },
   {
    "duration": 24,
    "start_time": "2023-08-12T11:41:33.689Z"
   },
   {
    "duration": 28,
    "start_time": "2023-08-12T11:41:34.894Z"
   },
   {
    "duration": 165,
    "start_time": "2023-08-12T11:41:35.714Z"
   },
   {
    "duration": 23,
    "start_time": "2023-08-12T11:41:36.158Z"
   },
   {
    "duration": 29,
    "start_time": "2023-08-12T11:41:37.896Z"
   },
   {
    "duration": 9,
    "start_time": "2023-08-12T11:41:59.510Z"
   },
   {
    "duration": 18,
    "start_time": "2023-08-12T11:42:07.713Z"
   },
   {
    "duration": 24,
    "start_time": "2023-08-12T11:42:49.233Z"
   },
   {
    "duration": 153,
    "start_time": "2023-08-12T11:42:49.856Z"
   },
   {
    "duration": 22,
    "start_time": "2023-08-12T11:42:50.410Z"
   },
   {
    "duration": 140,
    "start_time": "2023-08-12T11:42:50.712Z"
   },
   {
    "duration": 22,
    "start_time": "2023-08-12T11:42:51.521Z"
   },
   {
    "duration": 7,
    "start_time": "2023-08-12T11:42:52.315Z"
   },
   {
    "duration": 35,
    "start_time": "2023-08-12T11:43:09.569Z"
   },
   {
    "duration": 35,
    "start_time": "2023-08-12T11:43:34.439Z"
   },
   {
    "duration": 41,
    "start_time": "2023-08-12T11:43:57.773Z"
   },
   {
    "duration": 3,
    "start_time": "2023-08-12T11:44:02.775Z"
   },
   {
    "duration": 488,
    "start_time": "2023-08-12T11:48:14.052Z"
   },
   {
    "duration": 419,
    "start_time": "2023-08-12T11:48:45.952Z"
   },
   {
    "duration": 371,
    "start_time": "2023-08-12T11:48:59.601Z"
   },
   {
    "duration": 530,
    "start_time": "2023-08-12T11:50:22.753Z"
   },
   {
    "duration": 66,
    "start_time": "2023-08-12T11:55:11.795Z"
   },
   {
    "duration": 13,
    "start_time": "2023-08-12T11:59:30.715Z"
   },
   {
    "duration": 4,
    "start_time": "2023-08-12T11:59:45.852Z"
   },
   {
    "duration": 378,
    "start_time": "2023-08-12T12:10:30.381Z"
   },
   {
    "duration": 16,
    "start_time": "2023-08-12T12:12:31.993Z"
   },
   {
    "duration": 40,
    "start_time": "2023-08-12T12:15:00.531Z"
   },
   {
    "duration": 19,
    "start_time": "2023-08-12T12:15:37.307Z"
   },
   {
    "duration": 5,
    "start_time": "2023-08-12T12:16:45.550Z"
   },
   {
    "duration": 15,
    "start_time": "2023-08-12T12:17:17.732Z"
   },
   {
    "duration": 109,
    "start_time": "2023-08-12T12:18:28.019Z"
   },
   {
    "duration": 2,
    "start_time": "2023-08-12T12:18:30.494Z"
   },
   {
    "duration": 8,
    "start_time": "2023-08-12T12:18:30.783Z"
   },
   {
    "duration": 267,
    "start_time": "2023-08-12T12:18:36.228Z"
   },
   {
    "duration": 15,
    "start_time": "2023-08-12T12:18:42.281Z"
   },
   {
    "duration": 262,
    "start_time": "2023-08-12T12:19:05.302Z"
   },
   {
    "duration": 4,
    "start_time": "2023-08-12T12:19:07.729Z"
   },
   {
    "duration": 9,
    "start_time": "2023-08-12T12:19:32.668Z"
   },
   {
    "duration": 1064,
    "start_time": "2023-08-12T12:19:40.249Z"
   },
   {
    "duration": 12,
    "start_time": "2023-08-12T12:20:39.119Z"
   },
   {
    "duration": 3,
    "start_time": "2023-08-12T12:20:51.893Z"
   },
   {
    "duration": 1270,
    "start_time": "2023-08-12T12:20:52.630Z"
   },
   {
    "duration": 5,
    "start_time": "2023-08-12T12:20:54.677Z"
   },
   {
    "duration": 7,
    "start_time": "2023-08-12T12:20:58.821Z"
   },
   {
    "duration": 22,
    "start_time": "2023-08-12T12:21:05.697Z"
   },
   {
    "duration": 6,
    "start_time": "2023-08-12T12:21:26.428Z"
   },
   {
    "duration": 16,
    "start_time": "2023-08-12T12:22:45.029Z"
   },
   {
    "duration": 3,
    "start_time": "2023-08-12T12:23:25.710Z"
   },
   {
    "duration": 13,
    "start_time": "2023-08-12T12:23:28.860Z"
   },
   {
    "duration": 2,
    "start_time": "2023-08-12T12:24:29.846Z"
   },
   {
    "duration": 2,
    "start_time": "2023-08-12T12:24:39.441Z"
   },
   {
    "duration": 21,
    "start_time": "2023-08-12T12:24:58.948Z"
   },
   {
    "duration": 16,
    "start_time": "2023-08-12T12:25:12.159Z"
   },
   {
    "duration": 247,
    "start_time": "2023-08-12T12:26:06.739Z"
   },
   {
    "duration": 18,
    "start_time": "2023-08-12T12:27:11.820Z"
   },
   {
    "duration": 243,
    "start_time": "2023-08-12T12:28:09.650Z"
   },
   {
    "duration": 74,
    "start_time": "2023-08-12T12:28:20.409Z"
   },
   {
    "duration": 85,
    "start_time": "2023-08-12T12:28:30.289Z"
   },
   {
    "duration": 21,
    "start_time": "2023-08-12T12:30:22.350Z"
   },
   {
    "duration": 3,
    "start_time": "2023-08-12T12:30:45.019Z"
   },
   {
    "duration": 12973,
    "start_time": "2023-08-12T12:31:08.874Z"
   },
   {
    "duration": 31,
    "start_time": "2023-08-12T12:31:45.365Z"
   },
   {
    "duration": 56,
    "start_time": "2023-08-12T12:31:50.759Z"
   },
   {
    "duration": 3,
    "start_time": "2023-08-12T12:35:39.116Z"
   },
   {
    "duration": 15,
    "start_time": "2023-08-12T12:36:06.163Z"
   },
   {
    "duration": 87,
    "start_time": "2023-08-12T12:37:42.152Z"
   },
   {
    "duration": 57,
    "start_time": "2023-08-12T12:37:47.452Z"
   },
   {
    "duration": 15,
    "start_time": "2023-08-12T12:38:11.251Z"
   },
   {
    "duration": 3,
    "start_time": "2023-08-12T12:38:29.644Z"
   },
   {
    "duration": 76,
    "start_time": "2023-08-12T12:38:52.653Z"
   },
   {
    "duration": 15,
    "start_time": "2023-08-12T12:39:04.940Z"
   },
   {
    "duration": 1260,
    "start_time": "2023-08-12T12:40:46.785Z"
   },
   {
    "duration": 5,
    "start_time": "2023-08-12T12:40:48.047Z"
   },
   {
    "duration": 731,
    "start_time": "2023-08-12T12:40:48.053Z"
   },
   {
    "duration": 702,
    "start_time": "2023-08-12T12:40:48.786Z"
   },
   {
    "duration": 446,
    "start_time": "2023-08-12T12:40:49.490Z"
   },
   {
    "duration": 3,
    "start_time": "2023-08-12T12:40:49.938Z"
   },
   {
    "duration": 110,
    "start_time": "2023-08-12T12:40:49.942Z"
   },
   {
    "duration": 27,
    "start_time": "2023-08-12T12:40:50.054Z"
   },
   {
    "duration": 275,
    "start_time": "2023-08-12T12:40:50.083Z"
   },
   {
    "duration": 29,
    "start_time": "2023-08-12T12:40:50.359Z"
   },
   {
    "duration": 62,
    "start_time": "2023-08-12T12:40:50.389Z"
   },
   {
    "duration": 29,
    "start_time": "2023-08-12T12:40:50.453Z"
   },
   {
    "duration": 47,
    "start_time": "2023-08-12T12:40:50.483Z"
   },
   {
    "duration": 15,
    "start_time": "2023-08-12T12:40:50.533Z"
   },
   {
    "duration": 42,
    "start_time": "2023-08-12T12:40:50.549Z"
   },
   {
    "duration": 58,
    "start_time": "2023-08-12T12:40:50.592Z"
   },
   {
    "duration": 16,
    "start_time": "2023-08-12T12:40:50.651Z"
   },
   {
    "duration": 22,
    "start_time": "2023-08-12T12:40:50.668Z"
   },
   {
    "duration": 34,
    "start_time": "2023-08-12T12:40:50.691Z"
   },
   {
    "duration": 43,
    "start_time": "2023-08-12T12:40:50.726Z"
   },
   {
    "duration": 31,
    "start_time": "2023-08-12T12:40:50.770Z"
   },
   {
    "duration": 17,
    "start_time": "2023-08-12T12:40:50.803Z"
   },
   {
    "duration": 165,
    "start_time": "2023-08-12T12:40:50.821Z"
   },
   {
    "duration": 88,
    "start_time": "2023-08-12T12:40:50.987Z"
   },
   {
    "duration": 40,
    "start_time": "2023-08-12T12:40:51.077Z"
   },
   {
    "duration": 94,
    "start_time": "2023-08-12T12:40:51.119Z"
   },
   {
    "duration": 67,
    "start_time": "2023-08-12T12:40:51.215Z"
   },
   {
    "duration": 64,
    "start_time": "2023-08-12T12:40:51.283Z"
   },
   {
    "duration": 81,
    "start_time": "2023-08-12T12:40:51.349Z"
   },
   {
    "duration": 84,
    "start_time": "2023-08-12T12:40:51.431Z"
   },
   {
    "duration": 28,
    "start_time": "2023-08-12T12:40:51.517Z"
   },
   {
    "duration": 25,
    "start_time": "2023-08-12T12:40:51.547Z"
   },
   {
    "duration": 173,
    "start_time": "2023-08-12T12:40:51.573Z"
   },
   {
    "duration": 22,
    "start_time": "2023-08-12T12:40:51.747Z"
   },
   {
    "duration": 27,
    "start_time": "2023-08-12T12:40:51.770Z"
   },
   {
    "duration": 8,
    "start_time": "2023-08-12T12:40:51.799Z"
   },
   {
    "duration": 50,
    "start_time": "2023-08-12T12:40:51.809Z"
   },
   {
    "duration": 167,
    "start_time": "2023-08-12T12:40:51.861Z"
   },
   {
    "duration": 29,
    "start_time": "2023-08-12T12:40:52.029Z"
   },
   {
    "duration": 148,
    "start_time": "2023-08-12T12:40:52.059Z"
   },
   {
    "duration": 30,
    "start_time": "2023-08-12T12:40:52.210Z"
   },
   {
    "duration": 8,
    "start_time": "2023-08-12T12:40:52.241Z"
   },
   {
    "duration": 26,
    "start_time": "2023-08-12T12:40:52.251Z"
   },
   {
    "duration": 60,
    "start_time": "2023-08-12T12:40:52.278Z"
   },
   {
    "duration": 4,
    "start_time": "2023-08-12T12:40:52.340Z"
   },
   {
    "duration": 560,
    "start_time": "2023-08-12T12:40:52.345Z"
   },
   {
    "duration": 13,
    "start_time": "2023-08-12T12:40:52.907Z"
   },
   {
    "duration": 16,
    "start_time": "2023-08-12T12:40:52.922Z"
   },
   {
    "duration": 72,
    "start_time": "2023-08-12T12:40:52.940Z"
   },
   {
    "duration": 3,
    "start_time": "2023-08-12T12:40:53.013Z"
   },
   {
    "duration": 154,
    "start_time": "2023-08-12T12:40:53.017Z"
   },
   {
    "duration": 10,
    "start_time": "2023-08-12T12:40:53.172Z"
   },
   {
    "duration": 51,
    "start_time": "2023-08-12T12:40:53.183Z"
   },
   {
    "duration": 13,
    "start_time": "2023-08-12T12:40:53.235Z"
   },
   {
    "duration": 16,
    "start_time": "2023-08-12T12:40:53.249Z"
   },
   {
    "duration": 10,
    "start_time": "2023-08-12T12:40:53.267Z"
   },
   {
    "duration": 74,
    "start_time": "2023-08-12T12:40:53.279Z"
   },
   {
    "duration": 185,
    "start_time": "2023-08-12T12:40:53.354Z"
   },
   {
    "duration": 4,
    "start_time": "2023-08-12T12:40:53.541Z"
   },
   {
    "duration": 1292,
    "start_time": "2023-08-12T12:41:31.643Z"
   },
   {
    "duration": 4,
    "start_time": "2023-08-12T12:41:32.937Z"
   },
   {
    "duration": 734,
    "start_time": "2023-08-12T12:41:32.943Z"
   },
   {
    "duration": 709,
    "start_time": "2023-08-12T12:41:33.678Z"
   },
   {
    "duration": 488,
    "start_time": "2023-08-12T12:41:34.390Z"
   },
   {
    "duration": 4,
    "start_time": "2023-08-12T12:41:34.879Z"
   },
   {
    "duration": 113,
    "start_time": "2023-08-12T12:41:34.884Z"
   },
   {
    "duration": 42,
    "start_time": "2023-08-12T12:41:34.999Z"
   },
   {
    "duration": 287,
    "start_time": "2023-08-12T12:41:35.043Z"
   },
   {
    "duration": 31,
    "start_time": "2023-08-12T12:41:35.331Z"
   },
   {
    "duration": 51,
    "start_time": "2023-08-12T12:41:35.363Z"
   },
   {
    "duration": 46,
    "start_time": "2023-08-12T12:41:35.416Z"
   },
   {
    "duration": 30,
    "start_time": "2023-08-12T12:41:35.463Z"
   },
   {
    "duration": 22,
    "start_time": "2023-08-12T12:41:35.496Z"
   },
   {
    "duration": 19,
    "start_time": "2023-08-12T12:41:35.519Z"
   },
   {
    "duration": 46,
    "start_time": "2023-08-12T12:41:35.539Z"
   },
   {
    "duration": 18,
    "start_time": "2023-08-12T12:41:35.586Z"
   },
   {
    "duration": 15,
    "start_time": "2023-08-12T12:41:35.605Z"
   },
   {
    "duration": 28,
    "start_time": "2023-08-12T12:41:35.621Z"
   },
   {
    "duration": 29,
    "start_time": "2023-08-12T12:41:35.650Z"
   },
   {
    "duration": 30,
    "start_time": "2023-08-12T12:41:35.682Z"
   },
   {
    "duration": 15,
    "start_time": "2023-08-12T12:41:35.714Z"
   },
   {
    "duration": 167,
    "start_time": "2023-08-12T12:41:35.730Z"
   },
   {
    "duration": 97,
    "start_time": "2023-08-12T12:41:35.899Z"
   },
   {
    "duration": 14,
    "start_time": "2023-08-12T12:41:35.997Z"
   },
   {
    "duration": 86,
    "start_time": "2023-08-12T12:41:36.012Z"
   },
   {
    "duration": 62,
    "start_time": "2023-08-12T12:41:36.099Z"
   },
   {
    "duration": 65,
    "start_time": "2023-08-12T12:41:36.163Z"
   },
   {
    "duration": 75,
    "start_time": "2023-08-12T12:41:36.229Z"
   },
   {
    "duration": 93,
    "start_time": "2023-08-12T12:41:36.305Z"
   },
   {
    "duration": 22,
    "start_time": "2023-08-12T12:41:36.400Z"
   },
   {
    "duration": 38,
    "start_time": "2023-08-12T12:41:36.423Z"
   },
   {
    "duration": 176,
    "start_time": "2023-08-12T12:41:36.462Z"
   },
   {
    "duration": 25,
    "start_time": "2023-08-12T12:41:36.640Z"
   },
   {
    "duration": 27,
    "start_time": "2023-08-12T12:41:36.667Z"
   },
   {
    "duration": 6,
    "start_time": "2023-08-12T12:41:36.696Z"
   },
   {
    "duration": 52,
    "start_time": "2023-08-12T12:41:36.704Z"
   },
   {
    "duration": 160,
    "start_time": "2023-08-12T12:41:36.758Z"
   },
   {
    "duration": 29,
    "start_time": "2023-08-12T12:41:36.919Z"
   },
   {
    "duration": 147,
    "start_time": "2023-08-12T12:41:36.950Z"
   },
   {
    "duration": 21,
    "start_time": "2023-08-12T12:41:37.101Z"
   },
   {
    "duration": 20,
    "start_time": "2023-08-12T12:41:37.123Z"
   },
   {
    "duration": 21,
    "start_time": "2023-08-12T12:41:37.145Z"
   },
   {
    "duration": 42,
    "start_time": "2023-08-12T12:41:37.168Z"
   },
   {
    "duration": 3,
    "start_time": "2023-08-12T12:41:37.212Z"
   },
   {
    "duration": 569,
    "start_time": "2023-08-12T12:41:37.238Z"
   },
   {
    "duration": 12,
    "start_time": "2023-08-12T12:41:37.809Z"
   },
   {
    "duration": 21,
    "start_time": "2023-08-12T12:41:37.822Z"
   },
   {
    "duration": 86,
    "start_time": "2023-08-12T12:41:37.844Z"
   },
   {
    "duration": 2,
    "start_time": "2023-08-12T12:41:37.932Z"
   },
   {
    "duration": 187,
    "start_time": "2023-08-12T12:41:37.935Z"
   },
   {
    "duration": 8,
    "start_time": "2023-08-12T12:41:38.124Z"
   },
   {
    "duration": 29,
    "start_time": "2023-08-12T12:41:38.138Z"
   },
   {
    "duration": 12,
    "start_time": "2023-08-12T12:41:38.169Z"
   },
   {
    "duration": 3,
    "start_time": "2023-08-12T12:41:38.183Z"
   },
   {
    "duration": 11,
    "start_time": "2023-08-12T12:41:38.188Z"
   },
   {
    "duration": 47,
    "start_time": "2023-08-12T12:41:38.201Z"
   },
   {
    "duration": 96,
    "start_time": "2023-08-12T12:41:38.250Z"
   },
   {
    "duration": 93,
    "start_time": "2023-08-12T12:41:38.347Z"
   },
   {
    "duration": 3,
    "start_time": "2023-08-12T12:43:07.300Z"
   },
   {
    "duration": 3,
    "start_time": "2023-08-12T12:43:20.374Z"
   },
   {
    "duration": 32,
    "start_time": "2023-08-12T12:43:55.016Z"
   },
   {
    "duration": 7,
    "start_time": "2023-08-12T12:44:08.974Z"
   },
   {
    "duration": 7,
    "start_time": "2023-08-12T12:44:27.054Z"
   },
   {
    "duration": 2,
    "start_time": "2023-08-12T12:44:27.878Z"
   },
   {
    "duration": 32,
    "start_time": "2023-08-12T12:44:28.204Z"
   },
   {
    "duration": 5,
    "start_time": "2023-08-12T12:44:28.642Z"
   },
   {
    "duration": 4,
    "start_time": "2023-08-12T12:44:29.504Z"
   },
   {
    "duration": 1327,
    "start_time": "2023-08-12T12:44:50.165Z"
   },
   {
    "duration": 5,
    "start_time": "2023-08-12T12:44:51.494Z"
   },
   {
    "duration": 766,
    "start_time": "2023-08-12T12:44:51.501Z"
   },
   {
    "duration": 697,
    "start_time": "2023-08-12T12:44:52.268Z"
   },
   {
    "duration": 415,
    "start_time": "2023-08-12T12:44:52.966Z"
   },
   {
    "duration": 3,
    "start_time": "2023-08-12T12:44:53.383Z"
   },
   {
    "duration": 149,
    "start_time": "2023-08-12T12:44:53.388Z"
   },
   {
    "duration": 27,
    "start_time": "2023-08-12T12:44:53.539Z"
   },
   {
    "duration": 288,
    "start_time": "2023-08-12T12:44:53.567Z"
   },
   {
    "duration": 29,
    "start_time": "2023-08-12T12:44:53.857Z"
   },
   {
    "duration": 92,
    "start_time": "2023-08-12T12:44:53.888Z"
   },
   {
    "duration": 28,
    "start_time": "2023-08-12T12:44:53.981Z"
   },
   {
    "duration": 43,
    "start_time": "2023-08-12T12:44:54.010Z"
   },
   {
    "duration": 30,
    "start_time": "2023-08-12T12:44:54.056Z"
   },
   {
    "duration": 41,
    "start_time": "2023-08-12T12:44:54.088Z"
   },
   {
    "duration": 47,
    "start_time": "2023-08-12T12:44:54.130Z"
   },
   {
    "duration": 37,
    "start_time": "2023-08-12T12:44:54.178Z"
   },
   {
    "duration": 43,
    "start_time": "2023-08-12T12:44:54.216Z"
   },
   {
    "duration": 62,
    "start_time": "2023-08-12T12:44:54.261Z"
   },
   {
    "duration": 67,
    "start_time": "2023-08-12T12:44:54.324Z"
   },
   {
    "duration": 95,
    "start_time": "2023-08-12T12:44:54.392Z"
   },
   {
    "duration": 39,
    "start_time": "2023-08-12T12:44:54.489Z"
   },
   {
    "duration": 223,
    "start_time": "2023-08-12T12:44:54.530Z"
   },
   {
    "duration": 88,
    "start_time": "2023-08-12T12:44:54.755Z"
   },
   {
    "duration": 99,
    "start_time": "2023-08-12T12:44:54.844Z"
   },
   {
    "duration": 84,
    "start_time": "2023-08-12T12:44:54.945Z"
   },
   {
    "duration": 70,
    "start_time": "2023-08-12T12:44:55.031Z"
   },
   {
    "duration": 86,
    "start_time": "2023-08-12T12:44:55.103Z"
   },
   {
    "duration": 110,
    "start_time": "2023-08-12T12:44:55.190Z"
   },
   {
    "duration": 97,
    "start_time": "2023-08-12T12:44:55.302Z"
   },
   {
    "duration": 22,
    "start_time": "2023-08-12T12:44:55.401Z"
   },
   {
    "duration": 34,
    "start_time": "2023-08-12T12:44:55.424Z"
   },
   {
    "duration": 170,
    "start_time": "2023-08-12T12:44:55.459Z"
   },
   {
    "duration": 24,
    "start_time": "2023-08-12T12:44:55.631Z"
   },
   {
    "duration": 35,
    "start_time": "2023-08-12T12:44:55.656Z"
   },
   {
    "duration": 8,
    "start_time": "2023-08-12T12:44:55.693Z"
   },
   {
    "duration": 52,
    "start_time": "2023-08-12T12:44:55.702Z"
   },
   {
    "duration": 160,
    "start_time": "2023-08-12T12:44:55.755Z"
   },
   {
    "duration": 30,
    "start_time": "2023-08-12T12:44:55.917Z"
   },
   {
    "duration": 144,
    "start_time": "2023-08-12T12:44:55.949Z"
   },
   {
    "duration": 24,
    "start_time": "2023-08-12T12:44:56.097Z"
   },
   {
    "duration": 17,
    "start_time": "2023-08-12T12:44:56.123Z"
   },
   {
    "duration": 34,
    "start_time": "2023-08-12T12:44:56.141Z"
   },
   {
    "duration": 42,
    "start_time": "2023-08-12T12:44:56.177Z"
   },
   {
    "duration": 3,
    "start_time": "2023-08-12T12:44:56.221Z"
   },
   {
    "duration": 601,
    "start_time": "2023-08-12T12:44:56.226Z"
   },
   {
    "duration": 13,
    "start_time": "2023-08-12T12:44:56.837Z"
   },
   {
    "duration": 3,
    "start_time": "2023-08-12T12:44:56.852Z"
   },
   {
    "duration": 63,
    "start_time": "2023-08-12T12:44:56.856Z"
   },
   {
    "duration": 2,
    "start_time": "2023-08-12T12:44:56.921Z"
   },
   {
    "duration": 203,
    "start_time": "2023-08-12T12:44:56.925Z"
   },
   {
    "duration": 10,
    "start_time": "2023-08-12T12:44:57.129Z"
   },
   {
    "duration": 36,
    "start_time": "2023-08-12T12:44:57.140Z"
   },
   {
    "duration": 11,
    "start_time": "2023-08-12T12:44:57.177Z"
   },
   {
    "duration": 17,
    "start_time": "2023-08-12T12:44:57.189Z"
   },
   {
    "duration": 7,
    "start_time": "2023-08-12T12:44:57.208Z"
   },
   {
    "duration": 45,
    "start_time": "2023-08-12T12:44:57.216Z"
   },
   {
    "duration": 82,
    "start_time": "2023-08-12T12:44:57.262Z"
   },
   {
    "duration": 8,
    "start_time": "2023-08-12T12:44:57.346Z"
   },
   {
    "duration": 24,
    "start_time": "2023-08-12T12:45:47.282Z"
   },
   {
    "duration": 3,
    "start_time": "2023-08-12T12:50:39.129Z"
   },
   {
    "duration": 121,
    "start_time": "2023-08-12T12:53:38.298Z"
   },
   {
    "duration": 3,
    "start_time": "2023-08-12T12:53:42.748Z"
   },
   {
    "duration": 1563,
    "start_time": "2023-08-12T12:53:43.186Z"
   },
   {
    "duration": 101,
    "start_time": "2023-08-12T12:54:18.137Z"
   },
   {
    "duration": 4,
    "start_time": "2023-08-12T12:54:23.832Z"
   },
   {
    "duration": 8,
    "start_time": "2023-08-12T12:55:47.551Z"
   },
   {
    "duration": 38,
    "start_time": "2023-08-12T12:56:01.857Z"
   },
   {
    "duration": 2,
    "start_time": "2023-08-12T12:56:25.247Z"
   },
   {
    "duration": 3,
    "start_time": "2023-08-12T12:56:38.074Z"
   },
   {
    "duration": 2,
    "start_time": "2023-08-12T12:57:08.828Z"
   },
   {
    "duration": 2487854,
    "start_time": "2023-08-12T12:57:26.978Z"
   },
   {
    "duration": 19,
    "start_time": "2023-08-12T13:38:54.834Z"
   },
   {
    "duration": 3828,
    "start_time": "2023-08-12T13:41:52.604Z"
   },
   {
    "duration": 5,
    "start_time": "2023-08-12T13:42:03.556Z"
   },
   {
    "duration": 12,
    "start_time": "2023-08-12T13:45:25.936Z"
   },
   {
    "duration": 3,
    "start_time": "2023-08-12T13:46:42.055Z"
   },
   {
    "duration": 3,
    "start_time": "2023-08-12T13:46:42.594Z"
   },
   {
    "duration": 4,
    "start_time": "2023-08-12T13:46:43.173Z"
   },
   {
    "duration": 322178,
    "start_time": "2023-08-12T13:46:43.786Z"
   },
   {
    "duration": 0,
    "start_time": "2023-08-12T13:52:05.966Z"
   },
   {
    "duration": 0,
    "start_time": "2023-08-12T13:52:05.966Z"
   },
   {
    "duration": 0,
    "start_time": "2023-08-12T13:52:05.967Z"
   },
   {
    "duration": 2,
    "start_time": "2023-08-12T13:52:09.814Z"
   },
   {
    "duration": 73491,
    "start_time": "2023-08-12T13:52:10.450Z"
   },
   {
    "duration": 4,
    "start_time": "2023-08-12T13:53:23.942Z"
   },
   {
    "duration": 14,
    "start_time": "2023-08-12T13:53:23.947Z"
   },
   {
    "duration": 0,
    "start_time": "2023-08-12T13:53:23.962Z"
   },
   {
    "duration": 210,
    "start_time": "2023-08-12T13:56:00.939Z"
   },
   {
    "duration": 5,
    "start_time": "2023-08-12T13:56:01.843Z"
   },
   {
    "duration": 4,
    "start_time": "2023-08-12T14:48:27.958Z"
   },
   {
    "duration": 31,
    "start_time": "2023-08-12T14:50:24.528Z"
   },
   {
    "duration": 31,
    "start_time": "2023-08-12T14:51:20.897Z"
   },
   {
    "duration": 7,
    "start_time": "2023-08-12T14:51:29.483Z"
   },
   {
    "duration": 646,
    "start_time": "2023-08-12T14:51:40.545Z"
   },
   {
    "duration": 110,
    "start_time": "2023-08-12T14:51:55.427Z"
   },
   {
    "duration": 64678,
    "start_time": "2023-08-12T14:52:17.267Z"
   },
   {
    "duration": 591,
    "start_time": "2023-08-12T14:53:21.947Z"
   },
   {
    "duration": 3,
    "start_time": "2023-08-12T14:53:22.540Z"
   },
   {
    "duration": 3,
    "start_time": "2023-08-12T14:55:42.917Z"
   },
   {
    "duration": 29869,
    "start_time": "2023-08-12T14:55:56.254Z"
   },
   {
    "duration": 3698,
    "start_time": "2023-08-12T14:56:26.124Z"
   },
   {
    "duration": 4,
    "start_time": "2023-08-12T14:56:29.823Z"
   },
   {
    "duration": 3838,
    "start_time": "2023-08-12T15:01:20.015Z"
   },
   {
    "duration": 5,
    "start_time": "2023-08-12T15:01:30.537Z"
   },
   {
    "duration": 4,
    "start_time": "2023-08-12T15:01:38.408Z"
   },
   {
    "duration": 61,
    "start_time": "2023-08-13T15:57:15.215Z"
   },
   {
    "duration": 1865,
    "start_time": "2023-08-13T15:57:27.842Z"
   },
   {
    "duration": 5,
    "start_time": "2023-08-13T15:57:29.709Z"
   },
   {
    "duration": 3308,
    "start_time": "2023-08-13T15:57:29.914Z"
   },
   {
    "duration": 967,
    "start_time": "2023-08-13T15:57:33.224Z"
   },
   {
    "duration": 630,
    "start_time": "2023-08-13T15:57:34.193Z"
   },
   {
    "duration": 4,
    "start_time": "2023-08-13T15:57:34.826Z"
   },
   {
    "duration": 182,
    "start_time": "2023-08-13T15:57:34.832Z"
   },
   {
    "duration": 34,
    "start_time": "2023-08-13T15:57:35.016Z"
   },
   {
    "duration": 556,
    "start_time": "2023-08-13T15:57:35.052Z"
   },
   {
    "duration": 410,
    "start_time": "2023-08-13T15:57:46.920Z"
   },
   {
    "duration": 44,
    "start_time": "2023-08-13T15:57:53.086Z"
   },
   {
    "duration": 56,
    "start_time": "2023-08-13T15:57:53.606Z"
   },
   {
    "duration": 52,
    "start_time": "2023-08-13T15:57:53.938Z"
   },
   {
    "duration": 25,
    "start_time": "2023-08-13T15:57:55.135Z"
   },
   {
    "duration": 15,
    "start_time": "2023-08-13T15:57:55.609Z"
   },
   {
    "duration": 21,
    "start_time": "2023-08-13T15:57:58.100Z"
   },
   {
    "duration": 50,
    "start_time": "2023-08-13T15:57:58.367Z"
   },
   {
    "duration": 19,
    "start_time": "2023-08-13T15:57:59.025Z"
   },
   {
    "duration": 15,
    "start_time": "2023-08-13T15:57:59.309Z"
   },
   {
    "duration": 22,
    "start_time": "2023-08-13T15:57:59.926Z"
   },
   {
    "duration": 32,
    "start_time": "2023-08-13T15:58:00.221Z"
   },
   {
    "duration": 19,
    "start_time": "2023-08-13T15:58:00.905Z"
   },
   {
    "duration": 16,
    "start_time": "2023-08-13T15:58:01.147Z"
   },
   {
    "duration": 203,
    "start_time": "2023-08-13T15:58:01.649Z"
   },
   {
    "duration": 117,
    "start_time": "2023-08-13T15:58:01.925Z"
   },
   {
    "duration": 15,
    "start_time": "2023-08-13T15:58:03.714Z"
   },
   {
    "duration": 69,
    "start_time": "2023-08-13T15:58:04.309Z"
   },
   {
    "duration": 74,
    "start_time": "2023-08-13T15:58:04.724Z"
   },
   {
    "duration": 99,
    "start_time": "2023-08-13T15:58:05.125Z"
   },
   {
    "duration": 85,
    "start_time": "2023-08-13T15:58:05.606Z"
   },
   {
    "duration": 192,
    "start_time": "2023-08-13T15:58:07.454Z"
   },
   {
    "duration": 28,
    "start_time": "2023-08-13T15:58:08.902Z"
   },
   {
    "duration": 30,
    "start_time": "2023-08-13T15:58:10.426Z"
   },
   {
    "duration": 198,
    "start_time": "2023-08-13T15:58:10.760Z"
   },
   {
    "duration": 27,
    "start_time": "2023-08-13T15:58:11.226Z"
   },
   {
    "duration": 40,
    "start_time": "2023-08-13T15:58:19.668Z"
   },
   {
    "duration": 8,
    "start_time": "2023-08-13T15:59:16.334Z"
   },
   {
    "duration": 32,
    "start_time": "2023-08-13T16:02:45.347Z"
   },
   {
    "duration": 6,
    "start_time": "2023-08-13T16:02:52.543Z"
   },
   {
    "duration": 5,
    "start_time": "2023-08-13T16:02:59.828Z"
   },
   {
    "duration": 6,
    "start_time": "2023-08-13T16:03:08.742Z"
   },
   {
    "duration": 29,
    "start_time": "2023-08-13T16:03:47.302Z"
   },
   {
    "duration": 113,
    "start_time": "2023-08-13T16:03:50.146Z"
   },
   {
    "duration": 176,
    "start_time": "2023-08-13T16:05:00.473Z"
   },
   {
    "duration": 31,
    "start_time": "2023-08-13T16:05:03.437Z"
   },
   {
    "duration": 182,
    "start_time": "2023-08-13T16:05:03.988Z"
   },
   {
    "duration": 26,
    "start_time": "2023-08-13T16:05:06.733Z"
   },
   {
    "duration": 9,
    "start_time": "2023-08-13T16:05:11.318Z"
   },
   {
    "duration": 27,
    "start_time": "2023-08-13T16:05:12.265Z"
   },
   {
    "duration": 50,
    "start_time": "2023-08-13T16:05:13.257Z"
   },
   {
    "duration": 4,
    "start_time": "2023-08-13T16:05:13.743Z"
   },
   {
    "duration": 694,
    "start_time": "2023-08-13T16:05:17.734Z"
   },
   {
    "duration": 15,
    "start_time": "2023-08-13T16:06:00.741Z"
   },
   {
    "duration": 3,
    "start_time": "2023-08-13T16:06:01.022Z"
   },
   {
    "duration": 58,
    "start_time": "2023-08-13T16:08:08.346Z"
   },
   {
    "duration": 25,
    "start_time": "2023-08-13T16:08:09.071Z"
   },
   {
    "duration": 4,
    "start_time": "2023-08-13T16:08:10.749Z"
   },
   {
    "duration": 123,
    "start_time": "2023-08-13T16:11:31.021Z"
   },
   {
    "duration": 4,
    "start_time": "2023-08-13T16:11:35.749Z"
   },
   {
    "duration": 3,
    "start_time": "2023-08-13T16:14:48.504Z"
   },
   {
    "duration": 270,
    "start_time": "2023-08-13T16:15:40.369Z"
   },
   {
    "duration": 5,
    "start_time": "2023-08-13T16:15:51.744Z"
   },
   {
    "duration": 5,
    "start_time": "2023-08-13T16:16:00.293Z"
   },
   {
    "duration": 7,
    "start_time": "2023-08-13T16:16:03.385Z"
   },
   {
    "duration": 10,
    "start_time": "2023-08-13T16:16:39.563Z"
   },
   {
    "duration": 11,
    "start_time": "2023-08-13T16:16:44.257Z"
   },
   {
    "duration": 34,
    "start_time": "2023-08-13T16:17:24.397Z"
   },
   {
    "duration": 5,
    "start_time": "2023-08-13T16:19:55.655Z"
   },
   {
    "duration": 168,
    "start_time": "2023-08-13T16:20:04.604Z"
   },
   {
    "duration": 4,
    "start_time": "2023-08-13T16:20:08.793Z"
   },
   {
    "duration": 14,
    "start_time": "2023-08-13T16:20:13.885Z"
   },
   {
    "duration": 5,
    "start_time": "2023-08-13T16:20:17.916Z"
   },
   {
    "duration": 19,
    "start_time": "2023-08-13T16:20:22.105Z"
   },
   {
    "duration": 3,
    "start_time": "2023-08-13T16:20:52.016Z"
   },
   {
    "duration": 13,
    "start_time": "2023-08-13T16:20:52.534Z"
   },
   {
    "duration": 10,
    "start_time": "2023-08-13T16:21:14.912Z"
   },
   {
    "duration": 6,
    "start_time": "2023-08-13T16:21:26.265Z"
   },
   {
    "duration": 2,
    "start_time": "2023-08-13T16:21:33.434Z"
   },
   {
    "duration": 292,
    "start_time": "2023-08-13T16:21:34.114Z"
   },
   {
    "duration": 174,
    "start_time": "2023-08-13T16:21:35.493Z"
   },
   {
    "duration": 3,
    "start_time": "2023-08-13T16:24:45.666Z"
   },
   {
    "duration": 290,
    "start_time": "2023-08-13T16:24:59.057Z"
   },
   {
    "duration": 5,
    "start_time": "2023-08-13T16:25:03.134Z"
   },
   {
    "duration": 303,
    "start_time": "2023-08-13T16:25:19.965Z"
   },
   {
    "duration": 4,
    "start_time": "2023-08-13T16:25:20.803Z"
   },
   {
    "duration": 186,
    "start_time": "2023-08-13T16:25:37.602Z"
   },
   {
    "duration": 150,
    "start_time": "2023-08-13T16:26:05.941Z"
   },
   {
    "duration": 5,
    "start_time": "2023-08-13T16:27:11.047Z"
   },
   {
    "duration": 3,
    "start_time": "2023-08-13T16:27:28.113Z"
   },
   {
    "duration": 21,
    "start_time": "2023-08-13T16:27:45.693Z"
   },
   {
    "duration": 3,
    "start_time": "2023-08-13T16:28:10.323Z"
   },
   {
    "duration": 1560,
    "start_time": "2023-08-13T16:28:10.860Z"
   },
   {
    "duration": 1022,
    "start_time": "2023-08-13T16:28:12.840Z"
   },
   {
    "duration": 4,
    "start_time": "2023-08-13T16:28:15.216Z"
   },
   {
    "duration": 3402,
    "start_time": "2023-08-13T16:28:15.742Z"
   },
   {
    "duration": 614,
    "start_time": "2023-08-13T16:28:44.086Z"
   },
   {
    "duration": 3,
    "start_time": "2023-08-13T16:28:49.429Z"
   },
   {
    "duration": 96721,
    "start_time": "2023-08-13T16:28:56.054Z"
   },
   {
    "duration": 195,
    "start_time": "2023-08-13T16:30:32.778Z"
   },
   {
    "duration": 93,
    "start_time": "2023-08-13T16:30:32.975Z"
   },
   {
    "duration": 43,
    "start_time": "2023-08-13T16:31:39.138Z"
   },
   {
    "duration": 140,
    "start_time": "2023-08-13T16:31:40.387Z"
   },
   {
    "duration": 71176,
    "start_time": "2023-08-13T16:31:49.097Z"
   },
   {
    "duration": 195,
    "start_time": "2023-08-13T16:33:00.274Z"
   },
   {
    "duration": 96,
    "start_time": "2023-08-13T16:33:00.471Z"
   },
   {
    "duration": 83,
    "start_time": "2023-08-13T16:33:00.570Z"
   },
   {
    "duration": 4218,
    "start_time": "2023-08-13T16:33:00.654Z"
   },
   {
    "duration": 208,
    "start_time": "2023-08-13T16:33:04.874Z"
   },
   {
    "duration": 5,
    "start_time": "2023-08-13T16:33:05.084Z"
   },
   {
    "duration": 3,
    "start_time": "2023-08-13T16:39:15.312Z"
   },
   {
    "duration": 4,
    "start_time": "2023-08-13T16:40:14.019Z"
   },
   {
    "duration": 26,
    "start_time": "2023-08-13T16:40:33.519Z"
   },
   {
    "duration": 4,
    "start_time": "2023-08-13T16:41:31.937Z"
   },
   {
    "duration": 41,
    "start_time": "2023-08-13T16:41:33.007Z"
   },
   {
    "duration": 12,
    "start_time": "2023-08-13T16:42:22.836Z"
   },
   {
    "duration": 701,
    "start_time": "2023-08-13T16:42:27.074Z"
   },
   {
    "duration": 714,
    "start_time": "2023-08-13T16:42:33.960Z"
   },
   {
    "duration": 12,
    "start_time": "2023-08-13T16:43:14.125Z"
   },
   {
    "duration": 5,
    "start_time": "2023-08-13T16:43:33.417Z"
   },
   {
    "duration": 3,
    "start_time": "2023-08-13T16:44:17.433Z"
   },
   {
    "duration": 26,
    "start_time": "2023-08-13T16:44:17.910Z"
   },
   {
    "duration": 2,
    "start_time": "2023-08-13T16:44:40.020Z"
   },
   {
    "duration": 41,
    "start_time": "2023-08-13T16:44:40.870Z"
   },
   {
    "duration": 721,
    "start_time": "2023-08-13T16:44:43.725Z"
   },
   {
    "duration": 17,
    "start_time": "2023-08-13T16:45:18.628Z"
   },
   {
    "duration": 15,
    "start_time": "2023-08-13T16:46:00.204Z"
   },
   {
    "duration": 50141,
    "start_time": "2023-08-13T16:46:01.479Z"
   },
   {
    "duration": 30210,
    "start_time": "2023-08-13T16:48:05.244Z"
   },
   {
    "duration": 305,
    "start_time": "2023-08-13T16:49:35.974Z"
   },
   {
    "duration": 40,
    "start_time": "2023-08-13T16:49:45.587Z"
   },
   {
    "duration": 11,
    "start_time": "2023-08-13T16:49:54.983Z"
   },
   {
    "duration": 5,
    "start_time": "2023-08-13T16:49:57.636Z"
   },
   {
    "duration": 45,
    "start_time": "2023-08-13T16:54:15.290Z"
   },
   {
    "duration": 3,
    "start_time": "2023-08-13T16:55:15.582Z"
   },
   {
    "duration": 3,
    "start_time": "2023-08-13T16:55:17.127Z"
   },
   {
    "duration": 85,
    "start_time": "2023-08-13T16:55:42.043Z"
   },
   {
    "duration": 60,
    "start_time": "2023-08-13T16:55:42.605Z"
   },
   {
    "duration": 3,
    "start_time": "2023-08-13T16:55:45.384Z"
   },
   {
    "duration": 42659,
    "start_time": "2023-08-13T16:55:45.810Z"
   },
   {
    "duration": 296,
    "start_time": "2023-08-13T16:56:28.471Z"
   },
   {
    "duration": 10,
    "start_time": "2023-08-13T16:56:28.772Z"
   },
   {
    "duration": 133,
    "start_time": "2023-08-13T17:02:59.249Z"
   },
   {
    "duration": 3,
    "start_time": "2023-08-13T17:03:38.711Z"
   },
   {
    "duration": 136,
    "start_time": "2023-08-13T17:03:39.308Z"
   },
   {
    "duration": 118663,
    "start_time": "2023-08-13T17:04:13.434Z"
   },
   {
    "duration": 16575,
    "start_time": "2023-08-13T17:09:10.905Z"
   },
   {
    "duration": 3,
    "start_time": "2023-08-13T17:10:04.227Z"
   },
   {
    "duration": 18965,
    "start_time": "2023-08-13T17:10:26.703Z"
   },
   {
    "duration": 3,
    "start_time": "2023-08-13T17:10:56.518Z"
   },
   {
    "duration": 10,
    "start_time": "2023-08-13T17:11:11.570Z"
   },
   {
    "duration": 128604,
    "start_time": "2023-08-13T17:11:51.213Z"
   },
   {
    "duration": 5,
    "start_time": "2023-08-13T17:13:59.819Z"
   },
   {
    "duration": 225484,
    "start_time": "2023-08-13T17:14:50.808Z"
   },
   {
    "duration": 5,
    "start_time": "2023-08-13T17:18:36.299Z"
   },
   {
    "duration": 478,
    "start_time": "2023-08-13T17:18:36.306Z"
   },
   {
    "duration": 7,
    "start_time": "2023-08-13T17:18:36.786Z"
   },
   {
    "duration": 5,
    "start_time": "2023-08-13T17:19:13.894Z"
   },
   {
    "duration": 180,
    "start_time": "2023-08-13T17:19:14.335Z"
   },
   {
    "duration": 36196,
    "start_time": "2023-08-13T17:19:20.509Z"
   },
   {
    "duration": 146,
    "start_time": "2023-08-13T17:19:56.708Z"
   },
   {
    "duration": 4,
    "start_time": "2023-08-13T17:19:56.857Z"
   },
   {
    "duration": 4,
    "start_time": "2023-08-13T17:26:21.163Z"
   },
   {
    "duration": 328,
    "start_time": "2023-08-13T17:26:22.296Z"
   },
   {
    "duration": 210,
    "start_time": "2023-08-13T17:26:23.758Z"
   },
   {
    "duration": 34433,
    "start_time": "2023-08-13T17:26:32.016Z"
   },
   {
    "duration": 4350,
    "start_time": "2023-08-13T17:27:06.450Z"
   },
   {
    "duration": 5,
    "start_time": "2023-08-13T17:27:10.802Z"
   },
   {
    "duration": 12,
    "start_time": "2023-08-13T17:27:38.403Z"
   },
   {
    "duration": 12,
    "start_time": "2023-08-13T17:27:57.703Z"
   },
   {
    "duration": 11,
    "start_time": "2023-08-13T17:28:10.125Z"
   },
   {
    "duration": 3,
    "start_time": "2023-08-13T17:28:27.706Z"
   },
   {
    "duration": 3,
    "start_time": "2023-08-13T17:28:28.253Z"
   },
   {
    "duration": 22113,
    "start_time": "2023-08-13T17:29:07.722Z"
   },
   {
    "duration": 5,
    "start_time": "2023-08-13T17:29:34.873Z"
   },
   {
    "duration": 1614,
    "start_time": "2023-08-13T17:34:14.428Z"
   },
   {
    "duration": 4,
    "start_time": "2023-08-13T17:34:16.045Z"
   },
   {
    "duration": 969,
    "start_time": "2023-08-13T17:34:16.051Z"
   },
   {
    "duration": 750,
    "start_time": "2023-08-13T17:34:17.024Z"
   },
   {
    "duration": 0,
    "start_time": "2023-08-13T17:34:17.780Z"
   },
   {
    "duration": 0,
    "start_time": "2023-08-13T17:34:17.781Z"
   },
   {
    "duration": 0,
    "start_time": "2023-08-13T17:34:17.781Z"
   },
   {
    "duration": 0,
    "start_time": "2023-08-13T17:34:17.783Z"
   },
   {
    "duration": 0,
    "start_time": "2023-08-13T17:34:17.785Z"
   },
   {
    "duration": 0,
    "start_time": "2023-08-13T17:34:17.786Z"
   },
   {
    "duration": 0,
    "start_time": "2023-08-13T17:34:17.787Z"
   },
   {
    "duration": 0,
    "start_time": "2023-08-13T17:34:17.788Z"
   },
   {
    "duration": 0,
    "start_time": "2023-08-13T17:34:17.789Z"
   },
   {
    "duration": 0,
    "start_time": "2023-08-13T17:34:17.790Z"
   },
   {
    "duration": 0,
    "start_time": "2023-08-13T17:34:17.791Z"
   },
   {
    "duration": 0,
    "start_time": "2023-08-13T17:34:17.792Z"
   },
   {
    "duration": 0,
    "start_time": "2023-08-13T17:34:17.793Z"
   },
   {
    "duration": 0,
    "start_time": "2023-08-13T17:34:17.794Z"
   },
   {
    "duration": 0,
    "start_time": "2023-08-13T17:34:17.795Z"
   },
   {
    "duration": 0,
    "start_time": "2023-08-13T17:34:17.796Z"
   },
   {
    "duration": 0,
    "start_time": "2023-08-13T17:34:17.797Z"
   },
   {
    "duration": 0,
    "start_time": "2023-08-13T17:34:17.799Z"
   },
   {
    "duration": 0,
    "start_time": "2023-08-13T17:34:17.800Z"
   },
   {
    "duration": 0,
    "start_time": "2023-08-13T17:34:17.801Z"
   },
   {
    "duration": 0,
    "start_time": "2023-08-13T17:34:17.802Z"
   },
   {
    "duration": 0,
    "start_time": "2023-08-13T17:34:17.803Z"
   },
   {
    "duration": 0,
    "start_time": "2023-08-13T17:34:17.804Z"
   },
   {
    "duration": 0,
    "start_time": "2023-08-13T17:34:17.805Z"
   },
   {
    "duration": 0,
    "start_time": "2023-08-13T17:34:17.806Z"
   },
   {
    "duration": 0,
    "start_time": "2023-08-13T17:34:17.808Z"
   },
   {
    "duration": 0,
    "start_time": "2023-08-13T17:34:17.809Z"
   },
   {
    "duration": 0,
    "start_time": "2023-08-13T17:34:17.810Z"
   },
   {
    "duration": 0,
    "start_time": "2023-08-13T17:34:17.810Z"
   },
   {
    "duration": 0,
    "start_time": "2023-08-13T17:34:17.812Z"
   },
   {
    "duration": 0,
    "start_time": "2023-08-13T17:34:17.813Z"
   },
   {
    "duration": 0,
    "start_time": "2023-08-13T17:34:17.814Z"
   },
   {
    "duration": 0,
    "start_time": "2023-08-13T17:34:17.815Z"
   },
   {
    "duration": 0,
    "start_time": "2023-08-13T17:34:17.816Z"
   },
   {
    "duration": 0,
    "start_time": "2023-08-13T17:34:17.817Z"
   },
   {
    "duration": 0,
    "start_time": "2023-08-13T17:34:17.867Z"
   },
   {
    "duration": 0,
    "start_time": "2023-08-13T17:34:17.871Z"
   },
   {
    "duration": 0,
    "start_time": "2023-08-13T17:34:17.871Z"
   },
   {
    "duration": 0,
    "start_time": "2023-08-13T17:34:17.872Z"
   },
   {
    "duration": 0,
    "start_time": "2023-08-13T17:34:17.873Z"
   },
   {
    "duration": 0,
    "start_time": "2023-08-13T17:34:17.873Z"
   },
   {
    "duration": 0,
    "start_time": "2023-08-13T17:34:17.874Z"
   },
   {
    "duration": 0,
    "start_time": "2023-08-13T17:34:17.875Z"
   },
   {
    "duration": 0,
    "start_time": "2023-08-13T17:34:17.875Z"
   },
   {
    "duration": 0,
    "start_time": "2023-08-13T17:34:17.876Z"
   },
   {
    "duration": 0,
    "start_time": "2023-08-13T17:34:17.877Z"
   },
   {
    "duration": 0,
    "start_time": "2023-08-13T17:34:17.877Z"
   },
   {
    "duration": 0,
    "start_time": "2023-08-13T17:34:17.878Z"
   },
   {
    "duration": 0,
    "start_time": "2023-08-13T17:34:17.878Z"
   },
   {
    "duration": 0,
    "start_time": "2023-08-13T17:34:17.879Z"
   },
   {
    "duration": 0,
    "start_time": "2023-08-13T17:34:17.880Z"
   },
   {
    "duration": 0,
    "start_time": "2023-08-13T17:34:17.880Z"
   },
   {
    "duration": 0,
    "start_time": "2023-08-13T17:34:17.881Z"
   },
   {
    "duration": 0,
    "start_time": "2023-08-13T17:34:17.882Z"
   },
   {
    "duration": 0,
    "start_time": "2023-08-13T17:34:17.882Z"
   },
   {
    "duration": 0,
    "start_time": "2023-08-13T17:34:17.883Z"
   },
   {
    "duration": 0,
    "start_time": "2023-08-13T17:34:17.884Z"
   },
   {
    "duration": 0,
    "start_time": "2023-08-13T17:34:17.885Z"
   },
   {
    "duration": 0,
    "start_time": "2023-08-13T17:34:17.887Z"
   },
   {
    "duration": 0,
    "start_time": "2023-08-13T17:34:17.888Z"
   },
   {
    "duration": 0,
    "start_time": "2023-08-13T17:34:17.890Z"
   },
   {
    "duration": 0,
    "start_time": "2023-08-13T17:34:17.891Z"
   },
   {
    "duration": 0,
    "start_time": "2023-08-13T17:34:17.892Z"
   },
   {
    "duration": 0,
    "start_time": "2023-08-13T17:34:17.893Z"
   },
   {
    "duration": 0,
    "start_time": "2023-08-13T17:34:17.894Z"
   },
   {
    "duration": 0,
    "start_time": "2023-08-13T17:34:17.895Z"
   },
   {
    "duration": 0,
    "start_time": "2023-08-13T17:34:17.896Z"
   },
   {
    "duration": 0,
    "start_time": "2023-08-13T17:34:17.897Z"
   },
   {
    "duration": 0,
    "start_time": "2023-08-13T17:34:17.898Z"
   },
   {
    "duration": 0,
    "start_time": "2023-08-13T17:34:17.899Z"
   },
   {
    "duration": 0,
    "start_time": "2023-08-13T17:34:17.900Z"
   },
   {
    "duration": 0,
    "start_time": "2023-08-13T17:34:17.901Z"
   },
   {
    "duration": 0,
    "start_time": "2023-08-13T17:34:17.902Z"
   },
   {
    "duration": 0,
    "start_time": "2023-08-13T17:34:17.903Z"
   },
   {
    "duration": 0,
    "start_time": "2023-08-13T17:34:17.903Z"
   },
   {
    "duration": 0,
    "start_time": "2023-08-13T17:34:17.904Z"
   },
   {
    "duration": 0,
    "start_time": "2023-08-13T17:34:17.906Z"
   },
   {
    "duration": 0,
    "start_time": "2023-08-13T17:34:17.907Z"
   },
   {
    "duration": 0,
    "start_time": "2023-08-13T17:34:17.908Z"
   },
   {
    "duration": 0,
    "start_time": "2023-08-13T17:34:17.967Z"
   },
   {
    "duration": 0,
    "start_time": "2023-08-13T17:34:17.968Z"
   },
   {
    "duration": 0,
    "start_time": "2023-08-13T17:34:17.970Z"
   },
   {
    "duration": 0,
    "start_time": "2023-08-13T17:34:17.971Z"
   },
   {
    "duration": 0,
    "start_time": "2023-08-13T17:34:17.972Z"
   },
   {
    "duration": 0,
    "start_time": "2023-08-13T17:34:17.972Z"
   },
   {
    "duration": 0,
    "start_time": "2023-08-13T17:34:17.976Z"
   },
   {
    "duration": 0,
    "start_time": "2023-08-13T17:34:17.976Z"
   },
   {
    "duration": 1711,
    "start_time": "2023-08-13T17:34:52.900Z"
   },
   {
    "duration": 4,
    "start_time": "2023-08-13T17:34:54.613Z"
   },
   {
    "duration": 971,
    "start_time": "2023-08-13T17:34:54.620Z"
   },
   {
    "duration": 925,
    "start_time": "2023-08-13T17:34:55.593Z"
   },
   {
    "duration": 643,
    "start_time": "2023-08-13T17:34:56.520Z"
   },
   {
    "duration": 13,
    "start_time": "2023-08-13T17:34:57.165Z"
   },
   {
    "duration": 127,
    "start_time": "2023-08-13T17:34:57.186Z"
   },
   {
    "duration": 32,
    "start_time": "2023-08-13T17:34:57.315Z"
   },
   {
    "duration": 461,
    "start_time": "2023-08-13T17:34:57.349Z"
   },
   {
    "duration": 66,
    "start_time": "2023-08-13T17:34:57.812Z"
   },
   {
    "duration": 78,
    "start_time": "2023-08-13T17:34:57.886Z"
   },
   {
    "duration": 42,
    "start_time": "2023-08-13T17:34:57.968Z"
   },
   {
    "duration": 21,
    "start_time": "2023-08-13T17:34:58.012Z"
   },
   {
    "duration": 51,
    "start_time": "2023-08-13T17:34:58.038Z"
   },
   {
    "duration": 23,
    "start_time": "2023-08-13T17:34:58.092Z"
   },
   {
    "duration": 39,
    "start_time": "2023-08-13T17:34:58.117Z"
   },
   {
    "duration": 37,
    "start_time": "2023-08-13T17:34:58.158Z"
   },
   {
    "duration": 18,
    "start_time": "2023-08-13T17:34:58.197Z"
   },
   {
    "duration": 24,
    "start_time": "2023-08-13T17:34:58.218Z"
   },
   {
    "duration": 59,
    "start_time": "2023-08-13T17:34:58.244Z"
   },
   {
    "duration": 24,
    "start_time": "2023-08-13T17:34:58.305Z"
   },
   {
    "duration": 16,
    "start_time": "2023-08-13T17:34:58.331Z"
   },
   {
    "duration": 229,
    "start_time": "2023-08-13T17:34:58.349Z"
   },
   {
    "duration": 116,
    "start_time": "2023-08-13T17:34:58.580Z"
   },
   {
    "duration": 16,
    "start_time": "2023-08-13T17:34:58.698Z"
   },
   {
    "duration": 120,
    "start_time": "2023-08-13T17:34:58.716Z"
   },
   {
    "duration": 84,
    "start_time": "2023-08-13T17:34:58.839Z"
   },
   {
    "duration": 87,
    "start_time": "2023-08-13T17:34:58.925Z"
   },
   {
    "duration": 93,
    "start_time": "2023-08-13T17:34:59.014Z"
   },
   {
    "duration": 113,
    "start_time": "2023-08-13T17:34:59.109Z"
   },
   {
    "duration": 55,
    "start_time": "2023-08-13T17:34:59.224Z"
   },
   {
    "duration": 31,
    "start_time": "2023-08-13T17:34:59.286Z"
   },
   {
    "duration": 191,
    "start_time": "2023-08-13T17:34:59.319Z"
   },
   {
    "duration": 26,
    "start_time": "2023-08-13T17:34:59.512Z"
   },
   {
    "duration": 60,
    "start_time": "2023-08-13T17:34:59.540Z"
   },
   {
    "duration": 10,
    "start_time": "2023-08-13T17:34:59.602Z"
   },
   {
    "duration": 7,
    "start_time": "2023-08-13T17:34:59.614Z"
   },
   {
    "duration": 61,
    "start_time": "2023-08-13T17:34:59.623Z"
   },
   {
    "duration": 202,
    "start_time": "2023-08-13T17:34:59.689Z"
   },
   {
    "duration": 28,
    "start_time": "2023-08-13T17:34:59.893Z"
   },
   {
    "duration": 296,
    "start_time": "2023-08-13T17:34:59.926Z"
   },
   {
    "duration": 28,
    "start_time": "2023-08-13T17:35:00.224Z"
   },
   {
    "duration": 48,
    "start_time": "2023-08-13T17:35:00.254Z"
   },
   {
    "duration": 39,
    "start_time": "2023-08-13T17:35:00.306Z"
   },
   {
    "duration": 71,
    "start_time": "2023-08-13T17:35:00.347Z"
   },
   {
    "duration": 13,
    "start_time": "2023-08-13T17:35:00.420Z"
   },
   {
    "duration": 774,
    "start_time": "2023-08-13T17:35:00.435Z"
   },
   {
    "duration": 15,
    "start_time": "2023-08-13T17:35:01.211Z"
   },
   {
    "duration": 66,
    "start_time": "2023-08-13T17:35:01.228Z"
   },
   {
    "duration": 101,
    "start_time": "2023-08-13T17:35:01.296Z"
   },
   {
    "duration": 30,
    "start_time": "2023-08-13T17:35:01.399Z"
   },
   {
    "duration": 52,
    "start_time": "2023-08-13T17:35:01.431Z"
   },
   {
    "duration": 96,
    "start_time": "2023-08-13T17:35:01.486Z"
   },
   {
    "duration": 76,
    "start_time": "2023-08-13T17:35:01.584Z"
   },
   {
    "duration": 433,
    "start_time": "2023-08-13T17:35:01.662Z"
   },
   {
    "duration": 225,
    "start_time": "2023-08-13T17:35:02.097Z"
   },
   {
    "duration": 4,
    "start_time": "2023-08-13T17:35:02.324Z"
   },
   {
    "duration": 83,
    "start_time": "2023-08-13T17:35:02.329Z"
   },
   {
    "duration": 62,
    "start_time": "2023-08-13T17:35:02.414Z"
   },
   {
    "duration": 57865,
    "start_time": "2023-08-13T17:35:02.478Z"
   },
   {
    "duration": 40261,
    "start_time": "2023-08-13T17:36:00.345Z"
   },
   {
    "duration": 337,
    "start_time": "2023-08-13T17:36:40.609Z"
   },
   {
    "duration": 50,
    "start_time": "2023-08-13T17:36:40.948Z"
   },
   {
    "duration": 3,
    "start_time": "2023-08-13T17:36:41.000Z"
   },
   {
    "duration": 5,
    "start_time": "2023-08-13T17:36:41.005Z"
   },
   {
    "duration": 112,
    "start_time": "2023-08-13T17:36:41.011Z"
   },
   {
    "duration": 75,
    "start_time": "2023-08-13T17:36:41.126Z"
   },
   {
    "duration": 4,
    "start_time": "2023-08-13T17:36:41.203Z"
   },
   {
    "duration": 32993,
    "start_time": "2023-08-13T17:36:41.209Z"
   },
   {
    "duration": 221,
    "start_time": "2023-08-13T17:37:14.271Z"
   },
   {
    "duration": 79,
    "start_time": "2023-08-13T17:37:14.494Z"
   },
   {
    "duration": 225116,
    "start_time": "2023-08-13T17:37:14.575Z"
   },
   {
    "duration": 6,
    "start_time": "2023-08-13T17:40:59.768Z"
   },
   {
    "duration": 405,
    "start_time": "2023-08-13T17:40:59.777Z"
   },
   {
    "duration": 5,
    "start_time": "2023-08-13T17:41:00.187Z"
   },
   {
    "duration": 85,
    "start_time": "2023-08-13T17:41:00.194Z"
   },
   {
    "duration": 35382,
    "start_time": "2023-08-13T17:41:00.285Z"
   },
   {
    "duration": 4228,
    "start_time": "2023-08-13T17:41:35.669Z"
   },
   {
    "duration": 5,
    "start_time": "2023-08-13T17:41:39.898Z"
   },
   {
    "duration": 6,
    "start_time": "2023-08-13T17:41:39.905Z"
   },
   {
    "duration": 40176,
    "start_time": "2023-08-13T17:41:39.913Z"
   },
   {
    "duration": 492,
    "start_time": "2023-08-13T17:42:20.091Z"
   },
   {
    "duration": 4,
    "start_time": "2023-08-13T17:42:20.585Z"
   },
   {
    "duration": 4204,
    "start_time": "2023-08-13T17:42:20.591Z"
   },
   {
    "duration": 5,
    "start_time": "2023-08-13T17:42:24.797Z"
   },
   {
    "duration": 13,
    "start_time": "2023-08-13T17:42:24.804Z"
   },
   {
    "duration": 37,
    "start_time": "2023-08-13T17:42:24.819Z"
   },
   {
    "duration": 6,
    "start_time": "2023-08-13T17:42:24.858Z"
   },
   {
    "duration": 12,
    "start_time": "2023-08-13T17:42:24.866Z"
   }
  ],
  "kernelspec": {
   "display_name": "Python 3 (ipykernel)",
   "language": "python",
   "name": "python3"
  },
  "language_info": {
   "codemirror_mode": {
    "name": "ipython",
    "version": 3
   },
   "file_extension": ".py",
   "mimetype": "text/x-python",
   "name": "python",
   "nbconvert_exporter": "python",
   "pygments_lexer": "ipython3",
   "version": "3.9.12"
  },
  "toc": {
   "base_numbering": 1,
   "nav_menu": {},
   "number_sections": true,
   "sideBar": true,
   "skip_h1_title": true,
   "title_cell": "Table of Contents",
   "title_sidebar": "Contents",
   "toc_cell": false,
   "toc_position": {
    "height": "calc(100% - 180px)",
    "left": "10px",
    "top": "150px",
    "width": "293.4px"
   },
   "toc_section_display": true,
   "toc_window_display": true
  }
 },
 "nbformat": 4,
 "nbformat_minor": 4
}
