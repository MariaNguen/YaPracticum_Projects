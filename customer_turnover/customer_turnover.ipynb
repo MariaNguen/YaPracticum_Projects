{
 "cells": [
  {
   "cell_type": "markdown",
   "metadata": {},
   "source": [
    "# Отток клиентов"
   ]
  },
  {
   "cell_type": "markdown",
   "metadata": {},
   "source": [
    "Из «Бета-Банка» стали уходить клиенты. Каждый месяц. Немного, но заметно. Банковские маркетологи посчитали: сохранять текущих клиентов дешевле, чем привлекать новых.\n",
    "\n",
    "Нужно спрогнозировать, уйдёт клиент из банка в ближайшее время или нет. Вам предоставлены исторические данные о поведении клиентов и расторжении договоров с банком. \n",
    "\n",
    "Постройте модель с предельно большим значением *F1*-меры. Чтобы сдать проект успешно, нужно довести метрику до 0.59. Проверьте *F1*-меру на тестовой выборке самостоятельно.\n",
    "\n",
    "Дополнительно измеряйте *AUC-ROC*, сравнивайте её значение с *F1*-мерой.\n",
    "\n",
    "Источник данных: [https://www.kaggle.com/barelydedicated/bank-customer-churn-modeling](https://www.kaggle.com/barelydedicated/bank-customer-churn-modeling)"
   ]
  },
  {
   "cell_type": "markdown",
   "metadata": {
    "toc": true
   },
   "source": [
    "<h1>Содержание<span class=\"tocSkip\"></span></h1>\n",
    "<div class=\"toc\"><ul class=\"toc-item\"><li><span><a href=\"#Подготовка-данных\" data-toc-modified-id=\"Подготовка-данных-1\"><span class=\"toc-item-num\">1&nbsp;&nbsp;</span>Подготовка данных</a></span><ul class=\"toc-item\"><li><span><a href=\"#Загрузка-данных-и-предварительное-исследование\" data-toc-modified-id=\"Загрузка-данных-и-предварительное-исследование-1.1\"><span class=\"toc-item-num\">1.1&nbsp;&nbsp;</span>Загрузка данных и предварительное исследование</a></span></li><li><span><a href=\"#Обработка-пропусков\" data-toc-modified-id=\"Обработка-пропусков-1.2\"><span class=\"toc-item-num\">1.2&nbsp;&nbsp;</span>Обработка пропусков</a></span></li><li><span><a href=\"#Выделение-признаков-и-целевого-признака\" data-toc-modified-id=\"Выделение-признаков-и-целевого-признака-1.3\"><span class=\"toc-item-num\">1.3&nbsp;&nbsp;</span>Выделение признаков и целевого признака</a></span><ul class=\"toc-item\"><li><span><a href=\"#Целевой-признак-Exited\" data-toc-modified-id=\"Целевой-признак-Exited-1.3.1\"><span class=\"toc-item-num\">1.3.1&nbsp;&nbsp;</span>Целевой признак <code>Exited</code></a></span></li><li><span><a href=\"#Колонка-RowNumber\" data-toc-modified-id=\"Колонка-RowNumber-1.3.2\"><span class=\"toc-item-num\">1.3.2&nbsp;&nbsp;</span>Колонка <code>RowNumber</code></a></span></li><li><span><a href=\"#Колонка-CustomerId\" data-toc-modified-id=\"Колонка-CustomerId-1.3.3\"><span class=\"toc-item-num\">1.3.3&nbsp;&nbsp;</span>Колонка <code>CustomerId</code></a></span></li><li><span><a href=\"#Колонка-Surname\" data-toc-modified-id=\"Колонка-Surname-1.3.4\"><span class=\"toc-item-num\">1.3.4&nbsp;&nbsp;</span>Колонка <code>Surname</code></a></span></li><li><span><a href=\"#Колонка-CreditScore\" data-toc-modified-id=\"Колонка-CreditScore-1.3.5\"><span class=\"toc-item-num\">1.3.5&nbsp;&nbsp;</span>Колонка <code>CreditScore</code></a></span></li><li><span><a href=\"#Колонка-Geography\" data-toc-modified-id=\"Колонка-Geography-1.3.6\"><span class=\"toc-item-num\">1.3.6&nbsp;&nbsp;</span>Колонка <code>Geography</code></a></span></li><li><span><a href=\"#Колонка-Gender\" data-toc-modified-id=\"Колонка-Gender-1.3.7\"><span class=\"toc-item-num\">1.3.7&nbsp;&nbsp;</span>Колонка <code>Gender</code></a></span></li><li><span><a href=\"#Колонка-Age\" data-toc-modified-id=\"Колонка-Age-1.3.8\"><span class=\"toc-item-num\">1.3.8&nbsp;&nbsp;</span>Колонка <code>Age</code></a></span></li><li><span><a href=\"#Колонка-Tenure\" data-toc-modified-id=\"Колонка-Tenure-1.3.9\"><span class=\"toc-item-num\">1.3.9&nbsp;&nbsp;</span>Колонка <code>Tenure</code></a></span></li><li><span><a href=\"#Колонка-Balance\" data-toc-modified-id=\"Колонка-Balance-1.3.10\"><span class=\"toc-item-num\">1.3.10&nbsp;&nbsp;</span>Колонка <code>Balance</code></a></span></li><li><span><a href=\"#Колонка-NumOfProducts\" data-toc-modified-id=\"Колонка-NumOfProducts-1.3.11\"><span class=\"toc-item-num\">1.3.11&nbsp;&nbsp;</span>Колонка <code>NumOfProducts</code></a></span></li><li><span><a href=\"#Колонка-HasCrCard\" data-toc-modified-id=\"Колонка-HasCrCard-1.3.12\"><span class=\"toc-item-num\">1.3.12&nbsp;&nbsp;</span>Колонка <code>HasCrCard</code></a></span></li><li><span><a href=\"#Колонка-IsActiveMember\" data-toc-modified-id=\"Колонка-IsActiveMember-1.3.13\"><span class=\"toc-item-num\">1.3.13&nbsp;&nbsp;</span>Колонка <code>IsActiveMember</code></a></span></li><li><span><a href=\"#Колонка-EstimatedSalary\" data-toc-modified-id=\"Колонка-EstimatedSalary-1.3.14\"><span class=\"toc-item-num\">1.3.14&nbsp;&nbsp;</span>Колонка <code>EstimatedSalary</code></a></span></li><li><span><a href=\"#Выделение-признаков\" data-toc-modified-id=\"Выделение-признаков-1.3.15\"><span class=\"toc-item-num\">1.3.15&nbsp;&nbsp;</span>Выделение признаков</a></span></li></ul></li><li><span><a href=\"#Преобразование-категориальных-признаков\" data-toc-modified-id=\"Преобразование-категориальных-признаков-1.4\"><span class=\"toc-item-num\">1.4&nbsp;&nbsp;</span>Преобразование категориальных признаков</a></span></li><li><span><a href=\"#Разделение-выборки-на-обучающую,-валидационную-и-тестовую\" data-toc-modified-id=\"Разделение-выборки-на-обучающую,-валидационную-и-тестовую-1.5\"><span class=\"toc-item-num\">1.5&nbsp;&nbsp;</span>Разделение выборки на обучающую, валидационную и тестовую</a></span></li><li><span><a href=\"#Масштабирование-признаков\" data-toc-modified-id=\"Масштабирование-признаков-1.6\"><span class=\"toc-item-num\">1.6&nbsp;&nbsp;</span>Масштабирование признаков</a></span></li><li><span><a href=\"#Вывод\" data-toc-modified-id=\"Вывод-1.7\"><span class=\"toc-item-num\">1.7&nbsp;&nbsp;</span>Вывод</a></span></li></ul></li><li><span><a href=\"#Исследование-задачи\" data-toc-modified-id=\"Исследование-задачи-2\"><span class=\"toc-item-num\">2&nbsp;&nbsp;</span>Исследование задачи</a></span><ul class=\"toc-item\"><li><span><a href=\"#LogisticRegression\" data-toc-modified-id=\"LogisticRegression-2.1\"><span class=\"toc-item-num\">2.1&nbsp;&nbsp;</span>LogisticRegression</a></span></li><li><span><a href=\"#DecisionTreeClassifier\" data-toc-modified-id=\"DecisionTreeClassifier-2.2\"><span class=\"toc-item-num\">2.2&nbsp;&nbsp;</span>DecisionTreeClassifier</a></span></li><li><span><a href=\"#RandomForestClassifier\" data-toc-modified-id=\"RandomForestClassifier-2.3\"><span class=\"toc-item-num\">2.3&nbsp;&nbsp;</span>RandomForestClassifier</a></span></li><li><span><a href=\"#Вывод\" data-toc-modified-id=\"Вывод-2.4\"><span class=\"toc-item-num\">2.4&nbsp;&nbsp;</span>Вывод</a></span></li></ul></li><li><span><a href=\"#Борьба-с-дисбалансом\" data-toc-modified-id=\"Борьба-с-дисбалансом-3\"><span class=\"toc-item-num\">3&nbsp;&nbsp;</span>Борьба с дисбалансом</a></span><ul class=\"toc-item\"><li><span><a href=\"#Увеличение-выборки-(upsampling)\" data-toc-modified-id=\"Увеличение-выборки-(upsampling)-3.1\"><span class=\"toc-item-num\">3.1&nbsp;&nbsp;</span>Увеличение выборки (upsampling)</a></span></li><li><span><a href=\"#Уменьшение-выборки-(downsampling)\" data-toc-modified-id=\"Уменьшение-выборки-(downsampling)-3.2\"><span class=\"toc-item-num\">3.2&nbsp;&nbsp;</span>Уменьшение выборки (downsampling)</a></span></li><li><span><a href=\"#Вывод\" data-toc-modified-id=\"Вывод-3.3\"><span class=\"toc-item-num\">3.3&nbsp;&nbsp;</span>Вывод</a></span></li></ul></li><li><span><a href=\"#Тестирование-модели\" data-toc-modified-id=\"Тестирование-модели-4\"><span class=\"toc-item-num\">4&nbsp;&nbsp;</span>Тестирование модели</a></span></li><li><span><a href=\"#Выводы\" data-toc-modified-id=\"Выводы-5\"><span class=\"toc-item-num\">5&nbsp;&nbsp;</span>Выводы</a></span></li><li><span><a href=\"#Чек-лист-готовности-проекта\" data-toc-modified-id=\"Чек-лист-готовности-проекта-6\"><span class=\"toc-item-num\">6&nbsp;&nbsp;</span>Чек-лист готовности проекта</a></span></li></ul></div>"
   ]
  },
  {
   "cell_type": "markdown",
   "metadata": {},
   "source": [
    "## Подготовка данных"
   ]
  },
  {
   "cell_type": "code",
   "execution_count": 1,
   "metadata": {},
   "outputs": [],
   "source": [
    "import pandas as pd\n",
    "import matplotlib.pyplot as plt\n",
    "from sklearn.model_selection import train_test_split, GridSearchCV\n",
    "from sklearn.metrics import roc_auc_score, f1_score, roc_curve, confusion_matrix \n",
    "from sklearn.preprocessing import StandardScaler\n",
    "from sklearn.tree import DecisionTreeClassifier\n",
    "from sklearn.linear_model import LogisticRegression\n",
    "from sklearn.ensemble import RandomForestClassifier\n",
    "from sklearn.utils import shuffle\n",
    "import seaborn as sns"
   ]
  },
  {
   "cell_type": "markdown",
   "metadata": {},
   "source": [
    "### Загрузка данных и предварительное исследование"
   ]
  },
  {
   "cell_type": "code",
   "execution_count": 2,
   "metadata": {},
   "outputs": [],
   "source": [
    "data = pd.read_csv('/datasets/Churn.csv')"
   ]
  },
  {
   "cell_type": "code",
   "execution_count": 3,
   "metadata": {},
   "outputs": [
    {
     "data": {
      "text/html": [
       "<div>\n",
       "<style scoped>\n",
       "    .dataframe tbody tr th:only-of-type {\n",
       "        vertical-align: middle;\n",
       "    }\n",
       "\n",
       "    .dataframe tbody tr th {\n",
       "        vertical-align: top;\n",
       "    }\n",
       "\n",
       "    .dataframe thead th {\n",
       "        text-align: right;\n",
       "    }\n",
       "</style>\n",
       "<table border=\"1\" class=\"dataframe\">\n",
       "  <thead>\n",
       "    <tr style=\"text-align: right;\">\n",
       "      <th></th>\n",
       "      <th>RowNumber</th>\n",
       "      <th>CustomerId</th>\n",
       "      <th>Surname</th>\n",
       "      <th>CreditScore</th>\n",
       "      <th>Geography</th>\n",
       "      <th>Gender</th>\n",
       "      <th>Age</th>\n",
       "      <th>Tenure</th>\n",
       "      <th>Balance</th>\n",
       "      <th>NumOfProducts</th>\n",
       "      <th>HasCrCard</th>\n",
       "      <th>IsActiveMember</th>\n",
       "      <th>EstimatedSalary</th>\n",
       "      <th>Exited</th>\n",
       "    </tr>\n",
       "  </thead>\n",
       "  <tbody>\n",
       "    <tr>\n",
       "      <th>0</th>\n",
       "      <td>1</td>\n",
       "      <td>15634602</td>\n",
       "      <td>Hargrave</td>\n",
       "      <td>619</td>\n",
       "      <td>France</td>\n",
       "      <td>Female</td>\n",
       "      <td>42</td>\n",
       "      <td>2.0</td>\n",
       "      <td>0.00</td>\n",
       "      <td>1</td>\n",
       "      <td>1</td>\n",
       "      <td>1</td>\n",
       "      <td>101348.88</td>\n",
       "      <td>1</td>\n",
       "    </tr>\n",
       "    <tr>\n",
       "      <th>1</th>\n",
       "      <td>2</td>\n",
       "      <td>15647311</td>\n",
       "      <td>Hill</td>\n",
       "      <td>608</td>\n",
       "      <td>Spain</td>\n",
       "      <td>Female</td>\n",
       "      <td>41</td>\n",
       "      <td>1.0</td>\n",
       "      <td>83807.86</td>\n",
       "      <td>1</td>\n",
       "      <td>0</td>\n",
       "      <td>1</td>\n",
       "      <td>112542.58</td>\n",
       "      <td>0</td>\n",
       "    </tr>\n",
       "    <tr>\n",
       "      <th>2</th>\n",
       "      <td>3</td>\n",
       "      <td>15619304</td>\n",
       "      <td>Onio</td>\n",
       "      <td>502</td>\n",
       "      <td>France</td>\n",
       "      <td>Female</td>\n",
       "      <td>42</td>\n",
       "      <td>8.0</td>\n",
       "      <td>159660.80</td>\n",
       "      <td>3</td>\n",
       "      <td>1</td>\n",
       "      <td>0</td>\n",
       "      <td>113931.57</td>\n",
       "      <td>1</td>\n",
       "    </tr>\n",
       "    <tr>\n",
       "      <th>3</th>\n",
       "      <td>4</td>\n",
       "      <td>15701354</td>\n",
       "      <td>Boni</td>\n",
       "      <td>699</td>\n",
       "      <td>France</td>\n",
       "      <td>Female</td>\n",
       "      <td>39</td>\n",
       "      <td>1.0</td>\n",
       "      <td>0.00</td>\n",
       "      <td>2</td>\n",
       "      <td>0</td>\n",
       "      <td>0</td>\n",
       "      <td>93826.63</td>\n",
       "      <td>0</td>\n",
       "    </tr>\n",
       "    <tr>\n",
       "      <th>4</th>\n",
       "      <td>5</td>\n",
       "      <td>15737888</td>\n",
       "      <td>Mitchell</td>\n",
       "      <td>850</td>\n",
       "      <td>Spain</td>\n",
       "      <td>Female</td>\n",
       "      <td>43</td>\n",
       "      <td>2.0</td>\n",
       "      <td>125510.82</td>\n",
       "      <td>1</td>\n",
       "      <td>1</td>\n",
       "      <td>1</td>\n",
       "      <td>79084.10</td>\n",
       "      <td>0</td>\n",
       "    </tr>\n",
       "  </tbody>\n",
       "</table>\n",
       "</div>"
      ],
      "text/plain": [
       "   RowNumber  CustomerId   Surname  CreditScore Geography  Gender  Age  \\\n",
       "0          1    15634602  Hargrave          619    France  Female   42   \n",
       "1          2    15647311      Hill          608     Spain  Female   41   \n",
       "2          3    15619304      Onio          502    France  Female   42   \n",
       "3          4    15701354      Boni          699    France  Female   39   \n",
       "4          5    15737888  Mitchell          850     Spain  Female   43   \n",
       "\n",
       "   Tenure    Balance  NumOfProducts  HasCrCard  IsActiveMember  \\\n",
       "0     2.0       0.00              1          1               1   \n",
       "1     1.0   83807.86              1          0               1   \n",
       "2     8.0  159660.80              3          1               0   \n",
       "3     1.0       0.00              2          0               0   \n",
       "4     2.0  125510.82              1          1               1   \n",
       "\n",
       "   EstimatedSalary  Exited  \n",
       "0        101348.88       1  \n",
       "1        112542.58       0  \n",
       "2        113931.57       1  \n",
       "3         93826.63       0  \n",
       "4         79084.10       0  "
      ]
     },
     "execution_count": 3,
     "metadata": {},
     "output_type": "execute_result"
    }
   ],
   "source": [
    "data.head()"
   ]
  },
  {
   "cell_type": "code",
   "execution_count": 4,
   "metadata": {},
   "outputs": [],
   "source": [
    "def basic_data_info(data):\n",
    "    print('Информация:')\n",
    "    print(data.info())\n",
    "    print('\\nНаличие пропусков:')\n",
    "    print(data.isna().sum())\n",
    "    print('\\nНаличие дубликатов:')\n",
    "    print(data.duplicated().sum())"
   ]
  },
  {
   "cell_type": "code",
   "execution_count": 5,
   "metadata": {},
   "outputs": [
    {
     "name": "stdout",
     "output_type": "stream",
     "text": [
      "Информация:\n",
      "<class 'pandas.core.frame.DataFrame'>\n",
      "RangeIndex: 10000 entries, 0 to 9999\n",
      "Data columns (total 14 columns):\n",
      " #   Column           Non-Null Count  Dtype  \n",
      "---  ------           --------------  -----  \n",
      " 0   RowNumber        10000 non-null  int64  \n",
      " 1   CustomerId       10000 non-null  int64  \n",
      " 2   Surname          10000 non-null  object \n",
      " 3   CreditScore      10000 non-null  int64  \n",
      " 4   Geography        10000 non-null  object \n",
      " 5   Gender           10000 non-null  object \n",
      " 6   Age              10000 non-null  int64  \n",
      " 7   Tenure           9091 non-null   float64\n",
      " 8   Balance          10000 non-null  float64\n",
      " 9   NumOfProducts    10000 non-null  int64  \n",
      " 10  HasCrCard        10000 non-null  int64  \n",
      " 11  IsActiveMember   10000 non-null  int64  \n",
      " 12  EstimatedSalary  10000 non-null  float64\n",
      " 13  Exited           10000 non-null  int64  \n",
      "dtypes: float64(3), int64(8), object(3)\n",
      "memory usage: 1.1+ MB\n",
      "None\n",
      "\n",
      "Наличие пропусков:\n",
      "RowNumber            0\n",
      "CustomerId           0\n",
      "Surname              0\n",
      "CreditScore          0\n",
      "Geography            0\n",
      "Gender               0\n",
      "Age                  0\n",
      "Tenure             909\n",
      "Balance              0\n",
      "NumOfProducts        0\n",
      "HasCrCard            0\n",
      "IsActiveMember       0\n",
      "EstimatedSalary      0\n",
      "Exited               0\n",
      "dtype: int64\n",
      "\n",
      "Наличие дубликатов:\n",
      "0\n"
     ]
    }
   ],
   "source": [
    "basic_data_info(data)"
   ]
  },
  {
   "cell_type": "markdown",
   "metadata": {},
   "source": [
    "Мы загрузили данные в датафрейм `data`. В данных представлено 10000 строк-вхождений. В данных есть 14 колонок:\n",
    "- `RowNumber`: целочисленные данные типа int64, пропусков в колонке нет;\n",
    "- `CustomerID`: целочисленные данные типа int64, пропусков в колонке нет;\n",
    "- `Surname`: строковые данные, пропусков в колонке нет;\n",
    "- `CreditScore`: целочисленные данные типа int64, пропусков в колонке нет;\n",
    "- `Geography`: строковые данные, пропусков в колонке нет;\n",
    "- `Gender`: строковые данные, пропусков в колонке нет;\n",
    "- `Age`: целочисленные данные типа int64, пропусков в колонке нет;\n",
    "- `Tenure`: численные данные типа float64, в колонке есть пропуски;\n",
    "- `Balance`: численные данные типа float64, пропусков в колонке нет;\n",
    "- `NumOfProducts`: целочисленные данные типа int64, пропусков в колонке нет;\n",
    "- `HasCrCard`: целочисленные данные типа int64, пропусков в колонке нет;\n",
    "- `IsActiveMember`: целочисленные данные типа int64, пропусков в колонке нет;\n",
    "- `EstimatedSalary`: численные данные типа float64, пропусков в колонке нет;\n",
    "- `Exited`: целочисленные данные типа int64, пропусков в колонке нет.\n",
    "\n",
    "В данных нет дубликатов."
   ]
  },
  {
   "cell_type": "markdown",
   "metadata": {},
   "source": [
    "### Обработка пропусков\n",
    "Пропуски в данных есть только в колонке `Tenure` - сколько лет человек является клиентом банка. Изучим колонку внимательнее. "
   ]
  },
  {
   "cell_type": "code",
   "execution_count": 6,
   "metadata": {},
   "outputs": [
    {
     "data": {
      "text/plain": [
       "909"
      ]
     },
     "execution_count": 6,
     "metadata": {},
     "output_type": "execute_result"
    }
   ],
   "source": [
    "# абсолютное количество пропусков\n",
    "data['Tenure'].isna().sum()"
   ]
  },
  {
   "cell_type": "code",
   "execution_count": 7,
   "metadata": {},
   "outputs": [
    {
     "data": {
      "text/plain": [
       "0.0909"
      ]
     },
     "execution_count": 7,
     "metadata": {},
     "output_type": "execute_result"
    }
   ],
   "source": [
    "# относительное количество пропусков\n",
    "data['Tenure'].isna().mean()"
   ]
  },
  {
   "cell_type": "code",
   "execution_count": 8,
   "metadata": {},
   "outputs": [
    {
     "data": {
      "text/plain": [
       "array([ 2.,  1.,  8.,  7.,  4.,  6.,  3., 10.,  5.,  9.,  0., nan])"
      ]
     },
     "execution_count": 8,
     "metadata": {},
     "output_type": "execute_result"
    }
   ],
   "source": [
    "data['Tenure'].unique()"
   ]
  },
  {
   "cell_type": "markdown",
   "metadata": {},
   "source": [
    "Видим, что среди значений присутствует 0, т.е. мы не можем утверждать, что пропуск означает, что человек только что стал клиентом банка."
   ]
  },
  {
   "cell_type": "code",
   "execution_count": 9,
   "metadata": {},
   "outputs": [
    {
     "data": {
      "text/html": [
       "<div>\n",
       "<style scoped>\n",
       "    .dataframe tbody tr th:only-of-type {\n",
       "        vertical-align: middle;\n",
       "    }\n",
       "\n",
       "    .dataframe tbody tr th {\n",
       "        vertical-align: top;\n",
       "    }\n",
       "\n",
       "    .dataframe thead th {\n",
       "        text-align: right;\n",
       "    }\n",
       "</style>\n",
       "<table border=\"1\" class=\"dataframe\">\n",
       "  <thead>\n",
       "    <tr style=\"text-align: right;\">\n",
       "      <th></th>\n",
       "      <th>RowNumber</th>\n",
       "      <th>CustomerId</th>\n",
       "      <th>Surname</th>\n",
       "      <th>CreditScore</th>\n",
       "      <th>Geography</th>\n",
       "      <th>Gender</th>\n",
       "      <th>Age</th>\n",
       "      <th>Tenure</th>\n",
       "      <th>Balance</th>\n",
       "      <th>NumOfProducts</th>\n",
       "      <th>HasCrCard</th>\n",
       "      <th>IsActiveMember</th>\n",
       "      <th>EstimatedSalary</th>\n",
       "      <th>Exited</th>\n",
       "    </tr>\n",
       "  </thead>\n",
       "  <tbody>\n",
       "    <tr>\n",
       "      <th>30</th>\n",
       "      <td>31</td>\n",
       "      <td>15589475</td>\n",
       "      <td>Azikiwe</td>\n",
       "      <td>591</td>\n",
       "      <td>Spain</td>\n",
       "      <td>Female</td>\n",
       "      <td>39</td>\n",
       "      <td>NaN</td>\n",
       "      <td>0.00</td>\n",
       "      <td>3</td>\n",
       "      <td>1</td>\n",
       "      <td>0</td>\n",
       "      <td>140469.38</td>\n",
       "      <td>1</td>\n",
       "    </tr>\n",
       "    <tr>\n",
       "      <th>48</th>\n",
       "      <td>49</td>\n",
       "      <td>15766205</td>\n",
       "      <td>Yin</td>\n",
       "      <td>550</td>\n",
       "      <td>Germany</td>\n",
       "      <td>Male</td>\n",
       "      <td>38</td>\n",
       "      <td>NaN</td>\n",
       "      <td>103391.38</td>\n",
       "      <td>1</td>\n",
       "      <td>0</td>\n",
       "      <td>1</td>\n",
       "      <td>90878.13</td>\n",
       "      <td>0</td>\n",
       "    </tr>\n",
       "    <tr>\n",
       "      <th>51</th>\n",
       "      <td>52</td>\n",
       "      <td>15768193</td>\n",
       "      <td>Trevisani</td>\n",
       "      <td>585</td>\n",
       "      <td>Germany</td>\n",
       "      <td>Male</td>\n",
       "      <td>36</td>\n",
       "      <td>NaN</td>\n",
       "      <td>146050.97</td>\n",
       "      <td>2</td>\n",
       "      <td>0</td>\n",
       "      <td>0</td>\n",
       "      <td>86424.57</td>\n",
       "      <td>0</td>\n",
       "    </tr>\n",
       "    <tr>\n",
       "      <th>53</th>\n",
       "      <td>54</td>\n",
       "      <td>15702298</td>\n",
       "      <td>Parkhill</td>\n",
       "      <td>655</td>\n",
       "      <td>Germany</td>\n",
       "      <td>Male</td>\n",
       "      <td>41</td>\n",
       "      <td>NaN</td>\n",
       "      <td>125561.97</td>\n",
       "      <td>1</td>\n",
       "      <td>0</td>\n",
       "      <td>0</td>\n",
       "      <td>164040.94</td>\n",
       "      <td>1</td>\n",
       "    </tr>\n",
       "    <tr>\n",
       "      <th>60</th>\n",
       "      <td>61</td>\n",
       "      <td>15651280</td>\n",
       "      <td>Hunter</td>\n",
       "      <td>742</td>\n",
       "      <td>Germany</td>\n",
       "      <td>Male</td>\n",
       "      <td>35</td>\n",
       "      <td>NaN</td>\n",
       "      <td>136857.00</td>\n",
       "      <td>1</td>\n",
       "      <td>0</td>\n",
       "      <td>0</td>\n",
       "      <td>84509.57</td>\n",
       "      <td>0</td>\n",
       "    </tr>\n",
       "  </tbody>\n",
       "</table>\n",
       "</div>"
      ],
      "text/plain": [
       "    RowNumber  CustomerId    Surname  CreditScore Geography  Gender  Age  \\\n",
       "30         31    15589475    Azikiwe          591     Spain  Female   39   \n",
       "48         49    15766205        Yin          550   Germany    Male   38   \n",
       "51         52    15768193  Trevisani          585   Germany    Male   36   \n",
       "53         54    15702298   Parkhill          655   Germany    Male   41   \n",
       "60         61    15651280     Hunter          742   Germany    Male   35   \n",
       "\n",
       "    Tenure    Balance  NumOfProducts  HasCrCard  IsActiveMember  \\\n",
       "30     NaN       0.00              3          1               0   \n",
       "48     NaN  103391.38              1          0               1   \n",
       "51     NaN  146050.97              2          0               0   \n",
       "53     NaN  125561.97              1          0               0   \n",
       "60     NaN  136857.00              1          0               0   \n",
       "\n",
       "    EstimatedSalary  Exited  \n",
       "30        140469.38       1  \n",
       "48         90878.13       0  \n",
       "51         86424.57       0  \n",
       "53        164040.94       1  \n",
       "60         84509.57       0  "
      ]
     },
     "execution_count": 9,
     "metadata": {},
     "output_type": "execute_result"
    }
   ],
   "source": [
    "data[data['Tenure'].isna()].head()"
   ]
  },
  {
   "cell_type": "markdown",
   "metadata": {},
   "source": [
    "Пропуски составляют около 9% данных, их удаление приведет к потере большого количества данных."
   ]
  },
  {
   "cell_type": "code",
   "execution_count": 10,
   "metadata": {},
   "outputs": [
    {
     "data": {
      "text/plain": [
       "1.0     952\n",
       "2.0     950\n",
       "8.0     933\n",
       "3.0     928\n",
       "5.0     927\n",
       "7.0     925\n",
       "4.0     885\n",
       "9.0     882\n",
       "6.0     881\n",
       "10.0    446\n",
       "0.0     382\n",
       "Name: Tenure, dtype: int64"
      ]
     },
     "execution_count": 10,
     "metadata": {},
     "output_type": "execute_result"
    }
   ],
   "source": [
    "data['Tenure'].value_counts()"
   ]
  },
  {
   "cell_type": "markdown",
   "metadata": {},
   "source": [
    "Можем видеть, что значения распределены довольно равномерно. Замена пропусков каким-то одним значением приведет к тому, что мы заметно изменим это распределение, а удаление значений приведет к потере большого количества данных. Заменим пропуски медианными значениями."
   ]
  },
  {
   "cell_type": "code",
   "execution_count": 11,
   "metadata": {},
   "outputs": [
    {
     "data": {
      "image/png": "[encoded data removed]",
      "text/plain": [
       "<Figure size 1080x1080 with 2 Axes>"
      ]
     },
     "metadata": {
      "needs_background": "light"
     },
     "output_type": "display_data"
    }
   ],
   "source": [
    "fig, ax = plt.subplots(figsize=(15,15))  \n",
    "sns.heatmap(data.corr(), annot=True)\n",
    "plt.show()"
   ]
  },
  {
   "cell_type": "code",
   "execution_count": 12,
   "metadata": {},
   "outputs": [],
   "source": [
    "data = data.dropna()\n",
    "#data['Tenure'].fillna(data['Tenure'].median(), inplace=True)"
   ]
  },
  {
   "cell_type": "code",
   "execution_count": 13,
   "metadata": {},
   "outputs": [
    {
     "data": {
      "text/plain": [
       "0"
      ]
     },
     "execution_count": 13,
     "metadata": {},
     "output_type": "execute_result"
    }
   ],
   "source": [
    "data['Tenure'].isna().sum()"
   ]
  },
  {
   "cell_type": "code",
   "execution_count": 14,
   "metadata": {},
   "outputs": [
    {
     "data": {
      "text/plain": [
       "1.0     952\n",
       "2.0     950\n",
       "8.0     933\n",
       "3.0     928\n",
       "5.0     927\n",
       "7.0     925\n",
       "4.0     885\n",
       "9.0     882\n",
       "6.0     881\n",
       "10.0    446\n",
       "0.0     382\n",
       "Name: Tenure, dtype: int64"
      ]
     },
     "execution_count": 14,
     "metadata": {},
     "output_type": "execute_result"
    }
   ],
   "source": [
    "data['Tenure'].value_counts()"
   ]
  },
  {
   "cell_type": "code",
   "execution_count": 15,
   "metadata": {},
   "outputs": [
    {
     "data": {
      "image/png": "[encoded data removed]",
      "text/plain": [
       "<Figure size 1080x1080 with 2 Axes>"
      ]
     },
     "metadata": {
      "needs_background": "light"
     },
     "output_type": "display_data"
    }
   ],
   "source": [
    "fig, ax = plt.subplots(figsize=(15,15))  \n",
    "sns.heatmap(data.corr(), annot=True)\n",
    "plt.show()"
   ]
  },
  {
   "cell_type": "markdown",
   "metadata": {},
   "source": [
    "### Выделение признаков и целевого признака"
   ]
  },
  {
   "cell_type": "markdown",
   "metadata": {},
   "source": [
    "#### Целевой признак `Exited`"
   ]
  },
  {
   "cell_type": "code",
   "execution_count": 16,
   "metadata": {},
   "outputs": [
    {
     "data": {
      "image/png": "[encoded data removed]",
      "text/plain": [
       "<Figure size 576x576 with 1 Axes>"
      ]
     },
     "metadata": {},
     "output_type": "display_data"
    }
   ],
   "source": [
    "data['Exited'].value_counts().plot(kind='pie', figsize=(8,8), title='Целевые классы', autopct='%.2f%%');"
   ]
  },
  {
   "cell_type": "markdown",
   "metadata": {},
   "source": [
    "Видим, что в данных имеет место дисбаланс классов."
   ]
  },
  {
   "cell_type": "code",
   "execution_count": 17,
   "metadata": {},
   "outputs": [],
   "source": [
    "target = data['Exited']"
   ]
  },
  {
   "cell_type": "markdown",
   "metadata": {},
   "source": [
    "Изучим оставшиеся признаки."
   ]
  },
  {
   "cell_type": "markdown",
   "metadata": {},
   "source": [
    "#### Колонка `RowNumber`\n",
    "`RowNumber` — индекс строки в данных. Так как речь идет об индексе, не имеет смысл включать эту колонку в признаки."
   ]
  },
  {
   "cell_type": "markdown",
   "metadata": {},
   "source": [
    "#### Колонка `CustomerId`\n",
    "`CustomerId` — уникальный идентификатор клиента. Уникальный идентификатор клиента также не имеет смысл включать в признаки."
   ]
  },
  {
   "cell_type": "markdown",
   "metadata": {},
   "source": [
    "#### Колонка `Surname`\n",
    "`Surname` — фамилия. Фамилия никак не должна влиять на решение клиента не пользоваться услугами банка, предлагаю считать, что эту колонку также не надо включать в признаки."
   ]
  },
  {
   "cell_type": "markdown",
   "metadata": {},
   "source": [
    "#### Колонка `CreditScore`\n",
    "`CreditScore` — кредитный рейтинг, это числовой признак, который будет использоваться для обучения."
   ]
  },
  {
   "cell_type": "code",
   "execution_count": 18,
   "metadata": {},
   "outputs": [
    {
     "data": {
      "text/plain": [
       "count    9091.000000\n",
       "mean      650.736553\n",
       "std        96.410471\n",
       "min       350.000000\n",
       "25%       584.000000\n",
       "50%       652.000000\n",
       "75%       717.000000\n",
       "max       850.000000\n",
       "Name: CreditScore, dtype: float64"
      ]
     },
     "execution_count": 18,
     "metadata": {},
     "output_type": "execute_result"
    }
   ],
   "source": [
    "data['CreditScore'].describe()"
   ]
  },
  {
   "cell_type": "code",
   "execution_count": 19,
   "metadata": {},
   "outputs": [
    {
     "data": {
      "image/png": "[encoded data removed]",
      "text/plain": [
       "<Figure size 864x576 with 1 Axes>"
      ]
     },
     "metadata": {
      "needs_background": "light"
     },
     "output_type": "display_data"
    }
   ],
   "source": [
    "data['CreditScore'].hist(figsize=(12,8))\n",
    "plt.title('Распределение значений признака $\\it{CreditScore}$ в данных')\n",
    "plt.show()"
   ]
  },
  {
   "cell_type": "markdown",
   "metadata": {},
   "source": [
    "#### Колонка `Geography`\n",
    "`Geography` — страна проживания. Это категориальный признак, который будет использоваться для обучения."
   ]
  },
  {
   "cell_type": "code",
   "execution_count": 20,
   "metadata": {},
   "outputs": [
    {
     "data": {
      "image/png": "[encoded data removed]",
      "text/plain": [
       "<Figure size 576x576 with 1 Axes>"
      ]
     },
     "metadata": {},
     "output_type": "display_data"
    }
   ],
   "source": [
    "data['Geography'].value_counts().plot(kind='pie', figsize=(8,8), title='Страна проживания', autopct='%.2f%%');"
   ]
  },
  {
   "cell_type": "markdown",
   "metadata": {},
   "source": [
    "#### Колонка `Gender`\n",
    "`Gender` — пол. Категориальный признак, будет использоваться для обучения модели."
   ]
  },
  {
   "cell_type": "code",
   "execution_count": 21,
   "metadata": {},
   "outputs": [
    {
     "data": {
      "image/png": "[encoded data removed]",
      "text/plain": [
       "<Figure size 576x576 with 1 Axes>"
      ]
     },
     "metadata": {},
     "output_type": "display_data"
    }
   ],
   "source": [
    "data['Gender'].value_counts().plot(kind='pie', figsize=(8,8), title='Пол клиента', autopct='%.2f%%');"
   ]
  },
  {
   "cell_type": "markdown",
   "metadata": {},
   "source": [
    "#### Колонка `Age`\n",
    "`Age` — возраст. Признак будет учитываться при обучении."
   ]
  },
  {
   "cell_type": "code",
   "execution_count": 22,
   "metadata": {},
   "outputs": [
    {
     "data": {
      "image/png": "[encoded data removed]",
      "text/plain": [
       "<Figure size 864x576 with 1 Axes>"
      ]
     },
     "metadata": {
      "needs_background": "light"
     },
     "output_type": "display_data"
    }
   ],
   "source": [
    "data['Age'].value_counts().plot(kind='bar', figsize=(12,8), title='Возрастное распрделение клиентов');"
   ]
  },
  {
   "cell_type": "markdown",
   "metadata": {},
   "source": [
    "#### Колонка `Tenure`\n",
    "`Tenure` — сколько лет человек является клиентом банка. Численный признак, будет учитываться при обучении модели. "
   ]
  },
  {
   "cell_type": "code",
   "execution_count": 23,
   "metadata": {},
   "outputs": [
    {
     "data": {
      "image/png": "[encoded data removed]",
      "text/plain": [
       "<Figure size 864x576 with 1 Axes>"
      ]
     },
     "metadata": {
      "needs_background": "light"
     },
     "output_type": "display_data"
    }
   ],
   "source": [
    "data['Tenure'].value_counts().plot(kind='bar', figsize=(12,8), title='Tenure');"
   ]
  },
  {
   "cell_type": "markdown",
   "metadata": {},
   "source": [
    "#### Колонка `Balance`\n",
    "`Balance` — баланс на счёте. Численный признак, будет использоваться для обучения модели."
   ]
  },
  {
   "cell_type": "code",
   "execution_count": 24,
   "metadata": {},
   "outputs": [
    {
     "data": {
      "image/png": "[encoded data removed]",
      "text/plain": [
       "<Figure size 864x576 with 1 Axes>"
      ]
     },
     "metadata": {
      "needs_background": "light"
     },
     "output_type": "display_data"
    }
   ],
   "source": [
    "data['Balance'].hist(bins=20, figsize=(12,8))\n",
    "plt.title('Баланс на счете')\n",
    "plt.show()"
   ]
  },
  {
   "cell_type": "code",
   "execution_count": 25,
   "metadata": {},
   "outputs": [
    {
     "data": {
      "text/plain": [
       "count      9091.000000\n",
       "mean      76522.740015\n",
       "std       62329.528576\n",
       "min           0.000000\n",
       "25%           0.000000\n",
       "50%       97318.250000\n",
       "75%      127561.890000\n",
       "max      250898.090000\n",
       "Name: Balance, dtype: float64"
      ]
     },
     "execution_count": 25,
     "metadata": {},
     "output_type": "execute_result"
    }
   ],
   "source": [
    "data['Balance'].describe()"
   ]
  },
  {
   "cell_type": "markdown",
   "metadata": {},
   "source": [
    "#### Колонка `NumOfProducts`\n",
    "`NumOfProducts` — количество продуктов банка, используемых клиентом. Признак будет использоваться для обучения."
   ]
  },
  {
   "cell_type": "code",
   "execution_count": 26,
   "metadata": {},
   "outputs": [
    {
     "data": {
      "image/png": "[encoded data removed]",
      "text/plain": [
       "<Figure size 864x864 with 1 Axes>"
      ]
     },
     "metadata": {},
     "output_type": "display_data"
    }
   ],
   "source": [
    "data['NumOfProducts'].value_counts().plot(kind='pie', figsize=(12,12), title='Количество продуктов банка, используемых клиентом', autopct='%.2f%%');"
   ]
  },
  {
   "cell_type": "markdown",
   "metadata": {},
   "source": [
    "#### Колонка `HasCrCard`\n",
    "`HasCrCard` — наличие кредитной карты. Категориальный признак, будет использоваться при обучении."
   ]
  },
  {
   "cell_type": "code",
   "execution_count": 27,
   "metadata": {},
   "outputs": [
    {
     "data": {
      "image/png": "[encoded data removed]",
      "text/plain": [
       "<Figure size 864x864 with 1 Axes>"
      ]
     },
     "metadata": {},
     "output_type": "display_data"
    }
   ],
   "source": [
    "data['HasCrCard'].value_counts().plot(kind='pie', figsize=(12,12), title='Наличие кредитной карты', autopct='%.2f%%');"
   ]
  },
  {
   "cell_type": "markdown",
   "metadata": {},
   "source": [
    "#### Колонка `IsActiveMember`\n",
    "`IsActiveMember` — активность клиента. Категориальный признак, будет использоваться при обучении."
   ]
  },
  {
   "cell_type": "code",
   "execution_count": 28,
   "metadata": {},
   "outputs": [
    {
     "data": {
      "image/png": "[encoded data removed]",
      "text/plain": [
       "<Figure size 864x864 with 1 Axes>"
      ]
     },
     "metadata": {},
     "output_type": "display_data"
    }
   ],
   "source": [
    "data['IsActiveMember'].value_counts().plot(kind='pie', figsize=(12,12), title='Активность клиента', autopct='%.2f%%');"
   ]
  },
  {
   "cell_type": "markdown",
   "metadata": {},
   "source": [
    "#### Колонка `EstimatedSalary`\n",
    "`EstimatedSalary` — предполагаемая зарплата. Численный признак, будет использоваться при обучении."
   ]
  },
  {
   "cell_type": "code",
   "execution_count": 29,
   "metadata": {},
   "outputs": [
    {
     "data": {
      "image/png": "[encoded data removed]",
      "text/plain": [
       "<Figure size 864x576 with 1 Axes>"
      ]
     },
     "metadata": {
      "needs_background": "light"
     },
     "output_type": "display_data"
    }
   ],
   "source": [
    "data['EstimatedSalary'].hist(bins=20, figsize=(12,8))\n",
    "plt.title('Предполагаемая зарплата')\n",
    "plt.show()"
   ]
  },
  {
   "cell_type": "code",
   "execution_count": 30,
   "metadata": {},
   "outputs": [
    {
     "data": {
      "text/plain": [
       "count      9091.000000\n",
       "mean     100181.214924\n",
       "std       57624.755647\n",
       "min          11.580000\n",
       "25%       51227.745000\n",
       "50%      100240.200000\n",
       "75%      149567.210000\n",
       "max      199992.480000\n",
       "Name: EstimatedSalary, dtype: float64"
      ]
     },
     "execution_count": 30,
     "metadata": {},
     "output_type": "execute_result"
    }
   ],
   "source": [
    "data['EstimatedSalary'].describe()"
   ]
  },
  {
   "cell_type": "markdown",
   "metadata": {},
   "source": [
    "#### Выделение признаков\n",
    "Таким образом, для обучения будут использоваться признаки `CreditScore`, `Geography`, `Gender`, `Age`, `Tenure`, `Balance`, `NumOfProducts`, `HasCrCard`, `IsActiveMember`, `EstimatedSalary`."
   ]
  },
  {
   "cell_type": "code",
   "execution_count": 31,
   "metadata": {},
   "outputs": [],
   "source": [
    "features = data.drop(['Exited', 'RowNumber', 'CustomerId', 'Surname'], axis=1)"
   ]
  },
  {
   "cell_type": "code",
   "execution_count": 32,
   "metadata": {},
   "outputs": [
    {
     "data": {
      "text/plain": [
       "(9091, 10)"
      ]
     },
     "execution_count": 32,
     "metadata": {},
     "output_type": "execute_result"
    }
   ],
   "source": [
    "features.shape"
   ]
  },
  {
   "cell_type": "markdown",
   "metadata": {},
   "source": [
    "### Преобразование категориальных признаков\n",
    "В наших данных остались строковые категориальный признаки: `Geography` и `Gender`. Преобразуем их с помощью метода OneHotEncoding, используя `get_dummies()`."
   ]
  },
  {
   "cell_type": "code",
   "execution_count": 33,
   "metadata": {},
   "outputs": [],
   "source": [
    "features = pd.get_dummies(features, drop_first=True)"
   ]
  },
  {
   "cell_type": "code",
   "execution_count": 34,
   "metadata": {},
   "outputs": [
    {
     "data": {
      "text/html": [
       "<div>\n",
       "<style scoped>\n",
       "    .dataframe tbody tr th:only-of-type {\n",
       "        vertical-align: middle;\n",
       "    }\n",
       "\n",
       "    .dataframe tbody tr th {\n",
       "        vertical-align: top;\n",
       "    }\n",
       "\n",
       "    .dataframe thead th {\n",
       "        text-align: right;\n",
       "    }\n",
       "</style>\n",
       "<table border=\"1\" class=\"dataframe\">\n",
       "  <thead>\n",
       "    <tr style=\"text-align: right;\">\n",
       "      <th></th>\n",
       "      <th>CreditScore</th>\n",
       "      <th>Age</th>\n",
       "      <th>Tenure</th>\n",
       "      <th>Balance</th>\n",
       "      <th>NumOfProducts</th>\n",
       "      <th>HasCrCard</th>\n",
       "      <th>IsActiveMember</th>\n",
       "      <th>EstimatedSalary</th>\n",
       "      <th>Geography_Germany</th>\n",
       "      <th>Geography_Spain</th>\n",
       "      <th>Gender_Male</th>\n",
       "    </tr>\n",
       "  </thead>\n",
       "  <tbody>\n",
       "    <tr>\n",
       "      <th>0</th>\n",
       "      <td>619</td>\n",
       "      <td>42</td>\n",
       "      <td>2.0</td>\n",
       "      <td>0.00</td>\n",
       "      <td>1</td>\n",
       "      <td>1</td>\n",
       "      <td>1</td>\n",
       "      <td>101348.88</td>\n",
       "      <td>0</td>\n",
       "      <td>0</td>\n",
       "      <td>0</td>\n",
       "    </tr>\n",
       "    <tr>\n",
       "      <th>1</th>\n",
       "      <td>608</td>\n",
       "      <td>41</td>\n",
       "      <td>1.0</td>\n",
       "      <td>83807.86</td>\n",
       "      <td>1</td>\n",
       "      <td>0</td>\n",
       "      <td>1</td>\n",
       "      <td>112542.58</td>\n",
       "      <td>0</td>\n",
       "      <td>1</td>\n",
       "      <td>0</td>\n",
       "    </tr>\n",
       "    <tr>\n",
       "      <th>2</th>\n",
       "      <td>502</td>\n",
       "      <td>42</td>\n",
       "      <td>8.0</td>\n",
       "      <td>159660.80</td>\n",
       "      <td>3</td>\n",
       "      <td>1</td>\n",
       "      <td>0</td>\n",
       "      <td>113931.57</td>\n",
       "      <td>0</td>\n",
       "      <td>0</td>\n",
       "      <td>0</td>\n",
       "    </tr>\n",
       "    <tr>\n",
       "      <th>3</th>\n",
       "      <td>699</td>\n",
       "      <td>39</td>\n",
       "      <td>1.0</td>\n",
       "      <td>0.00</td>\n",
       "      <td>2</td>\n",
       "      <td>0</td>\n",
       "      <td>0</td>\n",
       "      <td>93826.63</td>\n",
       "      <td>0</td>\n",
       "      <td>0</td>\n",
       "      <td>0</td>\n",
       "    </tr>\n",
       "    <tr>\n",
       "      <th>4</th>\n",
       "      <td>850</td>\n",
       "      <td>43</td>\n",
       "      <td>2.0</td>\n",
       "      <td>125510.82</td>\n",
       "      <td>1</td>\n",
       "      <td>1</td>\n",
       "      <td>1</td>\n",
       "      <td>79084.10</td>\n",
       "      <td>0</td>\n",
       "      <td>1</td>\n",
       "      <td>0</td>\n",
       "    </tr>\n",
       "  </tbody>\n",
       "</table>\n",
       "</div>"
      ],
      "text/plain": [
       "   CreditScore  Age  Tenure    Balance  NumOfProducts  HasCrCard  \\\n",
       "0          619   42     2.0       0.00              1          1   \n",
       "1          608   41     1.0   83807.86              1          0   \n",
       "2          502   42     8.0  159660.80              3          1   \n",
       "3          699   39     1.0       0.00              2          0   \n",
       "4          850   43     2.0  125510.82              1          1   \n",
       "\n",
       "   IsActiveMember  EstimatedSalary  Geography_Germany  Geography_Spain  \\\n",
       "0               1        101348.88                  0                0   \n",
       "1               1        112542.58                  0                1   \n",
       "2               0        113931.57                  0                0   \n",
       "3               0         93826.63                  0                0   \n",
       "4               1         79084.10                  0                1   \n",
       "\n",
       "   Gender_Male  \n",
       "0            0  \n",
       "1            0  \n",
       "2            0  \n",
       "3            0  \n",
       "4            0  "
      ]
     },
     "execution_count": 34,
     "metadata": {},
     "output_type": "execute_result"
    }
   ],
   "source": [
    "features.head()"
   ]
  },
  {
   "cell_type": "markdown",
   "metadata": {},
   "source": [
    "### Разделение выборки на обучающую, валидационную и тестовую"
   ]
  },
  {
   "cell_type": "markdown",
   "metadata": {},
   "source": [
    "Необходимо разделить выборки на обучающую, валидационную и тестовую в соотношении 3:1:1. Для этого используем функцию `train_test_split` библиотеки `sklearn` 2 раза:\n",
    "- сначала разобьем данные на обучающую и валидационную+тестовую выборки в отношении 3:2;\n",
    "- затем разобьем вторую выборку на валидационную и тестовую, также в отношении 1:1."
   ]
  },
  {
   "cell_type": "code",
   "execution_count": 35,
   "metadata": {},
   "outputs": [],
   "source": [
    "features_train, features_test_valid, target_train, target_test_valid = train_test_split(\n",
    "    features, target, test_size=0.4, random_state=1, stratify=target)\n",
    "\n",
    "features_test, features_valid, target_test, target_valid = train_test_split(\n",
    "    features_test_valid, target_test_valid, test_size=0.5, random_state=1, stratify=target_test_valid)"
   ]
  },
  {
   "cell_type": "code",
   "execution_count": 36,
   "metadata": {},
   "outputs": [
    {
     "name": "stdout",
     "output_type": "stream",
     "text": [
      "(5454, 11)\n",
      "(5454,)\n",
      "(1818, 11)\n",
      "(1819, 11)\n",
      "(1818,)\n",
      "(1819,)\n"
     ]
    }
   ],
   "source": [
    "for df in [features_train, target_train, features_test, features_valid, target_test, target_valid]:\n",
    "    print(df.shape)\n"
   ]
  },
  {
   "cell_type": "markdown",
   "metadata": {},
   "source": [
    "### Масштабирование признаков\n",
    "Теперь масштабируем численные признаки."
   ]
  },
  {
   "cell_type": "code",
   "execution_count": 37,
   "metadata": {},
   "outputs": [],
   "source": [
    "numeric = ['CreditScore', 'Age', 'Tenure', 'Balance', 'EstimatedSalary']"
   ]
  },
  {
   "cell_type": "code",
   "execution_count": 38,
   "metadata": {},
   "outputs": [],
   "source": [
    "scaler = StandardScaler()"
   ]
  },
  {
   "cell_type": "code",
   "execution_count": 39,
   "metadata": {},
   "outputs": [
    {
     "name": "stderr",
     "output_type": "stream",
     "text": [
      "/tmp/ipykernel_138/3511476149.py:1: SettingWithCopyWarning: \n",
      "A value is trying to be set on a copy of a slice from a DataFrame.\n",
      "Try using .loc[row_indexer,col_indexer] = value instead\n",
      "\n",
      "See the caveats in the documentation: https://pandas.pydata.org/pandas-docs/stable/user_guide/indexing.html#returning-a-view-versus-a-copy\n",
      "  features_train[numeric] = scaler.fit_transform(features_train[numeric])\n",
      "/opt/conda/lib/python3.9/site-packages/pandas/core/indexing.py:1738: SettingWithCopyWarning: \n",
      "A value is trying to be set on a copy of a slice from a DataFrame.\n",
      "Try using .loc[row_indexer,col_indexer] = value instead\n",
      "\n",
      "See the caveats in the documentation: https://pandas.pydata.org/pandas-docs/stable/user_guide/indexing.html#returning-a-view-versus-a-copy\n",
      "  self._setitem_single_column(loc, value[:, i].tolist(), pi)\n"
     ]
    }
   ],
   "source": [
    "features_train[numeric] = scaler.fit_transform(features_train[numeric]) "
   ]
  },
  {
   "cell_type": "code",
   "execution_count": 40,
   "metadata": {},
   "outputs": [
    {
     "data": {
      "text/html": [
       "<div>\n",
       "<style scoped>\n",
       "    .dataframe tbody tr th:only-of-type {\n",
       "        vertical-align: middle;\n",
       "    }\n",
       "\n",
       "    .dataframe tbody tr th {\n",
       "        vertical-align: top;\n",
       "    }\n",
       "\n",
       "    .dataframe thead th {\n",
       "        text-align: right;\n",
       "    }\n",
       "</style>\n",
       "<table border=\"1\" class=\"dataframe\">\n",
       "  <thead>\n",
       "    <tr style=\"text-align: right;\">\n",
       "      <th></th>\n",
       "      <th>CreditScore</th>\n",
       "      <th>Age</th>\n",
       "      <th>Tenure</th>\n",
       "      <th>Balance</th>\n",
       "      <th>NumOfProducts</th>\n",
       "      <th>HasCrCard</th>\n",
       "      <th>IsActiveMember</th>\n",
       "      <th>EstimatedSalary</th>\n",
       "      <th>Geography_Germany</th>\n",
       "      <th>Geography_Spain</th>\n",
       "      <th>Gender_Male</th>\n",
       "    </tr>\n",
       "  </thead>\n",
       "  <tbody>\n",
       "    <tr>\n",
       "      <th>4795</th>\n",
       "      <td>-1.742290</td>\n",
       "      <td>-0.950643</td>\n",
       "      <td>1.396350</td>\n",
       "      <td>-1.239915</td>\n",
       "      <td>1</td>\n",
       "      <td>1</td>\n",
       "      <td>1</td>\n",
       "      <td>-0.306569</td>\n",
       "      <td>0</td>\n",
       "      <td>0</td>\n",
       "      <td>1</td>\n",
       "    </tr>\n",
       "    <tr>\n",
       "      <th>4174</th>\n",
       "      <td>-0.853861</td>\n",
       "      <td>1.123392</td>\n",
       "      <td>-0.339935</td>\n",
       "      <td>-1.239915</td>\n",
       "      <td>3</td>\n",
       "      <td>1</td>\n",
       "      <td>1</td>\n",
       "      <td>-0.566951</td>\n",
       "      <td>0</td>\n",
       "      <td>0</td>\n",
       "      <td>1</td>\n",
       "    </tr>\n",
       "    <tr>\n",
       "      <th>1411</th>\n",
       "      <td>0.369036</td>\n",
       "      <td>-0.856368</td>\n",
       "      <td>-0.339935</td>\n",
       "      <td>0.125512</td>\n",
       "      <td>2</td>\n",
       "      <td>0</td>\n",
       "      <td>1</td>\n",
       "      <td>1.643701</td>\n",
       "      <td>1</td>\n",
       "      <td>0</td>\n",
       "      <td>0</td>\n",
       "    </tr>\n",
       "    <tr>\n",
       "      <th>3636</th>\n",
       "      <td>0.139089</td>\n",
       "      <td>-0.762094</td>\n",
       "      <td>-0.339935</td>\n",
       "      <td>0.422380</td>\n",
       "      <td>2</td>\n",
       "      <td>0</td>\n",
       "      <td>1</td>\n",
       "      <td>-1.087914</td>\n",
       "      <td>0</td>\n",
       "      <td>1</td>\n",
       "      <td>1</td>\n",
       "    </tr>\n",
       "    <tr>\n",
       "      <th>3151</th>\n",
       "      <td>0.379488</td>\n",
       "      <td>-0.007899</td>\n",
       "      <td>-0.687192</td>\n",
       "      <td>0.555221</td>\n",
       "      <td>1</td>\n",
       "      <td>0</td>\n",
       "      <td>0</td>\n",
       "      <td>0.645288</td>\n",
       "      <td>0</td>\n",
       "      <td>0</td>\n",
       "      <td>0</td>\n",
       "    </tr>\n",
       "  </tbody>\n",
       "</table>\n",
       "</div>"
      ],
      "text/plain": [
       "      CreditScore       Age    Tenure   Balance  NumOfProducts  HasCrCard  \\\n",
       "4795    -1.742290 -0.950643  1.396350 -1.239915              1          1   \n",
       "4174    -0.853861  1.123392 -0.339935 -1.239915              3          1   \n",
       "1411     0.369036 -0.856368 -0.339935  0.125512              2          0   \n",
       "3636     0.139089 -0.762094 -0.339935  0.422380              2          0   \n",
       "3151     0.379488 -0.007899 -0.687192  0.555221              1          0   \n",
       "\n",
       "      IsActiveMember  EstimatedSalary  Geography_Germany  Geography_Spain  \\\n",
       "4795               1        -0.306569                  0                0   \n",
       "4174               1        -0.566951                  0                0   \n",
       "1411               1         1.643701                  1                0   \n",
       "3636               1        -1.087914                  0                1   \n",
       "3151               0         0.645288                  0                0   \n",
       "\n",
       "      Gender_Male  \n",
       "4795            1  \n",
       "4174            1  \n",
       "1411            0  \n",
       "3636            1  \n",
       "3151            0  "
      ]
     },
     "execution_count": 40,
     "metadata": {},
     "output_type": "execute_result"
    }
   ],
   "source": [
    "features_train.head()"
   ]
  },
  {
   "cell_type": "markdown",
   "metadata": {},
   "source": [
    "Теперь масштабируем признаки в валидационной и тестовой выборках."
   ]
  },
  {
   "cell_type": "code",
   "execution_count": 41,
   "metadata": {},
   "outputs": [
    {
     "name": "stderr",
     "output_type": "stream",
     "text": [
      "/tmp/ipykernel_138/384715870.py:1: SettingWithCopyWarning: \n",
      "A value is trying to be set on a copy of a slice from a DataFrame.\n",
      "Try using .loc[row_indexer,col_indexer] = value instead\n",
      "\n",
      "See the caveats in the documentation: https://pandas.pydata.org/pandas-docs/stable/user_guide/indexing.html#returning-a-view-versus-a-copy\n",
      "  features_valid[numeric] = scaler.transform(features_valid[numeric])\n",
      "/opt/conda/lib/python3.9/site-packages/pandas/core/indexing.py:1738: SettingWithCopyWarning: \n",
      "A value is trying to be set on a copy of a slice from a DataFrame.\n",
      "Try using .loc[row_indexer,col_indexer] = value instead\n",
      "\n",
      "See the caveats in the documentation: https://pandas.pydata.org/pandas-docs/stable/user_guide/indexing.html#returning-a-view-versus-a-copy\n",
      "  self._setitem_single_column(loc, value[:, i].tolist(), pi)\n"
     ]
    }
   ],
   "source": [
    "features_valid[numeric] = scaler.transform(features_valid[numeric]) "
   ]
  },
  {
   "cell_type": "code",
   "execution_count": 42,
   "metadata": {},
   "outputs": [
    {
     "name": "stderr",
     "output_type": "stream",
     "text": [
      "/tmp/ipykernel_138/375183083.py:1: SettingWithCopyWarning: \n",
      "A value is trying to be set on a copy of a slice from a DataFrame.\n",
      "Try using .loc[row_indexer,col_indexer] = value instead\n",
      "\n",
      "See the caveats in the documentation: https://pandas.pydata.org/pandas-docs/stable/user_guide/indexing.html#returning-a-view-versus-a-copy\n",
      "  features_test[numeric] = scaler.transform(features_test[numeric])\n",
      "/opt/conda/lib/python3.9/site-packages/pandas/core/indexing.py:1738: SettingWithCopyWarning: \n",
      "A value is trying to be set on a copy of a slice from a DataFrame.\n",
      "Try using .loc[row_indexer,col_indexer] = value instead\n",
      "\n",
      "See the caveats in the documentation: https://pandas.pydata.org/pandas-docs/stable/user_guide/indexing.html#returning-a-view-versus-a-copy\n",
      "  self._setitem_single_column(loc, value[:, i].tolist(), pi)\n"
     ]
    }
   ],
   "source": [
    "features_test[numeric] = scaler.transform(features_test[numeric]) "
   ]
  },
  {
   "cell_type": "markdown",
   "metadata": {},
   "source": [
    "### Вывод"
   ]
  },
  {
   "cell_type": "markdown",
   "metadata": {},
   "source": [
    "Данный из файла `/datasets/Churn.csv` были загружены в датафрейм `data`. В данных представлено 10000 строк-вхождений и 14 колонок:\n",
    "- `RowNumber`: целочисленные данные типа int64, пропусков в колонке нет;\n",
    "- `CustomerID`: целочисленные данные типа int64, пропусков в колонке нет;\n",
    "- `Surname`: строковые данные, пропусков в колонке нет;\n",
    "- `CreditScore`: целочисленные данные типа int64, пропусков в колонке нет;\n",
    "- `Geography`: строковые данные, пропусков в колонке нет;\n",
    "- `Gender`: строковые данные, пропусков в колонке нет;\n",
    "- `Age`: целочисленные данные типа int64, пропусков в колонке нет;\n",
    "- `Tenure`: численные данные типа float64, в колонке есть пропуски;\n",
    "- `Balance`: численные данные типа float64, пропусков в колонке нет;\n",
    "- `NumOfProducts`: целочисленные данные типа int64, пропусков в колонке нет;\n",
    "- `HasCrCard`: целочисленные данные типа int64, пропусков в колонке нет;\n",
    "- `IsActiveMember`: целочисленные данные типа int64, пропусков в колонке нет;\n",
    "- `EstimatedSalary`: численные данные типа float64, пропусков в колонке нет;\n",
    "- `Exited`: целочисленные данные типа int64, пропусков в колонке нет.\n",
    "\n",
    "В данных нет дубликатов.\n",
    "\n",
    "Далее мы выполнили подготовку данных:\n",
    "1. Обработка пропусков. В колонке `Tenure` было обнаружено 909 пропусков. Было принято решение удалить пропуски из данных.\n",
    "2. Данные из колонки `Exited` были выделены в переменную `target`. Было замечено, что в данных имеется дисбаланс целевых классов: класс `0` - около 80%, класс `1` - около 20%.\n",
    "3. Были изучены остальные признаки. Признаки `CreditScore`, `Geography`, `Gender`, `Age`, `Tenure`, `Balance`, `NumOfProducts`, `HasCrCard`, `IsActiveMember`, `EstimatedSalary` были выделены в переменную `features`.\n",
    "4. Для преобразования категориальных признаков `Geography` и `Gender` было использовано прямое кодировние (OneHotEncoding).\n",
    "5. Выборки были разделены на обучающую, валидационную и тестовую в отношении 3:1:1.\n",
    "6. Численные признаки `CreditScore`, `Age`, `Tenure`, `Balance`, `EstimatedSalary` были масштабированы при помощи `StandardScaler`."
   ]
  },
  {
   "cell_type": "markdown",
   "metadata": {},
   "source": [
    "## Исследование задачи\n",
    "Перед нами стоит задача бинарной классификации: целевой признак `Exited` принимает значения `0` и `1`. В данных наблюдается дисбаланс классов. Сначала предлагается обучить модель без учета дисбаланса классов."
   ]
  },
  {
   "cell_type": "markdown",
   "metadata": {},
   "source": [
    "### LogisticRegression\n",
    "Сначала предлагаю рассмотреть логистическую регрессию."
   ]
  },
  {
   "cell_type": "code",
   "execution_count": 43,
   "metadata": {},
   "outputs": [],
   "source": [
    "modelLR = LogisticRegression(random_state=1)"
   ]
  },
  {
   "cell_type": "code",
   "execution_count": 44,
   "metadata": {},
   "outputs": [],
   "source": [
    "def print_scores(y_true, y_pred, y_score):\n",
    "    sns.heatmap(confusion_matrix(y_true, y_pred), annot=True, fmt='g')\n",
    "    plt.show()\n",
    "    print(f'F1-мера = {f1_score(y_true, y_pred)}')\n",
    "    print(f'ROC-AUC = {roc_auc_score(y_true, y_score)}')\n",
    "    fpr, tpr, thresholds = roc_curve(y_true, y_score)\n",
    "    plt.plot([0, 1], [0, 1], linestyle='--')\n",
    "    plt.plot(fpr, tpr)\n",
    "    plt.xlim(0,1)\n",
    "    plt.ylim(0,1)\n",
    "    plt.xlabel('False Positive Rate')\n",
    "    plt.ylabel('True Positive Rate')\n",
    "    plt.title('ROC-кривая')\n",
    "    plt.show()"
   ]
  },
  {
   "cell_type": "code",
   "execution_count": 45,
   "metadata": {},
   "outputs": [],
   "source": [
    "def train_and_validate(model, features_train, target_train, features_valid, target_valid):\n",
    "    model.fit(features_train, target_train)\n",
    "    predict_valid = model.predict(features_valid)\n",
    "    predict_scores_valid = model.predict_proba(features_valid)[:, 1]\n",
    "    print_scores(target_valid, predict_valid, predict_scores_valid)"
   ]
  },
  {
   "cell_type": "code",
   "execution_count": 46,
   "metadata": {},
   "outputs": [
    {
     "data": {
      "image/png": "[encoded data removed]",
      "text/plain": [
       "<Figure size 432x288 with 2 Axes>"
      ]
     },
     "metadata": {
      "needs_background": "light"
     },
     "output_type": "display_data"
    },
    {
     "name": "stdout",
     "output_type": "stream",
     "text": [
      "F1-мера = 0.2647058823529412\n",
      "ROC-AUC = 0.7712803979091897\n"
     ]
    },
    {
     "data": {
      "image/png": "[encoded data removed]",
      "text/plain": [
       "<Figure size 432x288 with 1 Axes>"
      ]
     },
     "metadata": {
      "needs_background": "light"
     },
     "output_type": "display_data"
    }
   ],
   "source": [
    "train_and_validate(modelLR, features_train, target_train, features_valid, target_valid)"
   ]
  },
  {
   "cell_type": "markdown",
   "metadata": {},
   "source": [
    "F-мера равна 0.26, ROC-AUC = 0.77."
   ]
  },
  {
   "cell_type": "markdown",
   "metadata": {},
   "source": [
    "### DecisionTreeClassifier\n",
    "Теперь попробуем использовать модель решающего дерева. Мы будем варьировать параметр `max_depth`."
   ]
  },
  {
   "cell_type": "code",
   "execution_count": 47,
   "metadata": {},
   "outputs": [],
   "source": [
    "modelDT = DecisionTreeClassifier(random_state=1)"
   ]
  },
  {
   "cell_type": "code",
   "execution_count": 48,
   "metadata": {},
   "outputs": [],
   "source": [
    "params = {'max_depth': range(1, 20, 1)}"
   ]
  },
  {
   "cell_type": "code",
   "execution_count": 49,
   "metadata": {},
   "outputs": [],
   "source": [
    "clfDT = GridSearchCV(modelDT, params)"
   ]
  },
  {
   "cell_type": "code",
   "execution_count": 50,
   "metadata": {},
   "outputs": [
    {
     "data": {
      "text/plain": [
       "GridSearchCV(estimator=DecisionTreeClassifier(random_state=1),\n",
       "             param_grid={'max_depth': range(1, 20)})"
      ]
     },
     "execution_count": 50,
     "metadata": {},
     "output_type": "execute_result"
    }
   ],
   "source": [
    "clfDT.fit(features_train, target_train)"
   ]
  },
  {
   "cell_type": "code",
   "execution_count": 51,
   "metadata": {},
   "outputs": [
    {
     "data": {
      "text/plain": [
       "DecisionTreeClassifier(max_depth=5, random_state=1)"
      ]
     },
     "execution_count": 51,
     "metadata": {},
     "output_type": "execute_result"
    }
   ],
   "source": [
    "clfDT.best_estimator_"
   ]
  },
  {
   "cell_type": "markdown",
   "metadata": {},
   "source": [
    "Оптимальное значение признака `max_depth` оказалось равно `5`."
   ]
  },
  {
   "cell_type": "code",
   "execution_count": 52,
   "metadata": {},
   "outputs": [],
   "source": [
    "clfDT = clfDT.best_estimator_"
   ]
  },
  {
   "cell_type": "code",
   "execution_count": 53,
   "metadata": {},
   "outputs": [
    {
     "data": {
      "image/png": "[encoded data removed]",
      "text/plain": [
       "<Figure size 432x288 with 2 Axes>"
      ]
     },
     "metadata": {
      "needs_background": "light"
     },
     "output_type": "display_data"
    },
    {
     "name": "stdout",
     "output_type": "stream",
     "text": [
      "F1-мера = 0.5330948121645797\n",
      "ROC-AUC = 0.8394011258209111\n"
     ]
    },
    {
     "data": {
      "image/png": "[encoded data removed]",
      "text/plain": [
       "<Figure size 432x288 with 1 Axes>"
      ]
     },
     "metadata": {
      "needs_background": "light"
     },
     "output_type": "display_data"
    }
   ],
   "source": [
    "train_and_validate(clfDT, features_train, target_train, features_valid, target_valid)"
   ]
  },
  {
   "cell_type": "markdown",
   "metadata": {},
   "source": [
    "Получили значение F-меры, равное 0.53. Значение ROC-AUC также выросло до 0.84."
   ]
  },
  {
   "cell_type": "markdown",
   "metadata": {},
   "source": [
    "### RandomForestClassifier\n",
    "Теперь обучим модель случайного леса. мы можем изменять значения признаков `max_depth` и `n_estimators`."
   ]
  },
  {
   "cell_type": "code",
   "execution_count": 54,
   "metadata": {},
   "outputs": [],
   "source": [
    "modelRFC = RandomForestClassifier(random_state=1)"
   ]
  },
  {
   "cell_type": "code",
   "execution_count": 55,
   "metadata": {},
   "outputs": [],
   "source": [
    "params = {'max_depth': [None, 5, 7, 10, 15, 20], 'n_estimators': [10, 50, 100, 150, 200]}"
   ]
  },
  {
   "cell_type": "code",
   "execution_count": 56,
   "metadata": {},
   "outputs": [],
   "source": [
    "clfRFC = GridSearchCV(modelRFC, params)"
   ]
  },
  {
   "cell_type": "code",
   "execution_count": 57,
   "metadata": {},
   "outputs": [
    {
     "data": {
      "text/plain": [
       "GridSearchCV(estimator=RandomForestClassifier(random_state=1),\n",
       "             param_grid={'max_depth': [None, 5, 7, 10, 15, 20],\n",
       "                         'n_estimators': [10, 50, 100, 150, 200]})"
      ]
     },
     "execution_count": 57,
     "metadata": {},
     "output_type": "execute_result"
    }
   ],
   "source": [
    "clfRFC.fit(features_train, target_train)"
   ]
  },
  {
   "cell_type": "code",
   "execution_count": 58,
   "metadata": {},
   "outputs": [
    {
     "data": {
      "text/plain": [
       "RandomForestClassifier(random_state=1)"
      ]
     },
     "execution_count": 58,
     "metadata": {},
     "output_type": "execute_result"
    }
   ],
   "source": [
    "clfRFC.best_estimator_"
   ]
  },
  {
   "cell_type": "markdown",
   "metadata": {},
   "source": [
    "Мы получили следующие оптимальные значения параметров: `max_depth` = `15`, `n_estimators` = `150`."
   ]
  },
  {
   "cell_type": "code",
   "execution_count": 59,
   "metadata": {},
   "outputs": [],
   "source": [
    "clfRFC = clfRFC.best_estimator_"
   ]
  },
  {
   "cell_type": "code",
   "execution_count": 60,
   "metadata": {},
   "outputs": [
    {
     "data": {
      "image/png": "[encoded data removed]",
      "text/plain": [
       "<Figure size 432x288 with 2 Axes>"
      ]
     },
     "metadata": {
      "needs_background": "light"
     },
     "output_type": "display_data"
    },
    {
     "name": "stdout",
     "output_type": "stream",
     "text": [
      "F1-мера = 0.5980392156862745\n",
      "ROC-AUC = 0.8586776444133372\n"
     ]
    },
    {
     "data": {
      "image/png": "[encoded data removed]",
      "text/plain": [
       "<Figure size 432x288 with 1 Axes>"
      ]
     },
     "metadata": {
      "needs_background": "light"
     },
     "output_type": "display_data"
    }
   ],
   "source": [
    "train_and_validate(clfRFC, features_train, target_train, features_valid, target_valid)"
   ]
  },
  {
   "cell_type": "markdown",
   "metadata": {},
   "source": [
    "RandomForestClassifier продемонстрировал самые высокие значения F1-меры и ROC-AUC: 0.598 и 0.86 соответственно. "
   ]
  },
  {
   "cell_type": "markdown",
   "metadata": {},
   "source": [
    "### Вывод\n",
    "Мы обучили три модели классификации: логистическую регрессию, обучающее дерево и случайный лес. Результаты приведены в таблице ниже.\n",
    "\n",
    "|Модель|F1-мера|ROC-AUC|\n",
    "|:-----|------:|------:|\n",
    "|Логистическая регрессия|0.26|0.77|\n",
    "|Решающее дерево (`max_depth`=5)|0.53|0.84|\n",
    "|Случайный лес (`n_estimators`=150, `max_depth`=15)|0.6|0.86|\n",
    "\n",
    "Как мы видим, наилучший результат продемонстрировал случайный лес, и >эта модель сумела преодолеть границу F-меры, равную 0.59. При этом видим, что судя по графикам ROC-AUC кривой и значениям этой метрики, эти классификаторы выигрывают у случайного классификатора. Для дальнейших экспериментов будет использоваться модель случайного леса."
   ]
  },
  {
   "cell_type": "markdown",
   "metadata": {},
   "source": [
    "## Борьба с дисбалансом\n",
    "Для борьбы с дисбалансом классов мы можем воспользоваться либо увеличением выборки (upsampling), либо уменьшением выборки (downsampling). Предлагаю начать с апсэмплинга."
   ]
  },
  {
   "cell_type": "markdown",
   "metadata": {},
   "source": [
    "### Увеличение выборки (upsampling)\n",
    "В наших данных наблюдается дисбаланс в сторону нулевого класса, т.е. мы хотим увеличить количество вхождений класса 1."
   ]
  },
  {
   "cell_type": "code",
   "execution_count": 61,
   "metadata": {},
   "outputs": [],
   "source": [
    "def upsample(features, target, repeat):\n",
    "    features_zeros = features[target == 0]\n",
    "    features_ones = features[target == 1]\n",
    "    target_zeros = target[target == 0]\n",
    "    target_ones = target[target == 1]\n",
    "    features_upsampled = pd.concat([features_zeros] + [features_ones] * repeat)\n",
    "    target_upsampled = pd.concat([target_zeros] + [target_ones] * repeat)\n",
    "    features, target = shuffle(features_upsampled, target_upsampled, random_state=12345)\n",
    "    return features, target"
   ]
  },
  {
   "cell_type": "code",
   "execution_count": 97,
   "metadata": {},
   "outputs": [
    {
     "data": {
      "text/plain": [
       "0    4342\n",
       "1    1112\n",
       "Name: Exited, dtype: int64"
      ]
     },
     "execution_count": 97,
     "metadata": {},
     "output_type": "execute_result"
    }
   ],
   "source": [
    "target_train.value_counts()"
   ]
  },
  {
   "cell_type": "code",
   "execution_count": 98,
   "metadata": {},
   "outputs": [
    {
     "data": {
      "text/plain": [
       "3.9046762589928057"
      ]
     },
     "execution_count": 98,
     "metadata": {},
     "output_type": "execute_result"
    }
   ],
   "source": [
    "target_train.value_counts()[0] / target_train.value_counts()[1]"
   ]
  },
  {
   "cell_type": "markdown",
   "metadata": {},
   "source": [
    "Увеличим количество примеров класса 1 в 4 раза."
   ]
  },
  {
   "cell_type": "code",
   "execution_count": 99,
   "metadata": {},
   "outputs": [],
   "source": [
    "features_upsampled, target_upsampled = upsample(features_train, target_train, 4)"
   ]
  },
  {
   "cell_type": "code",
   "execution_count": 100,
   "metadata": {},
   "outputs": [
    {
     "name": "stdout",
     "output_type": "stream",
     "text": [
      "(8790, 11)\n"
     ]
    },
    {
     "data": {
      "text/plain": [
       "(8790,)"
      ]
     },
     "execution_count": 100,
     "metadata": {},
     "output_type": "execute_result"
    }
   ],
   "source": [
    "print(features_upsampled.shape)\n",
    "target_upsampled.shape"
   ]
  },
  {
   "cell_type": "code",
   "execution_count": 101,
   "metadata": {},
   "outputs": [
    {
     "data": {
      "text/plain": [
       "1    4448\n",
       "0    4342\n",
       "Name: Exited, dtype: int64"
      ]
     },
     "execution_count": 101,
     "metadata": {},
     "output_type": "execute_result"
    }
   ],
   "source": [
    "target_upsampled.value_counts()"
   ]
  },
  {
   "cell_type": "code",
   "execution_count": 102,
   "metadata": {},
   "outputs": [],
   "source": [
    "clfRFC_up = GridSearchCV(modelRFC, params)"
   ]
  },
  {
   "cell_type": "code",
   "execution_count": 103,
   "metadata": {},
   "outputs": [
    {
     "data": {
      "text/plain": [
       "GridSearchCV(estimator=RandomForestClassifier(random_state=1),\n",
       "             param_grid={'max_depth': [None, 5, 7, 10, 15, 20],\n",
       "                         'n_estimators': [10, 50, 100, 150, 200]})"
      ]
     },
     "execution_count": 103,
     "metadata": {},
     "output_type": "execute_result"
    }
   ],
   "source": [
    "clfRFC_up.fit(features_upsampled, target_upsampled)"
   ]
  },
  {
   "cell_type": "code",
   "execution_count": 104,
   "metadata": {},
   "outputs": [
    {
     "data": {
      "text/plain": [
       "RandomForestClassifier(random_state=1)"
      ]
     },
     "execution_count": 104,
     "metadata": {},
     "output_type": "execute_result"
    }
   ],
   "source": [
    "clfRFC_up.best_estimator_"
   ]
  },
  {
   "cell_type": "code",
   "execution_count": 105,
   "metadata": {},
   "outputs": [],
   "source": [
    "clfRFC_up = clfRFC_up.best_estimator_"
   ]
  },
  {
   "cell_type": "code",
   "execution_count": 106,
   "metadata": {},
   "outputs": [
    {
     "data": {
      "image/png": "[encoded data removed]",
      "text/plain": [
       "<Figure size 432x288 with 2 Axes>"
      ]
     },
     "metadata": {
      "needs_background": "light"
     },
     "output_type": "display_data"
    },
    {
     "name": "stdout",
     "output_type": "stream",
     "text": [
      "F1-мера = 0.6264705882352941\n",
      "ROC-AUC = 0.8574667540319578\n"
     ]
    },
    {
     "data": {
      "image/png": "[encoded data removed]",
      "text/plain": [
       "<Figure size 432x288 with 1 Axes>"
      ]
     },
     "metadata": {
      "needs_background": "light"
     },
     "output_type": "display_data"
    }
   ],
   "source": [
    "train_and_validate(clfRFC_up, features_upsampled, target_upsampled, features_valid, target_valid)"
   ]
  },
  {
   "cell_type": "markdown",
   "metadata": {},
   "source": [
    "При использовании апсэмплинга удалось поднять F-меру, она стала равна 0.63, ROC-AUC = 0.86."
   ]
  },
  {
   "cell_type": "markdown",
   "metadata": {},
   "source": [
    "### Уменьшение выборки (downsampling)\n",
    "Мы хотим уменьшить количество вхождений класса 0."
   ]
  },
  {
   "cell_type": "code",
   "execution_count": 107,
   "metadata": {},
   "outputs": [],
   "source": [
    "def downsample(features, target, fraction):\n",
    "    features_zeros = features[target == 0]\n",
    "    features_ones = features[target == 1]\n",
    "    target_zeros = target[target == 0]\n",
    "    target_ones = target[target == 1]\n",
    "\n",
    "    features_downsampled = pd.concat(\n",
    "        [features_zeros.sample(frac=fraction, random_state=12345)] + [features_ones])\n",
    "    target_downsampled = pd.concat(\n",
    "        [target_zeros.sample(frac=fraction, random_state=12345)] + [target_ones])\n",
    "    \n",
    "    features_downsampled, target_downsampled = shuffle(\n",
    "        features_downsampled, target_downsampled, random_state=12345)\n",
    "    \n",
    "    return features_downsampled, target_downsampled"
   ]
  },
  {
   "cell_type": "code",
   "execution_count": 108,
   "metadata": {},
   "outputs": [
    {
     "data": {
      "text/plain": [
       "0.25610317825886686"
      ]
     },
     "execution_count": 108,
     "metadata": {},
     "output_type": "execute_result"
    }
   ],
   "source": [
    "target_train.value_counts()[1] / target_train.value_counts()[0]"
   ]
  },
  {
   "cell_type": "code",
   "execution_count": 109,
   "metadata": {},
   "outputs": [],
   "source": [
    "features_downsampled, target_downsampled = downsample(features_train, target_train, 0.256)"
   ]
  },
  {
   "cell_type": "code",
   "execution_count": 110,
   "metadata": {},
   "outputs": [
    {
     "data": {
      "text/plain": [
       "0    1112\n",
       "1    1112\n",
       "Name: Exited, dtype: int64"
      ]
     },
     "execution_count": 110,
     "metadata": {},
     "output_type": "execute_result"
    }
   ],
   "source": [
    "target_downsampled.value_counts()"
   ]
  },
  {
   "cell_type": "code",
   "execution_count": 111,
   "metadata": {},
   "outputs": [
    {
     "name": "stdout",
     "output_type": "stream",
     "text": [
      "(2224, 11)\n"
     ]
    },
    {
     "data": {
      "text/plain": [
       "(2224,)"
      ]
     },
     "execution_count": 111,
     "metadata": {},
     "output_type": "execute_result"
    }
   ],
   "source": [
    "print(features_downsampled.shape)\n",
    "target_downsampled.shape"
   ]
  },
  {
   "cell_type": "code",
   "execution_count": 112,
   "metadata": {},
   "outputs": [
    {
     "data": {
      "text/plain": [
       "RandomForestClassifier(max_depth=7, n_estimators=200, random_state=1)"
      ]
     },
     "execution_count": 112,
     "metadata": {},
     "output_type": "execute_result"
    }
   ],
   "source": [
    "clfRFC_down = GridSearchCV(modelRFC, params)\n",
    "clfRFC_down.fit(features_downsampled, target_downsampled)\n",
    "clfRFC_down.best_estimator_"
   ]
  },
  {
   "cell_type": "code",
   "execution_count": 113,
   "metadata": {},
   "outputs": [],
   "source": [
    "clfRFC_down = clfRFC_down.best_estimator_"
   ]
  },
  {
   "cell_type": "code",
   "execution_count": 114,
   "metadata": {},
   "outputs": [
    {
     "data": {
      "image/png": "[encoded data removed]",
      "text/plain": [
       "<Figure size 432x288 with 2 Axes>"
      ]
     },
     "metadata": {
      "needs_background": "light"
     },
     "output_type": "display_data"
    },
    {
     "name": "stdout",
     "output_type": "stream",
     "text": [
      "F1-мера = 0.6236559139784945\n",
      "ROC-AUC = 0.8676211076529016\n"
     ]
    },
    {
     "data": {
      "image/png": "[encoded data removed]",
      "text/plain": [
       "<Figure size 432x288 with 1 Axes>"
      ]
     },
     "metadata": {
      "needs_background": "light"
     },
     "output_type": "display_data"
    }
   ],
   "source": [
    "train_and_validate(clfRFC_down, features_downsampled, target_downsampled, features_valid, target_valid)"
   ]
  },
  {
   "cell_type": "markdown",
   "metadata": {},
   "source": [
    "Модель, обученная на уменьшенной выборке демонстрирует F-меру, равную 0.62, и ROC-AUC = 0.87."
   ]
  },
  {
   "cell_type": "markdown",
   "metadata": {},
   "source": [
    "### Вывод\n",
    "Мы попробовали справиться с дисбалансом классов двумя способами: увеличением выборки и уменьшением выборки. Обе модели случайного леса, обученные на этих выборках, смогли достигнуть качества, заявленного в задаче, но модель, обученная на увеличенной выборке, с дефолтными гиперпараметрами `max_depth`=None и `n_estimators`=100 продемонстрировала лучшее качество: F1-score=0.63 и ROC-AUC-score=0.87."
   ]
  },
  {
   "cell_type": "markdown",
   "metadata": {},
   "source": [
    "## Тестирование модели"
   ]
  },
  {
   "cell_type": "code",
   "execution_count": 115,
   "metadata": {},
   "outputs": [],
   "source": [
    "predict_test = clfRFC_up.predict(features_test)"
   ]
  },
  {
   "cell_type": "code",
   "execution_count": 116,
   "metadata": {},
   "outputs": [],
   "source": [
    "predict_score_test = clfRFC_up.predict_proba(features_test)[:, 1]"
   ]
  },
  {
   "cell_type": "code",
   "execution_count": 117,
   "metadata": {},
   "outputs": [
    {
     "data": {
      "image/png": "[encoded data removed]",
      "text/plain": [
       "<Figure size 432x288 with 2 Axes>"
      ]
     },
     "metadata": {
      "needs_background": "light"
     },
     "output_type": "display_data"
    },
    {
     "name": "stdout",
     "output_type": "stream",
     "text": [
      "F1-мера = 0.582701062215478\n",
      "ROC-AUC = 0.8646600364728959\n"
     ]
    },
    {
     "data": {
      "image/png": "[encoded data removed]",
      "text/plain": [
       "<Figure size 432x288 with 1 Axes>"
      ]
     },
     "metadata": {
      "needs_background": "light"
     },
     "output_type": "display_data"
    }
   ],
   "source": [
    "print_scores(target_test, predict_test, predict_score_test)"
   ]
  },
  {
   "cell_type": "markdown",
   "metadata": {},
   "source": [
    "Видим, что на тестовой выборке нашему классификатору не удалось преодолеть заявленный порог F-меры: случайный лес демонстрирует F-меру, равную 0.58. Значение ROC-AUC равно 0.86."
   ]
  },
  {
   "cell_type": "markdown",
   "metadata": {},
   "source": [
    "Протестируем модель, которая продемонстрировала второе наилучшее качество: случайный лес, обученный на даунсэмпленной выборке с гиперпараметрами `max_depth`=7, `n_estimators`=200."
   ]
  },
  {
   "cell_type": "code",
   "execution_count": 118,
   "metadata": {},
   "outputs": [],
   "source": [
    "predict_test = clfRFC_down.predict(features_test)"
   ]
  },
  {
   "cell_type": "code",
   "execution_count": 119,
   "metadata": {},
   "outputs": [],
   "source": [
    "predict_score_test = clfRFC_down.predict_proba(features_test)[:, 1]"
   ]
  },
  {
   "cell_type": "code",
   "execution_count": 120,
   "metadata": {},
   "outputs": [
    {
     "data": {
      "image/png": "[encoded data removed]",
      "text/plain": [
       "<Figure size 432x288 with 2 Axes>"
      ]
     },
     "metadata": {
      "needs_background": "light"
     },
     "output_type": "display_data"
    },
    {
     "name": "stdout",
     "output_type": "stream",
     "text": [
      "F1-мера = 0.6283185840707965\n",
      "ROC-AUC = 0.8754649921670824\n"
     ]
    },
    {
     "data": {
      "image/png": "[encoded data removed]",
      "text/plain": [
       "<Figure size 432x288 with 1 Axes>"
      ]
     },
     "metadata": {
      "needs_background": "light"
     },
     "output_type": "display_data"
    }
   ],
   "source": [
    "print_scores(target_test, predict_test, predict_score_test)"
   ]
  },
  {
   "cell_type": "markdown",
   "metadata": {},
   "source": [
    "Этой модели удалось преодолеть наш baseline: F1-score=0.63 и ROC-AUC=0.88 (выше, чем было на валидационной выборке!)"
   ]
  },
  {
   "cell_type": "markdown",
   "metadata": {},
   "source": [
    "## Выводы"
   ]
  },
  {
   "cell_type": "markdown",
   "metadata": {},
   "source": [
    "В рамках проекта была обучена модель классификации, прогнозирующая отток клиентов. Для этого были выполнены следующие шаги:\n",
    "1. Подготовка данных: данные были загружены и было проведено предварительное исследование. Были изучены типы значений, представленных в данных, были проведены проверки на наличие пропусков и дубликатов. Дубликаты в данных обнаружены не были, но было найдено 909 пропусков в колонке `Tenure`. Было принято решение удалить пропуски. Затем были выделены целевой признак `Exited`, а также определены признаки, которые были решено использовать для обучения модели: `CreditScore`, `Geography`, `Gender`, `Age`, `Tenure`, `Balance`, `NumOfProducts`, `HasCrCard`, `IsActiveMember`, `EstimatedSalary`. Категориальные признаки `Geography` и `Gender` были преобразованы методом прямого кодирования (OneHotEncoding), численные признаки были масштабированы. Данные были разденеы на обучающую, валидационную и тестовую выборки в отношении 3:1:1.\n",
    "\n",
    "\n",
    "2. Были обучены три модели классификации: логистическая регрессия, дерево решений и случайный лес. Наилучшее качество продемонстрировала модель случайного леса, которая смогла преодолеть отметку F-меры=0.59. Для дальнейших исследований была выбрана модель случайного леса.\n",
    "|Модель|F1-мера|ROC-AUC|\n",
    "|:-----|------:|------:|\n",
    "|Логистическая регрессия|0.26|0.77|\n",
    "|Решающее дерево (`max_depth`=5)|0.53|0.84|\n",
    "|Случайный лес (`n_estimators`=150, `max_depth`=15)|0.6|0.86|\n",
    "\n",
    "\n",
    "3. Целевой признак демонстрирует дисбаланс классов, поэтому было проведено два эксперимента по изменению размеров выборок:\n",
    "    - увеличение выборок (апсэмплинг). Случайный лес с гиперпараметрами `max_depth`=None и `n_estimators`=100 продемонстрировал следующее качество: F1-мера = 0.63, ROC-AUC = 0.86.\n",
    "    - уменьшение выборок (даунсэмплинг). Случайный лес с гиперпараметрами `max_depth`=7 и `n_estimators`=200 продемонстрировала следующее качество: F1-мера = 0.62, ROC-AUC = 0.87.\n",
    "    Тестируем обе модели.\n",
    "   \n",
    "   \n",
    "4. Было проведено тестирование обеих моделей на тестовой выборке. Случайный лес, обученный на апсэмпленной выборке, не сумел преодолеть baseline и продемонстрирорвал следующее качество: F1-мера=0.58, ROC-AUC=0.86. Случайный лес с гиперпараметрами `max_depth`=7, `n_estimators`=200, обученный на даунсэмпленной выборке сумел преодолеть baseline: F1-мера=0.63 и ROC-AUC=0.88."
   ]
  }
 ],
 "metadata": {
  "ExecuteTimeLog": [
   {
    "duration": 390,
    "start_time": "2023-06-17T09:49:31.705Z"
   },
   {
    "duration": 144,
    "start_time": "2023-06-17T09:49:47.228Z"
   },
   {
    "duration": 18,
    "start_time": "2023-06-17T09:49:53.319Z"
   },
   {
    "duration": 12,
    "start_time": "2023-06-17T09:51:49.320Z"
   },
   {
    "duration": 5,
    "start_time": "2023-06-17T10:40:02.376Z"
   },
   {
    "duration": 4,
    "start_time": "2023-06-17T10:42:38.520Z"
   },
   {
    "duration": 13,
    "start_time": "2023-06-17T10:43:32.824Z"
   },
   {
    "duration": 28,
    "start_time": "2023-06-17T10:45:24.208Z"
   },
   {
    "duration": 4,
    "start_time": "2023-06-17T10:53:58.212Z"
   },
   {
    "duration": 5,
    "start_time": "2023-06-17T10:54:02.449Z"
   },
   {
    "duration": 4,
    "start_time": "2023-06-17T11:26:37.405Z"
   },
   {
    "duration": 9,
    "start_time": "2023-06-17T11:32:53.714Z"
   },
   {
    "duration": 8,
    "start_time": "2023-06-17T11:33:11.949Z"
   },
   {
    "duration": 8,
    "start_time": "2023-06-17T11:34:46.777Z"
   },
   {
    "duration": 5,
    "start_time": "2023-06-17T11:36:35.648Z"
   },
   {
    "duration": 1906,
    "start_time": "2023-06-17T11:36:42.484Z"
   },
   {
    "duration": 0,
    "start_time": "2023-06-17T11:36:44.393Z"
   },
   {
    "duration": 7,
    "start_time": "2023-06-17T11:36:49.882Z"
   },
   {
    "duration": 4,
    "start_time": "2023-06-17T11:36:51.184Z"
   },
   {
    "duration": 12,
    "start_time": "2023-06-17T11:37:26.081Z"
   },
   {
    "duration": 6,
    "start_time": "2023-06-17T11:37:32.987Z"
   },
   {
    "duration": 39,
    "start_time": "2023-06-17T11:37:48.900Z"
   },
   {
    "duration": 22,
    "start_time": "2023-06-17T11:37:49.183Z"
   },
   {
    "duration": 12,
    "start_time": "2023-06-17T11:37:49.580Z"
   },
   {
    "duration": 4,
    "start_time": "2023-06-17T11:37:50.815Z"
   },
   {
    "duration": 4,
    "start_time": "2023-06-17T11:37:51.200Z"
   },
   {
    "duration": 6,
    "start_time": "2023-06-17T11:37:51.650Z"
   },
   {
    "duration": 13,
    "start_time": "2023-06-17T11:37:52.526Z"
   },
   {
    "duration": 5,
    "start_time": "2023-06-17T11:37:56.224Z"
   },
   {
    "duration": 5,
    "start_time": "2023-06-17T11:38:16.444Z"
   },
   {
    "duration": 16,
    "start_time": "2023-06-17T11:38:34.158Z"
   },
   {
    "duration": 635,
    "start_time": "2023-06-17T11:38:40.182Z"
   },
   {
    "duration": 7,
    "start_time": "2023-06-17T11:38:58.534Z"
   },
   {
    "duration": 5,
    "start_time": "2023-06-17T11:44:08.724Z"
   },
   {
    "duration": 150,
    "start_time": "2023-06-17T11:44:32.179Z"
   },
   {
    "duration": 80,
    "start_time": "2023-06-17T11:44:37.556Z"
   },
   {
    "duration": 85,
    "start_time": "2023-06-17T11:44:55.433Z"
   },
   {
    "duration": 127,
    "start_time": "2023-06-17T11:45:03.134Z"
   },
   {
    "duration": 89,
    "start_time": "2023-06-17T11:45:08.419Z"
   },
   {
    "duration": 182,
    "start_time": "2023-06-17T11:45:11.421Z"
   },
   {
    "duration": 121,
    "start_time": "2023-06-17T11:45:20.892Z"
   },
   {
    "duration": 110,
    "start_time": "2023-06-17T11:45:32.811Z"
   },
   {
    "duration": 121,
    "start_time": "2023-06-17T11:48:51.357Z"
   },
   {
    "duration": 423,
    "start_time": "2023-06-17T11:49:13.898Z"
   },
   {
    "duration": 142,
    "start_time": "2023-06-17T11:49:24.010Z"
   },
   {
    "duration": 284,
    "start_time": "2023-06-17T11:50:10.313Z"
   },
   {
    "duration": 118,
    "start_time": "2023-06-17T11:50:14.486Z"
   },
   {
    "duration": 796,
    "start_time": "2023-06-17T11:53:18.988Z"
   },
   {
    "duration": 4,
    "start_time": "2023-06-17T11:54:35.070Z"
   },
   {
    "duration": 54,
    "start_time": "2023-06-17T11:54:53.518Z"
   },
   {
    "duration": 3,
    "start_time": "2023-06-17T11:54:59.735Z"
   },
   {
    "duration": 51,
    "start_time": "2023-06-17T11:55:05.923Z"
   },
   {
    "duration": 9,
    "start_time": "2023-06-17T11:55:20.866Z"
   },
   {
    "duration": 61,
    "start_time": "2023-06-17T11:55:21.017Z"
   },
   {
    "duration": 6,
    "start_time": "2023-06-17T11:56:04.989Z"
   },
   {
    "duration": 19,
    "start_time": "2023-06-17T11:56:05.219Z"
   },
   {
    "duration": 8,
    "start_time": "2023-06-17T11:57:00.487Z"
   },
   {
    "duration": 6,
    "start_time": "2023-06-17T11:57:20.578Z"
   },
   {
    "duration": 100,
    "start_time": "2023-06-17T12:00:05.737Z"
   },
   {
    "duration": 3,
    "start_time": "2023-06-17T12:00:46.395Z"
   },
   {
    "duration": 12,
    "start_time": "2023-06-17T12:02:06.388Z"
   },
   {
    "duration": 4,
    "start_time": "2023-06-17T12:05:07.597Z"
   },
   {
    "duration": 4,
    "start_time": "2023-06-17T12:05:14.400Z"
   },
   {
    "duration": 111,
    "start_time": "2023-06-17T12:05:21.351Z"
   },
   {
    "duration": 6,
    "start_time": "2023-06-17T12:05:28.237Z"
   },
   {
    "duration": 6,
    "start_time": "2023-06-17T12:09:32.203Z"
   },
   {
    "duration": 6,
    "start_time": "2023-06-17T12:10:22.537Z"
   },
   {
    "duration": 8,
    "start_time": "2023-06-17T12:11:01.744Z"
   },
   {
    "duration": 135,
    "start_time": "2023-06-17T12:11:22.230Z"
   },
   {
    "duration": 159,
    "start_time": "2023-06-17T12:12:09.182Z"
   },
   {
    "duration": 131,
    "start_time": "2023-06-17T12:13:06.249Z"
   },
   {
    "duration": 3,
    "start_time": "2023-06-17T12:13:25.748Z"
   },
   {
    "duration": 370,
    "start_time": "2023-06-17T12:13:34.084Z"
   },
   {
    "duration": 9,
    "start_time": "2023-06-17T12:13:52.222Z"
   },
   {
    "duration": 149,
    "start_time": "2023-06-17T12:14:03.201Z"
   },
   {
    "duration": 167,
    "start_time": "2023-06-17T12:14:46.743Z"
   },
   {
    "duration": 259,
    "start_time": "2023-06-17T12:14:56.305Z"
   },
   {
    "duration": 172,
    "start_time": "2023-06-17T12:15:09.661Z"
   },
   {
    "duration": 9,
    "start_time": "2023-06-17T12:16:47.836Z"
   },
   {
    "duration": 85,
    "start_time": "2023-06-17T12:16:54.929Z"
   },
   {
    "duration": 115,
    "start_time": "2023-06-17T12:17:19.507Z"
   },
   {
    "duration": 221,
    "start_time": "2023-06-17T12:17:30.944Z"
   },
   {
    "duration": 95,
    "start_time": "2023-06-17T12:19:57.689Z"
   },
   {
    "duration": 872,
    "start_time": "2023-06-17T12:25:33.100Z"
   },
   {
    "duration": 195,
    "start_time": "2023-06-17T12:27:20.393Z"
   },
   {
    "duration": 131,
    "start_time": "2023-06-17T12:28:39.321Z"
   },
   {
    "duration": 162,
    "start_time": "2023-06-17T12:28:56.657Z"
   },
   {
    "duration": 191,
    "start_time": "2023-06-17T12:29:04.197Z"
   },
   {
    "duration": 169,
    "start_time": "2023-06-17T12:29:44.297Z"
   },
   {
    "duration": 10,
    "start_time": "2023-06-17T12:29:55.039Z"
   },
   {
    "duration": 121,
    "start_time": "2023-06-17T12:31:00.700Z"
   },
   {
    "duration": 200,
    "start_time": "2023-06-17T12:31:29.711Z"
   },
   {
    "duration": 110,
    "start_time": "2023-06-17T12:31:55.154Z"
   },
   {
    "duration": 143,
    "start_time": "2023-06-17T12:31:59.197Z"
   },
   {
    "duration": 131,
    "start_time": "2023-06-17T12:34:58.987Z"
   },
   {
    "duration": 121,
    "start_time": "2023-06-17T12:35:03.397Z"
   },
   {
    "duration": 127,
    "start_time": "2023-06-17T12:45:15.310Z"
   },
   {
    "duration": 159,
    "start_time": "2023-06-17T12:46:36.298Z"
   },
   {
    "duration": 8,
    "start_time": "2023-06-17T12:46:59.810Z"
   },
   {
    "duration": 18,
    "start_time": "2023-06-17T12:49:35.077Z"
   },
   {
    "duration": 13,
    "start_time": "2023-06-17T12:49:41.201Z"
   },
   {
    "duration": 4,
    "start_time": "2023-06-17T12:50:12.949Z"
   },
   {
    "duration": 4,
    "start_time": "2023-06-17T12:50:18.218Z"
   },
   {
    "duration": 25,
    "start_time": "2023-06-17T12:52:28.449Z"
   },
   {
    "duration": 21,
    "start_time": "2023-06-17T12:53:22.809Z"
   },
   {
    "duration": 9,
    "start_time": "2023-06-17T12:54:36.912Z"
   },
   {
    "duration": 15,
    "start_time": "2023-06-17T12:54:45.793Z"
   },
   {
    "duration": 3,
    "start_time": "2023-06-17T12:57:02.751Z"
   },
   {
    "duration": 3,
    "start_time": "2023-06-17T12:57:12.390Z"
   },
   {
    "duration": 3,
    "start_time": "2023-06-17T12:57:28.636Z"
   },
   {
    "duration": 15,
    "start_time": "2023-06-17T12:57:54.592Z"
   },
   {
    "duration": 11,
    "start_time": "2023-06-17T12:58:00.535Z"
   },
   {
    "duration": 7,
    "start_time": "2023-06-17T12:59:26.089Z"
   },
   {
    "duration": 4,
    "start_time": "2023-06-17T12:59:51.184Z"
   },
   {
    "duration": 3,
    "start_time": "2023-06-17T13:00:33.225Z"
   },
   {
    "duration": 19,
    "start_time": "2023-06-17T13:14:17.480Z"
   },
   {
    "duration": 3,
    "start_time": "2023-06-17T13:15:00.952Z"
   },
   {
    "duration": 3,
    "start_time": "2023-06-17T13:15:56.300Z"
   },
   {
    "duration": 19,
    "start_time": "2023-06-17T13:16:22.813Z"
   },
   {
    "duration": 20,
    "start_time": "2023-06-17T13:22:05.406Z"
   },
   {
    "duration": 2,
    "start_time": "2023-06-17T13:24:50.033Z"
   },
   {
    "duration": 11,
    "start_time": "2023-06-17T13:24:59.845Z"
   },
   {
    "duration": 8,
    "start_time": "2023-06-17T13:25:02.866Z"
   },
   {
    "duration": 6,
    "start_time": "2023-06-17T13:25:03.388Z"
   },
   {
    "duration": 2,
    "start_time": "2023-06-17T13:25:03.731Z"
   },
   {
    "duration": 377,
    "start_time": "2023-06-17T13:25:44.247Z"
   },
   {
    "duration": 13,
    "start_time": "2023-06-17T13:26:41.287Z"
   },
   {
    "duration": 409,
    "start_time": "2023-06-17T13:26:53.940Z"
   },
   {
    "duration": 60,
    "start_time": "2023-06-17T13:26:54.351Z"
   },
   {
    "duration": 21,
    "start_time": "2023-06-17T13:26:54.412Z"
   },
   {
    "duration": 3,
    "start_time": "2023-06-17T13:26:54.435Z"
   },
   {
    "duration": 26,
    "start_time": "2023-06-17T13:26:54.439Z"
   },
   {
    "duration": 12,
    "start_time": "2023-06-17T13:26:54.467Z"
   },
   {
    "duration": 18,
    "start_time": "2023-06-17T13:26:54.484Z"
   },
   {
    "duration": 6,
    "start_time": "2023-06-17T13:26:54.503Z"
   },
   {
    "duration": 24,
    "start_time": "2023-06-17T13:26:54.511Z"
   },
   {
    "duration": 6,
    "start_time": "2023-06-17T13:26:54.537Z"
   },
   {
    "duration": 9,
    "start_time": "2023-06-17T13:26:54.545Z"
   },
   {
    "duration": 382,
    "start_time": "2023-06-17T13:26:54.555Z"
   },
   {
    "duration": 2,
    "start_time": "2023-06-17T13:26:54.938Z"
   },
   {
    "duration": 9,
    "start_time": "2023-06-17T13:26:54.942Z"
   },
   {
    "duration": 4,
    "start_time": "2023-06-17T13:26:54.952Z"
   },
   {
    "duration": 294,
    "start_time": "2023-06-17T13:26:54.957Z"
   },
   {
    "duration": 108,
    "start_time": "2023-06-17T13:26:55.252Z"
   },
   {
    "duration": 172,
    "start_time": "2023-06-17T13:26:55.362Z"
   },
   {
    "duration": 927,
    "start_time": "2023-06-17T13:26:55.536Z"
   },
   {
    "duration": 187,
    "start_time": "2023-06-17T13:26:56.464Z"
   },
   {
    "duration": 177,
    "start_time": "2023-06-17T13:26:56.652Z"
   },
   {
    "duration": 9,
    "start_time": "2023-06-17T13:26:56.830Z"
   },
   {
    "duration": 170,
    "start_time": "2023-06-17T13:26:56.840Z"
   },
   {
    "duration": 130,
    "start_time": "2023-06-17T13:26:57.013Z"
   },
   {
    "duration": 137,
    "start_time": "2023-06-17T13:26:57.145Z"
   },
   {
    "duration": 199,
    "start_time": "2023-06-17T13:26:57.296Z"
   },
   {
    "duration": 18,
    "start_time": "2023-06-17T13:26:57.497Z"
   },
   {
    "duration": 7,
    "start_time": "2023-06-17T13:26:57.518Z"
   },
   {
    "duration": 15,
    "start_time": "2023-06-17T13:26:57.527Z"
   },
   {
    "duration": 18,
    "start_time": "2023-06-17T13:26:57.543Z"
   },
   {
    "duration": 28,
    "start_time": "2023-06-17T13:26:57.562Z"
   },
   {
    "duration": 15,
    "start_time": "2023-06-17T13:26:57.591Z"
   },
   {
    "duration": 701,
    "start_time": "2023-06-17T13:26:57.609Z"
   },
   {
    "duration": 2,
    "start_time": "2023-06-17T13:26:58.312Z"
   },
   {
    "duration": 19,
    "start_time": "2023-06-17T13:26:58.316Z"
   },
   {
    "duration": 12,
    "start_time": "2023-06-17T13:26:58.336Z"
   },
   {
    "duration": 41,
    "start_time": "2023-06-17T13:26:58.350Z"
   },
   {
    "duration": 14,
    "start_time": "2023-06-17T13:26:58.393Z"
   },
   {
    "duration": 5,
    "start_time": "2023-06-17T13:26:58.409Z"
   },
   {
    "duration": 41,
    "start_time": "2023-06-17T13:26:58.415Z"
   },
   {
    "duration": 2,
    "start_time": "2023-06-17T13:26:58.457Z"
   },
   {
    "duration": 5,
    "start_time": "2023-06-17T13:26:58.461Z"
   },
   {
    "duration": 15,
    "start_time": "2023-06-17T13:26:58.467Z"
   },
   {
    "duration": 1732,
    "start_time": "2023-06-17T13:26:58.485Z"
   },
   {
    "duration": 4,
    "start_time": "2023-06-17T13:27:26.762Z"
   },
   {
    "duration": 3,
    "start_time": "2023-06-17T13:27:43.019Z"
   },
   {
    "duration": 5,
    "start_time": "2023-06-17T13:29:18.842Z"
   },
   {
    "duration": 6,
    "start_time": "2023-06-17T13:30:51.489Z"
   },
   {
    "duration": 3,
    "start_time": "2023-06-17T13:32:02.149Z"
   },
   {
    "duration": 5,
    "start_time": "2023-06-17T13:32:29.345Z"
   },
   {
    "duration": 142,
    "start_time": "2023-06-17T13:32:34.201Z"
   },
   {
    "duration": 4,
    "start_time": "2023-06-17T13:33:07.825Z"
   },
   {
    "duration": 4,
    "start_time": "2023-06-17T13:33:19.414Z"
   },
   {
    "duration": 143,
    "start_time": "2023-06-17T13:33:26.170Z"
   },
   {
    "duration": 3,
    "start_time": "2023-06-17T13:33:29.424Z"
   },
   {
    "duration": 5,
    "start_time": "2023-06-17T13:34:24.920Z"
   },
   {
    "duration": 7,
    "start_time": "2023-06-17T13:34:28.698Z"
   },
   {
    "duration": 2,
    "start_time": "2023-06-17T13:35:27.605Z"
   },
   {
    "duration": 5,
    "start_time": "2023-06-17T13:36:38.052Z"
   },
   {
    "duration": 5,
    "start_time": "2023-06-17T13:36:42.336Z"
   },
   {
    "duration": 257,
    "start_time": "2023-06-17T13:36:42.740Z"
   },
   {
    "duration": 6,
    "start_time": "2023-06-17T13:36:51.290Z"
   },
   {
    "duration": 211,
    "start_time": "2023-06-17T13:36:52.082Z"
   },
   {
    "duration": 4,
    "start_time": "2023-06-17T13:36:56.342Z"
   },
   {
    "duration": 126,
    "start_time": "2023-06-17T13:36:58.257Z"
   },
   {
    "duration": 3,
    "start_time": "2023-06-17T13:37:54.823Z"
   },
   {
    "duration": 4,
    "start_time": "2023-06-17T13:38:28.829Z"
   },
   {
    "duration": 646,
    "start_time": "2023-06-17T13:38:42.327Z"
   },
   {
    "duration": 3,
    "start_time": "2023-06-17T13:41:36.259Z"
   },
   {
    "duration": 9,
    "start_time": "2023-06-17T13:42:13.051Z"
   },
   {
    "duration": 1141,
    "start_time": "2023-06-17T13:42:15.741Z"
   },
   {
    "duration": 6,
    "start_time": "2023-06-17T13:42:44.056Z"
   },
   {
    "duration": 313,
    "start_time": "2023-06-17T13:42:46.040Z"
   },
   {
    "duration": 4,
    "start_time": "2023-06-17T13:42:53.659Z"
   },
   {
    "duration": 536,
    "start_time": "2023-06-17T13:42:55.809Z"
   },
   {
    "duration": 3,
    "start_time": "2023-06-17T13:44:49.684Z"
   },
   {
    "duration": 3,
    "start_time": "2023-06-17T13:44:49.802Z"
   },
   {
    "duration": 2,
    "start_time": "2023-06-17T13:44:50.494Z"
   },
   {
    "duration": 1875,
    "start_time": "2023-06-17T13:44:53.307Z"
   },
   {
    "duration": 4,
    "start_time": "2023-06-17T13:44:55.186Z"
   },
   {
    "duration": 2,
    "start_time": "2023-06-17T13:44:57.416Z"
   },
   {
    "duration": 144,
    "start_time": "2023-06-17T13:45:11.208Z"
   },
   {
    "duration": 3,
    "start_time": "2023-06-17T13:47:58.004Z"
   },
   {
    "duration": 684,
    "start_time": "2023-06-17T13:47:58.403Z"
   },
   {
    "duration": 137,
    "start_time": "2023-06-17T13:48:03.470Z"
   },
   {
    "duration": 9,
    "start_time": "2023-06-17T13:49:02.647Z"
   },
   {
    "duration": 4,
    "start_time": "2023-06-17T13:49:21.168Z"
   },
   {
    "duration": 3,
    "start_time": "2023-06-17T13:49:55.268Z"
   },
   {
    "duration": 3,
    "start_time": "2023-06-17T13:50:14.779Z"
   },
   {
    "duration": 23,
    "start_time": "2023-06-17T13:50:22.661Z"
   },
   {
    "duration": 744801,
    "start_time": "2023-06-17T13:50:32.681Z"
   },
   {
    "duration": 4,
    "start_time": "2023-06-17T14:02:57.484Z"
   },
   {
    "duration": 14,
    "start_time": "2023-06-17T14:02:57.490Z"
   },
   {
    "duration": 11,
    "start_time": "2023-06-17T14:02:57.506Z"
   },
   {
    "duration": 9,
    "start_time": "2023-06-17T14:03:33.191Z"
   },
   {
    "duration": 767,
    "start_time": "2023-06-17T14:03:56.518Z"
   },
   {
    "duration": 10,
    "start_time": "2023-06-17T14:03:57.288Z"
   },
   {
    "duration": 3,
    "start_time": "2023-06-17T14:04:00.163Z"
   },
   {
    "duration": 743845,
    "start_time": "2023-06-17T14:04:00.593Z"
   },
   {
    "duration": 4,
    "start_time": "2023-06-17T14:16:24.440Z"
   },
   {
    "duration": 6,
    "start_time": "2023-06-17T14:16:24.445Z"
   },
   {
    "duration": 1010,
    "start_time": "2023-06-17T14:16:24.453Z"
   },
   {
    "duration": 3,
    "start_time": "2023-06-17T14:41:23.463Z"
   },
   {
    "duration": 4,
    "start_time": "2023-06-17T14:41:24.058Z"
   },
   {
    "duration": 8,
    "start_time": "2023-06-17T14:41:55.980Z"
   },
   {
    "duration": 9,
    "start_time": "2023-06-17T14:42:27.413Z"
   },
   {
    "duration": 3,
    "start_time": "2023-06-17T14:43:32.577Z"
   },
   {
    "duration": 4,
    "start_time": "2023-06-17T14:43:50.601Z"
   },
   {
    "duration": 1019588,
    "start_time": "2023-06-17T14:44:42.869Z"
   },
   {
    "duration": 15,
    "start_time": "2023-06-17T15:01:42.459Z"
   },
   {
    "duration": 3,
    "start_time": "2023-06-17T15:01:42.479Z"
   },
   {
    "duration": 1535,
    "start_time": "2023-06-17T15:01:42.483Z"
   },
   {
    "duration": 4,
    "start_time": "2023-06-17T15:30:29.823Z"
   },
   {
    "duration": 9,
    "start_time": "2023-06-17T15:31:05.456Z"
   },
   {
    "duration": 5,
    "start_time": "2023-06-17T15:31:16.276Z"
   },
   {
    "duration": 5,
    "start_time": "2023-06-17T15:32:07.554Z"
   },
   {
    "duration": 10,
    "start_time": "2023-06-17T15:32:26.468Z"
   },
   {
    "duration": 6,
    "start_time": "2023-06-17T15:32:26.868Z"
   },
   {
    "duration": 10,
    "start_time": "2023-06-17T15:32:30.367Z"
   },
   {
    "duration": 5,
    "start_time": "2023-06-17T15:32:30.812Z"
   },
   {
    "duration": 9,
    "start_time": "2023-06-17T15:32:35.709Z"
   },
   {
    "duration": 5,
    "start_time": "2023-06-17T15:32:35.976Z"
   },
   {
    "duration": 9,
    "start_time": "2023-06-17T15:32:42.226Z"
   },
   {
    "duration": 4,
    "start_time": "2023-06-17T15:32:42.833Z"
   },
   {
    "duration": 9,
    "start_time": "2023-06-17T15:32:55.457Z"
   },
   {
    "duration": 5,
    "start_time": "2023-06-17T15:32:55.950Z"
   },
   {
    "duration": 9,
    "start_time": "2023-06-17T15:33:10.261Z"
   },
   {
    "duration": 5,
    "start_time": "2023-06-17T15:33:10.572Z"
   },
   {
    "duration": 9,
    "start_time": "2023-06-17T15:33:20.928Z"
   },
   {
    "duration": 6,
    "start_time": "2023-06-17T15:33:21.122Z"
   },
   {
    "duration": 10,
    "start_time": "2023-06-17T15:33:24.961Z"
   },
   {
    "duration": 5,
    "start_time": "2023-06-17T15:33:25.131Z"
   },
   {
    "duration": 5,
    "start_time": "2023-06-17T15:33:36.152Z"
   },
   {
    "duration": 5,
    "start_time": "2023-06-17T15:33:44.610Z"
   },
   {
    "duration": 466163,
    "start_time": "2023-06-17T15:35:06.963Z"
   },
   {
    "duration": 2,
    "start_time": "2023-06-17T15:42:53.128Z"
   },
   {
    "duration": 359,
    "start_time": "2023-06-17T15:42:53.132Z"
   },
   {
    "duration": 33,
    "start_time": "2023-06-17T16:03:12.779Z"
   },
   {
    "duration": 32,
    "start_time": "2023-06-17T16:03:32.235Z"
   },
   {
    "duration": 20,
    "start_time": "2023-06-17T16:03:59.006Z"
   },
   {
    "duration": 39,
    "start_time": "2023-06-17T16:04:12.756Z"
   },
   {
    "duration": 116,
    "start_time": "2023-06-17T16:04:13.327Z"
   },
   {
    "duration": 3,
    "start_time": "2023-06-17T16:08:46.641Z"
   },
   {
    "duration": 10,
    "start_time": "2023-06-17T16:09:21.800Z"
   },
   {
    "duration": 4,
    "start_time": "2023-06-17T16:09:31.031Z"
   },
   {
    "duration": 7,
    "start_time": "2023-06-17T16:09:37.102Z"
   },
   {
    "duration": 6,
    "start_time": "2023-06-17T16:10:20.778Z"
   },
   {
    "duration": 3,
    "start_time": "2023-06-17T16:10:33.429Z"
   },
   {
    "duration": 47,
    "start_time": "2023-06-17T16:10:33.978Z"
   },
   {
    "duration": 12,
    "start_time": "2023-06-17T16:10:34.340Z"
   },
   {
    "duration": 4,
    "start_time": "2023-06-17T16:10:34.875Z"
   },
   {
    "duration": 22,
    "start_time": "2023-06-17T16:10:35.297Z"
   },
   {
    "duration": 6,
    "start_time": "2023-06-17T16:10:36.383Z"
   },
   {
    "duration": 6,
    "start_time": "2023-06-17T16:10:36.809Z"
   },
   {
    "duration": 5,
    "start_time": "2023-06-17T16:10:37.489Z"
   },
   {
    "duration": 15,
    "start_time": "2023-06-17T16:10:38.440Z"
   },
   {
    "duration": 10,
    "start_time": "2023-06-17T16:10:39.470Z"
   },
   {
    "duration": 3,
    "start_time": "2023-06-17T16:10:41.692Z"
   },
   {
    "duration": 4,
    "start_time": "2023-06-17T16:10:42.562Z"
   },
   {
    "duration": 10,
    "start_time": "2023-06-17T16:10:43.271Z"
   },
   {
    "duration": 6,
    "start_time": "2023-06-17T16:10:49.913Z"
   },
   {
    "duration": 44,
    "start_time": "2023-06-17T16:18:26.062Z"
   },
   {
    "duration": 12,
    "start_time": "2023-06-17T16:18:26.340Z"
   },
   {
    "duration": 3,
    "start_time": "2023-06-17T16:18:26.630Z"
   },
   {
    "duration": 25,
    "start_time": "2023-06-17T16:18:26.967Z"
   },
   {
    "duration": 4,
    "start_time": "2023-06-17T16:18:28.080Z"
   },
   {
    "duration": 5,
    "start_time": "2023-06-17T16:18:28.434Z"
   },
   {
    "duration": 5,
    "start_time": "2023-06-17T16:18:28.798Z"
   },
   {
    "duration": 21,
    "start_time": "2023-06-17T16:18:29.560Z"
   },
   {
    "duration": 6,
    "start_time": "2023-06-17T16:18:32.556Z"
   },
   {
    "duration": 5,
    "start_time": "2023-06-17T16:18:34.746Z"
   },
   {
    "duration": 97,
    "start_time": "2023-06-17T16:18:37.699Z"
   },
   {
    "duration": 3,
    "start_time": "2023-06-17T16:18:39.788Z"
   },
   {
    "duration": 8,
    "start_time": "2023-06-17T16:18:46.491Z"
   },
   {
    "duration": 3,
    "start_time": "2023-06-17T16:18:48.780Z"
   },
   {
    "duration": 170,
    "start_time": "2023-06-17T16:18:49.313Z"
   },
   {
    "duration": 114,
    "start_time": "2023-06-17T16:18:51.628Z"
   },
   {
    "duration": 102,
    "start_time": "2023-06-17T16:18:53.409Z"
   },
   {
    "duration": 861,
    "start_time": "2023-06-17T16:18:54.617Z"
   },
   {
    "duration": 238,
    "start_time": "2023-06-17T16:18:56.296Z"
   },
   {
    "duration": 9,
    "start_time": "2023-06-17T16:19:29.723Z"
   },
   {
    "duration": 4,
    "start_time": "2023-06-17T16:19:34.946Z"
   },
   {
    "duration": 4,
    "start_time": "2023-06-17T16:19:41.648Z"
   },
   {
    "duration": 5,
    "start_time": "2023-06-17T16:19:49.101Z"
   },
   {
    "duration": 5,
    "start_time": "2023-06-17T16:19:53.826Z"
   },
   {
    "duration": 359,
    "start_time": "2023-06-17T16:21:27.923Z"
   },
   {
    "duration": 39,
    "start_time": "2023-06-17T16:21:28.284Z"
   },
   {
    "duration": 17,
    "start_time": "2023-06-17T16:21:28.325Z"
   },
   {
    "duration": 4,
    "start_time": "2023-06-17T16:21:28.344Z"
   },
   {
    "duration": 74,
    "start_time": "2023-06-17T16:21:28.350Z"
   },
   {
    "duration": 4,
    "start_time": "2023-06-17T16:21:28.426Z"
   },
   {
    "duration": 11,
    "start_time": "2023-06-17T16:21:28.432Z"
   },
   {
    "duration": 8,
    "start_time": "2023-06-17T16:21:28.444Z"
   },
   {
    "duration": 28,
    "start_time": "2023-06-17T16:21:28.453Z"
   },
   {
    "duration": 8,
    "start_time": "2023-06-17T16:21:28.486Z"
   },
   {
    "duration": 9,
    "start_time": "2023-06-17T16:21:28.496Z"
   },
   {
    "duration": 347,
    "start_time": "2023-06-17T16:21:28.506Z"
   },
   {
    "duration": 3,
    "start_time": "2023-06-17T16:21:28.855Z"
   },
   {
    "duration": 25,
    "start_time": "2023-06-17T16:21:28.859Z"
   },
   {
    "duration": 3,
    "start_time": "2023-06-17T16:21:28.885Z"
   },
   {
    "duration": 264,
    "start_time": "2023-06-17T16:21:28.889Z"
   },
   {
    "duration": 127,
    "start_time": "2023-06-17T16:21:29.155Z"
   },
   {
    "duration": 138,
    "start_time": "2023-06-17T16:21:29.285Z"
   },
   {
    "duration": 851,
    "start_time": "2023-06-17T16:21:29.425Z"
   },
   {
    "duration": 149,
    "start_time": "2023-06-17T16:21:30.277Z"
   },
   {
    "duration": 172,
    "start_time": "2023-06-17T16:21:30.427Z"
   },
   {
    "duration": 8,
    "start_time": "2023-06-17T16:21:30.601Z"
   },
   {
    "duration": 145,
    "start_time": "2023-06-17T16:21:30.610Z"
   },
   {
    "duration": 133,
    "start_time": "2023-06-17T16:21:30.757Z"
   },
   {
    "duration": 123,
    "start_time": "2023-06-17T16:21:30.892Z"
   },
   {
    "duration": 181,
    "start_time": "2023-06-17T16:21:31.017Z"
   },
   {
    "duration": 7,
    "start_time": "2023-06-17T16:21:31.200Z"
   },
   {
    "duration": 36,
    "start_time": "2023-06-17T16:21:31.211Z"
   },
   {
    "duration": 35,
    "start_time": "2023-06-17T16:21:31.249Z"
   },
   {
    "duration": 36,
    "start_time": "2023-06-17T16:21:31.286Z"
   },
   {
    "duration": 40,
    "start_time": "2023-06-17T16:21:31.323Z"
   },
   {
    "duration": 36,
    "start_time": "2023-06-17T16:21:31.365Z"
   },
   {
    "duration": 780,
    "start_time": "2023-06-17T16:21:31.402Z"
   },
   {
    "duration": 3,
    "start_time": "2023-06-17T16:21:32.184Z"
   },
   {
    "duration": 34,
    "start_time": "2023-06-17T16:21:32.188Z"
   },
   {
    "duration": 25,
    "start_time": "2023-06-17T16:21:32.224Z"
   },
   {
    "duration": 24,
    "start_time": "2023-06-17T16:21:32.251Z"
   },
   {
    "duration": 10,
    "start_time": "2023-06-17T16:21:32.276Z"
   },
   {
    "duration": 4,
    "start_time": "2023-06-17T16:21:32.287Z"
   },
   {
    "duration": 35,
    "start_time": "2023-06-17T16:21:32.293Z"
   },
   {
    "duration": 3,
    "start_time": "2023-06-17T16:21:32.330Z"
   },
   {
    "duration": 11,
    "start_time": "2023-06-17T16:21:32.334Z"
   },
   {
    "duration": 7,
    "start_time": "2023-06-17T16:21:32.347Z"
   },
   {
    "duration": 142,
    "start_time": "2023-06-17T16:21:32.356Z"
   },
   {
    "duration": 0,
    "start_time": "2023-06-17T16:21:32.500Z"
   },
   {
    "duration": 0,
    "start_time": "2023-06-17T16:21:32.501Z"
   },
   {
    "duration": 0,
    "start_time": "2023-06-17T16:21:32.502Z"
   },
   {
    "duration": 0,
    "start_time": "2023-06-17T16:21:32.503Z"
   },
   {
    "duration": 0,
    "start_time": "2023-06-17T16:21:32.504Z"
   },
   {
    "duration": 0,
    "start_time": "2023-06-17T16:21:32.505Z"
   },
   {
    "duration": 0,
    "start_time": "2023-06-17T16:21:32.507Z"
   },
   {
    "duration": 0,
    "start_time": "2023-06-17T16:21:32.508Z"
   },
   {
    "duration": 0,
    "start_time": "2023-06-17T16:21:32.509Z"
   },
   {
    "duration": 0,
    "start_time": "2023-06-17T16:21:32.510Z"
   },
   {
    "duration": 0,
    "start_time": "2023-06-17T16:21:32.512Z"
   },
   {
    "duration": 0,
    "start_time": "2023-06-17T16:21:32.513Z"
   },
   {
    "duration": 0,
    "start_time": "2023-06-17T16:21:32.514Z"
   },
   {
    "duration": 0,
    "start_time": "2023-06-17T16:21:32.515Z"
   },
   {
    "duration": 0,
    "start_time": "2023-06-17T16:21:32.516Z"
   },
   {
    "duration": 0,
    "start_time": "2023-06-17T16:21:32.517Z"
   },
   {
    "duration": 0,
    "start_time": "2023-06-17T16:21:32.519Z"
   },
   {
    "duration": 0,
    "start_time": "2023-06-17T16:21:32.520Z"
   },
   {
    "duration": 0,
    "start_time": "2023-06-17T16:21:32.522Z"
   },
   {
    "duration": 0,
    "start_time": "2023-06-17T16:21:32.523Z"
   },
   {
    "duration": 0,
    "start_time": "2023-06-17T16:21:32.524Z"
   },
   {
    "duration": 0,
    "start_time": "2023-06-17T16:21:32.525Z"
   },
   {
    "duration": 0,
    "start_time": "2023-06-17T16:21:32.526Z"
   },
   {
    "duration": 0,
    "start_time": "2023-06-17T16:21:32.570Z"
   },
   {
    "duration": 0,
    "start_time": "2023-06-17T16:21:32.571Z"
   },
   {
    "duration": 0,
    "start_time": "2023-06-17T16:21:32.571Z"
   },
   {
    "duration": 0,
    "start_time": "2023-06-17T16:21:32.572Z"
   },
   {
    "duration": 0,
    "start_time": "2023-06-17T16:21:32.573Z"
   },
   {
    "duration": 0,
    "start_time": "2023-06-17T16:21:32.574Z"
   },
   {
    "duration": 0,
    "start_time": "2023-06-17T16:21:32.575Z"
   },
   {
    "duration": 0,
    "start_time": "2023-06-17T16:21:32.575Z"
   },
   {
    "duration": 0,
    "start_time": "2023-06-17T16:21:32.576Z"
   },
   {
    "duration": 0,
    "start_time": "2023-06-17T16:21:32.576Z"
   },
   {
    "duration": 0,
    "start_time": "2023-06-17T16:21:32.577Z"
   },
   {
    "duration": 0,
    "start_time": "2023-06-17T16:21:32.577Z"
   },
   {
    "duration": 0,
    "start_time": "2023-06-17T16:21:32.578Z"
   },
   {
    "duration": 0,
    "start_time": "2023-06-17T16:21:32.579Z"
   },
   {
    "duration": 4,
    "start_time": "2023-06-17T16:21:59.698Z"
   },
   {
    "duration": 5,
    "start_time": "2023-06-17T16:22:06.514Z"
   },
   {
    "duration": 5,
    "start_time": "2023-06-17T16:22:37.447Z"
   },
   {
    "duration": 5,
    "start_time": "2023-06-17T16:22:38.232Z"
   },
   {
    "duration": 7,
    "start_time": "2023-06-17T16:22:44.098Z"
   },
   {
    "duration": 5,
    "start_time": "2023-06-17T16:22:47.195Z"
   },
   {
    "duration": 5,
    "start_time": "2023-06-17T16:23:24.311Z"
   },
   {
    "duration": 4,
    "start_time": "2023-06-17T16:23:24.895Z"
   },
   {
    "duration": 5,
    "start_time": "2023-06-17T16:23:34.619Z"
   },
   {
    "duration": 4,
    "start_time": "2023-06-17T16:23:49.162Z"
   },
   {
    "duration": 4,
    "start_time": "2023-06-17T16:23:51.299Z"
   },
   {
    "duration": 431,
    "start_time": "2023-06-17T16:23:57.357Z"
   },
   {
    "duration": 49,
    "start_time": "2023-06-17T16:23:57.791Z"
   },
   {
    "duration": 19,
    "start_time": "2023-06-17T16:23:57.841Z"
   },
   {
    "duration": 3,
    "start_time": "2023-06-17T16:23:57.863Z"
   },
   {
    "duration": 35,
    "start_time": "2023-06-17T16:23:57.867Z"
   },
   {
    "duration": 4,
    "start_time": "2023-06-17T16:23:57.904Z"
   },
   {
    "duration": 6,
    "start_time": "2023-06-17T16:23:57.910Z"
   },
   {
    "duration": 4,
    "start_time": "2023-06-17T16:23:57.918Z"
   },
   {
    "duration": 14,
    "start_time": "2023-06-17T16:23:57.923Z"
   },
   {
    "duration": 6,
    "start_time": "2023-06-17T16:23:57.939Z"
   },
   {
    "duration": 28,
    "start_time": "2023-06-17T16:23:57.946Z"
   },
   {
    "duration": 16,
    "start_time": "2023-06-17T16:23:57.976Z"
   },
   {
    "duration": 355,
    "start_time": "2023-06-17T16:23:57.993Z"
   },
   {
    "duration": 2,
    "start_time": "2023-06-17T16:23:58.350Z"
   },
   {
    "duration": 25,
    "start_time": "2023-06-17T16:23:58.354Z"
   },
   {
    "duration": 5,
    "start_time": "2023-06-17T16:23:58.386Z"
   },
   {
    "duration": 257,
    "start_time": "2023-06-17T16:23:58.392Z"
   },
   {
    "duration": 108,
    "start_time": "2023-06-17T16:23:58.651Z"
   },
   {
    "duration": 156,
    "start_time": "2023-06-17T16:23:58.768Z"
   },
   {
    "duration": 897,
    "start_time": "2023-06-17T16:23:58.925Z"
   },
   {
    "duration": 195,
    "start_time": "2023-06-17T16:23:59.824Z"
   },
   {
    "duration": 178,
    "start_time": "2023-06-17T16:24:00.021Z"
   },
   {
    "duration": 8,
    "start_time": "2023-06-17T16:24:00.200Z"
   },
   {
    "duration": 156,
    "start_time": "2023-06-17T16:24:00.210Z"
   },
   {
    "duration": 138,
    "start_time": "2023-06-17T16:24:00.368Z"
   },
   {
    "duration": 130,
    "start_time": "2023-06-17T16:24:00.508Z"
   },
   {
    "duration": 186,
    "start_time": "2023-06-17T16:24:00.639Z"
   },
   {
    "duration": 8,
    "start_time": "2023-06-17T16:24:00.829Z"
   },
   {
    "duration": 40,
    "start_time": "2023-06-17T16:24:00.839Z"
   },
   {
    "duration": 39,
    "start_time": "2023-06-17T16:24:00.890Z"
   },
   {
    "duration": 69,
    "start_time": "2023-06-17T16:24:00.931Z"
   },
   {
    "duration": 61,
    "start_time": "2023-06-17T16:24:01.002Z"
   },
   {
    "duration": 43,
    "start_time": "2023-06-17T16:24:01.065Z"
   },
   {
    "duration": 783,
    "start_time": "2023-06-17T16:24:01.110Z"
   },
   {
    "duration": 5,
    "start_time": "2023-06-17T16:24:01.895Z"
   },
   {
    "duration": 127,
    "start_time": "2023-06-17T16:24:01.901Z"
   },
   {
    "duration": 60,
    "start_time": "2023-06-17T16:24:02.030Z"
   },
   {
    "duration": 15,
    "start_time": "2023-06-17T16:24:02.092Z"
   },
   {
    "duration": 7,
    "start_time": "2023-06-17T16:24:02.109Z"
   },
   {
    "duration": 81,
    "start_time": "2023-06-17T16:24:02.117Z"
   },
   {
    "duration": 39,
    "start_time": "2023-06-17T16:24:02.200Z"
   },
   {
    "duration": 3,
    "start_time": "2023-06-17T16:24:02.241Z"
   },
   {
    "duration": 33,
    "start_time": "2023-06-17T16:24:02.246Z"
   },
   {
    "duration": 39,
    "start_time": "2023-06-17T16:24:02.280Z"
   },
   {
    "duration": 1359,
    "start_time": "2023-06-17T16:24:02.321Z"
   },
   {
    "duration": 0,
    "start_time": "2023-06-17T16:24:03.681Z"
   },
   {
    "duration": 0,
    "start_time": "2023-06-17T16:24:03.682Z"
   },
   {
    "duration": 0,
    "start_time": "2023-06-17T16:24:03.683Z"
   },
   {
    "duration": 0,
    "start_time": "2023-06-17T16:24:03.683Z"
   },
   {
    "duration": 0,
    "start_time": "2023-06-17T16:24:03.684Z"
   },
   {
    "duration": 0,
    "start_time": "2023-06-17T16:24:03.685Z"
   },
   {
    "duration": 0,
    "start_time": "2023-06-17T16:24:03.686Z"
   },
   {
    "duration": 0,
    "start_time": "2023-06-17T16:24:03.686Z"
   },
   {
    "duration": 0,
    "start_time": "2023-06-17T16:24:03.687Z"
   },
   {
    "duration": 0,
    "start_time": "2023-06-17T16:24:03.688Z"
   },
   {
    "duration": 0,
    "start_time": "2023-06-17T16:24:03.688Z"
   },
   {
    "duration": 0,
    "start_time": "2023-06-17T16:24:03.689Z"
   },
   {
    "duration": 0,
    "start_time": "2023-06-17T16:24:03.690Z"
   },
   {
    "duration": 0,
    "start_time": "2023-06-17T16:24:03.691Z"
   },
   {
    "duration": 0,
    "start_time": "2023-06-17T16:24:03.691Z"
   },
   {
    "duration": 0,
    "start_time": "2023-06-17T16:24:03.692Z"
   },
   {
    "duration": 0,
    "start_time": "2023-06-17T16:24:03.696Z"
   },
   {
    "duration": 0,
    "start_time": "2023-06-17T16:24:03.697Z"
   },
   {
    "duration": 0,
    "start_time": "2023-06-17T16:24:03.698Z"
   },
   {
    "duration": 0,
    "start_time": "2023-06-17T16:24:03.699Z"
   },
   {
    "duration": 0,
    "start_time": "2023-06-17T16:24:03.700Z"
   },
   {
    "duration": 1,
    "start_time": "2023-06-17T16:24:03.702Z"
   },
   {
    "duration": 0,
    "start_time": "2023-06-17T16:24:03.704Z"
   },
   {
    "duration": 0,
    "start_time": "2023-06-17T16:24:03.705Z"
   },
   {
    "duration": 0,
    "start_time": "2023-06-17T16:24:03.706Z"
   },
   {
    "duration": 0,
    "start_time": "2023-06-17T16:24:03.707Z"
   },
   {
    "duration": 0,
    "start_time": "2023-06-17T16:24:03.709Z"
   },
   {
    "duration": 0,
    "start_time": "2023-06-17T16:24:03.710Z"
   },
   {
    "duration": 0,
    "start_time": "2023-06-17T16:24:03.711Z"
   },
   {
    "duration": 0,
    "start_time": "2023-06-17T16:24:03.713Z"
   },
   {
    "duration": 0,
    "start_time": "2023-06-17T16:24:03.714Z"
   },
   {
    "duration": 0,
    "start_time": "2023-06-17T16:24:03.715Z"
   },
   {
    "duration": 0,
    "start_time": "2023-06-17T16:24:03.716Z"
   },
   {
    "duration": 0,
    "start_time": "2023-06-17T16:24:03.717Z"
   },
   {
    "duration": 0,
    "start_time": "2023-06-17T16:24:03.718Z"
   },
   {
    "duration": 0,
    "start_time": "2023-06-17T16:24:03.719Z"
   },
   {
    "duration": 0,
    "start_time": "2023-06-17T16:24:03.720Z"
   },
   {
    "duration": 1373,
    "start_time": "2023-06-17T16:26:22.427Z"
   },
   {
    "duration": 40,
    "start_time": "2023-06-17T16:26:23.802Z"
   },
   {
    "duration": 16,
    "start_time": "2023-06-17T16:26:23.843Z"
   },
   {
    "duration": 3,
    "start_time": "2023-06-17T16:26:23.861Z"
   },
   {
    "duration": 48,
    "start_time": "2023-06-17T16:26:23.865Z"
   },
   {
    "duration": 4,
    "start_time": "2023-06-17T16:26:23.915Z"
   },
   {
    "duration": 19,
    "start_time": "2023-06-17T16:26:23.920Z"
   },
   {
    "duration": 4,
    "start_time": "2023-06-17T16:26:23.941Z"
   },
   {
    "duration": 13,
    "start_time": "2023-06-17T16:26:23.946Z"
   },
   {
    "duration": 5,
    "start_time": "2023-06-17T16:26:23.961Z"
   },
   {
    "duration": 16,
    "start_time": "2023-06-17T16:26:23.967Z"
   },
   {
    "duration": 19,
    "start_time": "2023-06-17T16:26:23.987Z"
   },
   {
    "duration": 132,
    "start_time": "2023-06-17T16:26:24.008Z"
   },
   {
    "duration": 3,
    "start_time": "2023-06-17T16:26:24.142Z"
   },
   {
    "duration": 12,
    "start_time": "2023-06-17T16:26:24.147Z"
   },
   {
    "duration": 335,
    "start_time": "2023-06-17T16:26:24.161Z"
   },
   {
    "duration": 103,
    "start_time": "2023-06-17T16:26:24.499Z"
   },
   {
    "duration": 166,
    "start_time": "2023-06-17T16:26:24.604Z"
   },
   {
    "duration": 904,
    "start_time": "2023-06-17T16:26:24.773Z"
   },
   {
    "duration": 165,
    "start_time": "2023-06-17T16:26:25.678Z"
   },
   {
    "duration": 173,
    "start_time": "2023-06-17T16:26:25.845Z"
   },
   {
    "duration": 7,
    "start_time": "2023-06-17T16:26:26.020Z"
   },
   {
    "duration": 154,
    "start_time": "2023-06-17T16:26:26.029Z"
   },
   {
    "duration": 127,
    "start_time": "2023-06-17T16:26:26.184Z"
   },
   {
    "duration": 123,
    "start_time": "2023-06-17T16:26:26.312Z"
   },
   {
    "duration": 189,
    "start_time": "2023-06-17T16:26:26.437Z"
   },
   {
    "duration": 8,
    "start_time": "2023-06-17T16:26:26.628Z"
   },
   {
    "duration": 4,
    "start_time": "2023-06-17T16:26:26.640Z"
   },
   {
    "duration": 18,
    "start_time": "2023-06-17T16:26:26.645Z"
   },
   {
    "duration": 24,
    "start_time": "2023-06-17T16:26:26.668Z"
   },
   {
    "duration": 11,
    "start_time": "2023-06-17T16:26:26.694Z"
   },
   {
    "duration": 13,
    "start_time": "2023-06-17T16:26:26.706Z"
   },
   {
    "duration": 5,
    "start_time": "2023-06-17T16:26:26.720Z"
   },
   {
    "duration": 22,
    "start_time": "2023-06-17T16:26:26.727Z"
   },
   {
    "duration": 12,
    "start_time": "2023-06-17T16:26:26.751Z"
   },
   {
    "duration": 19,
    "start_time": "2023-06-17T16:26:26.765Z"
   },
   {
    "duration": 4,
    "start_time": "2023-06-17T16:26:26.791Z"
   },
   {
    "duration": 5,
    "start_time": "2023-06-17T16:26:26.797Z"
   },
   {
    "duration": 5,
    "start_time": "2023-06-17T16:26:26.803Z"
   },
   {
    "duration": 5,
    "start_time": "2023-06-17T16:26:26.809Z"
   },
   {
    "duration": 1341,
    "start_time": "2023-06-17T16:26:26.815Z"
   },
   {
    "duration": 10,
    "start_time": "2023-06-17T16:26:28.158Z"
   },
   {
    "duration": 15,
    "start_time": "2023-06-17T16:26:28.169Z"
   },
   {
    "duration": 15,
    "start_time": "2023-06-17T16:26:28.185Z"
   },
   {
    "duration": 1934,
    "start_time": "2023-06-17T16:26:28.201Z"
   },
   {
    "duration": 3,
    "start_time": "2023-06-17T16:26:30.137Z"
   },
   {
    "duration": 26,
    "start_time": "2023-06-17T16:26:30.141Z"
   },
   {
    "duration": 142,
    "start_time": "2023-06-17T16:26:30.172Z"
   },
   {
    "duration": 3,
    "start_time": "2023-06-17T16:26:30.315Z"
   },
   {
    "duration": 28,
    "start_time": "2023-06-17T16:26:30.319Z"
   },
   {
    "duration": 30,
    "start_time": "2023-06-17T16:26:30.349Z"
   },
   {
    "duration": 58930,
    "start_time": "2023-06-17T16:26:30.381Z"
   },
   {
    "duration": 4,
    "start_time": "2023-06-17T16:27:29.312Z"
   },
   {
    "duration": 6,
    "start_time": "2023-06-17T16:27:29.318Z"
   },
   {
    "duration": 1232,
    "start_time": "2023-06-17T16:27:29.325Z"
   },
   {
    "duration": 9,
    "start_time": "2023-06-17T16:27:30.559Z"
   },
   {
    "duration": 29,
    "start_time": "2023-06-17T16:27:30.569Z"
   },
   {
    "duration": 21,
    "start_time": "2023-06-17T16:27:30.600Z"
   },
   {
    "duration": 19,
    "start_time": "2023-06-17T16:27:30.622Z"
   },
   {
    "duration": 17,
    "start_time": "2023-06-17T16:27:30.642Z"
   },
   {
    "duration": 30,
    "start_time": "2023-06-17T16:27:30.661Z"
   },
   {
    "duration": 76312,
    "start_time": "2023-06-17T16:27:30.693Z"
   },
   {
    "duration": 4,
    "start_time": "2023-06-17T16:28:47.007Z"
   },
   {
    "duration": 8,
    "start_time": "2023-06-17T16:28:47.012Z"
   },
   {
    "duration": 1944,
    "start_time": "2023-06-17T16:28:47.021Z"
   },
   {
    "duration": 9,
    "start_time": "2023-06-17T16:28:48.966Z"
   },
   {
    "duration": 15,
    "start_time": "2023-06-17T16:28:48.979Z"
   },
   {
    "duration": 6,
    "start_time": "2023-06-17T16:28:48.995Z"
   },
   {
    "duration": 6,
    "start_time": "2023-06-17T16:28:49.002Z"
   },
   {
    "duration": 34820,
    "start_time": "2023-06-17T16:28:49.009Z"
   },
   {
    "duration": 2,
    "start_time": "2023-06-17T16:29:23.831Z"
   },
   {
    "duration": 970,
    "start_time": "2023-06-17T16:29:23.835Z"
   },
   {
    "duration": 95,
    "start_time": "2023-06-17T16:29:24.807Z"
   },
   {
    "duration": 88,
    "start_time": "2023-06-17T16:29:24.904Z"
   },
   {
    "duration": 136,
    "start_time": "2023-06-17T16:29:24.996Z"
   },
   {
    "duration": 4,
    "start_time": "2023-06-17T16:30:57.404Z"
   },
   {
    "duration": 3,
    "start_time": "2023-06-17T16:30:59.963Z"
   },
   {
    "duration": 22,
    "start_time": "2023-06-17T16:31:00.486Z"
   },
   {
    "duration": 17,
    "start_time": "2023-06-17T16:31:00.990Z"
   },
   {
    "duration": 9,
    "start_time": "2023-06-17T16:31:12.306Z"
   },
   {
    "duration": 5,
    "start_time": "2023-06-17T16:31:12.725Z"
   },
   {
    "duration": 10,
    "start_time": "2023-06-17T16:31:19.989Z"
   },
   {
    "duration": 4,
    "start_time": "2023-06-17T16:31:20.307Z"
   },
   {
    "duration": 3,
    "start_time": "2023-06-17T16:31:20.822Z"
   },
   {
    "duration": 1389,
    "start_time": "2023-06-17T16:31:21.313Z"
   },
   {
    "duration": 4,
    "start_time": "2023-06-17T16:31:24.484Z"
   },
   {
    "duration": 3,
    "start_time": "2023-06-17T16:31:25.016Z"
   },
   {
    "duration": 3,
    "start_time": "2023-06-17T16:31:25.431Z"
   },
   {
    "duration": 1993,
    "start_time": "2023-06-17T16:31:25.798Z"
   },
   {
    "duration": 7,
    "start_time": "2023-06-17T16:31:27.796Z"
   },
   {
    "duration": 15,
    "start_time": "2023-06-17T16:31:27.804Z"
   },
   {
    "duration": 151,
    "start_time": "2023-06-17T16:31:28.062Z"
   },
   {
    "duration": 3,
    "start_time": "2023-06-17T16:31:36.732Z"
   },
   {
    "duration": 7,
    "start_time": "2023-06-17T16:31:37.166Z"
   },
   {
    "duration": 3,
    "start_time": "2023-06-17T16:31:37.315Z"
   },
   {
    "duration": 57746,
    "start_time": "2023-06-17T16:31:37.750Z"
   },
   {
    "duration": 5,
    "start_time": "2023-06-17T16:32:35.497Z"
   },
   {
    "duration": 7,
    "start_time": "2023-06-17T16:32:35.503Z"
   },
   {
    "duration": 1243,
    "start_time": "2023-06-17T16:32:35.512Z"
   },
   {
    "duration": 3,
    "start_time": "2023-06-17T16:32:56.455Z"
   },
   {
    "duration": 5,
    "start_time": "2023-06-17T16:32:56.831Z"
   },
   {
    "duration": 12,
    "start_time": "2023-06-17T16:32:57.839Z"
   },
   {
    "duration": 4,
    "start_time": "2023-06-17T16:32:58.305Z"
   },
   {
    "duration": 5,
    "start_time": "2023-06-17T16:32:58.764Z"
   },
   {
    "duration": 2,
    "start_time": "2023-06-17T16:32:59.228Z"
   },
   {
    "duration": 79312,
    "start_time": "2023-06-17T16:32:59.693Z"
   },
   {
    "duration": 3,
    "start_time": "2023-06-17T16:34:19.007Z"
   },
   {
    "duration": 7,
    "start_time": "2023-06-17T16:34:19.012Z"
   },
   {
    "duration": 2271,
    "start_time": "2023-06-17T16:34:19.020Z"
   },
   {
    "duration": 4,
    "start_time": "2023-06-17T16:34:26.355Z"
   },
   {
    "duration": 10,
    "start_time": "2023-06-17T16:34:26.894Z"
   },
   {
    "duration": 5,
    "start_time": "2023-06-17T16:34:27.401Z"
   },
   {
    "duration": 7,
    "start_time": "2023-06-17T16:34:27.964Z"
   },
   {
    "duration": 34151,
    "start_time": "2023-06-17T16:34:28.492Z"
   },
   {
    "duration": 2,
    "start_time": "2023-06-17T16:35:02.645Z"
   },
   {
    "duration": 947,
    "start_time": "2023-06-17T16:35:02.648Z"
   },
   {
    "duration": 110,
    "start_time": "2023-06-17T16:35:19.481Z"
   },
   {
    "duration": 246,
    "start_time": "2023-06-17T16:35:19.642Z"
   },
   {
    "duration": 127,
    "start_time": "2023-06-17T16:35:19.989Z"
   },
   {
    "duration": 103,
    "start_time": "2023-06-17T16:35:48.879Z"
   },
   {
    "duration": 102,
    "start_time": "2023-06-17T16:35:49.079Z"
   },
   {
    "duration": 114,
    "start_time": "2023-06-17T16:35:49.292Z"
   },
   {
    "duration": 48,
    "start_time": "2023-06-17T16:42:43.250Z"
   },
   {
    "duration": 11,
    "start_time": "2023-06-17T16:42:43.533Z"
   },
   {
    "duration": 4,
    "start_time": "2023-06-17T16:42:43.959Z"
   },
   {
    "duration": 21,
    "start_time": "2023-06-17T16:42:44.436Z"
   },
   {
    "duration": 4,
    "start_time": "2023-06-17T16:42:45.730Z"
   },
   {
    "duration": 4,
    "start_time": "2023-06-17T16:42:46.110Z"
   },
   {
    "duration": 7,
    "start_time": "2023-06-17T16:42:46.465Z"
   },
   {
    "duration": 15,
    "start_time": "2023-06-17T16:42:47.190Z"
   },
   {
    "duration": 6,
    "start_time": "2023-06-17T16:42:48.103Z"
   },
   {
    "duration": 104,
    "start_time": "2023-06-17T16:42:49.281Z"
   },
   {
    "duration": 5,
    "start_time": "2023-06-17T16:42:54.440Z"
   },
   {
    "duration": 3,
    "start_time": "2023-06-17T16:43:03.714Z"
   },
   {
    "duration": 6,
    "start_time": "2023-06-17T16:43:05.900Z"
   },
   {
    "duration": 6,
    "start_time": "2023-06-17T16:43:11.723Z"
   },
   {
    "duration": 104,
    "start_time": "2023-06-17T16:43:25.257Z"
   },
   {
    "duration": 4,
    "start_time": "2023-06-17T16:43:25.857Z"
   },
   {
    "duration": 8,
    "start_time": "2023-06-17T16:43:27.415Z"
   },
   {
    "duration": 175,
    "start_time": "2023-06-17T16:43:27.727Z"
   },
   {
    "duration": 94,
    "start_time": "2023-06-17T16:43:28.218Z"
   },
   {
    "duration": 87,
    "start_time": "2023-06-17T16:43:28.671Z"
   },
   {
    "duration": 923,
    "start_time": "2023-06-17T16:43:29.142Z"
   },
   {
    "duration": 162,
    "start_time": "2023-06-17T16:43:30.066Z"
   },
   {
    "duration": 170,
    "start_time": "2023-06-17T16:43:30.229Z"
   },
   {
    "duration": 7,
    "start_time": "2023-06-17T16:43:30.401Z"
   },
   {
    "duration": 142,
    "start_time": "2023-06-17T16:43:30.743Z"
   },
   {
    "duration": 115,
    "start_time": "2023-06-17T16:43:31.193Z"
   },
   {
    "duration": 121,
    "start_time": "2023-06-17T16:43:31.627Z"
   },
   {
    "duration": 173,
    "start_time": "2023-06-17T16:43:32.054Z"
   },
   {
    "duration": 9,
    "start_time": "2023-06-17T16:43:32.255Z"
   },
   {
    "duration": 4,
    "start_time": "2023-06-17T16:43:32.650Z"
   },
   {
    "duration": 3,
    "start_time": "2023-06-17T16:43:32.856Z"
   },
   {
    "duration": 10,
    "start_time": "2023-06-17T16:43:33.428Z"
   },
   {
    "duration": 11,
    "start_time": "2023-06-17T16:43:33.836Z"
   },
   {
    "duration": 3,
    "start_time": "2023-06-17T16:43:34.853Z"
   },
   {
    "duration": 2,
    "start_time": "2023-06-17T16:43:35.170Z"
   },
   {
    "duration": 22,
    "start_time": "2023-06-17T16:43:35.851Z"
   },
   {
    "duration": 11,
    "start_time": "2023-06-17T16:43:38.494Z"
   },
   {
    "duration": 8,
    "start_time": "2023-06-17T16:43:39.402Z"
   },
   {
    "duration": 4,
    "start_time": "2023-06-17T16:43:39.713Z"
   },
   {
    "duration": 2,
    "start_time": "2023-06-17T16:43:41.506Z"
   },
   {
    "duration": 4,
    "start_time": "2023-06-17T16:43:41.800Z"
   },
   {
    "duration": 3,
    "start_time": "2023-06-17T16:43:42.094Z"
   },
   {
    "duration": 546,
    "start_time": "2023-06-17T16:43:42.410Z"
   },
   {
    "duration": 3,
    "start_time": "2023-06-17T16:43:44.525Z"
   },
   {
    "duration": 2,
    "start_time": "2023-06-17T16:43:44.943Z"
   },
   {
    "duration": 6,
    "start_time": "2023-06-17T16:43:45.268Z"
   },
   {
    "duration": 1789,
    "start_time": "2023-06-17T16:43:45.595Z"
   },
   {
    "duration": 4,
    "start_time": "2023-06-17T16:43:47.386Z"
   },
   {
    "duration": 3,
    "start_time": "2023-06-17T16:43:47.507Z"
   },
   {
    "duration": 132,
    "start_time": "2023-06-17T16:43:48.746Z"
   },
   {
    "duration": 3,
    "start_time": "2023-06-17T16:43:51.094Z"
   },
   {
    "duration": 3,
    "start_time": "2023-06-17T16:43:51.451Z"
   },
   {
    "duration": 2,
    "start_time": "2023-06-17T16:43:51.810Z"
   },
   {
    "duration": 53317,
    "start_time": "2023-06-17T16:43:52.245Z"
   },
   {
    "duration": 19,
    "start_time": "2023-06-17T16:44:45.563Z"
   },
   {
    "duration": 2,
    "start_time": "2023-06-17T16:44:45.584Z"
   },
   {
    "duration": 651,
    "start_time": "2023-06-17T16:44:45.588Z"
   },
   {
    "duration": 4,
    "start_time": "2023-06-17T16:44:52.140Z"
   },
   {
    "duration": 6,
    "start_time": "2023-06-17T16:44:52.697Z"
   },
   {
    "duration": 9,
    "start_time": "2023-06-17T16:44:53.411Z"
   },
   {
    "duration": 4,
    "start_time": "2023-06-17T16:44:53.799Z"
   },
   {
    "duration": 6,
    "start_time": "2023-06-17T16:44:54.210Z"
   },
   {
    "duration": 2,
    "start_time": "2023-06-17T16:44:54.689Z"
   },
   {
    "duration": 75941,
    "start_time": "2023-06-17T16:44:55.094Z"
   },
   {
    "duration": 3,
    "start_time": "2023-06-17T16:46:11.037Z"
   },
   {
    "duration": 4,
    "start_time": "2023-06-17T16:46:11.042Z"
   },
   {
    "duration": 1936,
    "start_time": "2023-06-17T16:46:11.048Z"
   },
   {
    "duration": 6,
    "start_time": "2023-06-17T16:50:49.870Z"
   },
   {
    "duration": 10,
    "start_time": "2023-06-17T16:50:50.334Z"
   },
   {
    "duration": 5,
    "start_time": "2023-06-17T16:50:50.693Z"
   },
   {
    "duration": 5,
    "start_time": "2023-06-17T16:50:51.222Z"
   },
   {
    "duration": 33094,
    "start_time": "2023-06-17T16:50:51.625Z"
   },
   {
    "duration": 3,
    "start_time": "2023-06-17T16:51:24.721Z"
   },
   {
    "duration": 947,
    "start_time": "2023-06-17T16:51:24.726Z"
   },
   {
    "duration": 116,
    "start_time": "2023-06-17T16:51:25.675Z"
   },
   {
    "duration": 124,
    "start_time": "2023-06-17T16:51:25.794Z"
   },
   {
    "duration": 133,
    "start_time": "2023-06-17T16:51:25.920Z"
   },
   {
    "duration": 105,
    "start_time": "2023-06-17T16:52:33.927Z"
   },
   {
    "duration": 105,
    "start_time": "2023-06-17T16:52:34.108Z"
   },
   {
    "duration": 110,
    "start_time": "2023-06-17T16:52:34.336Z"
   },
   {
    "duration": 2,
    "start_time": "2023-06-17T16:57:10.093Z"
   },
   {
    "duration": 1434,
    "start_time": "2023-06-17T17:28:10.492Z"
   },
   {
    "duration": 41,
    "start_time": "2023-06-17T17:28:11.928Z"
   },
   {
    "duration": 17,
    "start_time": "2023-06-17T17:28:11.971Z"
   },
   {
    "duration": 56,
    "start_time": "2023-06-17T17:28:11.990Z"
   },
   {
    "duration": 37,
    "start_time": "2023-06-17T17:28:12.048Z"
   },
   {
    "duration": 4,
    "start_time": "2023-06-17T17:28:12.087Z"
   },
   {
    "duration": 15,
    "start_time": "2023-06-17T17:28:12.092Z"
   },
   {
    "duration": 9,
    "start_time": "2023-06-17T17:28:12.109Z"
   },
   {
    "duration": 28,
    "start_time": "2023-06-17T17:28:12.120Z"
   },
   {
    "duration": 8,
    "start_time": "2023-06-17T17:28:12.149Z"
   },
   {
    "duration": 27,
    "start_time": "2023-06-17T17:28:12.159Z"
   },
   {
    "duration": 27,
    "start_time": "2023-06-17T17:28:12.188Z"
   },
   {
    "duration": 20,
    "start_time": "2023-06-17T17:28:12.217Z"
   },
   {
    "duration": 136,
    "start_time": "2023-06-17T17:28:12.240Z"
   },
   {
    "duration": 3,
    "start_time": "2023-06-17T17:28:12.379Z"
   },
   {
    "duration": 20,
    "start_time": "2023-06-17T17:28:12.383Z"
   },
   {
    "duration": 276,
    "start_time": "2023-06-17T17:28:12.404Z"
   },
   {
    "duration": 118,
    "start_time": "2023-06-17T17:28:12.682Z"
   },
   {
    "duration": 188,
    "start_time": "2023-06-17T17:28:12.802Z"
   },
   {
    "duration": 955,
    "start_time": "2023-06-17T17:28:12.992Z"
   },
   {
    "duration": 235,
    "start_time": "2023-06-17T17:28:13.949Z"
   },
   {
    "duration": 212,
    "start_time": "2023-06-17T17:28:14.187Z"
   },
   {
    "duration": 9,
    "start_time": "2023-06-17T17:28:14.400Z"
   },
   {
    "duration": 157,
    "start_time": "2023-06-17T17:28:14.411Z"
   },
   {
    "duration": 129,
    "start_time": "2023-06-17T17:28:14.570Z"
   },
   {
    "duration": 124,
    "start_time": "2023-06-17T17:28:14.701Z"
   },
   {
    "duration": 168,
    "start_time": "2023-06-17T17:28:14.827Z"
   },
   {
    "duration": 8,
    "start_time": "2023-06-17T17:28:14.997Z"
   },
   {
    "duration": 50,
    "start_time": "2023-06-17T17:28:15.007Z"
   },
   {
    "duration": 16,
    "start_time": "2023-06-17T17:28:15.059Z"
   },
   {
    "duration": 28,
    "start_time": "2023-06-17T17:28:15.077Z"
   },
   {
    "duration": 30,
    "start_time": "2023-06-17T17:28:15.106Z"
   },
   {
    "duration": 7,
    "start_time": "2023-06-17T17:28:15.137Z"
   },
   {
    "duration": 19,
    "start_time": "2023-06-17T17:28:15.146Z"
   },
   {
    "duration": 17,
    "start_time": "2023-06-17T17:28:15.166Z"
   },
   {
    "duration": 10,
    "start_time": "2023-06-17T17:28:15.185Z"
   },
   {
    "duration": 17,
    "start_time": "2023-06-17T17:28:15.197Z"
   },
   {
    "duration": 28,
    "start_time": "2023-06-17T17:28:15.215Z"
   },
   {
    "duration": 5,
    "start_time": "2023-06-17T17:28:15.244Z"
   },
   {
    "duration": 5,
    "start_time": "2023-06-17T17:28:15.250Z"
   },
   {
    "duration": 3,
    "start_time": "2023-06-17T17:28:15.258Z"
   },
   {
    "duration": 614,
    "start_time": "2023-06-17T17:28:15.263Z"
   },
   {
    "duration": 3,
    "start_time": "2023-06-17T17:28:15.879Z"
   },
   {
    "duration": 5,
    "start_time": "2023-06-17T17:28:15.883Z"
   },
   {
    "duration": 5,
    "start_time": "2023-06-17T17:28:15.889Z"
   },
   {
    "duration": 1830,
    "start_time": "2023-06-17T17:28:15.895Z"
   },
   {
    "duration": 4,
    "start_time": "2023-06-17T17:28:17.726Z"
   },
   {
    "duration": 4,
    "start_time": "2023-06-17T17:28:17.732Z"
   },
   {
    "duration": 138,
    "start_time": "2023-06-17T17:28:17.737Z"
   },
   {
    "duration": 2,
    "start_time": "2023-06-17T17:28:17.877Z"
   },
   {
    "duration": 4,
    "start_time": "2023-06-17T17:28:17.881Z"
   },
   {
    "duration": 6,
    "start_time": "2023-06-17T17:28:17.886Z"
   },
   {
    "duration": 52665,
    "start_time": "2023-06-17T17:28:17.893Z"
   },
   {
    "duration": 10,
    "start_time": "2023-06-17T17:29:10.560Z"
   },
   {
    "duration": 6,
    "start_time": "2023-06-17T17:29:10.571Z"
   },
   {
    "duration": 734,
    "start_time": "2023-06-17T17:29:10.578Z"
   },
   {
    "duration": 4,
    "start_time": "2023-06-17T17:29:11.315Z"
   },
   {
    "duration": 14,
    "start_time": "2023-06-17T17:29:11.320Z"
   },
   {
    "duration": 15,
    "start_time": "2023-06-17T17:29:11.335Z"
   },
   {
    "duration": 16,
    "start_time": "2023-06-17T17:29:11.352Z"
   },
   {
    "duration": 22,
    "start_time": "2023-06-17T17:29:11.370Z"
   },
   {
    "duration": 19,
    "start_time": "2023-06-17T17:29:11.394Z"
   },
   {
    "duration": 73742,
    "start_time": "2023-06-17T17:29:11.415Z"
   },
   {
    "duration": 4,
    "start_time": "2023-06-17T17:30:25.158Z"
   },
   {
    "duration": 2,
    "start_time": "2023-06-17T17:30:25.168Z"
   },
   {
    "duration": 1826,
    "start_time": "2023-06-17T17:30:25.171Z"
   },
   {
    "duration": 4,
    "start_time": "2023-06-17T17:30:26.999Z"
   },
   {
    "duration": 12,
    "start_time": "2023-06-17T17:30:27.004Z"
   },
   {
    "duration": 5,
    "start_time": "2023-06-17T17:30:27.018Z"
   },
   {
    "duration": 5,
    "start_time": "2023-06-17T17:30:27.024Z"
   },
   {
    "duration": 31822,
    "start_time": "2023-06-17T17:30:27.030Z"
   },
   {
    "duration": 2,
    "start_time": "2023-06-17T17:30:58.854Z"
   },
   {
    "duration": 884,
    "start_time": "2023-06-17T17:30:58.857Z"
   },
   {
    "duration": 92,
    "start_time": "2023-06-17T17:30:59.742Z"
   },
   {
    "duration": 90,
    "start_time": "2023-06-17T17:30:59.836Z"
   },
   {
    "duration": 132,
    "start_time": "2023-06-17T17:30:59.927Z"
   },
   {
    "duration": 1715,
    "start_time": "2023-06-18T15:31:25.648Z"
   },
   {
    "duration": 85,
    "start_time": "2023-06-18T15:31:27.365Z"
   },
   {
    "duration": 18,
    "start_time": "2023-06-18T15:31:28.120Z"
   },
   {
    "duration": 4,
    "start_time": "2023-06-18T15:31:28.872Z"
   },
   {
    "duration": 26,
    "start_time": "2023-06-18T15:31:29.632Z"
   },
   {
    "duration": 5,
    "start_time": "2023-06-18T15:31:31.743Z"
   },
   {
    "duration": 5,
    "start_time": "2023-06-18T15:31:32.210Z"
   },
   {
    "duration": 5,
    "start_time": "2023-06-18T15:31:34.605Z"
   },
   {
    "duration": 15,
    "start_time": "2023-06-18T15:31:35.835Z"
   },
   {
    "duration": 7,
    "start_time": "2023-06-18T15:31:36.939Z"
   },
   {
    "duration": 5,
    "start_time": "2023-06-18T15:32:33.120Z"
   },
   {
    "duration": 5,
    "start_time": "2023-06-18T15:32:38.389Z"
   },
   {
    "duration": 6,
    "start_time": "2023-06-18T15:32:39.184Z"
   },
   {
    "duration": 4,
    "start_time": "2023-06-18T15:36:36.313Z"
   },
   {
    "duration": 40,
    "start_time": "2023-06-18T15:36:36.945Z"
   },
   {
    "duration": 13,
    "start_time": "2023-06-18T15:36:37.509Z"
   },
   {
    "duration": 4,
    "start_time": "2023-06-18T15:36:37.982Z"
   },
   {
    "duration": 22,
    "start_time": "2023-06-18T15:36:38.600Z"
   },
   {
    "duration": 18,
    "start_time": "2023-06-18T15:36:46.143Z"
   },
   {
    "duration": 54,
    "start_time": "2023-06-18T15:37:35.514Z"
   },
   {
    "duration": 467,
    "start_time": "2023-06-18T15:37:44.614Z"
   },
   {
    "duration": 4,
    "start_time": "2023-06-18T15:42:18.607Z"
   },
   {
    "duration": 40,
    "start_time": "2023-06-18T15:42:19.077Z"
   },
   {
    "duration": 13,
    "start_time": "2023-06-18T15:42:19.667Z"
   },
   {
    "duration": 4,
    "start_time": "2023-06-18T15:42:20.169Z"
   },
   {
    "duration": 23,
    "start_time": "2023-06-18T15:42:20.553Z"
   },
   {
    "duration": 4,
    "start_time": "2023-06-18T15:42:26.978Z"
   },
   {
    "duration": 5,
    "start_time": "2023-06-18T15:42:27.481Z"
   },
   {
    "duration": 4,
    "start_time": "2023-06-18T15:42:28.321Z"
   },
   {
    "duration": 14,
    "start_time": "2023-06-18T15:42:29.576Z"
   },
   {
    "duration": 6,
    "start_time": "2023-06-18T15:42:30.432Z"
   },
   {
    "duration": 106,
    "start_time": "2023-06-18T15:44:30.091Z"
   },
   {
    "duration": 2012,
    "start_time": "2023-06-18T15:44:46.142Z"
   },
   {
    "duration": 238,
    "start_time": "2023-06-18T15:44:54.079Z"
   },
   {
    "duration": 375,
    "start_time": "2023-06-18T15:45:23.232Z"
   },
   {
    "duration": 445,
    "start_time": "2023-06-18T15:45:27.621Z"
   },
   {
    "duration": 376,
    "start_time": "2023-06-18T15:45:35.609Z"
   },
   {
    "duration": 399,
    "start_time": "2023-06-18T15:45:43.736Z"
   },
   {
    "duration": 113,
    "start_time": "2023-06-18T15:45:54.073Z"
   },
   {
    "duration": 390,
    "start_time": "2023-06-18T15:46:31.076Z"
   },
   {
    "duration": 390,
    "start_time": "2023-06-18T15:46:49.780Z"
   },
   {
    "duration": 368,
    "start_time": "2023-06-18T15:46:55.801Z"
   },
   {
    "duration": 98,
    "start_time": "2023-06-18T15:47:48.091Z"
   },
   {
    "duration": 373,
    "start_time": "2023-06-18T15:48:07.279Z"
   },
   {
    "duration": 1013,
    "start_time": "2023-06-18T15:49:33.683Z"
   },
   {
    "duration": 1202,
    "start_time": "2023-06-18T15:50:33.437Z"
   },
   {
    "duration": 4,
    "start_time": "2023-06-18T15:50:51.662Z"
   },
   {
    "duration": 5,
    "start_time": "2023-06-18T15:50:55.376Z"
   },
   {
    "duration": 6,
    "start_time": "2023-06-18T15:50:55.775Z"
   },
   {
    "duration": 1139,
    "start_time": "2023-06-18T15:51:00.489Z"
   },
   {
    "duration": 127,
    "start_time": "2023-06-18T15:51:46.369Z"
   },
   {
    "duration": 4,
    "start_time": "2023-06-18T15:51:48.723Z"
   },
   {
    "duration": 11,
    "start_time": "2023-06-18T15:51:51.680Z"
   },
   {
    "duration": 270,
    "start_time": "2023-06-18T15:51:53.126Z"
   },
   {
    "duration": 100,
    "start_time": "2023-06-18T15:51:55.034Z"
   },
   {
    "duration": 86,
    "start_time": "2023-06-18T15:51:56.788Z"
   },
   {
    "duration": 2218,
    "start_time": "2023-06-18T15:51:58.381Z"
   },
   {
    "duration": 183,
    "start_time": "2023-06-18T15:52:04.444Z"
   },
   {
    "duration": 220,
    "start_time": "2023-06-18T15:52:57.907Z"
   },
   {
    "duration": 183,
    "start_time": "2023-06-18T15:52:59.631Z"
   },
   {
    "duration": 9,
    "start_time": "2023-06-18T15:53:01.589Z"
   },
   {
    "duration": 159,
    "start_time": "2023-06-18T15:53:03.442Z"
   },
   {
    "duration": 131,
    "start_time": "2023-06-18T15:53:05.294Z"
   },
   {
    "duration": 114,
    "start_time": "2023-06-18T15:53:06.911Z"
   },
   {
    "duration": 192,
    "start_time": "2023-06-18T15:53:08.374Z"
   },
   {
    "duration": 8,
    "start_time": "2023-06-18T15:53:09.898Z"
   },
   {
    "duration": 5,
    "start_time": "2023-06-18T15:53:11.705Z"
   },
   {
    "duration": 4,
    "start_time": "2023-06-18T15:53:16.444Z"
   },
   {
    "duration": 18389,
    "start_time": "2023-06-18T15:55:49.118Z"
   },
   {
    "duration": 12532,
    "start_time": "2023-06-18T15:56:45.213Z"
   },
   {
    "duration": 11,
    "start_time": "2023-06-18T16:57:41.934Z"
   },
   {
    "duration": 10,
    "start_time": "2023-06-18T16:58:44.205Z"
   },
   {
    "duration": 2,
    "start_time": "2023-06-18T16:59:20.685Z"
   },
   {
    "duration": 13,
    "start_time": "2023-06-18T17:04:11.186Z"
   },
   {
    "duration": 21,
    "start_time": "2023-06-18T17:05:57.661Z"
   },
   {
    "duration": 10,
    "start_time": "2023-06-18T17:06:14.361Z"
   },
   {
    "duration": 3,
    "start_time": "2023-06-18T17:07:43.857Z"
   },
   {
    "duration": 2,
    "start_time": "2023-06-18T17:08:08.034Z"
   },
   {
    "duration": 3,
    "start_time": "2023-06-18T17:08:09.338Z"
   },
   {
    "duration": 14,
    "start_time": "2023-06-18T17:08:30.788Z"
   },
   {
    "duration": 12,
    "start_time": "2023-06-18T17:08:42.803Z"
   },
   {
    "duration": 11,
    "start_time": "2023-06-18T17:09:25.249Z"
   },
   {
    "duration": 10,
    "start_time": "2023-06-18T17:09:47.328Z"
   },
   {
    "duration": 3,
    "start_time": "2023-06-18T17:11:46.497Z"
   },
   {
    "duration": 5,
    "start_time": "2023-06-18T17:13:16.808Z"
   },
   {
    "duration": 4,
    "start_time": "2023-06-18T17:13:18.609Z"
   },
   {
    "duration": 10,
    "start_time": "2023-06-18T17:13:19.185Z"
   },
   {
    "duration": 2,
    "start_time": "2023-06-18T17:13:24.754Z"
   },
   {
    "duration": 3,
    "start_time": "2023-06-18T17:13:26.792Z"
   },
   {
    "duration": 686,
    "start_time": "2023-06-18T17:13:26.962Z"
   },
   {
    "duration": 4,
    "start_time": "2023-06-18T17:15:10.259Z"
   },
   {
    "duration": 3,
    "start_time": "2023-06-18T17:15:11.178Z"
   },
   {
    "duration": 791,
    "start_time": "2023-06-18T17:15:13.588Z"
   },
   {
    "duration": 5,
    "start_time": "2023-06-18T17:15:52.817Z"
   },
   {
    "duration": 3,
    "start_time": "2023-06-18T17:15:53.812Z"
   },
   {
    "duration": 967,
    "start_time": "2023-06-18T17:15:54.203Z"
   },
   {
    "duration": 6,
    "start_time": "2023-06-18T17:16:16.425Z"
   },
   {
    "duration": 4,
    "start_time": "2023-06-18T17:16:16.876Z"
   },
   {
    "duration": 985,
    "start_time": "2023-06-18T17:16:17.277Z"
   },
   {
    "duration": 4,
    "start_time": "2023-06-18T17:16:28.045Z"
   },
   {
    "duration": 4,
    "start_time": "2023-06-18T17:16:28.357Z"
   },
   {
    "duration": 926,
    "start_time": "2023-06-18T17:16:28.698Z"
   },
   {
    "duration": 4,
    "start_time": "2023-06-18T17:16:37.738Z"
   },
   {
    "duration": 3,
    "start_time": "2023-06-18T17:16:38.830Z"
   },
   {
    "duration": 825,
    "start_time": "2023-06-18T17:16:39.174Z"
   },
   {
    "duration": 3,
    "start_time": "2023-06-18T17:16:58.300Z"
   },
   {
    "duration": 3,
    "start_time": "2023-06-18T17:16:58.552Z"
   },
   {
    "duration": 3,
    "start_time": "2023-06-18T17:16:58.817Z"
   },
   {
    "duration": 1834,
    "start_time": "2023-06-18T17:16:59.074Z"
   },
   {
    "duration": 4,
    "start_time": "2023-06-18T17:17:00.911Z"
   },
   {
    "duration": 3,
    "start_time": "2023-06-18T17:17:07.135Z"
   },
   {
    "duration": 439,
    "start_time": "2023-06-18T17:17:07.623Z"
   },
   {
    "duration": 4,
    "start_time": "2023-06-18T17:18:23.574Z"
   },
   {
    "duration": 3,
    "start_time": "2023-06-18T17:18:24.232Z"
   },
   {
    "duration": 939,
    "start_time": "2023-06-18T17:18:24.646Z"
   },
   {
    "duration": 433,
    "start_time": "2023-06-18T17:18:37.855Z"
   },
   {
    "duration": 2,
    "start_time": "2023-06-18T17:18:44.476Z"
   },
   {
    "duration": 2,
    "start_time": "2023-06-18T17:18:44.878Z"
   },
   {
    "duration": 2,
    "start_time": "2023-06-18T17:18:45.295Z"
   },
   {
    "duration": 57095,
    "start_time": "2023-06-18T17:18:45.814Z"
   },
   {
    "duration": 4,
    "start_time": "2023-06-18T17:19:42.912Z"
   },
   {
    "duration": 28,
    "start_time": "2023-06-18T17:19:42.918Z"
   },
   {
    "duration": 1869,
    "start_time": "2023-06-18T17:19:42.948Z"
   },
   {
    "duration": 4,
    "start_time": "2023-06-18T17:25:34.309Z"
   },
   {
    "duration": 6,
    "start_time": "2023-06-18T17:25:35.633Z"
   },
   {
    "duration": 5,
    "start_time": "2023-06-18T17:25:48.631Z"
   },
   {
    "duration": 6,
    "start_time": "2023-06-18T17:26:00.216Z"
   },
   {
    "duration": 10,
    "start_time": "2023-06-18T17:26:01.959Z"
   },
   {
    "duration": 4,
    "start_time": "2023-06-18T17:26:05.539Z"
   },
   {
    "duration": 5,
    "start_time": "2023-06-18T17:26:08.864Z"
   },
   {
    "duration": 2,
    "start_time": "2023-06-18T17:26:10.964Z"
   },
   {
    "duration": 79644,
    "start_time": "2023-06-18T17:26:11.555Z"
   },
   {
    "duration": 5,
    "start_time": "2023-06-18T17:27:31.201Z"
   },
   {
    "duration": 72,
    "start_time": "2023-06-18T17:27:31.208Z"
   },
   {
    "duration": 1917,
    "start_time": "2023-06-18T17:27:31.282Z"
   },
   {
    "duration": 4,
    "start_time": "2023-06-18T17:27:56.677Z"
   },
   {
    "duration": 6,
    "start_time": "2023-06-18T17:28:12.675Z"
   },
   {
    "duration": 13,
    "start_time": "2023-06-18T17:28:16.515Z"
   },
   {
    "duration": 5,
    "start_time": "2023-06-18T17:28:55.326Z"
   },
   {
    "duration": 4,
    "start_time": "2023-06-18T17:29:02.181Z"
   },
   {
    "duration": 31754,
    "start_time": "2023-06-18T17:29:03.028Z"
   },
   {
    "duration": 3,
    "start_time": "2023-06-18T17:29:34.784Z"
   },
   {
    "duration": 870,
    "start_time": "2023-06-18T17:29:34.788Z"
   },
   {
    "duration": 1403,
    "start_time": "2023-06-18T17:30:19.421Z"
   },
   {
    "duration": 42,
    "start_time": "2023-06-18T17:30:20.826Z"
   },
   {
    "duration": 16,
    "start_time": "2023-06-18T17:30:20.869Z"
   },
   {
    "duration": 16,
    "start_time": "2023-06-18T17:30:20.887Z"
   },
   {
    "duration": 31,
    "start_time": "2023-06-18T17:30:20.904Z"
   },
   {
    "duration": 6,
    "start_time": "2023-06-18T17:30:20.937Z"
   },
   {
    "duration": 22,
    "start_time": "2023-06-18T17:30:20.944Z"
   },
   {
    "duration": 26,
    "start_time": "2023-06-18T17:30:20.968Z"
   },
   {
    "duration": 42,
    "start_time": "2023-06-18T17:30:20.996Z"
   },
   {
    "duration": 21,
    "start_time": "2023-06-18T17:30:21.041Z"
   },
   {
    "duration": 1108,
    "start_time": "2023-06-18T17:30:21.064Z"
   },
   {
    "duration": 5,
    "start_time": "2023-06-18T17:30:22.174Z"
   },
   {
    "duration": 21,
    "start_time": "2023-06-18T17:30:22.180Z"
   },
   {
    "duration": 11,
    "start_time": "2023-06-18T17:30:22.203Z"
   },
   {
    "duration": 1160,
    "start_time": "2023-06-18T17:30:22.215Z"
   },
   {
    "duration": 120,
    "start_time": "2023-06-18T17:30:23.377Z"
   },
   {
    "duration": 3,
    "start_time": "2023-06-18T17:30:23.499Z"
   },
   {
    "duration": 38,
    "start_time": "2023-06-18T17:30:23.503Z"
   },
   {
    "duration": 245,
    "start_time": "2023-06-18T17:30:23.543Z"
   },
   {
    "duration": 117,
    "start_time": "2023-06-18T17:30:23.790Z"
   },
   {
    "duration": 101,
    "start_time": "2023-06-18T17:30:23.909Z"
   },
   {
    "duration": 897,
    "start_time": "2023-06-18T17:30:24.012Z"
   },
   {
    "duration": 170,
    "start_time": "2023-06-18T17:30:24.911Z"
   },
   {
    "duration": 194,
    "start_time": "2023-06-18T17:30:25.083Z"
   },
   {
    "duration": 8,
    "start_time": "2023-06-18T17:30:25.279Z"
   },
   {
    "duration": 255,
    "start_time": "2023-06-18T17:30:25.289Z"
   },
   {
    "duration": 123,
    "start_time": "2023-06-18T17:30:25.546Z"
   },
   {
    "duration": 135,
    "start_time": "2023-06-18T17:30:25.674Z"
   },
   {
    "duration": 167,
    "start_time": "2023-06-18T17:30:25.811Z"
   },
   {
    "duration": 9,
    "start_time": "2023-06-18T17:30:25.979Z"
   },
   {
    "duration": 16,
    "start_time": "2023-06-18T17:30:25.989Z"
   },
   {
    "duration": 9,
    "start_time": "2023-06-18T17:30:26.007Z"
   },
   {
    "duration": 19,
    "start_time": "2023-06-18T17:30:26.017Z"
   },
   {
    "duration": 13,
    "start_time": "2023-06-18T17:30:26.037Z"
   },
   {
    "duration": 28,
    "start_time": "2023-06-18T17:30:26.051Z"
   },
   {
    "duration": 23,
    "start_time": "2023-06-18T17:30:26.081Z"
   },
   {
    "duration": 18,
    "start_time": "2023-06-18T17:30:26.106Z"
   },
   {
    "duration": 16,
    "start_time": "2023-06-18T17:30:26.126Z"
   },
   {
    "duration": 38,
    "start_time": "2023-06-18T17:30:26.145Z"
   },
   {
    "duration": 14,
    "start_time": "2023-06-18T17:30:26.186Z"
   },
   {
    "duration": 22,
    "start_time": "2023-06-18T17:30:26.202Z"
   },
   {
    "duration": 33,
    "start_time": "2023-06-18T17:30:26.226Z"
   },
   {
    "duration": 3,
    "start_time": "2023-06-18T17:30:26.260Z"
   },
   {
    "duration": 13,
    "start_time": "2023-06-18T17:30:26.265Z"
   },
   {
    "duration": 10,
    "start_time": "2023-06-18T17:30:26.279Z"
   },
   {
    "duration": 967,
    "start_time": "2023-06-18T17:30:26.290Z"
   },
   {
    "duration": 3,
    "start_time": "2023-06-18T17:30:27.258Z"
   },
   {
    "duration": 16,
    "start_time": "2023-06-18T17:30:27.262Z"
   },
   {
    "duration": 19,
    "start_time": "2023-06-18T17:30:27.280Z"
   },
   {
    "duration": 1764,
    "start_time": "2023-06-18T17:30:27.301Z"
   },
   {
    "duration": 10,
    "start_time": "2023-06-18T17:30:29.066Z"
   },
   {
    "duration": 10,
    "start_time": "2023-06-18T17:30:29.078Z"
   },
   {
    "duration": 385,
    "start_time": "2023-06-18T17:30:29.090Z"
   },
   {
    "duration": 3,
    "start_time": "2023-06-18T17:30:29.476Z"
   },
   {
    "duration": 19,
    "start_time": "2023-06-18T17:30:29.481Z"
   },
   {
    "duration": 16,
    "start_time": "2023-06-18T17:30:29.502Z"
   },
   {
    "duration": 55484,
    "start_time": "2023-06-18T17:30:29.520Z"
   },
   {
    "duration": 5,
    "start_time": "2023-06-18T17:31:25.005Z"
   },
   {
    "duration": 24,
    "start_time": "2023-06-18T17:31:25.011Z"
   },
   {
    "duration": 715,
    "start_time": "2023-06-18T17:31:25.037Z"
   },
   {
    "duration": 4,
    "start_time": "2023-06-18T17:31:25.754Z"
   },
   {
    "duration": 17,
    "start_time": "2023-06-18T17:31:25.759Z"
   },
   {
    "duration": 12,
    "start_time": "2023-06-18T17:31:25.777Z"
   },
   {
    "duration": 21,
    "start_time": "2023-06-18T17:31:25.791Z"
   },
   {
    "duration": 3,
    "start_time": "2023-06-18T17:31:25.814Z"
   },
   {
    "duration": 6,
    "start_time": "2023-06-18T17:31:25.819Z"
   },
   {
    "duration": 6,
    "start_time": "2023-06-18T17:31:25.827Z"
   },
   {
    "duration": 76306,
    "start_time": "2023-06-18T17:31:25.834Z"
   },
   {
    "duration": 4,
    "start_time": "2023-06-18T17:32:42.141Z"
   },
   {
    "duration": 6,
    "start_time": "2023-06-18T17:32:42.147Z"
   },
   {
    "duration": 861,
    "start_time": "2023-06-18T17:32:42.154Z"
   },
   {
    "duration": 4,
    "start_time": "2023-06-18T17:32:43.017Z"
   },
   {
    "duration": 10,
    "start_time": "2023-06-18T17:32:43.023Z"
   },
   {
    "duration": 12,
    "start_time": "2023-06-18T17:32:43.034Z"
   },
   {
    "duration": 8,
    "start_time": "2023-06-18T17:32:43.048Z"
   },
   {
    "duration": 18,
    "start_time": "2023-06-18T17:32:43.058Z"
   },
   {
    "duration": 31112,
    "start_time": "2023-06-18T17:32:43.077Z"
   },
   {
    "duration": 2,
    "start_time": "2023-06-18T17:33:14.191Z"
   },
   {
    "duration": 527,
    "start_time": "2023-06-18T17:33:14.194Z"
   },
   {
    "duration": 24,
    "start_time": "2023-06-18T17:33:14.723Z"
   },
   {
    "duration": 39,
    "start_time": "2023-06-18T17:33:14.748Z"
   },
   {
    "duration": 350,
    "start_time": "2023-06-18T17:33:14.792Z"
   },
   {
    "duration": 1484,
    "start_time": "2023-06-18T17:35:01.847Z"
   },
   {
    "duration": 41,
    "start_time": "2023-06-18T17:35:03.333Z"
   },
   {
    "duration": 18,
    "start_time": "2023-06-18T17:35:03.376Z"
   },
   {
    "duration": 3,
    "start_time": "2023-06-18T17:35:03.396Z"
   },
   {
    "duration": 66,
    "start_time": "2023-06-18T17:35:03.400Z"
   },
   {
    "duration": 4,
    "start_time": "2023-06-18T17:35:03.468Z"
   },
   {
    "duration": 9,
    "start_time": "2023-06-18T17:35:03.474Z"
   },
   {
    "duration": 9,
    "start_time": "2023-06-18T17:35:03.484Z"
   },
   {
    "duration": 45,
    "start_time": "2023-06-18T17:35:03.494Z"
   },
   {
    "duration": 15,
    "start_time": "2023-06-18T17:35:03.542Z"
   },
   {
    "duration": 1058,
    "start_time": "2023-06-18T17:35:03.558Z"
   },
   {
    "duration": 116,
    "start_time": "2023-06-18T17:35:04.618Z"
   },
   {
    "duration": 0,
    "start_time": "2023-06-18T17:35:04.738Z"
   },
   {
    "duration": 0,
    "start_time": "2023-06-18T17:35:04.740Z"
   },
   {
    "duration": 0,
    "start_time": "2023-06-18T17:35:04.740Z"
   },
   {
    "duration": 0,
    "start_time": "2023-06-18T17:35:04.742Z"
   },
   {
    "duration": 0,
    "start_time": "2023-06-18T17:35:04.743Z"
   },
   {
    "duration": 0,
    "start_time": "2023-06-18T17:35:04.744Z"
   },
   {
    "duration": 0,
    "start_time": "2023-06-18T17:35:04.745Z"
   },
   {
    "duration": 0,
    "start_time": "2023-06-18T17:35:04.746Z"
   },
   {
    "duration": 0,
    "start_time": "2023-06-18T17:35:04.747Z"
   },
   {
    "duration": 0,
    "start_time": "2023-06-18T17:35:04.748Z"
   },
   {
    "duration": 0,
    "start_time": "2023-06-18T17:35:04.749Z"
   },
   {
    "duration": 0,
    "start_time": "2023-06-18T17:35:04.749Z"
   },
   {
    "duration": 0,
    "start_time": "2023-06-18T17:35:04.750Z"
   },
   {
    "duration": 0,
    "start_time": "2023-06-18T17:35:04.751Z"
   },
   {
    "duration": 0,
    "start_time": "2023-06-18T17:35:04.752Z"
   },
   {
    "duration": 0,
    "start_time": "2023-06-18T17:35:04.752Z"
   },
   {
    "duration": 0,
    "start_time": "2023-06-18T17:35:04.753Z"
   },
   {
    "duration": 0,
    "start_time": "2023-06-18T17:35:04.753Z"
   },
   {
    "duration": 0,
    "start_time": "2023-06-18T17:35:04.754Z"
   },
   {
    "duration": 1,
    "start_time": "2023-06-18T17:35:04.774Z"
   },
   {
    "duration": 0,
    "start_time": "2023-06-18T17:35:04.776Z"
   },
   {
    "duration": 0,
    "start_time": "2023-06-18T17:35:04.777Z"
   },
   {
    "duration": 0,
    "start_time": "2023-06-18T17:35:04.778Z"
   },
   {
    "duration": 0,
    "start_time": "2023-06-18T17:35:04.779Z"
   },
   {
    "duration": 0,
    "start_time": "2023-06-18T17:35:04.780Z"
   },
   {
    "duration": 0,
    "start_time": "2023-06-18T17:35:04.782Z"
   },
   {
    "duration": 0,
    "start_time": "2023-06-18T17:35:04.782Z"
   },
   {
    "duration": 0,
    "start_time": "2023-06-18T17:35:04.783Z"
   },
   {
    "duration": 0,
    "start_time": "2023-06-18T17:35:04.785Z"
   },
   {
    "duration": 0,
    "start_time": "2023-06-18T17:35:04.786Z"
   },
   {
    "duration": 0,
    "start_time": "2023-06-18T17:35:04.787Z"
   },
   {
    "duration": 0,
    "start_time": "2023-06-18T17:35:04.788Z"
   },
   {
    "duration": 0,
    "start_time": "2023-06-18T17:35:04.789Z"
   },
   {
    "duration": 0,
    "start_time": "2023-06-18T17:35:04.790Z"
   },
   {
    "duration": 0,
    "start_time": "2023-06-18T17:35:04.791Z"
   },
   {
    "duration": 0,
    "start_time": "2023-06-18T17:35:04.792Z"
   },
   {
    "duration": 0,
    "start_time": "2023-06-18T17:35:04.793Z"
   },
   {
    "duration": 0,
    "start_time": "2023-06-18T17:35:04.794Z"
   },
   {
    "duration": 0,
    "start_time": "2023-06-18T17:35:04.795Z"
   },
   {
    "duration": 0,
    "start_time": "2023-06-18T17:35:04.796Z"
   },
   {
    "duration": 0,
    "start_time": "2023-06-18T17:35:04.797Z"
   },
   {
    "duration": 0,
    "start_time": "2023-06-18T17:35:04.798Z"
   },
   {
    "duration": 0,
    "start_time": "2023-06-18T17:35:04.800Z"
   },
   {
    "duration": 0,
    "start_time": "2023-06-18T17:35:04.801Z"
   },
   {
    "duration": 0,
    "start_time": "2023-06-18T17:35:04.801Z"
   },
   {
    "duration": 0,
    "start_time": "2023-06-18T17:35:04.802Z"
   },
   {
    "duration": 0,
    "start_time": "2023-06-18T17:35:04.803Z"
   },
   {
    "duration": 0,
    "start_time": "2023-06-18T17:35:04.804Z"
   },
   {
    "duration": 0,
    "start_time": "2023-06-18T17:35:04.805Z"
   },
   {
    "duration": 0,
    "start_time": "2023-06-18T17:35:04.806Z"
   },
   {
    "duration": 0,
    "start_time": "2023-06-18T17:35:04.807Z"
   },
   {
    "duration": 0,
    "start_time": "2023-06-18T17:35:04.809Z"
   },
   {
    "duration": 0,
    "start_time": "2023-06-18T17:35:04.810Z"
   },
   {
    "duration": 0,
    "start_time": "2023-06-18T17:35:04.875Z"
   },
   {
    "duration": 0,
    "start_time": "2023-06-18T17:35:04.876Z"
   },
   {
    "duration": 0,
    "start_time": "2023-06-18T17:35:04.878Z"
   },
   {
    "duration": 0,
    "start_time": "2023-06-18T17:35:04.878Z"
   },
   {
    "duration": 0,
    "start_time": "2023-06-18T17:35:04.879Z"
   },
   {
    "duration": 0,
    "start_time": "2023-06-18T17:35:04.881Z"
   },
   {
    "duration": 0,
    "start_time": "2023-06-18T17:35:04.881Z"
   },
   {
    "duration": 0,
    "start_time": "2023-06-18T17:35:04.882Z"
   },
   {
    "duration": 0,
    "start_time": "2023-06-18T17:35:04.883Z"
   },
   {
    "duration": 0,
    "start_time": "2023-06-18T17:35:04.884Z"
   },
   {
    "duration": 0,
    "start_time": "2023-06-18T17:35:04.885Z"
   },
   {
    "duration": 0,
    "start_time": "2023-06-18T17:35:04.886Z"
   },
   {
    "duration": 0,
    "start_time": "2023-06-18T17:35:04.887Z"
   },
   {
    "duration": 0,
    "start_time": "2023-06-18T17:35:04.888Z"
   },
   {
    "duration": 0,
    "start_time": "2023-06-18T17:35:04.889Z"
   },
   {
    "duration": 0,
    "start_time": "2023-06-18T17:35:04.890Z"
   },
   {
    "duration": 0,
    "start_time": "2023-06-18T17:35:04.891Z"
   },
   {
    "duration": 18,
    "start_time": "2023-06-18T17:36:13.888Z"
   },
   {
    "duration": 12,
    "start_time": "2023-06-18T17:36:22.923Z"
   },
   {
    "duration": 6,
    "start_time": "2023-06-18T17:36:25.643Z"
   },
   {
    "duration": 6,
    "start_time": "2023-06-18T17:36:25.940Z"
   },
   {
    "duration": 1113,
    "start_time": "2023-06-18T17:36:26.288Z"
   },
   {
    "duration": 106,
    "start_time": "2023-06-18T17:36:32.737Z"
   },
   {
    "duration": 3,
    "start_time": "2023-06-18T17:36:34.034Z"
   },
   {
    "duration": 10,
    "start_time": "2023-06-18T17:36:37.467Z"
   },
   {
    "duration": 261,
    "start_time": "2023-06-18T17:36:37.820Z"
   },
   {
    "duration": 103,
    "start_time": "2023-06-18T17:36:38.549Z"
   },
   {
    "duration": 90,
    "start_time": "2023-06-18T17:36:38.963Z"
   },
   {
    "duration": 865,
    "start_time": "2023-06-18T17:36:39.445Z"
   },
   {
    "duration": 155,
    "start_time": "2023-06-18T17:36:40.312Z"
   },
   {
    "duration": 239,
    "start_time": "2023-06-18T17:36:40.554Z"
   },
   {
    "duration": 8,
    "start_time": "2023-06-18T17:36:41.007Z"
   },
   {
    "duration": 130,
    "start_time": "2023-06-18T17:36:41.836Z"
   },
   {
    "duration": 111,
    "start_time": "2023-06-18T17:36:42.584Z"
   },
   {
    "duration": 122,
    "start_time": "2023-06-18T17:36:43.180Z"
   },
   {
    "duration": 184,
    "start_time": "2023-06-18T17:36:43.877Z"
   },
   {
    "duration": 9,
    "start_time": "2023-06-18T17:36:44.239Z"
   },
   {
    "duration": 5,
    "start_time": "2023-06-18T17:36:44.892Z"
   },
   {
    "duration": 4,
    "start_time": "2023-06-18T17:36:45.647Z"
   },
   {
    "duration": 11,
    "start_time": "2023-06-18T17:36:49.464Z"
   },
   {
    "duration": 10,
    "start_time": "2023-06-18T17:36:50.932Z"
   },
   {
    "duration": 13,
    "start_time": "2023-06-18T17:36:52.148Z"
   },
   {
    "duration": 4,
    "start_time": "2023-06-18T17:36:54.333Z"
   },
   {
    "duration": 4,
    "start_time": "2023-06-18T17:36:56.418Z"
   },
   {
    "duration": 5,
    "start_time": "2023-06-18T17:36:56.683Z"
   },
   {
    "duration": 16,
    "start_time": "2023-06-18T17:36:57.299Z"
   },
   {
    "duration": 13,
    "start_time": "2023-06-18T17:36:57.610Z"
   },
   {
    "duration": 11,
    "start_time": "2023-06-18T17:36:58.463Z"
   },
   {
    "duration": 10,
    "start_time": "2023-06-18T17:36:59.001Z"
   },
   {
    "duration": 3,
    "start_time": "2023-06-18T17:37:02.040Z"
   },
   {
    "duration": 4,
    "start_time": "2023-06-18T17:37:02.569Z"
   },
   {
    "duration": 3,
    "start_time": "2023-06-18T17:37:03.303Z"
   },
   {
    "duration": 696,
    "start_time": "2023-06-18T17:37:03.637Z"
   },
   {
    "duration": 3,
    "start_time": "2023-06-18T17:37:10.320Z"
   },
   {
    "duration": 3,
    "start_time": "2023-06-18T17:37:10.648Z"
   },
   {
    "duration": 2,
    "start_time": "2023-06-18T17:37:10.944Z"
   },
   {
    "duration": 1592,
    "start_time": "2023-06-18T17:37:11.224Z"
   },
   {
    "duration": 3,
    "start_time": "2023-06-18T17:37:12.818Z"
   },
   {
    "duration": 33,
    "start_time": "2023-06-18T17:37:12.823Z"
   },
   {
    "duration": 379,
    "start_time": "2023-06-18T17:37:12.858Z"
   },
   {
    "duration": 3,
    "start_time": "2023-06-18T17:37:16.147Z"
   },
   {
    "duration": 3,
    "start_time": "2023-06-18T17:37:16.502Z"
   },
   {
    "duration": 2,
    "start_time": "2023-06-18T17:37:16.807Z"
   },
   {
    "duration": 52174,
    "start_time": "2023-06-18T17:37:17.141Z"
   },
   {
    "duration": 4,
    "start_time": "2023-06-18T17:38:09.316Z"
   },
   {
    "duration": 35,
    "start_time": "2023-06-18T17:38:09.322Z"
   },
   {
    "duration": 988,
    "start_time": "2023-06-18T17:38:09.359Z"
   },
   {
    "duration": 4,
    "start_time": "2023-06-18T17:38:27.382Z"
   },
   {
    "duration": 5,
    "start_time": "2023-06-18T17:38:28.226Z"
   },
   {
    "duration": 6,
    "start_time": "2023-06-18T17:38:28.567Z"
   },
   {
    "duration": 10,
    "start_time": "2023-06-18T17:38:29.316Z"
   },
   {
    "duration": 4,
    "start_time": "2023-06-18T17:38:29.907Z"
   },
   {
    "duration": 6,
    "start_time": "2023-06-18T17:38:30.131Z"
   },
   {
    "duration": 3,
    "start_time": "2023-06-18T17:38:30.529Z"
   },
   {
    "duration": 71788,
    "start_time": "2023-06-18T17:38:30.768Z"
   },
   {
    "duration": 4,
    "start_time": "2023-06-18T17:39:42.557Z"
   },
   {
    "duration": 13,
    "start_time": "2023-06-18T17:39:42.562Z"
   },
   {
    "duration": 1233,
    "start_time": "2023-06-18T17:39:42.577Z"
   },
   {
    "duration": 4,
    "start_time": "2023-06-18T17:39:58.012Z"
   },
   {
    "duration": 5,
    "start_time": "2023-06-18T17:39:58.169Z"
   },
   {
    "duration": 10,
    "start_time": "2023-06-18T17:39:58.309Z"
   },
   {
    "duration": 6,
    "start_time": "2023-06-18T17:39:59.066Z"
   },
   {
    "duration": 5,
    "start_time": "2023-06-18T17:39:59.455Z"
   },
   {
    "duration": 30771,
    "start_time": "2023-06-18T17:39:59.648Z"
   },
   {
    "duration": 3,
    "start_time": "2023-06-18T17:40:30.420Z"
   },
   {
    "duration": 723,
    "start_time": "2023-06-18T17:40:30.424Z"
   },
   {
    "duration": 52,
    "start_time": "2023-06-18T17:40:55.607Z"
   },
   {
    "duration": 50,
    "start_time": "2023-06-18T17:40:56.170Z"
   },
   {
    "duration": 394,
    "start_time": "2023-06-18T17:40:56.976Z"
   },
   {
    "duration": 33,
    "start_time": "2023-06-18T17:41:07.415Z"
   },
   {
    "duration": 34,
    "start_time": "2023-06-18T17:41:09.083Z"
   },
   {
    "duration": 39,
    "start_time": "2023-06-18T17:41:09.240Z"
   },
   {
    "duration": 357,
    "start_time": "2023-06-18T17:41:09.380Z"
   },
   {
    "duration": 47,
    "start_time": "2023-06-18T17:41:57.802Z"
   },
   {
    "duration": 46,
    "start_time": "2023-06-18T17:41:57.992Z"
   },
   {
    "duration": 369,
    "start_time": "2023-06-18T17:41:58.081Z"
   },
   {
    "duration": 34,
    "start_time": "2023-06-18T17:42:07.345Z"
   },
   {
    "duration": 35,
    "start_time": "2023-06-18T17:42:07.493Z"
   },
   {
    "duration": 454,
    "start_time": "2023-06-18T17:42:08.031Z"
   },
   {
    "duration": 55,
    "start_time": "2023-06-18T17:43:30.997Z"
   },
   {
    "duration": 50,
    "start_time": "2023-06-18T17:43:31.212Z"
   },
   {
    "duration": 403,
    "start_time": "2023-06-18T17:43:31.746Z"
   },
   {
    "duration": 1381,
    "start_time": "2023-06-18T17:46:19.455Z"
   },
   {
    "duration": 42,
    "start_time": "2023-06-18T17:46:20.837Z"
   },
   {
    "duration": 16,
    "start_time": "2023-06-18T17:46:20.881Z"
   },
   {
    "duration": 3,
    "start_time": "2023-06-18T17:46:20.899Z"
   },
   {
    "duration": 30,
    "start_time": "2023-06-18T17:46:20.904Z"
   },
   {
    "duration": 5,
    "start_time": "2023-06-18T17:46:20.936Z"
   },
   {
    "duration": 10,
    "start_time": "2023-06-18T17:46:20.942Z"
   },
   {
    "duration": 7,
    "start_time": "2023-06-18T17:46:20.974Z"
   },
   {
    "duration": 14,
    "start_time": "2023-06-18T17:46:20.983Z"
   },
   {
    "duration": 5,
    "start_time": "2023-06-18T17:46:20.999Z"
   },
   {
    "duration": 1106,
    "start_time": "2023-06-18T17:46:21.006Z"
   },
   {
    "duration": 8,
    "start_time": "2023-06-18T17:46:22.114Z"
   },
   {
    "duration": 4,
    "start_time": "2023-06-18T17:46:22.124Z"
   },
   {
    "duration": 8,
    "start_time": "2023-06-18T17:46:22.131Z"
   },
   {
    "duration": 1138,
    "start_time": "2023-06-18T17:46:22.140Z"
   },
   {
    "duration": 104,
    "start_time": "2023-06-18T17:46:23.280Z"
   },
   {
    "duration": 2,
    "start_time": "2023-06-18T17:46:23.386Z"
   },
   {
    "duration": 15,
    "start_time": "2023-06-18T17:46:23.389Z"
   },
   {
    "duration": 247,
    "start_time": "2023-06-18T17:46:23.405Z"
   },
   {
    "duration": 101,
    "start_time": "2023-06-18T17:46:23.654Z"
   },
   {
    "duration": 105,
    "start_time": "2023-06-18T17:46:23.757Z"
   },
   {
    "duration": 852,
    "start_time": "2023-06-18T17:46:23.864Z"
   },
   {
    "duration": 163,
    "start_time": "2023-06-18T17:46:24.717Z"
   },
   {
    "duration": 168,
    "start_time": "2023-06-18T17:46:24.881Z"
   },
   {
    "duration": 8,
    "start_time": "2023-06-18T17:46:25.051Z"
   },
   {
    "duration": 250,
    "start_time": "2023-06-18T17:46:25.061Z"
   },
   {
    "duration": 127,
    "start_time": "2023-06-18T17:46:25.313Z"
   },
   {
    "duration": 119,
    "start_time": "2023-06-18T17:46:25.442Z"
   },
   {
    "duration": 180,
    "start_time": "2023-06-18T17:46:25.562Z"
   },
   {
    "duration": 8,
    "start_time": "2023-06-18T17:46:25.744Z"
   },
   {
    "duration": 12,
    "start_time": "2023-06-18T17:46:25.754Z"
   },
   {
    "duration": 4,
    "start_time": "2023-06-18T17:46:25.775Z"
   },
   {
    "duration": 31,
    "start_time": "2023-06-18T17:46:25.780Z"
   },
   {
    "duration": 27,
    "start_time": "2023-06-18T17:46:25.813Z"
   },
   {
    "duration": 27,
    "start_time": "2023-06-18T17:46:25.842Z"
   },
   {
    "duration": 4,
    "start_time": "2023-06-18T17:46:25.870Z"
   },
   {
    "duration": 30,
    "start_time": "2023-06-18T17:46:25.876Z"
   },
   {
    "duration": 44,
    "start_time": "2023-06-18T17:46:25.908Z"
   },
   {
    "duration": 18,
    "start_time": "2023-06-18T17:46:25.954Z"
   },
   {
    "duration": 12,
    "start_time": "2023-06-18T17:46:25.974Z"
   },
   {
    "duration": 12,
    "start_time": "2023-06-18T17:46:25.990Z"
   },
   {
    "duration": 9,
    "start_time": "2023-06-18T17:46:26.004Z"
   },
   {
    "duration": 3,
    "start_time": "2023-06-18T17:46:26.015Z"
   },
   {
    "duration": 7,
    "start_time": "2023-06-18T17:46:26.020Z"
   },
   {
    "duration": 19,
    "start_time": "2023-06-18T17:46:26.029Z"
   },
   {
    "duration": 814,
    "start_time": "2023-06-18T17:46:26.049Z"
   },
   {
    "duration": 11,
    "start_time": "2023-06-18T17:46:26.865Z"
   },
   {
    "duration": 16,
    "start_time": "2023-06-18T17:46:26.878Z"
   },
   {
    "duration": 7,
    "start_time": "2023-06-18T17:46:26.896Z"
   },
   {
    "duration": 1601,
    "start_time": "2023-06-18T17:46:26.905Z"
   },
   {
    "duration": 4,
    "start_time": "2023-06-18T17:46:28.508Z"
   },
   {
    "duration": 7,
    "start_time": "2023-06-18T17:46:28.513Z"
   },
   {
    "duration": 453,
    "start_time": "2023-06-18T17:46:28.522Z"
   },
   {
    "duration": 3,
    "start_time": "2023-06-18T17:46:28.977Z"
   },
   {
    "duration": 7,
    "start_time": "2023-06-18T17:46:28.981Z"
   },
   {
    "duration": 8,
    "start_time": "2023-06-18T17:46:28.989Z"
   },
   {
    "duration": 65758,
    "start_time": "2023-06-18T17:46:28.998Z"
   },
   {
    "duration": 4,
    "start_time": "2023-06-18T17:47:34.757Z"
   },
   {
    "duration": 13,
    "start_time": "2023-06-18T17:47:34.763Z"
   },
   {
    "duration": 994,
    "start_time": "2023-06-18T17:47:34.777Z"
   },
   {
    "duration": 4,
    "start_time": "2023-06-18T17:47:35.772Z"
   },
   {
    "duration": 41,
    "start_time": "2023-06-18T17:47:35.778Z"
   },
   {
    "duration": 22,
    "start_time": "2023-06-18T17:47:35.821Z"
   },
   {
    "duration": 42,
    "start_time": "2023-06-18T17:47:35.844Z"
   },
   {
    "duration": 22,
    "start_time": "2023-06-18T17:47:35.887Z"
   },
   {
    "duration": 24,
    "start_time": "2023-06-18T17:47:35.910Z"
   },
   {
    "duration": 24,
    "start_time": "2023-06-18T17:47:35.936Z"
   },
   {
    "duration": 89758,
    "start_time": "2023-06-18T17:47:35.962Z"
   },
   {
    "duration": 4,
    "start_time": "2023-06-18T17:49:05.722Z"
   },
   {
    "duration": 29,
    "start_time": "2023-06-18T17:49:05.728Z"
   },
   {
    "duration": 1417,
    "start_time": "2023-06-18T17:49:05.758Z"
   },
   {
    "duration": 5,
    "start_time": "2023-06-18T17:49:07.177Z"
   },
   {
    "duration": 17,
    "start_time": "2023-06-18T17:49:07.184Z"
   },
   {
    "duration": 17,
    "start_time": "2023-06-18T17:49:07.203Z"
   },
   {
    "duration": 45,
    "start_time": "2023-06-18T17:49:07.222Z"
   },
   {
    "duration": 17,
    "start_time": "2023-06-18T17:49:07.269Z"
   },
   {
    "duration": 37988,
    "start_time": "2023-06-18T17:49:07.288Z"
   },
   {
    "duration": 2,
    "start_time": "2023-06-18T17:49:45.278Z"
   },
   {
    "duration": 773,
    "start_time": "2023-06-18T17:49:45.282Z"
   },
   {
    "duration": 58,
    "start_time": "2023-06-18T17:49:46.057Z"
   },
   {
    "duration": 91,
    "start_time": "2023-06-18T17:49:46.117Z"
   },
   {
    "duration": 434,
    "start_time": "2023-06-18T17:49:46.210Z"
   },
   {
    "duration": 40,
    "start_time": "2023-06-18T17:49:59.217Z"
   },
   {
    "duration": 43,
    "start_time": "2023-06-18T17:49:59.372Z"
   },
   {
    "duration": 374,
    "start_time": "2023-06-18T17:49:59.496Z"
   },
   {
    "duration": 10,
    "start_time": "2023-06-18T17:50:15.316Z"
   },
   {
    "duration": 6,
    "start_time": "2023-06-18T17:50:16.345Z"
   },
   {
    "duration": 6,
    "start_time": "2023-06-18T17:50:16.716Z"
   },
   {
    "duration": 37600,
    "start_time": "2023-06-18T17:50:17.041Z"
   },
   {
    "duration": 3,
    "start_time": "2023-06-18T17:50:54.644Z"
   },
   {
    "duration": 1087,
    "start_time": "2023-06-18T17:50:54.649Z"
   },
   {
    "duration": 122,
    "start_time": "2023-06-18T17:51:13.363Z"
   },
   {
    "duration": 10,
    "start_time": "2023-06-18T17:51:17.344Z"
   },
   {
    "duration": 70,
    "start_time": "2023-06-18T17:51:22.137Z"
   },
   {
    "duration": 66,
    "start_time": "2023-06-18T17:51:22.370Z"
   },
   {
    "duration": 359,
    "start_time": "2023-06-18T17:51:23.983Z"
   },
   {
    "duration": 6,
    "start_time": "2023-06-18T17:55:05.744Z"
   },
   {
    "duration": 6,
    "start_time": "2023-06-18T17:55:06.961Z"
   },
   {
    "duration": 10,
    "start_time": "2023-06-18T17:55:07.753Z"
   },
   {
    "duration": 6,
    "start_time": "2023-06-18T17:55:10.222Z"
   },
   {
    "duration": 6,
    "start_time": "2023-06-18T17:55:10.792Z"
   },
   {
    "duration": 3,
    "start_time": "2023-06-18T17:55:11.447Z"
   },
   {
    "duration": 90187,
    "start_time": "2023-06-18T17:55:12.068Z"
   },
   {
    "duration": 4,
    "start_time": "2023-06-18T17:56:42.257Z"
   },
   {
    "duration": 19,
    "start_time": "2023-06-18T17:56:42.262Z"
   },
   {
    "duration": 1165,
    "start_time": "2023-06-18T17:56:42.284Z"
   },
   {
    "duration": 4,
    "start_time": "2023-06-18T17:56:43.451Z"
   },
   {
    "duration": 37,
    "start_time": "2023-06-18T17:56:43.456Z"
   },
   {
    "duration": 22,
    "start_time": "2023-06-18T17:56:43.495Z"
   },
   {
    "duration": 43,
    "start_time": "2023-06-18T17:56:43.519Z"
   },
   {
    "duration": 23,
    "start_time": "2023-06-18T17:56:43.564Z"
   },
   {
    "duration": 37972,
    "start_time": "2023-06-18T17:56:43.589Z"
   },
   {
    "duration": 3,
    "start_time": "2023-06-18T17:57:21.562Z"
   },
   {
    "duration": 995,
    "start_time": "2023-06-18T17:57:21.567Z"
   },
   {
    "duration": 52,
    "start_time": "2023-06-18T17:59:05.232Z"
   },
   {
    "duration": 52,
    "start_time": "2023-06-18T17:59:05.382Z"
   },
   {
    "duration": 375,
    "start_time": "2023-06-18T17:59:05.530Z"
   },
   {
    "duration": 64,
    "start_time": "2023-06-18T18:01:59.165Z"
   },
   {
    "duration": 60,
    "start_time": "2023-06-18T18:02:08.628Z"
   },
   {
    "duration": 501,
    "start_time": "2023-06-18T18:02:15.042Z"
   }
  ],
  "kernelspec": {
   "display_name": "Python 3 (ipykernel)",
   "language": "python",
   "name": "python3"
  },
  "language_info": {
   "codemirror_mode": {
    "name": "ipython",
    "version": 3
   },
   "file_extension": ".py",
   "mimetype": "text/x-python",
   "name": "python",
   "nbconvert_exporter": "python",
   "pygments_lexer": "ipython3",
   "version": "3.9.12"
  },
  "toc": {
   "base_numbering": 1,
   "nav_menu": {},
   "number_sections": true,
   "sideBar": true,
   "skip_h1_title": true,
   "title_cell": "Содержание",
   "title_sidebar": "Contents",
   "toc_cell": true,
   "toc_position": {
    "height": "calc(100% - 180px)",
    "left": "10px",
    "top": "150px",
    "width": "371px"
   },
   "toc_section_display": true,
   "toc_window_display": true
  }
 },
 "nbformat": 4,
 "nbformat_minor": 4
}
