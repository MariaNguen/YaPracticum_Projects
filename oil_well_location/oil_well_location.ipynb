{
 "cells": [
  {
   "cell_type": "markdown",
   "metadata": {},
   "source": [
    "# Выбор локации для скважины"
   ]
  },
  {
   "cell_type": "markdown",
   "metadata": {},
   "source": [
    "Допустим, вы работаете в добывающей компании «ГлавРосГосНефть». Нужно решить, где бурить новую скважину.\n",
    "\n",
    "Вам предоставлены пробы нефти в трёх регионах: в каждом 10 000 месторождений, где измерили качество нефти и объём её запасов. Постройте модель машинного обучения, которая поможет определить регион, где добыча принесёт наибольшую прибыль. Проанализируйте возможную прибыль и риски техникой *Bootstrap.*\n",
    "\n",
    "Шаги для выбора локации:\n",
    "\n",
    "- В избранном регионе ищут месторождения, для каждого определяют значения признаков;\n",
    "- Строят модель и оценивают объём запасов;\n",
    "- Выбирают месторождения с самым высокими оценками значений. Количество месторождений зависит от бюджета компании и стоимости разработки одной скважины;\n",
    "- Прибыль равна суммарной прибыли отобранных месторождений."
   ]
  },
  {
   "cell_type": "markdown",
   "metadata": {},
   "source": [
    "## Загрузка и подготовка данных"
   ]
  },
  {
   "cell_type": "code",
   "execution_count": 1,
   "metadata": {},
   "outputs": [],
   "source": [
    "import pandas as pd\n",
    "import matplotlib.pyplot as plt\n",
    "import seaborn as sns\n",
    "from sklearn.model_selection import train_test_split\n",
    "from sklearn.linear_model import LinearRegression\n",
    "from sklearn.metrics import mean_squared_error\n",
    "from sklearn.preprocessing import StandardScaler\n",
    "import numpy as np"
   ]
  },
  {
   "cell_type": "markdown",
   "metadata": {},
   "source": [
    "### Загрузка данных"
   ]
  },
  {
   "cell_type": "code",
   "execution_count": 2,
   "metadata": {},
   "outputs": [],
   "source": [
    "data_0 = pd.read_csv('/datasets/geo_data_0.csv')\n",
    "data_1 = pd.read_csv('/datasets/geo_data_1.csv')\n",
    "data_2 = pd.read_csv('/datasets/geo_data_2.csv')"
   ]
  },
  {
   "cell_type": "code",
   "execution_count": 3,
   "metadata": {},
   "outputs": [
    {
     "name": "stdout",
     "output_type": "stream",
     "text": [
      "(100000, 5)\n",
      "(100000, 5)\n"
     ]
    },
    {
     "data": {
      "text/plain": [
       "(100000, 5)"
      ]
     },
     "execution_count": 3,
     "metadata": {},
     "output_type": "execute_result"
    }
   ],
   "source": [
    "print(data_0.shape)\n",
    "print(data_1.shape)\n",
    "data_2.shape"
   ]
  },
  {
   "cell_type": "code",
   "execution_count": 4,
   "metadata": {},
   "outputs": [],
   "source": [
    "def basic_data_info(data):\n",
    "    print('Первые пять строк:')\n",
    "    print(data.head())\n",
    "    print('\\nИнформация:')\n",
    "    print(data.info())\n",
    "    print('\\nНаличие пропусков:')\n",
    "    print(data.isna().sum())\n",
    "    print('\\nНаличие дубликатов:')\n",
    "    print(data.duplicated().sum())\n",
    "    print('\\nСтатистическое описание данных:')\n",
    "    print(data.describe())"
   ]
  },
  {
   "cell_type": "code",
   "execution_count": 5,
   "metadata": {},
   "outputs": [
    {
     "name": "stdout",
     "output_type": "stream",
     "text": [
      "Первые пять строк:\n",
      "      id        f0        f1        f2     product\n",
      "0  txEyH  0.705745 -0.497823  1.221170  105.280062\n",
      "1  2acmU  1.334711 -0.340164  4.365080   73.037750\n",
      "2  409Wp  1.022732  0.151990  1.419926   85.265647\n",
      "3  iJLyR -0.032172  0.139033  2.978566  168.620776\n",
      "4  Xdl7t  1.988431  0.155413  4.751769  154.036647\n",
      "\n",
      "Информация:\n",
      "<class 'pandas.core.frame.DataFrame'>\n",
      "RangeIndex: 100000 entries, 0 to 99999\n",
      "Data columns (total 5 columns):\n",
      " #   Column   Non-Null Count   Dtype  \n",
      "---  ------   --------------   -----  \n",
      " 0   id       100000 non-null  object \n",
      " 1   f0       100000 non-null  float64\n",
      " 2   f1       100000 non-null  float64\n",
      " 3   f2       100000 non-null  float64\n",
      " 4   product  100000 non-null  float64\n",
      "dtypes: float64(4), object(1)\n",
      "memory usage: 3.8+ MB\n",
      "None\n",
      "\n",
      "Наличие пропусков:\n",
      "id         0\n",
      "f0         0\n",
      "f1         0\n",
      "f2         0\n",
      "product    0\n",
      "dtype: int64\n",
      "\n",
      "Наличие дубликатов:\n",
      "0\n",
      "\n",
      "Статистическое описание данных:\n",
      "                  f0             f1             f2        product\n",
      "count  100000.000000  100000.000000  100000.000000  100000.000000\n",
      "mean        0.500419       0.250143       2.502647      92.500000\n",
      "std         0.871832       0.504433       3.248248      44.288691\n",
      "min        -1.408605      -0.848218     -12.088328       0.000000\n",
      "25%        -0.072580      -0.200881       0.287748      56.497507\n",
      "50%         0.502360       0.250252       2.515969      91.849972\n",
      "75%         1.073581       0.700646       4.715088     128.564089\n",
      "max         2.362331       1.343769      16.003790     185.364347\n"
     ]
    }
   ],
   "source": [
    "basic_data_info(data_0)"
   ]
  },
  {
   "cell_type": "code",
   "execution_count": 6,
   "metadata": {},
   "outputs": [
    {
     "name": "stdout",
     "output_type": "stream",
     "text": [
      "Первые пять строк:\n",
      "      id         f0         f1        f2     product\n",
      "0  kBEdx -15.001348  -8.276000 -0.005876    3.179103\n",
      "1  62mP7  14.272088  -3.475083  0.999183   26.953261\n",
      "2  vyE1P   6.263187  -5.948386  5.001160  134.766305\n",
      "3  KcrkZ -13.081196 -11.506057  4.999415  137.945408\n",
      "4  AHL4O  12.702195  -8.147433  5.004363  134.766305\n",
      "\n",
      "Информация:\n",
      "<class 'pandas.core.frame.DataFrame'>\n",
      "RangeIndex: 100000 entries, 0 to 99999\n",
      "Data columns (total 5 columns):\n",
      " #   Column   Non-Null Count   Dtype  \n",
      "---  ------   --------------   -----  \n",
      " 0   id       100000 non-null  object \n",
      " 1   f0       100000 non-null  float64\n",
      " 2   f1       100000 non-null  float64\n",
      " 3   f2       100000 non-null  float64\n",
      " 4   product  100000 non-null  float64\n",
      "dtypes: float64(4), object(1)\n",
      "memory usage: 3.8+ MB\n",
      "None\n",
      "\n",
      "Наличие пропусков:\n",
      "id         0\n",
      "f0         0\n",
      "f1         0\n",
      "f2         0\n",
      "product    0\n",
      "dtype: int64\n",
      "\n",
      "Наличие дубликатов:\n",
      "0\n",
      "\n",
      "Статистическое описание данных:\n",
      "                  f0             f1             f2        product\n",
      "count  100000.000000  100000.000000  100000.000000  100000.000000\n",
      "mean        1.141296      -4.796579       2.494541      68.825000\n",
      "std         8.965932       5.119872       1.703572      45.944423\n",
      "min       -31.609576     -26.358598      -0.018144       0.000000\n",
      "25%        -6.298551      -8.267985       1.000021      26.953261\n",
      "50%         1.153055      -4.813172       2.011479      57.085625\n",
      "75%         8.621015      -1.332816       3.999904     107.813044\n",
      "max        29.421755      18.734063       5.019721     137.945408\n"
     ]
    }
   ],
   "source": [
    "basic_data_info(data_1)"
   ]
  },
  {
   "cell_type": "code",
   "execution_count": 7,
   "metadata": {},
   "outputs": [
    {
     "name": "stdout",
     "output_type": "stream",
     "text": [
      "Первые пять строк:\n",
      "      id        f0        f1        f2     product\n",
      "0  fwXo0 -1.146987  0.963328 -0.828965   27.758673\n",
      "1  WJtFt  0.262778  0.269839 -2.530187   56.069697\n",
      "2  ovLUW  0.194587  0.289035 -5.586433   62.871910\n",
      "3  q6cA6  2.236060 -0.553760  0.930038  114.572842\n",
      "4  WPMUX -0.515993  1.716266  5.899011  149.600746\n",
      "\n",
      "Информация:\n",
      "<class 'pandas.core.frame.DataFrame'>\n",
      "RangeIndex: 100000 entries, 0 to 99999\n",
      "Data columns (total 5 columns):\n",
      " #   Column   Non-Null Count   Dtype  \n",
      "---  ------   --------------   -----  \n",
      " 0   id       100000 non-null  object \n",
      " 1   f0       100000 non-null  float64\n",
      " 2   f1       100000 non-null  float64\n",
      " 3   f2       100000 non-null  float64\n",
      " 4   product  100000 non-null  float64\n",
      "dtypes: float64(4), object(1)\n",
      "memory usage: 3.8+ MB\n",
      "None\n",
      "\n",
      "Наличие пропусков:\n",
      "id         0\n",
      "f0         0\n",
      "f1         0\n",
      "f2         0\n",
      "product    0\n",
      "dtype: int64\n",
      "\n",
      "Наличие дубликатов:\n",
      "0\n",
      "\n",
      "Статистическое описание данных:\n",
      "                  f0             f1             f2        product\n",
      "count  100000.000000  100000.000000  100000.000000  100000.000000\n",
      "mean        0.002023      -0.002081       2.495128      95.000000\n",
      "std         1.732045       1.730417       3.473445      44.749921\n",
      "min        -8.760004      -7.084020     -11.970335       0.000000\n",
      "25%        -1.162288      -1.174820       0.130359      59.450441\n",
      "50%         0.009424      -0.009482       2.484236      94.925613\n",
      "75%         1.158535       1.163678       4.858794     130.595027\n",
      "max         7.238262       7.844801      16.739402     190.029838\n"
     ]
    }
   ],
   "source": [
    "basic_data_info(data_2)"
   ]
  },
  {
   "cell_type": "markdown",
   "metadata": {},
   "source": [
    "Мы загрузили данные по трем регионам в три датафрейма `data_0`, `data_1`, `data_2`. В каждом датафрейме было по 100000 строк-наблюдений. В датафреймах есть 5 колонок. В колонке `id` записаны строковые данные, в колонках `f0`, `f1`, `f2` и `product` - численные данные типа `float64`. В данных нет пропусков и дубликатов."
   ]
  },
  {
   "cell_type": "markdown",
   "metadata": {},
   "source": [
    "### Подготовка данных"
   ]
  },
  {
   "cell_type": "markdown",
   "metadata": {},
   "source": [
    "Целевой переменной в данных является `product`, а признаки содержатся в колонках `f0`, `f1`, `f2`. Колонка `id` отвечает за уникальный идентификатор месторождения и не будет участвовать в обучении."
   ]
  },
  {
   "cell_type": "code",
   "execution_count": 8,
   "metadata": {},
   "outputs": [
    {
     "data": {
      "text/html": [
       "<div>\n",
       "<style scoped>\n",
       "    .dataframe tbody tr th:only-of-type {\n",
       "        vertical-align: middle;\n",
       "    }\n",
       "\n",
       "    .dataframe tbody tr th {\n",
       "        vertical-align: top;\n",
       "    }\n",
       "\n",
       "    .dataframe thead th {\n",
       "        text-align: right;\n",
       "    }\n",
       "</style>\n",
       "<table border=\"1\" class=\"dataframe\">\n",
       "  <thead>\n",
       "    <tr style=\"text-align: right;\">\n",
       "      <th></th>\n",
       "      <th>f0</th>\n",
       "      <th>f1</th>\n",
       "      <th>f2</th>\n",
       "      <th>product</th>\n",
       "    </tr>\n",
       "  </thead>\n",
       "  <tbody>\n",
       "    <tr>\n",
       "      <th>count</th>\n",
       "      <td>100000.000000</td>\n",
       "      <td>100000.000000</td>\n",
       "      <td>100000.000000</td>\n",
       "      <td>100000.000000</td>\n",
       "    </tr>\n",
       "    <tr>\n",
       "      <th>mean</th>\n",
       "      <td>0.500419</td>\n",
       "      <td>0.250143</td>\n",
       "      <td>2.502647</td>\n",
       "      <td>92.500000</td>\n",
       "    </tr>\n",
       "    <tr>\n",
       "      <th>std</th>\n",
       "      <td>0.871832</td>\n",
       "      <td>0.504433</td>\n",
       "      <td>3.248248</td>\n",
       "      <td>44.288691</td>\n",
       "    </tr>\n",
       "    <tr>\n",
       "      <th>min</th>\n",
       "      <td>-1.408605</td>\n",
       "      <td>-0.848218</td>\n",
       "      <td>-12.088328</td>\n",
       "      <td>0.000000</td>\n",
       "    </tr>\n",
       "    <tr>\n",
       "      <th>25%</th>\n",
       "      <td>-0.072580</td>\n",
       "      <td>-0.200881</td>\n",
       "      <td>0.287748</td>\n",
       "      <td>56.497507</td>\n",
       "    </tr>\n",
       "    <tr>\n",
       "      <th>50%</th>\n",
       "      <td>0.502360</td>\n",
       "      <td>0.250252</td>\n",
       "      <td>2.515969</td>\n",
       "      <td>91.849972</td>\n",
       "    </tr>\n",
       "    <tr>\n",
       "      <th>75%</th>\n",
       "      <td>1.073581</td>\n",
       "      <td>0.700646</td>\n",
       "      <td>4.715088</td>\n",
       "      <td>128.564089</td>\n",
       "    </tr>\n",
       "    <tr>\n",
       "      <th>max</th>\n",
       "      <td>2.362331</td>\n",
       "      <td>1.343769</td>\n",
       "      <td>16.003790</td>\n",
       "      <td>185.364347</td>\n",
       "    </tr>\n",
       "  </tbody>\n",
       "</table>\n",
       "</div>"
      ],
      "text/plain": [
       "                  f0             f1             f2        product\n",
       "count  100000.000000  100000.000000  100000.000000  100000.000000\n",
       "mean        0.500419       0.250143       2.502647      92.500000\n",
       "std         0.871832       0.504433       3.248248      44.288691\n",
       "min        -1.408605      -0.848218     -12.088328       0.000000\n",
       "25%        -0.072580      -0.200881       0.287748      56.497507\n",
       "50%         0.502360       0.250252       2.515969      91.849972\n",
       "75%         1.073581       0.700646       4.715088     128.564089\n",
       "max         2.362331       1.343769      16.003790     185.364347"
      ]
     },
     "execution_count": 8,
     "metadata": {},
     "output_type": "execute_result"
    }
   ],
   "source": [
    "data_0.describe()"
   ]
  },
  {
   "cell_type": "code",
   "execution_count": 9,
   "metadata": {},
   "outputs": [
    {
     "data": {
      "text/html": [
       "<div>\n",
       "<style scoped>\n",
       "    .dataframe tbody tr th:only-of-type {\n",
       "        vertical-align: middle;\n",
       "    }\n",
       "\n",
       "    .dataframe tbody tr th {\n",
       "        vertical-align: top;\n",
       "    }\n",
       "\n",
       "    .dataframe thead th {\n",
       "        text-align: right;\n",
       "    }\n",
       "</style>\n",
       "<table border=\"1\" class=\"dataframe\">\n",
       "  <thead>\n",
       "    <tr style=\"text-align: right;\">\n",
       "      <th></th>\n",
       "      <th>f0</th>\n",
       "      <th>f1</th>\n",
       "      <th>f2</th>\n",
       "      <th>product</th>\n",
       "    </tr>\n",
       "  </thead>\n",
       "  <tbody>\n",
       "    <tr>\n",
       "      <th>count</th>\n",
       "      <td>100000.000000</td>\n",
       "      <td>100000.000000</td>\n",
       "      <td>100000.000000</td>\n",
       "      <td>100000.000000</td>\n",
       "    </tr>\n",
       "    <tr>\n",
       "      <th>mean</th>\n",
       "      <td>1.141296</td>\n",
       "      <td>-4.796579</td>\n",
       "      <td>2.494541</td>\n",
       "      <td>68.825000</td>\n",
       "    </tr>\n",
       "    <tr>\n",
       "      <th>std</th>\n",
       "      <td>8.965932</td>\n",
       "      <td>5.119872</td>\n",
       "      <td>1.703572</td>\n",
       "      <td>45.944423</td>\n",
       "    </tr>\n",
       "    <tr>\n",
       "      <th>min</th>\n",
       "      <td>-31.609576</td>\n",
       "      <td>-26.358598</td>\n",
       "      <td>-0.018144</td>\n",
       "      <td>0.000000</td>\n",
       "    </tr>\n",
       "    <tr>\n",
       "      <th>25%</th>\n",
       "      <td>-6.298551</td>\n",
       "      <td>-8.267985</td>\n",
       "      <td>1.000021</td>\n",
       "      <td>26.953261</td>\n",
       "    </tr>\n",
       "    <tr>\n",
       "      <th>50%</th>\n",
       "      <td>1.153055</td>\n",
       "      <td>-4.813172</td>\n",
       "      <td>2.011479</td>\n",
       "      <td>57.085625</td>\n",
       "    </tr>\n",
       "    <tr>\n",
       "      <th>75%</th>\n",
       "      <td>8.621015</td>\n",
       "      <td>-1.332816</td>\n",
       "      <td>3.999904</td>\n",
       "      <td>107.813044</td>\n",
       "    </tr>\n",
       "    <tr>\n",
       "      <th>max</th>\n",
       "      <td>29.421755</td>\n",
       "      <td>18.734063</td>\n",
       "      <td>5.019721</td>\n",
       "      <td>137.945408</td>\n",
       "    </tr>\n",
       "  </tbody>\n",
       "</table>\n",
       "</div>"
      ],
      "text/plain": [
       "                  f0             f1             f2        product\n",
       "count  100000.000000  100000.000000  100000.000000  100000.000000\n",
       "mean        1.141296      -4.796579       2.494541      68.825000\n",
       "std         8.965932       5.119872       1.703572      45.944423\n",
       "min       -31.609576     -26.358598      -0.018144       0.000000\n",
       "25%        -6.298551      -8.267985       1.000021      26.953261\n",
       "50%         1.153055      -4.813172       2.011479      57.085625\n",
       "75%         8.621015      -1.332816       3.999904     107.813044\n",
       "max        29.421755      18.734063       5.019721     137.945408"
      ]
     },
     "execution_count": 9,
     "metadata": {},
     "output_type": "execute_result"
    }
   ],
   "source": [
    "data_1.describe()"
   ]
  },
  {
   "cell_type": "code",
   "execution_count": 10,
   "metadata": {},
   "outputs": [
    {
     "data": {
      "text/html": [
       "<div>\n",
       "<style scoped>\n",
       "    .dataframe tbody tr th:only-of-type {\n",
       "        vertical-align: middle;\n",
       "    }\n",
       "\n",
       "    .dataframe tbody tr th {\n",
       "        vertical-align: top;\n",
       "    }\n",
       "\n",
       "    .dataframe thead th {\n",
       "        text-align: right;\n",
       "    }\n",
       "</style>\n",
       "<table border=\"1\" class=\"dataframe\">\n",
       "  <thead>\n",
       "    <tr style=\"text-align: right;\">\n",
       "      <th></th>\n",
       "      <th>f0</th>\n",
       "      <th>f1</th>\n",
       "      <th>f2</th>\n",
       "      <th>product</th>\n",
       "    </tr>\n",
       "  </thead>\n",
       "  <tbody>\n",
       "    <tr>\n",
       "      <th>count</th>\n",
       "      <td>100000.000000</td>\n",
       "      <td>100000.000000</td>\n",
       "      <td>100000.000000</td>\n",
       "      <td>100000.000000</td>\n",
       "    </tr>\n",
       "    <tr>\n",
       "      <th>mean</th>\n",
       "      <td>0.002023</td>\n",
       "      <td>-0.002081</td>\n",
       "      <td>2.495128</td>\n",
       "      <td>95.000000</td>\n",
       "    </tr>\n",
       "    <tr>\n",
       "      <th>std</th>\n",
       "      <td>1.732045</td>\n",
       "      <td>1.730417</td>\n",
       "      <td>3.473445</td>\n",
       "      <td>44.749921</td>\n",
       "    </tr>\n",
       "    <tr>\n",
       "      <th>min</th>\n",
       "      <td>-8.760004</td>\n",
       "      <td>-7.084020</td>\n",
       "      <td>-11.970335</td>\n",
       "      <td>0.000000</td>\n",
       "    </tr>\n",
       "    <tr>\n",
       "      <th>25%</th>\n",
       "      <td>-1.162288</td>\n",
       "      <td>-1.174820</td>\n",
       "      <td>0.130359</td>\n",
       "      <td>59.450441</td>\n",
       "    </tr>\n",
       "    <tr>\n",
       "      <th>50%</th>\n",
       "      <td>0.009424</td>\n",
       "      <td>-0.009482</td>\n",
       "      <td>2.484236</td>\n",
       "      <td>94.925613</td>\n",
       "    </tr>\n",
       "    <tr>\n",
       "      <th>75%</th>\n",
       "      <td>1.158535</td>\n",
       "      <td>1.163678</td>\n",
       "      <td>4.858794</td>\n",
       "      <td>130.595027</td>\n",
       "    </tr>\n",
       "    <tr>\n",
       "      <th>max</th>\n",
       "      <td>7.238262</td>\n",
       "      <td>7.844801</td>\n",
       "      <td>16.739402</td>\n",
       "      <td>190.029838</td>\n",
       "    </tr>\n",
       "  </tbody>\n",
       "</table>\n",
       "</div>"
      ],
      "text/plain": [
       "                  f0             f1             f2        product\n",
       "count  100000.000000  100000.000000  100000.000000  100000.000000\n",
       "mean        0.002023      -0.002081       2.495128      95.000000\n",
       "std         1.732045       1.730417       3.473445      44.749921\n",
       "min        -8.760004      -7.084020     -11.970335       0.000000\n",
       "25%        -1.162288      -1.174820       0.130359      59.450441\n",
       "50%         0.009424      -0.009482       2.484236      94.925613\n",
       "75%         1.158535       1.163678       4.858794     130.595027\n",
       "max         7.238262       7.844801      16.739402     190.029838"
      ]
     },
     "execution_count": 10,
     "metadata": {},
     "output_type": "execute_result"
    }
   ],
   "source": [
    "data_2.describe()"
   ]
  },
  {
   "cell_type": "markdown",
   "metadata": {},
   "source": [
    "Среди признаков нет категориальных, то есть нам не нужно выполнять преобразование категориальных признаков в численные. Также кажется, что нет необходимости масштабировать признаки, т.к. значения имеют схожий масштаб.\n",
    "\n",
    "<small>Можно было бы масштабировать признаки для региона 1, но это никак не повлияет на результаты.</small>"
   ]
  },
  {
   "cell_type": "markdown",
   "metadata": {},
   "source": [
    "Посмотрим на матрицы корреляции признаков."
   ]
  },
  {
   "cell_type": "code",
   "execution_count": 11,
   "metadata": {},
   "outputs": [
    {
     "data": {
      "image/png": "[encoded data removed]",
      "text/plain": [
       "<Figure size 864x720 with 2 Axes>"
      ]
     },
     "metadata": {
      "needs_background": "light"
     },
     "output_type": "display_data"
    }
   ],
   "source": [
    "fig, ax = plt.subplots(figsize=(12,10))  \n",
    "sns.heatmap(data_0[['f0', 'f1', 'f2', 'product']].corr(), annot=True)\n",
    "plt.show()"
   ]
  },
  {
   "cell_type": "code",
   "execution_count": 12,
   "metadata": {},
   "outputs": [
    {
     "data": {
      "image/png": "[encoded data removed]",
      "text/plain": [
       "<Figure size 864x720 with 2 Axes>"
      ]
     },
     "metadata": {
      "needs_background": "light"
     },
     "output_type": "display_data"
    }
   ],
   "source": [
    "fig, ax = plt.subplots(figsize=(12,10))  \n",
    "sns.heatmap(data_1[['f0', 'f1', 'f2', 'product']].corr(), annot=True)\n",
    "plt.show()"
   ]
  },
  {
   "cell_type": "code",
   "execution_count": 13,
   "metadata": {},
   "outputs": [
    {
     "data": {
      "image/png": "[encoded data removed]",
      "text/plain": [
       "<Figure size 864x720 with 2 Axes>"
      ]
     },
     "metadata": {
      "needs_background": "light"
     },
     "output_type": "display_data"
    }
   ],
   "source": [
    "fig, ax = plt.subplots(figsize=(12,10))  \n",
    "sns.heatmap(data_2[['f0', 'f1', 'f2', 'product']].corr(), annot=True)\n",
    "plt.show()"
   ]
  },
  {
   "cell_type": "markdown",
   "metadata": {},
   "source": [
    "Видим, что больше всего с целевым признаком `product` коррелирует признак `f2`. В регионе 1 коэффициент корреляции между этими признаками оказался равен 1. Друг с другом признаки почти не коррелируют, т.к. мы не сталкиваемся с проблемой мультиколлинеарности признаков.\n",
    "\n",
    "Разделим наши данные на признаки для обучения и целевую переменную."
   ]
  },
  {
   "cell_type": "code",
   "execution_count": 14,
   "metadata": {},
   "outputs": [],
   "source": [
    "target_0 = data_0['product']\n",
    "target_1 = data_1['product']\n",
    "target_2 = data_2['product']"
   ]
  },
  {
   "cell_type": "code",
   "execution_count": 15,
   "metadata": {},
   "outputs": [],
   "source": [
    "features_0 = data_0.drop(['product', 'id'], axis=1)\n",
    "features_1 = data_1.drop(['product', 'id'], axis=1)\n",
    "features_2 = data_2.drop(['product', 'id'], axis=1)"
   ]
  },
  {
   "cell_type": "code",
   "execution_count": 16,
   "metadata": {},
   "outputs": [
    {
     "name": "stdout",
     "output_type": "stream",
     "text": [
      "(100000,)\n",
      "(100000, 3)\n",
      "(100000,)\n",
      "(100000, 3)\n",
      "(100000,)\n",
      "(100000, 3)\n"
     ]
    }
   ],
   "source": [
    "print(target_0.shape)\n",
    "print(features_0.shape)\n",
    "print(target_1.shape)\n",
    "print(features_1.shape)\n",
    "print(target_2.shape)\n",
    "print(features_2.shape)"
   ]
  },
  {
   "cell_type": "markdown",
   "metadata": {},
   "source": [
    "Итак, мы выделили в данных целевую переменную (колонка `product`) и признаки (колонки `f0`, `f1`, `f2`). Так как все данные являются числовыми, то не было необходимости преобразовывать категориальные признаки. Также было принято решение не масштабировать признаки, т.к. они имеют сравнимый масштаб. Между признаками не был ообнаружено сильной корреляции, т.е. отобранные признаки не являются мультиколлинеарными. "
   ]
  },
  {
   "cell_type": "markdown",
   "metadata": {},
   "source": [
    "## Обучение и проверка модели"
   ]
  },
  {
   "cell_type": "markdown",
   "metadata": {},
   "source": [
    "### Разбиение данных на обучающую и валидационную выборки\n",
    "Для разбиения данных на обучающую и валидационную выборки в отношении 3:1 (75%:25%) используем функцию `train_test_split` библиотеки `sklearn`."
   ]
  },
  {
   "cell_type": "code",
   "execution_count": 17,
   "metadata": {},
   "outputs": [],
   "source": [
    "features_0_train, features_0_valid, target_0_train, target_0_valid = train_test_split(\n",
    "    features_0, target_0, test_size=0.25, random_state=1)"
   ]
  },
  {
   "cell_type": "code",
   "execution_count": 18,
   "metadata": {},
   "outputs": [
    {
     "name": "stdout",
     "output_type": "stream",
     "text": [
      "(75000, 3)\n",
      "(75000,)\n",
      "(25000, 3)\n",
      "(25000,)\n"
     ]
    }
   ],
   "source": [
    "for df in [features_0_train, target_0_train, features_0_valid, target_0_valid]:\n",
    "    print(df.shape)"
   ]
  },
  {
   "cell_type": "code",
   "execution_count": 19,
   "metadata": {},
   "outputs": [],
   "source": [
    "features_1_train, features_1_valid, target_1_train, target_1_valid = train_test_split(\n",
    "    features_1, target_1, test_size=0.25, random_state=1)"
   ]
  },
  {
   "cell_type": "code",
   "execution_count": 20,
   "metadata": {},
   "outputs": [
    {
     "name": "stdout",
     "output_type": "stream",
     "text": [
      "(75000, 3)\n",
      "(75000,)\n",
      "(25000, 3)\n",
      "(25000,)\n"
     ]
    }
   ],
   "source": [
    "for df in [features_1_train, target_1_train, features_1_valid, target_1_valid]:\n",
    "    print(df.shape)"
   ]
  },
  {
   "cell_type": "code",
   "execution_count": 21,
   "metadata": {},
   "outputs": [],
   "source": [
    "features_2_train, features_2_valid, target_2_train, target_2_valid = train_test_split(\n",
    "    features_2, target_2, test_size=0.25, random_state=1)"
   ]
  },
  {
   "cell_type": "code",
   "execution_count": 22,
   "metadata": {},
   "outputs": [
    {
     "name": "stdout",
     "output_type": "stream",
     "text": [
      "(75000, 3)\n",
      "(75000,)\n",
      "(25000, 3)\n",
      "(25000,)\n"
     ]
    }
   ],
   "source": [
    "for df in [features_2_train, target_2_train, features_2_valid, target_2_valid]:\n",
    "    print(df.shape)"
   ]
  },
  {
   "cell_type": "markdown",
   "metadata": {},
   "source": [
    "### Обучение модели\n",
    "Мы будем обучать модель линейной регрессии для каждого региона."
   ]
  },
  {
   "cell_type": "code",
   "execution_count": 23,
   "metadata": {},
   "outputs": [],
   "source": [
    "# функция для обучения модели и распечатки результатов\n",
    "def train_model(features_train, target_train, features_valid, target_valid):\n",
    "    model = LinearRegression()\n",
    "    model.fit(features_train, target_train)\n",
    "    # делаем предсказания на валидационной выборке\n",
    "    predict_valid = model.predict(features_valid)\n",
    "    print(f'Средний запас предсказанного сырья: {predict_valid.mean()} тыс. баррелей')\n",
    "    rmse = mean_squared_error(target_valid, predict_valid, squared=False)\n",
    "    print('RMSE =', rmse)\n",
    "    # Проверим наши результаты на вменяемость: \n",
    "    # сравним полученную оценку RMSE с оценкой модели, которая всегда бы предсказывала среднее значение.\n",
    "    predictions = pd.Series(target_train.mean(), index=target_valid.index)\n",
    "    print(\"RMSE модели, всегда предсказывающей среднее значение:\", mean_squared_error(target_valid, predictions, squared=False))\n",
    "    return model, predict_valid\n",
    "    \n",
    "    "
   ]
  },
  {
   "cell_type": "markdown",
   "metadata": {},
   "source": [
    "#### Регион 0"
   ]
  },
  {
   "cell_type": "code",
   "execution_count": 24,
   "metadata": {},
   "outputs": [
    {
     "name": "stdout",
     "output_type": "stream",
     "text": [
      "Средний запас предсказанного сырья: 92.49262459838863 тыс. баррелей\n",
      "RMSE = 37.74258669996437\n",
      "RMSE модели, всегда предсказывающей среднее значение: 44.39642247576803\n"
     ]
    }
   ],
   "source": [
    "model_0, predict_0_valid = train_model(features_0_train, target_0_train, features_0_valid, target_0_valid)"
   ]
  },
  {
   "cell_type": "markdown",
   "metadata": {},
   "source": [
    "Таким образом, обученная модель справляется с задачей лучше, чем модель, которая всегда предсказывает среднее значение."
   ]
  },
  {
   "cell_type": "markdown",
   "metadata": {},
   "source": [
    "#### Регион 1"
   ]
  },
  {
   "cell_type": "code",
   "execution_count": 25,
   "metadata": {},
   "outputs": [
    {
     "name": "stdout",
     "output_type": "stream",
     "text": [
      "Средний запас предсказанного сырья: 69.12040524285558 тыс. баррелей\n",
      "RMSE = 0.8943375629130574\n",
      "RMSE модели, всегда предсказывающей среднее значение: 46.00964987972865\n"
     ]
    }
   ],
   "source": [
    "model_1, predict_1_valid = train_model(features_1_train, target_1_train, features_1_valid, target_1_valid)"
   ]
  },
  {
   "cell_type": "markdown",
   "metadata": {},
   "source": [
    "Обученная модель справляется намного лучше, чем модель, предсказывающая среднее значение. Значение метрики RMSE оказалось очень низким, модель почти не ошибается: видели, что целевой признак очень сильно коррелирует с признаком `f2`, поэтому это ожидаемый результат."
   ]
  },
  {
   "cell_type": "markdown",
   "metadata": {},
   "source": [
    "#### Регион 2"
   ]
  },
  {
   "cell_type": "code",
   "execution_count": 26,
   "metadata": {},
   "outputs": [
    {
     "name": "stdout",
     "output_type": "stream",
     "text": [
      "Средний запас предсказанного сырья: 94.9568304858529 тыс. баррелей\n",
      "RMSE = 39.86671127773423\n",
      "RMSE модели, всегда предсказывающей среднее значение: 44.57448099401238\n"
     ]
    }
   ],
   "source": [
    "model_2, predict_2_valid = train_model(features_2_train, target_2_train, features_2_valid, target_2_valid)"
   ]
  },
  {
   "cell_type": "markdown",
   "metadata": {},
   "source": [
    "Обученная модель справляется с задачей лучше, чем модель, предсказывающая среднее значение."
   ]
  },
  {
   "cell_type": "markdown",
   "metadata": {},
   "source": [
    "Мы обучили три модели для трех регионов. Модели для всех регионов отрабатывают лучше, чем модель, предсказывающая среднее значение, и наилучшей предсказательной силой обладает модель для региона 1."
   ]
  },
  {
   "cell_type": "markdown",
   "metadata": {},
   "source": [
    "## Подготовка к расчёту прибыли"
   ]
  },
  {
   "cell_type": "markdown",
   "metadata": {},
   "source": [
    "Сохраним ключевые значения в отдельных переменных."
   ]
  },
  {
   "cell_type": "code",
   "execution_count": 27,
   "metadata": {},
   "outputs": [],
   "source": [
    "budget = 10 ** 10 # бюджет на разработку региона\n",
    "price = 450_000 # доход с единицы продукта \n",
    "n = 200 # количество скважин, выбираемых для разработки"
   ]
  },
  {
   "cell_type": "markdown",
   "metadata": {},
   "source": [
    "Если по условию задачи в регионе выбираются 200 скважин для разработки, а бюджет на разработку равен 10 млрд рублей, то достаточный объем сырья для разработки новой скважины мы можем рассчитать по формуле $volume = {budget \\over (n * price)}$."
   ]
  },
  {
   "cell_type": "code",
   "execution_count": 28,
   "metadata": {},
   "outputs": [],
   "source": [
    "min_volume = budget / (n * price)"
   ]
  },
  {
   "cell_type": "code",
   "execution_count": 29,
   "metadata": {},
   "outputs": [
    {
     "data": {
      "text/plain": [
       "111.11111111111111"
      ]
     },
     "execution_count": 29,
     "metadata": {},
     "output_type": "execute_result"
    }
   ],
   "source": [
    "min_volume"
   ]
  },
  {
   "cell_type": "markdown",
   "metadata": {},
   "source": [
    "Сравним полученный объем с средним запасом в каждом регионе."
   ]
  },
  {
   "cell_type": "code",
   "execution_count": 30,
   "metadata": {},
   "outputs": [],
   "source": [
    "def compare_volumes(min_volume, mean_volume):\n",
    "    if mean_volume >= min_volume:\n",
    "        print(f'Средний запас сырья в регионе, равный {mean_volume}, не меньше достаточного объема для безубыточной разработки новой скважины.')\n",
    "    else:\n",
    "        print(f'Средний запас сырья в регионе, равный {mean_volume}, меньше достаточного объема для безубыточной разработки новой скважины.')"
   ]
  },
  {
   "cell_type": "code",
   "execution_count": 31,
   "metadata": {},
   "outputs": [
    {
     "name": "stdout",
     "output_type": "stream",
     "text": [
      "Регион 0\n",
      "Средний запас сырья в регионе, равный 92.50000000000001, меньше достаточного объема для безубыточной разработки новой скважины.\n",
      "\n",
      "Регион 1\n",
      "Средний запас сырья в регионе, равный 68.82500000000002, меньше достаточного объема для безубыточной разработки новой скважины.\n",
      "\n",
      "Регион 2\n",
      "Средний запас сырья в регионе, равный 95.00000000000004, меньше достаточного объема для безубыточной разработки новой скважины.\n",
      "\n"
     ]
    }
   ],
   "source": [
    "for i, df in enumerate([data_0, data_1, data_2]):\n",
    "    print(f'Регион {i}')\n",
    "    compare_volumes(min_volume, df['product'].mean())\n",
    "    print()"
   ]
  },
  {
   "cell_type": "markdown",
   "metadata": {},
   "source": [
    "Таким образом, средний объем сырья во всех трех регионах меньше минимального достаточного для безубыточной разработки новой скважины."
   ]
  },
  {
   "cell_type": "markdown",
   "metadata": {},
   "source": [
    "Напишем функцию расчета прибыли."
   ]
  },
  {
   "cell_type": "code",
   "execution_count": 32,
   "metadata": {},
   "outputs": [],
   "source": [
    "def calculate_profit(target, predictions, n=n, price=price, budget=budget):\n",
    "    # сбрасываем индексы, т.к. мы используем бутстрап с возвращением и при подстановке индексов можем получить более 200 скважин\n",
    "    target = target.reset_index(drop=True)\n",
    "    predictions = predictions.reset_index(drop=True)\n",
    "    # выбираем скважины с максимальными предсказаниями\n",
    "    best_predictions = predictions.sort_values(ascending=False)[:n]\n",
    "    # находим целевые значения объёма сырья, соответствующие этим предсказаниям\n",
    "    best_target = target.loc[best_predictions.index]\n",
    "    # суммируем целевые значения\n",
    "    best_target_sum = best_target.sum()\n",
    "    # считаем прибыль\n",
    "    profit = best_target_sum * price - budget\n",
    "    return profit"
   ]
  },
  {
   "cell_type": "markdown",
   "metadata": {},
   "source": [
    "## Расчёт прибыли и рисков "
   ]
  },
  {
   "cell_type": "code",
   "execution_count": 33,
   "metadata": {},
   "outputs": [],
   "source": [
    "# функция для бутстрепа\n",
    "def bootstrap_profit(target, predictions):\n",
    "    state = np.random.RandomState(1)\n",
    "    predictions = pd.DataFrame(predictions, index=target.index)[0]\n",
    "    profits = []\n",
    "    for i in range(1000):\n",
    "        subsample_target = target.sample(n=500, replace=True, random_state=state)\n",
    "        subsample_pred = predictions.loc[subsample_target.index]\n",
    "        profit = calculate_profit(subsample_target, subsample_pred)\n",
    "        profits.append(profit)\n",
    "    profits = pd.Series(profits)\n",
    "    lower = profits.quantile(0.025)\n",
    "    upper = profits.quantile(0.975)\n",
    "    mean = profits.mean()\n",
    "    print(f\"Средняя прибыль: {round(mean/10**6)} млн рублей\")\n",
    "    print(f\"95%-й доверительный интервал: {round(lower/10**6)} - {round(upper/10**6)} млн рублей\")\n",
    "    risk_probability = (profits < 0).mean()\n",
    "    print(f'Риск убытков: {risk_probability * 100}%')"
   ]
  },
  {
   "cell_type": "code",
   "execution_count": 34,
   "metadata": {},
   "outputs": [
    {
     "name": "stdout",
     "output_type": "stream",
     "text": [
      "Средняя прибыль: 433 млн рублей\n",
      "95%-й доверительный интервал: -100 - 947 млн рублей\n",
      "Риск убытков: 5.2%\n"
     ]
    }
   ],
   "source": [
    "# регион 0\n",
    "bootstrap_profit(target_0_valid, predict_0_valid)"
   ]
  },
  {
   "cell_type": "code",
   "execution_count": 35,
   "metadata": {},
   "outputs": [
    {
     "name": "stdout",
     "output_type": "stream",
     "text": [
      "Средняя прибыль: 475 млн рублей\n",
      "95%-й доверительный интервал: 95 - 852 млн рублей\n",
      "Риск убытков: 1.0%\n"
     ]
    }
   ],
   "source": [
    "# регион 1\n",
    "bootstrap_profit(target_1_valid, predict_1_valid)"
   ]
  },
  {
   "cell_type": "code",
   "execution_count": 36,
   "metadata": {},
   "outputs": [
    {
     "name": "stdout",
     "output_type": "stream",
     "text": [
      "Средняя прибыль: 395 млн рублей\n",
      "95%-й доверительный интервал: -158 - 914 млн рублей\n",
      "Риск убытков: 7.3%\n"
     ]
    }
   ],
   "source": [
    "# регион 2\n",
    "bootstrap_profit(target_2_valid, predict_2_valid)"
   ]
  },
  {
   "cell_type": "markdown",
   "metadata": {},
   "source": [
    "Мы применили технику Bootstrap с 1000 выборок и нашли распределение прибыли. Затем мы посчитали среднюю прибыль по каждому региону, 95%-й интервал прибыли и риск убытков для каждого региона. Результаты в таблице ниже:\n",
    "\n",
    "|Название региона|Средняя прибыль (в млн рублей)|95%-й доверительный интервал (в млн рублей)|Риск убытков|\n",
    "|----------------|------------------------------|-------------------------------------------|------------|\n",
    "|Регион 0|433|-100 - 947|5.2%|\n",
    "|Регион 1|475|95 - 852|1.0%|\n",
    "|Регион 2|395|-158 - 914|7.3%|"
   ]
  },
  {
   "cell_type": "markdown",
   "metadata": {},
   "source": [
    "Видим, что в регионах 0 и 2 риск убытков превышает установленную максимальную границу в 2.5%. Таким образом, единственный подходящий регион - это регион 1, в котором вероятность убытков составляет 1%, а средняя прибыль - 475 млн рублей."
   ]
  },
  {
   "cell_type": "markdown",
   "metadata": {},
   "source": [
    "## Выводы"
   ]
  },
  {
   "cell_type": "markdown",
   "metadata": {},
   "source": [
    "Нами были исследованы данные геологоразведки трёх регионов и обучены модели машинного обучения, позволяющие принять решение о разработке скажин в этих регионах.\n",
    "\n",
    "Сначала мы загрузили данные по трем регионам в три датафрейма `data_0`, `data_1`, `data_2`. В каждом датафрейме 100000 строк-наблюдений. В датафреймах есть 5 колонок. В колонке `id` записаны строковые данные, в колонках `f0`, `f1`, `f2` и `product` - численные данные типа `float64`. В данных нет пропусков и дубликатов.\n",
    "\n",
    "Затем мы выделили в данных целевой признак `product` и признаки `f0`, `f1`, `f2`. В данных не было категориальных признаков, поэтому их обработка не понадобилась. Также было принято решение не масштабировать числовые признаки. Было обнаружено, что в регионе 1 наблюдается сильная корреляция между признаком `f2` и целевым признаком `product`. \n",
    "\n",
    "Мы разделили выборки на обучающие и валидационные в отношении 3:1. \n",
    "\n",
    "Было обучено три модели - по модели на каждый регион. Все три модели продемонстрировали качество выше, чем модели, предсказывающие среднее значение во всех случаях, но модель для региона 1 продемонстрировала наилучшую предсказательную силу: метрика RMSE = 0.89, т.е. модель в среднем ошибается меньше, чем на 1 единицу продукта (тыс баррелей).\n",
    "\n",
    "На следующем этапе мы посчитали достаточный объем сырья для безубыточной разработки новой скважины и получили значение 111. Это значение оказалось меньше, чем средние запасы сырья в каждом из регионов.\n",
    "\n",
    "Мы воспользовались техникой Bootstrap с 1000 выборок, чтобы найти распределение прибыли. Были подсчитаны средняя прибыль по каждому региону, 95%-й интервал прибыли и риск убытков для каждого региона. Результаты представлены в таблице.\n",
    "\n",
    "\n",
    "|Название региона|Средняя прибыль (в млн рублей)|95%-й доверительный интервал (в млн рублей)|Риск убытков|\n",
    "|----------------|------------------------------|-------------------------------------------|------------|\n",
    "|Регион 0|433|-100 - 947|5.2%|\n",
    "|Регион 1|475|95 - 852|1.0%|\n",
    "|Регион 2|395|-158 - 914|7.3%|\n",
    "\n",
    "По полученным данным был сделан вывод, что для разработки нужно выбрать регион 1: это единственный регион с достаточно низким риском убытков (1% меньше заявленной верхней границы в 2.5%). Этот регион также демонстрирует наивысшую среднюю прибыль: 475 млн рублей."
   ]
  }
 ],
 "metadata": {
  "ExecuteTimeLog": [
   {
    "duration": 380,
    "start_time": "2023-07-02T14:55:34.450Z"
   },
   {
    "duration": 86,
    "start_time": "2023-07-02T14:56:02.213Z"
   },
   {
    "duration": 75,
    "start_time": "2023-07-02T14:56:17.918Z"
   },
   {
    "duration": 714,
    "start_time": "2023-07-02T14:56:25.838Z"
   },
   {
    "duration": 16,
    "start_time": "2023-07-02T15:05:02.729Z"
   },
   {
    "duration": 619,
    "start_time": "2023-07-02T15:06:46.327Z"
   },
   {
    "duration": 3,
    "start_time": "2023-07-02T15:07:37.042Z"
   },
   {
    "duration": 15,
    "start_time": "2023-07-02T15:07:39.415Z"
   },
   {
    "duration": 20,
    "start_time": "2023-07-02T15:07:52.897Z"
   },
   {
    "duration": 85,
    "start_time": "2023-07-02T15:08:09.668Z"
   },
   {
    "duration": 14,
    "start_time": "2023-07-02T15:09:01.339Z"
   },
   {
    "duration": 9,
    "start_time": "2023-07-02T15:09:05.134Z"
   },
   {
    "duration": 8,
    "start_time": "2023-07-02T15:09:12.543Z"
   },
   {
    "duration": 439,
    "start_time": "2023-07-02T15:14:28.621Z"
   },
   {
    "duration": 3,
    "start_time": "2023-07-02T15:16:24.250Z"
   },
   {
    "duration": 58,
    "start_time": "2023-07-02T15:16:43.326Z"
   },
   {
    "duration": 88,
    "start_time": "2023-07-02T15:17:33.741Z"
   },
   {
    "duration": 100,
    "start_time": "2023-07-02T15:17:36.898Z"
   },
   {
    "duration": 8,
    "start_time": "2023-07-02T15:18:08.227Z"
   },
   {
    "duration": 17,
    "start_time": "2023-07-02T15:18:08.519Z"
   },
   {
    "duration": 16,
    "start_time": "2023-07-02T15:18:08.897Z"
   },
   {
    "duration": 24,
    "start_time": "2023-07-02T15:18:09.599Z"
   },
   {
    "duration": 212,
    "start_time": "2023-07-02T15:18:15.469Z"
   },
   {
    "duration": 412,
    "start_time": "2023-07-02T16:03:33.530Z"
   },
   {
    "duration": 9,
    "start_time": "2023-07-02T16:03:33.944Z"
   },
   {
    "duration": 5,
    "start_time": "2023-07-02T16:03:35.259Z"
   },
   {
    "duration": 11,
    "start_time": "2023-07-02T16:03:35.762Z"
   },
   {
    "duration": 9,
    "start_time": "2023-07-02T16:03:36.113Z"
   },
   {
    "duration": 3,
    "start_time": "2023-07-02T16:03:43.445Z"
   },
   {
    "duration": 278,
    "start_time": "2023-07-02T16:03:43.600Z"
   },
   {
    "duration": 977,
    "start_time": "2023-07-02T16:14:24.740Z"
   },
   {
    "duration": 124,
    "start_time": "2023-07-02T16:14:36.348Z"
   },
   {
    "duration": 968,
    "start_time": "2023-07-02T16:21:27.345Z"
   },
   {
    "duration": 1009,
    "start_time": "2023-07-02T16:21:47.596Z"
   },
   {
    "duration": 1041,
    "start_time": "2023-07-02T16:21:59.928Z"
   },
   {
    "duration": 448,
    "start_time": "2023-07-02T16:22:50.265Z"
   },
   {
    "duration": 455,
    "start_time": "2023-07-02T16:22:56.025Z"
   },
   {
    "duration": 1865,
    "start_time": "2023-07-02T16:50:42.720Z"
   },
   {
    "duration": 414,
    "start_time": "2023-07-02T16:50:51.217Z"
   },
   {
    "duration": 400,
    "start_time": "2023-07-02T16:50:58.624Z"
   },
   {
    "duration": 310,
    "start_time": "2023-07-02T16:51:07.827Z"
   },
   {
    "duration": 2,
    "start_time": "2023-07-02T16:57:41.392Z"
   },
   {
    "duration": 7,
    "start_time": "2023-07-02T16:58:03.824Z"
   },
   {
    "duration": 7,
    "start_time": "2023-07-02T16:58:15.598Z"
   },
   {
    "duration": 1502,
    "start_time": "2023-07-02T17:02:09.687Z"
   },
   {
    "duration": 27,
    "start_time": "2023-07-02T17:03:47.588Z"
   },
   {
    "duration": 3,
    "start_time": "2023-07-02T17:04:23.067Z"
   },
   {
    "duration": 19,
    "start_time": "2023-07-02T17:07:24.836Z"
   },
   {
    "duration": 136,
    "start_time": "2023-07-02T17:07:47.251Z"
   },
   {
    "duration": 2,
    "start_time": "2023-07-02T17:07:50.970Z"
   },
   {
    "duration": 38,
    "start_time": "2023-07-02T17:07:51.585Z"
   },
   {
    "duration": 4,
    "start_time": "2023-07-02T17:09:14.842Z"
   },
   {
    "duration": 5,
    "start_time": "2023-07-02T17:10:23.469Z"
   },
   {
    "duration": 3,
    "start_time": "2023-07-02T17:11:47.024Z"
   },
   {
    "duration": 4,
    "start_time": "2023-07-02T17:12:01.372Z"
   },
   {
    "duration": 4,
    "start_time": "2023-07-02T17:12:43.559Z"
   },
   {
    "duration": 14,
    "start_time": "2023-07-02T17:12:57.920Z"
   },
   {
    "duration": 5,
    "start_time": "2023-07-02T17:13:34.574Z"
   },
   {
    "duration": 6,
    "start_time": "2023-07-02T17:15:03.287Z"
   },
   {
    "duration": 4,
    "start_time": "2023-07-02T17:16:53.744Z"
   },
   {
    "duration": 3,
    "start_time": "2023-07-02T17:26:32.530Z"
   },
   {
    "duration": 737,
    "start_time": "2023-07-02T17:26:33.115Z"
   },
   {
    "duration": 6,
    "start_time": "2023-07-02T17:26:34.211Z"
   },
   {
    "duration": 3,
    "start_time": "2023-07-02T17:26:36.409Z"
   },
   {
    "duration": 50,
    "start_time": "2023-07-02T17:26:39.943Z"
   },
   {
    "duration": 46,
    "start_time": "2023-07-02T17:26:50.747Z"
   },
   {
    "duration": 50,
    "start_time": "2023-07-02T17:26:59.015Z"
   },
   {
    "duration": 12,
    "start_time": "2023-07-02T17:32:10.800Z"
   },
   {
    "duration": 8,
    "start_time": "2023-07-02T17:32:48.313Z"
   },
   {
    "duration": 3,
    "start_time": "2023-07-02T17:39:19.075Z"
   },
   {
    "duration": 317,
    "start_time": "2023-07-02T17:39:19.630Z"
   },
   {
    "duration": 5,
    "start_time": "2023-07-02T17:39:19.948Z"
   },
   {
    "duration": 5,
    "start_time": "2023-07-02T17:39:20.740Z"
   },
   {
    "duration": 10,
    "start_time": "2023-07-02T17:39:22.825Z"
   },
   {
    "duration": 11,
    "start_time": "2023-07-02T17:39:23.518Z"
   },
   {
    "duration": 177,
    "start_time": "2023-07-02T17:39:29.487Z"
   },
   {
    "duration": 76,
    "start_time": "2023-07-02T17:39:35.943Z"
   },
   {
    "duration": 349,
    "start_time": "2023-07-02T17:39:36.945Z"
   },
   {
    "duration": 3,
    "start_time": "2023-07-02T17:39:38.011Z"
   },
   {
    "duration": 4,
    "start_time": "2023-07-02T17:39:38.448Z"
   },
   {
    "duration": 938,
    "start_time": "2023-07-02T17:39:38.924Z"
   },
   {
    "duration": 340,
    "start_time": "2023-07-02T17:39:40.922Z"
   },
   {
    "duration": 4,
    "start_time": "2023-07-02T17:39:41.828Z"
   },
   {
    "duration": 23,
    "start_time": "2023-07-02T17:39:44.287Z"
   },
   {
    "duration": 3,
    "start_time": "2023-07-02T17:39:45.127Z"
   },
   {
    "duration": 3,
    "start_time": "2023-07-02T17:39:46.185Z"
   },
   {
    "duration": 16,
    "start_time": "2023-07-02T17:39:46.623Z"
   },
   {
    "duration": 5,
    "start_time": "2023-07-02T17:39:47.378Z"
   },
   {
    "duration": 2,
    "start_time": "2023-07-02T17:39:47.765Z"
   },
   {
    "duration": 4,
    "start_time": "2023-07-02T17:39:48.091Z"
   },
   {
    "duration": 3,
    "start_time": "2023-07-02T17:39:49.053Z"
   },
   {
    "duration": 3,
    "start_time": "2023-07-02T17:39:49.847Z"
   },
   {
    "duration": 5,
    "start_time": "2023-07-02T17:39:50.524Z"
   },
   {
    "duration": 3,
    "start_time": "2023-07-02T17:47:46.112Z"
   },
   {
    "duration": 2,
    "start_time": "2023-07-02T17:53:11.260Z"
   },
   {
    "duration": 3,
    "start_time": "2023-07-02T17:53:17.795Z"
   },
   {
    "duration": 3,
    "start_time": "2023-07-02T17:56:21.119Z"
   },
   {
    "duration": 88,
    "start_time": "2023-07-02T17:57:47.760Z"
   },
   {
    "duration": 7,
    "start_time": "2023-07-02T18:01:40.516Z"
   },
   {
    "duration": 3,
    "start_time": "2023-07-02T18:01:54.611Z"
   },
   {
    "duration": 5,
    "start_time": "2023-07-02T18:01:56.928Z"
   },
   {
    "duration": 3,
    "start_time": "2023-07-02T18:02:08.915Z"
   },
   {
    "duration": 2022,
    "start_time": "2023-07-04T17:28:11.871Z"
   },
   {
    "duration": 1100,
    "start_time": "2023-07-04T17:28:13.896Z"
   },
   {
    "duration": 9,
    "start_time": "2023-07-04T17:28:14.998Z"
   },
   {
    "duration": 58,
    "start_time": "2023-07-04T17:28:15.009Z"
   },
   {
    "duration": 83,
    "start_time": "2023-07-04T17:28:15.069Z"
   },
   {
    "duration": 23,
    "start_time": "2023-07-04T17:28:15.153Z"
   },
   {
    "duration": 191,
    "start_time": "2023-07-04T17:28:15.177Z"
   },
   {
    "duration": 0,
    "start_time": "2023-07-04T17:28:15.372Z"
   },
   {
    "duration": 0,
    "start_time": "2023-07-04T17:28:15.373Z"
   },
   {
    "duration": 1,
    "start_time": "2023-07-04T17:28:15.375Z"
   },
   {
    "duration": 0,
    "start_time": "2023-07-04T17:28:15.377Z"
   },
   {
    "duration": 0,
    "start_time": "2023-07-04T17:28:15.379Z"
   },
   {
    "duration": 0,
    "start_time": "2023-07-04T17:28:15.381Z"
   },
   {
    "duration": 0,
    "start_time": "2023-07-04T17:28:15.383Z"
   },
   {
    "duration": 0,
    "start_time": "2023-07-04T17:28:15.384Z"
   },
   {
    "duration": 0,
    "start_time": "2023-07-04T17:28:15.404Z"
   },
   {
    "duration": 0,
    "start_time": "2023-07-04T17:28:15.405Z"
   },
   {
    "duration": 0,
    "start_time": "2023-07-04T17:28:15.406Z"
   },
   {
    "duration": 0,
    "start_time": "2023-07-04T17:28:15.406Z"
   },
   {
    "duration": 0,
    "start_time": "2023-07-04T17:28:15.407Z"
   },
   {
    "duration": 0,
    "start_time": "2023-07-04T17:28:15.411Z"
   },
   {
    "duration": 0,
    "start_time": "2023-07-04T17:28:15.413Z"
   },
   {
    "duration": 0,
    "start_time": "2023-07-04T17:28:15.414Z"
   },
   {
    "duration": 0,
    "start_time": "2023-07-04T17:28:15.416Z"
   },
   {
    "duration": 0,
    "start_time": "2023-07-04T17:28:15.417Z"
   },
   {
    "duration": 0,
    "start_time": "2023-07-04T17:28:15.418Z"
   },
   {
    "duration": 0,
    "start_time": "2023-07-04T17:28:15.420Z"
   },
   {
    "duration": 0,
    "start_time": "2023-07-04T17:28:15.421Z"
   },
   {
    "duration": 0,
    "start_time": "2023-07-04T17:28:15.423Z"
   },
   {
    "duration": 4,
    "start_time": "2023-07-04T17:28:58.150Z"
   },
   {
    "duration": 359,
    "start_time": "2023-07-04T17:28:58.784Z"
   },
   {
    "duration": 1711,
    "start_time": "2023-07-04T17:29:19.562Z"
   },
   {
    "duration": 432,
    "start_time": "2023-07-04T17:29:21.275Z"
   },
   {
    "duration": 21,
    "start_time": "2023-07-04T17:29:21.711Z"
   },
   {
    "duration": 13,
    "start_time": "2023-07-04T17:29:21.736Z"
   },
   {
    "duration": 22,
    "start_time": "2023-07-04T17:29:21.751Z"
   },
   {
    "duration": 17,
    "start_time": "2023-07-04T17:29:21.775Z"
   },
   {
    "duration": 38,
    "start_time": "2023-07-04T17:29:21.794Z"
   },
   {
    "duration": 410,
    "start_time": "2023-07-04T17:29:21.833Z"
   },
   {
    "duration": 92,
    "start_time": "2023-07-04T17:29:22.245Z"
   },
   {
    "duration": 418,
    "start_time": "2023-07-04T17:29:22.340Z"
   },
   {
    "duration": 3,
    "start_time": "2023-07-04T17:29:22.760Z"
   },
   {
    "duration": 12,
    "start_time": "2023-07-04T17:29:22.764Z"
   },
   {
    "duration": 1278,
    "start_time": "2023-07-04T17:29:22.778Z"
   },
   {
    "duration": 481,
    "start_time": "2023-07-04T17:29:24.058Z"
   },
   {
    "duration": 4,
    "start_time": "2023-07-04T17:29:24.541Z"
   },
   {
    "duration": 36,
    "start_time": "2023-07-04T17:29:24.546Z"
   },
   {
    "duration": 30,
    "start_time": "2023-07-04T17:29:24.584Z"
   },
   {
    "duration": 19,
    "start_time": "2023-07-04T17:29:24.617Z"
   },
   {
    "duration": 29,
    "start_time": "2023-07-04T17:29:24.638Z"
   },
   {
    "duration": 48,
    "start_time": "2023-07-04T17:29:24.669Z"
   },
   {
    "duration": 89,
    "start_time": "2023-07-04T17:29:24.719Z"
   },
   {
    "duration": 30,
    "start_time": "2023-07-04T17:29:24.814Z"
   },
   {
    "duration": 4,
    "start_time": "2023-07-04T17:29:24.846Z"
   },
   {
    "duration": 4,
    "start_time": "2023-07-04T17:29:24.852Z"
   },
   {
    "duration": 9,
    "start_time": "2023-07-04T17:29:24.857Z"
   },
   {
    "duration": 3,
    "start_time": "2023-07-04T17:29:24.867Z"
   },
   {
    "duration": 7,
    "start_time": "2023-07-04T17:29:24.872Z"
   },
   {
    "duration": 9,
    "start_time": "2023-07-04T17:29:24.882Z"
   },
   {
    "duration": 14,
    "start_time": "2023-07-04T17:29:24.892Z"
   },
   {
    "duration": 31,
    "start_time": "2023-07-04T17:29:24.908Z"
   },
   {
    "duration": 1796,
    "start_time": "2023-07-05T17:32:07.822Z"
   },
   {
    "duration": 868,
    "start_time": "2023-07-05T17:32:09.620Z"
   },
   {
    "duration": 7,
    "start_time": "2023-07-05T17:32:10.490Z"
   },
   {
    "duration": 73,
    "start_time": "2023-07-05T17:32:10.500Z"
   },
   {
    "duration": 31,
    "start_time": "2023-07-05T17:32:10.576Z"
   },
   {
    "duration": 14,
    "start_time": "2023-07-05T17:32:10.609Z"
   },
   {
    "duration": 9,
    "start_time": "2023-07-05T17:32:10.625Z"
   },
   {
    "duration": 398,
    "start_time": "2023-07-05T17:32:10.637Z"
   },
   {
    "duration": 89,
    "start_time": "2023-07-05T17:32:11.037Z"
   },
   {
    "duration": 484,
    "start_time": "2023-07-05T17:32:11.130Z"
   },
   {
    "duration": 3,
    "start_time": "2023-07-05T17:32:11.616Z"
   },
   {
    "duration": 18,
    "start_time": "2023-07-05T17:32:11.620Z"
   },
   {
    "duration": 1247,
    "start_time": "2023-07-05T17:32:11.640Z"
   },
   {
    "duration": 462,
    "start_time": "2023-07-05T17:32:12.890Z"
   },
   {
    "duration": 16,
    "start_time": "2023-07-05T17:32:13.354Z"
   },
   {
    "duration": 35,
    "start_time": "2023-07-05T17:32:13.372Z"
   },
   {
    "duration": 5,
    "start_time": "2023-07-05T17:32:13.409Z"
   },
   {
    "duration": 18,
    "start_time": "2023-07-05T17:32:13.416Z"
   },
   {
    "duration": 58,
    "start_time": "2023-07-05T17:32:13.436Z"
   },
   {
    "duration": 23,
    "start_time": "2023-07-05T17:32:13.496Z"
   },
   {
    "duration": 117,
    "start_time": "2023-07-05T17:32:13.554Z"
   },
   {
    "duration": 26,
    "start_time": "2023-07-05T17:32:13.672Z"
   },
   {
    "duration": 18,
    "start_time": "2023-07-05T17:32:13.699Z"
   },
   {
    "duration": 18,
    "start_time": "2023-07-05T17:32:13.719Z"
   },
   {
    "duration": 41,
    "start_time": "2023-07-05T17:32:13.739Z"
   },
   {
    "duration": 19,
    "start_time": "2023-07-05T17:32:13.782Z"
   },
   {
    "duration": 17,
    "start_time": "2023-07-05T17:32:13.803Z"
   },
   {
    "duration": 24,
    "start_time": "2023-07-05T17:32:13.823Z"
   },
   {
    "duration": 27,
    "start_time": "2023-07-05T17:32:13.849Z"
   },
   {
    "duration": 15,
    "start_time": "2023-07-05T17:32:13.878Z"
   },
   {
    "duration": 221,
    "start_time": "2023-07-05T17:32:13.895Z"
   },
   {
    "duration": 1773,
    "start_time": "2023-07-05T17:37:34.687Z"
   },
   {
    "duration": 440,
    "start_time": "2023-07-05T17:37:36.462Z"
   },
   {
    "duration": 6,
    "start_time": "2023-07-05T17:37:36.904Z"
   },
   {
    "duration": 4,
    "start_time": "2023-07-05T17:37:45.417Z"
   },
   {
    "duration": 120,
    "start_time": "2023-07-05T17:37:58.927Z"
   },
   {
    "duration": 141,
    "start_time": "2023-07-05T17:38:06.443Z"
   },
   {
    "duration": 144,
    "start_time": "2023-07-05T17:38:14.246Z"
   },
   {
    "duration": 61,
    "start_time": "2023-07-05T17:39:10.651Z"
   },
   {
    "duration": 56,
    "start_time": "2023-07-05T17:39:18.764Z"
   },
   {
    "duration": 54,
    "start_time": "2023-07-05T17:39:29.990Z"
   },
   {
    "duration": 65,
    "start_time": "2023-07-05T17:39:31.841Z"
   },
   {
    "duration": 452,
    "start_time": "2023-07-05T17:39:58.367Z"
   },
   {
    "duration": 391,
    "start_time": "2023-07-05T17:40:08.848Z"
   },
   {
    "duration": 424,
    "start_time": "2023-07-05T17:40:17.469Z"
   },
   {
    "duration": 372,
    "start_time": "2023-07-05T17:40:30.742Z"
   },
   {
    "duration": 4,
    "start_time": "2023-07-05T17:43:17.368Z"
   },
   {
    "duration": 11,
    "start_time": "2023-07-05T17:43:50.784Z"
   },
   {
    "duration": 744,
    "start_time": "2023-07-05T17:43:58.569Z"
   },
   {
    "duration": 293,
    "start_time": "2023-07-05T17:44:10.064Z"
   },
   {
    "duration": 12,
    "start_time": "2023-07-05T17:44:57.263Z"
   },
   {
    "duration": 14,
    "start_time": "2023-07-05T17:45:40.733Z"
   },
   {
    "duration": 5,
    "start_time": "2023-07-05T17:45:51.351Z"
   },
   {
    "duration": 20,
    "start_time": "2023-07-05T17:46:19.597Z"
   },
   {
    "duration": 8,
    "start_time": "2023-07-05T17:46:20.074Z"
   },
   {
    "duration": 15,
    "start_time": "2023-07-05T17:46:52.123Z"
   },
   {
    "duration": 5,
    "start_time": "2023-07-05T17:46:52.509Z"
   },
   {
    "duration": 9,
    "start_time": "2023-07-05T17:52:49.054Z"
   },
   {
    "duration": 6,
    "start_time": "2023-07-05T17:53:17.660Z"
   },
   {
    "duration": 397,
    "start_time": "2023-07-05T17:53:35.340Z"
   },
   {
    "duration": 5,
    "start_time": "2023-07-05T17:54:30.195Z"
   },
   {
    "duration": 17,
    "start_time": "2023-07-05T17:54:31.028Z"
   },
   {
    "duration": 41,
    "start_time": "2023-07-05T17:57:01.828Z"
   },
   {
    "duration": 30,
    "start_time": "2023-07-05T17:58:29.137Z"
   },
   {
    "duration": 8015,
    "start_time": "2023-07-05T17:59:15.829Z"
   },
   {
    "duration": 983,
    "start_time": "2023-07-05T17:59:23.857Z"
   },
   {
    "duration": 7,
    "start_time": "2023-07-05T17:59:24.842Z"
   },
   {
    "duration": 20,
    "start_time": "2023-07-05T17:59:24.851Z"
   },
   {
    "duration": 187,
    "start_time": "2023-07-05T17:59:24.874Z"
   },
   {
    "duration": 117,
    "start_time": "2023-07-05T17:59:31.392Z"
   },
   {
    "duration": 150,
    "start_time": "2023-07-05T17:59:35.934Z"
   },
   {
    "duration": 50,
    "start_time": "2023-07-05T17:59:41.595Z"
   },
   {
    "duration": 46,
    "start_time": "2023-07-05T17:59:42.177Z"
   },
   {
    "duration": 58,
    "start_time": "2023-07-05T18:00:01.244Z"
   },
   {
    "duration": 4,
    "start_time": "2023-07-05T18:05:09.173Z"
   },
   {
    "duration": 406,
    "start_time": "2023-07-05T18:05:16.446Z"
   },
   {
    "duration": 444,
    "start_time": "2023-07-05T18:05:17.836Z"
   },
   {
    "duration": 383,
    "start_time": "2023-07-05T18:05:19.039Z"
   },
   {
    "duration": 3,
    "start_time": "2023-07-05T18:05:43.858Z"
   },
   {
    "duration": 9,
    "start_time": "2023-07-05T18:05:44.542Z"
   },
   {
    "duration": 4,
    "start_time": "2023-07-05T18:05:45.041Z"
   },
   {
    "duration": 14,
    "start_time": "2023-07-05T18:05:48.519Z"
   },
   {
    "duration": 3,
    "start_time": "2023-07-05T18:05:49.693Z"
   },
   {
    "duration": 15,
    "start_time": "2023-07-05T18:05:50.440Z"
   },
   {
    "duration": 4,
    "start_time": "2023-07-05T18:05:51.159Z"
   },
   {
    "duration": 11,
    "start_time": "2023-07-05T18:06:26.035Z"
   },
   {
    "duration": 3,
    "start_time": "2023-07-05T18:06:46.673Z"
   },
   {
    "duration": 11,
    "start_time": "2023-07-05T18:07:06.767Z"
   },
   {
    "duration": 139,
    "start_time": "2023-07-05T18:07:21.331Z"
   },
   {
    "duration": 4,
    "start_time": "2023-07-05T18:07:29.139Z"
   },
   {
    "duration": 14,
    "start_time": "2023-07-05T18:07:50.548Z"
   },
   {
    "duration": 5,
    "start_time": "2023-07-05T18:07:51.082Z"
   },
   {
    "duration": 16,
    "start_time": "2023-07-05T18:08:15.963Z"
   },
   {
    "duration": 9,
    "start_time": "2023-07-05T18:08:22.270Z"
   },
   {
    "duration": 12,
    "start_time": "2023-07-05T18:08:33.780Z"
   },
   {
    "duration": 4,
    "start_time": "2023-07-05T18:08:34.450Z"
   },
   {
    "duration": 8,
    "start_time": "2023-07-05T18:08:48.375Z"
   },
   {
    "duration": 3,
    "start_time": "2023-07-05T18:08:49.450Z"
   },
   {
    "duration": 16,
    "start_time": "2023-07-05T18:08:50.295Z"
   },
   {
    "duration": 9,
    "start_time": "2023-07-05T18:08:52.354Z"
   },
   {
    "duration": 8,
    "start_time": "2023-07-05T18:09:25.442Z"
   },
   {
    "duration": 13,
    "start_time": "2023-07-05T18:09:26.766Z"
   },
   {
    "duration": 4,
    "start_time": "2023-07-05T18:09:27.531Z"
   },
   {
    "duration": 4,
    "start_time": "2023-07-05T18:09:31.978Z"
   },
   {
    "duration": 63,
    "start_time": "2023-07-05T18:09:35.090Z"
   },
   {
    "duration": 18,
    "start_time": "2023-07-05T18:09:36.995Z"
   },
   {
    "duration": 19,
    "start_time": "2023-07-05T18:09:39.931Z"
   },
   {
    "duration": 4,
    "start_time": "2023-07-05T18:13:55.538Z"
   },
   {
    "duration": 3,
    "start_time": "2023-07-05T18:13:57.037Z"
   },
   {
    "duration": 5,
    "start_time": "2023-07-05T18:13:57.929Z"
   },
   {
    "duration": 3,
    "start_time": "2023-07-05T18:14:12.164Z"
   },
   {
    "duration": 6,
    "start_time": "2023-07-05T18:14:12.957Z"
   },
   {
    "duration": 5,
    "start_time": "2023-07-05T18:20:40.643Z"
   },
   {
    "duration": 4,
    "start_time": "2023-07-05T18:22:39.732Z"
   },
   {
    "duration": 11,
    "start_time": "2023-07-05T18:26:13.491Z"
   },
   {
    "duration": 5,
    "start_time": "2023-07-05T18:26:25.129Z"
   },
   {
    "duration": 4,
    "start_time": "2023-07-05T18:26:30.424Z"
   },
   {
    "duration": 5,
    "start_time": "2023-07-05T18:36:55.933Z"
   },
   {
    "duration": 15,
    "start_time": "2023-07-05T18:37:36.876Z"
   },
   {
    "duration": 5,
    "start_time": "2023-07-05T18:38:31.016Z"
   },
   {
    "duration": 8,
    "start_time": "2023-07-05T18:39:19.617Z"
   },
   {
    "duration": 14,
    "start_time": "2023-07-05T18:39:27.889Z"
   },
   {
    "duration": 6,
    "start_time": "2023-07-05T18:39:36.471Z"
   },
   {
    "duration": 5,
    "start_time": "2023-07-05T18:39:38.923Z"
   },
   {
    "duration": 6,
    "start_time": "2023-07-05T18:40:01.668Z"
   },
   {
    "duration": 5,
    "start_time": "2023-07-05T18:40:13.431Z"
   },
   {
    "duration": 11,
    "start_time": "2023-07-05T18:40:22.936Z"
   },
   {
    "duration": 4,
    "start_time": "2023-07-05T18:42:15.667Z"
   },
   {
    "duration": 7,
    "start_time": "2023-07-05T18:42:22.274Z"
   },
   {
    "duration": 9,
    "start_time": "2023-07-05T18:42:41.417Z"
   },
   {
    "duration": 10,
    "start_time": "2023-07-05T18:42:53.476Z"
   },
   {
    "duration": 5,
    "start_time": "2023-07-05T18:43:14.977Z"
   },
   {
    "duration": 20,
    "start_time": "2023-07-05T18:43:16.896Z"
   },
   {
    "duration": 8,
    "start_time": "2023-07-05T18:44:01.001Z"
   },
   {
    "duration": 6,
    "start_time": "2023-07-05T18:44:16.623Z"
   },
   {
    "duration": 3,
    "start_time": "2023-07-05T18:44:53.334Z"
   },
   {
    "duration": 5,
    "start_time": "2023-07-05T18:44:54.444Z"
   },
   {
    "duration": 18,
    "start_time": "2023-07-05T18:44:54.926Z"
   },
   {
    "duration": 8,
    "start_time": "2023-07-05T18:45:10.492Z"
   },
   {
    "duration": 4,
    "start_time": "2023-07-05T18:46:07.486Z"
   },
   {
    "duration": 5,
    "start_time": "2023-07-05T18:46:08.737Z"
   },
   {
    "duration": 18,
    "start_time": "2023-07-05T18:46:09.583Z"
   },
   {
    "duration": 4,
    "start_time": "2023-07-05T18:46:16.594Z"
   },
   {
    "duration": 5,
    "start_time": "2023-07-05T18:46:17.655Z"
   },
   {
    "duration": 19,
    "start_time": "2023-07-05T18:46:18.128Z"
   },
   {
    "duration": 4,
    "start_time": "2023-07-05T18:46:26.925Z"
   },
   {
    "duration": 7,
    "start_time": "2023-07-05T18:46:27.956Z"
   },
   {
    "duration": 22,
    "start_time": "2023-07-05T18:46:28.526Z"
   },
   {
    "duration": 10,
    "start_time": "2023-07-05T18:46:38.185Z"
   },
   {
    "duration": 11,
    "start_time": "2023-07-05T18:46:49.126Z"
   },
   {
    "duration": 12,
    "start_time": "2023-07-05T18:46:54.386Z"
   },
   {
    "duration": 13,
    "start_time": "2023-07-05T18:46:57.545Z"
   },
   {
    "duration": 11,
    "start_time": "2023-07-05T18:47:02.513Z"
   },
   {
    "duration": 7,
    "start_time": "2023-07-05T18:47:18.414Z"
   },
   {
    "duration": 7,
    "start_time": "2023-07-05T18:47:26.265Z"
   },
   {
    "duration": 5,
    "start_time": "2023-07-05T18:47:35.276Z"
   },
   {
    "duration": 5,
    "start_time": "2023-07-05T18:47:36.927Z"
   },
   {
    "duration": 3411,
    "start_time": "2023-07-05T18:47:37.979Z"
   },
   {
    "duration": 3398,
    "start_time": "2023-07-05T18:49:39.257Z"
   },
   {
    "duration": 3456,
    "start_time": "2023-07-05T18:49:51.343Z"
   },
   {
    "duration": 6,
    "start_time": "2023-07-05T18:51:25.828Z"
   },
   {
    "duration": 6,
    "start_time": "2023-07-05T18:51:27.089Z"
   },
   {
    "duration": 3554,
    "start_time": "2023-07-05T18:51:27.595Z"
   },
   {
    "duration": 8,
    "start_time": "2023-07-05T18:52:02.382Z"
   },
   {
    "duration": 1265,
    "start_time": "2023-07-05T18:52:02.998Z"
   },
   {
    "duration": 1250,
    "start_time": "2023-07-05T18:52:04.265Z"
   },
   {
    "duration": 1290,
    "start_time": "2023-07-05T18:52:05.518Z"
   },
   {
    "duration": 5,
    "start_time": "2023-07-05T18:52:45.430Z"
   },
   {
    "duration": 1174,
    "start_time": "2023-07-05T18:52:45.756Z"
   },
   {
    "duration": 1202,
    "start_time": "2023-07-05T18:52:46.932Z"
   },
   {
    "duration": 1220,
    "start_time": "2023-07-05T18:52:48.136Z"
   },
   {
    "duration": 1427,
    "start_time": "2023-07-05T19:18:25.002Z"
   },
   {
    "duration": 443,
    "start_time": "2023-07-05T19:18:26.431Z"
   },
   {
    "duration": 8,
    "start_time": "2023-07-05T19:18:26.876Z"
   },
   {
    "duration": 25,
    "start_time": "2023-07-05T19:18:26.886Z"
   },
   {
    "duration": 116,
    "start_time": "2023-07-05T19:18:26.914Z"
   },
   {
    "duration": 111,
    "start_time": "2023-07-05T19:18:27.032Z"
   },
   {
    "duration": 122,
    "start_time": "2023-07-05T19:18:27.155Z"
   },
   {
    "duration": 41,
    "start_time": "2023-07-05T19:18:27.279Z"
   },
   {
    "duration": 64,
    "start_time": "2023-07-05T19:18:27.322Z"
   },
   {
    "duration": 39,
    "start_time": "2023-07-05T19:18:27.388Z"
   },
   {
    "duration": 397,
    "start_time": "2023-07-05T19:18:27.429Z"
   },
   {
    "duration": 375,
    "start_time": "2023-07-05T19:18:27.828Z"
   },
   {
    "duration": 380,
    "start_time": "2023-07-05T19:18:28.205Z"
   },
   {
    "duration": 3,
    "start_time": "2023-07-05T19:18:28.589Z"
   },
   {
    "duration": 33,
    "start_time": "2023-07-05T19:18:28.593Z"
   },
   {
    "duration": 22,
    "start_time": "2023-07-05T19:18:28.627Z"
   },
   {
    "duration": 55,
    "start_time": "2023-07-05T19:18:28.651Z"
   },
   {
    "duration": 27,
    "start_time": "2023-07-05T19:18:28.708Z"
   },
   {
    "duration": 38,
    "start_time": "2023-07-05T19:18:28.737Z"
   },
   {
    "duration": 27,
    "start_time": "2023-07-05T19:18:28.777Z"
   },
   {
    "duration": 39,
    "start_time": "2023-07-05T19:18:28.806Z"
   },
   {
    "duration": 30,
    "start_time": "2023-07-05T19:18:28.847Z"
   },
   {
    "duration": 29,
    "start_time": "2023-07-05T19:18:28.878Z"
   },
   {
    "duration": 45,
    "start_time": "2023-07-05T19:18:28.908Z"
   },
   {
    "duration": 220,
    "start_time": "2023-07-05T19:18:28.955Z"
   },
   {
    "duration": 190,
    "start_time": "2023-07-05T19:18:29.177Z"
   },
   {
    "duration": 194,
    "start_time": "2023-07-05T19:18:29.370Z"
   },
   {
    "duration": 37,
    "start_time": "2023-07-05T19:18:29.566Z"
   },
   {
    "duration": 13,
    "start_time": "2023-07-05T19:18:29.605Z"
   },
   {
    "duration": 27,
    "start_time": "2023-07-05T19:18:29.619Z"
   },
   {
    "duration": 33,
    "start_time": "2023-07-05T19:18:29.648Z"
   },
   {
    "duration": 23,
    "start_time": "2023-07-05T19:18:29.682Z"
   },
   {
    "duration": 36,
    "start_time": "2023-07-05T19:18:29.707Z"
   },
   {
    "duration": 1193,
    "start_time": "2023-07-05T19:18:29.745Z"
   },
   {
    "duration": 1168,
    "start_time": "2023-07-05T19:18:30.940Z"
   },
   {
    "duration": 1231,
    "start_time": "2023-07-05T19:18:32.110Z"
   },
   {
    "duration": 13015,
    "start_time": "2023-07-05T20:21:31.097Z"
   },
   {
    "duration": 2612,
    "start_time": "2023-07-05T20:21:44.120Z"
   },
   {
    "duration": 8,
    "start_time": "2023-07-05T20:21:46.737Z"
   },
   {
    "duration": 20,
    "start_time": "2023-07-05T20:21:46.748Z"
   },
   {
    "duration": 201,
    "start_time": "2023-07-05T20:21:46.772Z"
   },
   {
    "duration": 163,
    "start_time": "2023-07-05T20:21:46.975Z"
   },
   {
    "duration": 131,
    "start_time": "2023-07-05T20:21:47.151Z"
   },
   {
    "duration": 49,
    "start_time": "2023-07-05T20:21:47.285Z"
   },
   {
    "duration": 53,
    "start_time": "2023-07-05T20:21:47.336Z"
   },
   {
    "duration": 81,
    "start_time": "2023-07-05T20:21:47.394Z"
   },
   {
    "duration": 495,
    "start_time": "2023-07-05T20:21:47.478Z"
   },
   {
    "duration": 487,
    "start_time": "2023-07-05T20:21:47.977Z"
   },
   {
    "duration": 403,
    "start_time": "2023-07-05T20:21:48.466Z"
   },
   {
    "duration": 7,
    "start_time": "2023-07-05T20:21:48.876Z"
   },
   {
    "duration": 42,
    "start_time": "2023-07-05T20:21:48.888Z"
   },
   {
    "duration": 64,
    "start_time": "2023-07-05T20:21:48.936Z"
   },
   {
    "duration": 44,
    "start_time": "2023-07-05T20:21:49.002Z"
   },
   {
    "duration": 5,
    "start_time": "2023-07-05T20:21:49.048Z"
   },
   {
    "duration": 28,
    "start_time": "2023-07-05T20:21:49.056Z"
   },
   {
    "duration": 6,
    "start_time": "2023-07-05T20:21:49.087Z"
   },
   {
    "duration": 44,
    "start_time": "2023-07-05T20:21:49.095Z"
   },
   {
    "duration": 30,
    "start_time": "2023-07-05T20:21:49.141Z"
   },
   {
    "duration": 7,
    "start_time": "2023-07-05T20:21:49.173Z"
   },
   {
    "duration": 97,
    "start_time": "2023-07-05T20:21:49.182Z"
   },
   {
    "duration": 102,
    "start_time": "2023-07-05T20:21:49.314Z"
   },
   {
    "duration": 113,
    "start_time": "2023-07-05T20:21:49.428Z"
   },
   {
    "duration": 15,
    "start_time": "2023-07-05T20:21:49.550Z"
   },
   {
    "duration": 9,
    "start_time": "2023-07-05T20:21:49.624Z"
   },
   {
    "duration": 26,
    "start_time": "2023-07-05T20:21:49.640Z"
   },
   {
    "duration": 31,
    "start_time": "2023-07-05T20:21:49.673Z"
   },
   {
    "duration": 43,
    "start_time": "2023-07-05T20:21:49.706Z"
   },
   {
    "duration": 13,
    "start_time": "2023-07-05T20:21:49.754Z"
   },
   {
    "duration": 16,
    "start_time": "2023-07-05T20:21:49.772Z"
   },
   {
    "duration": 1744,
    "start_time": "2023-07-05T20:21:49.791Z"
   },
   {
    "duration": 1720,
    "start_time": "2023-07-05T20:21:51.537Z"
   },
   {
    "duration": 1574,
    "start_time": "2023-07-05T20:21:53.262Z"
   },
   {
    "duration": 6,
    "start_time": "2023-07-05T20:22:07.833Z"
   },
   {
    "duration": 6,
    "start_time": "2023-07-05T20:22:08.394Z"
   },
   {
    "duration": 1544,
    "start_time": "2023-07-05T20:22:08.751Z"
   },
   {
    "duration": 1525,
    "start_time": "2023-07-05T20:22:10.298Z"
   },
   {
    "duration": 1462,
    "start_time": "2023-07-05T20:22:11.824Z"
   },
   {
    "duration": 5,
    "start_time": "2023-07-05T20:22:39.388Z"
   },
   {
    "duration": 6,
    "start_time": "2023-07-05T20:22:39.991Z"
   },
   {
    "duration": 1429,
    "start_time": "2023-07-05T20:22:40.309Z"
   },
   {
    "duration": 1470,
    "start_time": "2023-07-05T20:22:41.740Z"
   },
   {
    "duration": 1596,
    "start_time": "2023-07-05T20:22:43.212Z"
   },
   {
    "duration": 1708,
    "start_time": "2023-07-06T07:19:57.181Z"
   },
   {
    "duration": 734,
    "start_time": "2023-07-06T07:19:58.891Z"
   },
   {
    "duration": 6,
    "start_time": "2023-07-06T07:19:59.627Z"
   },
   {
    "duration": 5,
    "start_time": "2023-07-06T07:19:59.635Z"
   },
   {
    "duration": 92,
    "start_time": "2023-07-06T07:19:59.642Z"
   },
   {
    "duration": 79,
    "start_time": "2023-07-06T07:19:59.735Z"
   },
   {
    "duration": 97,
    "start_time": "2023-07-06T07:19:59.815Z"
   },
   {
    "duration": 43,
    "start_time": "2023-07-06T07:19:59.914Z"
   },
   {
    "duration": 46,
    "start_time": "2023-07-06T07:19:59.959Z"
   },
   {
    "duration": 33,
    "start_time": "2023-07-06T07:20:00.008Z"
   },
   {
    "duration": 397,
    "start_time": "2023-07-06T07:20:00.043Z"
   },
   {
    "duration": 327,
    "start_time": "2023-07-06T07:20:00.441Z"
   },
   {
    "duration": 308,
    "start_time": "2023-07-06T07:20:00.770Z"
   },
   {
    "duration": 3,
    "start_time": "2023-07-06T07:20:01.079Z"
   },
   {
    "duration": 39,
    "start_time": "2023-07-06T07:20:01.084Z"
   },
   {
    "duration": 38,
    "start_time": "2023-07-06T07:20:01.125Z"
   },
   {
    "duration": 39,
    "start_time": "2023-07-06T07:20:01.165Z"
   },
   {
    "duration": 18,
    "start_time": "2023-07-06T07:20:01.206Z"
   },
   {
    "duration": 46,
    "start_time": "2023-07-06T07:20:01.225Z"
   },
   {
    "duration": 23,
    "start_time": "2023-07-06T07:20:01.273Z"
   },
   {
    "duration": 38,
    "start_time": "2023-07-06T07:20:01.297Z"
   },
   {
    "duration": 14,
    "start_time": "2023-07-06T07:20:01.337Z"
   },
   {
    "duration": 23,
    "start_time": "2023-07-06T07:20:01.352Z"
   },
   {
    "duration": 74,
    "start_time": "2023-07-06T07:20:01.377Z"
   },
   {
    "duration": 114,
    "start_time": "2023-07-06T07:20:01.453Z"
   },
   {
    "duration": 202,
    "start_time": "2023-07-06T07:20:01.568Z"
   },
   {
    "duration": 139,
    "start_time": "2023-07-06T07:20:01.856Z"
   },
   {
    "duration": 31,
    "start_time": "2023-07-06T07:20:02.000Z"
   },
   {
    "duration": 32,
    "start_time": "2023-07-06T07:20:02.033Z"
   },
   {
    "duration": 24,
    "start_time": "2023-07-06T07:20:02.067Z"
   },
   {
    "duration": 81,
    "start_time": "2023-07-06T07:20:02.093Z"
   },
   {
    "duration": 4,
    "start_time": "2023-07-06T07:21:57.485Z"
   },
   {
    "duration": 5,
    "start_time": "2023-07-06T07:21:59.862Z"
   },
   {
    "duration": 1037,
    "start_time": "2023-07-06T07:22:01.226Z"
   },
   {
    "duration": 984,
    "start_time": "2023-07-06T07:22:03.389Z"
   },
   {
    "duration": 1033,
    "start_time": "2023-07-06T07:22:05.051Z"
   }
  ],
  "kernelspec": {
   "display_name": "Python 3 (ipykernel)",
   "language": "python",
   "name": "python3"
  },
  "language_info": {
   "codemirror_mode": {
    "name": "ipython",
    "version": 3
   },
   "file_extension": ".py",
   "mimetype": "text/x-python",
   "name": "python",
   "nbconvert_exporter": "python",
   "pygments_lexer": "ipython3",
   "version": "3.9.12"
  },
  "toc": {
   "base_numbering": 1,
   "nav_menu": {},
   "number_sections": true,
   "sideBar": true,
   "skip_h1_title": true,
   "title_cell": "Table of Contents",
   "title_sidebar": "Contents",
   "toc_cell": false,
   "toc_position": {
    "height": "calc(100% - 180px)",
    "left": "10px",
    "top": "150px",
    "width": "294.234px"
   },
   "toc_section_display": true,
   "toc_window_display": true
  }
 },
 "nbformat": 4,
 "nbformat_minor": 4
}
