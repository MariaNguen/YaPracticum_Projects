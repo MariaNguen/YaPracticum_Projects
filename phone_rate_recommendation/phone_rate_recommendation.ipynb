{
 "cells": [
  {
   "cell_type": "markdown",
   "metadata": {},
   "source": [
    "# Рекомендация тарифов"
   ]
  },
  {
   "cell_type": "markdown",
   "metadata": {},
   "source": [
    "Даны данные о поведении клиентов, которые уже перешли на новые тарифы (из проекта курса «Статистический анализ данных»). \n",
    "\n",
    "Каждый объект в наборе данных — это информация о поведении одного пользователя за месяц. Известно:\n",
    "- `сalls` — количество звонков,\n",
    "- `minutes` — суммарная длительность звонков в минутах,\n",
    "- `messages` — количество sms-сообщений,\n",
    "- `mb_used` — израсходованный интернет-трафик в Мб,\n",
    "- `is_ultra` — каким тарифом пользовался в течение месяца («Ультра» — 1, «Смарт» — 0).\n",
    "\n",
    "Нужно построить модель для задачи классификации, которая выберет подходящий тариф. Предобработка данных не понадобится.\n",
    "\n",
    "Необходимо модель с максимально большим значением *accuracy* (не менее 0.75)."
   ]
  },
  {
   "cell_type": "markdown",
   "metadata": {},
   "source": [
    "## Откройте и изучите файл"
   ]
  },
  {
   "cell_type": "code",
   "execution_count": 1,
   "metadata": {},
   "outputs": [],
   "source": [
    "import pandas as pd\n",
    "from sklearn.model_selection import train_test_split\n",
    "from sklearn.tree import DecisionTreeClassifier\n",
    "from sklearn.ensemble import RandomForestClassifier\n",
    "from sklearn.linear_model import LogisticRegression\n",
    "from sklearn.dummy import DummyClassifier\n",
    "from sklearn.metrics import accuracy_score\n",
    "import matplotlib.pyplot as plt\n",
    "import numpy as np"
   ]
  },
  {
   "cell_type": "code",
   "execution_count": 2,
   "metadata": {},
   "outputs": [],
   "source": [
    "users = pd.read_csv('/datasets/users_behavior.csv')"
   ]
  },
  {
   "cell_type": "code",
   "execution_count": 3,
   "metadata": {},
   "outputs": [],
   "source": [
    "def basic_data_info(data):\n",
    "    print('Первые пять строк:')\n",
    "    print(data.head())\n",
    "    print('\\nИнформация:')\n",
    "    print(data.info())\n",
    "    print('\\nНаличие пропусков:')\n",
    "    print(data.isna().sum())\n",
    "    print('\\nНаличие дубликатов:')\n",
    "    print(data.duplicated().sum())\n",
    "    print('\\nСтатистическое описание данных:')\n",
    "    print(data.describe())\n",
    "    "
   ]
  },
  {
   "cell_type": "code",
   "execution_count": 4,
   "metadata": {},
   "outputs": [
    {
     "name": "stdout",
     "output_type": "stream",
     "text": [
      "Первые пять строк:\n",
      "   calls  minutes  messages   mb_used  is_ultra\n",
      "0   40.0   311.90      83.0  19915.42         0\n",
      "1   85.0   516.75      56.0  22696.96         0\n",
      "2   77.0   467.66      86.0  21060.45         0\n",
      "3  106.0   745.53      81.0   8437.39         1\n",
      "4   66.0   418.74       1.0  14502.75         0\n",
      "\n",
      "Информация:\n",
      "<class 'pandas.core.frame.DataFrame'>\n",
      "RangeIndex: 3214 entries, 0 to 3213\n",
      "Data columns (total 5 columns):\n",
      " #   Column    Non-Null Count  Dtype  \n",
      "---  ------    --------------  -----  \n",
      " 0   calls     3214 non-null   float64\n",
      " 1   minutes   3214 non-null   float64\n",
      " 2   messages  3214 non-null   float64\n",
      " 3   mb_used   3214 non-null   float64\n",
      " 4   is_ultra  3214 non-null   int64  \n",
      "dtypes: float64(4), int64(1)\n",
      "memory usage: 125.7 KB\n",
      "None\n",
      "\n",
      "Наличие пропусков:\n",
      "calls       0\n",
      "minutes     0\n",
      "messages    0\n",
      "mb_used     0\n",
      "is_ultra    0\n",
      "dtype: int64\n",
      "\n",
      "Наличие дубликатов:\n",
      "0\n",
      "\n",
      "Статистическое описание данных:\n",
      "             calls      minutes     messages       mb_used     is_ultra\n",
      "count  3214.000000  3214.000000  3214.000000   3214.000000  3214.000000\n",
      "mean     63.038892   438.208787    38.281269  17207.673836     0.306472\n",
      "std      33.236368   234.569872    36.148326   7570.968246     0.461100\n",
      "min       0.000000     0.000000     0.000000      0.000000     0.000000\n",
      "25%      40.000000   274.575000     9.000000  12491.902500     0.000000\n",
      "50%      62.000000   430.600000    30.000000  16943.235000     0.000000\n",
      "75%      82.000000   571.927500    57.000000  21424.700000     1.000000\n",
      "max     244.000000  1632.060000   224.000000  49745.730000     1.000000\n"
     ]
    }
   ],
   "source": [
    "basic_data_info(users)"
   ]
  },
  {
   "cell_type": "code",
   "execution_count": 5,
   "metadata": {},
   "outputs": [
    {
     "data": {
      "text/plain": [
       "0    2229\n",
       "1     985\n",
       "Name: is_ultra, dtype: int64"
      ]
     },
     "execution_count": 5,
     "metadata": {},
     "output_type": "execute_result"
    }
   ],
   "source": [
    "users['is_ultra'].value_counts()"
   ]
  },
  {
   "cell_type": "code",
   "execution_count": 6,
   "metadata": {},
   "outputs": [
    {
     "data": {
      "image/png": "[encoded data removed]",
      "text/plain": [
       "<Figure size 1080x576 with 1 Axes>"
      ]
     },
     "metadata": {},
     "output_type": "display_data"
    }
   ],
   "source": [
    "users['is_ultra'].value_counts().plot(kind='pie', figsize=(15,8), title='Целевые классы');"
   ]
  },
  {
   "cell_type": "markdown",
   "metadata": {},
   "source": [
    "Данные были загружены в датафрейм `users`. Датафрейм содержит 3214 строк. В датафрейме есть 5 колонок. В колонке `is_ultra` содержатся целочисленные значения `int64`, в колонках `calls`, `minutes`, `messages`, `mb_used`- численные значения типа `float64`.<br>\n",
    "В данных нет пропусков и нет дубликатов.\n",
    "\n",
    "Целевым классом, по которому будет проводиться классификация, является `is_ultra`, который принимает два значения: 0 и 1. Мы видим, что классы распределены неравномерно: частотность класса **0** более чем в два раза превышает частотность класса **1**.\n"
   ]
  },
  {
   "cell_type": "markdown",
   "metadata": {},
   "source": [
    "## Разбейте данные на выборки"
   ]
  },
  {
   "cell_type": "markdown",
   "metadata": {},
   "source": [
    "Используем функцию `train_test_split` библиотеки `sklearn` 2 раза:\n",
    "- сначала разобьем данные на обучающую и валидационную+тестовую выборки в отношении 3:2;\n",
    "- затем разобьем вторую выборку на валидационную и тестовую, также в отношении 1:1.\n",
    "\n",
    "Таким образом мы получим три выборки, которые будут относится друг к другу в отношении 3:1:1"
   ]
  },
  {
   "cell_type": "code",
   "execution_count": 7,
   "metadata": {},
   "outputs": [],
   "source": [
    "users_train, users_test_valid = train_test_split(users, test_size=0.4, random_state=1)\n",
    "users_test, users_valid = train_test_split(users_test_valid, test_size=0.5, random_state=1)"
   ]
  },
  {
   "cell_type": "code",
   "execution_count": 8,
   "metadata": {},
   "outputs": [
    {
     "name": "stdout",
     "output_type": "stream",
     "text": [
      "(1928, 5)\n",
      "(643, 5)\n"
     ]
    },
    {
     "data": {
      "text/plain": [
       "(643, 5)"
      ]
     },
     "execution_count": 8,
     "metadata": {},
     "output_type": "execute_result"
    }
   ],
   "source": [
    "print(users_train.shape)\n",
    "print(users_test.shape)\n",
    "users_valid.shape"
   ]
  },
  {
   "cell_type": "markdown",
   "metadata": {},
   "source": [
    "Выделим в данных признаки и целевой класс."
   ]
  },
  {
   "cell_type": "code",
   "execution_count": 9,
   "metadata": {},
   "outputs": [],
   "source": [
    "users_train_X = users_train.drop('is_ultra', axis=1)\n",
    "users_test_X = users_test.drop('is_ultra', axis=1)\n",
    "users_valid_X = users_valid.drop('is_ultra', axis=1)\n",
    "\n",
    "users_train_y = users_train['is_ultra']\n",
    "users_test_y = users_test['is_ultra']\n",
    "users_valid_y = users_valid['is_ultra']"
   ]
  },
  {
   "cell_type": "markdown",
   "metadata": {},
   "source": [
    "## Исследуйте модели\n",
    "Перед нами стоит задача классификации. Сравним результаты работы трех моделей:\n",
    "- дерево решений;\n",
    "- случайный лес;\n",
    "- логистическая регрессия;"
   ]
  },
  {
   "cell_type": "markdown",
   "metadata": {},
   "source": [
    "### Дерево решений\n",
    "Один из гиперпараметров дерева решений - это `max_depth`. Будем изменять значения `max_depth` от 1 до 10."
   ]
  },
  {
   "cell_type": "code",
   "execution_count": 10,
   "metadata": {},
   "outputs": [],
   "source": [
    "best_model_DTC = None\n",
    "best_result_DTC = 0\n",
    "best_max_depth = 0\n",
    "for i in range(1, 11):\n",
    "    model = DecisionTreeClassifier(max_depth=i, random_state=1)\n",
    "    model.fit(users_train_X, users_train_y)\n",
    "    result = model.score(users_valid_X, users_valid_y)\n",
    "    if result > best_result_DTC:\n",
    "        best_model_DTC = model\n",
    "        best_result_DTC = result\n",
    "        best_max_depth = i"
   ]
  },
  {
   "cell_type": "code",
   "execution_count": 11,
   "metadata": {},
   "outputs": [
    {
     "name": "stdout",
     "output_type": "stream",
     "text": [
      "Accuracy наилучшей модели на валидационной выборке: 0.7931570762052877. Достигается при значении гиперпараметра max_depth = 6\n"
     ]
    }
   ],
   "source": [
    "print(f\"Accuracy наилучшей модели на валидационной выборке: {best_result_DTC}. Достигается при значении гиперпараметра max_depth = {best_max_depth}\", )"
   ]
  },
  {
   "cell_type": "markdown",
   "metadata": {},
   "source": [
    "Итак, дерево решений показывает наилучшее значение метрики *accuracy*, равное 0.79, при значении гиперпараметра `max_depth`, равном 6."
   ]
  },
  {
   "cell_type": "markdown",
   "metadata": {},
   "source": [
    "### Случайный лес\n",
    "У модели  случайного леса предлагается менять гиперпараметр `n_estimators` от 1 до 10."
   ]
  },
  {
   "cell_type": "code",
   "execution_count": 12,
   "metadata": {},
   "outputs": [],
   "source": [
    "best_model_RFC = None\n",
    "best_result_RFC = 0\n",
    "best_n_estimators = 0\n",
    "for est in range(1, 11):\n",
    "    model = RandomForestClassifier(random_state=1, n_estimators=est) \n",
    "    model.fit(users_train_X, users_train_y) \n",
    "    result = model.score(users_valid_X, users_valid_y) \n",
    "    if result > best_result_RFC:\n",
    "        best_model_RFC = model \n",
    "        best_result_RFC = result \n",
    "        best_n_estimators = est"
   ]
  },
  {
   "cell_type": "code",
   "execution_count": 13,
   "metadata": {},
   "outputs": [
    {
     "name": "stdout",
     "output_type": "stream",
     "text": [
      "Accuracy наилучшей модели на валидационной выборке: 0.8009331259720062. Достигается при значении гиперпараметра n_estimators = 10\n"
     ]
    }
   ],
   "source": [
    "print(f\"Accuracy наилучшей модели на валидационной выборке: {best_result_RFC}. Достигается при значении гиперпараметра n_estimators = {best_n_estimators}\", )"
   ]
  },
  {
   "cell_type": "markdown",
   "metadata": {},
   "source": [
    "Модель случайного леса демонстрирует наилучшее качество ($accuracy = 0.8$) при значении гиперпараметра `n_estimators`, равном 10. Также эта модель показывает лучшее качество по сравнению с моделью DecisionTreeClassifier."
   ]
  },
  {
   "cell_type": "markdown",
   "metadata": {},
   "source": [
    "### Логистическая регрессия\n",
    "Обучим модель логистической регрессии. Будем замерять качество при разных значениях гиперпараметра `max_iter`."
   ]
  },
  {
   "cell_type": "code",
   "execution_count": 14,
   "metadata": {},
   "outputs": [],
   "source": [
    "best_model_LR = None\n",
    "best_result_LR = 0\n",
    "best_max_iter = 0\n",
    "for i in [100, 500, 1000]:\n",
    "    model = LogisticRegression(random_state=1, solver='lbfgs', max_iter=i)\n",
    "    model.fit(users_train_X, users_train_y) \n",
    "    result = model.score(users_valid_X, users_valid_y) \n",
    "    if result > best_result_LR:\n",
    "        best_model_LR = model \n",
    "        best_result_LR = result \n",
    "        best_max_iter = i"
   ]
  },
  {
   "cell_type": "code",
   "execution_count": 15,
   "metadata": {},
   "outputs": [
    {
     "name": "stdout",
     "output_type": "stream",
     "text": [
      "Accuracy наилучшей модели на валидационной выборке: 0.7558320373250389. Достигается при значении гиперпараметра max_iter = 100\n"
     ]
    }
   ],
   "source": [
    "print(f\"Accuracy наилучшей модели на валидационной выборке: {best_result_LR}. Достигается при значении гиперпараметра max_iter = {best_max_iter}\", )"
   ]
  },
  {
   "cell_type": "markdown",
   "metadata": {},
   "source": [
    "Наилучшее качество логистическая регрессия показала при значении `max_iter` = 100. Метрика *accuracy* достигла значения 0.76."
   ]
  },
  {
   "cell_type": "markdown",
   "metadata": {},
   "source": [
    "### Исследование моделей: выводы\n",
    "Наилучшее качество продемонстрировала модель случайного леса со значением гиперпараметра `n_estimators` = 10. Значение метрики *accuracy* на валидационной выборке равно 0.8.\n",
    "\n",
    "Второй моделью по качеству стала модель DecisionTreeClassifier: она продемонстрировала *accuracy* = 0.79 при `max_depth` = 6.\n",
    "\n",
    "Третьей по качеству оказалась модель логистической регрессии с *accuracy* = 0.76 при значении гиперпараметра `max_iter` = 100 (дефолтное значение)."
   ]
  },
  {
   "cell_type": "markdown",
   "metadata": {},
   "source": [
    "## Проверьте модель на тестовой выборке\n",
    "Проверим качество нашей лучшей модели (случайный лес) на тестовой выборке."
   ]
  },
  {
   "cell_type": "code",
   "execution_count": 16,
   "metadata": {},
   "outputs": [],
   "source": [
    "result_test = best_model_RFC.score(users_test_X, users_test_y)"
   ]
  },
  {
   "cell_type": "code",
   "execution_count": 17,
   "metadata": {},
   "outputs": [
    {
     "name": "stdout",
     "output_type": "stream",
     "text": [
      "Accuracy лучшей модели RandomForestClassifier на тестовой выборке: 0.7807153965785381\n"
     ]
    }
   ],
   "source": [
    "print(f'Accuracy лучшей модели RandomForestClassifier на тестовой выборке: {result_test}')"
   ]
  },
  {
   "cell_type": "markdown",
   "metadata": {},
   "source": [
    "Итак, модель случайного леса демонстрирует приемлемое значение метрики *accuracy* на тестовой выборке: $accuracy = 0.78$."
   ]
  },
  {
   "cell_type": "markdown",
   "metadata": {},
   "source": [
    "## (бонус) Проверьте модели на адекватность\n",
    "На этапе изучения данных, мы увидели, что классы распределены неравномерно: класс **0** встречается чаще, чем класс **1**, более чем в два раза. Можно проверить, что наша модель работает лучше, чем модель, которая всегда бы предсказывала самый частотный класс."
   ]
  },
  {
   "cell_type": "code",
   "execution_count": 18,
   "metadata": {},
   "outputs": [
    {
     "name": "stdout",
     "output_type": "stream",
     "text": [
      "Accuracy DummyClassifier на тестовой выборке: 0.6640746500777605\n"
     ]
    }
   ],
   "source": [
    "dummy_clf = DummyClassifier(strategy=\"most_frequent\")\n",
    "dummy_clf.fit(users_train_X, users_train_y)\n",
    "print(f'Accuracy DummyClassifier на тестовой выборке: {dummy_clf.score(users_test_X, users_test_y)}')"
   ]
  },
  {
   "cell_type": "markdown",
   "metadata": {},
   "source": [
    "Получаем, что *accuracy* DummyClassifier-а ниже, чем качество выбранной нами модели случайного леса, т.е. выбранная нами модель проходит проверку на адекватность.\n",
    "\n",
    "Также мы можем посмотреть на важность признаков, по которым случайный лес делает классификацию."
   ]
  },
  {
   "cell_type": "code",
   "execution_count": 19,
   "metadata": {},
   "outputs": [],
   "source": [
    "importances = best_model_RFC.feature_importances_\n"
   ]
  },
  {
   "cell_type": "code",
   "execution_count": 20,
   "metadata": {},
   "outputs": [
    {
     "data": {
      "image/png": "[encoded data removed]",
      "text/plain": [
       "<Figure size 1080x576 with 1 Axes>"
      ]
     },
     "metadata": {
      "needs_background": "light"
     },
     "output_type": "display_data"
    }
   ],
   "source": [
    "importances = pd.Series(importances, index=users_train_X.columns)\n",
    "importances.plot.bar(figsize=(15,8), title='Feature Importances');\n"
   ]
  },
  {
   "cell_type": "markdown",
   "metadata": {},
   "source": [
    "Если бы у нас было больше информации о тарифах, то интерпретация важности признаков могла бы помочь оценить адекватность модели: например, если бы мы знали, что один из тарифов имеет более выгодные условия с точки зрения расхода интернет-трафика, то более высокая важноть этого признака была бы легко объяснима."
   ]
  },
  {
   "cell_type": "markdown",
   "metadata": {},
   "source": [
    "## Выводы\n",
    "Мы проанализировали данные о поведении клиентов оператора мобильной связи и предложили модель классификации, которая помогает выбрать подходящий тариф. Для выполнения этой задачи были пройдены следующие этапы:\n",
    "1. Загрузка и изучение данных. Данные были загружены в датафрейм `users`, содержащий 3214 строк и 5 колонок. В колонке `is_ultra` содержатся целочисленные значения `int64`, в колонках `calls`, `minutes`, `messages`, `mb_used`- численные значения типа `float64`.<br>\n",
    "В данных нет пропусков и нет дубликатов.\n",
    "Было обнаружено, что целевые классы `is_ultra` в данных распределены неравномерно: частотность класса **0** более чем в два раза превышает частотность класса **1**.\n",
    "\n",
    "\n",
    "2. Данные были разбиты на три выборки: обучающую, валидационную и тестовую в соотношении 3:1:1. Объем выборок получился 1928, 643 и 643 наблюдения соответственно. \n",
    "\n",
    "\n",
    "3. Было рассмотрено три классификатора:\n",
    "    - решающее дерево (DecisionTreeClassifier). Мы варьировали значение гиперпараметра `max_depth` от 1 до 10. Модель показала наилучший результат при `max_depth` = 0: $accuracy = 0.79$ на валидационной выборке.\n",
    "    - случайный лес (RandomForestClasifier). Были рассмотрены значения гиперпараметра `n_estimators` от 1 до 10. Модель показала наилучший результат $accuracy = 0.8$ на валидационной выборке при `n_estimators` = 10.\n",
    "    - логистическая регрессия (LogisticRegression). Наилучшее качество логистическая регрессия показала при значении `max_iter` = 100. Метрика *accuracy* достигла значения 0.76.\n",
    "    \n",
    "    На основе экспериментов была выбрана модель RandomForestClassifier со значением `n_estimators` = 10.\n",
    "\n",
    "\n",
    "4. Была выполнена проверка качества выбранной модели на тестовой выборке. Модель продемонстрировала качество $accuracy=0.78$.\n",
    "\n",
    "\n",
    "5. была выполнена проверка модели на адекватность: мы обучили DummyClassifier, который предсказывал самое частотное значение целевой переменной. Качество такой модели равно $accuracy=0.66$. Таким образом, мы видим, что качество нашей модели выше, чем качество модели, которая предсказывает самое частое значение."
   ]
  }
 ],
 "metadata": {
  "ExecuteTimeLog": [
   {
    "duration": 379,
    "start_time": "2023-05-30T14:55:53.180Z"
   },
   {
    "duration": 64,
    "start_time": "2023-05-30T14:56:07.061Z"
   },
   {
    "duration": 63,
    "start_time": "2023-05-30T14:56:10.611Z"
   },
   {
    "duration": 4,
    "start_time": "2023-05-30T15:03:37.743Z"
   },
   {
    "duration": 3,
    "start_time": "2023-05-30T15:03:42.587Z"
   },
   {
    "duration": 42,
    "start_time": "2023-05-30T15:03:53.070Z"
   },
   {
    "duration": 4,
    "start_time": "2023-05-30T15:05:33.218Z"
   },
   {
    "duration": 32,
    "start_time": "2023-05-30T15:05:33.499Z"
   },
   {
    "duration": 4,
    "start_time": "2023-05-30T15:05:56.677Z"
   },
   {
    "duration": 32,
    "start_time": "2023-05-30T15:05:56.840Z"
   },
   {
    "duration": 370,
    "start_time": "2023-05-31T08:50:50.209Z"
   },
   {
    "duration": 62,
    "start_time": "2023-05-31T08:50:50.581Z"
   },
   {
    "duration": 4,
    "start_time": "2023-05-31T08:50:51.045Z"
   },
   {
    "duration": 33,
    "start_time": "2023-05-31T08:50:51.992Z"
   },
   {
    "duration": 3,
    "start_time": "2023-05-31T08:54:20.184Z"
   },
   {
    "duration": 28,
    "start_time": "2023-05-31T08:54:20.358Z"
   },
   {
    "duration": 3,
    "start_time": "2023-05-31T08:54:20.847Z"
   },
   {
    "duration": 32,
    "start_time": "2023-05-31T08:54:21.314Z"
   },
   {
    "duration": 751,
    "start_time": "2023-05-31T09:02:52.835Z"
   },
   {
    "duration": 7,
    "start_time": "2023-05-31T09:10:55.641Z"
   },
   {
    "duration": 14,
    "start_time": "2023-05-31T09:11:33.904Z"
   },
   {
    "duration": 6,
    "start_time": "2023-05-31T09:20:40.927Z"
   },
   {
    "duration": 40,
    "start_time": "2023-05-31T09:22:40.485Z"
   },
   {
    "duration": 2,
    "start_time": "2023-05-31T09:23:20.629Z"
   },
   {
    "duration": 29,
    "start_time": "2023-05-31T09:30:23.787Z"
   },
   {
    "duration": 3,
    "start_time": "2023-05-31T09:30:24.618Z"
   },
   {
    "duration": 9,
    "start_time": "2023-05-31T09:34:25.396Z"
   },
   {
    "duration": 271,
    "start_time": "2023-05-31T09:36:07.811Z"
   },
   {
    "duration": 4,
    "start_time": "2023-05-31T09:36:08.084Z"
   },
   {
    "duration": 90,
    "start_time": "2023-05-31T09:36:32.446Z"
   },
   {
    "duration": 4,
    "start_time": "2023-05-31T09:36:33.242Z"
   },
   {
    "duration": 4,
    "start_time": "2023-05-31T09:36:55.951Z"
   },
   {
    "duration": 494,
    "start_time": "2023-05-31T09:37:10.219Z"
   },
   {
    "duration": 4,
    "start_time": "2023-05-31T09:37:11.308Z"
   },
   {
    "duration": 261,
    "start_time": "2023-05-31T09:37:17.498Z"
   },
   {
    "duration": 3,
    "start_time": "2023-05-31T09:37:17.889Z"
   },
   {
    "duration": 3,
    "start_time": "2023-05-31T09:41:39.517Z"
   },
   {
    "duration": 119,
    "start_time": "2023-05-31T09:43:26.157Z"
   },
   {
    "duration": 3,
    "start_time": "2023-05-31T09:43:26.799Z"
   },
   {
    "duration": 144,
    "start_time": "2023-05-31T09:44:35.989Z"
   },
   {
    "duration": 3,
    "start_time": "2023-05-31T09:44:43.789Z"
   },
   {
    "duration": 125,
    "start_time": "2023-05-31T09:44:49.027Z"
   },
   {
    "duration": 4,
    "start_time": "2023-05-31T09:44:49.789Z"
   },
   {
    "duration": 86,
    "start_time": "2023-05-31T09:45:02.789Z"
   },
   {
    "duration": 4,
    "start_time": "2023-05-31T09:45:03.219Z"
   },
   {
    "duration": 23,
    "start_time": "2023-05-31T09:47:44.590Z"
   },
   {
    "duration": 3,
    "start_time": "2023-05-31T09:47:45.264Z"
   },
   {
    "duration": 90,
    "start_time": "2023-05-31T09:47:48.702Z"
   },
   {
    "duration": 3,
    "start_time": "2023-05-31T09:47:49.236Z"
   },
   {
    "duration": 97,
    "start_time": "2023-05-31T09:54:15.586Z"
   },
   {
    "duration": 10,
    "start_time": "2023-05-31T09:54:23.222Z"
   },
   {
    "duration": 3,
    "start_time": "2023-05-31T09:55:04.449Z"
   },
   {
    "duration": 3,
    "start_time": "2023-05-31T09:55:28.591Z"
   },
   {
    "duration": 6,
    "start_time": "2023-05-31T09:57:54.449Z"
   },
   {
    "duration": 6,
    "start_time": "2023-05-31T09:58:10.319Z"
   },
   {
    "duration": 4,
    "start_time": "2023-05-31T10:03:35.443Z"
   },
   {
    "duration": 111,
    "start_time": "2023-05-31T10:04:32.592Z"
   },
   {
    "duration": 5,
    "start_time": "2023-05-31T10:04:35.240Z"
   },
   {
    "duration": 6,
    "start_time": "2023-05-31T10:04:54.587Z"
   },
   {
    "duration": 9,
    "start_time": "2023-05-31T10:05:35.190Z"
   },
   {
    "duration": 9,
    "start_time": "2023-05-31T10:06:06.499Z"
   },
   {
    "duration": 486,
    "start_time": "2023-05-31T10:06:27.594Z"
   },
   {
    "duration": 123,
    "start_time": "2023-05-31T10:06:28.990Z"
   },
   {
    "duration": 2,
    "start_time": "2023-05-31T10:07:01.756Z"
   },
   {
    "duration": 6,
    "start_time": "2023-05-31T10:07:13.393Z"
   },
   {
    "duration": 3,
    "start_time": "2023-05-31T10:07:14.082Z"
   },
   {
    "duration": 352,
    "start_time": "2023-05-31T10:07:14.471Z"
   },
   {
    "duration": 284,
    "start_time": "2023-05-31T10:10:57.146Z"
   },
   {
    "duration": 1631,
    "start_time": "2023-06-01T07:38:26.693Z"
   },
   {
    "duration": 67,
    "start_time": "2023-06-01T07:38:31.257Z"
   },
   {
    "duration": 4,
    "start_time": "2023-06-01T07:38:31.848Z"
   },
   {
    "duration": 34,
    "start_time": "2023-06-01T07:38:33.358Z"
   },
   {
    "duration": 13306,
    "start_time": "2023-06-01T07:39:13.608Z"
   },
   {
    "duration": 67,
    "start_time": "2023-06-01T07:42:50.387Z"
   },
   {
    "duration": 83,
    "start_time": "2023-06-01T07:44:12.210Z"
   },
   {
    "duration": 85,
    "start_time": "2023-06-01T07:44:16.556Z"
   },
   {
    "duration": 5,
    "start_time": "2023-06-01T07:52:48.846Z"
   },
   {
    "duration": 6,
    "start_time": "2023-06-01T07:54:13.747Z"
   },
   {
    "duration": 5,
    "start_time": "2023-06-01T07:54:14.161Z"
   },
   {
    "duration": 7,
    "start_time": "2023-06-01T07:54:15.526Z"
   },
   {
    "duration": 66,
    "start_time": "2023-06-01T07:54:17.046Z"
   },
   {
    "duration": 4,
    "start_time": "2023-06-01T07:54:17.495Z"
   },
   {
    "duration": 259,
    "start_time": "2023-06-01T07:54:21.026Z"
   },
   {
    "duration": 3,
    "start_time": "2023-06-01T07:54:21.395Z"
   },
   {
    "duration": 83,
    "start_time": "2023-06-01T07:54:22.580Z"
   },
   {
    "duration": 3,
    "start_time": "2023-06-01T07:54:22.998Z"
   },
   {
    "duration": 7,
    "start_time": "2023-06-01T07:54:24.742Z"
   },
   {
    "duration": 4,
    "start_time": "2023-06-01T07:54:25.014Z"
   },
   {
    "duration": 6,
    "start_time": "2023-06-01T07:54:26.046Z"
   },
   {
    "duration": 6,
    "start_time": "2023-06-01T07:54:26.449Z"
   },
   {
    "duration": 5,
    "start_time": "2023-06-01T07:54:27.914Z"
   },
   {
    "duration": 346,
    "start_time": "2023-06-01T07:54:28.795Z"
   },
   {
    "duration": 3,
    "start_time": "2023-06-01T07:58:14.096Z"
   },
   {
    "duration": 5,
    "start_time": "2023-06-01T08:00:22.379Z"
   },
   {
    "duration": 105,
    "start_time": "2023-06-01T08:45:47.130Z"
   },
   {
    "duration": 154,
    "start_time": "2023-06-01T08:46:12.469Z"
   },
   {
    "duration": 155,
    "start_time": "2023-06-01T08:46:15.272Z"
   },
   {
    "duration": 1795,
    "start_time": "2023-06-01T09:05:07.730Z"
   },
   {
    "duration": 31,
    "start_time": "2023-06-01T09:05:09.527Z"
   },
   {
    "duration": 4,
    "start_time": "2023-06-01T09:05:09.560Z"
   },
   {
    "duration": 45,
    "start_time": "2023-06-01T09:05:09.566Z"
   },
   {
    "duration": 7,
    "start_time": "2023-06-01T09:05:09.612Z"
   },
   {
    "duration": 106,
    "start_time": "2023-06-01T09:05:09.621Z"
   },
   {
    "duration": 7,
    "start_time": "2023-06-01T09:05:09.729Z"
   },
   {
    "duration": 14,
    "start_time": "2023-06-01T09:05:09.738Z"
   },
   {
    "duration": 14,
    "start_time": "2023-06-01T09:05:09.754Z"
   },
   {
    "duration": 90,
    "start_time": "2023-06-01T09:05:09.771Z"
   },
   {
    "duration": 3,
    "start_time": "2023-06-01T09:05:09.862Z"
   },
   {
    "duration": 261,
    "start_time": "2023-06-01T09:05:09.867Z"
   },
   {
    "duration": 3,
    "start_time": "2023-06-01T09:05:10.130Z"
   },
   {
    "duration": 98,
    "start_time": "2023-06-01T09:05:10.134Z"
   },
   {
    "duration": 3,
    "start_time": "2023-06-01T09:05:10.234Z"
   },
   {
    "duration": 22,
    "start_time": "2023-06-01T09:05:10.239Z"
   },
   {
    "duration": 17,
    "start_time": "2023-06-01T09:05:10.263Z"
   },
   {
    "duration": 12,
    "start_time": "2023-06-01T09:05:10.282Z"
   },
   {
    "duration": 15,
    "start_time": "2023-06-01T09:05:10.296Z"
   },
   {
    "duration": 21,
    "start_time": "2023-06-01T09:05:10.312Z"
   },
   {
    "duration": 15,
    "start_time": "2023-06-01T09:05:10.335Z"
   },
   {
    "duration": 189,
    "start_time": "2023-06-01T09:05:10.352Z"
   },
   {
    "duration": 1514,
    "start_time": "2023-06-01T09:49:23.418Z"
   },
   {
    "duration": 36,
    "start_time": "2023-06-01T09:49:24.934Z"
   },
   {
    "duration": 3,
    "start_time": "2023-06-01T09:49:24.972Z"
   },
   {
    "duration": 44,
    "start_time": "2023-06-01T09:49:24.977Z"
   },
   {
    "duration": 6,
    "start_time": "2023-06-01T09:49:25.024Z"
   },
   {
    "duration": 120,
    "start_time": "2023-06-01T09:49:25.031Z"
   },
   {
    "duration": 11,
    "start_time": "2023-06-01T09:49:25.154Z"
   },
   {
    "duration": 19,
    "start_time": "2023-06-01T09:49:25.167Z"
   },
   {
    "duration": 13,
    "start_time": "2023-06-01T09:49:25.187Z"
   },
   {
    "duration": 77,
    "start_time": "2023-06-01T09:49:25.201Z"
   },
   {
    "duration": 4,
    "start_time": "2023-06-01T09:49:25.279Z"
   },
   {
    "duration": 283,
    "start_time": "2023-06-01T09:49:25.284Z"
   },
   {
    "duration": 4,
    "start_time": "2023-06-01T09:49:25.569Z"
   },
   {
    "duration": 111,
    "start_time": "2023-06-01T09:49:25.575Z"
   },
   {
    "duration": 3,
    "start_time": "2023-06-01T09:49:25.688Z"
   },
   {
    "duration": 12,
    "start_time": "2023-06-01T09:49:25.693Z"
   },
   {
    "duration": 4,
    "start_time": "2023-06-01T09:49:25.706Z"
   },
   {
    "duration": 7,
    "start_time": "2023-06-01T09:49:25.712Z"
   },
   {
    "duration": 29,
    "start_time": "2023-06-01T09:49:25.721Z"
   },
   {
    "duration": 8,
    "start_time": "2023-06-01T09:49:25.755Z"
   },
   {
    "duration": 25,
    "start_time": "2023-06-01T09:49:25.764Z"
   },
   {
    "duration": 180,
    "start_time": "2023-06-01T09:49:25.791Z"
   },
   {
    "duration": 53,
    "start_time": "2023-06-01T10:28:15.856Z"
   },
   {
    "duration": 2002,
    "start_time": "2023-06-01T10:28:21.793Z"
   },
   {
    "duration": 112,
    "start_time": "2023-06-01T10:28:23.797Z"
   },
   {
    "duration": 4,
    "start_time": "2023-06-01T10:28:23.911Z"
   },
   {
    "duration": 117,
    "start_time": "2023-06-01T10:28:23.917Z"
   },
   {
    "duration": 29,
    "start_time": "2023-06-01T10:28:24.036Z"
   },
   {
    "duration": 118,
    "start_time": "2023-06-01T10:28:24.067Z"
   },
   {
    "duration": 6,
    "start_time": "2023-06-01T10:28:24.847Z"
   },
   {
    "duration": 5,
    "start_time": "2023-06-01T10:28:25.049Z"
   },
   {
    "duration": 7,
    "start_time": "2023-06-01T10:28:26.009Z"
   },
   {
    "duration": 65,
    "start_time": "2023-06-01T10:28:27.760Z"
   },
   {
    "duration": 4,
    "start_time": "2023-06-01T10:28:27.898Z"
   },
   {
    "duration": 252,
    "start_time": "2023-06-01T10:28:30.314Z"
   },
   {
    "duration": 4,
    "start_time": "2023-06-01T10:28:30.894Z"
   },
   {
    "duration": 19775,
    "start_time": "2023-06-01T10:28:32.505Z"
   },
   {
    "duration": 3,
    "start_time": "2023-06-01T10:28:52.282Z"
   },
   {
    "duration": 4915,
    "start_time": "2023-06-01T10:29:34.271Z"
   },
   {
    "duration": 4,
    "start_time": "2023-06-01T10:29:39.189Z"
   },
   {
    "duration": 1564,
    "start_time": "2023-06-01T10:30:58.309Z"
   },
   {
    "duration": 29,
    "start_time": "2023-06-01T10:30:59.875Z"
   },
   {
    "duration": 4,
    "start_time": "2023-06-01T10:30:59.906Z"
   },
   {
    "duration": 41,
    "start_time": "2023-06-01T10:30:59.912Z"
   },
   {
    "duration": 7,
    "start_time": "2023-06-01T10:30:59.955Z"
   },
   {
    "duration": 122,
    "start_time": "2023-06-01T10:30:59.964Z"
   },
   {
    "duration": 8,
    "start_time": "2023-06-01T10:31:00.088Z"
   },
   {
    "duration": 11,
    "start_time": "2023-06-01T10:31:00.097Z"
   },
   {
    "duration": 8,
    "start_time": "2023-06-01T10:31:00.110Z"
   },
   {
    "duration": 76,
    "start_time": "2023-06-01T10:31:00.121Z"
   },
   {
    "duration": 4,
    "start_time": "2023-06-01T10:31:00.198Z"
   },
   {
    "duration": 261,
    "start_time": "2023-06-01T10:31:00.203Z"
   },
   {
    "duration": 4,
    "start_time": "2023-06-01T10:31:00.465Z"
   },
   {
    "duration": 117,
    "start_time": "2023-06-01T10:31:00.471Z"
   },
   {
    "duration": 4,
    "start_time": "2023-06-01T10:31:00.590Z"
   },
   {
    "duration": 43,
    "start_time": "2023-06-01T10:31:00.595Z"
   },
   {
    "duration": 39,
    "start_time": "2023-06-01T10:31:00.639Z"
   },
   {
    "duration": 31,
    "start_time": "2023-06-01T10:31:00.679Z"
   },
   {
    "duration": 19,
    "start_time": "2023-06-01T10:31:00.712Z"
   },
   {
    "duration": 179,
    "start_time": "2023-06-01T10:31:00.733Z"
   }
  ],
  "kernelspec": {
   "display_name": "Python 3 (ipykernel)",
   "language": "python",
   "name": "python3"
  },
  "language_info": {
   "codemirror_mode": {
    "name": "ipython",
    "version": 3
   },
   "file_extension": ".py",
   "mimetype": "text/x-python",
   "name": "python",
   "nbconvert_exporter": "python",
   "pygments_lexer": "ipython3",
   "version": "3.9.12"
  },
  "toc": {
   "base_numbering": 1,
   "nav_menu": {},
   "number_sections": true,
   "sideBar": true,
   "skip_h1_title": true,
   "title_cell": "Table of Contents",
   "title_sidebar": "Contents",
   "toc_cell": false,
   "toc_position": {},
   "toc_section_display": true,
   "toc_window_display": true
  }
 },
 "nbformat": 4,
 "nbformat_minor": 4
}
