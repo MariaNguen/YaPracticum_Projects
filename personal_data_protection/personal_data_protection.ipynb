{
 "cells": [
  {
   "cell_type": "markdown",
   "metadata": {},
   "source": [
    "# Защита персональных данных клиентов"
   ]
  },
  {
   "cell_type": "markdown",
   "metadata": {},
   "source": [
    "Вам нужно защитить данные клиентов страховой компании «Хоть потоп». Разработайте такой метод преобразования данных, чтобы по ним было сложно восстановить персональную информацию. Обоснуйте корректность его работы.\n",
    "\n",
    "Нужно защитить данные, чтобы при преобразовании качество моделей машинного обучения не ухудшилось. Подбирать наилучшую модель не требуется."
   ]
  },
  {
   "cell_type": "markdown",
   "metadata": {
    "toc": true
   },
   "source": [
    "<h1>Содержание<span class=\"tocSkip\"></span></h1>\n",
    "<div class=\"toc\"><ul class=\"toc-item\"><li><span><a href=\"#Загрузка-данных\" data-toc-modified-id=\"Загрузка-данных-1\"><span class=\"toc-item-num\">1&nbsp;&nbsp;</span>Загрузка данных</a></span></li><li><span><a href=\"#Умножение-матриц\" data-toc-modified-id=\"Умножение-матриц-2\"><span class=\"toc-item-num\">2&nbsp;&nbsp;</span>Умножение матриц</a></span></li><li><span><a href=\"#Алгоритм-преобразования\" data-toc-modified-id=\"Алгоритм-преобразования-3\"><span class=\"toc-item-num\">3&nbsp;&nbsp;</span>Алгоритм преобразования</a></span></li><li><span><a href=\"#Проверка-алгоритма\" data-toc-modified-id=\"Проверка-алгоритма-4\"><span class=\"toc-item-num\">4&nbsp;&nbsp;</span>Проверка алгоритма</a></span><ul class=\"toc-item\"><li><span><a href=\"#Разделим-данные-на-features-и-target\" data-toc-modified-id=\"Разделим-данные-на-features-и-target-4.1\"><span class=\"toc-item-num\">4.1&nbsp;&nbsp;</span>Разделим данные на <code>features</code> и <code>target</code></a></span></li><li><span><a href=\"#Разделим-выборку-на-test-и-train\" data-toc-modified-id=\"Разделим-выборку-на-test-и-train-4.2\"><span class=\"toc-item-num\">4.2&nbsp;&nbsp;</span>Разделим выборку на test и train</a></span></li><li><span><a href=\"#Обучим-модель-на-непреобразованных-данных\" data-toc-modified-id=\"Обучим-модель-на-непреобразованных-данных-4.3\"><span class=\"toc-item-num\">4.3&nbsp;&nbsp;</span>Обучим модель на непреобразованных данных</a></span></li><li><span><a href=\"#Преобразуем-данные\" data-toc-modified-id=\"Преобразуем-данные-4.4\"><span class=\"toc-item-num\">4.4&nbsp;&nbsp;</span>Преобразуем данные</a></span></li><li><span><a href=\"#Обучим-и-протестируем-модель-на-преобразованных-данных\" data-toc-modified-id=\"Обучим-и-протестируем-модель-на-преобразованных-данных-4.5\"><span class=\"toc-item-num\">4.5&nbsp;&nbsp;</span>Обучим и протестируем модель на преобразованных данных</a></span></li></ul></li><li><span><a href=\"#Вывод\" data-toc-modified-id=\"Вывод-5\"><span class=\"toc-item-num\">5&nbsp;&nbsp;</span>Вывод</a></span></li><li><span><a href=\"#Чек-лист-проверки\" data-toc-modified-id=\"Чек-лист-проверки-6\"><span class=\"toc-item-num\">6&nbsp;&nbsp;</span>Чек-лист проверки</a></span></li></ul></div>"
   ]
  },
  {
   "cell_type": "markdown",
   "metadata": {},
   "source": [
    "## Загрузка данных"
   ]
  },
  {
   "cell_type": "code",
   "execution_count": 1,
   "metadata": {},
   "outputs": [],
   "source": [
    "import pandas as pd\n",
    "import numpy as np\n",
    "from sklearn.linear_model import LinearRegression\n",
    "from sklearn.metrics import r2_score\n",
    "from sklearn.model_selection import train_test_split"
   ]
  },
  {
   "cell_type": "code",
   "execution_count": 2,
   "metadata": {},
   "outputs": [],
   "source": [
    "data = pd.read_csv('/datasets/insurance.csv')"
   ]
  },
  {
   "cell_type": "code",
   "execution_count": 3,
   "metadata": {},
   "outputs": [],
   "source": [
    "def basic_data_info(data):\n",
    "    print('Первые пять строк:')\n",
    "    display(data.head())\n",
    "    print('\\nИнформация:')\n",
    "    print(data.info())\n",
    "    print('\\nНаличие пропусков:')\n",
    "    print(data.isna().sum())\n",
    "    print('\\nНаличие дубликатов:')\n",
    "    print(data.duplicated().sum())\n",
    "    print('\\nСтатистическое описание данных:')\n",
    "    print(data.describe())"
   ]
  },
  {
   "cell_type": "code",
   "execution_count": 4,
   "metadata": {},
   "outputs": [
    {
     "name": "stdout",
     "output_type": "stream",
     "text": [
      "Первые пять строк:\n"
     ]
    },
    {
     "data": {
      "text/html": [
       "<div>\n",
       "<style scoped>\n",
       "    .dataframe tbody tr th:only-of-type {\n",
       "        vertical-align: middle;\n",
       "    }\n",
       "\n",
       "    .dataframe tbody tr th {\n",
       "        vertical-align: top;\n",
       "    }\n",
       "\n",
       "    .dataframe thead th {\n",
       "        text-align: right;\n",
       "    }\n",
       "</style>\n",
       "<table border=\"1\" class=\"dataframe\">\n",
       "  <thead>\n",
       "    <tr style=\"text-align: right;\">\n",
       "      <th></th>\n",
       "      <th>Пол</th>\n",
       "      <th>Возраст</th>\n",
       "      <th>Зарплата</th>\n",
       "      <th>Члены семьи</th>\n",
       "      <th>Страховые выплаты</th>\n",
       "    </tr>\n",
       "  </thead>\n",
       "  <tbody>\n",
       "    <tr>\n",
       "      <th>0</th>\n",
       "      <td>1</td>\n",
       "      <td>41.0</td>\n",
       "      <td>49600.0</td>\n",
       "      <td>1</td>\n",
       "      <td>0</td>\n",
       "    </tr>\n",
       "    <tr>\n",
       "      <th>1</th>\n",
       "      <td>0</td>\n",
       "      <td>46.0</td>\n",
       "      <td>38000.0</td>\n",
       "      <td>1</td>\n",
       "      <td>1</td>\n",
       "    </tr>\n",
       "    <tr>\n",
       "      <th>2</th>\n",
       "      <td>0</td>\n",
       "      <td>29.0</td>\n",
       "      <td>21000.0</td>\n",
       "      <td>0</td>\n",
       "      <td>0</td>\n",
       "    </tr>\n",
       "    <tr>\n",
       "      <th>3</th>\n",
       "      <td>0</td>\n",
       "      <td>21.0</td>\n",
       "      <td>41700.0</td>\n",
       "      <td>2</td>\n",
       "      <td>0</td>\n",
       "    </tr>\n",
       "    <tr>\n",
       "      <th>4</th>\n",
       "      <td>1</td>\n",
       "      <td>28.0</td>\n",
       "      <td>26100.0</td>\n",
       "      <td>0</td>\n",
       "      <td>0</td>\n",
       "    </tr>\n",
       "  </tbody>\n",
       "</table>\n",
       "</div>"
      ],
      "text/plain": [
       "   Пол  Возраст  Зарплата  Члены семьи  Страховые выплаты\n",
       "0    1     41.0   49600.0            1                  0\n",
       "1    0     46.0   38000.0            1                  1\n",
       "2    0     29.0   21000.0            0                  0\n",
       "3    0     21.0   41700.0            2                  0\n",
       "4    1     28.0   26100.0            0                  0"
      ]
     },
     "metadata": {},
     "output_type": "display_data"
    },
    {
     "name": "stdout",
     "output_type": "stream",
     "text": [
      "\n",
      "Информация:\n",
      "<class 'pandas.core.frame.DataFrame'>\n",
      "RangeIndex: 5000 entries, 0 to 4999\n",
      "Data columns (total 5 columns):\n",
      " #   Column             Non-Null Count  Dtype  \n",
      "---  ------             --------------  -----  \n",
      " 0   Пол                5000 non-null   int64  \n",
      " 1   Возраст            5000 non-null   float64\n",
      " 2   Зарплата           5000 non-null   float64\n",
      " 3   Члены семьи        5000 non-null   int64  \n",
      " 4   Страховые выплаты  5000 non-null   int64  \n",
      "dtypes: float64(2), int64(3)\n",
      "memory usage: 195.4 KB\n",
      "None\n",
      "\n",
      "Наличие пропусков:\n",
      "Пол                  0\n",
      "Возраст              0\n",
      "Зарплата             0\n",
      "Члены семьи          0\n",
      "Страховые выплаты    0\n",
      "dtype: int64\n",
      "\n",
      "Наличие дубликатов:\n",
      "153\n",
      "\n",
      "Статистическое описание данных:\n",
      "               Пол      Возраст      Зарплата  Члены семьи  Страховые выплаты\n",
      "count  5000.000000  5000.000000   5000.000000  5000.000000        5000.000000\n",
      "mean      0.499000    30.952800  39916.360000     1.194200           0.148000\n",
      "std       0.500049     8.440807   9900.083569     1.091387           0.463183\n",
      "min       0.000000    18.000000   5300.000000     0.000000           0.000000\n",
      "25%       0.000000    24.000000  33300.000000     0.000000           0.000000\n",
      "50%       0.000000    30.000000  40200.000000     1.000000           0.000000\n",
      "75%       1.000000    37.000000  46600.000000     2.000000           0.000000\n",
      "max       1.000000    65.000000  79000.000000     6.000000           5.000000\n"
     ]
    }
   ],
   "source": [
    "basic_data_info(data)"
   ]
  },
  {
   "cell_type": "markdown",
   "metadata": {},
   "source": [
    "Мы загрузили данные в датафрейм `data`. В данных содержится 5000 строк-наблюдений. Видим в данных следующие признаки:\n",
    "- `Пол`: категориальный признак типа `int64`, принимающий значения `1` и `0`. Пропусков нет.\n",
    "- `Возраст`: числовой признак типа `float64`, принимает целочисленные значения от 18 до 65 включительно. Пропусков нет.\n",
    "- `Зарплата`: числовой признак типа `float64`, принимает значения в диапазоне [5300, 79000]. Пропусков нет.\n",
    "- `Члены семьи`: числовой признак типа `int64`, принимает целочисленные значения в диапазоне [0, 6]. Пропусков нет.\n",
    "- `Страховые выплаты`: целевой числовой признак типа `int64`, принимает значения в диапазоне [0, 5]. Пропусков нет.\n",
    "\n",
    "В данных есть 153 строки-дубликата.\n"
   ]
  },
  {
   "cell_type": "markdown",
   "metadata": {},
   "source": [
    "## Умножение матриц"
   ]
  },
  {
   "cell_type": "markdown",
   "metadata": {},
   "source": [
    "Обозначения:\n",
    "\n",
    "- $X$ — матрица признаков (нулевой столбец состоит из единиц)\n",
    "\n",
    "- $y$ — вектор целевого признака\n",
    "\n",
    "- $P$ — матрица, на которую умножаются признаки\n",
    "\n",
    "- $w$ — вектор весов линейной регрессии (нулевой элемент равен сдвигу)"
   ]
  },
  {
   "cell_type": "markdown",
   "metadata": {},
   "source": [
    "Предсказания:\n",
    "\n",
    "$$\n",
    "a = Xw\n",
    "$$\n",
    "\n",
    "Задача обучения:\n",
    "\n",
    "$$\n",
    "w = \\arg\\min_w MSE(Xw, y)\n",
    "$$\n",
    "\n",
    "Формула обучения:\n",
    "\n",
    "$$\n",
    "w = (X^T X)^{-1} X^T y\n",
    "$$"
   ]
  },
  {
   "cell_type": "markdown",
   "metadata": {},
   "source": [
    "**Вопрос:** Признаки умножают на обратимую матрицу. Изменится ли качество линейной регрессии?\n",
    "\n",
    "**Ответ:** Качество линейной регрессии не изменится.\n",
    "\n",
    "**Обоснование:** Пусть матрица $Z = XP$. Запишем формулу обучения для новой матрицы:\n",
    "\n",
    "$$w_z = (Z^T Z)^{-1} Z^T y = ((XP)^T (XP))^{-1} (XP)^T y$$\n",
    "\n",
    "Упростим выражение, используя следующие свойства:\n",
    "- $A(BC) = (AB)C$\n",
    "- $(AB)^T = B^T A^T$\n",
    "- $(AB)^{-1} = B^{-1} A^{-1}$\n",
    "\n",
    "$$w_z = ((XP)^T (XP))^{-1} (XP)^T y = (((XP)^T X)P)^{-1} (XP)^T y = P^{-1} ((XP)^T X)^{-1} (XP)^T y = P^{-1} (P^T X^T X)^{-1} P^T X^T y = P^{-1} (X^T X)^{-1} (P^T)^{-1} P^T X^T y = P^{-1} (X^T X)^{-1} E X^T y = P^{-1} (X^T X)^{-1} X^T y\n",
    "$$\n",
    "\n",
    "Итого, получили, что $w_z = P^{-1} w$. Предсказания будут рассчитываться следующим образом:\n",
    "$$a_z = Z w_z = XP P^{-1} w = Xw = a$$\n",
    "\n",
    "Получаем, что новые предсказания равны старым.\n",
    "\n",
    "Мы доказали, что при умножении признаков на обратимую матрицу, предсказания не изменятся."
   ]
  },
  {
   "cell_type": "markdown",
   "metadata": {},
   "source": [
    "## Алгоритм преобразования"
   ]
  },
  {
   "cell_type": "markdown",
   "metadata": {},
   "source": [
    "**Алгоритм**\n",
    "1. Генерируем случайную обратимую матрицу размерности (n x n).\n",
    "2. Обучаем линейную регрессию.\n",
    "3. Предсказываем значение целевого признака."
   ]
  },
  {
   "cell_type": "markdown",
   "metadata": {},
   "source": [
    "**Обоснование**\n",
    "\n",
    "В предыдущем пункте доказали, что при умножении матрицы признаков на обратимую матрицу качество линейной регрессии не меняется, поэтому умножение признаков на обратимую матрицу можно использовать длся преобразования признаков без ухудшения качества работы модели."
   ]
  },
  {
   "cell_type": "markdown",
   "metadata": {},
   "source": [
    "## Проверка алгоритма"
   ]
  },
  {
   "cell_type": "markdown",
   "metadata": {},
   "source": [
    "### Разделим данные на `features` и `target`"
   ]
  },
  {
   "cell_type": "code",
   "execution_count": 5,
   "metadata": {},
   "outputs": [],
   "source": [
    "features = data.drop(columns=['Страховые выплаты']).values"
   ]
  },
  {
   "cell_type": "code",
   "execution_count": 6,
   "metadata": {},
   "outputs": [
    {
     "data": {
      "text/plain": [
       "array([[1.00e+00, 4.10e+01, 4.96e+04, 1.00e+00],\n",
       "       [0.00e+00, 4.60e+01, 3.80e+04, 1.00e+00],\n",
       "       [0.00e+00, 2.90e+01, 2.10e+04, 0.00e+00],\n",
       "       ...,\n",
       "       [0.00e+00, 2.00e+01, 3.39e+04, 2.00e+00],\n",
       "       [1.00e+00, 2.20e+01, 3.27e+04, 3.00e+00],\n",
       "       [1.00e+00, 2.80e+01, 4.06e+04, 1.00e+00]])"
      ]
     },
     "execution_count": 6,
     "metadata": {},
     "output_type": "execute_result"
    }
   ],
   "source": [
    "features"
   ]
  },
  {
   "cell_type": "code",
   "execution_count": 7,
   "metadata": {},
   "outputs": [],
   "source": [
    "target = data['Страховые выплаты'].values"
   ]
  },
  {
   "cell_type": "code",
   "execution_count": 8,
   "metadata": {},
   "outputs": [
    {
     "data": {
      "text/plain": [
       "array([0, 1, 0, ..., 0, 0, 0])"
      ]
     },
     "execution_count": 8,
     "metadata": {},
     "output_type": "execute_result"
    }
   ],
   "source": [
    "target"
   ]
  },
  {
   "cell_type": "markdown",
   "metadata": {},
   "source": [
    "### Разделим выборку на test и train"
   ]
  },
  {
   "cell_type": "code",
   "execution_count": 9,
   "metadata": {},
   "outputs": [],
   "source": [
    "features_train, features_test, target_train, target_test = train_test_split(features, target, test_size=0.3, random_state=42)"
   ]
  },
  {
   "cell_type": "markdown",
   "metadata": {},
   "source": [
    "### Обучим модель на непреобразованных данных"
   ]
  },
  {
   "cell_type": "code",
   "execution_count": 10,
   "metadata": {},
   "outputs": [],
   "source": [
    "model = LinearRegression()"
   ]
  },
  {
   "cell_type": "code",
   "execution_count": 11,
   "metadata": {},
   "outputs": [
    {
     "data": {
      "text/plain": [
       "LinearRegression()"
      ]
     },
     "execution_count": 11,
     "metadata": {},
     "output_type": "execute_result"
    }
   ],
   "source": [
    "model.fit(features_train, target_train)"
   ]
  },
  {
   "cell_type": "code",
   "execution_count": 12,
   "metadata": {},
   "outputs": [],
   "source": [
    "predictions = model.predict(features_test)"
   ]
  },
  {
   "cell_type": "code",
   "execution_count": 13,
   "metadata": {},
   "outputs": [],
   "source": [
    "r2 = r2_score(target_test, predictions)"
   ]
  },
  {
   "cell_type": "code",
   "execution_count": 14,
   "metadata": {},
   "outputs": [
    {
     "name": "stdout",
     "output_type": "stream",
     "text": [
      "R2-score = 0.423\n"
     ]
    }
   ],
   "source": [
    "print('R2-score = {:.3f}'.format(r2))"
   ]
  },
  {
   "cell_type": "markdown",
   "metadata": {},
   "source": [
    "### Преобразуем данные\n",
    "Создадим случайную матрицу P нужной размерности и проверим, что она обратимая."
   ]
  },
  {
   "cell_type": "code",
   "execution_count": 15,
   "metadata": {},
   "outputs": [
    {
     "data": {
      "text/plain": [
       "4"
      ]
     },
     "execution_count": 15,
     "metadata": {},
     "output_type": "execute_result"
    }
   ],
   "source": [
    "features.shape[1]"
   ]
  },
  {
   "cell_type": "code",
   "execution_count": 16,
   "metadata": {},
   "outputs": [],
   "source": [
    "np.random.seed(42)"
   ]
  },
  {
   "cell_type": "code",
   "execution_count": 17,
   "metadata": {},
   "outputs": [],
   "source": [
    "def get_rand_matrix():\n",
    "    det = 0\n",
    "    while det == 0:\n",
    "        matrix = np.random.normal(size=(features.shape[1], features.shape[1]))\n",
    "        det = np.linalg.det(matrix)\n",
    "    return matrix"
   ]
  },
  {
   "cell_type": "code",
   "execution_count": 18,
   "metadata": {},
   "outputs": [],
   "source": [
    "P = get_rand_matrix()"
   ]
  },
  {
   "cell_type": "code",
   "execution_count": 19,
   "metadata": {},
   "outputs": [
    {
     "data": {
      "text/plain": [
       "array([[ 0.49671415, -0.1382643 ,  0.64768854,  1.52302986],\n",
       "       [-0.23415337, -0.23413696,  1.57921282,  0.76743473],\n",
       "       [-0.46947439,  0.54256004, -0.46341769, -0.46572975],\n",
       "       [ 0.24196227, -1.91328024, -1.72491783, -0.56228753]])"
      ]
     },
     "execution_count": 19,
     "metadata": {},
     "output_type": "execute_result"
    }
   ],
   "source": [
    "P"
   ]
  },
  {
   "cell_type": "code",
   "execution_count": 20,
   "metadata": {},
   "outputs": [],
   "source": [
    "P_inv = np.linalg.inv(P)"
   ]
  },
  {
   "cell_type": "code",
   "execution_count": 21,
   "metadata": {},
   "outputs": [
    {
     "data": {
      "text/plain": [
       "array([[-0.33124857, -1.0333483 , -2.21070923, -0.47651024],\n",
       "       [ 0.12864778, -0.47781825,  0.15271687, -0.43017975],\n",
       "       [-0.51338817,  0.33588835, -0.8347692 , -0.24072429],\n",
       "       [ 0.99462192,  0.15079316,  1.08985145,  0.21872535]])"
      ]
     },
     "execution_count": 21,
     "metadata": {},
     "output_type": "execute_result"
    }
   ],
   "source": [
    "P_inv"
   ]
  },
  {
   "cell_type": "markdown",
   "metadata": {},
   "source": [
    "Преобразуем наши признаки"
   ]
  },
  {
   "cell_type": "code",
   "execution_count": 22,
   "metadata": {},
   "outputs": [],
   "source": [
    "features_train_transformed = np.dot(features_train, P)"
   ]
  },
  {
   "cell_type": "code",
   "execution_count": 23,
   "metadata": {},
   "outputs": [],
   "source": [
    "features_test_transformed = np.dot(features_test, P)"
   ]
  },
  {
   "cell_type": "markdown",
   "metadata": {},
   "source": [
    "### Обучим и протестируем модель на преобразованных данных"
   ]
  },
  {
   "cell_type": "code",
   "execution_count": 24,
   "metadata": {},
   "outputs": [],
   "source": [
    "model_transformed = LinearRegression()"
   ]
  },
  {
   "cell_type": "code",
   "execution_count": 25,
   "metadata": {},
   "outputs": [
    {
     "data": {
      "text/plain": [
       "LinearRegression()"
      ]
     },
     "execution_count": 25,
     "metadata": {},
     "output_type": "execute_result"
    }
   ],
   "source": [
    "model_transformed.fit(features_train_transformed, target_train)"
   ]
  },
  {
   "cell_type": "code",
   "execution_count": 26,
   "metadata": {},
   "outputs": [],
   "source": [
    "predictions_transformed = model_transformed.predict(features_test_transformed)"
   ]
  },
  {
   "cell_type": "code",
   "execution_count": 27,
   "metadata": {},
   "outputs": [],
   "source": [
    "r2_transformed = r2_score(target_test, predictions_transformed)"
   ]
  },
  {
   "cell_type": "code",
   "execution_count": 28,
   "metadata": {},
   "outputs": [
    {
     "name": "stdout",
     "output_type": "stream",
     "text": [
      "R2-score = 0.423\n"
     ]
    }
   ],
   "source": [
    "print('R2-score = {:.3f}'.format(r2_transformed))"
   ]
  },
  {
   "cell_type": "markdown",
   "metadata": {},
   "source": [
    "## Вывод"
   ]
  },
  {
   "cell_type": "markdown",
   "metadata": {},
   "source": [
    "Был выполнен проект по теме \"Защита персональных данных клиентов\". Выполнение проекта проводилось в несколько этапов:\n",
    "1. Загрузка данных в датафрейм `data`. Предварительное изучение данных.\n",
    "2. Теоретическое доказательство утверждения, что качество линейной регрессии не изменится при умножении матрицы признаков $X$ на обратимую матрицу $P$. Было доказано, что в исходной и преобразованной задаче параметры равны, т.е. минимум функции потерь будет достигаться при одинаковых значениях.\n",
    "3. Был предложен алгоритм преобразования данных, в рамках которого данные преобразовываются домножением матрицы признаков на обратимую матрицу размерности (n x n), где n - это количество признаков в данных.\n",
    "4. Были обучены две модели: модель линейной регресси на непреобразованных данных и модель линейной регрессии на преобразованных данных. Было показано, что значения R2-score равны."
   ]
  }
 ],
 "metadata": {
  "ExecuteTimeLog": [
   {
    "duration": 1405,
    "start_time": "2023-07-29T09:35:12.891Z"
   },
   {
    "duration": 90,
    "start_time": "2023-07-29T09:38:59.091Z"
   },
   {
    "duration": 4,
    "start_time": "2023-07-29T09:40:24.255Z"
   },
   {
    "duration": 47,
    "start_time": "2023-07-29T09:40:35.717Z"
   },
   {
    "duration": 5,
    "start_time": "2023-07-29T11:41:50.159Z"
   },
   {
    "duration": 15,
    "start_time": "2023-07-29T11:41:57.965Z"
   },
   {
    "duration": 7,
    "start_time": "2023-07-29T11:42:15.695Z"
   },
   {
    "duration": 12,
    "start_time": "2023-07-29T11:42:26.302Z"
   },
   {
    "duration": 6,
    "start_time": "2023-07-29T11:44:01.502Z"
   },
   {
    "duration": 3,
    "start_time": "2023-07-29T11:44:44.938Z"
   },
   {
    "duration": 94,
    "start_time": "2023-07-29T11:45:01.056Z"
   },
   {
    "duration": 173,
    "start_time": "2023-07-29T11:45:22.795Z"
   },
   {
    "duration": 7,
    "start_time": "2023-07-29T11:45:28.686Z"
   },
   {
    "duration": 3,
    "start_time": "2023-07-29T11:45:55.199Z"
   },
   {
    "duration": 4,
    "start_time": "2023-07-29T11:46:23.054Z"
   },
   {
    "duration": 9,
    "start_time": "2023-07-29T11:48:39.286Z"
   },
   {
    "duration": 8,
    "start_time": "2023-07-29T11:50:57.014Z"
   },
   {
    "duration": 5,
    "start_time": "2023-07-29T11:50:59.115Z"
   },
   {
    "duration": 1099,
    "start_time": "2023-07-29T11:51:40.674Z"
   },
   {
    "duration": 1153,
    "start_time": "2023-07-29T11:51:45.424Z"
   },
   {
    "duration": 3057,
    "start_time": "2023-07-29T11:51:50.244Z"
   },
   {
    "duration": 11,
    "start_time": "2023-07-29T11:52:17.358Z"
   },
   {
    "duration": 8,
    "start_time": "2023-07-29T11:52:20.580Z"
   },
   {
    "duration": 10,
    "start_time": "2023-07-29T11:52:36.931Z"
   },
   {
    "duration": 5,
    "start_time": "2023-07-29T11:52:37.528Z"
   },
   {
    "duration": 15,
    "start_time": "2023-07-29T11:52:38.218Z"
   },
   {
    "duration": 16,
    "start_time": "2023-07-29T11:53:10.934Z"
   },
   {
    "duration": 15,
    "start_time": "2023-07-29T11:53:15.234Z"
   },
   {
    "duration": 4,
    "start_time": "2023-07-29T11:53:19.183Z"
   },
   {
    "duration": 15,
    "start_time": "2023-07-29T11:53:20.022Z"
   },
   {
    "duration": 26,
    "start_time": "2023-07-29T11:53:20.947Z"
   },
   {
    "duration": 5,
    "start_time": "2023-07-29T11:53:21.566Z"
   },
   {
    "duration": 7,
    "start_time": "2023-07-29T11:57:16.602Z"
   },
   {
    "duration": 15,
    "start_time": "2023-07-29T11:57:22.958Z"
   },
   {
    "duration": 34,
    "start_time": "2023-07-29T11:57:23.687Z"
   },
   {
    "duration": 16,
    "start_time": "2023-07-29T11:57:24.286Z"
   },
   {
    "duration": 6,
    "start_time": "2023-07-29T11:57:26.698Z"
   },
   {
    "duration": 12,
    "start_time": "2023-07-29T11:57:27.371Z"
   },
   {
    "duration": 37,
    "start_time": "2023-07-29T11:57:27.927Z"
   },
   {
    "duration": 11,
    "start_time": "2023-07-29T11:57:28.266Z"
   },
   {
    "duration": 4,
    "start_time": "2023-07-29T11:58:42.047Z"
   },
   {
    "duration": 3,
    "start_time": "2023-07-29T11:58:42.626Z"
   },
   {
    "duration": 23,
    "start_time": "2023-07-29T11:59:29.030Z"
   },
   {
    "duration": 19,
    "start_time": "2023-07-29T11:59:39.294Z"
   },
   {
    "duration": 3,
    "start_time": "2023-07-29T11:59:56.163Z"
   },
   {
    "duration": 3,
    "start_time": "2023-07-29T12:00:13.160Z"
   },
   {
    "duration": 7,
    "start_time": "2023-07-29T12:00:24.968Z"
   },
   {
    "duration": 13,
    "start_time": "2023-07-29T12:00:36.441Z"
   },
   {
    "duration": 7,
    "start_time": "2023-07-29T12:00:39.056Z"
   },
   {
    "duration": 4,
    "start_time": "2023-07-29T12:00:39.299Z"
   },
   {
    "duration": 5,
    "start_time": "2023-07-29T12:00:47.920Z"
   },
   {
    "duration": 7,
    "start_time": "2023-07-29T12:02:27.148Z"
   },
   {
    "duration": 6,
    "start_time": "2023-07-29T12:02:32.761Z"
   },
   {
    "duration": 4,
    "start_time": "2023-07-29T12:02:53.346Z"
   },
   {
    "duration": 13,
    "start_time": "2023-07-29T12:04:54.990Z"
   },
   {
    "duration": 5,
    "start_time": "2023-07-29T12:05:15.595Z"
   },
   {
    "duration": 5,
    "start_time": "2023-07-29T12:05:19.357Z"
   },
   {
    "duration": 25,
    "start_time": "2023-07-29T12:05:25.914Z"
   },
   {
    "duration": 4,
    "start_time": "2023-07-29T12:05:29.740Z"
   },
   {
    "duration": 3,
    "start_time": "2023-07-29T12:06:54.455Z"
   },
   {
    "duration": 416,
    "start_time": "2023-07-29T12:06:58.553Z"
   },
   {
    "duration": 8,
    "start_time": "2023-07-29T12:07:09.022Z"
   },
   {
    "duration": 7,
    "start_time": "2023-07-29T12:07:09.764Z"
   },
   {
    "duration": 8,
    "start_time": "2023-07-29T12:07:15.007Z"
   },
   {
    "duration": 12,
    "start_time": "2023-07-29T12:07:15.568Z"
   },
   {
    "duration": 10,
    "start_time": "2023-07-29T12:07:25.401Z"
   },
   {
    "duration": 3,
    "start_time": "2023-07-29T12:07:27.058Z"
   },
   {
    "duration": 3,
    "start_time": "2023-07-29T12:07:27.526Z"
   },
   {
    "duration": 5,
    "start_time": "2023-07-29T12:07:28.443Z"
   },
   {
    "duration": 9,
    "start_time": "2023-07-29T12:07:29.198Z"
   },
   {
    "duration": 4,
    "start_time": "2023-07-29T12:07:29.757Z"
   },
   {
    "duration": 13,
    "start_time": "2023-07-29T12:07:30.287Z"
   },
   {
    "duration": 7,
    "start_time": "2023-07-29T12:07:31.698Z"
   },
   {
    "duration": 5,
    "start_time": "2023-07-29T12:07:32.320Z"
   },
   {
    "duration": 16,
    "start_time": "2023-07-29T12:07:36.668Z"
   },
   {
    "duration": 4,
    "start_time": "2023-07-29T12:07:41.446Z"
   },
   {
    "duration": 4,
    "start_time": "2023-07-29T12:07:44.718Z"
   },
   {
    "duration": 13,
    "start_time": "2023-07-29T12:08:11.000Z"
   },
   {
    "duration": 4,
    "start_time": "2023-07-29T12:54:02.853Z"
   },
   {
    "duration": 5836,
    "start_time": "2023-07-29T12:55:13.904Z"
   },
   {
    "duration": 113,
    "start_time": "2023-07-29T12:55:19.743Z"
   },
   {
    "duration": 5,
    "start_time": "2023-07-29T12:55:19.859Z"
   },
   {
    "duration": 115,
    "start_time": "2023-07-29T12:55:19.866Z"
   },
   {
    "duration": 5,
    "start_time": "2023-07-29T12:55:19.985Z"
   },
   {
    "duration": 64,
    "start_time": "2023-07-29T12:55:19.991Z"
   },
   {
    "duration": 18,
    "start_time": "2023-07-29T12:55:20.057Z"
   },
   {
    "duration": 61,
    "start_time": "2023-07-29T12:55:20.077Z"
   },
   {
    "duration": 8,
    "start_time": "2023-07-29T12:55:20.140Z"
   },
   {
    "duration": 10,
    "start_time": "2023-07-29T12:55:20.150Z"
   },
   {
    "duration": 17,
    "start_time": "2023-07-29T12:55:20.162Z"
   },
   {
    "duration": 61,
    "start_time": "2023-07-29T12:55:20.188Z"
   },
   {
    "duration": 14,
    "start_time": "2023-07-29T12:55:20.251Z"
   },
   {
    "duration": 55,
    "start_time": "2023-07-29T12:55:20.269Z"
   },
   {
    "duration": 37,
    "start_time": "2023-07-29T12:55:20.326Z"
   },
   {
    "duration": 34,
    "start_time": "2023-07-29T12:55:20.365Z"
   },
   {
    "duration": 44,
    "start_time": "2023-07-29T12:55:20.401Z"
   },
   {
    "duration": 21,
    "start_time": "2023-07-29T12:55:20.446Z"
   },
   {
    "duration": 95,
    "start_time": "2023-07-29T12:55:20.469Z"
   },
   {
    "duration": 77,
    "start_time": "2023-07-29T12:55:20.565Z"
   },
   {
    "duration": 23,
    "start_time": "2023-07-29T12:55:20.645Z"
   },
   {
    "duration": 70,
    "start_time": "2023-07-29T12:55:20.673Z"
   },
   {
    "duration": 28,
    "start_time": "2023-07-29T12:55:20.746Z"
   },
   {
    "duration": 87,
    "start_time": "2023-07-29T12:55:20.775Z"
   },
   {
    "duration": 89,
    "start_time": "2023-07-29T12:55:20.864Z"
   },
   {
    "duration": 69,
    "start_time": "2023-07-29T12:55:20.955Z"
   },
   {
    "duration": 5,
    "start_time": "2023-07-29T12:55:42.361Z"
   },
   {
    "duration": 3782,
    "start_time": "2023-07-29T13:38:57.387Z"
   },
   {
    "duration": 109,
    "start_time": "2023-07-29T13:39:01.181Z"
   },
   {
    "duration": 10,
    "start_time": "2023-07-29T13:39:01.293Z"
   },
   {
    "duration": 123,
    "start_time": "2023-07-29T13:39:01.305Z"
   },
   {
    "duration": 24,
    "start_time": "2023-07-29T13:39:01.431Z"
   },
   {
    "duration": 42,
    "start_time": "2023-07-29T13:39:01.458Z"
   },
   {
    "duration": 57,
    "start_time": "2023-07-29T13:39:01.502Z"
   },
   {
    "duration": 58,
    "start_time": "2023-07-29T13:39:01.561Z"
   },
   {
    "duration": 75,
    "start_time": "2023-07-29T13:39:01.621Z"
   },
   {
    "duration": 36,
    "start_time": "2023-07-29T13:39:01.698Z"
   },
   {
    "duration": 70,
    "start_time": "2023-07-29T13:39:01.737Z"
   },
   {
    "duration": 83,
    "start_time": "2023-07-29T13:39:01.809Z"
   },
   {
    "duration": 198,
    "start_time": "2023-07-29T13:39:01.895Z"
   },
   {
    "duration": 218,
    "start_time": "2023-07-29T13:39:02.098Z"
   },
   {
    "duration": 191,
    "start_time": "2023-07-29T13:39:02.318Z"
   },
   {
    "duration": 78,
    "start_time": "2023-07-29T13:39:02.511Z"
   },
   {
    "duration": 75,
    "start_time": "2023-07-29T13:39:02.591Z"
   },
   {
    "duration": 64,
    "start_time": "2023-07-29T13:39:02.668Z"
   },
   {
    "duration": 43,
    "start_time": "2023-07-29T13:39:02.736Z"
   },
   {
    "duration": 91,
    "start_time": "2023-07-29T13:39:02.785Z"
   },
   {
    "duration": 42,
    "start_time": "2023-07-29T13:39:02.879Z"
   },
   {
    "duration": 18,
    "start_time": "2023-07-29T13:39:02.923Z"
   },
   {
    "duration": 25,
    "start_time": "2023-07-29T13:39:02.943Z"
   },
   {
    "duration": 31,
    "start_time": "2023-07-29T13:39:02.970Z"
   },
   {
    "duration": 17,
    "start_time": "2023-07-29T13:39:03.003Z"
   },
   {
    "duration": 11,
    "start_time": "2023-07-29T13:39:03.022Z"
   },
   {
    "duration": 1204,
    "start_time": "2023-07-30T13:04:22.891Z"
   },
   {
    "duration": 99,
    "start_time": "2023-07-30T13:04:24.933Z"
   },
   {
    "duration": 3,
    "start_time": "2023-07-30T13:04:26.797Z"
   },
   {
    "duration": 58,
    "start_time": "2023-07-30T13:04:30.658Z"
   },
   {
    "duration": 1180,
    "start_time": "2023-07-30T13:12:14.272Z"
   },
   {
    "duration": 36,
    "start_time": "2023-07-30T13:12:15.454Z"
   },
   {
    "duration": 5,
    "start_time": "2023-07-30T13:12:15.492Z"
   },
   {
    "duration": 50,
    "start_time": "2023-07-30T13:12:15.499Z"
   },
   {
    "duration": 3,
    "start_time": "2023-07-30T13:12:15.551Z"
   },
   {
    "duration": 11,
    "start_time": "2023-07-30T13:12:15.556Z"
   },
   {
    "duration": 17,
    "start_time": "2023-07-30T13:12:15.568Z"
   },
   {
    "duration": 31,
    "start_time": "2023-07-30T13:12:15.586Z"
   },
   {
    "duration": 5,
    "start_time": "2023-07-30T13:12:15.618Z"
   },
   {
    "duration": 7,
    "start_time": "2023-07-30T13:12:15.624Z"
   },
   {
    "duration": 33,
    "start_time": "2023-07-30T13:12:15.633Z"
   },
   {
    "duration": 3,
    "start_time": "2023-07-30T13:12:15.667Z"
   },
   {
    "duration": 16,
    "start_time": "2023-07-30T13:12:15.672Z"
   },
   {
    "duration": 17,
    "start_time": "2023-07-30T13:12:15.691Z"
   },
   {
    "duration": 55,
    "start_time": "2023-07-30T13:12:15.710Z"
   },
   {
    "duration": 68,
    "start_time": "2023-07-30T13:12:15.767Z"
   },
   {
    "duration": 12,
    "start_time": "2023-07-30T13:12:15.837Z"
   },
   {
    "duration": 139,
    "start_time": "2023-07-30T13:12:15.850Z"
   },
   {
    "duration": 0,
    "start_time": "2023-07-30T13:12:15.991Z"
   },
   {
    "duration": 0,
    "start_time": "2023-07-30T13:12:15.992Z"
   },
   {
    "duration": 0,
    "start_time": "2023-07-30T13:12:15.993Z"
   },
   {
    "duration": 0,
    "start_time": "2023-07-30T13:12:15.994Z"
   },
   {
    "duration": 0,
    "start_time": "2023-07-30T13:12:15.995Z"
   },
   {
    "duration": 0,
    "start_time": "2023-07-30T13:12:15.996Z"
   },
   {
    "duration": 0,
    "start_time": "2023-07-30T13:12:15.998Z"
   },
   {
    "duration": 0,
    "start_time": "2023-07-30T13:12:15.999Z"
   },
   {
    "duration": 0,
    "start_time": "2023-07-30T13:12:16.000Z"
   },
   {
    "duration": 0,
    "start_time": "2023-07-30T13:12:16.001Z"
   },
   {
    "duration": 3,
    "start_time": "2023-07-30T13:13:02.112Z"
   },
   {
    "duration": 9,
    "start_time": "2023-07-30T13:13:04.974Z"
   },
   {
    "duration": 3,
    "start_time": "2023-07-30T13:13:05.915Z"
   },
   {
    "duration": 4,
    "start_time": "2023-07-30T13:13:09.591Z"
   },
   {
    "duration": 135,
    "start_time": "2023-07-30T13:13:10.204Z"
   },
   {
    "duration": 144,
    "start_time": "2023-07-30T13:13:10.426Z"
   },
   {
    "duration": 4,
    "start_time": "2023-07-30T13:13:10.994Z"
   },
   {
    "duration": 9,
    "start_time": "2023-07-30T13:13:11.193Z"
   },
   {
    "duration": 3,
    "start_time": "2023-07-30T13:13:32.862Z"
   },
   {
    "duration": 3,
    "start_time": "2023-07-30T13:13:33.188Z"
   },
   {
    "duration": 4,
    "start_time": "2023-07-30T13:13:33.546Z"
   },
   {
    "duration": 3,
    "start_time": "2023-07-30T13:13:33.820Z"
   },
   {
    "duration": 1125,
    "start_time": "2023-07-30T13:13:40.398Z"
   },
   {
    "duration": 29,
    "start_time": "2023-07-30T13:13:41.525Z"
   },
   {
    "duration": 4,
    "start_time": "2023-07-30T13:13:41.556Z"
   },
   {
    "duration": 55,
    "start_time": "2023-07-30T13:13:41.562Z"
   },
   {
    "duration": 4,
    "start_time": "2023-07-30T13:13:41.619Z"
   },
   {
    "duration": 32,
    "start_time": "2023-07-30T13:13:41.624Z"
   },
   {
    "duration": 8,
    "start_time": "2023-07-30T13:13:41.658Z"
   },
   {
    "duration": 9,
    "start_time": "2023-07-30T13:13:41.668Z"
   },
   {
    "duration": 23,
    "start_time": "2023-07-30T13:13:41.679Z"
   },
   {
    "duration": 3,
    "start_time": "2023-07-30T13:13:41.704Z"
   },
   {
    "duration": 14,
    "start_time": "2023-07-30T13:13:41.708Z"
   },
   {
    "duration": 3,
    "start_time": "2023-07-30T13:13:41.724Z"
   },
   {
    "duration": 12,
    "start_time": "2023-07-30T13:13:41.729Z"
   },
   {
    "duration": 6,
    "start_time": "2023-07-30T13:13:41.744Z"
   },
   {
    "duration": 11,
    "start_time": "2023-07-30T13:13:41.752Z"
   },
   {
    "duration": 34,
    "start_time": "2023-07-30T13:13:41.765Z"
   },
   {
    "duration": 19,
    "start_time": "2023-07-30T13:13:41.801Z"
   },
   {
    "duration": 14,
    "start_time": "2023-07-30T13:13:41.821Z"
   },
   {
    "duration": 6,
    "start_time": "2023-07-30T13:13:41.836Z"
   },
   {
    "duration": 13,
    "start_time": "2023-07-30T13:13:41.844Z"
   },
   {
    "duration": 18,
    "start_time": "2023-07-30T13:13:41.859Z"
   },
   {
    "duration": 20,
    "start_time": "2023-07-30T13:13:41.880Z"
   },
   {
    "duration": 93,
    "start_time": "2023-07-30T13:13:41.903Z"
   },
   {
    "duration": 29,
    "start_time": "2023-07-30T13:13:41.998Z"
   },
   {
    "duration": 15,
    "start_time": "2023-07-30T13:13:42.029Z"
   },
   {
    "duration": 4,
    "start_time": "2023-07-30T13:13:42.051Z"
   },
   {
    "duration": 3,
    "start_time": "2023-07-30T13:13:42.060Z"
   },
   {
    "duration": 7,
    "start_time": "2023-07-30T13:13:42.065Z"
   }
  ],
  "kernelspec": {
   "display_name": "Python 3 (ipykernel)",
   "language": "python",
   "name": "python3"
  },
  "language_info": {
   "codemirror_mode": {
    "name": "ipython",
    "version": 3
   },
   "file_extension": ".py",
   "mimetype": "text/x-python",
   "name": "python",
   "nbconvert_exporter": "python",
   "pygments_lexer": "ipython3",
   "version": "3.9.12"
  },
  "toc": {
   "base_numbering": 1,
   "nav_menu": {},
   "number_sections": true,
   "sideBar": true,
   "skip_h1_title": true,
   "title_cell": "Содержание",
   "title_sidebar": "Contents",
   "toc_cell": true,
   "toc_position": {},
   "toc_section_display": true,
   "toc_window_display": false
  }
 },
 "nbformat": 4,
 "nbformat_minor": 4
}
