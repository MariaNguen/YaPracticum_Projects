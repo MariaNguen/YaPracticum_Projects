{
 "cells": [
  {
   "cell_type": "markdown",
   "id": "953cabc8",
   "metadata": {},
   "source": [
    "# Статистический анализ данных сервиса аренды самокатов\n",
    "Чтобы совершать поездки по городу, пользователи сервиса GoFast пользуются мобильным приложением. Сервисом можно пользоваться:\n",
    "- без подписки\n",
    "    - абонентская плата отсутствует;\n",
    "    - стоимость одной минуты поездки — 8 рублей;\n",
    "    - стоимость старта (начала поездки) — 50 рублей;\n",
    "- с подпиской Ultra\n",
    "    - абонентская плата — 199 рублей в месяц;\n",
    "    - стоимость одной минуты поездки — 6 рублей;\n",
    "    - стоимость старта — бесплатно.\n",
    "\n",
    "В основных данных есть информация о пользователях, их поездках и подписках.<br>\n",
    "Информация о пользователях содержится в файле `/datasets/users_go.csv`:\n",
    "- `user_id` - уникальный идентификатор пользователя;\n",
    "- `name` - имя пользователя;\n",
    "- `age` - возраст пользователя;\n",
    "- `city` - город;\n",
    "- `subscription_type` - тип подписки (free, ultra).\n",
    "\n",
    "Информация о поездках содержится в файле `/datasets/rides_go.csv`:\n",
    "- `user_id` - уникальный идентификатор пользователя;\n",
    "- `distance` - расстояние, которое пользователь проехал в текущей сессии (в метрах);\n",
    "- `duration` - продолжительность сессии (в минутах) — время с того момента, как пользователь нажал кнопку «Начать поездку» до момента, как он нажал кнопку «Завершить поездку»;\n",
    "- `date` - дата совершения поездки.\n",
    "\n",
    "Информация о подписках содержится в файле `/datasets/subscriptions_go.csv`:\n",
    "- `subscription_type` - тип подписки;\n",
    "- `minute_price` - стоимость одной минуты поездки по данной подписке;\n",
    "- `start_ride_price` - стоимость начала поездки;\n",
    "- `subscription_fee` - стоимость ежемесячного платежа.\n",
    "\n",
    "Необходимо проанализировать данные и проверить следующие бизнес-гипотезы:\n",
    "1. Тратят ли пользователи с подпиской больше времени на поездки?\n",
    "2. Можно ли сказать, что расстояние, которое проезжают пользователи с подпиской за одну поездку, не превышает 3130 метров?\n",
    "3. Будет ли помесячная выручка от пользователей с подпиской по месяцам выше, чем выручка от пользователей без подписки?"
   ]
  },
  {
   "cell_type": "markdown",
   "id": "cfcc4bf9",
   "metadata": {
    "toc": true
   },
   "source": [
    "<h1>Table of Contents<span class=\"tocSkip\"></span></h1>\n",
    "<div class=\"toc\"><ul class=\"toc-item\"><li><span><a href=\"#Шаг-1.-Загрузка-данных\" data-toc-modified-id=\"Шаг-1.-Загрузка-данных-1\"><span class=\"toc-item-num\">1&nbsp;&nbsp;</span>Шаг 1. Загрузка данных</a></span></li><li><span><a href=\"#Шаг-2.-Предобработка-данных\" data-toc-modified-id=\"Шаг-2.-Предобработка-данных-2\"><span class=\"toc-item-num\">2&nbsp;&nbsp;</span>Шаг 2. Предобработка данных</a></span><ul class=\"toc-item\"><li><span><a href=\"#Приведите-столбец-date-к-типу-даты-Pandas.\" data-toc-modified-id=\"Приведите-столбец-date-к-типу-даты-Pandas.-2.1\"><span class=\"toc-item-num\">2.1&nbsp;&nbsp;</span>Приведите столбец <code>date</code> к типу даты Pandas.</a></span></li><li><span><a href=\"#Создайте-новый-столбец-с-номером-месяца-на-основе-столбца-date.\" data-toc-modified-id=\"Создайте-новый-столбец-с-номером-месяца-на-основе-столбца-date.-2.2\"><span class=\"toc-item-num\">2.2&nbsp;&nbsp;</span>Создайте новый столбец с номером месяца на основе столбца <code>date</code>.</a></span></li><li><span><a href=\"#Проверьте-наличие-пропущенных-значений-и-дубликатов-в-датафреймах.\" data-toc-modified-id=\"Проверьте-наличие-пропущенных-значений-и-дубликатов-в-датафреймах.-2.3\"><span class=\"toc-item-num\">2.3&nbsp;&nbsp;</span>Проверьте наличие пропущенных значений и дубликатов в датафреймах.</a></span></li></ul></li><li><span><a href=\"#Шаг-3.-Исследовательский-анализ-данных\" data-toc-modified-id=\"Шаг-3.-Исследовательский-анализ-данных-3\"><span class=\"toc-item-num\">3&nbsp;&nbsp;</span>Шаг 3. Исследовательский анализ данных</a></span><ul class=\"toc-item\"><li><span><a href=\"#Частота-встречаемости-городов.\" data-toc-modified-id=\"Частота-встречаемости-городов.-3.1\"><span class=\"toc-item-num\">3.1&nbsp;&nbsp;</span>Частота встречаемости городов.</a></span></li><li><span><a href=\"#Соотношение-пользователей-с-подпиской-и-без-подписки.\" data-toc-modified-id=\"Соотношение-пользователей-с-подпиской-и-без-подписки.-3.2\"><span class=\"toc-item-num\">3.2&nbsp;&nbsp;</span>Соотношение пользователей с подпиской и без подписки.</a></span></li><li><span><a href=\"#Возраст-пользователей.\" data-toc-modified-id=\"Возраст-пользователей.-3.3\"><span class=\"toc-item-num\">3.3&nbsp;&nbsp;</span>Возраст пользователей.</a></span></li><li><span><a href=\"#Расстояние,-которое-пользователь-преодолел-за-одну-поездку.\" data-toc-modified-id=\"Расстояние,-которое-пользователь-преодолел-за-одну-поездку.-3.4\"><span class=\"toc-item-num\">3.4&nbsp;&nbsp;</span>Расстояние, которое пользователь преодолел за одну поездку.</a></span></li><li><span><a href=\"#Продолжительность-поездок.\" data-toc-modified-id=\"Продолжительность-поездок.-3.5\"><span class=\"toc-item-num\">3.5&nbsp;&nbsp;</span>Продолжительность поездок.</a></span></li></ul></li><li><span><a href=\"#Шаг-4.-Объединение-данных\" data-toc-modified-id=\"Шаг-4.-Объединение-данных-4\"><span class=\"toc-item-num\">4&nbsp;&nbsp;</span>Шаг 4. Объединение данных</a></span><ul class=\"toc-item\"><li><span><a href=\"#Объедините-данные-о-пользователях,-поездках-и-подписках-в-один-датафрейм.\" data-toc-modified-id=\"Объедините-данные-о-пользователях,-поездках-и-подписках-в-один-датафрейм.-4.1\"><span class=\"toc-item-num\">4.1&nbsp;&nbsp;</span>Объедините данные о пользователях, поездках и подписках в один датафрейм.</a></span></li><li><span><a href=\"#Создайте-ещё-два-датафрейма-из-датафрейма,-созданного-на-этапе-4.1:\" data-toc-modified-id=\"Создайте-ещё-два-датафрейма-из-датафрейма,-созданного-на-этапе-4.1:-4.2\"><span class=\"toc-item-num\">4.2&nbsp;&nbsp;</span>Создайте ещё два датафрейма из датафрейма, созданного на этапе 4.1:</a></span></li><li><span><a href=\"#Визуализируйте-информацию-о-расстоянии-и-времени-поездок-для-пользователей-обеих-категорий\" data-toc-modified-id=\"Визуализируйте-информацию-о-расстоянии-и-времени-поездок-для-пользователей-обеих-категорий-4.3\"><span class=\"toc-item-num\">4.3&nbsp;&nbsp;</span>Визуализируйте информацию о расстоянии и времени поездок для пользователей обеих категорий</a></span></li></ul></li><li><span><a href=\"#Шаг-5.-Подсчёт-выручки\" data-toc-modified-id=\"Шаг-5.-Подсчёт-выручки-5\"><span class=\"toc-item-num\">5&nbsp;&nbsp;</span>Шаг 5. Подсчёт выручки</a></span><ul class=\"toc-item\"><li><span><a href=\"#Создайте-датафрейм-с-агрегированными-данными-о-поездках-на-основе-датафрейма-с-объединёнными-данными-из-шага-4.\" data-toc-modified-id=\"Создайте-датафрейм-с-агрегированными-данными-о-поездках-на-основе-датафрейма-с-объединёнными-данными-из-шага-4.-5.1\"><span class=\"toc-item-num\">5.1&nbsp;&nbsp;</span>Создайте датафрейм с агрегированными данными о поездках на основе датафрейма с объединёнными данными из шага 4.</a></span></li><li><span><a href=\"#В-этот-же-датафрейм-добавьте-столбец-с-помесячной-выручкой,-которую-принёс-каждый-пользователь.\" data-toc-modified-id=\"В-этот-же-датафрейм-добавьте-столбец-с-помесячной-выручкой,-которую-принёс-каждый-пользователь.-5.2\"><span class=\"toc-item-num\">5.2&nbsp;&nbsp;</span>В этот же датафрейм добавьте столбец с помесячной выручкой, которую принёс каждый пользователь.</a></span></li></ul></li><li><span><a href=\"#Шаг-6.-Проверка-гипотез\" data-toc-modified-id=\"Шаг-6.-Проверка-гипотез-6\"><span class=\"toc-item-num\">6&nbsp;&nbsp;</span>Шаг 6. Проверка гипотез</a></span><ul class=\"toc-item\"><li><span><a href=\"#Тратят-ли-пользователи-с-подпиской-больше-времени-на-поездки?\" data-toc-modified-id=\"Тратят-ли-пользователи-с-подпиской-больше-времени-на-поездки?-6.1\"><span class=\"toc-item-num\">6.1&nbsp;&nbsp;</span>Тратят ли пользователи с подпиской больше времени на поездки?</a></span></li><li><span><a href=\"#Расстояние-одной-поездки-в-3130-метров-—-оптимальное-с-точки-зрения-износа-самоката.-Можно-ли-сказать,-что-расстояние,-которое-проезжают-пользователи-с-подпиской-за-одну-поездку,-не-превышает-3130-метров?\" data-toc-modified-id=\"Расстояние-одной-поездки-в-3130-метров-—-оптимальное-с-точки-зрения-износа-самоката.-Можно-ли-сказать,-что-расстояние,-которое-проезжают-пользователи-с-подпиской-за-одну-поездку,-не-превышает-3130-метров?-6.2\"><span class=\"toc-item-num\">6.2&nbsp;&nbsp;</span>Расстояние одной поездки в 3130 метров — оптимальное с точки зрения износа самоката. Можно ли сказать, что расстояние, которое проезжают пользователи с подпиской за одну поездку, не превышает 3130 метров?</a></span></li><li><span><a href=\"#Проверьте-гипотезу-о-том,-будет-ли-помесячная-выручка-от-пользователей-с-подпиской-по-месяцам-выше,-чем-выручка-от-пользователей-без-подписки.\" data-toc-modified-id=\"Проверьте-гипотезу-о-том,-будет-ли-помесячная-выручка-от-пользователей-с-подпиской-по-месяцам-выше,-чем-выручка-от-пользователей-без-подписки.-6.3\"><span class=\"toc-item-num\">6.3&nbsp;&nbsp;</span>Проверьте гипотезу о том, будет ли помесячная выручка от пользователей с подпиской по месяцам выше, чем выручка от пользователей без подписки.</a></span></li><li><span><a href=\"#Представьте-такую-ситуацию:-техническая-команда-сервиса-обновила-сервера,-с-которыми-взаимодействует-мобильное-приложение.-Она-надеется,-что-из-за-этого-количество-обращений-в-техподдержку-значимо-снизилось.-Некоторый-файл-содержит-для-каждого-пользователя-данные-о-количестве-обращений-до-обновления-и-после-него.-Какой-тест-вам-понадобился-бы-для-проверки-этой-гипотезы?\" data-toc-modified-id=\"Представьте-такую-ситуацию:-техническая-команда-сервиса-обновила-сервера,-с-которыми-взаимодействует-мобильное-приложение.-Она-надеется,-что-из-за-этого-количество-обращений-в-техподдержку-значимо-снизилось.-Некоторый-файл-содержит-для-каждого-пользователя-данные-о-количестве-обращений-до-обновления-и-после-него.-Какой-тест-вам-понадобился-бы-для-проверки-этой-гипотезы?-6.4\"><span class=\"toc-item-num\">6.4&nbsp;&nbsp;</span>Представьте такую ситуацию: техническая команда сервиса обновила сервера, с которыми взаимодействует мобильное приложение. Она надеется, что из-за этого количество обращений в техподдержку значимо снизилось. Некоторый файл содержит для каждого пользователя данные о количестве обращений до обновления и после него. Какой тест вам понадобился бы для проверки этой гипотезы?</a></span></li></ul></li><li><span><a href=\"#Шаг-7.-Распределения\" data-toc-modified-id=\"Шаг-7.-Распределения-7\"><span class=\"toc-item-num\">7&nbsp;&nbsp;</span>Шаг 7. Распределения</a></span><ul class=\"toc-item\"><li><span><a href=\"#Акции-и-промокоды\" data-toc-modified-id=\"Акции-и-промокоды-7.1\"><span class=\"toc-item-num\">7.1&nbsp;&nbsp;</span>Акции и промокоды</a></span></li><li><span><a href=\"#Push-уведомления\" data-toc-modified-id=\"Push-уведомления-7.2\"><span class=\"toc-item-num\">7.2&nbsp;&nbsp;</span>Push-уведомления</a></span></li></ul></li><li><span><a href=\"#Выводы\" data-toc-modified-id=\"Выводы-8\"><span class=\"toc-item-num\">8&nbsp;&nbsp;</span>Выводы</a></span></li></ul></div>"
   ]
  },
  {
   "cell_type": "code",
   "execution_count": 1,
   "id": "72576667",
   "metadata": {},
   "outputs": [],
   "source": [
    "import pandas as pd\n",
    "from scipy import stats as st\n",
    "import matplotlib.pyplot as plt\n",
    "import numpy as np"
   ]
  },
  {
   "cell_type": "markdown",
   "id": "c42cbe00",
   "metadata": {},
   "source": [
    "#### Шаг 1. Загрузка данных"
   ]
  },
  {
   "cell_type": "code",
   "execution_count": 2,
   "id": "eff9f206",
   "metadata": {},
   "outputs": [],
   "source": [
    "users = pd.read_csv('/datasets/users_go.csv')"
   ]
  },
  {
   "cell_type": "code",
   "execution_count": 3,
   "id": "8b3deae8",
   "metadata": {},
   "outputs": [
    {
     "data": {
      "text/html": [
       "<div>\n",
       "<style scoped>\n",
       "    .dataframe tbody tr th:only-of-type {\n",
       "        vertical-align: middle;\n",
       "    }\n",
       "\n",
       "    .dataframe tbody tr th {\n",
       "        vertical-align: top;\n",
       "    }\n",
       "\n",
       "    .dataframe thead th {\n",
       "        text-align: right;\n",
       "    }\n",
       "</style>\n",
       "<table border=\"1\" class=\"dataframe\">\n",
       "  <thead>\n",
       "    <tr style=\"text-align: right;\">\n",
       "      <th></th>\n",
       "      <th>user_id</th>\n",
       "      <th>name</th>\n",
       "      <th>age</th>\n",
       "      <th>city</th>\n",
       "      <th>subscription_type</th>\n",
       "    </tr>\n",
       "  </thead>\n",
       "  <tbody>\n",
       "    <tr>\n",
       "      <th>0</th>\n",
       "      <td>1</td>\n",
       "      <td>Кира</td>\n",
       "      <td>22</td>\n",
       "      <td>Тюмень</td>\n",
       "      <td>ultra</td>\n",
       "    </tr>\n",
       "    <tr>\n",
       "      <th>1</th>\n",
       "      <td>2</td>\n",
       "      <td>Станислав</td>\n",
       "      <td>31</td>\n",
       "      <td>Омск</td>\n",
       "      <td>ultra</td>\n",
       "    </tr>\n",
       "    <tr>\n",
       "      <th>2</th>\n",
       "      <td>3</td>\n",
       "      <td>Алексей</td>\n",
       "      <td>20</td>\n",
       "      <td>Москва</td>\n",
       "      <td>ultra</td>\n",
       "    </tr>\n",
       "    <tr>\n",
       "      <th>3</th>\n",
       "      <td>4</td>\n",
       "      <td>Константин</td>\n",
       "      <td>26</td>\n",
       "      <td>Ростов-на-Дону</td>\n",
       "      <td>ultra</td>\n",
       "    </tr>\n",
       "    <tr>\n",
       "      <th>4</th>\n",
       "      <td>5</td>\n",
       "      <td>Адель</td>\n",
       "      <td>28</td>\n",
       "      <td>Омск</td>\n",
       "      <td>ultra</td>\n",
       "    </tr>\n",
       "  </tbody>\n",
       "</table>\n",
       "</div>"
      ],
      "text/plain": [
       "   user_id        name  age            city subscription_type\n",
       "0        1        Кира   22          Тюмень             ultra\n",
       "1        2   Станислав   31            Омск             ultra\n",
       "2        3     Алексей   20          Москва             ultra\n",
       "3        4  Константин   26  Ростов-на-Дону             ultra\n",
       "4        5       Адель   28            Омск             ultra"
      ]
     },
     "execution_count": 3,
     "metadata": {},
     "output_type": "execute_result"
    }
   ],
   "source": [
    "users.head()"
   ]
  },
  {
   "cell_type": "code",
   "execution_count": 4,
   "id": "d81b8cdf",
   "metadata": {},
   "outputs": [
    {
     "name": "stdout",
     "output_type": "stream",
     "text": [
      "<class 'pandas.core.frame.DataFrame'>\n",
      "RangeIndex: 1565 entries, 0 to 1564\n",
      "Data columns (total 5 columns):\n",
      " #   Column             Non-Null Count  Dtype \n",
      "---  ------             --------------  ----- \n",
      " 0   user_id            1565 non-null   int64 \n",
      " 1   name               1565 non-null   object\n",
      " 2   age                1565 non-null   int64 \n",
      " 3   city               1565 non-null   object\n",
      " 4   subscription_type  1565 non-null   object\n",
      "dtypes: int64(2), object(3)\n",
      "memory usage: 61.3+ KB\n"
     ]
    }
   ],
   "source": [
    "users.info()"
   ]
  },
  {
   "cell_type": "markdown",
   "id": "2e12f86d",
   "metadata": {},
   "source": [
    "Датафрейм `users` содержит 1565 строк. В колонках `name`, `city` и `subscription_type` записаны строковые данные, в колонках `user_id` и `age` записаны целочисленные значения. В колонках нет пропусков."
   ]
  },
  {
   "cell_type": "code",
   "execution_count": 5,
   "id": "e93913ac",
   "metadata": {},
   "outputs": [],
   "source": [
    "rides = pd.read_csv('/datasets/rides_go.csv')"
   ]
  },
  {
   "cell_type": "code",
   "execution_count": 6,
   "id": "55f198d2",
   "metadata": {},
   "outputs": [
    {
     "data": {
      "text/html": [
       "<div>\n",
       "<style scoped>\n",
       "    .dataframe tbody tr th:only-of-type {\n",
       "        vertical-align: middle;\n",
       "    }\n",
       "\n",
       "    .dataframe tbody tr th {\n",
       "        vertical-align: top;\n",
       "    }\n",
       "\n",
       "    .dataframe thead th {\n",
       "        text-align: right;\n",
       "    }\n",
       "</style>\n",
       "<table border=\"1\" class=\"dataframe\">\n",
       "  <thead>\n",
       "    <tr style=\"text-align: right;\">\n",
       "      <th></th>\n",
       "      <th>user_id</th>\n",
       "      <th>distance</th>\n",
       "      <th>duration</th>\n",
       "      <th>date</th>\n",
       "    </tr>\n",
       "  </thead>\n",
       "  <tbody>\n",
       "    <tr>\n",
       "      <th>0</th>\n",
       "      <td>1</td>\n",
       "      <td>4409.919140</td>\n",
       "      <td>25.599769</td>\n",
       "      <td>2021-01-01</td>\n",
       "    </tr>\n",
       "    <tr>\n",
       "      <th>1</th>\n",
       "      <td>1</td>\n",
       "      <td>2617.592153</td>\n",
       "      <td>15.816871</td>\n",
       "      <td>2021-01-18</td>\n",
       "    </tr>\n",
       "    <tr>\n",
       "      <th>2</th>\n",
       "      <td>1</td>\n",
       "      <td>754.159807</td>\n",
       "      <td>6.232113</td>\n",
       "      <td>2021-04-20</td>\n",
       "    </tr>\n",
       "    <tr>\n",
       "      <th>3</th>\n",
       "      <td>1</td>\n",
       "      <td>2694.783254</td>\n",
       "      <td>18.511000</td>\n",
       "      <td>2021-08-11</td>\n",
       "    </tr>\n",
       "    <tr>\n",
       "      <th>4</th>\n",
       "      <td>1</td>\n",
       "      <td>4028.687306</td>\n",
       "      <td>26.265803</td>\n",
       "      <td>2021-08-28</td>\n",
       "    </tr>\n",
       "  </tbody>\n",
       "</table>\n",
       "</div>"
      ],
      "text/plain": [
       "   user_id     distance   duration        date\n",
       "0        1  4409.919140  25.599769  2021-01-01\n",
       "1        1  2617.592153  15.816871  2021-01-18\n",
       "2        1   754.159807   6.232113  2021-04-20\n",
       "3        1  2694.783254  18.511000  2021-08-11\n",
       "4        1  4028.687306  26.265803  2021-08-28"
      ]
     },
     "execution_count": 6,
     "metadata": {},
     "output_type": "execute_result"
    }
   ],
   "source": [
    "rides.head()"
   ]
  },
  {
   "cell_type": "code",
   "execution_count": 7,
   "id": "e5453cfa",
   "metadata": {},
   "outputs": [
    {
     "name": "stdout",
     "output_type": "stream",
     "text": [
      "<class 'pandas.core.frame.DataFrame'>\n",
      "RangeIndex: 18068 entries, 0 to 18067\n",
      "Data columns (total 4 columns):\n",
      " #   Column    Non-Null Count  Dtype  \n",
      "---  ------    --------------  -----  \n",
      " 0   user_id   18068 non-null  int64  \n",
      " 1   distance  18068 non-null  float64\n",
      " 2   duration  18068 non-null  float64\n",
      " 3   date      18068 non-null  object \n",
      "dtypes: float64(2), int64(1), object(1)\n",
      "memory usage: 564.8+ KB\n"
     ]
    }
   ],
   "source": [
    "rides.info()"
   ]
  },
  {
   "cell_type": "markdown",
   "id": "9fc0b428",
   "metadata": {},
   "source": [
    "Датафрейм `rides` содержит 18068 строк. В колонке `user_id` содержатся целочисленные значения, в колонке `date` - строковые значения, в колонках `distance` и `duration` - вещественные значения. В колонках нет пропусков. "
   ]
  },
  {
   "cell_type": "code",
   "execution_count": 8,
   "id": "2a585fc5",
   "metadata": {},
   "outputs": [],
   "source": [
    "subscriptions = pd.read_csv('/datasets/subscriptions_go.csv')"
   ]
  },
  {
   "cell_type": "code",
   "execution_count": 9,
   "id": "11dfe881",
   "metadata": {},
   "outputs": [
    {
     "data": {
      "text/html": [
       "<div>\n",
       "<style scoped>\n",
       "    .dataframe tbody tr th:only-of-type {\n",
       "        vertical-align: middle;\n",
       "    }\n",
       "\n",
       "    .dataframe tbody tr th {\n",
       "        vertical-align: top;\n",
       "    }\n",
       "\n",
       "    .dataframe thead th {\n",
       "        text-align: right;\n",
       "    }\n",
       "</style>\n",
       "<table border=\"1\" class=\"dataframe\">\n",
       "  <thead>\n",
       "    <tr style=\"text-align: right;\">\n",
       "      <th></th>\n",
       "      <th>subscription_type</th>\n",
       "      <th>minute_price</th>\n",
       "      <th>start_ride_price</th>\n",
       "      <th>subscription_fee</th>\n",
       "    </tr>\n",
       "  </thead>\n",
       "  <tbody>\n",
       "    <tr>\n",
       "      <th>0</th>\n",
       "      <td>free</td>\n",
       "      <td>8</td>\n",
       "      <td>50</td>\n",
       "      <td>0</td>\n",
       "    </tr>\n",
       "    <tr>\n",
       "      <th>1</th>\n",
       "      <td>ultra</td>\n",
       "      <td>6</td>\n",
       "      <td>0</td>\n",
       "      <td>199</td>\n",
       "    </tr>\n",
       "  </tbody>\n",
       "</table>\n",
       "</div>"
      ],
      "text/plain": [
       "  subscription_type  minute_price  start_ride_price  subscription_fee\n",
       "0              free             8                50                 0\n",
       "1             ultra             6                 0               199"
      ]
     },
     "execution_count": 9,
     "metadata": {},
     "output_type": "execute_result"
    }
   ],
   "source": [
    "subscriptions.head()"
   ]
  },
  {
   "cell_type": "code",
   "execution_count": 10,
   "id": "7ffa8c75",
   "metadata": {},
   "outputs": [
    {
     "name": "stdout",
     "output_type": "stream",
     "text": [
      "<class 'pandas.core.frame.DataFrame'>\n",
      "RangeIndex: 2 entries, 0 to 1\n",
      "Data columns (total 4 columns):\n",
      " #   Column             Non-Null Count  Dtype \n",
      "---  ------             --------------  ----- \n",
      " 0   subscription_type  2 non-null      object\n",
      " 1   minute_price       2 non-null      int64 \n",
      " 2   start_ride_price   2 non-null      int64 \n",
      " 3   subscription_fee   2 non-null      int64 \n",
      "dtypes: int64(3), object(1)\n",
      "memory usage: 192.0+ bytes\n"
     ]
    }
   ],
   "source": [
    "subscriptions.info()"
   ]
  },
  {
   "cell_type": "markdown",
   "id": "b71feabb",
   "metadata": {},
   "source": [
    "Датафрейм `subscriptions` содержит две строчки. В колонке `subscription_type` записаны строковые значения, в колонках `minute_price`, `start_ride_price` и `subscription_fee` - целочисленные значения. В колонках нет пропусков."
   ]
  },
  {
   "cell_type": "markdown",
   "id": "81236fc4",
   "metadata": {},
   "source": [
    "Данные о пользователях, поездках и подписках представлены в датафреймах `users`, `rides` и `subscriptions` соответственно. \n",
    "    \n",
    "|Датафрейм|Количество строк|Столбцы|Наличие пропусков|\n",
    "|---------|----------------|:------|-----------------|\n",
    "|`users` |1565 |`user_id`, `name`, `age`, `city`, `subscription_type` |нет |\n",
    "|`rides` |18068 |`user_id`, `distance`, `duration`, `date` |нет |\n",
    "|`subscriptions`|2 | `subscription_type`, `minute_price`, `start_ride_price`, `subscription_fee` |нет |\n"
   ]
  },
  {
   "cell_type": "markdown",
   "id": "e95ebca7",
   "metadata": {},
   "source": [
    "#### Шаг 2. Предобработка данных"
   ]
  },
  {
   "cell_type": "markdown",
   "id": "6c8c6113",
   "metadata": {},
   "source": [
    "##### Приведите столбец `date` к типу даты Pandas."
   ]
  },
  {
   "cell_type": "code",
   "execution_count": 11,
   "id": "4e3dae77",
   "metadata": {},
   "outputs": [],
   "source": [
    "rides['date'] = pd.to_datetime(rides['date'], format='%Y-%m-%d')"
   ]
  },
  {
   "cell_type": "code",
   "execution_count": 12,
   "id": "d51aee5d",
   "metadata": {},
   "outputs": [
    {
     "name": "stdout",
     "output_type": "stream",
     "text": [
      "<class 'pandas.core.frame.DataFrame'>\n",
      "RangeIndex: 18068 entries, 0 to 18067\n",
      "Data columns (total 4 columns):\n",
      " #   Column    Non-Null Count  Dtype         \n",
      "---  ------    --------------  -----         \n",
      " 0   user_id   18068 non-null  int64         \n",
      " 1   distance  18068 non-null  float64       \n",
      " 2   duration  18068 non-null  float64       \n",
      " 3   date      18068 non-null  datetime64[ns]\n",
      "dtypes: datetime64[ns](1), float64(2), int64(1)\n",
      "memory usage: 564.8 KB\n"
     ]
    }
   ],
   "source": [
    "rides.info()"
   ]
  },
  {
   "cell_type": "markdown",
   "id": "d91a5102",
   "metadata": {},
   "source": [
    "Данные в колонке `date` теперь имеют тип `datetime64`."
   ]
  },
  {
   "cell_type": "markdown",
   "id": "561c74e6",
   "metadata": {},
   "source": [
    "##### Создайте новый столбец с номером месяца на основе столбца `date`."
   ]
  },
  {
   "cell_type": "code",
   "execution_count": 13,
   "id": "91852620",
   "metadata": {},
   "outputs": [],
   "source": [
    "rides['month'] = rides['date'].dt.month"
   ]
  },
  {
   "cell_type": "code",
   "execution_count": 14,
   "id": "f6885737",
   "metadata": {},
   "outputs": [
    {
     "data": {
      "text/html": [
       "<div>\n",
       "<style scoped>\n",
       "    .dataframe tbody tr th:only-of-type {\n",
       "        vertical-align: middle;\n",
       "    }\n",
       "\n",
       "    .dataframe tbody tr th {\n",
       "        vertical-align: top;\n",
       "    }\n",
       "\n",
       "    .dataframe thead th {\n",
       "        text-align: right;\n",
       "    }\n",
       "</style>\n",
       "<table border=\"1\" class=\"dataframe\">\n",
       "  <thead>\n",
       "    <tr style=\"text-align: right;\">\n",
       "      <th></th>\n",
       "      <th>user_id</th>\n",
       "      <th>distance</th>\n",
       "      <th>duration</th>\n",
       "      <th>date</th>\n",
       "      <th>month</th>\n",
       "    </tr>\n",
       "  </thead>\n",
       "  <tbody>\n",
       "    <tr>\n",
       "      <th>0</th>\n",
       "      <td>1</td>\n",
       "      <td>4409.919140</td>\n",
       "      <td>25.599769</td>\n",
       "      <td>2021-01-01</td>\n",
       "      <td>1</td>\n",
       "    </tr>\n",
       "    <tr>\n",
       "      <th>1</th>\n",
       "      <td>1</td>\n",
       "      <td>2617.592153</td>\n",
       "      <td>15.816871</td>\n",
       "      <td>2021-01-18</td>\n",
       "      <td>1</td>\n",
       "    </tr>\n",
       "    <tr>\n",
       "      <th>2</th>\n",
       "      <td>1</td>\n",
       "      <td>754.159807</td>\n",
       "      <td>6.232113</td>\n",
       "      <td>2021-04-20</td>\n",
       "      <td>4</td>\n",
       "    </tr>\n",
       "    <tr>\n",
       "      <th>3</th>\n",
       "      <td>1</td>\n",
       "      <td>2694.783254</td>\n",
       "      <td>18.511000</td>\n",
       "      <td>2021-08-11</td>\n",
       "      <td>8</td>\n",
       "    </tr>\n",
       "    <tr>\n",
       "      <th>4</th>\n",
       "      <td>1</td>\n",
       "      <td>4028.687306</td>\n",
       "      <td>26.265803</td>\n",
       "      <td>2021-08-28</td>\n",
       "      <td>8</td>\n",
       "    </tr>\n",
       "  </tbody>\n",
       "</table>\n",
       "</div>"
      ],
      "text/plain": [
       "   user_id     distance   duration       date  month\n",
       "0        1  4409.919140  25.599769 2021-01-01      1\n",
       "1        1  2617.592153  15.816871 2021-01-18      1\n",
       "2        1   754.159807   6.232113 2021-04-20      4\n",
       "3        1  2694.783254  18.511000 2021-08-11      8\n",
       "4        1  4028.687306  26.265803 2021-08-28      8"
      ]
     },
     "execution_count": 14,
     "metadata": {},
     "output_type": "execute_result"
    }
   ],
   "source": [
    "rides.head()"
   ]
  },
  {
   "cell_type": "code",
   "execution_count": 15,
   "id": "e5a58d90",
   "metadata": {},
   "outputs": [
    {
     "name": "stdout",
     "output_type": "stream",
     "text": [
      "2021-01-01 00:00:00\n",
      "2021-12-30 00:00:00\n"
     ]
    }
   ],
   "source": [
    "print(rides['date'].min())\n",
    "print(rides['date'].max())"
   ]
  },
  {
   "cell_type": "markdown",
   "id": "224c5342",
   "metadata": {},
   "source": [
    "В данных представлены информация о поездках за 2021 год: с первого января по 30 декабря."
   ]
  },
  {
   "cell_type": "markdown",
   "id": "62d8c754",
   "metadata": {},
   "source": [
    "##### Проверьте наличие пропущенных значений и дубликатов в датафреймах. \n",
    "Обработайте их, если такие значения присутствуют.<br>\n",
    "Еще раз проверим, что в наших данных нет пропущенных значений."
   ]
  },
  {
   "cell_type": "code",
   "execution_count": 16,
   "id": "67edddbd",
   "metadata": {},
   "outputs": [
    {
     "data": {
      "text/plain": [
       "user_id     0\n",
       "distance    0\n",
       "duration    0\n",
       "date        0\n",
       "month       0\n",
       "dtype: int64"
      ]
     },
     "execution_count": 16,
     "metadata": {},
     "output_type": "execute_result"
    }
   ],
   "source": [
    "rides.isna().sum()"
   ]
  },
  {
   "cell_type": "code",
   "execution_count": 17,
   "id": "d62744e8",
   "metadata": {},
   "outputs": [
    {
     "data": {
      "text/plain": [
       "user_id              0\n",
       "name                 0\n",
       "age                  0\n",
       "city                 0\n",
       "subscription_type    0\n",
       "dtype: int64"
      ]
     },
     "execution_count": 17,
     "metadata": {},
     "output_type": "execute_result"
    }
   ],
   "source": [
    "users.isna().sum()"
   ]
  },
  {
   "cell_type": "code",
   "execution_count": 18,
   "id": "9bc543a5",
   "metadata": {},
   "outputs": [
    {
     "data": {
      "text/plain": [
       "subscription_type    0\n",
       "minute_price         0\n",
       "start_ride_price     0\n",
       "subscription_fee     0\n",
       "dtype: int64"
      ]
     },
     "execution_count": 18,
     "metadata": {},
     "output_type": "execute_result"
    }
   ],
   "source": [
    "subscriptions.isna().sum()"
   ]
  },
  {
   "cell_type": "markdown",
   "id": "2ddfbcd2",
   "metadata": {},
   "source": [
    "Теперь проверим наличие дубликатов."
   ]
  },
  {
   "cell_type": "code",
   "execution_count": 19,
   "id": "48610840",
   "metadata": {},
   "outputs": [
    {
     "data": {
      "text/plain": [
       "31"
      ]
     },
     "execution_count": 19,
     "metadata": {},
     "output_type": "execute_result"
    }
   ],
   "source": [
    "users.duplicated().sum()"
   ]
  },
  {
   "cell_type": "markdown",
   "id": "0c00c821",
   "metadata": {},
   "source": [
    "В датафрейме `users` 31 дубликат. Удалим строки-дубликаты."
   ]
  },
  {
   "cell_type": "code",
   "execution_count": 20,
   "id": "f13287fd",
   "metadata": {},
   "outputs": [],
   "source": [
    "users = users.drop_duplicates().reset_index()"
   ]
  },
  {
   "cell_type": "code",
   "execution_count": 21,
   "id": "5f228cea",
   "metadata": {},
   "outputs": [
    {
     "data": {
      "text/plain": [
       "0"
      ]
     },
     "execution_count": 21,
     "metadata": {},
     "output_type": "execute_result"
    }
   ],
   "source": [
    "rides.duplicated().sum()"
   ]
  },
  {
   "cell_type": "markdown",
   "id": "52dd533e",
   "metadata": {},
   "source": [
    "В датафрейме `rides` дубликатов нет, как и в датафрейме `subscriptions`."
   ]
  },
  {
   "cell_type": "markdown",
   "id": "3f743f4f",
   "metadata": {},
   "source": [
    "Была выполнена преобработка данных:\n",
    "- данные в колонке `date` датафрейма `rides` теперь имеют тип `datetime64`;\n",
    "- в датафрейм `rides` была добавлена колонка `month`, содержащая номер месяца, в который была совершена поездка;\n",
    "- еще раз было проверено, что в данных нет пропусков;\n",
    "- были удалены дубликаты из датафрейма `users`."
   ]
  },
  {
   "cell_type": "markdown",
   "id": "212593c7",
   "metadata": {},
   "source": [
    "#### Шаг 3. Исследовательский анализ данных"
   ]
  },
  {
   "cell_type": "markdown",
   "id": "19ea5511",
   "metadata": {},
   "source": [
    "##### Частота встречаемости городов.\n",
    "Города указаны в столбце `city` датафрейма `users`."
   ]
  },
  {
   "cell_type": "code",
   "execution_count": 22,
   "id": "d71e4809",
   "metadata": {},
   "outputs": [
    {
     "data": {
      "text/plain": [
       "Пятигорск         219\n",
       "Екатеринбург      204\n",
       "Ростов-на-Дону    198\n",
       "Краснодар         193\n",
       "Сочи              189\n",
       "Омск              183\n",
       "Тюмень            180\n",
       "Москва            168\n",
       "Name: city, dtype: int64"
      ]
     },
     "execution_count": 22,
     "metadata": {},
     "output_type": "execute_result"
    }
   ],
   "source": [
    "users['city'].value_counts()"
   ]
  },
  {
   "cell_type": "code",
   "execution_count": 23,
   "id": "668b41b4",
   "metadata": {},
   "outputs": [
    {
     "data": {
      "image/png": "[encoded data removed]",
      "text/plain": [
       "<Figure size 432x288 with 1 Axes>"
      ]
     },
     "metadata": {
      "needs_background": "light"
     },
     "output_type": "display_data"
    }
   ],
   "source": [
    "users['city'].value_counts().plot.bar(rot=45, title='Частота встречаемости городов в данных');"
   ]
  },
  {
   "cell_type": "markdown",
   "id": "5adb22a0",
   "metadata": {},
   "source": [
    "В данных больше всего пользователей из Пятигорска (219 человек) и меньше всего пользователей из Москвы (168 человек)."
   ]
  },
  {
   "cell_type": "markdown",
   "id": "73a089aa",
   "metadata": {},
   "source": [
    "##### Соотношение пользователей с подпиской и без подписки.\n",
    "Информация о наличии подписки содержится в столбце `subscription_type` датафрейма `users`."
   ]
  },
  {
   "cell_type": "code",
   "execution_count": 24,
   "id": "29121d85",
   "metadata": {},
   "outputs": [
    {
     "data": {
      "text/plain": [
       "free     0.544329\n",
       "ultra    0.455671\n",
       "Name: subscription_type, dtype: float64"
      ]
     },
     "execution_count": 24,
     "metadata": {},
     "output_type": "execute_result"
    }
   ],
   "source": [
    "users['subscription_type'].value_counts() / users['subscription_type'].shape[0]"
   ]
  },
  {
   "cell_type": "code",
   "execution_count": 25,
   "id": "f21ee42d",
   "metadata": {},
   "outputs": [
    {
     "data": {
      "image/png": "[encoded data removed]",
      "text/plain": [
       "<Figure size 720x720 with 1 Axes>"
      ]
     },
     "metadata": {},
     "output_type": "display_data"
    }
   ],
   "source": [
    "users['subscription_type'].value_counts().plot.pie(figsize=(10,10),title='Соотношение пользователей с подпиской и без подписки',autopct='%1.1f%%');"
   ]
  },
  {
   "cell_type": "markdown",
   "id": "0fa6836b",
   "metadata": {},
   "source": [
    "54% пользователей не покупали подписку, и 46% пользователей имеют подписку."
   ]
  },
  {
   "cell_type": "markdown",
   "id": "ce07ae9e",
   "metadata": {},
   "source": [
    "##### Возраст пользователей.\n",
    "Информация о возрасте содержится в столбце `age` датафрейма `users`."
   ]
  },
  {
   "cell_type": "code",
   "execution_count": 26,
   "id": "44ccb32c",
   "metadata": {},
   "outputs": [
    {
     "data": {
      "text/plain": [
       "25    145\n",
       "24    132\n",
       "26    131\n",
       "23    129\n",
       "27    119\n",
       "22    119\n",
       "28    112\n",
       "21     93\n",
       "20     71\n",
       "30     68\n",
       "29     68\n",
       "31     48\n",
       "19     47\n",
       "18     46\n",
       "32     41\n",
       "33     39\n",
       "17     26\n",
       "34     19\n",
       "16     19\n",
       "35     15\n",
       "15     13\n",
       "14      9\n",
       "13      8\n",
       "36      6\n",
       "12      4\n",
       "38      3\n",
       "37      2\n",
       "39      1\n",
       "43      1\n",
       "Name: age, dtype: int64"
      ]
     },
     "execution_count": 26,
     "metadata": {},
     "output_type": "execute_result"
    }
   ],
   "source": [
    "users['age'].value_counts()"
   ]
  },
  {
   "cell_type": "code",
   "execution_count": 27,
   "id": "8d9caa95",
   "metadata": {},
   "outputs": [
    {
     "data": {
      "image/png": "[encoded data removed]",
      "text/plain": [
       "<Figure size 432x288 with 1 Axes>"
      ]
     },
     "metadata": {
      "needs_background": "light"
     },
     "output_type": "display_data"
    }
   ],
   "source": [
    "users['age'].value_counts().plot.bar(title='Частота встречаемости возрастов пользователей');"
   ]
  },
  {
   "cell_type": "code",
   "execution_count": 28,
   "id": "c6bd5a24",
   "metadata": {},
   "outputs": [
    {
     "data": {
      "text/plain": [
       "count    1534.000000\n",
       "mean       24.903520\n",
       "std         4.572367\n",
       "min        12.000000\n",
       "25%        22.000000\n",
       "50%        25.000000\n",
       "75%        28.000000\n",
       "max        43.000000\n",
       "Name: age, dtype: float64"
      ]
     },
     "execution_count": 28,
     "metadata": {},
     "output_type": "execute_result"
    }
   ],
   "source": [
    "users['age'].describe()"
   ]
  },
  {
   "cell_type": "code",
   "execution_count": 29,
   "id": "3329d32f",
   "metadata": {},
   "outputs": [
    {
     "data": {
      "image/png": "[encoded data removed]",
      "text/plain": [
       "<Figure size 432x288 with 1 Axes>"
      ]
     },
     "metadata": {
      "needs_background": "light"
     },
     "output_type": "display_data"
    }
   ],
   "source": [
    "users['age'].plot.hist(bins=20);"
   ]
  },
  {
   "cell_type": "code",
   "execution_count": 30,
   "id": "a0a7a574",
   "metadata": {},
   "outputs": [
    {
     "data": {
      "image/png": "[encoded data removed]",
      "text/plain": [
       "<Figure size 432x288 with 1 Axes>"
      ]
     },
     "metadata": {
      "needs_background": "light"
     },
     "output_type": "display_data"
    }
   ],
   "source": [
    "users.boxplot(column='age');"
   ]
  },
  {
   "cell_type": "markdown",
   "id": "b7fa0540",
   "metadata": {},
   "source": [
    "Наиболее частый возраст пользователей (мода возраста) - 25 лет (таких пользователей 145). Медиана также равна 25. Средний возраст равен 24.9. Минимальный возраст равен 12, максимальный - 43."
   ]
  },
  {
   "cell_type": "markdown",
   "id": "20cf98b1",
   "metadata": {},
   "source": [
    "##### Расстояние, которое пользователь преодолел за одну поездку.\n",
    "Информация о расстоянии доступна в столбце `distance` датафрейма `rides`."
   ]
  },
  {
   "cell_type": "code",
   "execution_count": 31,
   "id": "00e16da2",
   "metadata": {},
   "outputs": [
    {
     "data": {
      "text/plain": [
       "count    18068.000000\n",
       "mean      3070.659976\n",
       "std       1116.831209\n",
       "min          0.855683\n",
       "25%       2543.226360\n",
       "50%       3133.609994\n",
       "75%       3776.222735\n",
       "max       7211.007745\n",
       "Name: distance, dtype: float64"
      ]
     },
     "execution_count": 31,
     "metadata": {},
     "output_type": "execute_result"
    }
   ],
   "source": [
    "rides['distance'].describe()"
   ]
  },
  {
   "cell_type": "code",
   "execution_count": 32,
   "id": "878324c5",
   "metadata": {},
   "outputs": [
    {
     "data": {
      "image/png": "[encoded data removed]",
      "text/plain": [
       "<Figure size 432x288 with 1 Axes>"
      ]
     },
     "metadata": {
      "needs_background": "light"
     },
     "output_type": "display_data"
    }
   ],
   "source": [
    "rides['distance'].plot.hist(grid=True, bins=8, title='Расстояние за одну поездку');"
   ]
  },
  {
   "cell_type": "code",
   "execution_count": 33,
   "id": "156ea93e",
   "metadata": {},
   "outputs": [
    {
     "data": {
      "image/png": "[encoded data removed]",
      "text/plain": [
       "<Figure size 432x288 with 1 Axes>"
      ]
     },
     "metadata": {
      "needs_background": "light"
     },
     "output_type": "display_data"
    }
   ],
   "source": [
    "rides.boxplot(column='distance');"
   ]
  },
  {
   "cell_type": "markdown",
   "id": "8bf63ac4",
   "metadata": {},
   "source": [
    "Минимальное расстояние за поездку равно 0.855683 метров. Максимальное расстояние равно 7211.007745 метров. Медиана равна 3133.609994 метров. Среднее значение равно 3070.659976 метров."
   ]
  },
  {
   "cell_type": "markdown",
   "id": "03be2d8e",
   "metadata": {},
   "source": [
    "##### Продолжительность поездок.\n",
    "Продолжительность поездок хранится в колонке `duration` датафрейма `rides`."
   ]
  },
  {
   "cell_type": "code",
   "execution_count": 34,
   "id": "754ba992",
   "metadata": {},
   "outputs": [
    {
     "data": {
      "text/plain": [
       "count    18068.000000\n",
       "mean        17.805011\n",
       "std          6.091051\n",
       "min          0.500000\n",
       "25%         13.597563\n",
       "50%         17.678395\n",
       "75%         21.724800\n",
       "max         40.823963\n",
       "Name: duration, dtype: float64"
      ]
     },
     "execution_count": 34,
     "metadata": {},
     "output_type": "execute_result"
    }
   ],
   "source": [
    "rides['duration'].describe()"
   ]
  },
  {
   "cell_type": "code",
   "execution_count": 35,
   "id": "9a929c86",
   "metadata": {},
   "outputs": [
    {
     "data": {
      "image/png": "[encoded data removed]",
      "text/plain": [
       "<Figure size 432x288 with 1 Axes>"
      ]
     },
     "metadata": {
      "needs_background": "light"
     },
     "output_type": "display_data"
    }
   ],
   "source": [
    "rides.duration.plot.hist(grid=True, title='Продолжительность поездки');"
   ]
  },
  {
   "cell_type": "code",
   "execution_count": 36,
   "id": "79ce7a45",
   "metadata": {},
   "outputs": [
    {
     "data": {
      "image/png": "[encoded data removed]",
      "text/plain": [
       "<Figure size 432x288 with 1 Axes>"
      ]
     },
     "metadata": {
      "needs_background": "light"
     },
     "output_type": "display_data"
    }
   ],
   "source": [
    "rides.boxplot(column='duration');"
   ]
  },
  {
   "cell_type": "markdown",
   "id": "4236c228",
   "metadata": {},
   "source": [
    "Минимальная продолжительность поездки равна 0.5 минут. Максимальная продолжительность поездки равна 40.823963 минут. Медиана равна 17.678395 минут. Среднее значение равно 17.805011 минут."
   ]
  },
  {
   "cell_type": "markdown",
   "id": "41c57db5",
   "metadata": {},
   "source": [
    "Мы провели исследовательский анализ данных по следующим параметрам:\n",
    "- частота встречаемости городов: данных больше всего пользователей из Пятигорска (219 человек) и меньше всего пользователей из Москвы (168 человек);\n",
    "- соотношение пользователей с подпиской и пользователей без подписки: 54% пользователей не имеют подписку и 46% пользователей имеют;\n",
    "- возраст пользователей: средний возраст пользователя по трем характеристикам центра набора данных (мода, медиана, среднее арифметическое) равен 25, минимальный возраст равен 12, максимальный - 43;\n",
    "- расстояние, которое пользователь преодолевает за одну поездку: минимальное расстояние за поездку равно 0.9 метров, максимальное расстояние равно 7211 метров, медиана равна 3134 метров, среднее значение равно 3071 метров;\n",
    "- продолжительность поездки: минимальная продолжительность поездки равна 0.5 минут, максимальная продолжительность поездки равна 41 минуте, медиана равна 18 минутам, среднее значение равно 18 минутам."
   ]
  },
  {
   "cell_type": "markdown",
   "id": "4ef51331",
   "metadata": {},
   "source": [
    "#### Шаг 4. Объединение данных"
   ]
  },
  {
   "cell_type": "markdown",
   "id": "d3558114",
   "metadata": {},
   "source": [
    "##### Объедините данные о пользователях, поездках и подписках в один датафрейм. \n",
    "Для этого воспользуйтесь методом `merge()`."
   ]
  },
  {
   "cell_type": "code",
   "execution_count": 37,
   "id": "162c6ddb",
   "metadata": {},
   "outputs": [],
   "source": [
    "data = rides.merge(users, on='user_id').merge(subscriptions, on='subscription_type')"
   ]
  },
  {
   "cell_type": "code",
   "execution_count": 38,
   "id": "8e519c85",
   "metadata": {},
   "outputs": [
    {
     "data": {
      "text/html": [
       "<div>\n",
       "<style scoped>\n",
       "    .dataframe tbody tr th:only-of-type {\n",
       "        vertical-align: middle;\n",
       "    }\n",
       "\n",
       "    .dataframe tbody tr th {\n",
       "        vertical-align: top;\n",
       "    }\n",
       "\n",
       "    .dataframe thead th {\n",
       "        text-align: right;\n",
       "    }\n",
       "</style>\n",
       "<table border=\"1\" class=\"dataframe\">\n",
       "  <thead>\n",
       "    <tr style=\"text-align: right;\">\n",
       "      <th></th>\n",
       "      <th>user_id</th>\n",
       "      <th>distance</th>\n",
       "      <th>duration</th>\n",
       "      <th>date</th>\n",
       "      <th>month</th>\n",
       "      <th>index</th>\n",
       "      <th>name</th>\n",
       "      <th>age</th>\n",
       "      <th>city</th>\n",
       "      <th>subscription_type</th>\n",
       "      <th>minute_price</th>\n",
       "      <th>start_ride_price</th>\n",
       "      <th>subscription_fee</th>\n",
       "    </tr>\n",
       "  </thead>\n",
       "  <tbody>\n",
       "    <tr>\n",
       "      <th>0</th>\n",
       "      <td>1</td>\n",
       "      <td>4409.919140</td>\n",
       "      <td>25.599769</td>\n",
       "      <td>2021-01-01</td>\n",
       "      <td>1</td>\n",
       "      <td>0</td>\n",
       "      <td>Кира</td>\n",
       "      <td>22</td>\n",
       "      <td>Тюмень</td>\n",
       "      <td>ultra</td>\n",
       "      <td>6</td>\n",
       "      <td>0</td>\n",
       "      <td>199</td>\n",
       "    </tr>\n",
       "    <tr>\n",
       "      <th>1</th>\n",
       "      <td>1</td>\n",
       "      <td>2617.592153</td>\n",
       "      <td>15.816871</td>\n",
       "      <td>2021-01-18</td>\n",
       "      <td>1</td>\n",
       "      <td>0</td>\n",
       "      <td>Кира</td>\n",
       "      <td>22</td>\n",
       "      <td>Тюмень</td>\n",
       "      <td>ultra</td>\n",
       "      <td>6</td>\n",
       "      <td>0</td>\n",
       "      <td>199</td>\n",
       "    </tr>\n",
       "    <tr>\n",
       "      <th>2</th>\n",
       "      <td>1</td>\n",
       "      <td>754.159807</td>\n",
       "      <td>6.232113</td>\n",
       "      <td>2021-04-20</td>\n",
       "      <td>4</td>\n",
       "      <td>0</td>\n",
       "      <td>Кира</td>\n",
       "      <td>22</td>\n",
       "      <td>Тюмень</td>\n",
       "      <td>ultra</td>\n",
       "      <td>6</td>\n",
       "      <td>0</td>\n",
       "      <td>199</td>\n",
       "    </tr>\n",
       "    <tr>\n",
       "      <th>3</th>\n",
       "      <td>1</td>\n",
       "      <td>2694.783254</td>\n",
       "      <td>18.511000</td>\n",
       "      <td>2021-08-11</td>\n",
       "      <td>8</td>\n",
       "      <td>0</td>\n",
       "      <td>Кира</td>\n",
       "      <td>22</td>\n",
       "      <td>Тюмень</td>\n",
       "      <td>ultra</td>\n",
       "      <td>6</td>\n",
       "      <td>0</td>\n",
       "      <td>199</td>\n",
       "    </tr>\n",
       "    <tr>\n",
       "      <th>4</th>\n",
       "      <td>1</td>\n",
       "      <td>4028.687306</td>\n",
       "      <td>26.265803</td>\n",
       "      <td>2021-08-28</td>\n",
       "      <td>8</td>\n",
       "      <td>0</td>\n",
       "      <td>Кира</td>\n",
       "      <td>22</td>\n",
       "      <td>Тюмень</td>\n",
       "      <td>ultra</td>\n",
       "      <td>6</td>\n",
       "      <td>0</td>\n",
       "      <td>199</td>\n",
       "    </tr>\n",
       "  </tbody>\n",
       "</table>\n",
       "</div>"
      ],
      "text/plain": [
       "   user_id     distance   duration       date  month  index  name  age  \\\n",
       "0        1  4409.919140  25.599769 2021-01-01      1      0  Кира   22   \n",
       "1        1  2617.592153  15.816871 2021-01-18      1      0  Кира   22   \n",
       "2        1   754.159807   6.232113 2021-04-20      4      0  Кира   22   \n",
       "3        1  2694.783254  18.511000 2021-08-11      8      0  Кира   22   \n",
       "4        1  4028.687306  26.265803 2021-08-28      8      0  Кира   22   \n",
       "\n",
       "     city subscription_type  minute_price  start_ride_price  subscription_fee  \n",
       "0  Тюмень             ultra             6                 0               199  \n",
       "1  Тюмень             ultra             6                 0               199  \n",
       "2  Тюмень             ultra             6                 0               199  \n",
       "3  Тюмень             ultra             6                 0               199  \n",
       "4  Тюмень             ultra             6                 0               199  "
      ]
     },
     "execution_count": 38,
     "metadata": {},
     "output_type": "execute_result"
    }
   ],
   "source": [
    "data.head()"
   ]
  },
  {
   "cell_type": "markdown",
   "id": "57a90d9e",
   "metadata": {},
   "source": [
    "##### Создайте ещё два датафрейма из датафрейма, созданного на этапе 4.1:\n",
    "- c данными о пользователях без подписки;\n",
    "- с данными о пользователях с подпиской."
   ]
  },
  {
   "cell_type": "code",
   "execution_count": 39,
   "id": "93afa15e",
   "metadata": {},
   "outputs": [],
   "source": [
    "data_subscr = data.query('subscription_type == \"ultra\"')"
   ]
  },
  {
   "cell_type": "code",
   "execution_count": 40,
   "id": "bd59bd87",
   "metadata": {},
   "outputs": [
    {
     "data": {
      "text/html": [
       "<div>\n",
       "<style scoped>\n",
       "    .dataframe tbody tr th:only-of-type {\n",
       "        vertical-align: middle;\n",
       "    }\n",
       "\n",
       "    .dataframe tbody tr th {\n",
       "        vertical-align: top;\n",
       "    }\n",
       "\n",
       "    .dataframe thead th {\n",
       "        text-align: right;\n",
       "    }\n",
       "</style>\n",
       "<table border=\"1\" class=\"dataframe\">\n",
       "  <thead>\n",
       "    <tr style=\"text-align: right;\">\n",
       "      <th></th>\n",
       "      <th>user_id</th>\n",
       "      <th>distance</th>\n",
       "      <th>duration</th>\n",
       "      <th>date</th>\n",
       "      <th>month</th>\n",
       "      <th>index</th>\n",
       "      <th>name</th>\n",
       "      <th>age</th>\n",
       "      <th>city</th>\n",
       "      <th>subscription_type</th>\n",
       "      <th>minute_price</th>\n",
       "      <th>start_ride_price</th>\n",
       "      <th>subscription_fee</th>\n",
       "    </tr>\n",
       "  </thead>\n",
       "  <tbody>\n",
       "    <tr>\n",
       "      <th>0</th>\n",
       "      <td>1</td>\n",
       "      <td>4409.919140</td>\n",
       "      <td>25.599769</td>\n",
       "      <td>2021-01-01</td>\n",
       "      <td>1</td>\n",
       "      <td>0</td>\n",
       "      <td>Кира</td>\n",
       "      <td>22</td>\n",
       "      <td>Тюмень</td>\n",
       "      <td>ultra</td>\n",
       "      <td>6</td>\n",
       "      <td>0</td>\n",
       "      <td>199</td>\n",
       "    </tr>\n",
       "    <tr>\n",
       "      <th>1</th>\n",
       "      <td>1</td>\n",
       "      <td>2617.592153</td>\n",
       "      <td>15.816871</td>\n",
       "      <td>2021-01-18</td>\n",
       "      <td>1</td>\n",
       "      <td>0</td>\n",
       "      <td>Кира</td>\n",
       "      <td>22</td>\n",
       "      <td>Тюмень</td>\n",
       "      <td>ultra</td>\n",
       "      <td>6</td>\n",
       "      <td>0</td>\n",
       "      <td>199</td>\n",
       "    </tr>\n",
       "    <tr>\n",
       "      <th>2</th>\n",
       "      <td>1</td>\n",
       "      <td>754.159807</td>\n",
       "      <td>6.232113</td>\n",
       "      <td>2021-04-20</td>\n",
       "      <td>4</td>\n",
       "      <td>0</td>\n",
       "      <td>Кира</td>\n",
       "      <td>22</td>\n",
       "      <td>Тюмень</td>\n",
       "      <td>ultra</td>\n",
       "      <td>6</td>\n",
       "      <td>0</td>\n",
       "      <td>199</td>\n",
       "    </tr>\n",
       "    <tr>\n",
       "      <th>3</th>\n",
       "      <td>1</td>\n",
       "      <td>2694.783254</td>\n",
       "      <td>18.511000</td>\n",
       "      <td>2021-08-11</td>\n",
       "      <td>8</td>\n",
       "      <td>0</td>\n",
       "      <td>Кира</td>\n",
       "      <td>22</td>\n",
       "      <td>Тюмень</td>\n",
       "      <td>ultra</td>\n",
       "      <td>6</td>\n",
       "      <td>0</td>\n",
       "      <td>199</td>\n",
       "    </tr>\n",
       "    <tr>\n",
       "      <th>4</th>\n",
       "      <td>1</td>\n",
       "      <td>4028.687306</td>\n",
       "      <td>26.265803</td>\n",
       "      <td>2021-08-28</td>\n",
       "      <td>8</td>\n",
       "      <td>0</td>\n",
       "      <td>Кира</td>\n",
       "      <td>22</td>\n",
       "      <td>Тюмень</td>\n",
       "      <td>ultra</td>\n",
       "      <td>6</td>\n",
       "      <td>0</td>\n",
       "      <td>199</td>\n",
       "    </tr>\n",
       "  </tbody>\n",
       "</table>\n",
       "</div>"
      ],
      "text/plain": [
       "   user_id     distance   duration       date  month  index  name  age  \\\n",
       "0        1  4409.919140  25.599769 2021-01-01      1      0  Кира   22   \n",
       "1        1  2617.592153  15.816871 2021-01-18      1      0  Кира   22   \n",
       "2        1   754.159807   6.232113 2021-04-20      4      0  Кира   22   \n",
       "3        1  2694.783254  18.511000 2021-08-11      8      0  Кира   22   \n",
       "4        1  4028.687306  26.265803 2021-08-28      8      0  Кира   22   \n",
       "\n",
       "     city subscription_type  minute_price  start_ride_price  subscription_fee  \n",
       "0  Тюмень             ultra             6                 0               199  \n",
       "1  Тюмень             ultra             6                 0               199  \n",
       "2  Тюмень             ultra             6                 0               199  \n",
       "3  Тюмень             ultra             6                 0               199  \n",
       "4  Тюмень             ultra             6                 0               199  "
      ]
     },
     "execution_count": 40,
     "metadata": {},
     "output_type": "execute_result"
    }
   ],
   "source": [
    "data_subscr.head()"
   ]
  },
  {
   "cell_type": "code",
   "execution_count": 41,
   "id": "e85ebc4a",
   "metadata": {},
   "outputs": [],
   "source": [
    "data_free = data.query('subscription_type == \"free\"')"
   ]
  },
  {
   "cell_type": "code",
   "execution_count": 42,
   "id": "8d1e83a6",
   "metadata": {},
   "outputs": [
    {
     "data": {
      "text/html": [
       "<div>\n",
       "<style scoped>\n",
       "    .dataframe tbody tr th:only-of-type {\n",
       "        vertical-align: middle;\n",
       "    }\n",
       "\n",
       "    .dataframe tbody tr th {\n",
       "        vertical-align: top;\n",
       "    }\n",
       "\n",
       "    .dataframe thead th {\n",
       "        text-align: right;\n",
       "    }\n",
       "</style>\n",
       "<table border=\"1\" class=\"dataframe\">\n",
       "  <thead>\n",
       "    <tr style=\"text-align: right;\">\n",
       "      <th></th>\n",
       "      <th>user_id</th>\n",
       "      <th>distance</th>\n",
       "      <th>duration</th>\n",
       "      <th>date</th>\n",
       "      <th>month</th>\n",
       "      <th>index</th>\n",
       "      <th>name</th>\n",
       "      <th>age</th>\n",
       "      <th>city</th>\n",
       "      <th>subscription_type</th>\n",
       "      <th>minute_price</th>\n",
       "      <th>start_ride_price</th>\n",
       "      <th>subscription_fee</th>\n",
       "    </tr>\n",
       "  </thead>\n",
       "  <tbody>\n",
       "    <tr>\n",
       "      <th>6500</th>\n",
       "      <td>700</td>\n",
       "      <td>2515.690719</td>\n",
       "      <td>14.944286</td>\n",
       "      <td>2021-01-02</td>\n",
       "      <td>1</td>\n",
       "      <td>699</td>\n",
       "      <td>Айдар</td>\n",
       "      <td>22</td>\n",
       "      <td>Омск</td>\n",
       "      <td>free</td>\n",
       "      <td>8</td>\n",
       "      <td>50</td>\n",
       "      <td>0</td>\n",
       "    </tr>\n",
       "    <tr>\n",
       "      <th>6501</th>\n",
       "      <td>700</td>\n",
       "      <td>846.932642</td>\n",
       "      <td>16.234663</td>\n",
       "      <td>2021-02-01</td>\n",
       "      <td>2</td>\n",
       "      <td>699</td>\n",
       "      <td>Айдар</td>\n",
       "      <td>22</td>\n",
       "      <td>Омск</td>\n",
       "      <td>free</td>\n",
       "      <td>8</td>\n",
       "      <td>50</td>\n",
       "      <td>0</td>\n",
       "    </tr>\n",
       "    <tr>\n",
       "      <th>6502</th>\n",
       "      <td>700</td>\n",
       "      <td>4004.434142</td>\n",
       "      <td>20.016628</td>\n",
       "      <td>2021-02-04</td>\n",
       "      <td>2</td>\n",
       "      <td>699</td>\n",
       "      <td>Айдар</td>\n",
       "      <td>22</td>\n",
       "      <td>Омск</td>\n",
       "      <td>free</td>\n",
       "      <td>8</td>\n",
       "      <td>50</td>\n",
       "      <td>0</td>\n",
       "    </tr>\n",
       "    <tr>\n",
       "      <th>6503</th>\n",
       "      <td>700</td>\n",
       "      <td>1205.911290</td>\n",
       "      <td>9.782872</td>\n",
       "      <td>2021-02-10</td>\n",
       "      <td>2</td>\n",
       "      <td>699</td>\n",
       "      <td>Айдар</td>\n",
       "      <td>22</td>\n",
       "      <td>Омск</td>\n",
       "      <td>free</td>\n",
       "      <td>8</td>\n",
       "      <td>50</td>\n",
       "      <td>0</td>\n",
       "    </tr>\n",
       "    <tr>\n",
       "      <th>6504</th>\n",
       "      <td>700</td>\n",
       "      <td>3047.379435</td>\n",
       "      <td>17.427673</td>\n",
       "      <td>2021-02-14</td>\n",
       "      <td>2</td>\n",
       "      <td>699</td>\n",
       "      <td>Айдар</td>\n",
       "      <td>22</td>\n",
       "      <td>Омск</td>\n",
       "      <td>free</td>\n",
       "      <td>8</td>\n",
       "      <td>50</td>\n",
       "      <td>0</td>\n",
       "    </tr>\n",
       "  </tbody>\n",
       "</table>\n",
       "</div>"
      ],
      "text/plain": [
       "      user_id     distance   duration       date  month  index   name  age  \\\n",
       "6500      700  2515.690719  14.944286 2021-01-02      1    699  Айдар   22   \n",
       "6501      700   846.932642  16.234663 2021-02-01      2    699  Айдар   22   \n",
       "6502      700  4004.434142  20.016628 2021-02-04      2    699  Айдар   22   \n",
       "6503      700  1205.911290   9.782872 2021-02-10      2    699  Айдар   22   \n",
       "6504      700  3047.379435  17.427673 2021-02-14      2    699  Айдар   22   \n",
       "\n",
       "      city subscription_type  minute_price  start_ride_price  subscription_fee  \n",
       "6500  Омск              free             8                50                 0  \n",
       "6501  Омск              free             8                50                 0  \n",
       "6502  Омск              free             8                50                 0  \n",
       "6503  Омск              free             8                50                 0  \n",
       "6504  Омск              free             8                50                 0  "
      ]
     },
     "execution_count": 42,
     "metadata": {},
     "output_type": "execute_result"
    }
   ],
   "source": [
    "data_free.head()"
   ]
  },
  {
   "cell_type": "code",
   "execution_count": 43,
   "id": "3d382dda",
   "metadata": {},
   "outputs": [
    {
     "data": {
      "text/plain": [
       "18068"
      ]
     },
     "metadata": {},
     "output_type": "display_data"
    },
    {
     "data": {
      "text/plain": [
       "6500"
      ]
     },
     "metadata": {},
     "output_type": "display_data"
    },
    {
     "data": {
      "text/plain": [
       "11568"
      ]
     },
     "execution_count": 43,
     "metadata": {},
     "output_type": "execute_result"
    }
   ],
   "source": [
    "display(data.shape[0])\n",
    "display(data_subscr.shape[0])\n",
    "data_free.shape[0]"
   ]
  },
  {
   "cell_type": "code",
   "execution_count": 44,
   "id": "f59ec70b",
   "metadata": {},
   "outputs": [
    {
     "data": {
      "text/plain": [
       "user_id              0\n",
       "distance             0\n",
       "duration             0\n",
       "date                 0\n",
       "month                0\n",
       "index                0\n",
       "name                 0\n",
       "age                  0\n",
       "city                 0\n",
       "subscription_type    0\n",
       "minute_price         0\n",
       "start_ride_price     0\n",
       "subscription_fee     0\n",
       "dtype: int64"
      ]
     },
     "execution_count": 44,
     "metadata": {},
     "output_type": "execute_result"
    }
   ],
   "source": [
    "data_free.isna().sum()"
   ]
  },
  {
   "cell_type": "code",
   "execution_count": 45,
   "id": "235b247a",
   "metadata": {},
   "outputs": [
    {
     "data": {
      "text/plain": [
       "user_id              0\n",
       "distance             0\n",
       "duration             0\n",
       "date                 0\n",
       "month                0\n",
       "index                0\n",
       "name                 0\n",
       "age                  0\n",
       "city                 0\n",
       "subscription_type    0\n",
       "minute_price         0\n",
       "start_ride_price     0\n",
       "subscription_fee     0\n",
       "dtype: int64"
      ]
     },
     "execution_count": 45,
     "metadata": {},
     "output_type": "execute_result"
    }
   ],
   "source": [
    "data_subscr.isna().sum()"
   ]
  },
  {
   "cell_type": "markdown",
   "id": "598c8734",
   "metadata": {},
   "source": [
    "Итоговая размерность совпадает с ожидаемой, в данных не появилось новых пропусков."
   ]
  },
  {
   "cell_type": "markdown",
   "id": "bcc5e7b1",
   "metadata": {},
   "source": [
    "##### Визуализируйте информацию о расстоянии и времени поездок для пользователей обеих категорий"
   ]
  },
  {
   "cell_type": "code",
   "execution_count": 46,
   "id": "24bbd06e",
   "metadata": {},
   "outputs": [
    {
     "data": {
      "image/png": "[encoded data removed]",
      "text/plain": [
       "<Figure size 432x288 with 1 Axes>"
      ]
     },
     "metadata": {
      "needs_background": "light"
     },
     "output_type": "display_data"
    }
   ],
   "source": [
    "data_free['distance'].plot.hist(grid=True)\n",
    "data_subscr['distance'].plot.hist(grid=True)\n",
    "plt.title('Расстояние, которое преодолевает пользователь за одну поездку')\n",
    "plt.legend(['free', 'ultra'])\n",
    "plt.show()"
   ]
  },
  {
   "cell_type": "code",
   "execution_count": 47,
   "id": "6a68095d",
   "metadata": {},
   "outputs": [
    {
     "data": {
      "image/png": "[encoded data removed]",
      "text/plain": [
       "<Figure size 432x288 with 1 Axes>"
      ]
     },
     "metadata": {
      "needs_background": "light"
     },
     "output_type": "display_data"
    }
   ],
   "source": [
    "data_free['duration'].plot.hist(grid=True)\n",
    "data_subscr['duration'].plot.hist(grid=True)\n",
    "plt.title('Длительность поездки')\n",
    "plt.legend(['free', 'ultra'])\n",
    "plt.show()"
   ]
  },
  {
   "cell_type": "markdown",
   "id": "4ca1af91",
   "metadata": {},
   "source": [
    "Изучив графики распределения расстояний, мы наблюдаем следующее:\n",
    "- пользователи без подписки чаще совершаю поездки на расстояние менее 1000 метров;\n",
    "- для пользователей без подписки пик на гистограмме лежит до 3000 метров, а для пользователей с подпиской - после 3000 метров;\n",
    "- для пользователей с подпиской на гистограмме видно резкое падение частоты поездок на расстояния более 3500 метров, чего не наблюдается на гистограмме пользователей без подписки;\n",
    "- разброс значений для пользователей без подписки больше, чем разброс значений для пользователей с подпиской.\n",
    "\n",
    "Из распределений длительностей мы можем сделать следующие выводы:\n",
    "- пик на гистограмме для бесплатных пользователей наблюдается в районе 18-21 минуты, а для платный в районе 15-18 минут;\n",
    "- после достижения пика частоты длительностей у бесплатных пользователей убывают быстрее;\n",
    "- у пользоваталей с подпиской выше минимальные и максимальные значения."
   ]
  },
  {
   "cell_type": "markdown",
   "id": "402d620f",
   "metadata": {},
   "source": [
    "#### Шаг 5. Подсчёт выручки"
   ]
  },
  {
   "cell_type": "markdown",
   "id": "8f1d30f2",
   "metadata": {},
   "source": [
    "##### Создайте датафрейм с агрегированными данными о поездках на основе датафрейма с объединёнными данными из шага 4.\n",
    "Найдите суммарное расстояние, количество поездок и суммарное время для каждого пользователя за каждый месяц."
   ]
  },
  {
   "cell_type": "code",
   "execution_count": 48,
   "id": "abbebabe",
   "metadata": {},
   "outputs": [
    {
     "data": {
      "text/html": [
       "<div>\n",
       "<style scoped>\n",
       "    .dataframe tbody tr th:only-of-type {\n",
       "        vertical-align: middle;\n",
       "    }\n",
       "\n",
       "    .dataframe tbody tr th {\n",
       "        vertical-align: top;\n",
       "    }\n",
       "\n",
       "    .dataframe thead th {\n",
       "        text-align: right;\n",
       "    }\n",
       "</style>\n",
       "<table border=\"1\" class=\"dataframe\">\n",
       "  <thead>\n",
       "    <tr style=\"text-align: right;\">\n",
       "      <th></th>\n",
       "      <th>user_id</th>\n",
       "      <th>distance</th>\n",
       "      <th>duration</th>\n",
       "      <th>date</th>\n",
       "      <th>month</th>\n",
       "      <th>index</th>\n",
       "      <th>name</th>\n",
       "      <th>age</th>\n",
       "      <th>city</th>\n",
       "      <th>subscription_type</th>\n",
       "      <th>minute_price</th>\n",
       "      <th>start_ride_price</th>\n",
       "      <th>subscription_fee</th>\n",
       "    </tr>\n",
       "  </thead>\n",
       "  <tbody>\n",
       "    <tr>\n",
       "      <th>0</th>\n",
       "      <td>1</td>\n",
       "      <td>4409.919140</td>\n",
       "      <td>25.599769</td>\n",
       "      <td>2021-01-01</td>\n",
       "      <td>1</td>\n",
       "      <td>0</td>\n",
       "      <td>Кира</td>\n",
       "      <td>22</td>\n",
       "      <td>Тюмень</td>\n",
       "      <td>ultra</td>\n",
       "      <td>6</td>\n",
       "      <td>0</td>\n",
       "      <td>199</td>\n",
       "    </tr>\n",
       "    <tr>\n",
       "      <th>1</th>\n",
       "      <td>1</td>\n",
       "      <td>2617.592153</td>\n",
       "      <td>15.816871</td>\n",
       "      <td>2021-01-18</td>\n",
       "      <td>1</td>\n",
       "      <td>0</td>\n",
       "      <td>Кира</td>\n",
       "      <td>22</td>\n",
       "      <td>Тюмень</td>\n",
       "      <td>ultra</td>\n",
       "      <td>6</td>\n",
       "      <td>0</td>\n",
       "      <td>199</td>\n",
       "    </tr>\n",
       "    <tr>\n",
       "      <th>2</th>\n",
       "      <td>1</td>\n",
       "      <td>754.159807</td>\n",
       "      <td>6.232113</td>\n",
       "      <td>2021-04-20</td>\n",
       "      <td>4</td>\n",
       "      <td>0</td>\n",
       "      <td>Кира</td>\n",
       "      <td>22</td>\n",
       "      <td>Тюмень</td>\n",
       "      <td>ultra</td>\n",
       "      <td>6</td>\n",
       "      <td>0</td>\n",
       "      <td>199</td>\n",
       "    </tr>\n",
       "    <tr>\n",
       "      <th>3</th>\n",
       "      <td>1</td>\n",
       "      <td>2694.783254</td>\n",
       "      <td>18.511000</td>\n",
       "      <td>2021-08-11</td>\n",
       "      <td>8</td>\n",
       "      <td>0</td>\n",
       "      <td>Кира</td>\n",
       "      <td>22</td>\n",
       "      <td>Тюмень</td>\n",
       "      <td>ultra</td>\n",
       "      <td>6</td>\n",
       "      <td>0</td>\n",
       "      <td>199</td>\n",
       "    </tr>\n",
       "    <tr>\n",
       "      <th>4</th>\n",
       "      <td>1</td>\n",
       "      <td>4028.687306</td>\n",
       "      <td>26.265803</td>\n",
       "      <td>2021-08-28</td>\n",
       "      <td>8</td>\n",
       "      <td>0</td>\n",
       "      <td>Кира</td>\n",
       "      <td>22</td>\n",
       "      <td>Тюмень</td>\n",
       "      <td>ultra</td>\n",
       "      <td>6</td>\n",
       "      <td>0</td>\n",
       "      <td>199</td>\n",
       "    </tr>\n",
       "  </tbody>\n",
       "</table>\n",
       "</div>"
      ],
      "text/plain": [
       "   user_id     distance   duration       date  month  index  name  age  \\\n",
       "0        1  4409.919140  25.599769 2021-01-01      1      0  Кира   22   \n",
       "1        1  2617.592153  15.816871 2021-01-18      1      0  Кира   22   \n",
       "2        1   754.159807   6.232113 2021-04-20      4      0  Кира   22   \n",
       "3        1  2694.783254  18.511000 2021-08-11      8      0  Кира   22   \n",
       "4        1  4028.687306  26.265803 2021-08-28      8      0  Кира   22   \n",
       "\n",
       "     city subscription_type  minute_price  start_ride_price  subscription_fee  \n",
       "0  Тюмень             ultra             6                 0               199  \n",
       "1  Тюмень             ultra             6                 0               199  \n",
       "2  Тюмень             ultra             6                 0               199  \n",
       "3  Тюмень             ultra             6                 0               199  \n",
       "4  Тюмень             ultra             6                 0               199  "
      ]
     },
     "execution_count": 48,
     "metadata": {},
     "output_type": "execute_result"
    }
   ],
   "source": [
    "data.head()"
   ]
  },
  {
   "cell_type": "code",
   "execution_count": 49,
   "id": "e5c42288",
   "metadata": {},
   "outputs": [],
   "source": [
    "data_agg = data.pivot_table(index=['user_id', 'month'], \n",
    "                 values=['distance', 'duration'], \n",
    "                 aggfunc={'distance': ['sum', 'count'], 'duration': 'sum'})"
   ]
  },
  {
   "cell_type": "code",
   "execution_count": 50,
   "id": "48d3b470",
   "metadata": {},
   "outputs": [],
   "source": [
    "data_agg.columns = ['count', 'dist_sum', 'duration_sum']"
   ]
  },
  {
   "cell_type": "code",
   "execution_count": 51,
   "id": "808facf9",
   "metadata": {},
   "outputs": [
    {
     "data": {
      "text/html": [
       "<div>\n",
       "<style scoped>\n",
       "    .dataframe tbody tr th:only-of-type {\n",
       "        vertical-align: middle;\n",
       "    }\n",
       "\n",
       "    .dataframe tbody tr th {\n",
       "        vertical-align: top;\n",
       "    }\n",
       "\n",
       "    .dataframe thead th {\n",
       "        text-align: right;\n",
       "    }\n",
       "</style>\n",
       "<table border=\"1\" class=\"dataframe\">\n",
       "  <thead>\n",
       "    <tr style=\"text-align: right;\">\n",
       "      <th></th>\n",
       "      <th></th>\n",
       "      <th>count</th>\n",
       "      <th>dist_sum</th>\n",
       "      <th>duration_sum</th>\n",
       "    </tr>\n",
       "    <tr>\n",
       "      <th>user_id</th>\n",
       "      <th>month</th>\n",
       "      <th></th>\n",
       "      <th></th>\n",
       "      <th></th>\n",
       "    </tr>\n",
       "  </thead>\n",
       "  <tbody>\n",
       "    <tr>\n",
       "      <th rowspan=\"6\" valign=\"top\">1</th>\n",
       "      <th>1</th>\n",
       "      <td>2</td>\n",
       "      <td>7027.511294</td>\n",
       "      <td>41.416640</td>\n",
       "    </tr>\n",
       "    <tr>\n",
       "      <th>4</th>\n",
       "      <td>1</td>\n",
       "      <td>754.159807</td>\n",
       "      <td>6.232113</td>\n",
       "    </tr>\n",
       "    <tr>\n",
       "      <th>8</th>\n",
       "      <td>2</td>\n",
       "      <td>6723.470560</td>\n",
       "      <td>44.776802</td>\n",
       "    </tr>\n",
       "    <tr>\n",
       "      <th>10</th>\n",
       "      <td>2</td>\n",
       "      <td>5809.911100</td>\n",
       "      <td>31.578017</td>\n",
       "    </tr>\n",
       "    <tr>\n",
       "      <th>11</th>\n",
       "      <td>3</td>\n",
       "      <td>7003.499363</td>\n",
       "      <td>53.397424</td>\n",
       "    </tr>\n",
       "    <tr>\n",
       "      <th>12</th>\n",
       "      <td>2</td>\n",
       "      <td>6751.629942</td>\n",
       "      <td>27.203912</td>\n",
       "    </tr>\n",
       "    <tr>\n",
       "      <th rowspan=\"4\" valign=\"top\">2</th>\n",
       "      <th>3</th>\n",
       "      <td>3</td>\n",
       "      <td>10187.723006</td>\n",
       "      <td>60.959959</td>\n",
       "    </tr>\n",
       "    <tr>\n",
       "      <th>4</th>\n",
       "      <td>2</td>\n",
       "      <td>6164.381824</td>\n",
       "      <td>39.048633</td>\n",
       "    </tr>\n",
       "    <tr>\n",
       "      <th>6</th>\n",
       "      <td>1</td>\n",
       "      <td>3255.338202</td>\n",
       "      <td>13.851127</td>\n",
       "    </tr>\n",
       "    <tr>\n",
       "      <th>7</th>\n",
       "      <td>2</td>\n",
       "      <td>6780.722964</td>\n",
       "      <td>46.170157</td>\n",
       "    </tr>\n",
       "  </tbody>\n",
       "</table>\n",
       "</div>"
      ],
      "text/plain": [
       "               count      dist_sum  duration_sum\n",
       "user_id month                                   \n",
       "1       1          2   7027.511294     41.416640\n",
       "        4          1    754.159807      6.232113\n",
       "        8          2   6723.470560     44.776802\n",
       "        10         2   5809.911100     31.578017\n",
       "        11         3   7003.499363     53.397424\n",
       "        12         2   6751.629942     27.203912\n",
       "2       3          3  10187.723006     60.959959\n",
       "        4          2   6164.381824     39.048633\n",
       "        6          1   3255.338202     13.851127\n",
       "        7          2   6780.722964     46.170157"
      ]
     },
     "execution_count": 51,
     "metadata": {},
     "output_type": "execute_result"
    }
   ],
   "source": [
    "data_agg.head(10)"
   ]
  },
  {
   "cell_type": "markdown",
   "id": "7d3f40dc",
   "metadata": {},
   "source": [
    "Добавим в датафрейм столбцы `minute_price`, `start_ride_price` и `subscription_fee`. Сделаем группировку по `user_id` и `month` и возьмем минимальное значение (можно взять и макксимальное, и среднее, и медианное - они одинаковые)."
   ]
  },
  {
   "cell_type": "code",
   "execution_count": 52,
   "id": "fd9abc6e",
   "metadata": {},
   "outputs": [],
   "source": [
    "data_agg['subscription_type'] = data.groupby(['user_id', 'month'])['subscription_type'].min()"
   ]
  },
  {
   "cell_type": "code",
   "execution_count": 53,
   "id": "75f30d93",
   "metadata": {},
   "outputs": [],
   "source": [
    "data_agg['subscription_fee'] = data.groupby(['user_id', 'month'])['subscription_fee'].min()"
   ]
  },
  {
   "cell_type": "code",
   "execution_count": 54,
   "id": "760e4ea3",
   "metadata": {},
   "outputs": [],
   "source": [
    "data_agg['minute_price'] = data.groupby(['user_id', 'month'])['minute_price'].min()\n",
    "data_agg['start_ride_price'] = data.groupby(['user_id', 'month'])['start_ride_price'].min()"
   ]
  },
  {
   "cell_type": "code",
   "execution_count": 55,
   "id": "9c3dba83",
   "metadata": {},
   "outputs": [
    {
     "data": {
      "text/html": [
       "<div>\n",
       "<style scoped>\n",
       "    .dataframe tbody tr th:only-of-type {\n",
       "        vertical-align: middle;\n",
       "    }\n",
       "\n",
       "    .dataframe tbody tr th {\n",
       "        vertical-align: top;\n",
       "    }\n",
       "\n",
       "    .dataframe thead th {\n",
       "        text-align: right;\n",
       "    }\n",
       "</style>\n",
       "<table border=\"1\" class=\"dataframe\">\n",
       "  <thead>\n",
       "    <tr style=\"text-align: right;\">\n",
       "      <th></th>\n",
       "      <th></th>\n",
       "      <th>count</th>\n",
       "      <th>dist_sum</th>\n",
       "      <th>duration_sum</th>\n",
       "      <th>subscription_type</th>\n",
       "      <th>subscription_fee</th>\n",
       "      <th>minute_price</th>\n",
       "      <th>start_ride_price</th>\n",
       "    </tr>\n",
       "    <tr>\n",
       "      <th>user_id</th>\n",
       "      <th>month</th>\n",
       "      <th></th>\n",
       "      <th></th>\n",
       "      <th></th>\n",
       "      <th></th>\n",
       "      <th></th>\n",
       "      <th></th>\n",
       "      <th></th>\n",
       "    </tr>\n",
       "  </thead>\n",
       "  <tbody>\n",
       "    <tr>\n",
       "      <th rowspan=\"6\" valign=\"top\">1</th>\n",
       "      <th>1</th>\n",
       "      <td>2</td>\n",
       "      <td>7027.511294</td>\n",
       "      <td>41.416640</td>\n",
       "      <td>ultra</td>\n",
       "      <td>199</td>\n",
       "      <td>6</td>\n",
       "      <td>0</td>\n",
       "    </tr>\n",
       "    <tr>\n",
       "      <th>4</th>\n",
       "      <td>1</td>\n",
       "      <td>754.159807</td>\n",
       "      <td>6.232113</td>\n",
       "      <td>ultra</td>\n",
       "      <td>199</td>\n",
       "      <td>6</td>\n",
       "      <td>0</td>\n",
       "    </tr>\n",
       "    <tr>\n",
       "      <th>8</th>\n",
       "      <td>2</td>\n",
       "      <td>6723.470560</td>\n",
       "      <td>44.776802</td>\n",
       "      <td>ultra</td>\n",
       "      <td>199</td>\n",
       "      <td>6</td>\n",
       "      <td>0</td>\n",
       "    </tr>\n",
       "    <tr>\n",
       "      <th>10</th>\n",
       "      <td>2</td>\n",
       "      <td>5809.911100</td>\n",
       "      <td>31.578017</td>\n",
       "      <td>ultra</td>\n",
       "      <td>199</td>\n",
       "      <td>6</td>\n",
       "      <td>0</td>\n",
       "    </tr>\n",
       "    <tr>\n",
       "      <th>11</th>\n",
       "      <td>3</td>\n",
       "      <td>7003.499363</td>\n",
       "      <td>53.397424</td>\n",
       "      <td>ultra</td>\n",
       "      <td>199</td>\n",
       "      <td>6</td>\n",
       "      <td>0</td>\n",
       "    </tr>\n",
       "    <tr>\n",
       "      <th>12</th>\n",
       "      <td>2</td>\n",
       "      <td>6751.629942</td>\n",
       "      <td>27.203912</td>\n",
       "      <td>ultra</td>\n",
       "      <td>199</td>\n",
       "      <td>6</td>\n",
       "      <td>0</td>\n",
       "    </tr>\n",
       "    <tr>\n",
       "      <th rowspan=\"4\" valign=\"top\">2</th>\n",
       "      <th>3</th>\n",
       "      <td>3</td>\n",
       "      <td>10187.723006</td>\n",
       "      <td>60.959959</td>\n",
       "      <td>ultra</td>\n",
       "      <td>199</td>\n",
       "      <td>6</td>\n",
       "      <td>0</td>\n",
       "    </tr>\n",
       "    <tr>\n",
       "      <th>4</th>\n",
       "      <td>2</td>\n",
       "      <td>6164.381824</td>\n",
       "      <td>39.048633</td>\n",
       "      <td>ultra</td>\n",
       "      <td>199</td>\n",
       "      <td>6</td>\n",
       "      <td>0</td>\n",
       "    </tr>\n",
       "    <tr>\n",
       "      <th>6</th>\n",
       "      <td>1</td>\n",
       "      <td>3255.338202</td>\n",
       "      <td>13.851127</td>\n",
       "      <td>ultra</td>\n",
       "      <td>199</td>\n",
       "      <td>6</td>\n",
       "      <td>0</td>\n",
       "    </tr>\n",
       "    <tr>\n",
       "      <th>7</th>\n",
       "      <td>2</td>\n",
       "      <td>6780.722964</td>\n",
       "      <td>46.170157</td>\n",
       "      <td>ultra</td>\n",
       "      <td>199</td>\n",
       "      <td>6</td>\n",
       "      <td>0</td>\n",
       "    </tr>\n",
       "  </tbody>\n",
       "</table>\n",
       "</div>"
      ],
      "text/plain": [
       "               count      dist_sum  duration_sum subscription_type  \\\n",
       "user_id month                                                        \n",
       "1       1          2   7027.511294     41.416640             ultra   \n",
       "        4          1    754.159807      6.232113             ultra   \n",
       "        8          2   6723.470560     44.776802             ultra   \n",
       "        10         2   5809.911100     31.578017             ultra   \n",
       "        11         3   7003.499363     53.397424             ultra   \n",
       "        12         2   6751.629942     27.203912             ultra   \n",
       "2       3          3  10187.723006     60.959959             ultra   \n",
       "        4          2   6164.381824     39.048633             ultra   \n",
       "        6          1   3255.338202     13.851127             ultra   \n",
       "        7          2   6780.722964     46.170157             ultra   \n",
       "\n",
       "               subscription_fee  minute_price  start_ride_price  \n",
       "user_id month                                                    \n",
       "1       1                   199             6                 0  \n",
       "        4                   199             6                 0  \n",
       "        8                   199             6                 0  \n",
       "        10                  199             6                 0  \n",
       "        11                  199             6                 0  \n",
       "        12                  199             6                 0  \n",
       "2       3                   199             6                 0  \n",
       "        4                   199             6                 0  \n",
       "        6                   199             6                 0  \n",
       "        7                   199             6                 0  "
      ]
     },
     "execution_count": 55,
     "metadata": {},
     "output_type": "execute_result"
    }
   ],
   "source": [
    "data_agg.head(10)"
   ]
  },
  {
   "cell_type": "markdown",
   "id": "23874a6b",
   "metadata": {},
   "source": [
    "##### В этот же датафрейм добавьте столбец с помесячной выручкой, которую принёс каждый пользователь.\n",
    "Обратитесь к информации об условиях оплаты для подписчиков и и тех, у кого нет подписки. Минуты при подсчёте стоимости округляются до ближайшего целого числа."
   ]
  },
  {
   "cell_type": "markdown",
   "id": "b59904f0",
   "metadata": {},
   "source": [
    "Рассчитаем помесячную выручку таким образом: `subscription_fee + start_ride_price * count + minute_price * duration_sum`."
   ]
  },
  {
   "cell_type": "code",
   "execution_count": 56,
   "id": "0fe6cdc9",
   "metadata": {},
   "outputs": [],
   "source": [
    "data_agg['revenue'] = data_agg['subscription_fee'] + data_agg['start_ride_price'] * data_agg['count'] + data_agg['minute_price'] * round(data_agg['duration_sum'])"
   ]
  },
  {
   "cell_type": "code",
   "execution_count": 57,
   "id": "fe6c27fe",
   "metadata": {},
   "outputs": [
    {
     "data": {
      "text/html": [
       "<div>\n",
       "<style scoped>\n",
       "    .dataframe tbody tr th:only-of-type {\n",
       "        vertical-align: middle;\n",
       "    }\n",
       "\n",
       "    .dataframe tbody tr th {\n",
       "        vertical-align: top;\n",
       "    }\n",
       "\n",
       "    .dataframe thead th {\n",
       "        text-align: right;\n",
       "    }\n",
       "</style>\n",
       "<table border=\"1\" class=\"dataframe\">\n",
       "  <thead>\n",
       "    <tr style=\"text-align: right;\">\n",
       "      <th></th>\n",
       "      <th></th>\n",
       "      <th>count</th>\n",
       "      <th>dist_sum</th>\n",
       "      <th>duration_sum</th>\n",
       "      <th>subscription_type</th>\n",
       "      <th>subscription_fee</th>\n",
       "      <th>minute_price</th>\n",
       "      <th>start_ride_price</th>\n",
       "      <th>revenue</th>\n",
       "    </tr>\n",
       "    <tr>\n",
       "      <th>user_id</th>\n",
       "      <th>month</th>\n",
       "      <th></th>\n",
       "      <th></th>\n",
       "      <th></th>\n",
       "      <th></th>\n",
       "      <th></th>\n",
       "      <th></th>\n",
       "      <th></th>\n",
       "      <th></th>\n",
       "    </tr>\n",
       "  </thead>\n",
       "  <tbody>\n",
       "    <tr>\n",
       "      <th rowspan=\"6\" valign=\"top\">1</th>\n",
       "      <th>1</th>\n",
       "      <td>2</td>\n",
       "      <td>7027.511294</td>\n",
       "      <td>41.416640</td>\n",
       "      <td>ultra</td>\n",
       "      <td>199</td>\n",
       "      <td>6</td>\n",
       "      <td>0</td>\n",
       "      <td>445.0</td>\n",
       "    </tr>\n",
       "    <tr>\n",
       "      <th>4</th>\n",
       "      <td>1</td>\n",
       "      <td>754.159807</td>\n",
       "      <td>6.232113</td>\n",
       "      <td>ultra</td>\n",
       "      <td>199</td>\n",
       "      <td>6</td>\n",
       "      <td>0</td>\n",
       "      <td>235.0</td>\n",
       "    </tr>\n",
       "    <tr>\n",
       "      <th>8</th>\n",
       "      <td>2</td>\n",
       "      <td>6723.470560</td>\n",
       "      <td>44.776802</td>\n",
       "      <td>ultra</td>\n",
       "      <td>199</td>\n",
       "      <td>6</td>\n",
       "      <td>0</td>\n",
       "      <td>469.0</td>\n",
       "    </tr>\n",
       "    <tr>\n",
       "      <th>10</th>\n",
       "      <td>2</td>\n",
       "      <td>5809.911100</td>\n",
       "      <td>31.578017</td>\n",
       "      <td>ultra</td>\n",
       "      <td>199</td>\n",
       "      <td>6</td>\n",
       "      <td>0</td>\n",
       "      <td>391.0</td>\n",
       "    </tr>\n",
       "    <tr>\n",
       "      <th>11</th>\n",
       "      <td>3</td>\n",
       "      <td>7003.499363</td>\n",
       "      <td>53.397424</td>\n",
       "      <td>ultra</td>\n",
       "      <td>199</td>\n",
       "      <td>6</td>\n",
       "      <td>0</td>\n",
       "      <td>517.0</td>\n",
       "    </tr>\n",
       "    <tr>\n",
       "      <th>12</th>\n",
       "      <td>2</td>\n",
       "      <td>6751.629942</td>\n",
       "      <td>27.203912</td>\n",
       "      <td>ultra</td>\n",
       "      <td>199</td>\n",
       "      <td>6</td>\n",
       "      <td>0</td>\n",
       "      <td>361.0</td>\n",
       "    </tr>\n",
       "    <tr>\n",
       "      <th rowspan=\"4\" valign=\"top\">2</th>\n",
       "      <th>3</th>\n",
       "      <td>3</td>\n",
       "      <td>10187.723006</td>\n",
       "      <td>60.959959</td>\n",
       "      <td>ultra</td>\n",
       "      <td>199</td>\n",
       "      <td>6</td>\n",
       "      <td>0</td>\n",
       "      <td>565.0</td>\n",
       "    </tr>\n",
       "    <tr>\n",
       "      <th>4</th>\n",
       "      <td>2</td>\n",
       "      <td>6164.381824</td>\n",
       "      <td>39.048633</td>\n",
       "      <td>ultra</td>\n",
       "      <td>199</td>\n",
       "      <td>6</td>\n",
       "      <td>0</td>\n",
       "      <td>433.0</td>\n",
       "    </tr>\n",
       "    <tr>\n",
       "      <th>6</th>\n",
       "      <td>1</td>\n",
       "      <td>3255.338202</td>\n",
       "      <td>13.851127</td>\n",
       "      <td>ultra</td>\n",
       "      <td>199</td>\n",
       "      <td>6</td>\n",
       "      <td>0</td>\n",
       "      <td>283.0</td>\n",
       "    </tr>\n",
       "    <tr>\n",
       "      <th>7</th>\n",
       "      <td>2</td>\n",
       "      <td>6780.722964</td>\n",
       "      <td>46.170157</td>\n",
       "      <td>ultra</td>\n",
       "      <td>199</td>\n",
       "      <td>6</td>\n",
       "      <td>0</td>\n",
       "      <td>475.0</td>\n",
       "    </tr>\n",
       "  </tbody>\n",
       "</table>\n",
       "</div>"
      ],
      "text/plain": [
       "               count      dist_sum  duration_sum subscription_type  \\\n",
       "user_id month                                                        \n",
       "1       1          2   7027.511294     41.416640             ultra   \n",
       "        4          1    754.159807      6.232113             ultra   \n",
       "        8          2   6723.470560     44.776802             ultra   \n",
       "        10         2   5809.911100     31.578017             ultra   \n",
       "        11         3   7003.499363     53.397424             ultra   \n",
       "        12         2   6751.629942     27.203912             ultra   \n",
       "2       3          3  10187.723006     60.959959             ultra   \n",
       "        4          2   6164.381824     39.048633             ultra   \n",
       "        6          1   3255.338202     13.851127             ultra   \n",
       "        7          2   6780.722964     46.170157             ultra   \n",
       "\n",
       "               subscription_fee  minute_price  start_ride_price  revenue  \n",
       "user_id month                                                             \n",
       "1       1                   199             6                 0    445.0  \n",
       "        4                   199             6                 0    235.0  \n",
       "        8                   199             6                 0    469.0  \n",
       "        10                  199             6                 0    391.0  \n",
       "        11                  199             6                 0    517.0  \n",
       "        12                  199             6                 0    361.0  \n",
       "2       3                   199             6                 0    565.0  \n",
       "        4                   199             6                 0    433.0  \n",
       "        6                   199             6                 0    283.0  \n",
       "        7                   199             6                 0    475.0  "
      ]
     },
     "execution_count": 57,
     "metadata": {},
     "output_type": "execute_result"
    }
   ],
   "source": [
    "data_agg.head(10)"
   ]
  },
  {
   "cell_type": "code",
   "execution_count": 58,
   "id": "d4b20b61",
   "metadata": {},
   "outputs": [
    {
     "data": {
      "text/plain": [
       "subscription_type\n",
       "free     321.784054\n",
       "ultra    358.538054\n",
       "Name: revenue, dtype: float64"
      ]
     },
     "execution_count": 58,
     "metadata": {},
     "output_type": "execute_result"
    }
   ],
   "source": [
    "data_agg.groupby('subscription_type')['revenue'].mean()"
   ]
  },
  {
   "cell_type": "markdown",
   "id": "41545ac0",
   "metadata": {},
   "source": [
    "#### Шаг 6. Проверка гипотез\n"
   ]
  },
  {
   "cell_type": "markdown",
   "id": "c66a5a21",
   "metadata": {},
   "source": [
    "##### Тратят ли пользователи с подпиской больше времени на поездки? \n",
    "Если да, то действительно ли пользователи с подпиской «выгоднее» для компании. Проверьте гипотезу. Используйте исходные данные о продолжительности каждой сессии — отдельно для подписчиков и тех, у кого нет подписки."
   ]
  },
  {
   "cell_type": "markdown",
   "id": "5a748c8c",
   "metadata": {},
   "source": [
    "Еще раз посмотрим на гистограммы длительностей поездок для разных категорий пользователей."
   ]
  },
  {
   "cell_type": "code",
   "execution_count": 59,
   "id": "daf99430",
   "metadata": {},
   "outputs": [
    {
     "data": {
      "image/png": "[encoded data removed]",
      "text/plain": [
       "<Figure size 432x288 with 1 Axes>"
      ]
     },
     "metadata": {
      "needs_background": "light"
     },
     "output_type": "display_data"
    }
   ],
   "source": [
    "data_free['duration'].plot.hist(grid=True)\n",
    "data_subscr['duration'].plot.hist(grid=True, alpha=0.7)\n",
    "plt.title('Длительность поездки')\n",
    "plt.legend(['free', 'ultra'])\n",
    "plt.show()"
   ]
  },
  {
   "cell_type": "code",
   "execution_count": 60,
   "id": "3c98c50e",
   "metadata": {},
   "outputs": [
    {
     "data": {
      "text/plain": [
       "count    6500.000000\n",
       "mean       18.541985\n",
       "std         5.572048\n",
       "min         3.760353\n",
       "25%        14.524654\n",
       "50%        18.178153\n",
       "75%        21.884129\n",
       "max        40.823963\n",
       "Name: duration, dtype: float64"
      ]
     },
     "execution_count": 60,
     "metadata": {},
     "output_type": "execute_result"
    }
   ],
   "source": [
    "data_subscr['duration'].describe()"
   ]
  },
  {
   "cell_type": "code",
   "execution_count": 61,
   "id": "59aef488",
   "metadata": {},
   "outputs": [
    {
     "data": {
      "text/plain": [
       "count    11568.000000\n",
       "mean        17.390909\n",
       "std          6.326803\n",
       "min          0.500000\n",
       "25%         12.958437\n",
       "50%         17.326890\n",
       "75%         21.594071\n",
       "max         34.948498\n",
       "Name: duration, dtype: float64"
      ]
     },
     "execution_count": 61,
     "metadata": {},
     "output_type": "execute_result"
    }
   ],
   "source": [
    "data_free['duration'].describe()"
   ]
  },
  {
   "cell_type": "markdown",
   "id": "62dc2e9e",
   "metadata": {},
   "source": [
    "Мы хотим проверить гипотезу о равенстве средних двух генеральных совокупностей.<br>\n",
    "Нулевая гипотеза $H_0$: пользователи с подпиской тратят столько же времени на поездки, сколько пользователи без подписки, средние двух генеральных совокупностей равны.<br>\n",
    "Альтернативная гипотеза $H_1$: пользователи с подпиской тратят больше времени на поездки, чем пользователи без подписки. <br>\n",
    "Возьмем уровень статистической значимости $\\alpha = 0.05$."
   ]
  },
  {
   "cell_type": "code",
   "execution_count": 62,
   "id": "2008aa16",
   "metadata": {},
   "outputs": [],
   "source": [
    "alpha = 0.05"
   ]
  },
  {
   "cell_type": "code",
   "execution_count": 63,
   "id": "0c1bd81c",
   "metadata": {},
   "outputs": [
    {
     "name": "stdout",
     "output_type": "stream",
     "text": [
      "p-значение: 5.6757813771289775e-37\n",
      "Отвергаем нулевую гипотезу\n"
     ]
    }
   ],
   "source": [
    "results_duration = st.ttest_ind(data_subscr['duration'], data_free['duration'], alternative='greater', equal_var=False)\n",
    "\n",
    "print('p-значение:', results_duration.pvalue)\n",
    "\n",
    "if results_duration.pvalue < alpha:\n",
    "    print('Отвергаем нулевую гипотезу')\n",
    "else:\n",
    "    print('Не получилось отвергнуть нулевую гипотезу') "
   ]
  },
  {
   "cell_type": "markdown",
   "id": "370febaf",
   "metadata": {},
   "source": [
    "Мы отвергаем нулевую гипотезу: есть основания полагать, что пользователи с подпиской действительно тратят больше времени на поездки."
   ]
  },
  {
   "cell_type": "markdown",
   "id": "80acb0c8",
   "metadata": {},
   "source": [
    "##### Расстояние одной поездки в 3130 метров — оптимальное с точки зрения износа самоката. Можно ли сказать, что расстояние, которое проезжают пользователи с подпиской за одну поездку, не превышает 3130 метров? \n",
    "Проверьте гипотезу и сделайте выводы."
   ]
  },
  {
   "cell_type": "code",
   "execution_count": 64,
   "id": "7f891492",
   "metadata": {},
   "outputs": [
    {
     "data": {
      "image/png": "[encoded data removed]",
      "text/plain": [
       "<Figure size 432x288 with 1 Axes>"
      ]
     },
     "metadata": {
      "needs_background": "light"
     },
     "output_type": "display_data"
    }
   ],
   "source": [
    "data_subscr['distance'].plot.hist(grid=True, title='Расстояние, которое проезжают пользователи с подпиской за одну поездку');"
   ]
  },
  {
   "cell_type": "code",
   "execution_count": 65,
   "id": "44d687c1",
   "metadata": {},
   "outputs": [
    {
     "data": {
      "text/plain": [
       "count    6500.000000\n",
       "mean     3115.445388\n",
       "std       836.895330\n",
       "min       244.210438\n",
       "25%      2785.444017\n",
       "50%      3148.637229\n",
       "75%      3560.574425\n",
       "max      5699.769662\n",
       "Name: distance, dtype: float64"
      ]
     },
     "execution_count": 65,
     "metadata": {},
     "output_type": "execute_result"
    }
   ],
   "source": [
    "data_subscr['distance'].describe()"
   ]
  },
  {
   "cell_type": "markdown",
   "id": "769ea01f",
   "metadata": {},
   "source": [
    "Необходимо проверить гипотезу о равенстве истинного среднего генеральной совокупности заданному числу (3130 метров). Среднее выборочное равно 3115 метров.<br>\n",
    "Нулевая гипотеза $H_0$: расстояние, которое проезжают пользователи с подпиской за одну поездку, равно 3130 метров, среднее значение генеральной совокупности равно 3130. <br>\n",
    "Альтернативная гипотеза $H_1$: расстояние, которое проезжают пользователи за одну поездку *превышает* 3130 метров. <br>\n",
    "Гипотезы сформулированы таким образом, потому что мы готовы принять нулевую гипотезу, если среднее расстояние будет сильно меньше заявленного значения: для нас критично, если оно будет сильно больше. <br>\n",
    "Возьмем уровень статистической значимости $\\alpha = 0.05$."
   ]
  },
  {
   "cell_type": "code",
   "execution_count": 66,
   "id": "65b9accf",
   "metadata": {},
   "outputs": [
    {
     "name": "stdout",
     "output_type": "stream",
     "text": [
      "p-значение: 0.9195368847849785\n",
      "Не отвергаем нулевую гипотезу\n"
     ]
    }
   ],
   "source": [
    "optimal_distance = 3130\n",
    "results_distance = st.ttest_1samp(data_subscr['distance'], optimal_distance, alternative='greater')\n",
    "\n",
    "print('p-значение:', results_distance.pvalue)\n",
    "\n",
    "if (results_distance.pvalue < alpha):\n",
    "    print('Отвергаем нулевую гипотезу')\n",
    "else:\n",
    "    print('Не отвергаем нулевую гипотезу') "
   ]
  },
  {
   "cell_type": "markdown",
   "id": "0f7dcc6e",
   "metadata": {},
   "source": [
    "Мы не отвергаем нулевую гипотезу, т.е. считаем, что расстояние, которое проезжают пользователи с подпиской, не превышает оптимальное."
   ]
  },
  {
   "cell_type": "markdown",
   "id": "94d8f90b",
   "metadata": {},
   "source": [
    "##### Проверьте гипотезу о том, будет ли помесячная выручка от пользователей с подпиской по месяцам выше, чем выручка от пользователей без подписки. \n",
    "Сделайте вывод."
   ]
  },
  {
   "cell_type": "code",
   "execution_count": 67,
   "id": "846a4ec7",
   "metadata": {},
   "outputs": [
    {
     "data": {
      "image/png": "[encoded data removed]",
      "text/plain": [
       "<Figure size 432x288 with 1 Axes>"
      ]
     },
     "metadata": {
      "needs_background": "light"
     },
     "output_type": "display_data"
    }
   ],
   "source": [
    "data_agg.query('subscription_type == \"free\"')['revenue'].plot.hist(grid=True)\n",
    "data_agg.query('subscription_type == \"ultra\"')['revenue'].plot.hist(grid=True, alpha=0.7)\n",
    "plt.title('Распределение помесячной выручки от пользователей')\n",
    "plt.legend(['free', 'ultra'])\n",
    "plt.show()"
   ]
  },
  {
   "cell_type": "code",
   "execution_count": 68,
   "id": "a3c3ee90",
   "metadata": {},
   "outputs": [
    {
     "data": {
      "text/plain": [
       "count    6798.000000\n",
       "mean      321.784054\n",
       "std       180.582222\n",
       "min        50.000000\n",
       "25%       186.000000\n",
       "50%       266.000000\n",
       "75%       420.000000\n",
       "max      1420.000000\n",
       "Name: revenue, dtype: float64"
      ]
     },
     "execution_count": 68,
     "metadata": {},
     "output_type": "execute_result"
    }
   ],
   "source": [
    "data_agg.query('subscription_type == \"free\"')['revenue'].describe()"
   ]
  },
  {
   "cell_type": "code",
   "execution_count": 69,
   "id": "3e3d2762",
   "metadata": {},
   "outputs": [
    {
     "data": {
      "text/plain": [
       "count    4533.000000\n",
       "mean      358.538054\n",
       "std        86.395370\n",
       "min       223.000000\n",
       "25%       295.000000\n",
       "50%       331.000000\n",
       "75%       403.000000\n",
       "max       937.000000\n",
       "Name: revenue, dtype: float64"
      ]
     },
     "execution_count": 69,
     "metadata": {},
     "output_type": "execute_result"
    }
   ],
   "source": [
    "data_agg.query('subscription_type == \"ultra\"')['revenue'].describe()"
   ]
  },
  {
   "cell_type": "markdown",
   "id": "7ff4387b",
   "metadata": {},
   "source": [
    "Мы проверяем гипотезу о равенстве средних двух генеральных совокупностей. Выборочное среднее помесячное выручки для пользователей без подписки приблизительно равно 322 рублям, выборочное среднее для пользователей с подпиской примерно равно 358 рублям.<br>\n",
    "Нулевая гипотеза $H_0$: помесячная выручка от пользователей с подпиской не отличается от помесячной выручки от пользователей без подписки (средние значения генеральных совокупностей равны). <br>\n",
    "Альтернативная гипотеза $H_1$: помесячная выручка от пользователей с подпиской по месяцам выше, чем выручка от пользователей без подписки.<br>\n",
    "Возьмем уровень статистической значимости $\\alpha = 0.05$."
   ]
  },
  {
   "cell_type": "code",
   "execution_count": 70,
   "id": "0a54d429",
   "metadata": {},
   "outputs": [
    {
     "name": "stdout",
     "output_type": "stream",
     "text": [
      "p-значение: 2.3492186178087955e-47\n",
      "Отвергаем нулевую гипотезу\n"
     ]
    }
   ],
   "source": [
    "results_revenue = st.ttest_ind(data_agg.query('subscription_type == \"ultra\"')['revenue'], data_agg.query('subscription_type == \"free\"')['revenue'], alternative='greater', equal_var=False)\n",
    "\n",
    "print('p-значение:', results_revenue.pvalue)\n",
    "\n",
    "if results_revenue.pvalue < alpha:\n",
    "    print('Отвергаем нулевую гипотезу')\n",
    "else:\n",
    "    print('Не получилось отвергнуть нулевую гипотезу') "
   ]
  },
  {
   "cell_type": "markdown",
   "id": "fdfe7814",
   "metadata": {},
   "source": [
    "Мы отвергаем нулевую гипотезу: считаем, что помесячная выручка пользователей с подпиской выше, чем у пользователей без подписки."
   ]
  },
  {
   "cell_type": "markdown",
   "id": "eac60352",
   "metadata": {},
   "source": [
    "##### Представьте такую ситуацию: техническая команда сервиса обновила сервера, с которыми взаимодействует мобильное приложение. Она надеется, что из-за этого количество обращений в техподдержку значимо снизилось. Некоторый файл содержит для каждого пользователя данные о количестве обращений до обновления и после него. Какой тест вам понадобился бы для проверки этой гипотезы?"
   ]
  },
  {
   "cell_type": "markdown",
   "id": "7743ae61",
   "metadata": {},
   "source": [
    "В таком случае нужно было бы проверить гипотезу о равенстве средних двух генеральных совокупностей для зависимых выборок. В python это можно сделать с помощью метода `scipy.stats.ttest_rel()`."
   ]
  },
  {
   "cell_type": "markdown",
   "id": "bc355cbc",
   "metadata": {},
   "source": [
    "В такой постановке это будет проверка односторонней гипотезы, т.к. альтернативная гипотеза: количество обращений *снизилось*, среднее количество обращений после обновления сервиса стало *меньше*. Хотя я бы считала, что в таких случаях еще важно было бы знать, не увеличилось ли количество обращений: обновление могло все испортить."
   ]
  },
  {
   "cell_type": "markdown",
   "id": "61213c5e",
   "metadata": {},
   "source": [
    "#### Шаг 7. Распределения"
   ]
  },
  {
   "cell_type": "markdown",
   "id": "a7fb73d4",
   "metadata": {},
   "source": [
    "##### Акции и промокоды\n",
    "Отделу маркетинга GoFast поставили задачу: нужно провести акцию с раздачей промокодов на один бесплатный месяц подписки, в рамках которой как минимум 100 существующих клиентов должны продлить эту подписку. То есть по завершении периода действия подписки пользователь может либо отказаться от неё, либо продлить, совершив соотвествующий платёж. \n",
    "\n",
    "Эта акция уже проводилась ранее и по итогу выяснилось, что после бесплатного пробного периода подписку продлевают 10 % пользователей. Выясните, какое минимальное количество промокодов нужно разослать, чтобы вероятность не выполнить план была примерно 5 %. Подберите параметры распределения, описывающего эту ситуацию, постройте график распределения и сформулируйте ответ на вопрос о количестве промокодов."
   ]
  },
  {
   "cell_type": "markdown",
   "id": "b752abf7",
   "metadata": {},
   "source": [
    "Для описания этой ситуации подходит биномиальное распределение: \n",
    "- нам нужно смоделировать количество успехов в серии независимых экспериментов по схеме Бернулли;\n",
    "- наши испытания имеют два возможных исхода: пользователь продлевает подписку (успех, $p = 0.1$) и пользователь не продлевает подписку (неудача $1-p=0.9$);\n",
    "- помимо вероятности успеха, распределение также характеризуется количеством испытаний $n$."
   ]
  },
  {
   "cell_type": "markdown",
   "id": "41e62628",
   "metadata": {},
   "source": [
    "Предположим, что будет достаточно разослать промокод 1000 клиентам: как минимум 100 клиентов должны продлить подписку, подписку продлевают 10% пользователей. Построим график."
   ]
  },
  {
   "cell_type": "code",
   "execution_count": 71,
   "id": "c12ebf36",
   "metadata": {},
   "outputs": [
    {
     "name": "stderr",
     "output_type": "stream",
     "text": [
      "/opt/conda/lib/python3.9/site-packages/scipy/stats/_discrete_distns.py:78: RuntimeWarning: divide by zero encountered in _binom_pdf\n",
      "  return _boost._binom_pdf(x, n, p)\n"
     ]
    },
    {
     "data": {
      "image/png": "[encoded data removed]",
      "text/plain": [
       "<Figure size 864x432 with 1 Axes>"
      ]
     },
     "metadata": {
      "needs_background": "light"
     },
     "output_type": "display_data"
    }
   ],
   "source": [
    "n = 1000 \n",
    "p = 0.1\n",
    "\n",
    "distr = []\n",
    "\n",
    "for k in range(0, n + 1):\n",
    "    current_value = st.binom.pmf(k, n, p)\n",
    "    distr.append(current_value)\n",
    "\n",
    "    \n",
    "plt.figure(figsize=(12,6))\n",
    "plt.bar(range(0, n + 1), distr)\n",
    "plt.xticks(np.arange(0, 1000, step=100))\n",
    "plt.show()"
   ]
  },
  {
   "cell_type": "markdown",
   "id": "ea58e4ae",
   "metadata": {},
   "source": [
    "Уже по графику видно, что 1000 промокодов будет мало. Рассчитаем `cdf` для биномиального распределения с $n=1000$, $p=0.1$ и количества успехов, равного 100.<br>\n",
    "Метод `cdf()` получает на вход один аргумент и возвращает вероятность, что случайная величина примет значение, меньшее заданного аргумента. "
   ]
  },
  {
   "cell_type": "code",
   "execution_count": 72,
   "id": "4f685424",
   "metadata": {},
   "outputs": [
    {
     "name": "stdout",
     "output_type": "stream",
     "text": [
      "Вероятность того, что количество успехов будет меньше 100, равна 0.5265990812951653\n"
     ]
    }
   ],
   "source": [
    "print('Вероятность того, что количество успехов будет меньше 100, равна', st.binom(n, p).cdf(100))"
   ]
  },
  {
   "cell_type": "markdown",
   "id": "7c6cab71",
   "metadata": {},
   "source": [
    "Это слишком много, наша целевая вероятность не выполнить план равна 5%.\n",
    "\n",
    "Возьмем n = 1000 за отправную точку. Будем перебирать значения, пока cdf(100) не станет меньше 0.05."
   ]
  },
  {
   "cell_type": "code",
   "execution_count": 73,
   "id": "b1461de4",
   "metadata": {},
   "outputs": [
    {
     "name": "stdout",
     "output_type": "stream",
     "text": [
      "Вероятность того, что количество успехов будет меньше 100, равна 0.0495 при n=1172\n"
     ]
    }
   ],
   "source": [
    "while st.binom(n, 0.1).cdf(100) >= 0.05:\n",
    "    n += 1\n",
    "print('Вероятность того, что количество успехов будет меньше 100, равна {0:.4f} при n={1}'.format(st.binom(n, 0.1).cdf(100), n))"
   ]
  },
  {
   "cell_type": "code",
   "execution_count": 74,
   "id": "ed933523",
   "metadata": {},
   "outputs": [
    {
     "data": {
      "image/png": "[encoded data removed]",
      "text/plain": [
       "<Figure size 1440x432 with 1 Axes>"
      ]
     },
     "metadata": {
      "needs_background": "light"
     },
     "output_type": "display_data"
    }
   ],
   "source": [
    "\n",
    "distr = []\n",
    "\n",
    "for k in range(0, n + 1):\n",
    "    current_value = st.binom.pmf(k, n, p)\n",
    "    distr.append(current_value)\n",
    "\n",
    "plt.figure(figsize=(20,6))\n",
    "plt.bar(range(0, n + 1), distr)\n",
    "plt.xticks(np.arange(0, 1000, step=100))\n",
    "plt.show()"
   ]
  },
  {
   "cell_type": "markdown",
   "id": "72089505",
   "metadata": {},
   "source": [
    "**Вывод**: надо разослать как минимум 1172 промокода."
   ]
  },
  {
   "cell_type": "markdown",
   "id": "e0b1153e",
   "metadata": {},
   "source": [
    "##### Push-уведомления\n",
    "Отдел маркетинга рассылает клиентам push-уведомления в мобильном приложении. Клиенты могут открыть его или не открывать. Известно, что уведомления открывают около 40 % получивших клиентов. Отдел планирует разослать 1 млн уведомлений. С помощью аппроксимации постройте примерный график распределения и оцените вероятность того, что уведомление откроют не более 399,5 тыс. пользователей."
   ]
  },
  {
   "cell_type": "markdown",
   "id": "49298f67",
   "metadata": {},
   "source": [
    "Как и в прошлом случае, эта ситуация описывается биномиальным распределением c $n = 1000000$ и $p=0.4$. Однако, мы имеем дело с большим количеством испытаний (1 млн), поэтому предлагается аппроксимировать биномиальное распределение нормальным. Условие хорошей аппрокисмации формулируется следующим образом:\n",
    ">Нужно взять промежуток от математического ожидания биномиального распределения плюс-минус три его стандартных отклонения. Если он лежит в пределах $[0,n]$ (то есть там, где биномиальное распределение определено), то его форма будет симметрична и близка к нормальному распределению.\n",
    "\n",
    "Проверим, что наше биномиальное распределение апроксимируется нормальным."
   ]
  },
  {
   "cell_type": "code",
   "execution_count": 75,
   "id": "25ba1240",
   "metadata": {},
   "outputs": [
    {
     "name": "stdout",
     "output_type": "stream",
     "text": [
      "398530.3061543301 401469.6938456699\n"
     ]
    }
   ],
   "source": [
    "n = 1000000\n",
    "p = 0.4\n",
    "me = n * p\n",
    "se = np.sqrt(n * p * (1-p))\n",
    "left = me - 3 * se\n",
    "right = me + 3 * se\n",
    "print(left, right)"
   ]
  },
  {
   "cell_type": "markdown",
   "id": "f9efd16d",
   "metadata": {},
   "source": [
    "Условие выполняется."
   ]
  },
  {
   "cell_type": "markdown",
   "id": "72b1a78a",
   "metadata": {},
   "source": [
    "Строим примерный график распределения."
   ]
  },
  {
   "cell_type": "code",
   "execution_count": 76,
   "id": "301220d5",
   "metadata": {},
   "outputs": [],
   "source": [
    "# зададим функцию, которая выдаёт <num> чисел,\n",
    "# равномерно распределённых от <start> до <stop>\n",
    "# (понадобится для визуализации нормального распределения)\n",
    "def linspace(start, stop, num):\n",
    "    step = (stop - start) / (num - 1)\n",
    "    result = []\n",
    "    for i in range(num):\n",
    "        result.append(start + step * i)\n",
    "    return result"
   ]
  },
  {
   "cell_type": "code",
   "execution_count": 77,
   "id": "8dd7303d",
   "metadata": {},
   "outputs": [
    {
     "data": {
      "image/png": "[encoded data removed]",
      "text/plain": [
       "<Figure size 1080x720 with 1 Axes>"
      ]
     },
     "metadata": {
      "needs_background": "light"
     },
     "output_type": "display_data"
    }
   ],
   "source": [
    "mu = me\n",
    "sigma = se\n",
    "x = linspace(left, right, 100)\n",
    "plt.figure(figsize=(15,10))\n",
    "plt.plot(x, st.norm.pdf(x, mu, sigma), 'r-', lw=3, alpha=0.3, label='плотность вероятности нормального распределения')\n",
    "x_ticks = list(range(int(mu - 3 * sigma), int(mu + 3 * sigma), 1))\n",
    "plt.legend(loc='best')\n",
    "plt.show()"
   ]
  },
  {
   "cell_type": "code",
   "execution_count": 78,
   "id": "7b11ab5e",
   "metadata": {},
   "outputs": [
    {
     "name": "stdout",
     "output_type": "stream",
     "text": [
      "Вероятность того, что уведомление откроют не более 399,5 тыс. пользователей, равна 0.15371708296369768\n"
     ]
    }
   ],
   "source": [
    "print('Вероятность того, что уведомление откроют не более 399,5 тыс. пользователей, равна', st.norm(mu, sigma).cdf(399500))"
   ]
  },
  {
   "cell_type": "markdown",
   "id": "7c11ef85",
   "metadata": {},
   "source": [
    "#### Выводы\n",
    "Мы изучили данные пользователей сервиса GoFast и проверили ряд гипотез. \n",
    "1. На первом этапе мы **загрузили полученные данные** о пользователях, поездках и подписках. Было получено три датафрейма: `users`, `rides`, `subscriptions`.\n",
    "    \n",
    "|Датафрейм|Количество строк|Столбцы|Наличие пропусков|\n",
    "|---------|----------------|:------|-----------------|\n",
    "|`users` |1565 |`user_id`, `name`, `age`, `city`, `subscription_type` |нет |\n",
    "|`rides` |18068 |`user_id`, `distance`, `duration`, `date` |нет |\n",
    "|`subscriptions`|2 | `subscription_type`, `minute_price`, `start_ride_price`, `subscription_fee` |нет |\n",
    "\n",
    "2. Далее была проведена **предобработка данных**:\n",
    " - данные в колонке `date` датафрейма `rides` теперь имеют тип `datetime64`;\n",
    " - в датафрейм `rides` была добавлена колонка `month`, содержащая номер месяца, в который была совершена поездка;\n",
    " - еще раз было проверено, что в данных нет пропусков;\n",
    " - были удалены дубликаты из датафрейма `users`.\n",
    "\n",
    "3. Далее был проведен **исследовательский анализ данных** по ряду параметров:\n",
    " - **частота встречаемости городов**: данных больше всего пользователей из Пятигорска (219 человек) и меньше всего пользователей из Москвы (168 человек);\n",
    " - **соотношение пользователей с подпиской и пользователей без подписки**: 54% пользователей не имеют подписку и 46% пользователей имеют;\n",
    " - **возраст пользователей**: средний возраст пользователя по трем характеристикам центра набора данных (мода, медиана, среднее арифметическое) равен 25, минимальный возраст равен 12, максимальный - 43;\n",
    " - **расстояние, которое пользователь преодолевает за одну поездку**: минимальное расстояние за поездку равно 0.9 метров, максимальное расстояние равно 7211 метров, медиана равна 3134 метров, среднее значение равно 3071 метров;\n",
    " - **продолжительность поездки**: минимальная продолжительность поездки равна 0.5 минут, максимальная продолжительность поездки равна 41 минуте, медиана равна 18 минутам, среднее значение равно 18 минутам.\n",
    " \n",
    "4. Данные о пользователях, поездках и подписках были объединены в датафрейм `data`. Датафреймы `data_free` и `data_subscr` содержат информацию о пользователях без подписки и пользователях с подпиской соответственно.\n",
    "\n",
    "5. Была подсчитана **месячная выручка** от каждого пользователя. Информация записана в колонку `revenue` датафрейма `data_agg`.\n",
    "\n",
    "6. Были проверены следующие гипотезы (уровень значимости $\\alpha = 0.05$):\n",
    " - пользователи с подпиской трятят больше времени на поездки: есть основания полагать, что это действительно так;\n",
    " - расстояние, которое проезжают пользователи с подпиской за одну поездку, не превышает 3130 метров: статистические данные подтвердили эту гипотезу;\n",
    " - помесячная выручка от пользователей с подпиской по месяцам выше, чем выручка от пользователей без подписки: гипотеза подтвердилась.\n",
    " \n",
    " \n",
    "7. Построили **графики распределений**:\n",
    " - количество пользователей, которые продлят подписку после получения промокода: ситуация моделируется биномиальным распределением. Определили, что при вероятности продления подписки $p=0.1$ нужно разослать минимум $1172$ промокода, чтобы как минимум 100 клиентов продлили подписку с вероятностью более $95\\%$.\n",
    " - количество пользователей, которые откроют пуш-уведомление: апроксимировали биномиальное распределение нормальным. Определили, что если разослать 1 млн уведомлений при вероятности того, что пользователь откроет уведомление равной $p=0.4$, то вероятность того, что уведомление откроют не более 399,5 тыс. пользователей, равна $0.15$."
   ]
  }
 ],
 "metadata": {
  "ExecuteTimeLog": [
   {
    "duration": 423,
    "start_time": "2023-05-03T12:00:18.418Z"
   },
   {
    "duration": 106,
    "start_time": "2023-05-03T12:01:43.629Z"
   },
   {
    "duration": 16,
    "start_time": "2023-05-03T12:01:56.034Z"
   },
   {
    "duration": 13,
    "start_time": "2023-05-03T12:02:54.714Z"
   },
   {
    "duration": 101,
    "start_time": "2023-05-03T12:03:31.647Z"
   },
   {
    "duration": 10,
    "start_time": "2023-05-03T12:03:36.819Z"
   },
   {
    "duration": 12,
    "start_time": "2023-05-03T12:03:41.037Z"
   },
   {
    "duration": 81,
    "start_time": "2023-05-03T12:04:36.152Z"
   },
   {
    "duration": 9,
    "start_time": "2023-05-03T12:04:43.918Z"
   },
   {
    "duration": 11,
    "start_time": "2023-05-03T12:04:49.839Z"
   },
   {
    "duration": 7,
    "start_time": "2023-05-03T12:18:17.851Z"
   },
   {
    "duration": 9,
    "start_time": "2023-05-03T12:18:24.007Z"
   },
   {
    "duration": 11,
    "start_time": "2023-05-03T12:18:29.713Z"
   },
   {
    "duration": 5,
    "start_time": "2023-05-03T12:21:07.125Z"
   },
   {
    "duration": 17,
    "start_time": "2023-05-03T12:21:09.948Z"
   },
   {
    "duration": 10,
    "start_time": "2023-05-03T12:21:12.708Z"
   },
   {
    "duration": 7,
    "start_time": "2023-05-03T12:22:24.228Z"
   },
   {
    "duration": 7,
    "start_time": "2023-05-03T12:23:35.618Z"
   },
   {
    "duration": 6,
    "start_time": "2023-05-03T12:23:46.507Z"
   },
   {
    "duration": 7,
    "start_time": "2023-05-03T12:24:35.406Z"
   },
   {
    "duration": 15,
    "start_time": "2023-05-03T12:25:17.530Z"
   },
   {
    "duration": 11,
    "start_time": "2023-05-03T12:25:46.429Z"
   },
   {
    "duration": 7,
    "start_time": "2023-05-03T12:26:44.098Z"
   },
   {
    "duration": 11,
    "start_time": "2023-05-03T12:26:51.955Z"
   },
   {
    "duration": 81,
    "start_time": "2023-05-03T12:27:00.959Z"
   },
   {
    "duration": 14,
    "start_time": "2023-05-03T12:27:06.558Z"
   },
   {
    "duration": 6,
    "start_time": "2023-05-03T12:27:14.561Z"
   },
   {
    "duration": 12,
    "start_time": "2023-05-03T12:27:30.126Z"
   },
   {
    "duration": 8,
    "start_time": "2023-05-03T12:28:11.802Z"
   },
   {
    "duration": 9,
    "start_time": "2023-05-03T12:28:13.209Z"
   },
   {
    "duration": 9,
    "start_time": "2023-05-03T12:29:23.349Z"
   },
   {
    "duration": 9,
    "start_time": "2023-05-03T12:30:58.119Z"
   },
   {
    "duration": 701,
    "start_time": "2023-05-03T12:31:21.558Z"
   },
   {
    "duration": 146,
    "start_time": "2023-05-03T12:31:27.035Z"
   },
   {
    "duration": 9,
    "start_time": "2023-05-03T12:33:41.495Z"
   },
   {
    "duration": 6,
    "start_time": "2023-05-03T12:37:54.071Z"
   },
   {
    "duration": 7,
    "start_time": "2023-05-03T12:38:06.800Z"
   },
   {
    "duration": 77,
    "start_time": "2023-05-03T12:38:28.697Z"
   },
   {
    "duration": 79,
    "start_time": "2023-05-03T12:38:30.757Z"
   },
   {
    "duration": 6,
    "start_time": "2023-05-03T12:40:37.734Z"
   },
   {
    "duration": 5,
    "start_time": "2023-05-03T12:40:43.561Z"
   },
   {
    "duration": 201,
    "start_time": "2023-05-03T12:41:08.701Z"
   },
   {
    "duration": 257,
    "start_time": "2023-05-03T12:41:17.932Z"
   },
   {
    "duration": 72,
    "start_time": "2023-05-03T12:41:32.257Z"
   },
   {
    "duration": 72,
    "start_time": "2023-05-03T12:41:34.599Z"
   },
   {
    "duration": 140,
    "start_time": "2023-05-03T12:41:36.858Z"
   },
   {
    "duration": 256,
    "start_time": "2023-05-03T12:41:48.095Z"
   },
   {
    "duration": 6,
    "start_time": "2023-05-03T12:42:05.102Z"
   },
   {
    "duration": 11,
    "start_time": "2023-05-03T12:42:11.542Z"
   },
   {
    "duration": 157,
    "start_time": "2023-05-03T12:43:41.693Z"
   },
   {
    "duration": 145,
    "start_time": "2023-05-03T12:43:48.466Z"
   },
   {
    "duration": 20,
    "start_time": "2023-05-03T12:45:03.713Z"
   },
   {
    "duration": 202,
    "start_time": "2023-05-03T12:45:10.297Z"
   },
   {
    "duration": 9,
    "start_time": "2023-05-03T12:45:17.848Z"
   },
   {
    "duration": 124,
    "start_time": "2023-05-03T12:45:25.452Z"
   },
   {
    "duration": 106,
    "start_time": "2023-05-03T12:45:39.619Z"
   },
   {
    "duration": 11,
    "start_time": "2023-05-03T12:50:47.817Z"
   },
   {
    "duration": 6,
    "start_time": "2023-05-03T12:50:59.225Z"
   },
   {
    "duration": 161,
    "start_time": "2023-05-03T12:51:09.101Z"
   },
   {
    "duration": 178,
    "start_time": "2023-05-03T12:51:15.537Z"
   },
   {
    "duration": 10,
    "start_time": "2023-05-03T12:51:32.711Z"
   },
   {
    "duration": 306,
    "start_time": "2023-05-03T12:51:50.454Z"
   },
   {
    "duration": 156,
    "start_time": "2023-05-03T12:51:56.214Z"
   },
   {
    "duration": 172,
    "start_time": "2023-05-03T12:52:17.281Z"
   },
   {
    "duration": 152,
    "start_time": "2023-05-03T12:54:04.588Z"
   },
   {
    "duration": 14,
    "start_time": "2023-05-03T13:53:51.855Z"
   },
   {
    "duration": 10,
    "start_time": "2023-05-03T13:54:40.858Z"
   },
   {
    "duration": 155,
    "start_time": "2023-05-03T13:54:57.255Z"
   },
   {
    "duration": 174,
    "start_time": "2023-05-03T13:55:04.511Z"
   },
   {
    "duration": 133,
    "start_time": "2023-05-03T14:03:08.780Z"
   },
   {
    "duration": 125,
    "start_time": "2023-05-03T14:03:28.370Z"
   },
   {
    "duration": 11,
    "start_time": "2023-05-03T14:10:29.170Z"
   },
   {
    "duration": 12,
    "start_time": "2023-05-03T14:10:33.550Z"
   },
   {
    "duration": 12,
    "start_time": "2023-05-03T14:10:49.255Z"
   },
   {
    "duration": 17,
    "start_time": "2023-05-03T14:10:49.742Z"
   },
   {
    "duration": 18,
    "start_time": "2023-05-03T14:11:14.163Z"
   },
   {
    "duration": 13,
    "start_time": "2023-05-03T14:11:14.566Z"
   },
   {
    "duration": 23,
    "start_time": "2023-05-03T14:11:56.259Z"
   },
   {
    "duration": 13,
    "start_time": "2023-05-03T14:11:57.012Z"
   },
   {
    "duration": 8,
    "start_time": "2023-05-03T14:14:31.455Z"
   },
   {
    "duration": 13,
    "start_time": "2023-05-03T14:14:39.142Z"
   },
   {
    "duration": 7,
    "start_time": "2023-05-03T14:14:54.641Z"
   },
   {
    "duration": 15,
    "start_time": "2023-05-03T14:15:01.408Z"
   },
   {
    "duration": 143,
    "start_time": "2023-05-03T14:16:02.162Z"
   },
   {
    "duration": 129,
    "start_time": "2023-05-03T14:16:06.844Z"
   },
   {
    "duration": 149,
    "start_time": "2023-05-03T14:16:18.623Z"
   },
   {
    "duration": 229,
    "start_time": "2023-05-03T14:16:20.838Z"
   },
   {
    "duration": 133,
    "start_time": "2023-05-03T14:16:44.453Z"
   },
   {
    "duration": 144,
    "start_time": "2023-05-03T14:16:46.549Z"
   },
   {
    "duration": 164,
    "start_time": "2023-05-03T14:19:31.717Z"
   },
   {
    "duration": 140,
    "start_time": "2023-05-03T14:19:44.563Z"
   },
   {
    "duration": 29,
    "start_time": "2023-05-03T16:06:26.989Z"
   },
   {
    "duration": 18,
    "start_time": "2023-05-03T16:06:40.828Z"
   },
   {
    "duration": 32,
    "start_time": "2023-05-03T16:07:14.407Z"
   },
   {
    "duration": 50,
    "start_time": "2023-05-03T16:07:47.545Z"
   },
   {
    "duration": 13,
    "start_time": "2023-05-03T16:08:45.038Z"
   },
   {
    "duration": 20,
    "start_time": "2023-05-03T16:09:14.040Z"
   },
   {
    "duration": 13,
    "start_time": "2023-05-03T16:09:58.104Z"
   },
   {
    "duration": 20,
    "start_time": "2023-05-03T16:10:02.104Z"
   },
   {
    "duration": 37,
    "start_time": "2023-05-03T16:11:19.536Z"
   },
   {
    "duration": 18,
    "start_time": "2023-05-03T16:13:43.993Z"
   },
   {
    "duration": 35,
    "start_time": "2023-05-03T16:14:09.599Z"
   },
   {
    "duration": 45,
    "start_time": "2023-05-03T16:14:20.402Z"
   },
   {
    "duration": 33,
    "start_time": "2023-05-03T16:14:28.311Z"
   },
   {
    "duration": 35,
    "start_time": "2023-05-03T16:14:35.035Z"
   },
   {
    "duration": 25,
    "start_time": "2023-05-03T16:15:02.042Z"
   },
   {
    "duration": 35,
    "start_time": "2023-05-03T16:15:07.682Z"
   },
   {
    "duration": 22,
    "start_time": "2023-05-03T16:23:24.900Z"
   },
   {
    "duration": 3,
    "start_time": "2023-05-03T16:23:59.845Z"
   },
   {
    "duration": 10,
    "start_time": "2023-05-03T16:24:09.889Z"
   },
   {
    "duration": 21,
    "start_time": "2023-05-03T16:25:32.597Z"
   },
   {
    "duration": 5,
    "start_time": "2023-05-03T16:25:37.905Z"
   },
   {
    "duration": 6,
    "start_time": "2023-05-03T16:25:57.522Z"
   },
   {
    "duration": 6,
    "start_time": "2023-05-03T16:26:03.789Z"
   },
   {
    "duration": 6,
    "start_time": "2023-05-03T16:26:47.300Z"
   },
   {
    "duration": 5,
    "start_time": "2023-05-03T16:27:08.749Z"
   },
   {
    "duration": 4,
    "start_time": "2023-05-03T16:27:14.245Z"
   },
   {
    "duration": 5,
    "start_time": "2023-05-03T16:28:23.957Z"
   },
   {
    "duration": 11,
    "start_time": "2023-05-03T16:28:38.333Z"
   },
   {
    "duration": 22,
    "start_time": "2023-05-03T16:28:40.611Z"
   },
   {
    "duration": 30,
    "start_time": "2023-05-03T16:28:50.350Z"
   },
   {
    "duration": 3,
    "start_time": "2023-05-03T16:28:50.996Z"
   },
   {
    "duration": 8,
    "start_time": "2023-05-03T16:28:51.402Z"
   },
   {
    "duration": 24,
    "start_time": "2023-05-03T16:28:59.575Z"
   },
   {
    "duration": 23,
    "start_time": "2023-05-03T16:30:04.816Z"
   },
   {
    "duration": 8,
    "start_time": "2023-05-03T16:30:06.699Z"
   },
   {
    "duration": 25,
    "start_time": "2023-05-03T16:30:09.988Z"
   },
   {
    "duration": 12,
    "start_time": "2023-05-03T16:30:11.686Z"
   },
   {
    "duration": 23,
    "start_time": "2023-05-03T16:30:22.708Z"
   },
   {
    "duration": 3,
    "start_time": "2023-05-03T16:30:24.194Z"
   },
   {
    "duration": 13,
    "start_time": "2023-05-03T16:30:33.240Z"
   },
   {
    "duration": 9,
    "start_time": "2023-05-03T16:30:33.522Z"
   },
   {
    "duration": 5,
    "start_time": "2023-05-03T16:30:42.789Z"
   },
   {
    "duration": 8,
    "start_time": "2023-05-03T16:30:43.251Z"
   },
   {
    "duration": 22,
    "start_time": "2023-05-03T16:33:39.192Z"
   },
   {
    "duration": 11,
    "start_time": "2023-05-03T16:33:41.098Z"
   },
   {
    "duration": 22,
    "start_time": "2023-05-03T16:34:38.050Z"
   },
   {
    "duration": 4,
    "start_time": "2023-05-03T16:34:38.390Z"
   },
   {
    "duration": 9,
    "start_time": "2023-05-03T16:34:38.738Z"
   },
   {
    "duration": 22,
    "start_time": "2023-05-03T16:35:07.089Z"
   },
   {
    "duration": 3,
    "start_time": "2023-05-03T16:35:07.348Z"
   },
   {
    "duration": 3,
    "start_time": "2023-05-03T16:35:07.623Z"
   },
   {
    "duration": 9,
    "start_time": "2023-05-03T16:35:07.905Z"
   },
   {
    "duration": 22,
    "start_time": "2023-05-03T16:35:37.449Z"
   },
   {
    "duration": 3,
    "start_time": "2023-05-03T16:35:37.611Z"
   },
   {
    "duration": 9,
    "start_time": "2023-05-03T16:35:39.130Z"
   },
   {
    "duration": 23,
    "start_time": "2023-05-03T16:35:43.146Z"
   },
   {
    "duration": 3,
    "start_time": "2023-05-03T16:35:43.302Z"
   },
   {
    "duration": 10,
    "start_time": "2023-05-03T16:35:44.926Z"
   },
   {
    "duration": 22,
    "start_time": "2023-05-03T16:36:03.691Z"
   },
   {
    "duration": 4,
    "start_time": "2023-05-03T16:36:04.048Z"
   },
   {
    "duration": 4,
    "start_time": "2023-05-03T16:36:04.420Z"
   },
   {
    "duration": 10,
    "start_time": "2023-05-03T16:36:04.888Z"
   },
   {
    "duration": 23,
    "start_time": "2023-05-03T16:36:12.638Z"
   },
   {
    "duration": 3,
    "start_time": "2023-05-03T16:36:14.108Z"
   },
   {
    "duration": 11,
    "start_time": "2023-05-03T16:36:14.453Z"
   },
   {
    "duration": 397,
    "start_time": "2023-05-04T09:02:41.027Z"
   },
   {
    "duration": 82,
    "start_time": "2023-05-04T09:02:41.426Z"
   },
   {
    "duration": 15,
    "start_time": "2023-05-04T09:02:41.511Z"
   },
   {
    "duration": 18,
    "start_time": "2023-05-04T09:02:41.528Z"
   },
   {
    "duration": 77,
    "start_time": "2023-05-04T09:02:41.548Z"
   },
   {
    "duration": 11,
    "start_time": "2023-05-04T09:02:41.628Z"
   },
   {
    "duration": 24,
    "start_time": "2023-05-04T09:02:41.642Z"
   },
   {
    "duration": 58,
    "start_time": "2023-05-04T09:02:41.668Z"
   },
   {
    "duration": 8,
    "start_time": "2023-05-04T09:02:41.728Z"
   },
   {
    "duration": 26,
    "start_time": "2023-05-04T09:02:41.739Z"
   },
   {
    "duration": 32,
    "start_time": "2023-05-04T09:02:41.766Z"
   },
   {
    "duration": 11,
    "start_time": "2023-05-04T09:02:41.800Z"
   },
   {
    "duration": 11,
    "start_time": "2023-05-04T09:02:41.813Z"
   },
   {
    "duration": 24,
    "start_time": "2023-05-04T09:02:41.825Z"
   },
   {
    "duration": 16,
    "start_time": "2023-05-04T09:02:41.850Z"
   },
   {
    "duration": 25,
    "start_time": "2023-05-04T09:02:41.867Z"
   },
   {
    "duration": 18,
    "start_time": "2023-05-04T09:02:41.893Z"
   },
   {
    "duration": 30,
    "start_time": "2023-05-04T09:02:41.913Z"
   },
   {
    "duration": 20,
    "start_time": "2023-05-04T09:02:41.945Z"
   },
   {
    "duration": 26,
    "start_time": "2023-05-04T09:02:41.967Z"
   },
   {
    "duration": 8,
    "start_time": "2023-05-04T09:02:41.994Z"
   },
   {
    "duration": 574,
    "start_time": "2023-05-04T09:02:42.004Z"
   },
   {
    "duration": 13,
    "start_time": "2023-05-04T09:02:42.580Z"
   },
   {
    "duration": 73,
    "start_time": "2023-05-04T09:02:42.595Z"
   },
   {
    "duration": 19,
    "start_time": "2023-05-04T09:02:42.670Z"
   },
   {
    "duration": 248,
    "start_time": "2023-05-04T09:02:42.691Z"
   },
   {
    "duration": 9,
    "start_time": "2023-05-04T09:02:42.941Z"
   },
   {
    "duration": 221,
    "start_time": "2023-05-04T09:02:42.954Z"
   },
   {
    "duration": 104,
    "start_time": "2023-05-04T09:02:43.177Z"
   },
   {
    "duration": 13,
    "start_time": "2023-05-04T09:02:43.282Z"
   },
   {
    "duration": 168,
    "start_time": "2023-05-04T09:02:43.297Z"
   },
   {
    "duration": 165,
    "start_time": "2023-05-04T09:02:43.468Z"
   },
   {
    "duration": 11,
    "start_time": "2023-05-04T09:02:43.635Z"
   },
   {
    "duration": 160,
    "start_time": "2023-05-04T09:02:43.647Z"
   },
   {
    "duration": 153,
    "start_time": "2023-05-04T09:02:43.809Z"
   },
   {
    "duration": 37,
    "start_time": "2023-05-04T09:02:43.964Z"
   },
   {
    "duration": 14,
    "start_time": "2023-05-04T09:02:44.003Z"
   },
   {
    "duration": 11,
    "start_time": "2023-05-04T09:02:44.019Z"
   },
   {
    "duration": 20,
    "start_time": "2023-05-04T09:02:44.032Z"
   },
   {
    "duration": 36,
    "start_time": "2023-05-04T09:02:44.053Z"
   },
   {
    "duration": 20,
    "start_time": "2023-05-04T09:02:44.091Z"
   },
   {
    "duration": 146,
    "start_time": "2023-05-04T09:02:44.112Z"
   },
   {
    "duration": 145,
    "start_time": "2023-05-04T09:02:44.260Z"
   },
   {
    "duration": 176,
    "start_time": "2023-05-04T09:02:44.406Z"
   },
   {
    "duration": 149,
    "start_time": "2023-05-04T09:02:44.583Z"
   },
   {
    "duration": 25,
    "start_time": "2023-05-04T09:02:44.734Z"
   },
   {
    "duration": 3,
    "start_time": "2023-05-04T09:02:44.761Z"
   },
   {
    "duration": 28,
    "start_time": "2023-05-04T09:02:44.766Z"
   },
   {
    "duration": 75,
    "start_time": "2023-05-04T09:02:44.796Z"
   },
   {
    "duration": 1379,
    "start_time": "2023-05-04T09:10:13.839Z"
   },
   {
    "duration": 1159,
    "start_time": "2023-05-04T09:10:35.839Z"
   },
   {
    "duration": 9,
    "start_time": "2023-05-04T09:10:38.876Z"
   },
   {
    "duration": 7,
    "start_time": "2023-05-04T09:14:37.563Z"
   },
   {
    "duration": 1347,
    "start_time": "2023-05-04T09:14:43.150Z"
   },
   {
    "duration": 9,
    "start_time": "2023-05-04T09:14:48.829Z"
   },
   {
    "duration": 9,
    "start_time": "2023-05-04T09:16:26.962Z"
   },
   {
    "duration": 4,
    "start_time": "2023-05-04T09:17:44.711Z"
   },
   {
    "duration": 695,
    "start_time": "2023-05-04T09:18:14.648Z"
   },
   {
    "duration": 11,
    "start_time": "2023-05-04T09:18:40.016Z"
   },
   {
    "duration": 9,
    "start_time": "2023-05-04T09:18:46.709Z"
   },
   {
    "duration": 11,
    "start_time": "2023-05-04T09:19:02.408Z"
   },
   {
    "duration": 10,
    "start_time": "2023-05-04T09:19:09.583Z"
   },
   {
    "duration": 11,
    "start_time": "2023-05-04T09:19:12.502Z"
   },
   {
    "duration": 12,
    "start_time": "2023-05-04T09:19:17.186Z"
   },
   {
    "duration": 12,
    "start_time": "2023-05-04T09:19:33.157Z"
   },
   {
    "duration": 11,
    "start_time": "2023-05-04T09:19:36.939Z"
   },
   {
    "duration": 19,
    "start_time": "2023-05-04T09:19:54.839Z"
   },
   {
    "duration": 14,
    "start_time": "2023-05-04T09:20:07.174Z"
   },
   {
    "duration": 11,
    "start_time": "2023-05-04T09:20:17.095Z"
   },
   {
    "duration": 13,
    "start_time": "2023-05-04T09:20:28.006Z"
   },
   {
    "duration": 12,
    "start_time": "2023-05-04T09:21:10.476Z"
   },
   {
    "duration": 17,
    "start_time": "2023-05-04T09:21:44.087Z"
   },
   {
    "duration": 12,
    "start_time": "2023-05-04T09:21:52.802Z"
   },
   {
    "duration": 14,
    "start_time": "2023-05-04T09:22:27.082Z"
   },
   {
    "duration": 31,
    "start_time": "2023-05-04T09:22:46.185Z"
   },
   {
    "duration": 4,
    "start_time": "2023-05-04T09:22:47.224Z"
   },
   {
    "duration": 14,
    "start_time": "2023-05-04T09:22:47.507Z"
   },
   {
    "duration": 14,
    "start_time": "2023-05-04T09:22:55.204Z"
   },
   {
    "duration": 46,
    "start_time": "2023-05-04T09:23:39.531Z"
   },
   {
    "duration": 5,
    "start_time": "2023-05-04T09:23:40.237Z"
   },
   {
    "duration": 17,
    "start_time": "2023-05-04T09:23:40.478Z"
   },
   {
    "duration": 49,
    "start_time": "2023-05-04T09:24:28.474Z"
   },
   {
    "duration": 4,
    "start_time": "2023-05-04T09:24:29.581Z"
   },
   {
    "duration": 15,
    "start_time": "2023-05-04T09:24:30.313Z"
   },
   {
    "duration": 1483,
    "start_time": "2023-05-04T09:25:02.219Z"
   },
   {
    "duration": 1231,
    "start_time": "2023-05-04T09:25:19.578Z"
   },
   {
    "duration": 30,
    "start_time": "2023-05-04T09:26:26.987Z"
   },
   {
    "duration": 3,
    "start_time": "2023-05-04T09:26:27.521Z"
   },
   {
    "duration": 13,
    "start_time": "2023-05-04T09:26:27.942Z"
   },
   {
    "duration": 23,
    "start_time": "2023-05-04T09:26:35.075Z"
   },
   {
    "duration": 4,
    "start_time": "2023-05-04T09:26:35.420Z"
   },
   {
    "duration": 11,
    "start_time": "2023-05-04T09:26:35.747Z"
   },
   {
    "duration": 81,
    "start_time": "2023-05-04T09:26:56.276Z"
   },
   {
    "duration": 53,
    "start_time": "2023-05-04T09:27:12.091Z"
   },
   {
    "duration": 426,
    "start_time": "2023-05-04T09:27:22.717Z"
   },
   {
    "duration": 86,
    "start_time": "2023-05-04T09:27:23.145Z"
   },
   {
    "duration": 18,
    "start_time": "2023-05-04T09:27:23.233Z"
   },
   {
    "duration": 14,
    "start_time": "2023-05-04T09:27:23.253Z"
   },
   {
    "duration": 103,
    "start_time": "2023-05-04T09:27:23.268Z"
   },
   {
    "duration": 10,
    "start_time": "2023-05-04T09:27:23.373Z"
   },
   {
    "duration": 30,
    "start_time": "2023-05-04T09:27:23.385Z"
   },
   {
    "duration": 68,
    "start_time": "2023-05-04T09:27:23.417Z"
   },
   {
    "duration": 8,
    "start_time": "2023-05-04T09:27:23.487Z"
   },
   {
    "duration": 24,
    "start_time": "2023-05-04T09:27:23.498Z"
   },
   {
    "duration": 14,
    "start_time": "2023-05-04T09:27:23.524Z"
   },
   {
    "duration": 31,
    "start_time": "2023-05-04T09:27:23.540Z"
   },
   {
    "duration": 8,
    "start_time": "2023-05-04T09:27:23.573Z"
   },
   {
    "duration": 30,
    "start_time": "2023-05-04T09:27:23.582Z"
   },
   {
    "duration": 19,
    "start_time": "2023-05-04T09:27:23.613Z"
   },
   {
    "duration": 19,
    "start_time": "2023-05-04T09:27:23.634Z"
   },
   {
    "duration": 15,
    "start_time": "2023-05-04T09:27:23.654Z"
   },
   {
    "duration": 20,
    "start_time": "2023-05-04T09:27:23.670Z"
   },
   {
    "duration": 27,
    "start_time": "2023-05-04T09:27:23.691Z"
   },
   {
    "duration": 10,
    "start_time": "2023-05-04T09:27:23.720Z"
   },
   {
    "duration": 10,
    "start_time": "2023-05-04T09:27:23.731Z"
   },
   {
    "duration": 454,
    "start_time": "2023-05-04T09:27:23.743Z"
   },
   {
    "duration": 10,
    "start_time": "2023-05-04T09:27:24.199Z"
   },
   {
    "duration": 92,
    "start_time": "2023-05-04T09:27:24.210Z"
   },
   {
    "duration": 7,
    "start_time": "2023-05-04T09:27:24.303Z"
   },
   {
    "duration": 261,
    "start_time": "2023-05-04T09:27:24.311Z"
   },
   {
    "duration": 16,
    "start_time": "2023-05-04T09:27:24.574Z"
   },
   {
    "duration": 166,
    "start_time": "2023-05-04T09:27:24.594Z"
   },
   {
    "duration": 178,
    "start_time": "2023-05-04T09:27:24.761Z"
   },
   {
    "duration": 10,
    "start_time": "2023-05-04T09:27:24.940Z"
   },
   {
    "duration": 178,
    "start_time": "2023-05-04T09:27:24.952Z"
   },
   {
    "duration": 139,
    "start_time": "2023-05-04T09:27:25.132Z"
   },
   {
    "duration": 21,
    "start_time": "2023-05-04T09:27:25.274Z"
   },
   {
    "duration": 164,
    "start_time": "2023-05-04T09:27:25.297Z"
   },
   {
    "duration": 138,
    "start_time": "2023-05-04T09:27:25.462Z"
   },
   {
    "duration": 24,
    "start_time": "2023-05-04T09:27:25.603Z"
   },
   {
    "duration": 14,
    "start_time": "2023-05-04T09:27:25.629Z"
   },
   {
    "duration": 10,
    "start_time": "2023-05-04T09:27:25.645Z"
   },
   {
    "duration": 43,
    "start_time": "2023-05-04T09:27:25.657Z"
   },
   {
    "duration": 11,
    "start_time": "2023-05-04T09:27:25.701Z"
   },
   {
    "duration": 18,
    "start_time": "2023-05-04T09:27:25.714Z"
   },
   {
    "duration": 151,
    "start_time": "2023-05-04T09:27:25.734Z"
   },
   {
    "duration": 161,
    "start_time": "2023-05-04T09:27:25.889Z"
   },
   {
    "duration": 173,
    "start_time": "2023-05-04T09:27:26.052Z"
   },
   {
    "duration": 151,
    "start_time": "2023-05-04T09:27:26.227Z"
   },
   {
    "duration": 18,
    "start_time": "2023-05-04T09:27:26.380Z"
   },
   {
    "duration": 459,
    "start_time": "2023-05-04T09:27:51.051Z"
   },
   {
    "duration": 82,
    "start_time": "2023-05-04T09:27:51.512Z"
   },
   {
    "duration": 17,
    "start_time": "2023-05-04T09:27:51.596Z"
   },
   {
    "duration": 30,
    "start_time": "2023-05-04T09:27:51.616Z"
   },
   {
    "duration": 84,
    "start_time": "2023-05-04T09:27:51.649Z"
   },
   {
    "duration": 10,
    "start_time": "2023-05-04T09:27:51.735Z"
   },
   {
    "duration": 39,
    "start_time": "2023-05-04T09:27:51.746Z"
   },
   {
    "duration": 63,
    "start_time": "2023-05-04T09:27:51.787Z"
   },
   {
    "duration": 9,
    "start_time": "2023-05-04T09:27:51.852Z"
   },
   {
    "duration": 25,
    "start_time": "2023-05-04T09:27:51.865Z"
   },
   {
    "duration": 23,
    "start_time": "2023-05-04T09:27:51.892Z"
   },
   {
    "duration": 31,
    "start_time": "2023-05-04T09:27:51.917Z"
   },
   {
    "duration": 16,
    "start_time": "2023-05-04T09:27:51.950Z"
   },
   {
    "duration": 26,
    "start_time": "2023-05-04T09:27:51.968Z"
   },
   {
    "duration": 28,
    "start_time": "2023-05-04T09:27:51.995Z"
   },
   {
    "duration": 34,
    "start_time": "2023-05-04T09:27:52.024Z"
   },
   {
    "duration": 24,
    "start_time": "2023-05-04T09:27:52.060Z"
   },
   {
    "duration": 38,
    "start_time": "2023-05-04T09:27:52.085Z"
   },
   {
    "duration": 22,
    "start_time": "2023-05-04T09:27:52.125Z"
   },
   {
    "duration": 31,
    "start_time": "2023-05-04T09:27:52.149Z"
   },
   {
    "duration": 39,
    "start_time": "2023-05-04T09:27:52.181Z"
   },
   {
    "duration": 469,
    "start_time": "2023-05-04T09:27:52.222Z"
   },
   {
    "duration": 8,
    "start_time": "2023-05-04T09:27:52.693Z"
   },
   {
    "duration": 88,
    "start_time": "2023-05-04T09:27:52.703Z"
   },
   {
    "duration": 6,
    "start_time": "2023-05-04T09:27:52.793Z"
   },
   {
    "duration": 325,
    "start_time": "2023-05-04T09:27:52.800Z"
   },
   {
    "duration": 9,
    "start_time": "2023-05-04T09:27:53.127Z"
   },
   {
    "duration": 163,
    "start_time": "2023-05-04T09:27:53.140Z"
   },
   {
    "duration": 174,
    "start_time": "2023-05-04T09:27:53.305Z"
   },
   {
    "duration": 14,
    "start_time": "2023-05-04T09:27:53.482Z"
   },
   {
    "duration": 165,
    "start_time": "2023-05-04T09:27:53.498Z"
   },
   {
    "duration": 150,
    "start_time": "2023-05-04T09:27:53.665Z"
   },
   {
    "duration": 11,
    "start_time": "2023-05-04T09:27:53.817Z"
   },
   {
    "duration": 173,
    "start_time": "2023-05-04T09:27:53.829Z"
   },
   {
    "duration": 142,
    "start_time": "2023-05-04T09:27:54.004Z"
   },
   {
    "duration": 23,
    "start_time": "2023-05-04T09:27:54.148Z"
   },
   {
    "duration": 27,
    "start_time": "2023-05-04T09:27:54.173Z"
   },
   {
    "duration": 13,
    "start_time": "2023-05-04T09:27:54.201Z"
   },
   {
    "duration": 13,
    "start_time": "2023-05-04T09:27:54.216Z"
   },
   {
    "duration": 17,
    "start_time": "2023-05-04T09:27:54.231Z"
   },
   {
    "duration": 15,
    "start_time": "2023-05-04T09:27:54.250Z"
   },
   {
    "duration": 153,
    "start_time": "2023-05-04T09:27:54.267Z"
   },
   {
    "duration": 153,
    "start_time": "2023-05-04T09:27:54.422Z"
   },
   {
    "duration": 176,
    "start_time": "2023-05-04T09:27:54.577Z"
   },
   {
    "duration": 147,
    "start_time": "2023-05-04T09:27:54.754Z"
   },
   {
    "duration": 14,
    "start_time": "2023-05-04T09:27:54.903Z"
   },
   {
    "duration": 32,
    "start_time": "2023-05-04T09:27:54.919Z"
   },
   {
    "duration": 3,
    "start_time": "2023-05-04T09:27:54.954Z"
   },
   {
    "duration": 30,
    "start_time": "2023-05-04T09:27:54.959Z"
   },
   {
    "duration": 82,
    "start_time": "2023-05-04T09:27:54.991Z"
   },
   {
    "duration": 0,
    "start_time": "2023-05-04T09:27:55.075Z"
   },
   {
    "duration": 0,
    "start_time": "2023-05-04T09:27:55.076Z"
   },
   {
    "duration": 18,
    "start_time": "2023-05-04T09:28:22.320Z"
   },
   {
    "duration": 93,
    "start_time": "2023-05-04T09:29:15.246Z"
   },
   {
    "duration": 17,
    "start_time": "2023-05-04T09:29:34.979Z"
   },
   {
    "duration": 13,
    "start_time": "2023-05-04T09:29:41.523Z"
   },
   {
    "duration": 19,
    "start_time": "2023-05-04T09:29:47.413Z"
   },
   {
    "duration": 21,
    "start_time": "2023-05-04T09:29:55.751Z"
   },
   {
    "duration": 24,
    "start_time": "2023-05-04T09:30:15.302Z"
   },
   {
    "duration": 20,
    "start_time": "2023-05-04T09:30:20.499Z"
   },
   {
    "duration": 15,
    "start_time": "2023-05-04T09:30:24.065Z"
   },
   {
    "duration": 28,
    "start_time": "2023-05-04T09:31:21.703Z"
   },
   {
    "duration": 3,
    "start_time": "2023-05-04T09:31:21.937Z"
   },
   {
    "duration": 11,
    "start_time": "2023-05-04T09:31:23.100Z"
   },
   {
    "duration": 9,
    "start_time": "2023-05-04T09:32:03.812Z"
   },
   {
    "duration": 17,
    "start_time": "2023-05-04T09:32:06.636Z"
   },
   {
    "duration": 16,
    "start_time": "2023-05-04T09:34:50.037Z"
   },
   {
    "duration": 11,
    "start_time": "2023-05-04T09:34:59.858Z"
   },
   {
    "duration": 6,
    "start_time": "2023-05-04T09:37:32.891Z"
   },
   {
    "duration": 15,
    "start_time": "2023-05-04T09:37:40.491Z"
   },
   {
    "duration": 177,
    "start_time": "2023-05-04T09:41:16.336Z"
   },
   {
    "duration": 175,
    "start_time": "2023-05-04T09:41:25.994Z"
   },
   {
    "duration": 253,
    "start_time": "2023-05-04T09:41:42.315Z"
   },
   {
    "duration": 500,
    "start_time": "2023-05-04T09:51:40.059Z"
   },
   {
    "duration": 3,
    "start_time": "2023-05-04T09:52:04.911Z"
   },
   {
    "duration": 6,
    "start_time": "2023-05-04T09:53:19.671Z"
   },
   {
    "duration": 7,
    "start_time": "2023-05-04T09:53:46.117Z"
   },
   {
    "duration": 6,
    "start_time": "2023-05-04T09:55:33.676Z"
   },
   {
    "duration": 175,
    "start_time": "2023-05-04T09:57:54.817Z"
   },
   {
    "duration": 142,
    "start_time": "2023-05-04T09:59:08.624Z"
   },
   {
    "duration": 8,
    "start_time": "2023-05-04T10:12:01.817Z"
   },
   {
    "duration": 6,
    "start_time": "2023-05-04T10:12:36.598Z"
   },
   {
    "duration": 7,
    "start_time": "2023-05-04T10:12:43.408Z"
   },
   {
    "duration": 7,
    "start_time": "2023-05-04T10:13:20.454Z"
   },
   {
    "duration": 56,
    "start_time": "2023-05-04T10:13:30.416Z"
   },
   {
    "duration": 5,
    "start_time": "2023-05-04T10:13:34.758Z"
   },
   {
    "duration": 6,
    "start_time": "2023-05-04T10:13:45.009Z"
   },
   {
    "duration": 9,
    "start_time": "2023-05-04T10:15:04.050Z"
   },
   {
    "duration": 742,
    "start_time": "2023-05-04T11:10:47.373Z"
   },
   {
    "duration": 878,
    "start_time": "2023-05-04T11:11:05.578Z"
   },
   {
    "duration": 22,
    "start_time": "2023-05-04T11:11:49.666Z"
   },
   {
    "duration": 3,
    "start_time": "2023-05-04T11:11:49.996Z"
   },
   {
    "duration": 13,
    "start_time": "2023-05-04T11:11:50.315Z"
   },
   {
    "duration": 916,
    "start_time": "2023-05-04T11:11:51.399Z"
   },
   {
    "duration": 8,
    "start_time": "2023-05-04T11:11:53.385Z"
   },
   {
    "duration": 17,
    "start_time": "2023-05-04T11:11:53.680Z"
   },
   {
    "duration": 14,
    "start_time": "2023-05-04T11:11:54.207Z"
   },
   {
    "duration": 6,
    "start_time": "2023-05-04T11:11:58.903Z"
   },
   {
    "duration": 13,
    "start_time": "2023-05-04T11:11:59.317Z"
   },
   {
    "duration": 175,
    "start_time": "2023-05-04T11:12:04.434Z"
   },
   {
    "duration": 3,
    "start_time": "2023-05-04T11:12:06.703Z"
   },
   {
    "duration": 7,
    "start_time": "2023-05-04T11:12:06.962Z"
   },
   {
    "duration": 139,
    "start_time": "2023-05-04T11:12:13.359Z"
   },
   {
    "duration": 10,
    "start_time": "2023-05-04T11:12:18.278Z"
   },
   {
    "duration": 6,
    "start_time": "2023-05-04T11:12:25.938Z"
   },
   {
    "duration": 26,
    "start_time": "2023-05-04T11:13:17.311Z"
   },
   {
    "duration": 330,
    "start_time": "2023-05-04T11:14:24.807Z"
   },
   {
    "duration": 147,
    "start_time": "2023-05-04T11:14:36.613Z"
   },
   {
    "duration": 177,
    "start_time": "2023-05-04T11:14:53.756Z"
   },
   {
    "duration": 180,
    "start_time": "2023-05-04T11:15:14.560Z"
   },
   {
    "duration": 13,
    "start_time": "2023-05-04T11:15:37.278Z"
   },
   {
    "duration": 12,
    "start_time": "2023-05-04T11:15:45.861Z"
   },
   {
    "duration": 6,
    "start_time": "2023-05-04T11:19:51.323Z"
   },
   {
    "duration": 13,
    "start_time": "2023-05-04T11:20:58.813Z"
   },
   {
    "duration": 18,
    "start_time": "2023-05-04T11:45:39.532Z"
   },
   {
    "duration": 3,
    "start_time": "2023-05-04T11:45:55.543Z"
   },
   {
    "duration": 162,
    "start_time": "2023-05-04T11:45:59.110Z"
   },
   {
    "duration": 1773,
    "start_time": "2023-05-04T11:49:55.912Z"
   },
   {
    "duration": 1702,
    "start_time": "2023-05-04T11:50:24.410Z"
   },
   {
    "duration": 481,
    "start_time": "2023-05-04T11:50:35.810Z"
   },
   {
    "duration": 144,
    "start_time": "2023-05-04T11:52:26.750Z"
   },
   {
    "duration": 270,
    "start_time": "2023-05-04T11:52:46.900Z"
   },
   {
    "duration": 281,
    "start_time": "2023-05-04T11:53:27.984Z"
   },
   {
    "duration": 277,
    "start_time": "2023-05-04T11:53:35.298Z"
   },
   {
    "duration": 269,
    "start_time": "2023-05-04T11:53:41.058Z"
   },
   {
    "duration": 426,
    "start_time": "2023-05-04T11:55:18.931Z"
   },
   {
    "duration": 313,
    "start_time": "2023-05-04T11:55:55.512Z"
   },
   {
    "duration": 283,
    "start_time": "2023-05-04T11:56:00.958Z"
   },
   {
    "duration": 1776,
    "start_time": "2023-05-04T11:56:35.628Z"
   },
   {
    "duration": 1169,
    "start_time": "2023-05-04T12:02:07.749Z"
   },
   {
    "duration": 9,
    "start_time": "2023-05-04T12:03:19.560Z"
   },
   {
    "duration": 12,
    "start_time": "2023-05-04T12:03:34.083Z"
   },
   {
    "duration": 13,
    "start_time": "2023-05-04T12:03:37.904Z"
   },
   {
    "duration": 1867,
    "start_time": "2023-05-04T12:04:26.305Z"
   },
   {
    "duration": 1923,
    "start_time": "2023-05-04T12:05:14.425Z"
   },
   {
    "duration": 12,
    "start_time": "2023-05-04T12:05:27.422Z"
   },
   {
    "duration": 13,
    "start_time": "2023-05-04T12:05:32.999Z"
   },
   {
    "duration": 4,
    "start_time": "2023-05-04T12:05:36.241Z"
   },
   {
    "duration": 1972,
    "start_time": "2023-05-04T12:05:39.933Z"
   },
   {
    "duration": 6,
    "start_time": "2023-05-04T12:07:53.597Z"
   },
   {
    "duration": 6,
    "start_time": "2023-05-04T12:14:25.033Z"
   },
   {
    "duration": 5,
    "start_time": "2023-05-04T12:14:51.284Z"
   },
   {
    "duration": 6,
    "start_time": "2023-05-04T12:15:46.791Z"
   },
   {
    "duration": 7,
    "start_time": "2023-05-04T12:18:00.721Z"
   },
   {
    "duration": 5,
    "start_time": "2023-05-04T12:18:03.226Z"
   },
   {
    "duration": 6,
    "start_time": "2023-05-04T12:18:11.513Z"
   },
   {
    "duration": 6,
    "start_time": "2023-05-04T12:18:17.303Z"
   },
   {
    "duration": 6,
    "start_time": "2023-05-04T12:18:21.703Z"
   },
   {
    "duration": 6,
    "start_time": "2023-05-04T12:18:25.231Z"
   },
   {
    "duration": 7,
    "start_time": "2023-05-04T12:18:27.519Z"
   },
   {
    "duration": 6,
    "start_time": "2023-05-04T12:18:29.515Z"
   },
   {
    "duration": 5,
    "start_time": "2023-05-04T12:18:32.702Z"
   },
   {
    "duration": 18237,
    "start_time": "2023-05-04T12:20:28.635Z"
   },
   {
    "duration": 3316,
    "start_time": "2023-05-04T12:21:30.005Z"
   },
   {
    "duration": 6,
    "start_time": "2023-05-04T12:21:53.006Z"
   },
   {
    "duration": 5,
    "start_time": "2023-05-04T12:22:19.735Z"
   },
   {
    "duration": 5,
    "start_time": "2023-05-04T12:23:59.582Z"
   },
   {
    "duration": 7,
    "start_time": "2023-05-04T12:24:11.605Z"
   },
   {
    "duration": 6,
    "start_time": "2023-05-04T12:24:18.186Z"
   },
   {
    "duration": 6,
    "start_time": "2023-05-04T12:24:21.507Z"
   },
   {
    "duration": 6,
    "start_time": "2023-05-04T12:24:44.984Z"
   },
   {
    "duration": 7,
    "start_time": "2023-05-04T12:24:52.993Z"
   },
   {
    "duration": 6,
    "start_time": "2023-05-04T12:24:55.793Z"
   },
   {
    "duration": 6,
    "start_time": "2023-05-04T12:24:58.196Z"
   },
   {
    "duration": 6,
    "start_time": "2023-05-04T12:25:02.176Z"
   },
   {
    "duration": 6,
    "start_time": "2023-05-04T12:25:06.060Z"
   },
   {
    "duration": 6,
    "start_time": "2023-05-04T12:25:11.588Z"
   },
   {
    "duration": 6,
    "start_time": "2023-05-04T12:25:16.689Z"
   },
   {
    "duration": 12,
    "start_time": "2023-05-04T12:27:32.979Z"
   },
   {
    "duration": 168,
    "start_time": "2023-05-04T12:27:39.397Z"
   },
   {
    "duration": 5,
    "start_time": "2023-05-04T12:27:45.226Z"
   },
   {
    "duration": 180,
    "start_time": "2023-05-04T12:28:09.781Z"
   },
   {
    "duration": 5,
    "start_time": "2023-05-04T12:28:18.472Z"
   },
   {
    "duration": 6,
    "start_time": "2023-05-04T12:28:32.290Z"
   },
   {
    "duration": 6,
    "start_time": "2023-05-04T12:28:46.970Z"
   },
   {
    "duration": 6,
    "start_time": "2023-05-04T12:28:51.722Z"
   },
   {
    "duration": 5,
    "start_time": "2023-05-04T12:28:57.044Z"
   },
   {
    "duration": 6,
    "start_time": "2023-05-04T12:29:06.099Z"
   },
   {
    "duration": 7,
    "start_time": "2023-05-04T12:29:10.303Z"
   },
   {
    "duration": 6,
    "start_time": "2023-05-04T12:29:13.120Z"
   },
   {
    "duration": 7,
    "start_time": "2023-05-04T12:29:15.275Z"
   },
   {
    "duration": 6,
    "start_time": "2023-05-04T12:29:20.524Z"
   },
   {
    "duration": 5,
    "start_time": "2023-05-04T12:29:23.694Z"
   },
   {
    "duration": 5,
    "start_time": "2023-05-04T12:29:26.640Z"
   },
   {
    "duration": 5,
    "start_time": "2023-05-04T12:29:29.818Z"
   },
   {
    "duration": 6,
    "start_time": "2023-05-04T12:29:34.675Z"
   },
   {
    "duration": 6,
    "start_time": "2023-05-04T12:29:44.401Z"
   },
   {
    "duration": 173,
    "start_time": "2023-05-04T12:31:13.187Z"
   },
   {
    "duration": 175,
    "start_time": "2023-05-04T12:31:21.950Z"
   },
   {
    "duration": 161,
    "start_time": "2023-05-04T12:31:28.272Z"
   },
   {
    "duration": 2014,
    "start_time": "2023-05-04T12:31:56.368Z"
   },
   {
    "duration": 5,
    "start_time": "2023-05-04T12:32:11.739Z"
   },
   {
    "duration": 164,
    "start_time": "2023-05-04T12:32:12.971Z"
   },
   {
    "duration": 7,
    "start_time": "2023-05-04T12:32:25.888Z"
   },
   {
    "duration": 2343,
    "start_time": "2023-05-04T12:32:27.559Z"
   },
   {
    "duration": 2157,
    "start_time": "2023-05-04T12:33:21.790Z"
   },
   {
    "duration": 12,
    "start_time": "2023-05-04T12:41:36.085Z"
   },
   {
    "duration": 4,
    "start_time": "2023-05-04T12:41:44.879Z"
   },
   {
    "duration": 5,
    "start_time": "2023-05-04T12:43:21.869Z"
   },
   {
    "duration": 6,
    "start_time": "2023-05-04T12:50:57.231Z"
   },
   {
    "duration": 13,
    "start_time": "2023-05-04T12:52:03.651Z"
   },
   {
    "duration": 12,
    "start_time": "2023-05-04T12:52:32.910Z"
   },
   {
    "duration": 171,
    "start_time": "2023-05-04T12:52:42.079Z"
   },
   {
    "duration": 177,
    "start_time": "2023-05-04T12:52:52.493Z"
   },
   {
    "duration": 315,
    "start_time": "2023-05-04T12:53:27.685Z"
   },
   {
    "duration": 245,
    "start_time": "2023-05-04T12:53:35.448Z"
   },
   {
    "duration": 216,
    "start_time": "2023-05-04T12:53:40.016Z"
   },
   {
    "duration": 6,
    "start_time": "2023-05-04T12:56:49.557Z"
   },
   {
    "duration": 1151,
    "start_time": "2023-05-04T12:57:47.893Z"
   },
   {
    "duration": 69,
    "start_time": "2023-05-04T12:57:49.046Z"
   },
   {
    "duration": 28,
    "start_time": "2023-05-04T12:57:49.117Z"
   },
   {
    "duration": 31,
    "start_time": "2023-05-04T12:57:49.147Z"
   },
   {
    "duration": 39,
    "start_time": "2023-05-04T12:57:49.181Z"
   },
   {
    "duration": 10,
    "start_time": "2023-05-04T12:57:49.221Z"
   },
   {
    "duration": 37,
    "start_time": "2023-05-04T12:57:49.234Z"
   },
   {
    "duration": 26,
    "start_time": "2023-05-04T12:57:49.274Z"
   },
   {
    "duration": 23,
    "start_time": "2023-05-04T12:57:49.302Z"
   },
   {
    "duration": 38,
    "start_time": "2023-05-04T12:57:49.327Z"
   },
   {
    "duration": 43,
    "start_time": "2023-05-04T12:57:49.367Z"
   },
   {
    "duration": 29,
    "start_time": "2023-05-04T12:57:49.413Z"
   },
   {
    "duration": 25,
    "start_time": "2023-05-04T12:57:49.444Z"
   },
   {
    "duration": 24,
    "start_time": "2023-05-04T12:57:49.472Z"
   },
   {
    "duration": 26,
    "start_time": "2023-05-04T12:57:49.498Z"
   },
   {
    "duration": 25,
    "start_time": "2023-05-04T12:57:49.527Z"
   },
   {
    "duration": 22,
    "start_time": "2023-05-04T12:57:49.553Z"
   },
   {
    "duration": 30,
    "start_time": "2023-05-04T12:57:49.577Z"
   },
   {
    "duration": 20,
    "start_time": "2023-05-04T12:57:49.609Z"
   },
   {
    "duration": 36,
    "start_time": "2023-05-04T12:57:49.630Z"
   },
   {
    "duration": 26,
    "start_time": "2023-05-04T12:57:49.668Z"
   },
   {
    "duration": 181,
    "start_time": "2023-05-04T12:57:49.696Z"
   },
   {
    "duration": 13,
    "start_time": "2023-05-04T12:57:49.879Z"
   },
   {
    "duration": 87,
    "start_time": "2023-05-04T12:57:49.895Z"
   },
   {
    "duration": 6,
    "start_time": "2023-05-04T12:57:49.989Z"
   },
   {
    "duration": 272,
    "start_time": "2023-05-04T12:57:49.997Z"
   },
   {
    "duration": 18,
    "start_time": "2023-05-04T12:57:50.271Z"
   },
   {
    "duration": 168,
    "start_time": "2023-05-04T12:57:50.291Z"
   },
   {
    "duration": 195,
    "start_time": "2023-05-04T12:57:50.461Z"
   },
   {
    "duration": 12,
    "start_time": "2023-05-04T12:57:50.658Z"
   },
   {
    "duration": 194,
    "start_time": "2023-05-04T12:57:50.672Z"
   },
   {
    "duration": 146,
    "start_time": "2023-05-04T12:57:50.868Z"
   },
   {
    "duration": 9,
    "start_time": "2023-05-04T12:57:51.016Z"
   },
   {
    "duration": 163,
    "start_time": "2023-05-04T12:57:51.028Z"
   },
   {
    "duration": 154,
    "start_time": "2023-05-04T12:57:51.193Z"
   },
   {
    "duration": 23,
    "start_time": "2023-05-04T12:57:51.349Z"
   },
   {
    "duration": 38,
    "start_time": "2023-05-04T12:57:51.374Z"
   },
   {
    "duration": 108,
    "start_time": "2023-05-04T12:57:51.414Z"
   },
   {
    "duration": 35,
    "start_time": "2023-05-04T12:57:51.524Z"
   },
   {
    "duration": 29,
    "start_time": "2023-05-04T12:57:51.561Z"
   },
   {
    "duration": 19,
    "start_time": "2023-05-04T12:57:51.596Z"
   },
   {
    "duration": 179,
    "start_time": "2023-05-04T12:57:51.617Z"
   },
   {
    "duration": 262,
    "start_time": "2023-05-04T12:57:51.799Z"
   },
   {
    "duration": 176,
    "start_time": "2023-05-04T12:57:52.063Z"
   },
   {
    "duration": 150,
    "start_time": "2023-05-04T12:57:52.241Z"
   },
   {
    "duration": 15,
    "start_time": "2023-05-04T12:57:52.393Z"
   },
   {
    "duration": 35,
    "start_time": "2023-05-04T12:57:52.411Z"
   },
   {
    "duration": 3,
    "start_time": "2023-05-04T12:57:52.448Z"
   },
   {
    "duration": 28,
    "start_time": "2023-05-04T12:57:52.453Z"
   },
   {
    "duration": 921,
    "start_time": "2023-05-04T12:57:52.488Z"
   },
   {
    "duration": 9,
    "start_time": "2023-05-04T12:57:53.410Z"
   },
   {
    "duration": 24,
    "start_time": "2023-05-04T12:57:53.421Z"
   },
   {
    "duration": 24,
    "start_time": "2023-05-04T12:57:53.447Z"
   },
   {
    "duration": 20,
    "start_time": "2023-05-04T12:57:53.473Z"
   },
   {
    "duration": 26,
    "start_time": "2023-05-04T12:57:53.495Z"
   },
   {
    "duration": 188,
    "start_time": "2023-05-04T12:57:53.523Z"
   },
   {
    "duration": 2,
    "start_time": "2023-05-04T12:57:53.713Z"
   },
   {
    "duration": 19,
    "start_time": "2023-05-04T12:57:53.717Z"
   },
   {
    "duration": 137,
    "start_time": "2023-05-04T12:57:53.738Z"
   },
   {
    "duration": 18,
    "start_time": "2023-05-04T12:57:53.878Z"
   },
   {
    "duration": 17,
    "start_time": "2023-05-04T12:57:53.898Z"
   },
   {
    "duration": 204,
    "start_time": "2023-05-04T12:57:53.917Z"
   },
   {
    "duration": 13,
    "start_time": "2023-05-04T12:57:54.123Z"
   },
   {
    "duration": 13,
    "start_time": "2023-05-04T12:57:54.139Z"
   },
   {
    "duration": 35,
    "start_time": "2023-05-04T12:57:54.154Z"
   },
   {
    "duration": 1723,
    "start_time": "2023-05-04T12:57:54.191Z"
   },
   {
    "duration": 7,
    "start_time": "2023-05-04T12:57:55.917Z"
   },
   {
    "duration": 183,
    "start_time": "2023-05-04T12:57:55.926Z"
   },
   {
    "duration": 2078,
    "start_time": "2023-05-04T12:57:56.111Z"
   },
   {
    "duration": 7,
    "start_time": "2023-05-04T12:57:58.191Z"
   },
   {
    "duration": 4,
    "start_time": "2023-05-04T12:57:58.201Z"
   },
   {
    "duration": 419,
    "start_time": "2023-05-04T12:57:58.209Z"
   },
   {
    "duration": 5,
    "start_time": "2023-05-04T12:57:58.631Z"
   },
   {
    "duration": 1074,
    "start_time": "2023-05-05T08:10:58.729Z"
   },
   {
    "duration": 71,
    "start_time": "2023-05-05T08:10:59.805Z"
   },
   {
    "duration": 15,
    "start_time": "2023-05-05T08:10:59.878Z"
   },
   {
    "duration": 11,
    "start_time": "2023-05-05T08:10:59.899Z"
   },
   {
    "duration": 26,
    "start_time": "2023-05-05T08:10:59.912Z"
   },
   {
    "duration": 8,
    "start_time": "2023-05-05T08:10:59.940Z"
   },
   {
    "duration": 12,
    "start_time": "2023-05-05T08:10:59.950Z"
   },
   {
    "duration": 12,
    "start_time": "2023-05-05T08:10:59.963Z"
   },
   {
    "duration": 14,
    "start_time": "2023-05-05T08:10:59.977Z"
   },
   {
    "duration": 11,
    "start_time": "2023-05-05T08:10:59.998Z"
   },
   {
    "duration": 24,
    "start_time": "2023-05-05T08:11:00.011Z"
   },
   {
    "duration": 18,
    "start_time": "2023-05-05T08:11:00.037Z"
   },
   {
    "duration": 12,
    "start_time": "2023-05-05T08:11:00.057Z"
   },
   {
    "duration": 22,
    "start_time": "2023-05-05T08:11:00.071Z"
   },
   {
    "duration": 18,
    "start_time": "2023-05-05T08:11:00.098Z"
   },
   {
    "duration": 11,
    "start_time": "2023-05-05T08:11:00.117Z"
   },
   {
    "duration": 15,
    "start_time": "2023-05-05T08:11:00.129Z"
   },
   {
    "duration": 24,
    "start_time": "2023-05-05T08:11:00.146Z"
   },
   {
    "duration": 20,
    "start_time": "2023-05-05T08:11:00.172Z"
   },
   {
    "duration": 21,
    "start_time": "2023-05-05T08:11:00.195Z"
   },
   {
    "duration": 15,
    "start_time": "2023-05-05T08:11:00.217Z"
   },
   {
    "duration": 171,
    "start_time": "2023-05-05T08:11:00.233Z"
   },
   {
    "duration": 8,
    "start_time": "2023-05-05T08:11:00.406Z"
   },
   {
    "duration": 108,
    "start_time": "2023-05-05T08:11:00.416Z"
   },
   {
    "duration": 6,
    "start_time": "2023-05-05T08:11:00.525Z"
   },
   {
    "duration": 280,
    "start_time": "2023-05-05T08:11:00.532Z"
   },
   {
    "duration": 9,
    "start_time": "2023-05-05T08:11:00.814Z"
   },
   {
    "duration": 180,
    "start_time": "2023-05-05T08:11:00.827Z"
   },
   {
    "duration": 101,
    "start_time": "2023-05-05T08:11:01.009Z"
   },
   {
    "duration": 8,
    "start_time": "2023-05-05T08:11:01.112Z"
   },
   {
    "duration": 184,
    "start_time": "2023-05-05T08:11:01.122Z"
   },
   {
    "duration": 134,
    "start_time": "2023-05-05T08:11:01.308Z"
   },
   {
    "duration": 9,
    "start_time": "2023-05-05T08:11:01.444Z"
   },
   {
    "duration": 167,
    "start_time": "2023-05-05T08:11:01.454Z"
   },
   {
    "duration": 131,
    "start_time": "2023-05-05T08:11:01.623Z"
   },
   {
    "duration": 36,
    "start_time": "2023-05-05T08:11:01.756Z"
   },
   {
    "duration": 13,
    "start_time": "2023-05-05T08:11:01.796Z"
   },
   {
    "duration": 98,
    "start_time": "2023-05-05T08:11:01.811Z"
   },
   {
    "duration": 39,
    "start_time": "2023-05-05T08:11:01.911Z"
   },
   {
    "duration": 29,
    "start_time": "2023-05-05T08:11:01.952Z"
   },
   {
    "duration": 38,
    "start_time": "2023-05-05T08:11:01.983Z"
   },
   {
    "duration": 149,
    "start_time": "2023-05-05T08:11:02.024Z"
   },
   {
    "duration": 149,
    "start_time": "2023-05-05T08:11:02.175Z"
   },
   {
    "duration": 177,
    "start_time": "2023-05-05T08:11:02.325Z"
   },
   {
    "duration": 134,
    "start_time": "2023-05-05T08:11:02.504Z"
   },
   {
    "duration": 12,
    "start_time": "2023-05-05T08:11:02.639Z"
   },
   {
    "duration": 39,
    "start_time": "2023-05-05T08:11:02.653Z"
   },
   {
    "duration": 9,
    "start_time": "2023-05-05T08:11:02.693Z"
   },
   {
    "duration": 27,
    "start_time": "2023-05-05T08:11:02.704Z"
   },
   {
    "duration": 839,
    "start_time": "2023-05-05T08:11:02.733Z"
   },
   {
    "duration": 21,
    "start_time": "2023-05-05T08:11:03.574Z"
   },
   {
    "duration": 13,
    "start_time": "2023-05-05T08:11:03.601Z"
   },
   {
    "duration": 11,
    "start_time": "2023-05-05T08:11:03.616Z"
   },
   {
    "duration": 6,
    "start_time": "2023-05-05T08:11:03.629Z"
   },
   {
    "duration": 11,
    "start_time": "2023-05-05T08:11:03.637Z"
   },
   {
    "duration": 181,
    "start_time": "2023-05-05T08:11:03.649Z"
   },
   {
    "duration": 3,
    "start_time": "2023-05-05T08:11:03.832Z"
   },
   {
    "duration": 7,
    "start_time": "2023-05-05T08:11:03.837Z"
   },
   {
    "duration": 162,
    "start_time": "2023-05-05T08:11:03.846Z"
   },
   {
    "duration": 9,
    "start_time": "2023-05-05T08:11:04.010Z"
   },
   {
    "duration": 11,
    "start_time": "2023-05-05T08:11:04.022Z"
   },
   {
    "duration": 218,
    "start_time": "2023-05-05T08:11:04.036Z"
   },
   {
    "duration": 10,
    "start_time": "2023-05-05T08:11:04.256Z"
   },
   {
    "duration": 34,
    "start_time": "2023-05-05T08:11:04.268Z"
   },
   {
    "duration": 11,
    "start_time": "2023-05-05T08:11:04.304Z"
   },
   {
    "duration": 1714,
    "start_time": "2023-05-05T08:11:04.316Z"
   },
   {
    "duration": 5,
    "start_time": "2023-05-05T08:11:06.032Z"
   },
   {
    "duration": 174,
    "start_time": "2023-05-05T08:11:06.039Z"
   },
   {
    "duration": 2007,
    "start_time": "2023-05-05T08:11:06.215Z"
   },
   {
    "duration": 5,
    "start_time": "2023-05-05T08:11:08.224Z"
   },
   {
    "duration": 8,
    "start_time": "2023-05-05T08:11:08.231Z"
   },
   {
    "duration": 366,
    "start_time": "2023-05-05T08:11:08.241Z"
   },
   {
    "duration": 6,
    "start_time": "2023-05-05T08:11:08.609Z"
   },
   {
    "duration": 9,
    "start_time": "2023-05-05T08:43:11.146Z"
   },
   {
    "duration": 10,
    "start_time": "2023-05-05T08:46:32.483Z"
   },
   {
    "duration": 1170,
    "start_time": "2023-05-05T10:05:58.722Z"
   },
   {
    "duration": 148,
    "start_time": "2023-05-05T10:06:00.780Z"
   },
   {
    "duration": 16,
    "start_time": "2023-05-05T10:06:01.458Z"
   },
   {
    "duration": 11,
    "start_time": "2023-05-05T10:06:03.830Z"
   },
   {
    "duration": 74,
    "start_time": "2023-05-05T10:06:05.355Z"
   },
   {
    "duration": 9,
    "start_time": "2023-05-05T10:06:05.928Z"
   },
   {
    "duration": 13,
    "start_time": "2023-05-05T10:06:07.781Z"
   },
   {
    "duration": 63,
    "start_time": "2023-05-05T10:06:10.308Z"
   },
   {
    "duration": 8,
    "start_time": "2023-05-05T10:06:10.684Z"
   },
   {
    "duration": 10,
    "start_time": "2023-05-05T10:06:11.228Z"
   },
   {
    "duration": 7,
    "start_time": "2023-05-05T10:16:19.870Z"
   },
   {
    "duration": 9,
    "start_time": "2023-05-05T10:16:34.287Z"
   },
   {
    "duration": 8,
    "start_time": "2023-05-05T10:16:37.725Z"
   },
   {
    "duration": 261,
    "start_time": "2023-05-05T10:23:37.534Z"
   },
   {
    "duration": 236,
    "start_time": "2023-05-05T10:24:38.634Z"
   },
   {
    "duration": 224,
    "start_time": "2023-05-05T10:25:02.068Z"
   },
   {
    "duration": 214,
    "start_time": "2023-05-05T10:25:06.505Z"
   },
   {
    "duration": 225,
    "start_time": "2023-05-05T10:25:10.428Z"
   },
   {
    "duration": 235,
    "start_time": "2023-05-05T10:25:14.174Z"
   },
   {
    "duration": 163,
    "start_time": "2023-05-05T10:25:35.005Z"
   },
   {
    "duration": 131,
    "start_time": "2023-05-05T10:27:10.018Z"
   },
   {
    "duration": 260,
    "start_time": "2023-05-05T10:27:28.916Z"
   },
   {
    "duration": 150,
    "start_time": "2023-05-05T10:27:32.068Z"
   },
   {
    "duration": 255,
    "start_time": "2023-05-05T10:27:44.129Z"
   },
   {
    "duration": 146,
    "start_time": "2023-05-05T10:27:49.791Z"
   },
   {
    "duration": 110,
    "start_time": "2023-05-05T10:28:23.874Z"
   },
   {
    "duration": 243,
    "start_time": "2023-05-05T10:28:29.810Z"
   },
   {
    "duration": 152,
    "start_time": "2023-05-05T10:28:38.289Z"
   },
   {
    "duration": 171,
    "start_time": "2023-05-05T10:28:56.755Z"
   },
   {
    "duration": 176,
    "start_time": "2023-05-05T10:29:48.179Z"
   },
   {
    "duration": 5,
    "start_time": "2023-05-05T10:29:59.666Z"
   },
   {
    "duration": 271,
    "start_time": "2023-05-05T10:30:01.863Z"
   },
   {
    "duration": 300,
    "start_time": "2023-05-05T10:30:32.360Z"
   },
   {
    "duration": 151,
    "start_time": "2023-05-05T10:30:47.004Z"
   },
   {
    "duration": 121,
    "start_time": "2023-05-05T10:32:59.202Z"
   },
   {
    "duration": 14,
    "start_time": "2023-05-05T10:33:07.182Z"
   },
   {
    "duration": 142,
    "start_time": "2023-05-05T10:33:29.191Z"
   },
   {
    "duration": 214,
    "start_time": "2023-05-05T10:33:34.559Z"
   },
   {
    "duration": 116,
    "start_time": "2023-05-05T10:33:48.882Z"
   },
   {
    "duration": 148,
    "start_time": "2023-05-05T10:34:21.856Z"
   },
   {
    "duration": 121,
    "start_time": "2023-05-05T10:34:25.523Z"
   },
   {
    "duration": 27,
    "start_time": "2023-05-05T10:50:11.764Z"
   },
   {
    "duration": 131,
    "start_time": "2023-05-05T10:50:22.908Z"
   },
   {
    "duration": 92,
    "start_time": "2023-05-05T10:50:26.261Z"
   },
   {
    "duration": 8,
    "start_time": "2023-05-05T10:50:28.308Z"
   },
   {
    "duration": 153,
    "start_time": "2023-05-05T10:50:30.078Z"
   },
   {
    "duration": 135,
    "start_time": "2023-05-05T10:50:30.622Z"
   },
   {
    "duration": 8,
    "start_time": "2023-05-05T10:50:33.067Z"
   },
   {
    "duration": 148,
    "start_time": "2023-05-05T10:50:33.689Z"
   },
   {
    "duration": 110,
    "start_time": "2023-05-05T10:50:35.082Z"
   },
   {
    "duration": 24,
    "start_time": "2023-05-05T10:50:38.346Z"
   },
   {
    "duration": 16,
    "start_time": "2023-05-05T10:50:45.954Z"
   },
   {
    "duration": 12,
    "start_time": "2023-05-05T10:50:47.755Z"
   },
   {
    "duration": 9,
    "start_time": "2023-05-05T10:50:54.577Z"
   },
   {
    "duration": 11,
    "start_time": "2023-05-05T10:50:54.953Z"
   },
   {
    "duration": 7,
    "start_time": "2023-05-05T10:50:57.305Z"
   },
   {
    "duration": 12,
    "start_time": "2023-05-05T10:50:57.786Z"
   },
   {
    "duration": 12,
    "start_time": "2023-05-05T10:57:44.069Z"
   },
   {
    "duration": 9,
    "start_time": "2023-05-05T10:57:58.884Z"
   },
   {
    "duration": 11,
    "start_time": "2023-05-05T10:58:19.950Z"
   },
   {
    "duration": 209,
    "start_time": "2023-05-05T11:03:00.482Z"
   },
   {
    "duration": 272,
    "start_time": "2023-05-05T11:03:30.361Z"
   },
   {
    "duration": 177,
    "start_time": "2023-05-05T11:03:38.586Z"
   },
   {
    "duration": 171,
    "start_time": "2023-05-05T11:03:47.873Z"
   },
   {
    "duration": 164,
    "start_time": "2023-05-05T11:03:52.448Z"
   },
   {
    "duration": 164,
    "start_time": "2023-05-05T11:04:10.374Z"
   },
   {
    "duration": 147,
    "start_time": "2023-05-05T11:04:19.398Z"
   },
   {
    "duration": 184,
    "start_time": "2023-05-05T11:06:37.742Z"
   },
   {
    "duration": 199,
    "start_time": "2023-05-05T11:07:16.388Z"
   },
   {
    "duration": 193,
    "start_time": "2023-05-05T11:07:20.192Z"
   },
   {
    "duration": 199,
    "start_time": "2023-05-05T11:07:46.026Z"
   },
   {
    "duration": 199,
    "start_time": "2023-05-05T11:09:31.688Z"
   },
   {
    "duration": 294,
    "start_time": "2023-05-05T11:11:45.320Z"
   },
   {
    "duration": 217,
    "start_time": "2023-05-05T11:11:50.431Z"
   },
   {
    "duration": 195,
    "start_time": "2023-05-05T11:11:57.966Z"
   },
   {
    "duration": 8,
    "start_time": "2023-05-05T11:19:44.660Z"
   },
   {
    "duration": 9,
    "start_time": "2023-05-05T11:19:55.417Z"
   },
   {
    "duration": 14,
    "start_time": "2023-05-05T11:23:21.130Z"
   },
   {
    "duration": 18,
    "start_time": "2023-05-05T11:26:58.426Z"
   },
   {
    "duration": 12,
    "start_time": "2023-05-05T11:32:24.319Z"
   },
   {
    "duration": 16,
    "start_time": "2023-05-05T11:32:25.040Z"
   },
   {
    "duration": 1062,
    "start_time": "2023-05-05T11:32:55.157Z"
   },
   {
    "duration": 78,
    "start_time": "2023-05-05T11:32:56.221Z"
   },
   {
    "duration": 12,
    "start_time": "2023-05-05T11:32:56.300Z"
   },
   {
    "duration": 11,
    "start_time": "2023-05-05T11:32:56.314Z"
   },
   {
    "duration": 27,
    "start_time": "2023-05-05T11:32:56.326Z"
   },
   {
    "duration": 8,
    "start_time": "2023-05-05T11:32:56.355Z"
   },
   {
    "duration": 22,
    "start_time": "2023-05-05T11:32:56.365Z"
   },
   {
    "duration": 12,
    "start_time": "2023-05-05T11:32:56.389Z"
   },
   {
    "duration": 7,
    "start_time": "2023-05-05T11:32:56.403Z"
   },
   {
    "duration": 10,
    "start_time": "2023-05-05T11:32:56.412Z"
   },
   {
    "duration": 7,
    "start_time": "2023-05-05T11:32:56.424Z"
   },
   {
    "duration": 10,
    "start_time": "2023-05-05T11:32:56.433Z"
   },
   {
    "duration": 4,
    "start_time": "2023-05-05T11:32:56.445Z"
   },
   {
    "duration": 40,
    "start_time": "2023-05-05T11:32:56.451Z"
   },
   {
    "duration": 5,
    "start_time": "2023-05-05T11:32:56.493Z"
   },
   {
    "duration": 6,
    "start_time": "2023-05-05T11:32:56.499Z"
   },
   {
    "duration": 6,
    "start_time": "2023-05-05T11:32:56.507Z"
   },
   {
    "duration": 6,
    "start_time": "2023-05-05T11:32:56.514Z"
   },
   {
    "duration": 9,
    "start_time": "2023-05-05T11:32:56.522Z"
   },
   {
    "duration": 5,
    "start_time": "2023-05-05T11:32:56.533Z"
   },
   {
    "duration": 7,
    "start_time": "2023-05-05T11:32:56.540Z"
   },
   {
    "duration": 6,
    "start_time": "2023-05-05T11:32:56.586Z"
   },
   {
    "duration": 175,
    "start_time": "2023-05-05T11:32:56.593Z"
   },
   {
    "duration": 16,
    "start_time": "2023-05-05T11:32:56.770Z"
   },
   {
    "duration": 132,
    "start_time": "2023-05-05T11:32:56.787Z"
   },
   {
    "duration": 5,
    "start_time": "2023-05-05T11:32:56.921Z"
   },
   {
    "duration": 271,
    "start_time": "2023-05-05T11:32:56.928Z"
   },
   {
    "duration": 9,
    "start_time": "2023-05-05T11:32:57.203Z"
   },
   {
    "duration": 160,
    "start_time": "2023-05-05T11:32:57.213Z"
   },
   {
    "duration": 111,
    "start_time": "2023-05-05T11:32:57.374Z"
   },
   {
    "duration": 9,
    "start_time": "2023-05-05T11:32:57.487Z"
   },
   {
    "duration": 182,
    "start_time": "2023-05-05T11:32:57.498Z"
   },
   {
    "duration": 130,
    "start_time": "2023-05-05T11:32:57.682Z"
   },
   {
    "duration": 8,
    "start_time": "2023-05-05T11:32:57.814Z"
   },
   {
    "duration": 163,
    "start_time": "2023-05-05T11:32:57.824Z"
   },
   {
    "duration": 136,
    "start_time": "2023-05-05T11:32:57.989Z"
   },
   {
    "duration": 17,
    "start_time": "2023-05-05T11:32:58.126Z"
   },
   {
    "duration": 13,
    "start_time": "2023-05-05T11:32:58.145Z"
   },
   {
    "duration": 108,
    "start_time": "2023-05-05T11:32:58.159Z"
   },
   {
    "duration": 22,
    "start_time": "2023-05-05T11:32:58.269Z"
   },
   {
    "duration": 13,
    "start_time": "2023-05-05T11:32:58.293Z"
   },
   {
    "duration": 15,
    "start_time": "2023-05-05T11:32:58.308Z"
   },
   {
    "duration": 10,
    "start_time": "2023-05-05T11:32:58.325Z"
   },
   {
    "duration": 10,
    "start_time": "2023-05-05T11:32:58.336Z"
   },
   {
    "duration": 38,
    "start_time": "2023-05-05T11:32:58.348Z"
   },
   {
    "duration": 231,
    "start_time": "2023-05-05T11:32:58.387Z"
   },
   {
    "duration": 209,
    "start_time": "2023-05-05T11:32:58.620Z"
   },
   {
    "duration": 14,
    "start_time": "2023-05-05T11:32:58.831Z"
   },
   {
    "duration": 38,
    "start_time": "2023-05-05T11:32:58.847Z"
   },
   {
    "duration": 3,
    "start_time": "2023-05-05T11:32:58.887Z"
   },
   {
    "duration": 34,
    "start_time": "2023-05-05T11:32:58.892Z"
   },
   {
    "duration": 858,
    "start_time": "2023-05-05T11:32:58.928Z"
   },
   {
    "duration": 8,
    "start_time": "2023-05-05T11:32:59.788Z"
   },
   {
    "duration": 29,
    "start_time": "2023-05-05T11:32:59.798Z"
   },
   {
    "duration": 20,
    "start_time": "2023-05-05T11:32:59.829Z"
   },
   {
    "duration": 5,
    "start_time": "2023-05-05T11:32:59.851Z"
   },
   {
    "duration": 13,
    "start_time": "2023-05-05T11:32:59.857Z"
   },
   {
    "duration": 13,
    "start_time": "2023-05-05T11:32:59.871Z"
   },
   {
    "duration": 170,
    "start_time": "2023-05-05T11:32:59.886Z"
   },
   {
    "duration": 9,
    "start_time": "2023-05-05T11:33:00.057Z"
   },
   {
    "duration": 18,
    "start_time": "2023-05-05T11:33:00.068Z"
   },
   {
    "duration": 3,
    "start_time": "2023-05-05T11:33:00.088Z"
   },
   {
    "duration": 29,
    "start_time": "2023-05-05T11:33:00.092Z"
   },
   {
    "duration": 143,
    "start_time": "2023-05-05T11:33:00.123Z"
   },
   {
    "duration": 7,
    "start_time": "2023-05-05T11:33:00.268Z"
   },
   {
    "duration": 20,
    "start_time": "2023-05-05T11:33:00.285Z"
   },
   {
    "duration": 189,
    "start_time": "2023-05-05T11:33:00.306Z"
   },
   {
    "duration": 10,
    "start_time": "2023-05-05T11:33:00.497Z"
   },
   {
    "duration": 34,
    "start_time": "2023-05-05T11:33:00.508Z"
   },
   {
    "duration": 31,
    "start_time": "2023-05-05T11:33:00.544Z"
   },
   {
    "duration": 1761,
    "start_time": "2023-05-05T11:33:00.577Z"
   },
   {
    "duration": 6,
    "start_time": "2023-05-05T11:33:02.340Z"
   },
   {
    "duration": 198,
    "start_time": "2023-05-05T11:33:02.348Z"
   },
   {
    "duration": 2060,
    "start_time": "2023-05-05T11:33:02.548Z"
   },
   {
    "duration": 4,
    "start_time": "2023-05-05T11:33:04.610Z"
   },
   {
    "duration": 7,
    "start_time": "2023-05-05T11:33:04.615Z"
   },
   {
    "duration": 221,
    "start_time": "2023-05-05T11:33:04.624Z"
   },
   {
    "duration": 5,
    "start_time": "2023-05-05T11:33:04.847Z"
   },
   {
    "duration": 6,
    "start_time": "2023-05-05T11:33:42.574Z"
   },
   {
    "duration": 14,
    "start_time": "2023-05-05T11:33:43.240Z"
   },
   {
    "duration": 8,
    "start_time": "2023-05-05T11:33:49.313Z"
   },
   {
    "duration": 213,
    "start_time": "2023-05-05T11:35:11.369Z"
   },
   {
    "duration": 428,
    "start_time": "2023-05-05T11:35:17.950Z"
   },
   {
    "duration": 144,
    "start_time": "2023-05-05T11:44:17.687Z"
   },
   {
    "duration": 217,
    "start_time": "2023-05-05T11:45:12.118Z"
   },
   {
    "duration": 1220,
    "start_time": "2023-05-06T06:26:25.945Z"
   },
   {
    "duration": 153,
    "start_time": "2023-05-06T06:26:27.167Z"
   },
   {
    "duration": 16,
    "start_time": "2023-05-06T06:26:27.323Z"
   },
   {
    "duration": 14,
    "start_time": "2023-05-06T06:26:27.342Z"
   },
   {
    "duration": 76,
    "start_time": "2023-05-06T06:26:27.358Z"
   },
   {
    "duration": 13,
    "start_time": "2023-05-06T06:26:27.437Z"
   },
   {
    "duration": 18,
    "start_time": "2023-05-06T06:26:27.452Z"
   },
   {
    "duration": 59,
    "start_time": "2023-05-06T06:26:27.473Z"
   },
   {
    "duration": 9,
    "start_time": "2023-05-06T06:26:27.535Z"
   },
   {
    "duration": 14,
    "start_time": "2023-05-06T06:26:27.547Z"
   },
   {
    "duration": 10,
    "start_time": "2023-05-06T06:26:27.563Z"
   },
   {
    "duration": 15,
    "start_time": "2023-05-06T06:26:27.575Z"
   },
   {
    "duration": 5,
    "start_time": "2023-05-06T06:26:27.592Z"
   },
   {
    "duration": 15,
    "start_time": "2023-05-06T06:26:27.601Z"
   },
   {
    "duration": 7,
    "start_time": "2023-05-06T06:26:27.618Z"
   },
   {
    "duration": 8,
    "start_time": "2023-05-06T06:26:27.627Z"
   },
   {
    "duration": 8,
    "start_time": "2023-05-06T06:26:27.637Z"
   },
   {
    "duration": 6,
    "start_time": "2023-05-06T06:26:27.646Z"
   },
   {
    "duration": 7,
    "start_time": "2023-05-06T06:26:27.654Z"
   },
   {
    "duration": 5,
    "start_time": "2023-05-06T06:26:27.692Z"
   },
   {
    "duration": 11,
    "start_time": "2023-05-06T06:26:27.699Z"
   },
   {
    "duration": 5,
    "start_time": "2023-05-06T06:26:27.712Z"
   },
   {
    "duration": 200,
    "start_time": "2023-05-06T06:26:27.719Z"
   },
   {
    "duration": 8,
    "start_time": "2023-05-06T06:26:27.921Z"
   },
   {
    "duration": 134,
    "start_time": "2023-05-06T06:26:27.931Z"
   },
   {
    "duration": 6,
    "start_time": "2023-05-06T06:26:28.067Z"
   },
   {
    "duration": 250,
    "start_time": "2023-05-06T06:26:28.074Z"
   },
   {
    "duration": 8,
    "start_time": "2023-05-06T06:26:28.328Z"
   },
   {
    "duration": 151,
    "start_time": "2023-05-06T06:26:28.338Z"
   },
   {
    "duration": 102,
    "start_time": "2023-05-06T06:26:28.491Z"
   },
   {
    "duration": 8,
    "start_time": "2023-05-06T06:26:28.594Z"
   },
   {
    "duration": 165,
    "start_time": "2023-05-06T06:26:28.604Z"
   },
   {
    "duration": 125,
    "start_time": "2023-05-06T06:26:28.771Z"
   },
   {
    "duration": 9,
    "start_time": "2023-05-06T06:26:28.897Z"
   },
   {
    "duration": 157,
    "start_time": "2023-05-06T06:26:28.907Z"
   },
   {
    "duration": 130,
    "start_time": "2023-05-06T06:26:29.065Z"
   },
   {
    "duration": 18,
    "start_time": "2023-05-06T06:26:29.197Z"
   },
   {
    "duration": 14,
    "start_time": "2023-05-06T06:26:29.217Z"
   },
   {
    "duration": 113,
    "start_time": "2023-05-06T06:26:29.233Z"
   },
   {
    "duration": 15,
    "start_time": "2023-05-06T06:26:29.349Z"
   },
   {
    "duration": 26,
    "start_time": "2023-05-06T06:26:29.365Z"
   },
   {
    "duration": 14,
    "start_time": "2023-05-06T06:26:29.393Z"
   },
   {
    "duration": 6,
    "start_time": "2023-05-06T06:26:29.408Z"
   },
   {
    "duration": 10,
    "start_time": "2023-05-06T06:26:29.416Z"
   },
   {
    "duration": 7,
    "start_time": "2023-05-06T06:26:29.427Z"
   },
   {
    "duration": 202,
    "start_time": "2023-05-06T06:26:29.435Z"
   },
   {
    "duration": 178,
    "start_time": "2023-05-06T06:26:29.639Z"
   },
   {
    "duration": 12,
    "start_time": "2023-05-06T06:26:29.818Z"
   },
   {
    "duration": 21,
    "start_time": "2023-05-06T06:26:29.832Z"
   },
   {
    "duration": 3,
    "start_time": "2023-05-06T06:26:29.855Z"
   },
   {
    "duration": 15,
    "start_time": "2023-05-06T06:26:29.859Z"
   },
   {
    "duration": 806,
    "start_time": "2023-05-06T06:26:29.875Z"
   },
   {
    "duration": 15,
    "start_time": "2023-05-06T06:26:30.683Z"
   },
   {
    "duration": 32,
    "start_time": "2023-05-06T06:26:30.700Z"
   },
   {
    "duration": 34,
    "start_time": "2023-05-06T06:26:30.734Z"
   },
   {
    "duration": 31,
    "start_time": "2023-05-06T06:26:30.770Z"
   },
   {
    "duration": 34,
    "start_time": "2023-05-06T06:26:30.803Z"
   },
   {
    "duration": 75,
    "start_time": "2023-05-06T06:26:30.838Z"
   },
   {
    "duration": 224,
    "start_time": "2023-05-06T06:26:30.915Z"
   },
   {
    "duration": 8,
    "start_time": "2023-05-06T06:26:31.141Z"
   },
   {
    "duration": 48,
    "start_time": "2023-05-06T06:26:31.150Z"
   },
   {
    "duration": 14,
    "start_time": "2023-05-06T06:26:31.200Z"
   },
   {
    "duration": 28,
    "start_time": "2023-05-06T06:26:31.216Z"
   },
   {
    "duration": 181,
    "start_time": "2023-05-06T06:26:31.246Z"
   },
   {
    "duration": 9,
    "start_time": "2023-05-06T06:26:31.428Z"
   },
   {
    "duration": 23,
    "start_time": "2023-05-06T06:26:31.438Z"
   },
   {
    "duration": 237,
    "start_time": "2023-05-06T06:26:31.462Z"
   },
   {
    "duration": 12,
    "start_time": "2023-05-06T06:26:31.701Z"
   },
   {
    "duration": 13,
    "start_time": "2023-05-06T06:26:31.715Z"
   },
   {
    "duration": 29,
    "start_time": "2023-05-06T06:26:31.730Z"
   },
   {
    "duration": 1639,
    "start_time": "2023-05-06T06:26:31.761Z"
   },
   {
    "duration": 6,
    "start_time": "2023-05-06T06:26:33.402Z"
   },
   {
    "duration": 161,
    "start_time": "2023-05-06T06:26:33.409Z"
   },
   {
    "duration": 1896,
    "start_time": "2023-05-06T06:26:33.572Z"
   },
   {
    "duration": 4,
    "start_time": "2023-05-06T06:26:35.469Z"
   },
   {
    "duration": 18,
    "start_time": "2023-05-06T06:26:35.475Z"
   },
   {
    "duration": 215,
    "start_time": "2023-05-06T06:26:35.495Z"
   },
   {
    "duration": 5,
    "start_time": "2023-05-06T06:26:35.712Z"
   }
  ],
  "kernelspec": {
   "display_name": "Python 3 (ipykernel)",
   "language": "python",
   "name": "python3"
  },
  "language_info": {
   "codemirror_mode": {
    "name": "ipython",
    "version": 3
   },
   "file_extension": ".py",
   "mimetype": "text/x-python",
   "name": "python",
   "nbconvert_exporter": "python",
   "pygments_lexer": "ipython3",
   "version": "3.9.12"
  },
  "toc": {
   "base_numbering": 1,
   "nav_menu": {},
   "number_sections": true,
   "sideBar": true,
   "skip_h1_title": true,
   "title_cell": "Table of Contents",
   "title_sidebar": "Contents",
   "toc_cell": true,
   "toc_position": {
    "height": "calc(100% - 180px)",
    "left": "10px",
    "top": "150px",
    "width": "371px"
   },
   "toc_section_display": true,
   "toc_window_display": false
  }
 },
 "nbformat": 4,
 "nbformat_minor": 5
}
