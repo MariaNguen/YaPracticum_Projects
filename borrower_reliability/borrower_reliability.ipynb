{
 "cells": [
  {
   "cell_type": "markdown",
   "id": "5f615648",
   "metadata": {
    "deletable": false,
    "editable": false,
    "id": "c81daeeb"
   },
   "source": [
    "# Исследование надежности заемщиков\n"
   ]
  },
  {
   "cell_type": "markdown",
   "id": "b764926f",
   "metadata": {
    "deletable": false,
    "editable": false,
    "id": "827c20bf"
   },
   "source": [
    "Во второй части проекта вы выполните шаги 3 и 4. Их вручную проверит ревьюер.\n",
    "Чтобы вам не пришлось писать код заново для шагов 1 и 2, мы добавили авторские решения в ячейки с кодом. \n",
    "\n"
   ]
  },
  {
   "cell_type": "markdown",
   "id": "21b428ec",
   "metadata": {
    "toc": true
   },
   "source": [
    "<h1>Table of Contents<span class=\"tocSkip\"></span></h1>\n",
    "<div class=\"toc\"><ul class=\"toc-item\"><li><span><a href=\"#Откройте-таблицу-и-изучите-общую-информацию-о-данных\" data-toc-modified-id=\"Откройте-таблицу-и-изучите-общую-информацию-о-данных-1\"><span class=\"toc-item-num\">1&nbsp;&nbsp;</span>Откройте таблицу и изучите общую информацию о данных</a></span></li><li><span><a href=\"#Предобработка-данных\" data-toc-modified-id=\"Предобработка-данных-2\"><span class=\"toc-item-num\">2&nbsp;&nbsp;</span>Предобработка данных</a></span><ul class=\"toc-item\"><li><span><a href=\"#Удаление-пропусков\" data-toc-modified-id=\"Удаление-пропусков-2.1\"><span class=\"toc-item-num\">2.1&nbsp;&nbsp;</span>Удаление пропусков</a></span></li><li><span><a href=\"#Обработка-аномальных-значений\" data-toc-modified-id=\"Обработка-аномальных-значений-2.2\"><span class=\"toc-item-num\">2.2&nbsp;&nbsp;</span>Обработка аномальных значений</a></span></li><li><span><a href=\"#Удаление-пропусков-(продолжение)\" data-toc-modified-id=\"Удаление-пропусков-(продолжение)-2.3\"><span class=\"toc-item-num\">2.3&nbsp;&nbsp;</span>Удаление пропусков (продолжение)</a></span></li><li><span><a href=\"#Изменение-типов-данных\" data-toc-modified-id=\"Изменение-типов-данных-2.4\"><span class=\"toc-item-num\">2.4&nbsp;&nbsp;</span>Изменение типов данных</a></span></li><li><span><a href=\"#Обработка-дубликатов\" data-toc-modified-id=\"Обработка-дубликатов-2.5\"><span class=\"toc-item-num\">2.5&nbsp;&nbsp;</span>Обработка дубликатов</a></span></li><li><span><a href=\"#Категоризация-данных\" data-toc-modified-id=\"Категоризация-данных-2.6\"><span class=\"toc-item-num\">2.6&nbsp;&nbsp;</span>Категоризация данных</a></span></li><li><span><a href=\"#Шаг-3.-Исследуйте-данные-и-ответьте-на-вопросы\" data-toc-modified-id=\"Шаг-3.-Исследуйте-данные-и-ответьте-на-вопросы-2.7\"><span class=\"toc-item-num\">2.7&nbsp;&nbsp;</span>Шаг 3. Исследуйте данные и ответьте на вопросы</a></span><ul class=\"toc-item\"><li><span><a href=\"#3.1-Есть-ли-зависимость-между-количеством-детей-и-возвратом-кредита-в-срок?\" data-toc-modified-id=\"3.1-Есть-ли-зависимость-между-количеством-детей-и-возвратом-кредита-в-срок?-2.7.1\"><span class=\"toc-item-num\">2.7.1&nbsp;&nbsp;</span>3.1 Есть ли зависимость между количеством детей и возвратом кредита в срок?</a></span></li><li><span><a href=\"#3.2-Есть-ли-зависимость-между-семейным-положением-и-возвратом-кредита-в-срок?\" data-toc-modified-id=\"3.2-Есть-ли-зависимость-между-семейным-положением-и-возвратом-кредита-в-срок?-2.7.2\"><span class=\"toc-item-num\">2.7.2&nbsp;&nbsp;</span>3.2 Есть ли зависимость между семейным положением и возвратом кредита в срок?</a></span></li><li><span><a href=\"#3.3-Есть-ли-зависимость-между-уровнем-дохода-и-возвратом-кредита-в-срок?\" data-toc-modified-id=\"3.3-Есть-ли-зависимость-между-уровнем-дохода-и-возвратом-кредита-в-срок?-2.7.3\"><span class=\"toc-item-num\">2.7.3&nbsp;&nbsp;</span>3.3 Есть ли зависимость между уровнем дохода и возвратом кредита в срок?</a></span></li><li><span><a href=\"#3.4-Как-разные-цели-кредита-влияют-на-его-возврат-в-срок?\" data-toc-modified-id=\"3.4-Как-разные-цели-кредита-влияют-на-его-возврат-в-срок?-2.7.4\"><span class=\"toc-item-num\">2.7.4&nbsp;&nbsp;</span>3.4 Как разные цели кредита влияют на его возврат в срок?</a></span></li><li><span><a href=\"#3.5-Приведите-возможные-причины-появления-пропусков-в-исходных-данных.\" data-toc-modified-id=\"3.5-Приведите-возможные-причины-появления-пропусков-в-исходных-данных.-2.7.5\"><span class=\"toc-item-num\">2.7.5&nbsp;&nbsp;</span>3.5 Приведите возможные причины появления пропусков в исходных данных.</a></span></li><li><span><a href=\"#3.6-Объясните,-почему-заполнить-пропуски-медианным-значением-—-лучшее-решение-для-количественных-переменных.\" data-toc-modified-id=\"3.6-Объясните,-почему-заполнить-пропуски-медианным-значением-—-лучшее-решение-для-количественных-переменных.-2.7.6\"><span class=\"toc-item-num\">2.7.6&nbsp;&nbsp;</span>3.6 Объясните, почему заполнить пропуски медианным значением — лучшее решение для количественных переменных.</a></span></li></ul></li><li><span><a href=\"#Шаг-4:-общий-вывод.\" data-toc-modified-id=\"Шаг-4:-общий-вывод.-2.8\"><span class=\"toc-item-num\">2.8&nbsp;&nbsp;</span>Шаг 4: общий вывод.</a></span></li></ul></li></ul></div>"
   ]
  },
  {
   "cell_type": "markdown",
   "id": "f9776170",
   "metadata": {
    "deletable": false,
    "editable": false,
    "id": "744d7639"
   },
   "source": [
    "## Откройте таблицу и изучите общую информацию о данных"
   ]
  },
  {
   "cell_type": "markdown",
   "id": "a11bd0e7",
   "metadata": {
    "deletable": false,
    "editable": false,
    "id": "e7a14c31"
   },
   "source": [
    "**Задание 1. Импортируйте библиотеку pandas. Считайте данные из csv-файла в датафрейм и сохраните в переменную `data`. Путь к файлу:**\n",
    "\n",
    "`/datasets/data.csv`"
   ]
  },
  {
   "cell_type": "code",
   "execution_count": 1,
   "id": "1847a89c",
   "metadata": {
    "deletable": false,
    "id": "7bcf75c9"
   },
   "outputs": [],
   "source": [
    "import pandas as pd\n",
    "\n",
    "try:\n",
    "    data = pd.read_csv('/datasets/data.csv')\n",
    "except:\n",
    "    data = pd.read_csv('https://code.s3.yandex.net/datasets/data.csv')"
   ]
  },
  {
   "cell_type": "markdown",
   "id": "14a68332",
   "metadata": {
    "deletable": false,
    "editable": false,
    "id": "b8038fe3"
   },
   "source": [
    "**Задание 2. Выведите первые 20 строчек датафрейма `data` на экран.**"
   ]
  },
  {
   "cell_type": "code",
   "execution_count": 2,
   "id": "156dc8aa",
   "metadata": {
    "deletable": false,
    "id": "2a7cab99",
    "outputId": "1a8f3ef2-d323-4ec2-ddf7-89670b5944c4"
   },
   "outputs": [
    {
     "data": {
      "text/html": [
       "<div>\n",
       "<style scoped>\n",
       "    .dataframe tbody tr th:only-of-type {\n",
       "        vertical-align: middle;\n",
       "    }\n",
       "\n",
       "    .dataframe tbody tr th {\n",
       "        vertical-align: top;\n",
       "    }\n",
       "\n",
       "    .dataframe thead th {\n",
       "        text-align: right;\n",
       "    }\n",
       "</style>\n",
       "<table border=\"1\" class=\"dataframe\">\n",
       "  <thead>\n",
       "    <tr style=\"text-align: right;\">\n",
       "      <th></th>\n",
       "      <th>children</th>\n",
       "      <th>days_employed</th>\n",
       "      <th>dob_years</th>\n",
       "      <th>education</th>\n",
       "      <th>education_id</th>\n",
       "      <th>family_status</th>\n",
       "      <th>family_status_id</th>\n",
       "      <th>gender</th>\n",
       "      <th>income_type</th>\n",
       "      <th>debt</th>\n",
       "      <th>total_income</th>\n",
       "      <th>purpose</th>\n",
       "    </tr>\n",
       "  </thead>\n",
       "  <tbody>\n",
       "    <tr>\n",
       "      <th>0</th>\n",
       "      <td>1</td>\n",
       "      <td>-8437.673028</td>\n",
       "      <td>42</td>\n",
       "      <td>высшее</td>\n",
       "      <td>0</td>\n",
       "      <td>женат / замужем</td>\n",
       "      <td>0</td>\n",
       "      <td>F</td>\n",
       "      <td>сотрудник</td>\n",
       "      <td>0</td>\n",
       "      <td>253875.639453</td>\n",
       "      <td>покупка жилья</td>\n",
       "    </tr>\n",
       "    <tr>\n",
       "      <th>1</th>\n",
       "      <td>1</td>\n",
       "      <td>-4024.803754</td>\n",
       "      <td>36</td>\n",
       "      <td>среднее</td>\n",
       "      <td>1</td>\n",
       "      <td>женат / замужем</td>\n",
       "      <td>0</td>\n",
       "      <td>F</td>\n",
       "      <td>сотрудник</td>\n",
       "      <td>0</td>\n",
       "      <td>112080.014102</td>\n",
       "      <td>приобретение автомобиля</td>\n",
       "    </tr>\n",
       "    <tr>\n",
       "      <th>2</th>\n",
       "      <td>0</td>\n",
       "      <td>-5623.422610</td>\n",
       "      <td>33</td>\n",
       "      <td>Среднее</td>\n",
       "      <td>1</td>\n",
       "      <td>женат / замужем</td>\n",
       "      <td>0</td>\n",
       "      <td>M</td>\n",
       "      <td>сотрудник</td>\n",
       "      <td>0</td>\n",
       "      <td>145885.952297</td>\n",
       "      <td>покупка жилья</td>\n",
       "    </tr>\n",
       "    <tr>\n",
       "      <th>3</th>\n",
       "      <td>3</td>\n",
       "      <td>-4124.747207</td>\n",
       "      <td>32</td>\n",
       "      <td>среднее</td>\n",
       "      <td>1</td>\n",
       "      <td>женат / замужем</td>\n",
       "      <td>0</td>\n",
       "      <td>M</td>\n",
       "      <td>сотрудник</td>\n",
       "      <td>0</td>\n",
       "      <td>267628.550329</td>\n",
       "      <td>дополнительное образование</td>\n",
       "    </tr>\n",
       "    <tr>\n",
       "      <th>4</th>\n",
       "      <td>0</td>\n",
       "      <td>340266.072047</td>\n",
       "      <td>53</td>\n",
       "      <td>среднее</td>\n",
       "      <td>1</td>\n",
       "      <td>гражданский брак</td>\n",
       "      <td>1</td>\n",
       "      <td>F</td>\n",
       "      <td>пенсионер</td>\n",
       "      <td>0</td>\n",
       "      <td>158616.077870</td>\n",
       "      <td>сыграть свадьбу</td>\n",
       "    </tr>\n",
       "    <tr>\n",
       "      <th>5</th>\n",
       "      <td>0</td>\n",
       "      <td>-926.185831</td>\n",
       "      <td>27</td>\n",
       "      <td>высшее</td>\n",
       "      <td>0</td>\n",
       "      <td>гражданский брак</td>\n",
       "      <td>1</td>\n",
       "      <td>M</td>\n",
       "      <td>компаньон</td>\n",
       "      <td>0</td>\n",
       "      <td>255763.565419</td>\n",
       "      <td>покупка жилья</td>\n",
       "    </tr>\n",
       "    <tr>\n",
       "      <th>6</th>\n",
       "      <td>0</td>\n",
       "      <td>-2879.202052</td>\n",
       "      <td>43</td>\n",
       "      <td>высшее</td>\n",
       "      <td>0</td>\n",
       "      <td>женат / замужем</td>\n",
       "      <td>0</td>\n",
       "      <td>F</td>\n",
       "      <td>компаньон</td>\n",
       "      <td>0</td>\n",
       "      <td>240525.971920</td>\n",
       "      <td>операции с жильем</td>\n",
       "    </tr>\n",
       "    <tr>\n",
       "      <th>7</th>\n",
       "      <td>0</td>\n",
       "      <td>-152.779569</td>\n",
       "      <td>50</td>\n",
       "      <td>СРЕДНЕЕ</td>\n",
       "      <td>1</td>\n",
       "      <td>женат / замужем</td>\n",
       "      <td>0</td>\n",
       "      <td>M</td>\n",
       "      <td>сотрудник</td>\n",
       "      <td>0</td>\n",
       "      <td>135823.934197</td>\n",
       "      <td>образование</td>\n",
       "    </tr>\n",
       "    <tr>\n",
       "      <th>8</th>\n",
       "      <td>2</td>\n",
       "      <td>-6929.865299</td>\n",
       "      <td>35</td>\n",
       "      <td>ВЫСШЕЕ</td>\n",
       "      <td>0</td>\n",
       "      <td>гражданский брак</td>\n",
       "      <td>1</td>\n",
       "      <td>F</td>\n",
       "      <td>сотрудник</td>\n",
       "      <td>0</td>\n",
       "      <td>95856.832424</td>\n",
       "      <td>на проведение свадьбы</td>\n",
       "    </tr>\n",
       "    <tr>\n",
       "      <th>9</th>\n",
       "      <td>0</td>\n",
       "      <td>-2188.756445</td>\n",
       "      <td>41</td>\n",
       "      <td>среднее</td>\n",
       "      <td>1</td>\n",
       "      <td>женат / замужем</td>\n",
       "      <td>0</td>\n",
       "      <td>M</td>\n",
       "      <td>сотрудник</td>\n",
       "      <td>0</td>\n",
       "      <td>144425.938277</td>\n",
       "      <td>покупка жилья для семьи</td>\n",
       "    </tr>\n",
       "    <tr>\n",
       "      <th>10</th>\n",
       "      <td>2</td>\n",
       "      <td>-4171.483647</td>\n",
       "      <td>36</td>\n",
       "      <td>высшее</td>\n",
       "      <td>0</td>\n",
       "      <td>женат / замужем</td>\n",
       "      <td>0</td>\n",
       "      <td>M</td>\n",
       "      <td>компаньон</td>\n",
       "      <td>0</td>\n",
       "      <td>113943.491460</td>\n",
       "      <td>покупка недвижимости</td>\n",
       "    </tr>\n",
       "    <tr>\n",
       "      <th>11</th>\n",
       "      <td>0</td>\n",
       "      <td>-792.701887</td>\n",
       "      <td>40</td>\n",
       "      <td>среднее</td>\n",
       "      <td>1</td>\n",
       "      <td>женат / замужем</td>\n",
       "      <td>0</td>\n",
       "      <td>F</td>\n",
       "      <td>сотрудник</td>\n",
       "      <td>0</td>\n",
       "      <td>77069.234271</td>\n",
       "      <td>покупка коммерческой недвижимости</td>\n",
       "    </tr>\n",
       "    <tr>\n",
       "      <th>12</th>\n",
       "      <td>0</td>\n",
       "      <td>NaN</td>\n",
       "      <td>65</td>\n",
       "      <td>среднее</td>\n",
       "      <td>1</td>\n",
       "      <td>гражданский брак</td>\n",
       "      <td>1</td>\n",
       "      <td>M</td>\n",
       "      <td>пенсионер</td>\n",
       "      <td>0</td>\n",
       "      <td>NaN</td>\n",
       "      <td>сыграть свадьбу</td>\n",
       "    </tr>\n",
       "    <tr>\n",
       "      <th>13</th>\n",
       "      <td>0</td>\n",
       "      <td>-1846.641941</td>\n",
       "      <td>54</td>\n",
       "      <td>неоконченное высшее</td>\n",
       "      <td>2</td>\n",
       "      <td>женат / замужем</td>\n",
       "      <td>0</td>\n",
       "      <td>F</td>\n",
       "      <td>сотрудник</td>\n",
       "      <td>0</td>\n",
       "      <td>130458.228857</td>\n",
       "      <td>приобретение автомобиля</td>\n",
       "    </tr>\n",
       "    <tr>\n",
       "      <th>14</th>\n",
       "      <td>0</td>\n",
       "      <td>-1844.956182</td>\n",
       "      <td>56</td>\n",
       "      <td>высшее</td>\n",
       "      <td>0</td>\n",
       "      <td>гражданский брак</td>\n",
       "      <td>1</td>\n",
       "      <td>F</td>\n",
       "      <td>компаньон</td>\n",
       "      <td>1</td>\n",
       "      <td>165127.911772</td>\n",
       "      <td>покупка жилой недвижимости</td>\n",
       "    </tr>\n",
       "    <tr>\n",
       "      <th>15</th>\n",
       "      <td>1</td>\n",
       "      <td>-972.364419</td>\n",
       "      <td>26</td>\n",
       "      <td>среднее</td>\n",
       "      <td>1</td>\n",
       "      <td>женат / замужем</td>\n",
       "      <td>0</td>\n",
       "      <td>F</td>\n",
       "      <td>сотрудник</td>\n",
       "      <td>0</td>\n",
       "      <td>116820.904450</td>\n",
       "      <td>строительство собственной недвижимости</td>\n",
       "    </tr>\n",
       "    <tr>\n",
       "      <th>16</th>\n",
       "      <td>0</td>\n",
       "      <td>-1719.934226</td>\n",
       "      <td>35</td>\n",
       "      <td>среднее</td>\n",
       "      <td>1</td>\n",
       "      <td>женат / замужем</td>\n",
       "      <td>0</td>\n",
       "      <td>F</td>\n",
       "      <td>сотрудник</td>\n",
       "      <td>0</td>\n",
       "      <td>289202.704229</td>\n",
       "      <td>недвижимость</td>\n",
       "    </tr>\n",
       "    <tr>\n",
       "      <th>17</th>\n",
       "      <td>0</td>\n",
       "      <td>-2369.999720</td>\n",
       "      <td>33</td>\n",
       "      <td>высшее</td>\n",
       "      <td>0</td>\n",
       "      <td>гражданский брак</td>\n",
       "      <td>1</td>\n",
       "      <td>M</td>\n",
       "      <td>сотрудник</td>\n",
       "      <td>0</td>\n",
       "      <td>90410.586745</td>\n",
       "      <td>строительство недвижимости</td>\n",
       "    </tr>\n",
       "    <tr>\n",
       "      <th>18</th>\n",
       "      <td>0</td>\n",
       "      <td>400281.136913</td>\n",
       "      <td>53</td>\n",
       "      <td>среднее</td>\n",
       "      <td>1</td>\n",
       "      <td>вдовец / вдова</td>\n",
       "      <td>2</td>\n",
       "      <td>F</td>\n",
       "      <td>пенсионер</td>\n",
       "      <td>0</td>\n",
       "      <td>56823.777243</td>\n",
       "      <td>на покупку подержанного автомобиля</td>\n",
       "    </tr>\n",
       "    <tr>\n",
       "      <th>19</th>\n",
       "      <td>0</td>\n",
       "      <td>-10038.818549</td>\n",
       "      <td>48</td>\n",
       "      <td>СРЕДНЕЕ</td>\n",
       "      <td>1</td>\n",
       "      <td>в разводе</td>\n",
       "      <td>3</td>\n",
       "      <td>F</td>\n",
       "      <td>сотрудник</td>\n",
       "      <td>0</td>\n",
       "      <td>242831.107982</td>\n",
       "      <td>на покупку своего автомобиля</td>\n",
       "    </tr>\n",
       "  </tbody>\n",
       "</table>\n",
       "</div>"
      ],
      "text/plain": [
       "    children  days_employed  dob_years            education  education_id  \\\n",
       "0          1   -8437.673028         42               высшее             0   \n",
       "1          1   -4024.803754         36              среднее             1   \n",
       "2          0   -5623.422610         33              Среднее             1   \n",
       "3          3   -4124.747207         32              среднее             1   \n",
       "4          0  340266.072047         53              среднее             1   \n",
       "5          0    -926.185831         27               высшее             0   \n",
       "6          0   -2879.202052         43               высшее             0   \n",
       "7          0    -152.779569         50              СРЕДНЕЕ             1   \n",
       "8          2   -6929.865299         35               ВЫСШЕЕ             0   \n",
       "9          0   -2188.756445         41              среднее             1   \n",
       "10         2   -4171.483647         36               высшее             0   \n",
       "11         0    -792.701887         40              среднее             1   \n",
       "12         0            NaN         65              среднее             1   \n",
       "13         0   -1846.641941         54  неоконченное высшее             2   \n",
       "14         0   -1844.956182         56               высшее             0   \n",
       "15         1    -972.364419         26              среднее             1   \n",
       "16         0   -1719.934226         35              среднее             1   \n",
       "17         0   -2369.999720         33               высшее             0   \n",
       "18         0  400281.136913         53              среднее             1   \n",
       "19         0  -10038.818549         48              СРЕДНЕЕ             1   \n",
       "\n",
       "       family_status  family_status_id gender income_type  debt  \\\n",
       "0    женат / замужем                 0      F   сотрудник     0   \n",
       "1    женат / замужем                 0      F   сотрудник     0   \n",
       "2    женат / замужем                 0      M   сотрудник     0   \n",
       "3    женат / замужем                 0      M   сотрудник     0   \n",
       "4   гражданский брак                 1      F   пенсионер     0   \n",
       "5   гражданский брак                 1      M   компаньон     0   \n",
       "6    женат / замужем                 0      F   компаньон     0   \n",
       "7    женат / замужем                 0      M   сотрудник     0   \n",
       "8   гражданский брак                 1      F   сотрудник     0   \n",
       "9    женат / замужем                 0      M   сотрудник     0   \n",
       "10   женат / замужем                 0      M   компаньон     0   \n",
       "11   женат / замужем                 0      F   сотрудник     0   \n",
       "12  гражданский брак                 1      M   пенсионер     0   \n",
       "13   женат / замужем                 0      F   сотрудник     0   \n",
       "14  гражданский брак                 1      F   компаньон     1   \n",
       "15   женат / замужем                 0      F   сотрудник     0   \n",
       "16   женат / замужем                 0      F   сотрудник     0   \n",
       "17  гражданский брак                 1      M   сотрудник     0   \n",
       "18    вдовец / вдова                 2      F   пенсионер     0   \n",
       "19         в разводе                 3      F   сотрудник     0   \n",
       "\n",
       "     total_income                                 purpose  \n",
       "0   253875.639453                           покупка жилья  \n",
       "1   112080.014102                 приобретение автомобиля  \n",
       "2   145885.952297                           покупка жилья  \n",
       "3   267628.550329              дополнительное образование  \n",
       "4   158616.077870                         сыграть свадьбу  \n",
       "5   255763.565419                           покупка жилья  \n",
       "6   240525.971920                       операции с жильем  \n",
       "7   135823.934197                             образование  \n",
       "8    95856.832424                   на проведение свадьбы  \n",
       "9   144425.938277                 покупка жилья для семьи  \n",
       "10  113943.491460                    покупка недвижимости  \n",
       "11   77069.234271       покупка коммерческой недвижимости  \n",
       "12            NaN                         сыграть свадьбу  \n",
       "13  130458.228857                 приобретение автомобиля  \n",
       "14  165127.911772              покупка жилой недвижимости  \n",
       "15  116820.904450  строительство собственной недвижимости  \n",
       "16  289202.704229                            недвижимость  \n",
       "17   90410.586745              строительство недвижимости  \n",
       "18   56823.777243      на покупку подержанного автомобиля  \n",
       "19  242831.107982            на покупку своего автомобиля  "
      ]
     },
     "execution_count": 2,
     "metadata": {},
     "output_type": "execute_result"
    }
   ],
   "source": [
    "data.head(20)"
   ]
  },
  {
   "cell_type": "markdown",
   "id": "d471c941",
   "metadata": {
    "deletable": false,
    "editable": false,
    "id": "1c12e233"
   },
   "source": [
    "**Задание 3. Выведите основную информацию о датафрейме с помощью метода `info()`.**"
   ]
  },
  {
   "cell_type": "code",
   "execution_count": 3,
   "id": "fe2e739f",
   "metadata": {
    "deletable": false,
    "id": "2b757bca",
    "outputId": "15376089-8dad-46c9-b520-c05248d43158"
   },
   "outputs": [
    {
     "name": "stdout",
     "output_type": "stream",
     "text": [
      "<class 'pandas.core.frame.DataFrame'>\n",
      "RangeIndex: 21525 entries, 0 to 21524\n",
      "Data columns (total 12 columns):\n",
      " #   Column            Non-Null Count  Dtype  \n",
      "---  ------            --------------  -----  \n",
      " 0   children          21525 non-null  int64  \n",
      " 1   days_employed     19351 non-null  float64\n",
      " 2   dob_years         21525 non-null  int64  \n",
      " 3   education         21525 non-null  object \n",
      " 4   education_id      21525 non-null  int64  \n",
      " 5   family_status     21525 non-null  object \n",
      " 6   family_status_id  21525 non-null  int64  \n",
      " 7   gender            21525 non-null  object \n",
      " 8   income_type       21525 non-null  object \n",
      " 9   debt              21525 non-null  int64  \n",
      " 10  total_income      19351 non-null  float64\n",
      " 11  purpose           21525 non-null  object \n",
      "dtypes: float64(2), int64(5), object(5)\n",
      "memory usage: 2.0+ MB\n"
     ]
    }
   ],
   "source": [
    "data.info()"
   ]
  },
  {
   "cell_type": "markdown",
   "id": "9d45a37b",
   "metadata": {
    "deletable": false,
    "editable": false,
    "id": "333ec665"
   },
   "source": [
    "## Предобработка данных"
   ]
  },
  {
   "cell_type": "markdown",
   "id": "dadb72f0",
   "metadata": {
    "deletable": false,
    "editable": false,
    "id": "02d92d53"
   },
   "source": [
    "### Удаление пропусков"
   ]
  },
  {
   "cell_type": "markdown",
   "id": "0f1e85dc",
   "metadata": {
    "deletable": false,
    "editable": false,
    "id": "cd84967c"
   },
   "source": [
    "**Задание 4. Выведите количество пропущенных значений для каждого столбца. Используйте комбинацию двух методов.**"
   ]
  },
  {
   "cell_type": "code",
   "execution_count": 4,
   "id": "a75936a0",
   "metadata": {
    "deletable": false,
    "id": "7f9b2309",
    "outputId": "81f4d817-781c-465c-ed15-91ce4446810d"
   },
   "outputs": [
    {
     "data": {
      "text/plain": [
       "children               0\n",
       "days_employed       2174\n",
       "dob_years              0\n",
       "education              0\n",
       "education_id           0\n",
       "family_status          0\n",
       "family_status_id       0\n",
       "gender                 0\n",
       "income_type            0\n",
       "debt                   0\n",
       "total_income        2174\n",
       "purpose                0\n",
       "dtype: int64"
      ]
     },
     "execution_count": 4,
     "metadata": {},
     "output_type": "execute_result"
    }
   ],
   "source": [
    "data.isna().sum()"
   ]
  },
  {
   "cell_type": "markdown",
   "id": "2721a0fd",
   "metadata": {
    "deletable": false,
    "editable": false,
    "id": "db86e27b"
   },
   "source": [
    "**Задание 5. В двух столбцах есть пропущенные значения. Один из них — `days_employed`. Пропуски в этом столбце вы обработаете на следующем этапе. Другой столбец с пропущенными значениями — `total_income` — хранит данные о доходах. На сумму дохода сильнее всего влияет тип занятости, поэтому заполнить пропуски в этом столбце нужно медианным значением по каждому типу из столбца `income_type`. Например, у человека с типом занятости `сотрудник` пропуск в столбце `total_income` должен быть заполнен медианным доходом среди всех записей с тем же типом.**"
   ]
  },
  {
   "cell_type": "code",
   "execution_count": 5,
   "id": "b4e00ece",
   "metadata": {
    "deletable": false,
    "id": "42006a93"
   },
   "outputs": [],
   "source": [
    "for t in data['income_type'].unique():\n",
    "    data.loc[(data['income_type'] == t) & (data['total_income'].isna()), 'total_income'] = \\\n",
    "    data.loc[(data['income_type'] == t), 'total_income'].median()"
   ]
  },
  {
   "cell_type": "markdown",
   "id": "b39ecf47",
   "metadata": {
    "deletable": false,
    "editable": false,
    "id": "89da5ece"
   },
   "source": [
    "### Обработка аномальных значений"
   ]
  },
  {
   "cell_type": "markdown",
   "id": "60fa06ab",
   "metadata": {
    "deletable": false,
    "editable": false,
    "id": "57964554"
   },
   "source": [
    "**Задание 6. В данных могут встречаться артефакты (аномалии) — значения, которые не отражают действительность и появились по какой-то ошибке. таким артефактом будет отрицательное количество дней трудового стажа в столбце `days_employed`. Для реальных данных это нормально. Обработайте значения в этом столбце: замените все отрицательные значения положительными с помощью метода `abs()`.**"
   ]
  },
  {
   "cell_type": "code",
   "execution_count": 6,
   "id": "02b2b9a2",
   "metadata": {
    "deletable": false,
    "id": "f6f055bf"
   },
   "outputs": [],
   "source": [
    "data['days_employed'] = data['days_employed'].abs()"
   ]
  },
  {
   "cell_type": "markdown",
   "id": "53657d26",
   "metadata": {
    "deletable": false,
    "editable": false,
    "id": "6107dd2f"
   },
   "source": [
    "**Задание 7. Для каждого типа занятости выведите медианное значение трудового стажа `days_employed` в днях.**"
   ]
  },
  {
   "cell_type": "code",
   "execution_count": 7,
   "id": "16a0a26f",
   "metadata": {
    "deletable": false,
    "id": "85a5faf6",
    "outputId": "801ef80e-522b-4668-f34e-565af7432bcf"
   },
   "outputs": [
    {
     "data": {
      "text/plain": [
       "income_type\n",
       "безработный        366413.652744\n",
       "в декрете            3296.759962\n",
       "госслужащий          2689.368353\n",
       "компаньон            1547.382223\n",
       "пенсионер          365213.306266\n",
       "предприниматель       520.848083\n",
       "сотрудник            1574.202821\n",
       "студент               578.751554\n",
       "Name: days_employed, dtype: float64"
      ]
     },
     "execution_count": 7,
     "metadata": {},
     "output_type": "execute_result"
    }
   ],
   "source": [
    "data.groupby('income_type')['days_employed'].agg('median')"
   ]
  },
  {
   "cell_type": "markdown",
   "id": "64c76070",
   "metadata": {
    "deletable": false,
    "editable": false,
    "id": "38d1a030"
   },
   "source": [
    "У двух типов (безработные и пенсионеры) получатся аномально большие значения. Исправить такие значения сложно, поэтому оставьте их как есть. Тем более этот столбец не понадобится вам для исследования."
   ]
  },
  {
   "cell_type": "markdown",
   "id": "0861f976",
   "metadata": {
    "deletable": false,
    "editable": false,
    "id": "d8a9f147"
   },
   "source": [
    "**Задание 8. Выведите перечень уникальных значений столбца `children`.**"
   ]
  },
  {
   "cell_type": "code",
   "execution_count": 8,
   "id": "8e9d153d",
   "metadata": {
    "deletable": false,
    "id": "ef5056eb",
    "outputId": "6975b15c-7f95-4697-d16d-a0c79b657b03"
   },
   "outputs": [
    {
     "data": {
      "text/plain": [
       "array([ 1,  0,  3,  2, -1,  4, 20,  5])"
      ]
     },
     "execution_count": 8,
     "metadata": {},
     "output_type": "execute_result"
    }
   ],
   "source": [
    "data['children'].unique()"
   ]
  },
  {
   "cell_type": "markdown",
   "id": "0ec54de8",
   "metadata": {
    "deletable": false,
    "editable": false,
    "id": "40b9ebf2"
   },
   "source": [
    "**Задание 9. В столбце `children` есть два аномальных значения. Удалите строки, в которых встречаются такие аномальные значения из датафрейма `data`.**"
   ]
  },
  {
   "cell_type": "code",
   "execution_count": 9,
   "id": "16264c61",
   "metadata": {
    "deletable": false,
    "id": "3ff9801d"
   },
   "outputs": [],
   "source": [
    "data = data[(data['children'] != -1) & (data['children'] != 20)]"
   ]
  },
  {
   "cell_type": "markdown",
   "id": "d9572748",
   "metadata": {
    "deletable": false,
    "editable": false,
    "id": "bbc4d0ce"
   },
   "source": [
    "**Задание 10. Ещё раз выведите перечень уникальных значений столбца `children`, чтобы убедиться, что артефакты удалены.**"
   ]
  },
  {
   "cell_type": "code",
   "execution_count": 10,
   "id": "72e505e5",
   "metadata": {
    "deletable": false,
    "id": "ad4fa8b7",
    "outputId": "b2097101-d49d-44d9-901b-32a65c9463d1"
   },
   "outputs": [
    {
     "data": {
      "text/plain": [
       "array([1, 0, 3, 2, 4, 5])"
      ]
     },
     "execution_count": 10,
     "metadata": {},
     "output_type": "execute_result"
    }
   ],
   "source": [
    "data['children'].unique()"
   ]
  },
  {
   "cell_type": "markdown",
   "id": "23aad227",
   "metadata": {
    "deletable": false,
    "editable": false,
    "id": "75440b63"
   },
   "source": [
    "### Удаление пропусков (продолжение)"
   ]
  },
  {
   "cell_type": "markdown",
   "id": "0a7a7127",
   "metadata": {
    "deletable": false,
    "editable": false,
    "id": "f4ea573f"
   },
   "source": [
    "**Задание 11. Заполните пропуски в столбце `days_employed` медианными значениями по каждого типа занятости `income_type`.**"
   ]
  },
  {
   "cell_type": "code",
   "execution_count": 11,
   "id": "797143c2",
   "metadata": {
    "deletable": false,
    "id": "af6b1a7e"
   },
   "outputs": [],
   "source": [
    "for t in data['income_type'].unique():\n",
    "    data.loc[(data['income_type'] == t) & (data['days_employed'].isna()), 'days_employed'] = \\\n",
    "    data.loc[(data['income_type'] == t), 'days_employed'].median()"
   ]
  },
  {
   "cell_type": "markdown",
   "id": "df960f09",
   "metadata": {
    "deletable": false,
    "editable": false,
    "id": "2753f40d"
   },
   "source": [
    "**Задание 12. Убедитесь, что все пропуски заполнены. Проверьте себя и ещё раз выведите количество пропущенных значений для каждого столбца с помощью двух методов.**"
   ]
  },
  {
   "cell_type": "code",
   "execution_count": 12,
   "id": "f59559d0",
   "metadata": {
    "deletable": false,
    "id": "55f78bc2",
    "outputId": "8da1e4e1-358e-4e87-98c9-f261bce0a7b2"
   },
   "outputs": [
    {
     "data": {
      "text/plain": [
       "children            0\n",
       "days_employed       0\n",
       "dob_years           0\n",
       "education           0\n",
       "education_id        0\n",
       "family_status       0\n",
       "family_status_id    0\n",
       "gender              0\n",
       "income_type         0\n",
       "debt                0\n",
       "total_income        0\n",
       "purpose             0\n",
       "dtype: int64"
      ]
     },
     "execution_count": 12,
     "metadata": {},
     "output_type": "execute_result"
    }
   ],
   "source": [
    "data.isna().sum()"
   ]
  },
  {
   "cell_type": "markdown",
   "id": "3ae02749",
   "metadata": {
    "deletable": false,
    "editable": false,
    "id": "ddc81e43"
   },
   "source": [
    "### Изменение типов данных"
   ]
  },
  {
   "cell_type": "markdown",
   "id": "dccfba31",
   "metadata": {
    "deletable": false,
    "editable": false,
    "id": "42d19d24"
   },
   "source": [
    "**Задание 13. Замените вещественный тип данных в столбце `total_income` на целочисленный с помощью метода `astype()`.**"
   ]
  },
  {
   "cell_type": "code",
   "execution_count": 13,
   "id": "376aac34",
   "metadata": {
    "deletable": false,
    "id": "920b65ad"
   },
   "outputs": [],
   "source": [
    "data['total_income'] = data['total_income'].astype(int)"
   ]
  },
  {
   "cell_type": "markdown",
   "id": "0915a894",
   "metadata": {
    "deletable": false,
    "editable": false,
    "id": "80c420ba"
   },
   "source": [
    "### Обработка дубликатов"
   ]
  },
  {
   "cell_type": "markdown",
   "id": "62c4996a",
   "metadata": {
    "deletable": false,
    "editable": false
   },
   "source": [
    "**Задание 14. Обработайте неявные дубликаты в столбце `education`. В этом столбце есть одни и те же значения, но записанные по-разному: с использованием заглавных и строчных букв. Приведите их к нижнему регистру. Проверьте остальные столбцы.**"
   ]
  },
  {
   "cell_type": "code",
   "execution_count": 14,
   "id": "9366bb0e",
   "metadata": {
    "deletable": false
   },
   "outputs": [],
   "source": [
    "data['education'] = data['education'].str.lower()"
   ]
  },
  {
   "cell_type": "markdown",
   "id": "1cffc2d8",
   "metadata": {
    "deletable": false,
    "editable": false,
    "id": "dc587695"
   },
   "source": [
    "**Задание 15. Выведите на экран количество строк-дубликатов в данных. Если такие строки присутствуют, удалите их.**"
   ]
  },
  {
   "cell_type": "code",
   "execution_count": 15,
   "id": "56ad7daa",
   "metadata": {
    "deletable": false,
    "id": "3ee445e4",
    "outputId": "9684deba-1934-42d1-99e1-cda61740f822"
   },
   "outputs": [
    {
     "data": {
      "text/plain": [
       "71"
      ]
     },
     "execution_count": 15,
     "metadata": {},
     "output_type": "execute_result"
    }
   ],
   "source": [
    "data.duplicated().sum()"
   ]
  },
  {
   "cell_type": "code",
   "execution_count": 16,
   "id": "0dba7a25",
   "metadata": {
    "deletable": false,
    "id": "8575fe05"
   },
   "outputs": [],
   "source": [
    "data = data.drop_duplicates()"
   ]
  },
  {
   "cell_type": "markdown",
   "id": "1ebc4c85",
   "metadata": {
    "deletable": false,
    "editable": false,
    "id": "9904cf55"
   },
   "source": [
    "### Категоризация данных"
   ]
  },
  {
   "cell_type": "markdown",
   "id": "5b3f037f",
   "metadata": {
    "deletable": false,
    "editable": false,
    "id": "72fcc8a2"
   },
   "source": [
    "**Задание 16. На основании диапазонов, указанных ниже, создайте в датафрейме `data` столбец `total_income_category` с категориями:**\n",
    "\n",
    "- 0–30000 — `'E'`;\n",
    "- 30001–50000 — `'D'`;\n",
    "- 50001–200000 — `'C'`;\n",
    "- 200001–1000000 — `'B'`;\n",
    "- 1000001 и выше — `'A'`.\n",
    "\n",
    "\n",
    "**Например, кредитополучателю с доходом 25000 нужно назначить категорию `'E'`, а клиенту, получающему 235000, — `'B'`. Используйте собственную функцию с именем `categorize_income()` и метод `apply()`.**"
   ]
  },
  {
   "cell_type": "code",
   "execution_count": 17,
   "id": "96b3f9b2",
   "metadata": {
    "deletable": false,
    "id": "e1771346"
   },
   "outputs": [],
   "source": [
    "def categorize_income(income):\n",
    "    try:\n",
    "        if 0 <= income <= 30000:\n",
    "            return 'E'\n",
    "        elif 30001 <= income <= 50000:\n",
    "            return 'D'\n",
    "        elif 50001 <= income <= 200000:\n",
    "            return 'C'\n",
    "        elif 200001 <= income <= 1000000:\n",
    "            return 'B'\n",
    "        elif income >= 1000001:\n",
    "            return 'A'\n",
    "    except:\n",
    "        pass"
   ]
  },
  {
   "cell_type": "code",
   "execution_count": 18,
   "id": "991badc0",
   "metadata": {
    "deletable": false,
    "id": "d5f3586d"
   },
   "outputs": [],
   "source": [
    "data['total_income_category'] = data['total_income'].apply(categorize_income)"
   ]
  },
  {
   "cell_type": "markdown",
   "id": "045bb207",
   "metadata": {
    "deletable": false,
    "editable": false,
    "id": "dde49b5c"
   },
   "source": [
    "**Задание 17. Выведите на экран перечень уникальных целей взятия кредита из столбца `purpose`.**"
   ]
  },
  {
   "cell_type": "code",
   "execution_count": 19,
   "id": "defb1a62",
   "metadata": {
    "deletable": false,
    "id": "f67ce9b3",
    "outputId": "673c12d9-7d7e-4ae0-9812-c622c89dd244"
   },
   "outputs": [
    {
     "data": {
      "text/plain": [
       "array(['покупка жилья', 'приобретение автомобиля',\n",
       "       'дополнительное образование', 'сыграть свадьбу',\n",
       "       'операции с жильем', 'образование', 'на проведение свадьбы',\n",
       "       'покупка жилья для семьи', 'покупка недвижимости',\n",
       "       'покупка коммерческой недвижимости', 'покупка жилой недвижимости',\n",
       "       'строительство собственной недвижимости', 'недвижимость',\n",
       "       'строительство недвижимости', 'на покупку подержанного автомобиля',\n",
       "       'на покупку своего автомобиля',\n",
       "       'операции с коммерческой недвижимостью',\n",
       "       'строительство жилой недвижимости', 'жилье',\n",
       "       'операции со своей недвижимостью', 'автомобили',\n",
       "       'заняться образованием', 'сделка с подержанным автомобилем',\n",
       "       'получение образования', 'автомобиль', 'свадьба',\n",
       "       'получение дополнительного образования', 'покупка своего жилья',\n",
       "       'операции с недвижимостью', 'получение высшего образования',\n",
       "       'свой автомобиль', 'сделка с автомобилем',\n",
       "       'профильное образование', 'высшее образование',\n",
       "       'покупка жилья для сдачи', 'на покупку автомобиля', 'ремонт жилью',\n",
       "       'заняться высшим образованием'], dtype=object)"
      ]
     },
     "execution_count": 19,
     "metadata": {},
     "output_type": "execute_result"
    }
   ],
   "source": [
    "data['purpose'].unique()"
   ]
  },
  {
   "cell_type": "markdown",
   "id": "ab9cac5b",
   "metadata": {
    "deletable": false,
    "editable": false,
    "id": "85d0aef0"
   },
   "source": [
    "**Задание 18. Создайте функцию, которая на основании данных из столбца `purpose` сформирует новый столбец `purpose_category`, в который войдут следующие категории:**\n",
    "\n",
    "- `'операции с автомобилем'`,\n",
    "- `'операции с недвижимостью'`,\n",
    "- `'проведение свадьбы'`,\n",
    "- `'получение образования'`.\n",
    "\n",
    "**Например, если в столбце `purpose` находится подстрока `'на покупку автомобиля'`, то в столбце `purpose_category` должна появиться строка `'операции с автомобилем'`.**\n",
    "\n",
    "**Используйте собственную функцию с именем `categorize_purpose()` и метод `apply()`. Изучите данные в столбце `purpose` и определите, какие подстроки помогут вам правильно определить категорию.**"
   ]
  },
  {
   "cell_type": "code",
   "execution_count": 20,
   "id": "3858570f",
   "metadata": {
    "deletable": false,
    "id": "e149fab4"
   },
   "outputs": [],
   "source": [
    "def categorize_purpose(row):\n",
    "    try:\n",
    "        if 'автом' in row:\n",
    "            return 'операции с автомобилем'\n",
    "        elif 'жил' in row or 'недвиж' in row:\n",
    "            return 'операции с недвижимостью'\n",
    "        elif 'свад' in row:\n",
    "            return 'проведение свадьбы'\n",
    "        elif 'образов' in row:\n",
    "            return 'получение образования'\n",
    "    except:\n",
    "        return 'нет категории'"
   ]
  },
  {
   "cell_type": "code",
   "execution_count": 21,
   "id": "9c5eee63",
   "metadata": {
    "deletable": false,
    "id": "bf36e69b"
   },
   "outputs": [],
   "source": [
    "data['purpose_category'] = data['purpose'].apply(categorize_purpose)"
   ]
  },
  {
   "cell_type": "markdown",
   "id": "80878752",
   "metadata": {
    "deletable": false,
    "editable": false,
    "id": "09b242bf"
   },
   "source": [
    "### Шаг 3. Исследуйте данные и ответьте на вопросы"
   ]
  },
  {
   "cell_type": "markdown",
   "id": "9508554c",
   "metadata": {
    "deletable": false,
    "editable": false,
    "id": "c5d66278"
   },
   "source": [
    "#### 3.1 Есть ли зависимость между количеством детей и возвратом кредита в срок?"
   ]
  },
  {
   "cell_type": "markdown",
   "id": "0e30eb15",
   "metadata": {},
   "source": [
    "У людей, имеющих задолженность по кредиту, в колонке `'debt'` стоит 1. Поделив количество должников на общее количество людей, мы получим долю должников."
   ]
  },
  {
   "cell_type": "code",
   "execution_count": 22,
   "id": "07a10d32",
   "metadata": {
    "deletable": false,
    "id": "2cacfc4a"
   },
   "outputs": [
    {
     "data": {
      "text/plain": [
       "children\n",
       "4    9.76\n",
       "2    9.45\n",
       "1    9.23\n",
       "3    8.18\n",
       "0    7.54\n",
       "5    0.00\n",
       "Name: debt, dtype: float64"
      ]
     },
     "execution_count": 22,
     "metadata": {},
     "output_type": "execute_result"
    }
   ],
   "source": [
    "#представим долю в виде процентов с 2 знаками после запятой\n",
    "round(data.groupby('children')['debt'].sum() / data.groupby('children')['debt'].count() * 100, 2).sort_values(ascending=False)"
   ]
  },
  {
   "cell_type": "code",
   "execution_count": 23,
   "id": "45fff010",
   "metadata": {},
   "outputs": [
    {
     "data": {
      "text/plain": [
       "children\n",
       "0    14091\n",
       "1     4808\n",
       "2     2052\n",
       "3      330\n",
       "4       41\n",
       "5        9\n",
       "Name: debt, dtype: int64"
      ]
     },
     "execution_count": 23,
     "metadata": {},
     "output_type": "execute_result"
    }
   ],
   "source": [
    "#посмотрим, сколько всего людей в каждой категории\n",
    "data.groupby('children')['debt'].count()"
   ]
  },
  {
   "cell_type": "code",
   "execution_count": 24,
   "id": "c9ecf8b5",
   "metadata": {},
   "outputs": [],
   "source": [
    "#создадим функцию, которая поделит людей на две категории: \"есть дети\" и \"нет детей\"\n",
    "def categorize_children(children):\n",
    "    if children == 0:\n",
    "        return 'нет'\n",
    "    else:\n",
    "        return 'да'"
   ]
  },
  {
   "cell_type": "code",
   "execution_count": 25,
   "id": "7b7756f3",
   "metadata": {},
   "outputs": [],
   "source": [
    "data['has_children'] = data['children'].apply(categorize_children)"
   ]
  },
  {
   "cell_type": "code",
   "execution_count": 26,
   "id": "665e65a0",
   "metadata": {},
   "outputs": [
    {
     "data": {
      "text/plain": [
       "has_children\n",
       "да     9.24\n",
       "нет    7.54\n",
       "Name: debt, dtype: float64"
      ]
     },
     "execution_count": 26,
     "metadata": {},
     "output_type": "execute_result"
    }
   ],
   "source": [
    "round(data.groupby('has_children')['debt'].sum() / data.groupby('has_children')['debt'].count() * 100, 2)"
   ]
  },
  {
   "cell_type": "markdown",
   "id": "fd89768d",
   "metadata": {
    "deletable": false,
    "id": "3a6b99ec"
   },
   "source": [
    "**Вывод:** Среди людей, имеющих детей, процент должников по кредитам выше, чем среди бездетных. Среди людей с 5-ю детьми должников нет, но таких людей в принципе в выборке мало, поэтому нельзя утверждать, что это значимая цифра."
   ]
  },
  {
   "cell_type": "markdown",
   "id": "ecff3aa4",
   "metadata": {
    "deletable": false,
    "editable": false,
    "id": "97be82ca"
   },
   "source": [
    "#### 3.2 Есть ли зависимость между семейным положением и возвратом кредита в срок?"
   ]
  },
  {
   "cell_type": "code",
   "execution_count": 28,
   "id": "679aee4d",
   "metadata": {
    "deletable": false,
    "id": "dc3f7ee8"
   },
   "outputs": [
    {
     "data": {
      "text/plain": [
       "family_status\n",
       "Не женат / не замужем    9.76\n",
       "гражданский брак         9.31\n",
       "женат / замужем          7.56\n",
       "в разводе                7.06\n",
       "вдовец / вдова           6.62\n",
       "Name: debt, dtype: float64"
      ]
     },
     "execution_count": 28,
     "metadata": {},
     "output_type": "execute_result"
    }
   ],
   "source": [
    "#представим долю должников в каждой категории в виде процентов с 2 знаками после запятой\n",
    "round(data.groupby('family_status')['debt'].sum() / data.groupby('family_status')['debt'].count() * 100, 2).sort_values(ascending=False)"
   ]
  },
  {
   "cell_type": "code",
   "execution_count": 29,
   "id": "2516aedc",
   "metadata": {},
   "outputs": [
    {
     "data": {
      "text/plain": [
       "family_status\n",
       "Не женат / не замужем     2796\n",
       "в разводе                 1189\n",
       "вдовец / вдова             951\n",
       "гражданский брак          4134\n",
       "женат / замужем          12261\n",
       "Name: debt, dtype: int64"
      ]
     },
     "execution_count": 29,
     "metadata": {},
     "output_type": "execute_result"
    }
   ],
   "source": [
    "#посмотрим, сколько всего людей в каждой категории\n",
    "data.groupby('family_status')['debt'].count()"
   ]
  },
  {
   "cell_type": "markdown",
   "id": "95b48383",
   "metadata": {
    "deletable": false,
    "id": "1cef7837"
   },
   "source": [
    "**Вывод:** Среди людей, не состоящих в браке, и людей, состоящих в гражданском браке, процент должников по кредиту выше, чем среди остальных категорий. Наименьший процент должников в категории \"вдовец / вдова\", наибольший - \"Не женат / не замужем\"."
   ]
  },
  {
   "cell_type": "markdown",
   "id": "d9993239",
   "metadata": {
    "deletable": false,
    "editable": false,
    "id": "1e8b2fca"
   },
   "source": [
    "#### 3.3 Есть ли зависимость между уровнем дохода и возвратом кредита в срок?"
   ]
  },
  {
   "cell_type": "code",
   "execution_count": 30,
   "id": "3c15a7fc",
   "metadata": {
    "deletable": false,
    "id": "cd7e3720"
   },
   "outputs": [
    {
     "data": {
      "text/plain": [
       "total_income_category\n",
       "E    9.09\n",
       "C    8.50\n",
       "A    8.00\n",
       "B    7.06\n",
       "D    6.02\n",
       "Name: debt, dtype: float64"
      ]
     },
     "execution_count": 30,
     "metadata": {},
     "output_type": "execute_result"
    }
   ],
   "source": [
    "#представим долю должников в каждой категории в виде процентов с 2 знаками после запятой\n",
    "round((data.groupby('total_income_category')['debt'].sum() / data.groupby('total_income_category')['debt'].count()) *100, 2).sort_values(ascending=False)"
   ]
  },
  {
   "cell_type": "code",
   "execution_count": 31,
   "id": "39788954",
   "metadata": {},
   "outputs": [
    {
     "data": {
      "text/plain": [
       "total_income_category\n",
       "A       25\n",
       "B     5014\n",
       "C    15921\n",
       "D      349\n",
       "E       22\n",
       "Name: debt, dtype: int64"
      ]
     },
     "execution_count": 31,
     "metadata": {},
     "output_type": "execute_result"
    }
   ],
   "source": [
    "#посмотрим, сколько всего людей в каждой категории\n",
    "data.groupby('total_income_category')['debt'].count()"
   ]
  },
  {
   "cell_type": "markdown",
   "id": "f19cf3ce",
   "metadata": {
    "deletable": false,
    "id": "e8593def"
   },
   "source": [
    "**Вывод:** Больше всего зафиксировано должников в категории E, но в этой категории мало людей, поэтому нет уверенности, что это значимый показатель. Так, в категории D зафиксировано меньше всего должников, а это близкие по доходу категории. В целом, в категориях A и B меньше должников, чем в категории C, т.е. наблюдается тенденция к тому, что люди с большим доходом менее склонны задерживать выплаты по кредиту, но это не строгая зависимость, т.к. меньше всего должников в категории D."
   ]
  },
  {
   "cell_type": "markdown",
   "id": "d7feffca",
   "metadata": {
    "deletable": false,
    "editable": false,
    "id": "99ecbd1f"
   },
   "source": [
    "#### 3.4 Как разные цели кредита влияют на его возврат в срок?"
   ]
  },
  {
   "cell_type": "code",
   "execution_count": 32,
   "id": "873b2a4d",
   "metadata": {
    "deletable": false,
    "id": "2b687290"
   },
   "outputs": [
    {
     "data": {
      "text/plain": [
       "purpose_category\n",
       "операции с автомобилем      9.35\n",
       "получение образования       9.25\n",
       "проведение свадьбы          7.91\n",
       "операции с недвижимостью    7.26\n",
       "Name: debt, dtype: float64"
      ]
     },
     "execution_count": 32,
     "metadata": {},
     "output_type": "execute_result"
    }
   ],
   "source": [
    "#представим долю должников в каждой категории в виде процентов с 2 знаками после запятой\n",
    "round(data.groupby('purpose_category')['debt'].sum() / data.groupby('purpose_category')['debt'].count() * 100, 2).sort_values(ascending=False)"
   ]
  },
  {
   "cell_type": "code",
   "execution_count": 33,
   "id": "add68b9f",
   "metadata": {},
   "outputs": [
    {
     "data": {
      "text/plain": [
       "purpose_category\n",
       "операции с автомобилем       4279\n",
       "операции с недвижимостью    10751\n",
       "получение образования        3988\n",
       "проведение свадьбы           2313\n",
       "Name: debt, dtype: int64"
      ]
     },
     "execution_count": 33,
     "metadata": {},
     "output_type": "execute_result"
    }
   ],
   "source": [
    "#посмотрим, сколько всего людей в каждой категории\n",
    "data.groupby('purpose_category')['debt'].count()"
   ]
  },
  {
   "cell_type": "markdown",
   "id": "295372c2",
   "metadata": {
    "deletable": false,
    "id": "b4bb2ce6"
   },
   "source": [
    "**Вывод:** Больше всего должников в категориях \"операции с автомобилем\" и \"получение образования\". \"Операции с недвижимостью\" является самой многочисленной категорией, но и должников в ней меньше всего."
   ]
  },
  {
   "cell_type": "markdown",
   "id": "fcf2b331",
   "metadata": {
    "deletable": false,
    "editable": false,
    "id": "09c3ac4c"
   },
   "source": [
    "#### 3.5 Приведите возможные причины появления пропусков в исходных данных."
   ]
  },
  {
   "cell_type": "markdown",
   "id": "df8b4b3a",
   "metadata": {
    "deletable": false,
    "id": "9da2ceda"
   },
   "source": [
    "*Ответ:* Пропуски были обнаружены в столбцах `days_employed` и `total_income`, если в ряду есть пропущенные значения, то они пропущены в обоих столбцах. Пропуски не зависят от значений остальных столбцов. Возможно, имела место какая-то техническая ошибка при вводе данных: в столбце `days_employed` помимо пропущенных данных есть аномалии другого типа (отрицательные значения), что может свидетельствовать о том, что при обработке данных об общем трудовом стаже возможны какие-то проблемы. Также люди могли просто не указывать свой уровень дохода и стаж. "
   ]
  },
  {
   "cell_type": "markdown",
   "id": "3580838d",
   "metadata": {
    "deletable": false,
    "editable": false,
    "id": "7b0487d6"
   },
   "source": [
    "#### 3.6 Объясните, почему заполнить пропуски медианным значением — лучшее решение для количественных переменных."
   ]
  },
  {
   "cell_type": "markdown",
   "id": "8e3f3fc0",
   "metadata": {
    "deletable": false,
    "id": "7ecf2b8e"
   },
   "source": [
    "*Ответ:* По сравнению со средним значением, медиана будет меньше смещаться из-за единичных выбросов в данных (как случайных, так и неслучайных). Так, если у нас есть 4 человека с зарплатой 50000 и один человек с зарплатой 100000, то среднее значение будет равно 60000, а медиана будет равна 50000. Медианное значение лучше охарактеризует уровень зарплаты этой категории людей и больше подойдет для заполнения пропуска."
   ]
  },
  {
   "cell_type": "markdown",
   "id": "b1aec4bb",
   "metadata": {
    "deletable": false,
    "editable": false,
    "id": "6db5255a"
   },
   "source": [
    "### Шаг 4: общий вывод."
   ]
  },
  {
   "cell_type": "markdown",
   "id": "39ef697e",
   "metadata": {
    "deletable": false,
    "id": "bad65432"
   },
   "source": [
    "Напишите ваш общий вывод."
   ]
  },
  {
   "cell_type": "markdown",
   "id": "16667216",
   "metadata": {},
   "source": [
    "Строгой зависимости между возвратом кредита в срок и какой-либо из четырех рассмотренных признаков (количество детей, семейное положение, уровень дохода и цели кредита) не наблюдается, но есть определенные тенценции:\n",
    "1. Люди, имеющие детей, чаще имеют задолженности по возврату кредита, чем бездетные (9.24% невозврата у людей с детьми и 7.54% невозврата в срок у бездетных).\n",
    "2. Люди, не состоящие в браке, и люди, состоящие в гражданском браке, чаще имеют задолженности по возврату кредита (9.76% невозврата и 9.31% невозврата соответственно), чем женатые (7.56%), разведенные (7.06%) и вдовцы (6.62%). \n",
    "3. Люди, получающие кредит на операции с автомобилем и получение образования, более склонны к задолженностям (9.35% и 9.25% задержки возврата соответственно), чем люди, берущие кредит на проведение свадьбы (7.91%) и операции с недвижимостью (7.26%).\n",
    "4. Наблюдается тенденция, что люди с большим доходом чуть менее склонны задерживать возвраты."
   ]
  }
 ],
 "metadata": {
  "ExecuteTimeLog": [
   {
    "duration": 50,
    "start_time": "2023-04-05T13:04:14.331Z"
   },
   {
    "duration": 589,
    "start_time": "2023-04-05T13:04:19.879Z"
   },
   {
    "duration": 23,
    "start_time": "2023-04-05T13:04:21.406Z"
   },
   {
    "duration": 16,
    "start_time": "2023-04-05T13:04:24.928Z"
   },
   {
    "duration": 11,
    "start_time": "2023-04-05T13:04:30.292Z"
   },
   {
    "duration": 35,
    "start_time": "2023-04-05T13:04:32.411Z"
   },
   {
    "duration": 4,
    "start_time": "2023-04-05T13:04:33.636Z"
   },
   {
    "duration": 11,
    "start_time": "2023-04-05T13:04:34.576Z"
   },
   {
    "duration": 4,
    "start_time": "2023-04-05T13:04:42.436Z"
   },
   {
    "duration": 8,
    "start_time": "2023-04-05T13:04:44.755Z"
   },
   {
    "duration": 5,
    "start_time": "2023-04-05T13:04:46.770Z"
   },
   {
    "duration": 37,
    "start_time": "2023-04-05T13:04:49.027Z"
   },
   {
    "duration": 10,
    "start_time": "2023-04-05T13:04:50.629Z"
   },
   {
    "duration": 4,
    "start_time": "2023-04-05T13:04:53.284Z"
   },
   {
    "duration": 13,
    "start_time": "2023-04-05T13:05:22.479Z"
   },
   {
    "duration": 23,
    "start_time": "2023-04-05T13:05:23.375Z"
   },
   {
    "duration": 19,
    "start_time": "2023-04-05T13:05:24.073Z"
   },
   {
    "duration": 4,
    "start_time": "2023-04-05T13:05:28.088Z"
   },
   {
    "duration": 11,
    "start_time": "2023-04-05T13:05:28.692Z"
   },
   {
    "duration": 6,
    "start_time": "2023-04-05T13:05:33.987Z"
   },
   {
    "duration": 4,
    "start_time": "2023-04-05T13:05:37.636Z"
   },
   {
    "duration": 8,
    "start_time": "2023-04-05T13:05:38.083Z"
   },
   {
    "duration": 7,
    "start_time": "2023-04-05T13:05:40.351Z"
   },
   {
    "duration": 8,
    "start_time": "2023-04-05T13:05:55.157Z"
   },
   {
    "duration": 7,
    "start_time": "2023-04-05T13:06:40.903Z"
   },
   {
    "duration": 11,
    "start_time": "2023-04-05T13:06:51.598Z"
   },
   {
    "duration": 9,
    "start_time": "2023-04-05T13:08:52.091Z"
   },
   {
    "duration": 48,
    "start_time": "2023-04-05T13:09:34.729Z"
   },
   {
    "duration": 6,
    "start_time": "2023-04-05T13:09:47.215Z"
   },
   {
    "duration": 9,
    "start_time": "2023-04-05T13:09:53.296Z"
   },
   {
    "duration": 10,
    "start_time": "2023-04-05T13:10:02.035Z"
   },
   {
    "duration": 10,
    "start_time": "2023-04-05T13:13:45.162Z"
   },
   {
    "duration": 13,
    "start_time": "2023-04-05T13:16:09.829Z"
   },
   {
    "duration": 6,
    "start_time": "2023-04-05T13:16:51.696Z"
   },
   {
    "duration": 8,
    "start_time": "2023-04-05T13:17:18.237Z"
   },
   {
    "duration": 10,
    "start_time": "2023-04-05T13:20:13.253Z"
   },
   {
    "duration": 8,
    "start_time": "2023-04-05T13:20:28.208Z"
   },
   {
    "duration": 58,
    "start_time": "2023-04-05T13:25:52.231Z"
   },
   {
    "duration": 80,
    "start_time": "2023-04-05T13:26:30.608Z"
   },
   {
    "duration": 19,
    "start_time": "2023-04-05T13:26:33.801Z"
   },
   {
    "duration": 11,
    "start_time": "2023-04-05T13:27:18.464Z"
   },
   {
    "duration": 29,
    "start_time": "2023-04-05T13:27:22.273Z"
   },
   {
    "duration": 11,
    "start_time": "2023-04-05T13:27:33.023Z"
   },
   {
    "duration": 7,
    "start_time": "2023-04-05T13:27:36.836Z"
   },
   {
    "duration": 7,
    "start_time": "2023-04-05T13:27:45.517Z"
   },
   {
    "duration": 11,
    "start_time": "2023-04-05T13:30:36.974Z"
   },
   {
    "duration": 8,
    "start_time": "2023-04-05T13:32:36.073Z"
   },
   {
    "duration": 14,
    "start_time": "2023-04-05T13:32:39.373Z"
   },
   {
    "duration": 38,
    "start_time": "2023-04-05T13:32:53.872Z"
   },
   {
    "duration": 16,
    "start_time": "2023-04-05T13:33:29.025Z"
   },
   {
    "duration": 93,
    "start_time": "2023-04-05T13:33:45.278Z"
   },
   {
    "duration": 11,
    "start_time": "2023-04-05T13:33:49.080Z"
   },
   {
    "duration": 16,
    "start_time": "2023-04-05T13:34:10.840Z"
   },
   {
    "duration": 17,
    "start_time": "2023-04-05T13:34:24.439Z"
   },
   {
    "duration": 25,
    "start_time": "2023-04-05T13:34:35.831Z"
   },
   {
    "duration": 33,
    "start_time": "2023-04-05T13:34:40.598Z"
   },
   {
    "duration": 13,
    "start_time": "2023-04-05T13:36:01.686Z"
   },
   {
    "duration": 14,
    "start_time": "2023-04-05T13:38:35.927Z"
   },
   {
    "duration": 7,
    "start_time": "2023-04-05T13:43:41.168Z"
   },
   {
    "duration": 14,
    "start_time": "2023-04-05T13:43:44.363Z"
   },
   {
    "duration": 12,
    "start_time": "2023-04-05T13:43:55.087Z"
   },
   {
    "duration": 13,
    "start_time": "2023-04-05T13:43:59.260Z"
   },
   {
    "duration": 15,
    "start_time": "2023-04-05T13:45:13.323Z"
   },
   {
    "duration": 15,
    "start_time": "2023-04-05T13:45:23.479Z"
   },
   {
    "duration": 13,
    "start_time": "2023-04-05T13:45:30.706Z"
   },
   {
    "duration": 19,
    "start_time": "2023-04-05T13:45:48.543Z"
   },
   {
    "duration": 13,
    "start_time": "2023-04-05T13:49:53.690Z"
   },
   {
    "duration": 12,
    "start_time": "2023-04-05T13:50:44.386Z"
   },
   {
    "duration": 21,
    "start_time": "2023-04-05T13:50:54.443Z"
   },
   {
    "duration": 12,
    "start_time": "2023-04-05T13:51:04.725Z"
   },
   {
    "duration": 24,
    "start_time": "2023-04-05T13:51:14.172Z"
   },
   {
    "duration": 11,
    "start_time": "2023-04-05T13:51:28.376Z"
   },
   {
    "duration": 13,
    "start_time": "2023-04-05T13:51:47.932Z"
   },
   {
    "duration": 13,
    "start_time": "2023-04-05T13:52:00.817Z"
   },
   {
    "duration": 13,
    "start_time": "2023-04-05T13:52:10.636Z"
   },
   {
    "duration": 10,
    "start_time": "2023-04-05T13:52:55.417Z"
   },
   {
    "duration": 11,
    "start_time": "2023-04-05T13:53:11.689Z"
   },
   {
    "duration": 57,
    "start_time": "2023-04-06T09:32:40.534Z"
   },
   {
    "duration": 601,
    "start_time": "2023-04-06T09:32:44.652Z"
   },
   {
    "duration": 27,
    "start_time": "2023-04-06T09:32:45.771Z"
   },
   {
    "duration": 16,
    "start_time": "2023-04-06T09:32:47.393Z"
   },
   {
    "duration": 11,
    "start_time": "2023-04-06T09:32:49.660Z"
   },
   {
    "duration": 37,
    "start_time": "2023-04-06T09:32:50.905Z"
   },
   {
    "duration": 4,
    "start_time": "2023-04-06T09:32:52.314Z"
   },
   {
    "duration": 8,
    "start_time": "2023-04-06T09:32:53.352Z"
   },
   {
    "duration": 5,
    "start_time": "2023-04-06T09:32:54.953Z"
   },
   {
    "duration": 8,
    "start_time": "2023-04-06T09:32:55.908Z"
   },
   {
    "duration": 6,
    "start_time": "2023-04-06T09:32:56.828Z"
   },
   {
    "duration": 39,
    "start_time": "2023-04-06T09:32:58.948Z"
   },
   {
    "duration": 11,
    "start_time": "2023-04-06T09:32:59.978Z"
   },
   {
    "duration": 4,
    "start_time": "2023-04-06T09:33:01.723Z"
   },
   {
    "duration": 13,
    "start_time": "2023-04-06T09:33:03.468Z"
   },
   {
    "duration": 31,
    "start_time": "2023-04-06T09:33:04.736Z"
   },
   {
    "duration": 24,
    "start_time": "2023-04-06T09:33:05.203Z"
   },
   {
    "duration": 4,
    "start_time": "2023-04-06T09:33:06.997Z"
   },
   {
    "duration": 10,
    "start_time": "2023-04-06T09:33:07.508Z"
   },
   {
    "duration": 7,
    "start_time": "2023-04-06T09:33:10.518Z"
   },
   {
    "duration": 4,
    "start_time": "2023-04-06T09:33:12.073Z"
   },
   {
    "duration": 10,
    "start_time": "2023-04-06T09:33:12.631Z"
   },
   {
    "duration": 16,
    "start_time": "2023-04-06T09:33:16.277Z"
   },
   {
    "duration": 15,
    "start_time": "2023-04-06T09:35:58.692Z"
   },
   {
    "duration": 11,
    "start_time": "2023-04-06T09:36:12.113Z"
   },
   {
    "duration": 15,
    "start_time": "2023-04-06T09:36:29.657Z"
   },
   {
    "duration": 15,
    "start_time": "2023-04-06T09:40:15.137Z"
   },
   {
    "duration": 8,
    "start_time": "2023-04-06T09:54:36.907Z"
   },
   {
    "duration": 9,
    "start_time": "2023-04-06T09:55:01.836Z"
   },
   {
    "duration": 10,
    "start_time": "2023-04-06T11:01:47.068Z"
   },
   {
    "duration": 11,
    "start_time": "2023-04-06T11:02:00.343Z"
   },
   {
    "duration": 9,
    "start_time": "2023-04-06T11:02:05.354Z"
   },
   {
    "duration": 5,
    "start_time": "2023-04-06T11:02:58.281Z"
   },
   {
    "duration": 3,
    "start_time": "2023-04-06T11:10:27.835Z"
   },
   {
    "duration": 8,
    "start_time": "2023-04-06T11:11:13.038Z"
   },
   {
    "duration": 15,
    "start_time": "2023-04-06T11:11:18.190Z"
   },
   {
    "duration": 3,
    "start_time": "2023-04-06T11:11:34.326Z"
   },
   {
    "duration": 7,
    "start_time": "2023-04-06T11:11:34.636Z"
   },
   {
    "duration": 3,
    "start_time": "2023-04-06T11:11:55.726Z"
   },
   {
    "duration": 9,
    "start_time": "2023-04-06T11:11:56.397Z"
   },
   {
    "duration": 3,
    "start_time": "2023-04-06T11:12:19.389Z"
   },
   {
    "duration": 8,
    "start_time": "2023-04-06T11:12:19.692Z"
   },
   {
    "duration": 11,
    "start_time": "2023-04-06T11:12:27.927Z"
   },
   {
    "duration": 11,
    "start_time": "2023-04-06T11:14:02.937Z"
   },
   {
    "duration": 12,
    "start_time": "2023-04-06T11:17:43.091Z"
   },
   {
    "duration": 12,
    "start_time": "2023-04-06T11:17:53.377Z"
   },
   {
    "duration": 11,
    "start_time": "2023-04-06T11:18:01.932Z"
   },
   {
    "duration": 10,
    "start_time": "2023-04-06T11:18:06.844Z"
   },
   {
    "duration": 10,
    "start_time": "2023-04-06T11:18:14.390Z"
   },
   {
    "duration": 11,
    "start_time": "2023-04-06T11:19:23.728Z"
   },
   {
    "duration": 11,
    "start_time": "2023-04-06T11:19:28.115Z"
   },
   {
    "duration": 14,
    "start_time": "2023-04-06T11:42:41.872Z"
   },
   {
    "duration": 14,
    "start_time": "2023-04-06T11:42:59.784Z"
   },
   {
    "duration": 8,
    "start_time": "2023-04-06T11:45:10.756Z"
   },
   {
    "duration": 6,
    "start_time": "2023-04-06T11:55:22.594Z"
   },
   {
    "duration": 6,
    "start_time": "2023-04-06T11:55:26.906Z"
   },
   {
    "duration": 5,
    "start_time": "2023-04-06T11:55:31.013Z"
   },
   {
    "duration": 6,
    "start_time": "2023-04-06T11:55:43.857Z"
   },
   {
    "duration": 29,
    "start_time": "2023-04-06T11:55:50.053Z"
   },
   {
    "duration": 6,
    "start_time": "2023-04-06T11:55:53.507Z"
   },
   {
    "duration": 12,
    "start_time": "2023-04-06T11:55:59.785Z"
   },
   {
    "duration": 6,
    "start_time": "2023-04-06T11:56:11.118Z"
   },
   {
    "duration": 8,
    "start_time": "2023-04-06T11:56:22.160Z"
   },
   {
    "duration": 5,
    "start_time": "2023-04-06T11:56:53.697Z"
   },
   {
    "duration": 12,
    "start_time": "2023-04-06T11:57:12.093Z"
   },
   {
    "duration": 52,
    "start_time": "2023-04-07T08:05:33.359Z"
   },
   {
    "duration": 544,
    "start_time": "2023-04-08T07:11:49.287Z"
   },
   {
    "duration": 23,
    "start_time": "2023-04-08T07:11:49.833Z"
   },
   {
    "duration": 14,
    "start_time": "2023-04-08T07:11:49.858Z"
   },
   {
    "duration": 9,
    "start_time": "2023-04-08T07:11:49.875Z"
   },
   {
    "duration": 52,
    "start_time": "2023-04-08T07:11:49.886Z"
   },
   {
    "duration": 4,
    "start_time": "2023-04-08T07:11:49.939Z"
   },
   {
    "duration": 10,
    "start_time": "2023-04-08T07:11:49.945Z"
   },
   {
    "duration": 8,
    "start_time": "2023-04-08T07:11:49.957Z"
   },
   {
    "duration": 7,
    "start_time": "2023-04-08T07:11:49.967Z"
   },
   {
    "duration": 5,
    "start_time": "2023-04-08T07:11:49.977Z"
   },
   {
    "duration": 63,
    "start_time": "2023-04-08T07:11:49.983Z"
   },
   {
    "duration": 9,
    "start_time": "2023-04-08T07:11:50.048Z"
   },
   {
    "duration": 6,
    "start_time": "2023-04-08T07:11:50.059Z"
   },
   {
    "duration": 13,
    "start_time": "2023-04-08T07:11:50.067Z"
   },
   {
    "duration": 25,
    "start_time": "2023-04-08T07:11:50.082Z"
   },
   {
    "duration": 19,
    "start_time": "2023-04-08T07:11:50.123Z"
   },
   {
    "duration": 9,
    "start_time": "2023-04-08T07:11:50.143Z"
   },
   {
    "duration": 16,
    "start_time": "2023-04-08T07:11:50.154Z"
   },
   {
    "duration": 15,
    "start_time": "2023-04-08T07:11:50.172Z"
   },
   {
    "duration": 4,
    "start_time": "2023-04-08T07:11:50.189Z"
   },
   {
    "duration": 24,
    "start_time": "2023-04-08T07:11:50.195Z"
   },
   {
    "duration": 11,
    "start_time": "2023-04-08T07:11:50.224Z"
   },
   {
    "duration": 7,
    "start_time": "2023-04-08T07:11:50.237Z"
   },
   {
    "duration": 3,
    "start_time": "2023-04-08T07:11:50.247Z"
   },
   {
    "duration": 13,
    "start_time": "2023-04-08T07:11:50.252Z"
   },
   {
    "duration": 22,
    "start_time": "2023-04-08T07:11:50.268Z"
   },
   {
    "duration": 41,
    "start_time": "2023-04-08T07:11:50.292Z"
   },
   {
    "duration": 15,
    "start_time": "2023-04-08T07:11:50.339Z"
   },
   {
    "duration": 10,
    "start_time": "2023-04-08T07:11:50.356Z"
   },
   {
    "duration": 16,
    "start_time": "2023-04-08T07:11:50.369Z"
   },
   {
    "duration": 40,
    "start_time": "2023-04-08T07:11:50.388Z"
   },
   {
    "duration": 21,
    "start_time": "2023-04-08T07:11:50.430Z"
   },
   {
    "duration": 7,
    "start_time": "2023-04-08T07:11:50.453Z"
   },
   {
    "duration": 13,
    "start_time": "2023-04-08T07:12:05.783Z"
   },
   {
    "duration": 12,
    "start_time": "2023-04-08T07:12:12.354Z"
   }
  ],
  "colab": {
   "name": "dpp_template_part2.ipynb",
   "provenance": []
  },
  "kernelspec": {
   "display_name": "Python 3 (ipykernel)",
   "language": "python",
   "name": "python3"
  },
  "language_info": {
   "codemirror_mode": {
    "name": "ipython",
    "version": 3
   },
   "file_extension": ".py",
   "mimetype": "text/x-python",
   "name": "python",
   "nbconvert_exporter": "python",
   "pygments_lexer": "ipython3",
   "version": "3.9.12"
  },
  "toc": {
   "base_numbering": 1,
   "nav_menu": {},
   "number_sections": true,
   "sideBar": true,
   "skip_h1_title": true,
   "title_cell": "Table of Contents",
   "title_sidebar": "Contents",
   "toc_cell": true,
   "toc_position": {
    "height": "calc(100% - 180px)",
    "left": "10px",
    "top": "150px",
    "width": "384px"
   },
   "toc_section_display": true,
   "toc_window_display": false
  }
 },
 "nbformat": 4,
 "nbformat_minor": 5
}
